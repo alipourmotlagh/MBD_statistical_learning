{
 "cells": [
  {
   "cell_type": "code",
   "execution_count": 1,
   "id": "08e45b88",
   "metadata": {},
   "outputs": [
    {
     "name": "stderr",
     "output_type": "stream",
     "text": [
      "Loading required package: ParamHelpers\n",
      "\n",
      "Warning message: 'mlr' is in 'maintenance-only' mode since July 2019.\n",
      "Future development will only happen in 'mlr3'\n",
      "(<https://mlr3.mlr-org.com>). Due to the focus on 'mlr3' there might be\n",
      "uncaught bugs meanwhile in {mlr} - please consider switching.\n",
      "\n",
      "Loading required package: ggplot2\n",
      "\n",
      "Loading required package: lattice\n",
      "\n",
      "\n",
      "Attaching package: 'caret'\n",
      "\n",
      "\n",
      "The following object is masked from 'package:mlr':\n",
      "\n",
      "    train\n",
      "\n",
      "\n",
      "Type 'citation(\"pROC\")' for a citation.\n",
      "\n",
      "\n",
      "Attaching package: 'pROC'\n",
      "\n",
      "\n",
      "The following objects are masked from 'package:stats':\n",
      "\n",
      "    cov, smooth, var\n",
      "\n",
      "\n",
      "\n",
      "Attaching package: 'e1071'\n",
      "\n",
      "\n",
      "The following object is masked from 'package:mlr':\n",
      "\n",
      "    impute\n",
      "\n",
      "\n",
      "-- \u001b[1mAttaching packages\u001b[22m ------------------------------------------------------------------------------- tidyverse 1.3.1 --\n",
      "\n",
      "\u001b[32mv\u001b[39m \u001b[34mtibble \u001b[39m 3.1.6     \u001b[32mv\u001b[39m \u001b[34mdplyr  \u001b[39m 1.0.7\n",
      "\u001b[32mv\u001b[39m \u001b[34mtidyr  \u001b[39m 1.1.4     \u001b[32mv\u001b[39m \u001b[34mstringr\u001b[39m 1.4.0\n",
      "\u001b[32mv\u001b[39m \u001b[34mreadr  \u001b[39m 2.1.1     \u001b[32mv\u001b[39m \u001b[34mforcats\u001b[39m 0.5.1\n",
      "\u001b[32mv\u001b[39m \u001b[34mpurrr  \u001b[39m 0.3.4     \n",
      "\n",
      "-- \u001b[1mConflicts\u001b[22m ---------------------------------------------------------------------------------- tidyverse_conflicts() --\n",
      "\u001b[31mx\u001b[39m \u001b[34mdplyr\u001b[39m::\u001b[32mbetween()\u001b[39m   masks \u001b[34mdata.table\u001b[39m::between()\n",
      "\u001b[31mx\u001b[39m \u001b[34mdplyr\u001b[39m::\u001b[32mfilter()\u001b[39m    masks \u001b[34mstats\u001b[39m::filter()\n",
      "\u001b[31mx\u001b[39m \u001b[34mdplyr\u001b[39m::\u001b[32mfirst()\u001b[39m     masks \u001b[34mdata.table\u001b[39m::first()\n",
      "\u001b[31mx\u001b[39m \u001b[34mdplyr\u001b[39m::\u001b[32mlag()\u001b[39m       masks \u001b[34mstats\u001b[39m::lag()\n",
      "\u001b[31mx\u001b[39m \u001b[34mdplyr\u001b[39m::\u001b[32mlast()\u001b[39m      masks \u001b[34mdata.table\u001b[39m::last()\n",
      "\u001b[31mx\u001b[39m \u001b[34mpurrr\u001b[39m::\u001b[32mlift()\u001b[39m      masks \u001b[34mcaret\u001b[39m::lift()\n",
      "\u001b[31mx\u001b[39m \u001b[34mdplyr\u001b[39m::\u001b[32mselect()\u001b[39m    masks \u001b[34mMASS\u001b[39m::select()\n",
      "\u001b[31mx\u001b[39m \u001b[34mpurrr\u001b[39m::\u001b[32mtranspose()\u001b[39m masks \u001b[34mdata.table\u001b[39m::transpose()\n",
      "\n"
     ]
    }
   ],
   "source": [
    "# Import libraries\n",
    "library(data.table)  # Data manipulate\n",
    "library(mlr)         # ML toolkit\n",
    "library(caret)       # ML toolkit\n",
    "library(ggplot2)     # Visualization\n",
    "library(pROC)        # AUC, ROC\n",
    "library(e1071)       # SVM\n",
    "\n",
    "# Import data\n",
    "library(ISLR)      # Data from the course book\n",
    "library(MASS)      # Boston housing dataset\n",
    "library(datasets)  # US crime dataset\n",
    "\n",
    "# Resize plot\n",
    "library(repr)  # String and binary representations\n",
    "#options(repr.plot.width=4, repr.plot.height=4)\n",
    "#par(cex.lab=0.8, cex.axis=0.8, cex.main=0.8, cex.sub=0.8)\n",
    "library(ggplot2)\n",
    "library(data.table)\n",
    "library(tidyverse)\n",
    "library(dplyr)\n",
    "\n",
    "#install.packages()\n",
    "#resource https://blog.princehonest.com/stat-learning/"
   ]
  },
  {
   "cell_type": "markdown",
   "id": "c8ab5b75",
   "metadata": {},
   "source": [
    "# Q3"
   ]
  },
  {
   "cell_type": "code",
   "execution_count": 13,
   "id": "c4bae522",
   "metadata": {},
   "outputs": [
    {
     "data": {
      "text/html": [
       "<table class=\"dataframe\">\n",
       "<caption>A matrix: 6 × 2 of type dbl</caption>\n",
       "<tbody>\n",
       "\t<tr><td>1</td><td>4</td></tr>\n",
       "\t<tr><td>1</td><td>3</td></tr>\n",
       "\t<tr><td>0</td><td>4</td></tr>\n",
       "\t<tr><td>5</td><td>1</td></tr>\n",
       "\t<tr><td>6</td><td>2</td></tr>\n",
       "\t<tr><td>4</td><td>0</td></tr>\n",
       "</tbody>\n",
       "</table>\n"
      ],
      "text/latex": [
       "A matrix: 6 × 2 of type dbl\n",
       "\\begin{tabular}{ll}\n",
       "\t 1 & 4\\\\\n",
       "\t 1 & 3\\\\\n",
       "\t 0 & 4\\\\\n",
       "\t 5 & 1\\\\\n",
       "\t 6 & 2\\\\\n",
       "\t 4 & 0\\\\\n",
       "\\end{tabular}\n"
      ],
      "text/markdown": [
       "\n",
       "A matrix: 6 × 2 of type dbl\n",
       "\n",
       "| 1 | 4 |\n",
       "| 1 | 3 |\n",
       "| 0 | 4 |\n",
       "| 5 | 1 |\n",
       "| 6 | 2 |\n",
       "| 4 | 0 |\n",
       "\n"
      ],
      "text/plain": [
       "     [,1] [,2]\n",
       "[1,] 1    4   \n",
       "[2,] 1    3   \n",
       "[3,] 0    4   \n",
       "[4,] 5    1   \n",
       "[5,] 6    2   \n",
       "[6,] 4    0   "
      ]
     },
     "metadata": {},
     "output_type": "display_data"
    }
   ],
   "source": [
    "set.seed(1)\n",
    "x = cbind(c(1, 1, 0, 5, 6, 4), c(4, 3, 4, 1, 2, 0))\n",
    "x"
   ]
  },
  {
   "cell_type": "code",
   "execution_count": 14,
   "id": "e10412ec",
   "metadata": {},
   "outputs": [
    {
     "data": {
      "image/png": "[encoded data removed]",
      "text/plain": [
       "plot without title"
      ]
     },
     "metadata": {
      "image/png": {
       "height": 420,
       "width": 420
      }
     },
     "output_type": "display_data"
    }
   ],
   "source": [
    "#part a\n",
    "plot(x[,1], x[,2])"
   ]
  },
  {
   "cell_type": "code",
   "execution_count": 15,
   "id": "ea7e8687",
   "metadata": {},
   "outputs": [
    {
     "data": {
      "text/html": [
       "<style>\n",
       ".list-inline {list-style: none; margin:0; padding: 0}\n",
       ".list-inline>li {display: inline-block}\n",
       ".list-inline>li:not(:last-child)::after {content: \"\\00b7\"; padding: 0 .5ex}\n",
       "</style>\n",
       "<ol class=list-inline><li>1</li><li>2</li><li>1</li><li>1</li><li>2</li><li>1</li></ol>\n"
      ],
      "text/latex": [
       "\\begin{enumerate*}\n",
       "\\item 1\n",
       "\\item 2\n",
       "\\item 1\n",
       "\\item 1\n",
       "\\item 2\n",
       "\\item 1\n",
       "\\end{enumerate*}\n"
      ],
      "text/markdown": [
       "1. 1\n",
       "2. 2\n",
       "3. 1\n",
       "4. 1\n",
       "5. 2\n",
       "6. 1\n",
       "\n",
       "\n"
      ],
      "text/plain": [
       "[1] 1 2 1 1 2 1"
      ]
     },
     "metadata": {},
     "output_type": "display_data"
    }
   ],
   "source": [
    "#part B\n",
    "set.seed(1)\n",
    "labels = sample(2, nrow(x), replace=T)\n",
    "labels"
   ]
  },
  {
   "cell_type": "code",
   "execution_count": 16,
   "id": "27d827c4",
   "metadata": {},
   "outputs": [
    {
     "data": {
      "text/html": [
       "<style>\n",
       ".list-inline {list-style: none; margin:0; padding: 0}\n",
       ".list-inline>li {display: inline-block}\n",
       ".list-inline>li:not(:last-child)::after {content: \"\\00b7\"; padding: 0 .5ex}\n",
       "</style>\n",
       "<ol class=list-inline><li>2.5</li><li>2.25</li></ol>\n"
      ],
      "text/latex": [
       "\\begin{enumerate*}\n",
       "\\item 2.5\n",
       "\\item 2.25\n",
       "\\end{enumerate*}\n"
      ],
      "text/markdown": [
       "1. 2.5\n",
       "2. 2.25\n",
       "\n",
       "\n"
      ],
      "text/plain": [
       "[1] 2.50 2.25"
      ]
     },
     "metadata": {},
     "output_type": "display_data"
    }
   ],
   "source": [
    "#part C\n",
    "centroid1 = c(mean(x[labels==1, 1]), mean(x[labels==1, 2]))\n",
    "centroid2 = c(mean(x[labels==2, 1]), mean(x[labels==2, 2]))\n",
    "centroid1"
   ]
  },
  {
   "cell_type": "code",
   "execution_count": 17,
   "id": "4aa37523",
   "metadata": {},
   "outputs": [
    {
     "data": {
      "image/png": "[encoded data removed]",
      "text/plain": [
       "plot without title"
      ]
     },
     "metadata": {
      "image/png": {
       "height": 420,
       "width": 420
      }
     },
     "output_type": "display_data"
    }
   ],
   "source": [
    "plot(x[,1], x[,2], col=(labels+1), pch=20, cex=2)\n",
    "points(centroid1[1], centroid1[2], col=2, pch=4)\n",
    "points(centroid2[1], centroid2[2], col=3, pch=4)"
   ]
  },
  {
   "cell_type": "code",
   "execution_count": 18,
   "id": "2ebf5876",
   "metadata": {},
   "outputs": [
    {
     "data": {
      "text/html": [
       "<style>\n",
       ".list-inline {list-style: none; margin:0; padding: 0}\n",
       ".list-inline>li {display: inline-block}\n",
       ".list-inline>li:not(:last-child)::after {content: \"\\00b7\"; padding: 0 .5ex}\n",
       "</style>\n",
       "<ol class=list-inline><li>1</li><li>1</li><li>1</li><li>2</li><li>2</li><li>2</li></ol>\n"
      ],
      "text/latex": [
       "\\begin{enumerate*}\n",
       "\\item 1\n",
       "\\item 1\n",
       "\\item 1\n",
       "\\item 2\n",
       "\\item 2\n",
       "\\item 2\n",
       "\\end{enumerate*}\n"
      ],
      "text/markdown": [
       "1. 1\n",
       "2. 1\n",
       "3. 1\n",
       "4. 2\n",
       "5. 2\n",
       "6. 2\n",
       "\n",
       "\n"
      ],
      "text/plain": [
       "[1] 1 1 1 2 2 2"
      ]
     },
     "metadata": {},
     "output_type": "display_data"
    }
   ],
   "source": [
    "euclid = function(a, b) {\n",
    "  return(sqrt((a[1] - b[1])^2 + (a[2]-b[2])^2))\n",
    "}\n",
    "assign_labels = function(x, centroid1, centroid2) {\n",
    "  labels = rep(NA, nrow(x))\n",
    "  for (i in 1:nrow(x)) {\n",
    "    if (euclid(x[i,], centroid1) < euclid(x[i,], centroid2)) {\n",
    "      labels[i] = 1\n",
    "    } else {\n",
    "      labels[i] = 2\n",
    "    }\n",
    "  }\n",
    "  return(labels)\n",
    "}\n",
    "labels = assign_labels(x, centroid1, centroid2)\n",
    "labels"
   ]
  },
  {
   "cell_type": "code",
   "execution_count": 20,
   "id": "51b9956c",
   "metadata": {},
   "outputs": [
    {
     "name": "stdout",
     "output_type": "stream",
     "text": [
      "[1] 0.6666667 3.6666667\n",
      "[1] 5 1\n"
     ]
    },
    {
     "data": {
      "text/html": [
       "<style>\n",
       ".list-inline {list-style: none; margin:0; padding: 0}\n",
       ".list-inline>li {display: inline-block}\n",
       ".list-inline>li:not(:last-child)::after {content: \"\\00b7\"; padding: 0 .5ex}\n",
       "</style>\n",
       "<ol class=list-inline><li>1</li><li>1</li><li>1</li><li>2</li><li>2</li><li>2</li></ol>\n"
      ],
      "text/latex": [
       "\\begin{enumerate*}\n",
       "\\item 1\n",
       "\\item 1\n",
       "\\item 1\n",
       "\\item 2\n",
       "\\item 2\n",
       "\\item 2\n",
       "\\end{enumerate*}\n"
      ],
      "text/markdown": [
       "1. 1\n",
       "2. 1\n",
       "3. 1\n",
       "4. 2\n",
       "5. 2\n",
       "6. 2\n",
       "\n",
       "\n"
      ],
      "text/plain": [
       "[1] 1 1 1 2 2 2"
      ]
     },
     "metadata": {},
     "output_type": "display_data"
    }
   ],
   "source": [
    "# part E\n",
    "last_labels = rep(-1, 6)\n",
    "while (!all(last_labels == labels)) {\n",
    "  last_labels = labels\n",
    "  centroid1 = c(mean(x[labels==1, 1]), mean(x[labels==1, 2]))\n",
    "  centroid2 = c(mean(x[labels==2, 1]), mean(x[labels==2, 2]))\n",
    "  print(centroid1)\n",
    "  print(centroid2)\n",
    "  labels = assign_labels(x, centroid1, centroid2)\n",
    "}\n",
    "labels\n"
   ]
  },
  {
   "cell_type": "code",
   "execution_count": 21,
   "id": "85c414d0",
   "metadata": {},
   "outputs": [
    {
     "data": {
      "image/png": "[encoded data removed]",
      "text/plain": [
       "plot without title"
      ]
     },
     "metadata": {
      "image/png": {
       "height": 420,
       "width": 420
      }
     },
     "output_type": "display_data"
    }
   ],
   "source": [
    "#Part F\n",
    "plot(x[,1], x[,2], col=(labels+1), pch=20, cex=2)\n",
    "points(centroid1[1], centroid1[2], col=2, pch=4)\n",
    "points(centroid2[1], centroid2[2], col=3, pch=4)\n"
   ]
  },
  {
   "cell_type": "markdown",
   "id": "bb3bcf00",
   "metadata": {},
   "source": [
    "# Q4"
   ]
  },
  {
   "cell_type": "markdown",
   "id": "b780f1e3",
   "metadata": {},
   "source": [
    "#part a\n",
    "Information is not a straw to the conclusion. The maximum inter-cluster dissimilarity can be equal to or equal to the minimum inter-cluster dissimilarity. If the inequalities were equal, they would be combined at the same height. If they were not equal, the single-link dendrograms would be combined at a lower height."
   ]
  },
  {
   "cell_type": "markdown",
   "id": "ba8fcc78",
   "metadata": {},
   "source": [
    "#part b\n",
    "They fuse at the same height since lincage wont affect leaf-to-leaf fusion"
   ]
  },
  {
   "cell_type": "markdown",
   "id": "bf25faa8",
   "metadata": {},
   "source": [
    "# Q8"
   ]
  },
  {
   "cell_type": "code",
   "execution_count": 22,
   "id": "5c580436",
   "metadata": {},
   "outputs": [
    {
     "data": {
      "text/html": [
       "<style>\n",
       ".list-inline {list-style: none; margin:0; padding: 0}\n",
       ".list-inline>li {display: inline-block}\n",
       ".list-inline>li:not(:last-child)::after {content: \"\\00b7\"; padding: 0 .5ex}\n",
       "</style>\n",
       "<ol class=list-inline><li>0.620060394787374</li><li>0.24744128813496</li><li>0.0891407951452074</li><li>0.0433575219324588</li></ol>\n"
      ],
      "text/latex": [
       "\\begin{enumerate*}\n",
       "\\item 0.620060394787374\n",
       "\\item 0.24744128813496\n",
       "\\item 0.0891407951452074\n",
       "\\item 0.0433575219324588\n",
       "\\end{enumerate*}\n"
      ],
      "text/markdown": [
       "1. 0.620060394787374\n",
       "2. 0.24744128813496\n",
       "3. 0.0891407951452074\n",
       "4. 0.0433575219324588\n",
       "\n",
       "\n"
      ],
      "text/plain": [
       "[1] 0.62006039 0.24744129 0.08914080 0.04335752"
      ]
     },
     "metadata": {},
     "output_type": "display_data"
    }
   ],
   "source": [
    "#part a\n",
    "set.seed(613)\n",
    "pr.out = prcomp(USArrests, center=T, scale=T)\n",
    "pr.var = pr.out$sdev^2\n",
    "pve = pr.var / sum(pr.var)\n",
    "pve"
   ]
  },
  {
   "cell_type": "code",
   "execution_count": 23,
   "id": "38298cf1",
   "metadata": {},
   "outputs": [
    {
     "data": {
      "text/html": [
       "<style>\n",
       ".list-inline {list-style: none; margin:0; padding: 0}\n",
       ".list-inline>li {display: inline-block}\n",
       ".list-inline>li:not(:last-child)::after {content: \"\\00b7\"; padding: 0 .5ex}\n",
       "</style>\n",
       "<ol class=list-inline><li>0.620060394787374</li><li>0.24744128813496</li><li>0.0891407951452075</li><li>0.0433575219324588</li></ol>\n"
      ],
      "text/latex": [
       "\\begin{enumerate*}\n",
       "\\item 0.620060394787374\n",
       "\\item 0.24744128813496\n",
       "\\item 0.0891407951452075\n",
       "\\item 0.0433575219324588\n",
       "\\end{enumerate*}\n"
      ],
      "text/markdown": [
       "1. 0.620060394787374\n",
       "2. 0.24744128813496\n",
       "3. 0.0891407951452075\n",
       "4. 0.0433575219324588\n",
       "\n",
       "\n"
      ],
      "text/plain": [
       "[1] 0.62006039 0.24744129 0.08914080 0.04335752"
      ]
     },
     "metadata": {},
     "output_type": "display_data"
    }
   ],
   "source": [
    "#part b\n",
    "loadings = pr.out$rotation\n",
    "pve2 = rep(NA, 4)\n",
    "dmean = apply(USArrests, 2, mean)\n",
    "dsdev = sqrt(apply(USArrests, 2, var))\n",
    "dsc = sweep(USArrests, MARGIN=2, dmean, \"-\")\n",
    "dsc = sweep(dsc, MARGIN=2, dsdev, \"/\")\n",
    "for (i in 1:4) {\n",
    "  proto_x = sweep(dsc, MARGIN=2, loadings[,i], \"*\")\n",
    "  pc_x = apply(proto_x, 1, sum)\n",
    "  pve2[i] = sum(pc_x^2)\n",
    "}\n",
    "pve2 = pve2/sum(dsc^2)\n",
    "pve2"
   ]
  },
  {
   "cell_type": "markdown",
   "id": "c58117fb",
   "metadata": {},
   "source": [
    "# Q9"
   ]
  },
  {
   "cell_type": "code",
   "execution_count": 24,
   "id": "249e67cc",
   "metadata": {},
   "outputs": [
    {
     "data": {
      "image/png": "[encoded data removed]",
      "text/plain": [
       "Plot with title \"Cluster Dendrogram\""
      ]
     },
     "metadata": {
      "image/png": {
       "height": 420,
       "width": 420
      }
     },
     "output_type": "display_data"
    }
   ],
   "source": [
    "#part a\n",
    "set.seed(613)\n",
    "hc.complete = hclust(dist(USArrests), method=\"complete\")\n",
    "plot(hc.complete)"
   ]
  },
  {
   "cell_type": "code",
   "execution_count": 26,
   "id": "59af9965",
   "metadata": {},
   "outputs": [
    {
     "data": {
      "text/html": [
       "<table class=\"dataframe\">\n",
       "<caption>A data.frame: 50 × 1</caption>\n",
       "<thead>\n",
       "\t<tr><th></th><th scope=col>cutree.hc.complete..3.</th></tr>\n",
       "\t<tr><th></th><th scope=col>&lt;int&gt;</th></tr>\n",
       "</thead>\n",
       "<tbody>\n",
       "\t<tr><th scope=row>Alabama</th><td>1</td></tr>\n",
       "\t<tr><th scope=row>Alaska</th><td>1</td></tr>\n",
       "\t<tr><th scope=row>Arizona</th><td>1</td></tr>\n",
       "\t<tr><th scope=row>Arkansas</th><td>2</td></tr>\n",
       "\t<tr><th scope=row>California</th><td>1</td></tr>\n",
       "\t<tr><th scope=row>Colorado</th><td>2</td></tr>\n",
       "\t<tr><th scope=row>Connecticut</th><td>3</td></tr>\n",
       "\t<tr><th scope=row>Delaware</th><td>1</td></tr>\n",
       "\t<tr><th scope=row>Florida</th><td>1</td></tr>\n",
       "\t<tr><th scope=row>Georgia</th><td>2</td></tr>\n",
       "\t<tr><th scope=row>Hawaii</th><td>3</td></tr>\n",
       "\t<tr><th scope=row>Idaho</th><td>3</td></tr>\n",
       "\t<tr><th scope=row>Illinois</th><td>1</td></tr>\n",
       "\t<tr><th scope=row>Indiana</th><td>3</td></tr>\n",
       "\t<tr><th scope=row>Iowa</th><td>3</td></tr>\n",
       "\t<tr><th scope=row>Kansas</th><td>3</td></tr>\n",
       "\t<tr><th scope=row>Kentucky</th><td>3</td></tr>\n",
       "\t<tr><th scope=row>Louisiana</th><td>1</td></tr>\n",
       "\t<tr><th scope=row>Maine</th><td>3</td></tr>\n",
       "\t<tr><th scope=row>Maryland</th><td>1</td></tr>\n",
       "\t<tr><th scope=row>Massachusetts</th><td>2</td></tr>\n",
       "\t<tr><th scope=row>Michigan</th><td>1</td></tr>\n",
       "\t<tr><th scope=row>Minnesota</th><td>3</td></tr>\n",
       "\t<tr><th scope=row>Mississippi</th><td>1</td></tr>\n",
       "\t<tr><th scope=row>Missouri</th><td>2</td></tr>\n",
       "\t<tr><th scope=row>Montana</th><td>3</td></tr>\n",
       "\t<tr><th scope=row>Nebraska</th><td>3</td></tr>\n",
       "\t<tr><th scope=row>Nevada</th><td>1</td></tr>\n",
       "\t<tr><th scope=row>New Hampshire</th><td>3</td></tr>\n",
       "\t<tr><th scope=row>New Jersey</th><td>2</td></tr>\n",
       "\t<tr><th scope=row>New Mexico</th><td>1</td></tr>\n",
       "\t<tr><th scope=row>New York</th><td>1</td></tr>\n",
       "\t<tr><th scope=row>North Carolina</th><td>1</td></tr>\n",
       "\t<tr><th scope=row>North Dakota</th><td>3</td></tr>\n",
       "\t<tr><th scope=row>Ohio</th><td>3</td></tr>\n",
       "\t<tr><th scope=row>Oklahoma</th><td>2</td></tr>\n",
       "\t<tr><th scope=row>Oregon</th><td>2</td></tr>\n",
       "\t<tr><th scope=row>Pennsylvania</th><td>3</td></tr>\n",
       "\t<tr><th scope=row>Rhode Island</th><td>2</td></tr>\n",
       "\t<tr><th scope=row>South Carolina</th><td>1</td></tr>\n",
       "\t<tr><th scope=row>South Dakota</th><td>3</td></tr>\n",
       "\t<tr><th scope=row>Tennessee</th><td>2</td></tr>\n",
       "\t<tr><th scope=row>Texas</th><td>2</td></tr>\n",
       "\t<tr><th scope=row>Utah</th><td>3</td></tr>\n",
       "\t<tr><th scope=row>Vermont</th><td>3</td></tr>\n",
       "\t<tr><th scope=row>Virginia</th><td>2</td></tr>\n",
       "\t<tr><th scope=row>Washington</th><td>2</td></tr>\n",
       "\t<tr><th scope=row>West Virginia</th><td>3</td></tr>\n",
       "\t<tr><th scope=row>Wisconsin</th><td>3</td></tr>\n",
       "\t<tr><th scope=row>Wyoming</th><td>2</td></tr>\n",
       "</tbody>\n",
       "</table>\n"
      ],
      "text/latex": [
       "A data.frame: 50 × 1\n",
       "\\begin{tabular}{r|l}\n",
       "  & cutree.hc.complete..3.\\\\\n",
       "  & <int>\\\\\n",
       "\\hline\n",
       "\tAlabama & 1\\\\\n",
       "\tAlaska & 1\\\\\n",
       "\tArizona & 1\\\\\n",
       "\tArkansas & 2\\\\\n",
       "\tCalifornia & 1\\\\\n",
       "\tColorado & 2\\\\\n",
       "\tConnecticut & 3\\\\\n",
       "\tDelaware & 1\\\\\n",
       "\tFlorida & 1\\\\\n",
       "\tGeorgia & 2\\\\\n",
       "\tHawaii & 3\\\\\n",
       "\tIdaho & 3\\\\\n",
       "\tIllinois & 1\\\\\n",
       "\tIndiana & 3\\\\\n",
       "\tIowa & 3\\\\\n",
       "\tKansas & 3\\\\\n",
       "\tKentucky & 3\\\\\n",
       "\tLouisiana & 1\\\\\n",
       "\tMaine & 3\\\\\n",
       "\tMaryland & 1\\\\\n",
       "\tMassachusetts & 2\\\\\n",
       "\tMichigan & 1\\\\\n",
       "\tMinnesota & 3\\\\\n",
       "\tMississippi & 1\\\\\n",
       "\tMissouri & 2\\\\\n",
       "\tMontana & 3\\\\\n",
       "\tNebraska & 3\\\\\n",
       "\tNevada & 1\\\\\n",
       "\tNew Hampshire & 3\\\\\n",
       "\tNew Jersey & 2\\\\\n",
       "\tNew Mexico & 1\\\\\n",
       "\tNew York & 1\\\\\n",
       "\tNorth Carolina & 1\\\\\n",
       "\tNorth Dakota & 3\\\\\n",
       "\tOhio & 3\\\\\n",
       "\tOklahoma & 2\\\\\n",
       "\tOregon & 2\\\\\n",
       "\tPennsylvania & 3\\\\\n",
       "\tRhode Island & 2\\\\\n",
       "\tSouth Carolina & 1\\\\\n",
       "\tSouth Dakota & 3\\\\\n",
       "\tTennessee & 2\\\\\n",
       "\tTexas & 2\\\\\n",
       "\tUtah & 3\\\\\n",
       "\tVermont & 3\\\\\n",
       "\tVirginia & 2\\\\\n",
       "\tWashington & 2\\\\\n",
       "\tWest Virginia & 3\\\\\n",
       "\tWisconsin & 3\\\\\n",
       "\tWyoming & 2\\\\\n",
       "\\end{tabular}\n"
      ],
      "text/markdown": [
       "\n",
       "A data.frame: 50 × 1\n",
       "\n",
       "| <!--/--> | cutree.hc.complete..3. &lt;int&gt; |\n",
       "|---|---|\n",
       "| Alabama | 1 |\n",
       "| Alaska | 1 |\n",
       "| Arizona | 1 |\n",
       "| Arkansas | 2 |\n",
       "| California | 1 |\n",
       "| Colorado | 2 |\n",
       "| Connecticut | 3 |\n",
       "| Delaware | 1 |\n",
       "| Florida | 1 |\n",
       "| Georgia | 2 |\n",
       "| Hawaii | 3 |\n",
       "| Idaho | 3 |\n",
       "| Illinois | 1 |\n",
       "| Indiana | 3 |\n",
       "| Iowa | 3 |\n",
       "| Kansas | 3 |\n",
       "| Kentucky | 3 |\n",
       "| Louisiana | 1 |\n",
       "| Maine | 3 |\n",
       "| Maryland | 1 |\n",
       "| Massachusetts | 2 |\n",
       "| Michigan | 1 |\n",
       "| Minnesota | 3 |\n",
       "| Mississippi | 1 |\n",
       "| Missouri | 2 |\n",
       "| Montana | 3 |\n",
       "| Nebraska | 3 |\n",
       "| Nevada | 1 |\n",
       "| New Hampshire | 3 |\n",
       "| New Jersey | 2 |\n",
       "| New Mexico | 1 |\n",
       "| New York | 1 |\n",
       "| North Carolina | 1 |\n",
       "| North Dakota | 3 |\n",
       "| Ohio | 3 |\n",
       "| Oklahoma | 2 |\n",
       "| Oregon | 2 |\n",
       "| Pennsylvania | 3 |\n",
       "| Rhode Island | 2 |\n",
       "| South Carolina | 1 |\n",
       "| South Dakota | 3 |\n",
       "| Tennessee | 2 |\n",
       "| Texas | 2 |\n",
       "| Utah | 3 |\n",
       "| Vermont | 3 |\n",
       "| Virginia | 2 |\n",
       "| Washington | 2 |\n",
       "| West Virginia | 3 |\n",
       "| Wisconsin | 3 |\n",
       "| Wyoming | 2 |\n",
       "\n"
      ],
      "text/plain": [
       "               cutree.hc.complete..3.\n",
       "Alabama        1                     \n",
       "Alaska         1                     \n",
       "Arizona        1                     \n",
       "Arkansas       2                     \n",
       "California     1                     \n",
       "Colorado       2                     \n",
       "Connecticut    3                     \n",
       "Delaware       1                     \n",
       "Florida        1                     \n",
       "Georgia        2                     \n",
       "Hawaii         3                     \n",
       "Idaho          3                     \n",
       "Illinois       1                     \n",
       "Indiana        3                     \n",
       "Iowa           3                     \n",
       "Kansas         3                     \n",
       "Kentucky       3                     \n",
       "Louisiana      1                     \n",
       "Maine          3                     \n",
       "Maryland       1                     \n",
       "Massachusetts  2                     \n",
       "Michigan       1                     \n",
       "Minnesota      3                     \n",
       "Mississippi    1                     \n",
       "Missouri       2                     \n",
       "Montana        3                     \n",
       "Nebraska       3                     \n",
       "Nevada         1                     \n",
       "New Hampshire  3                     \n",
       "New Jersey     2                     \n",
       "New Mexico     1                     \n",
       "New York       1                     \n",
       "North Carolina 1                     \n",
       "North Dakota   3                     \n",
       "Ohio           3                     \n",
       "Oklahoma       2                     \n",
       "Oregon         2                     \n",
       "Pennsylvania   3                     \n",
       "Rhode Island   2                     \n",
       "South Carolina 1                     \n",
       "South Dakota   3                     \n",
       "Tennessee      2                     \n",
       "Texas          2                     \n",
       "Utah           3                     \n",
       "Vermont        3                     \n",
       "Virginia       2                     \n",
       "Washington     2                     \n",
       "West Virginia  3                     \n",
       "Wisconsin      3                     \n",
       "Wyoming        2                     "
      ]
     },
     "metadata": {},
     "output_type": "display_data"
    }
   ],
   "source": [
    "#part b\n",
    "data.frame(cutree(hc.complete, 3))"
   ]
  },
  {
   "cell_type": "code",
   "execution_count": 28,
   "id": "741f39c5",
   "metadata": {},
   "outputs": [
    {
     "data": {
      "text/html": [
       "<table class=\"dataframe\">\n",
       "<caption>A data.frame: 3 × 2</caption>\n",
       "<thead>\n",
       "\t<tr><th scope=col>Var1</th><th scope=col>Freq</th></tr>\n",
       "\t<tr><th scope=col>&lt;fct&gt;</th><th scope=col>&lt;int&gt;</th></tr>\n",
       "</thead>\n",
       "<tbody>\n",
       "\t<tr><td>1</td><td>16</td></tr>\n",
       "\t<tr><td>2</td><td>14</td></tr>\n",
       "\t<tr><td>3</td><td>20</td></tr>\n",
       "</tbody>\n",
       "</table>\n"
      ],
      "text/latex": [
       "A data.frame: 3 × 2\n",
       "\\begin{tabular}{ll}\n",
       " Var1 & Freq\\\\\n",
       " <fct> & <int>\\\\\n",
       "\\hline\n",
       "\t 1 & 16\\\\\n",
       "\t 2 & 14\\\\\n",
       "\t 3 & 20\\\\\n",
       "\\end{tabular}\n"
      ],
      "text/markdown": [
       "\n",
       "A data.frame: 3 × 2\n",
       "\n",
       "| Var1 &lt;fct&gt; | Freq &lt;int&gt; |\n",
       "|---|---|\n",
       "| 1 | 16 |\n",
       "| 2 | 14 |\n",
       "| 3 | 20 |\n",
       "\n"
      ],
      "text/plain": [
       "  Var1 Freq\n",
       "1 1    16  \n",
       "2 2    14  \n",
       "3 3    20  "
      ]
     },
     "metadata": {},
     "output_type": "display_data"
    }
   ],
   "source": [
    "data.frame(table(cutree(hc.complete, 3)))"
   ]
  },
  {
   "cell_type": "code",
   "execution_count": 29,
   "id": "5d431f3d",
   "metadata": {},
   "outputs": [
    {
     "data": {
      "image/png": "[encoded data removed]",
      "text/plain": [
       "Plot with title \"Cluster Dendrogram\""
      ]
     },
     "metadata": {
      "image/png": {
       "height": 420,
       "width": 420
      }
     },
     "output_type": "display_data"
    }
   ],
   "source": [
    "#part c\n",
    "dsc = scale(USArrests)\n",
    "hc.s.complete = hclust(dist(dsc), method=\"complete\")\n",
    "plot(hc.s.complete)"
   ]
  },
  {
   "cell_type": "code",
   "execution_count": 31,
   "id": "c624286d",
   "metadata": {},
   "outputs": [
    {
     "data": {
      "text/html": [
       "<table class=\"dataframe\">\n",
       "<caption>A data.frame: 50 × 1</caption>\n",
       "<thead>\n",
       "\t<tr><th></th><th scope=col>cutree.hc.s.complete..3.</th></tr>\n",
       "\t<tr><th></th><th scope=col>&lt;int&gt;</th></tr>\n",
       "</thead>\n",
       "<tbody>\n",
       "\t<tr><th scope=row>Alabama</th><td>1</td></tr>\n",
       "\t<tr><th scope=row>Alaska</th><td>1</td></tr>\n",
       "\t<tr><th scope=row>Arizona</th><td>2</td></tr>\n",
       "\t<tr><th scope=row>Arkansas</th><td>3</td></tr>\n",
       "\t<tr><th scope=row>California</th><td>2</td></tr>\n",
       "\t<tr><th scope=row>Colorado</th><td>2</td></tr>\n",
       "\t<tr><th scope=row>Connecticut</th><td>3</td></tr>\n",
       "\t<tr><th scope=row>Delaware</th><td>3</td></tr>\n",
       "\t<tr><th scope=row>Florida</th><td>2</td></tr>\n",
       "\t<tr><th scope=row>Georgia</th><td>1</td></tr>\n",
       "\t<tr><th scope=row>Hawaii</th><td>3</td></tr>\n",
       "\t<tr><th scope=row>Idaho</th><td>3</td></tr>\n",
       "\t<tr><th scope=row>Illinois</th><td>2</td></tr>\n",
       "\t<tr><th scope=row>Indiana</th><td>3</td></tr>\n",
       "\t<tr><th scope=row>Iowa</th><td>3</td></tr>\n",
       "\t<tr><th scope=row>Kansas</th><td>3</td></tr>\n",
       "\t<tr><th scope=row>Kentucky</th><td>3</td></tr>\n",
       "\t<tr><th scope=row>Louisiana</th><td>1</td></tr>\n",
       "\t<tr><th scope=row>Maine</th><td>3</td></tr>\n",
       "\t<tr><th scope=row>Maryland</th><td>2</td></tr>\n",
       "\t<tr><th scope=row>Massachusetts</th><td>3</td></tr>\n",
       "\t<tr><th scope=row>Michigan</th><td>2</td></tr>\n",
       "\t<tr><th scope=row>Minnesota</th><td>3</td></tr>\n",
       "\t<tr><th scope=row>Mississippi</th><td>1</td></tr>\n",
       "\t<tr><th scope=row>Missouri</th><td>3</td></tr>\n",
       "\t<tr><th scope=row>Montana</th><td>3</td></tr>\n",
       "\t<tr><th scope=row>Nebraska</th><td>3</td></tr>\n",
       "\t<tr><th scope=row>Nevada</th><td>2</td></tr>\n",
       "\t<tr><th scope=row>New Hampshire</th><td>3</td></tr>\n",
       "\t<tr><th scope=row>New Jersey</th><td>3</td></tr>\n",
       "\t<tr><th scope=row>New Mexico</th><td>2</td></tr>\n",
       "\t<tr><th scope=row>New York</th><td>2</td></tr>\n",
       "\t<tr><th scope=row>North Carolina</th><td>1</td></tr>\n",
       "\t<tr><th scope=row>North Dakota</th><td>3</td></tr>\n",
       "\t<tr><th scope=row>Ohio</th><td>3</td></tr>\n",
       "\t<tr><th scope=row>Oklahoma</th><td>3</td></tr>\n",
       "\t<tr><th scope=row>Oregon</th><td>3</td></tr>\n",
       "\t<tr><th scope=row>Pennsylvania</th><td>3</td></tr>\n",
       "\t<tr><th scope=row>Rhode Island</th><td>3</td></tr>\n",
       "\t<tr><th scope=row>South Carolina</th><td>1</td></tr>\n",
       "\t<tr><th scope=row>South Dakota</th><td>3</td></tr>\n",
       "\t<tr><th scope=row>Tennessee</th><td>1</td></tr>\n",
       "\t<tr><th scope=row>Texas</th><td>2</td></tr>\n",
       "\t<tr><th scope=row>Utah</th><td>3</td></tr>\n",
       "\t<tr><th scope=row>Vermont</th><td>3</td></tr>\n",
       "\t<tr><th scope=row>Virginia</th><td>3</td></tr>\n",
       "\t<tr><th scope=row>Washington</th><td>3</td></tr>\n",
       "\t<tr><th scope=row>West Virginia</th><td>3</td></tr>\n",
       "\t<tr><th scope=row>Wisconsin</th><td>3</td></tr>\n",
       "\t<tr><th scope=row>Wyoming</th><td>3</td></tr>\n",
       "</tbody>\n",
       "</table>\n"
      ],
      "text/latex": [
       "A data.frame: 50 × 1\n",
       "\\begin{tabular}{r|l}\n",
       "  & cutree.hc.s.complete..3.\\\\\n",
       "  & <int>\\\\\n",
       "\\hline\n",
       "\tAlabama & 1\\\\\n",
       "\tAlaska & 1\\\\\n",
       "\tArizona & 2\\\\\n",
       "\tArkansas & 3\\\\\n",
       "\tCalifornia & 2\\\\\n",
       "\tColorado & 2\\\\\n",
       "\tConnecticut & 3\\\\\n",
       "\tDelaware & 3\\\\\n",
       "\tFlorida & 2\\\\\n",
       "\tGeorgia & 1\\\\\n",
       "\tHawaii & 3\\\\\n",
       "\tIdaho & 3\\\\\n",
       "\tIllinois & 2\\\\\n",
       "\tIndiana & 3\\\\\n",
       "\tIowa & 3\\\\\n",
       "\tKansas & 3\\\\\n",
       "\tKentucky & 3\\\\\n",
       "\tLouisiana & 1\\\\\n",
       "\tMaine & 3\\\\\n",
       "\tMaryland & 2\\\\\n",
       "\tMassachusetts & 3\\\\\n",
       "\tMichigan & 2\\\\\n",
       "\tMinnesota & 3\\\\\n",
       "\tMississippi & 1\\\\\n",
       "\tMissouri & 3\\\\\n",
       "\tMontana & 3\\\\\n",
       "\tNebraska & 3\\\\\n",
       "\tNevada & 2\\\\\n",
       "\tNew Hampshire & 3\\\\\n",
       "\tNew Jersey & 3\\\\\n",
       "\tNew Mexico & 2\\\\\n",
       "\tNew York & 2\\\\\n",
       "\tNorth Carolina & 1\\\\\n",
       "\tNorth Dakota & 3\\\\\n",
       "\tOhio & 3\\\\\n",
       "\tOklahoma & 3\\\\\n",
       "\tOregon & 3\\\\\n",
       "\tPennsylvania & 3\\\\\n",
       "\tRhode Island & 3\\\\\n",
       "\tSouth Carolina & 1\\\\\n",
       "\tSouth Dakota & 3\\\\\n",
       "\tTennessee & 1\\\\\n",
       "\tTexas & 2\\\\\n",
       "\tUtah & 3\\\\\n",
       "\tVermont & 3\\\\\n",
       "\tVirginia & 3\\\\\n",
       "\tWashington & 3\\\\\n",
       "\tWest Virginia & 3\\\\\n",
       "\tWisconsin & 3\\\\\n",
       "\tWyoming & 3\\\\\n",
       "\\end{tabular}\n"
      ],
      "text/markdown": [
       "\n",
       "A data.frame: 50 × 1\n",
       "\n",
       "| <!--/--> | cutree.hc.s.complete..3. &lt;int&gt; |\n",
       "|---|---|\n",
       "| Alabama | 1 |\n",
       "| Alaska | 1 |\n",
       "| Arizona | 2 |\n",
       "| Arkansas | 3 |\n",
       "| California | 2 |\n",
       "| Colorado | 2 |\n",
       "| Connecticut | 3 |\n",
       "| Delaware | 3 |\n",
       "| Florida | 2 |\n",
       "| Georgia | 1 |\n",
       "| Hawaii | 3 |\n",
       "| Idaho | 3 |\n",
       "| Illinois | 2 |\n",
       "| Indiana | 3 |\n",
       "| Iowa | 3 |\n",
       "| Kansas | 3 |\n",
       "| Kentucky | 3 |\n",
       "| Louisiana | 1 |\n",
       "| Maine | 3 |\n",
       "| Maryland | 2 |\n",
       "| Massachusetts | 3 |\n",
       "| Michigan | 2 |\n",
       "| Minnesota | 3 |\n",
       "| Mississippi | 1 |\n",
       "| Missouri | 3 |\n",
       "| Montana | 3 |\n",
       "| Nebraska | 3 |\n",
       "| Nevada | 2 |\n",
       "| New Hampshire | 3 |\n",
       "| New Jersey | 3 |\n",
       "| New Mexico | 2 |\n",
       "| New York | 2 |\n",
       "| North Carolina | 1 |\n",
       "| North Dakota | 3 |\n",
       "| Ohio | 3 |\n",
       "| Oklahoma | 3 |\n",
       "| Oregon | 3 |\n",
       "| Pennsylvania | 3 |\n",
       "| Rhode Island | 3 |\n",
       "| South Carolina | 1 |\n",
       "| South Dakota | 3 |\n",
       "| Tennessee | 1 |\n",
       "| Texas | 2 |\n",
       "| Utah | 3 |\n",
       "| Vermont | 3 |\n",
       "| Virginia | 3 |\n",
       "| Washington | 3 |\n",
       "| West Virginia | 3 |\n",
       "| Wisconsin | 3 |\n",
       "| Wyoming | 3 |\n",
       "\n"
      ],
      "text/plain": [
       "               cutree.hc.s.complete..3.\n",
       "Alabama        1                       \n",
       "Alaska         1                       \n",
       "Arizona        2                       \n",
       "Arkansas       3                       \n",
       "California     2                       \n",
       "Colorado       2                       \n",
       "Connecticut    3                       \n",
       "Delaware       3                       \n",
       "Florida        2                       \n",
       "Georgia        1                       \n",
       "Hawaii         3                       \n",
       "Idaho          3                       \n",
       "Illinois       2                       \n",
       "Indiana        3                       \n",
       "Iowa           3                       \n",
       "Kansas         3                       \n",
       "Kentucky       3                       \n",
       "Louisiana      1                       \n",
       "Maine          3                       \n",
       "Maryland       2                       \n",
       "Massachusetts  3                       \n",
       "Michigan       2                       \n",
       "Minnesota      3                       \n",
       "Mississippi    1                       \n",
       "Missouri       3                       \n",
       "Montana        3                       \n",
       "Nebraska       3                       \n",
       "Nevada         2                       \n",
       "New Hampshire  3                       \n",
       "New Jersey     3                       \n",
       "New Mexico     2                       \n",
       "New York       2                       \n",
       "North Carolina 1                       \n",
       "North Dakota   3                       \n",
       "Ohio           3                       \n",
       "Oklahoma       3                       \n",
       "Oregon         3                       \n",
       "Pennsylvania   3                       \n",
       "Rhode Island   3                       \n",
       "South Carolina 1                       \n",
       "South Dakota   3                       \n",
       "Tennessee      1                       \n",
       "Texas          2                       \n",
       "Utah           3                       \n",
       "Vermont        3                       \n",
       "Virginia       3                       \n",
       "Washington     3                       \n",
       "West Virginia  3                       \n",
       "Wisconsin      3                       \n",
       "Wyoming        3                       "
      ]
     },
     "metadata": {},
     "output_type": "display_data"
    }
   ],
   "source": [
    "#Part d\n",
    "data.frame(cutree(hc.s.complete, 3))"
   ]
  },
  {
   "cell_type": "code",
   "execution_count": 33,
   "id": "1c757b32",
   "metadata": {},
   "outputs": [
    {
     "data": {
      "text/html": [
       "<table class=\"dataframe\">\n",
       "<caption>A data.frame: 3 × 2</caption>\n",
       "<thead>\n",
       "\t<tr><th scope=col>Var1</th><th scope=col>Freq</th></tr>\n",
       "\t<tr><th scope=col>&lt;fct&gt;</th><th scope=col>&lt;int&gt;</th></tr>\n",
       "</thead>\n",
       "<tbody>\n",
       "\t<tr><td>1</td><td> 8</td></tr>\n",
       "\t<tr><td>2</td><td>11</td></tr>\n",
       "\t<tr><td>3</td><td>31</td></tr>\n",
       "</tbody>\n",
       "</table>\n"
      ],
      "text/latex": [
       "A data.frame: 3 × 2\n",
       "\\begin{tabular}{ll}\n",
       " Var1 & Freq\\\\\n",
       " <fct> & <int>\\\\\n",
       "\\hline\n",
       "\t 1 &  8\\\\\n",
       "\t 2 & 11\\\\\n",
       "\t 3 & 31\\\\\n",
       "\\end{tabular}\n"
      ],
      "text/markdown": [
       "\n",
       "A data.frame: 3 × 2\n",
       "\n",
       "| Var1 &lt;fct&gt; | Freq &lt;int&gt; |\n",
       "|---|---|\n",
       "| 1 |  8 |\n",
       "| 2 | 11 |\n",
       "| 3 | 31 |\n",
       "\n"
      ],
      "text/plain": [
       "  Var1 Freq\n",
       "1 1     8  \n",
       "2 2    11  \n",
       "3 3    31  "
      ]
     },
     "metadata": {},
     "output_type": "display_data"
    }
   ],
   "source": [
    "data.frame(table(cutree(hc.s.complete, 3)))"
   ]
  },
  {
   "cell_type": "code",
   "execution_count": 34,
   "id": "ca9be789",
   "metadata": {},
   "outputs": [
    {
     "data": {
      "text/html": [
       "<table class=\"dataframe\">\n",
       "<caption>A data.frame: 9 × 3</caption>\n",
       "<thead>\n",
       "\t<tr><th scope=col>Var1</th><th scope=col>Var2</th><th scope=col>Freq</th></tr>\n",
       "\t<tr><th scope=col>&lt;fct&gt;</th><th scope=col>&lt;fct&gt;</th><th scope=col>&lt;int&gt;</th></tr>\n",
       "</thead>\n",
       "<tbody>\n",
       "\t<tr><td>1</td><td>1</td><td> 6</td></tr>\n",
       "\t<tr><td>2</td><td>1</td><td> 9</td></tr>\n",
       "\t<tr><td>3</td><td>1</td><td> 1</td></tr>\n",
       "\t<tr><td>1</td><td>2</td><td> 2</td></tr>\n",
       "\t<tr><td>2</td><td>2</td><td> 2</td></tr>\n",
       "\t<tr><td>3</td><td>2</td><td>10</td></tr>\n",
       "\t<tr><td>1</td><td>3</td><td> 0</td></tr>\n",
       "\t<tr><td>2</td><td>3</td><td> 0</td></tr>\n",
       "\t<tr><td>3</td><td>3</td><td>20</td></tr>\n",
       "</tbody>\n",
       "</table>\n"
      ],
      "text/latex": [
       "A data.frame: 9 × 3\n",
       "\\begin{tabular}{lll}\n",
       " Var1 & Var2 & Freq\\\\\n",
       " <fct> & <fct> & <int>\\\\\n",
       "\\hline\n",
       "\t 1 & 1 &  6\\\\\n",
       "\t 2 & 1 &  9\\\\\n",
       "\t 3 & 1 &  1\\\\\n",
       "\t 1 & 2 &  2\\\\\n",
       "\t 2 & 2 &  2\\\\\n",
       "\t 3 & 2 & 10\\\\\n",
       "\t 1 & 3 &  0\\\\\n",
       "\t 2 & 3 &  0\\\\\n",
       "\t 3 & 3 & 20\\\\\n",
       "\\end{tabular}\n"
      ],
      "text/markdown": [
       "\n",
       "A data.frame: 9 × 3\n",
       "\n",
       "| Var1 &lt;fct&gt; | Var2 &lt;fct&gt; | Freq &lt;int&gt; |\n",
       "|---|---|---|\n",
       "| 1 | 1 |  6 |\n",
       "| 2 | 1 |  9 |\n",
       "| 3 | 1 |  1 |\n",
       "| 1 | 2 |  2 |\n",
       "| 2 | 2 |  2 |\n",
       "| 3 | 2 | 10 |\n",
       "| 1 | 3 |  0 |\n",
       "| 2 | 3 |  0 |\n",
       "| 3 | 3 | 20 |\n",
       "\n"
      ],
      "text/plain": [
       "  Var1 Var2 Freq\n",
       "1 1    1     6  \n",
       "2 2    1     9  \n",
       "3 3    1     1  \n",
       "4 1    2     2  \n",
       "5 2    2     2  \n",
       "6 3    2    10  \n",
       "7 1    3     0  \n",
       "8 2    3     0  \n",
       "9 3    3    20  "
      ]
     },
     "metadata": {},
     "output_type": "display_data"
    }
   ],
   "source": [
    "data.frame(table(cutree(hc.s.complete, 3), cutree(hc.complete, 3)))"
   ]
  },
  {
   "cell_type": "markdown",
   "id": "c309fdb1",
   "metadata": {},
   "source": [
    "Scaling of variables affects the maximum dendrogram height obtained from hierarchical clustering. At a glance, this does not affect the resulting tree plant. However, this affects clusters obtained by cutting the dendrogram into 3 clusters. In my opinion, data should be standardized for this data set because the measured data have different units"
   ]
  },
  {
   "cell_type": "markdown",
   "id": "25f0c754",
   "metadata": {},
   "source": [
    "# Q10"
   ]
  },
  {
   "cell_type": "code",
   "execution_count": 35,
   "id": "f4a536e8",
   "metadata": {},
   "outputs": [],
   "source": [
    "#par a\n",
    "set.seed(613)\n",
    "x = matrix(rnorm(20*3*50, mean=0, sd=0.001), ncol=50)\n",
    "x[1:20, 2] = 1\n",
    "x[21:40, 1] = 2\n",
    "x[21:40, 2] = 2\n",
    "x[41:60, 1] = 1"
   ]
  },
  {
   "cell_type": "code",
   "execution_count": 37,
   "id": "64e45ea5",
   "metadata": {},
   "outputs": [
    {
     "data": {
      "text/plain": [
       "Importance of components:\n",
       "                         PC1    PC2      PC3    PC4      PC5      PC6      PC7\n",
       "Standard deviation     1.008 0.5822 0.001773 0.0017 0.001579 0.001552 0.001489\n",
       "Proportion of Variance 0.750 0.2500 0.000000 0.0000 0.000000 0.000000 0.000000\n",
       "Cumulative Proportion  0.750 1.0000 0.999970 1.0000 0.999970 0.999980 0.999980\n",
       "                            PC8      PC9     PC10     PC11     PC12     PC13\n",
       "Standard deviation     0.001462 0.001399 0.001375 0.001362 0.001311 0.001251\n",
       "Proportion of Variance 0.000000 0.000000 0.000000 0.000000 0.000000 0.000000\n",
       "Cumulative Proportion  0.999980 0.999980 0.999980 0.999980 0.999980 0.999990\n",
       "                           PC14     PC15     PC16     PC17     PC18     PC19\n",
       "Standard deviation     0.001224 0.001204 0.001175 0.001135 0.001094 0.001055\n",
       "Proportion of Variance 0.000000 0.000000 0.000000 0.000000 0.000000 0.000000\n",
       "Cumulative Proportion  0.999990 0.999990 0.999990 0.999990 0.999990 0.999990\n",
       "                           PC20      PC21      PC22      PC23      PC24\n",
       "Standard deviation     0.001027 0.0009661 0.0009532 0.0009128 0.0008837\n",
       "Proportion of Variance 0.000000 0.0000000 0.0000000 0.0000000 0.0000000\n",
       "Cumulative Proportion  0.999990 0.9999900 0.9999900 0.9999900 0.9999900\n",
       "                            PC25      PC26      PC27      PC28      PC29\n",
       "Standard deviation     0.0008581 0.0008306 0.0008099 0.0007654 0.0007141\n",
       "Proportion of Variance 0.0000000 0.0000000 0.0000000 0.0000000 0.0000000\n",
       "Cumulative Proportion  1.0000000 1.0000000 1.0000000 1.0000000 1.0000000\n",
       "                            PC30      PC31      PC32      PC33      PC34\n",
       "Standard deviation     0.0006835 0.0006469 0.0006403 0.0006256 0.0005775\n",
       "Proportion of Variance 0.0000000 0.0000000 0.0000000 0.0000000 0.0000000\n",
       "Cumulative Proportion  1.0000000 1.0000000 1.0000000 1.0000000 1.0000000\n",
       "                            PC35      PC36      PC37      PC38      PC39\n",
       "Standard deviation     0.0005454 0.0005234 0.0005147 0.0004554 0.0004331\n",
       "Proportion of Variance 0.0000000 0.0000000 0.0000000 0.0000000 0.0000000\n",
       "Cumulative Proportion  1.0000000 1.0000000 1.0000000 1.0000000 1.0000000\n",
       "                            PC40      PC41      PC42      PC43      PC44\n",
       "Standard deviation     0.0004031 0.0003738 0.0003714 0.0003529 0.0003294\n",
       "Proportion of Variance 0.0000000 0.0000000 0.0000000 0.0000000 0.0000000\n",
       "Cumulative Proportion  1.0000000 1.0000000 1.0000000 1.0000000 1.0000000\n",
       "                            PC45      PC46      PC47      PC48      PC49\n",
       "Standard deviation     0.0003028 0.0002336 0.0002081 0.0001903 0.0001504\n",
       "Proportion of Variance 0.0000000 0.0000000 0.0000000 0.0000000 0.0000000\n",
       "Cumulative Proportion  1.0000000 1.0000000 1.0000000 1.0000000 1.0000000\n",
       "                            PC50\n",
       "Standard deviation     0.0001156\n",
       "Proportion of Variance 0.0000000\n",
       "Cumulative Proportion  1.0000000"
      ]
     },
     "metadata": {},
     "output_type": "display_data"
    }
   ],
   "source": [
    "#part b\n",
    "pca.out = prcomp(x)\n",
    "summary(pca.out)"
   ]
  },
  {
   "cell_type": "code",
   "execution_count": 38,
   "id": "b89fda62",
   "metadata": {},
   "outputs": [
    {
     "data": {
      "text/html": [
       "<table class=\"dataframe\">\n",
       "<caption>A matrix: 60 × 2 of type dbl</caption>\n",
       "<thead>\n",
       "\t<tr><th scope=col>PC1</th><th scope=col>PC2</th></tr>\n",
       "</thead>\n",
       "<tbody>\n",
       "\t<tr><td>-0.7054601</td><td>-0.7059989691</td></tr>\n",
       "\t<tr><td>-0.7077845</td><td>-0.7083233922</td></tr>\n",
       "\t<tr><td>-0.7072127</td><td>-0.7077546202</td></tr>\n",
       "\t<tr><td>-0.7067832</td><td>-0.7073235242</td></tr>\n",
       "\t<tr><td>-0.7075328</td><td>-0.7080733230</td></tr>\n",
       "\t<tr><td>-0.7066838</td><td>-0.7072229087</td></tr>\n",
       "\t<tr><td>-0.7070697</td><td>-0.7076097730</td></tr>\n",
       "\t<tr><td>-0.7067176</td><td>-0.7072575739</td></tr>\n",
       "\t<tr><td>-0.7074167</td><td>-0.7079551312</td></tr>\n",
       "\t<tr><td>-0.7081725</td><td>-0.7087106475</td></tr>\n",
       "\t<tr><td>-0.7058274</td><td>-0.7063701658</td></tr>\n",
       "\t<tr><td>-0.7063023</td><td>-0.7068410906</td></tr>\n",
       "\t<tr><td>-0.7060420</td><td>-0.7065840226</td></tr>\n",
       "\t<tr><td>-0.7059006</td><td>-0.7064421738</td></tr>\n",
       "\t<tr><td>-0.7069116</td><td>-0.7074511975</td></tr>\n",
       "\t<tr><td>-0.7057593</td><td>-0.7062974645</td></tr>\n",
       "\t<tr><td>-0.7072366</td><td>-0.7077746615</td></tr>\n",
       "\t<tr><td>-0.7072142</td><td>-0.7077511593</td></tr>\n",
       "\t<tr><td>-0.7067100</td><td>-0.7072497665</td></tr>\n",
       "\t<tr><td>-0.7057902</td><td>-0.7063311826</td></tr>\n",
       "\t<tr><td> 1.4142332</td><td> 0.0002591993</td></tr>\n",
       "\t<tr><td> 1.4142330</td><td> 0.0002601619</td></tr>\n",
       "\t<tr><td> 1.4142336</td><td> 0.0002591194</td></tr>\n",
       "\t<tr><td> 1.4142328</td><td> 0.0002593578</td></tr>\n",
       "\t<tr><td> 1.4142347</td><td> 0.0002588663</td></tr>\n",
       "\t<tr><td> 1.4142323</td><td> 0.0002577953</td></tr>\n",
       "\t<tr><td> 1.4142344</td><td> 0.0002611978</td></tr>\n",
       "\t<tr><td> 1.4142335</td><td> 0.0002606936</td></tr>\n",
       "\t<tr><td> 1.4142335</td><td> 0.0002607372</td></tr>\n",
       "\t<tr><td> 1.4142309</td><td> 0.0002628741</td></tr>\n",
       "\t<tr><td> 1.4142339</td><td> 0.0002586295</td></tr>\n",
       "\t<tr><td> 1.4142334</td><td> 0.0002593628</td></tr>\n",
       "\t<tr><td> 1.4142323</td><td> 0.0002614171</td></tr>\n",
       "\t<tr><td> 1.4142319</td><td> 0.0002599382</td></tr>\n",
       "\t<tr><td> 1.4142333</td><td> 0.0002599082</td></tr>\n",
       "\t<tr><td> 1.4142349</td><td> 0.0002595539</td></tr>\n",
       "\t<tr><td> 1.4142340</td><td> 0.0002608684</td></tr>\n",
       "\t<tr><td> 1.4142336</td><td> 0.0002621705</td></tr>\n",
       "\t<tr><td> 1.4142329</td><td> 0.0002598630</td></tr>\n",
       "\t<tr><td> 1.4142336</td><td> 0.0002601322</td></tr>\n",
       "\t<tr><td>-0.7077479</td><td> 0.7072476460</td></tr>\n",
       "\t<tr><td>-0.7084141</td><td> 0.7079147752</td></tr>\n",
       "\t<tr><td>-0.7072308</td><td> 0.7067273504</td></tr>\n",
       "\t<tr><td>-0.7086263</td><td> 0.7081235241</td></tr>\n",
       "\t<tr><td>-0.7080390</td><td> 0.7075399333</td></tr>\n",
       "\t<tr><td>-0.7076762</td><td> 0.7071749906</td></tr>\n",
       "\t<tr><td>-0.7078873</td><td> 0.7073847779</td></tr>\n",
       "\t<tr><td>-0.7078125</td><td> 0.7073123790</td></tr>\n",
       "\t<tr><td>-0.7065494</td><td> 0.7060507599</td></tr>\n",
       "\t<tr><td>-0.7077312</td><td> 0.7072292069</td></tr>\n",
       "\t<tr><td>-0.7070070</td><td> 0.7065067903</td></tr>\n",
       "\t<tr><td>-0.7073729</td><td> 0.7068729189</td></tr>\n",
       "\t<tr><td>-0.7063956</td><td> 0.7058967516</td></tr>\n",
       "\t<tr><td>-0.7070998</td><td> 0.7065993026</td></tr>\n",
       "\t<tr><td>-0.7083533</td><td> 0.7078539572</td></tr>\n",
       "\t<tr><td>-0.7069565</td><td> 0.7064526045</td></tr>\n",
       "\t<tr><td>-0.7080299</td><td> 0.7075285785</td></tr>\n",
       "\t<tr><td>-0.7070832</td><td> 0.7065850909</td></tr>\n",
       "\t<tr><td>-0.7067063</td><td> 0.7062043380</td></tr>\n",
       "\t<tr><td>-0.7074186</td><td> 0.7069152251</td></tr>\n",
       "</tbody>\n",
       "</table>\n"
      ],
      "text/latex": [
       "A matrix: 60 × 2 of type dbl\n",
       "\\begin{tabular}{ll}\n",
       " PC1 & PC2\\\\\n",
       "\\hline\n",
       "\t -0.7054601 & -0.7059989691\\\\\n",
       "\t -0.7077845 & -0.7083233922\\\\\n",
       "\t -0.7072127 & -0.7077546202\\\\\n",
       "\t -0.7067832 & -0.7073235242\\\\\n",
       "\t -0.7075328 & -0.7080733230\\\\\n",
       "\t -0.7066838 & -0.7072229087\\\\\n",
       "\t -0.7070697 & -0.7076097730\\\\\n",
       "\t -0.7067176 & -0.7072575739\\\\\n",
       "\t -0.7074167 & -0.7079551312\\\\\n",
       "\t -0.7081725 & -0.7087106475\\\\\n",
       "\t -0.7058274 & -0.7063701658\\\\\n",
       "\t -0.7063023 & -0.7068410906\\\\\n",
       "\t -0.7060420 & -0.7065840226\\\\\n",
       "\t -0.7059006 & -0.7064421738\\\\\n",
       "\t -0.7069116 & -0.7074511975\\\\\n",
       "\t -0.7057593 & -0.7062974645\\\\\n",
       "\t -0.7072366 & -0.7077746615\\\\\n",
       "\t -0.7072142 & -0.7077511593\\\\\n",
       "\t -0.7067100 & -0.7072497665\\\\\n",
       "\t -0.7057902 & -0.7063311826\\\\\n",
       "\t  1.4142332 &  0.0002591993\\\\\n",
       "\t  1.4142330 &  0.0002601619\\\\\n",
       "\t  1.4142336 &  0.0002591194\\\\\n",
       "\t  1.4142328 &  0.0002593578\\\\\n",
       "\t  1.4142347 &  0.0002588663\\\\\n",
       "\t  1.4142323 &  0.0002577953\\\\\n",
       "\t  1.4142344 &  0.0002611978\\\\\n",
       "\t  1.4142335 &  0.0002606936\\\\\n",
       "\t  1.4142335 &  0.0002607372\\\\\n",
       "\t  1.4142309 &  0.0002628741\\\\\n",
       "\t  1.4142339 &  0.0002586295\\\\\n",
       "\t  1.4142334 &  0.0002593628\\\\\n",
       "\t  1.4142323 &  0.0002614171\\\\\n",
       "\t  1.4142319 &  0.0002599382\\\\\n",
       "\t  1.4142333 &  0.0002599082\\\\\n",
       "\t  1.4142349 &  0.0002595539\\\\\n",
       "\t  1.4142340 &  0.0002608684\\\\\n",
       "\t  1.4142336 &  0.0002621705\\\\\n",
       "\t  1.4142329 &  0.0002598630\\\\\n",
       "\t  1.4142336 &  0.0002601322\\\\\n",
       "\t -0.7077479 &  0.7072476460\\\\\n",
       "\t -0.7084141 &  0.7079147752\\\\\n",
       "\t -0.7072308 &  0.7067273504\\\\\n",
       "\t -0.7086263 &  0.7081235241\\\\\n",
       "\t -0.7080390 &  0.7075399333\\\\\n",
       "\t -0.7076762 &  0.7071749906\\\\\n",
       "\t -0.7078873 &  0.7073847779\\\\\n",
       "\t -0.7078125 &  0.7073123790\\\\\n",
       "\t -0.7065494 &  0.7060507599\\\\\n",
       "\t -0.7077312 &  0.7072292069\\\\\n",
       "\t -0.7070070 &  0.7065067903\\\\\n",
       "\t -0.7073729 &  0.7068729189\\\\\n",
       "\t -0.7063956 &  0.7058967516\\\\\n",
       "\t -0.7070998 &  0.7065993026\\\\\n",
       "\t -0.7083533 &  0.7078539572\\\\\n",
       "\t -0.7069565 &  0.7064526045\\\\\n",
       "\t -0.7080299 &  0.7075285785\\\\\n",
       "\t -0.7070832 &  0.7065850909\\\\\n",
       "\t -0.7067063 &  0.7062043380\\\\\n",
       "\t -0.7074186 &  0.7069152251\\\\\n",
       "\\end{tabular}\n"
      ],
      "text/markdown": [
       "\n",
       "A matrix: 60 × 2 of type dbl\n",
       "\n",
       "| PC1 | PC2 |\n",
       "|---|---|\n",
       "| -0.7054601 | -0.7059989691 |\n",
       "| -0.7077845 | -0.7083233922 |\n",
       "| -0.7072127 | -0.7077546202 |\n",
       "| -0.7067832 | -0.7073235242 |\n",
       "| -0.7075328 | -0.7080733230 |\n",
       "| -0.7066838 | -0.7072229087 |\n",
       "| -0.7070697 | -0.7076097730 |\n",
       "| -0.7067176 | -0.7072575739 |\n",
       "| -0.7074167 | -0.7079551312 |\n",
       "| -0.7081725 | -0.7087106475 |\n",
       "| -0.7058274 | -0.7063701658 |\n",
       "| -0.7063023 | -0.7068410906 |\n",
       "| -0.7060420 | -0.7065840226 |\n",
       "| -0.7059006 | -0.7064421738 |\n",
       "| -0.7069116 | -0.7074511975 |\n",
       "| -0.7057593 | -0.7062974645 |\n",
       "| -0.7072366 | -0.7077746615 |\n",
       "| -0.7072142 | -0.7077511593 |\n",
       "| -0.7067100 | -0.7072497665 |\n",
       "| -0.7057902 | -0.7063311826 |\n",
       "|  1.4142332 |  0.0002591993 |\n",
       "|  1.4142330 |  0.0002601619 |\n",
       "|  1.4142336 |  0.0002591194 |\n",
       "|  1.4142328 |  0.0002593578 |\n",
       "|  1.4142347 |  0.0002588663 |\n",
       "|  1.4142323 |  0.0002577953 |\n",
       "|  1.4142344 |  0.0002611978 |\n",
       "|  1.4142335 |  0.0002606936 |\n",
       "|  1.4142335 |  0.0002607372 |\n",
       "|  1.4142309 |  0.0002628741 |\n",
       "|  1.4142339 |  0.0002586295 |\n",
       "|  1.4142334 |  0.0002593628 |\n",
       "|  1.4142323 |  0.0002614171 |\n",
       "|  1.4142319 |  0.0002599382 |\n",
       "|  1.4142333 |  0.0002599082 |\n",
       "|  1.4142349 |  0.0002595539 |\n",
       "|  1.4142340 |  0.0002608684 |\n",
       "|  1.4142336 |  0.0002621705 |\n",
       "|  1.4142329 |  0.0002598630 |\n",
       "|  1.4142336 |  0.0002601322 |\n",
       "| -0.7077479 |  0.7072476460 |\n",
       "| -0.7084141 |  0.7079147752 |\n",
       "| -0.7072308 |  0.7067273504 |\n",
       "| -0.7086263 |  0.7081235241 |\n",
       "| -0.7080390 |  0.7075399333 |\n",
       "| -0.7076762 |  0.7071749906 |\n",
       "| -0.7078873 |  0.7073847779 |\n",
       "| -0.7078125 |  0.7073123790 |\n",
       "| -0.7065494 |  0.7060507599 |\n",
       "| -0.7077312 |  0.7072292069 |\n",
       "| -0.7070070 |  0.7065067903 |\n",
       "| -0.7073729 |  0.7068729189 |\n",
       "| -0.7063956 |  0.7058967516 |\n",
       "| -0.7070998 |  0.7065993026 |\n",
       "| -0.7083533 |  0.7078539572 |\n",
       "| -0.7069565 |  0.7064526045 |\n",
       "| -0.7080299 |  0.7075285785 |\n",
       "| -0.7070832 |  0.7065850909 |\n",
       "| -0.7067063 |  0.7062043380 |\n",
       "| -0.7074186 |  0.7069152251 |\n",
       "\n"
      ],
      "text/plain": [
       "      PC1        PC2          \n",
       " [1,] -0.7054601 -0.7059989691\n",
       " [2,] -0.7077845 -0.7083233922\n",
       " [3,] -0.7072127 -0.7077546202\n",
       " [4,] -0.7067832 -0.7073235242\n",
       " [5,] -0.7075328 -0.7080733230\n",
       " [6,] -0.7066838 -0.7072229087\n",
       " [7,] -0.7070697 -0.7076097730\n",
       " [8,] -0.7067176 -0.7072575739\n",
       " [9,] -0.7074167 -0.7079551312\n",
       "[10,] -0.7081725 -0.7087106475\n",
       "[11,] -0.7058274 -0.7063701658\n",
       "[12,] -0.7063023 -0.7068410906\n",
       "[13,] -0.7060420 -0.7065840226\n",
       "[14,] -0.7059006 -0.7064421738\n",
       "[15,] -0.7069116 -0.7074511975\n",
       "[16,] -0.7057593 -0.7062974645\n",
       "[17,] -0.7072366 -0.7077746615\n",
       "[18,] -0.7072142 -0.7077511593\n",
       "[19,] -0.7067100 -0.7072497665\n",
       "[20,] -0.7057902 -0.7063311826\n",
       "[21,]  1.4142332  0.0002591993\n",
       "[22,]  1.4142330  0.0002601619\n",
       "[23,]  1.4142336  0.0002591194\n",
       "[24,]  1.4142328  0.0002593578\n",
       "[25,]  1.4142347  0.0002588663\n",
       "[26,]  1.4142323  0.0002577953\n",
       "[27,]  1.4142344  0.0002611978\n",
       "[28,]  1.4142335  0.0002606936\n",
       "[29,]  1.4142335  0.0002607372\n",
       "[30,]  1.4142309  0.0002628741\n",
       "[31,]  1.4142339  0.0002586295\n",
       "[32,]  1.4142334  0.0002593628\n",
       "[33,]  1.4142323  0.0002614171\n",
       "[34,]  1.4142319  0.0002599382\n",
       "[35,]  1.4142333  0.0002599082\n",
       "[36,]  1.4142349  0.0002595539\n",
       "[37,]  1.4142340  0.0002608684\n",
       "[38,]  1.4142336  0.0002621705\n",
       "[39,]  1.4142329  0.0002598630\n",
       "[40,]  1.4142336  0.0002601322\n",
       "[41,] -0.7077479  0.7072476460\n",
       "[42,] -0.7084141  0.7079147752\n",
       "[43,] -0.7072308  0.7067273504\n",
       "[44,] -0.7086263  0.7081235241\n",
       "[45,] -0.7080390  0.7075399333\n",
       "[46,] -0.7076762  0.7071749906\n",
       "[47,] -0.7078873  0.7073847779\n",
       "[48,] -0.7078125  0.7073123790\n",
       "[49,] -0.7065494  0.7060507599\n",
       "[50,] -0.7077312  0.7072292069\n",
       "[51,] -0.7070070  0.7065067903\n",
       "[52,] -0.7073729  0.7068729189\n",
       "[53,] -0.7063956  0.7058967516\n",
       "[54,] -0.7070998  0.7065993026\n",
       "[55,] -0.7083533  0.7078539572\n",
       "[56,] -0.7069565  0.7064526045\n",
       "[57,] -0.7080299  0.7075285785\n",
       "[58,] -0.7070832  0.7065850909\n",
       "[59,] -0.7067063  0.7062043380\n",
       "[60,] -0.7074186  0.7069152251"
      ]
     },
     "metadata": {},
     "output_type": "display_data"
    }
   ],
   "source": [
    "pca.out$x[,1:2]"
   ]
  },
  {
   "cell_type": "code",
   "execution_count": 39,
   "id": "c961a7e7",
   "metadata": {},
   "outputs": [
    {
     "data": {
      "image/png": "[encoded data removed]",
      "text/plain": [
       "plot without title"
      ]
     },
     "metadata": {
      "image/png": {
       "height": 420,
       "width": 420
      }
     },
     "output_type": "display_data"
    }
   ],
   "source": [
    "plot(pca.out$x[,1:2], col=2:4, xlab=\"Z1\", ylab=\"Z2\", pch=19) "
   ]
  },
  {
   "cell_type": "code",
   "execution_count": 42,
   "id": "bde256b3",
   "metadata": {},
   "outputs": [
    {
     "data": {
      "text/html": [
       "<table class=\"dataframe\">\n",
       "<caption>A data.frame: 9 × 3</caption>\n",
       "<thead>\n",
       "\t<tr><th scope=col>Var1</th><th scope=col>Var2</th><th scope=col>Freq</th></tr>\n",
       "\t<tr><th scope=col>&lt;fct&gt;</th><th scope=col>&lt;fct&gt;</th><th scope=col>&lt;int&gt;</th></tr>\n",
       "</thead>\n",
       "<tbody>\n",
       "\t<tr><td>1</td><td>1</td><td> 0</td></tr>\n",
       "\t<tr><td>2</td><td>1</td><td> 0</td></tr>\n",
       "\t<tr><td>3</td><td>1</td><td>20</td></tr>\n",
       "\t<tr><td>1</td><td>2</td><td>20</td></tr>\n",
       "\t<tr><td>2</td><td>2</td><td> 0</td></tr>\n",
       "\t<tr><td>3</td><td>2</td><td> 0</td></tr>\n",
       "\t<tr><td>1</td><td>3</td><td> 0</td></tr>\n",
       "\t<tr><td>2</td><td>3</td><td>20</td></tr>\n",
       "\t<tr><td>3</td><td>3</td><td> 0</td></tr>\n",
       "</tbody>\n",
       "</table>\n"
      ],
      "text/latex": [
       "A data.frame: 9 × 3\n",
       "\\begin{tabular}{lll}\n",
       " Var1 & Var2 & Freq\\\\\n",
       " <fct> & <fct> & <int>\\\\\n",
       "\\hline\n",
       "\t 1 & 1 &  0\\\\\n",
       "\t 2 & 1 &  0\\\\\n",
       "\t 3 & 1 & 20\\\\\n",
       "\t 1 & 2 & 20\\\\\n",
       "\t 2 & 2 &  0\\\\\n",
       "\t 3 & 2 &  0\\\\\n",
       "\t 1 & 3 &  0\\\\\n",
       "\t 2 & 3 & 20\\\\\n",
       "\t 3 & 3 &  0\\\\\n",
       "\\end{tabular}\n"
      ],
      "text/markdown": [
       "\n",
       "A data.frame: 9 × 3\n",
       "\n",
       "| Var1 &lt;fct&gt; | Var2 &lt;fct&gt; | Freq &lt;int&gt; |\n",
       "|---|---|---|\n",
       "| 1 | 1 |  0 |\n",
       "| 2 | 1 |  0 |\n",
       "| 3 | 1 | 20 |\n",
       "| 1 | 2 | 20 |\n",
       "| 2 | 2 |  0 |\n",
       "| 3 | 2 |  0 |\n",
       "| 1 | 3 |  0 |\n",
       "| 2 | 3 | 20 |\n",
       "| 3 | 3 |  0 |\n",
       "\n"
      ],
      "text/plain": [
       "  Var1 Var2 Freq\n",
       "1 1    1     0  \n",
       "2 2    1     0  \n",
       "3 3    1    20  \n",
       "4 1    2    20  \n",
       "5 2    2     0  \n",
       "6 3    2     0  \n",
       "7 1    3     0  \n",
       "8 2    3    20  \n",
       "9 3    3     0  "
      ]
     },
     "metadata": {},
     "output_type": "display_data"
    }
   ],
   "source": [
    "#part c\n",
    "km.out = kmeans(x, 3, nstart=20)\n",
    "data.frame(table(km.out$cluster, c(rep(1,20), rep(2,20), rep(3,20))))"
   ]
  },
  {
   "cell_type": "code",
   "execution_count": 44,
   "id": "b67787a0",
   "metadata": {},
   "outputs": [
    {
     "data": {
      "text/html": [
       "<style>\n",
       ".list-inline {list-style: none; margin:0; padding: 0}\n",
       ".list-inline>li {display: inline-block}\n",
       ".list-inline>li:not(:last-child)::after {content: \"\\00b7\"; padding: 0 .5ex}\n",
       "</style>\n",
       "<ol class=list-inline><li>1</li><li>1</li><li>1</li><li>1</li><li>1</li><li>1</li><li>1</li><li>1</li><li>1</li><li>1</li><li>1</li><li>1</li><li>1</li><li>1</li><li>1</li><li>1</li><li>1</li><li>1</li><li>1</li><li>1</li><li>2</li><li>2</li><li>2</li><li>2</li><li>2</li><li>2</li><li>2</li><li>2</li><li>2</li><li>2</li><li>2</li><li>2</li><li>2</li><li>2</li><li>2</li><li>2</li><li>2</li><li>2</li><li>2</li><li>2</li><li>1</li><li>1</li><li>1</li><li>1</li><li>1</li><li>1</li><li>1</li><li>1</li><li>1</li><li>1</li><li>1</li><li>1</li><li>1</li><li>1</li><li>1</li><li>1</li><li>1</li><li>1</li><li>1</li><li>1</li></ol>\n"
      ],
      "text/latex": [
       "\\begin{enumerate*}\n",
       "\\item 1\n",
       "\\item 1\n",
       "\\item 1\n",
       "\\item 1\n",
       "\\item 1\n",
       "\\item 1\n",
       "\\item 1\n",
       "\\item 1\n",
       "\\item 1\n",
       "\\item 1\n",
       "\\item 1\n",
       "\\item 1\n",
       "\\item 1\n",
       "\\item 1\n",
       "\\item 1\n",
       "\\item 1\n",
       "\\item 1\n",
       "\\item 1\n",
       "\\item 1\n",
       "\\item 1\n",
       "\\item 2\n",
       "\\item 2\n",
       "\\item 2\n",
       "\\item 2\n",
       "\\item 2\n",
       "\\item 2\n",
       "\\item 2\n",
       "\\item 2\n",
       "\\item 2\n",
       "\\item 2\n",
       "\\item 2\n",
       "\\item 2\n",
       "\\item 2\n",
       "\\item 2\n",
       "\\item 2\n",
       "\\item 2\n",
       "\\item 2\n",
       "\\item 2\n",
       "\\item 2\n",
       "\\item 2\n",
       "\\item 1\n",
       "\\item 1\n",
       "\\item 1\n",
       "\\item 1\n",
       "\\item 1\n",
       "\\item 1\n",
       "\\item 1\n",
       "\\item 1\n",
       "\\item 1\n",
       "\\item 1\n",
       "\\item 1\n",
       "\\item 1\n",
       "\\item 1\n",
       "\\item 1\n",
       "\\item 1\n",
       "\\item 1\n",
       "\\item 1\n",
       "\\item 1\n",
       "\\item 1\n",
       "\\item 1\n",
       "\\end{enumerate*}\n"
      ],
      "text/markdown": [
       "1. 1\n",
       "2. 1\n",
       "3. 1\n",
       "4. 1\n",
       "5. 1\n",
       "6. 1\n",
       "7. 1\n",
       "8. 1\n",
       "9. 1\n",
       "10. 1\n",
       "11. 1\n",
       "12. 1\n",
       "13. 1\n",
       "14. 1\n",
       "15. 1\n",
       "16. 1\n",
       "17. 1\n",
       "18. 1\n",
       "19. 1\n",
       "20. 1\n",
       "21. 2\n",
       "22. 2\n",
       "23. 2\n",
       "24. 2\n",
       "25. 2\n",
       "26. 2\n",
       "27. 2\n",
       "28. 2\n",
       "29. 2\n",
       "30. 2\n",
       "31. 2\n",
       "32. 2\n",
       "33. 2\n",
       "34. 2\n",
       "35. 2\n",
       "36. 2\n",
       "37. 2\n",
       "38. 2\n",
       "39. 2\n",
       "40. 2\n",
       "41. 1\n",
       "42. 1\n",
       "43. 1\n",
       "44. 1\n",
       "45. 1\n",
       "46. 1\n",
       "47. 1\n",
       "48. 1\n",
       "49. 1\n",
       "50. 1\n",
       "51. 1\n",
       "52. 1\n",
       "53. 1\n",
       "54. 1\n",
       "55. 1\n",
       "56. 1\n",
       "57. 1\n",
       "58. 1\n",
       "59. 1\n",
       "60. 1\n",
       "\n",
       "\n"
      ],
      "text/plain": [
       " [1] 1 1 1 1 1 1 1 1 1 1 1 1 1 1 1 1 1 1 1 1 2 2 2 2 2 2 2 2 2 2 2 2 2 2 2 2 2 2\n",
       "[39] 2 2 1 1 1 1 1 1 1 1 1 1 1 1 1 1 1 1 1 1 1 1"
      ]
     },
     "metadata": {},
     "output_type": "display_data"
    }
   ],
   "source": [
    "#part d\n",
    "km.out = kmeans(x, 2, nstart=20)\n",
    "km.out$cluster"
   ]
  },
  {
   "cell_type": "code",
   "execution_count": 48,
   "id": "703ca011",
   "metadata": {},
   "outputs": [
    {
     "data": {
      "text/html": [
       "<style>\n",
       ".list-inline {list-style: none; margin:0; padding: 0}\n",
       ".list-inline>li {display: inline-block}\n",
       ".list-inline>li:not(:last-child)::after {content: \"\\00b7\"; padding: 0 .5ex}\n",
       "</style>\n",
       "<ol class=list-inline><li>2</li><li>1</li><li>1</li><li>1</li><li>1</li><li>1</li><li>2</li><li>1</li><li>1</li><li>1</li><li>2</li><li>2</li><li>1</li><li>2</li><li>2</li><li>2</li><li>1</li><li>1</li><li>2</li><li>2</li><li>4</li><li>4</li><li>4</li><li>4</li><li>4</li><li>4</li><li>4</li><li>4</li><li>4</li><li>4</li><li>4</li><li>4</li><li>4</li><li>4</li><li>4</li><li>4</li><li>4</li><li>4</li><li>4</li><li>4</li><li>3</li><li>3</li><li>3</li><li>3</li><li>3</li><li>3</li><li>3</li><li>3</li><li>3</li><li>3</li><li>3</li><li>3</li><li>3</li><li>3</li><li>3</li><li>3</li><li>3</li><li>3</li><li>3</li><li>3</li></ol>\n"
      ],
      "text/latex": [
       "\\begin{enumerate*}\n",
       "\\item 2\n",
       "\\item 1\n",
       "\\item 1\n",
       "\\item 1\n",
       "\\item 1\n",
       "\\item 1\n",
       "\\item 2\n",
       "\\item 1\n",
       "\\item 1\n",
       "\\item 1\n",
       "\\item 2\n",
       "\\item 2\n",
       "\\item 1\n",
       "\\item 2\n",
       "\\item 2\n",
       "\\item 2\n",
       "\\item 1\n",
       "\\item 1\n",
       "\\item 2\n",
       "\\item 2\n",
       "\\item 4\n",
       "\\item 4\n",
       "\\item 4\n",
       "\\item 4\n",
       "\\item 4\n",
       "\\item 4\n",
       "\\item 4\n",
       "\\item 4\n",
       "\\item 4\n",
       "\\item 4\n",
       "\\item 4\n",
       "\\item 4\n",
       "\\item 4\n",
       "\\item 4\n",
       "\\item 4\n",
       "\\item 4\n",
       "\\item 4\n",
       "\\item 4\n",
       "\\item 4\n",
       "\\item 4\n",
       "\\item 3\n",
       "\\item 3\n",
       "\\item 3\n",
       "\\item 3\n",
       "\\item 3\n",
       "\\item 3\n",
       "\\item 3\n",
       "\\item 3\n",
       "\\item 3\n",
       "\\item 3\n",
       "\\item 3\n",
       "\\item 3\n",
       "\\item 3\n",
       "\\item 3\n",
       "\\item 3\n",
       "\\item 3\n",
       "\\item 3\n",
       "\\item 3\n",
       "\\item 3\n",
       "\\item 3\n",
       "\\end{enumerate*}\n"
      ],
      "text/markdown": [
       "1. 2\n",
       "2. 1\n",
       "3. 1\n",
       "4. 1\n",
       "5. 1\n",
       "6. 1\n",
       "7. 2\n",
       "8. 1\n",
       "9. 1\n",
       "10. 1\n",
       "11. 2\n",
       "12. 2\n",
       "13. 1\n",
       "14. 2\n",
       "15. 2\n",
       "16. 2\n",
       "17. 1\n",
       "18. 1\n",
       "19. 2\n",
       "20. 2\n",
       "21. 4\n",
       "22. 4\n",
       "23. 4\n",
       "24. 4\n",
       "25. 4\n",
       "26. 4\n",
       "27. 4\n",
       "28. 4\n",
       "29. 4\n",
       "30. 4\n",
       "31. 4\n",
       "32. 4\n",
       "33. 4\n",
       "34. 4\n",
       "35. 4\n",
       "36. 4\n",
       "37. 4\n",
       "38. 4\n",
       "39. 4\n",
       "40. 4\n",
       "41. 3\n",
       "42. 3\n",
       "43. 3\n",
       "44. 3\n",
       "45. 3\n",
       "46. 3\n",
       "47. 3\n",
       "48. 3\n",
       "49. 3\n",
       "50. 3\n",
       "51. 3\n",
       "52. 3\n",
       "53. 3\n",
       "54. 3\n",
       "55. 3\n",
       "56. 3\n",
       "57. 3\n",
       "58. 3\n",
       "59. 3\n",
       "60. 3\n",
       "\n",
       "\n"
      ],
      "text/plain": [
       " [1] 2 1 1 1 1 1 2 1 1 1 2 2 1 2 2 2 1 1 2 2 4 4 4 4 4 4 4 4 4 4 4 4 4 4 4 4 4 4\n",
       "[39] 4 4 3 3 3 3 3 3 3 3 3 3 3 3 3 3 3 3 3 3 3 3"
      ]
     },
     "metadata": {},
     "output_type": "display_data"
    }
   ],
   "source": [
    "#part e\n",
    "km.out = kmeans(x, 4, nstart=20)\n",
    "km.out$cluster"
   ]
  },
  {
   "cell_type": "code",
   "execution_count": 49,
   "id": "fad5cf40",
   "metadata": {},
   "outputs": [
    {
     "data": {
      "text/html": [
       "<table class=\"dataframe\">\n",
       "<caption>A data.frame: 9 × 3</caption>\n",
       "<thead>\n",
       "\t<tr><th scope=col>Var1</th><th scope=col>Var2</th><th scope=col>Freq</th></tr>\n",
       "\t<tr><th scope=col>&lt;fct&gt;</th><th scope=col>&lt;fct&gt;</th><th scope=col>&lt;int&gt;</th></tr>\n",
       "</thead>\n",
       "<tbody>\n",
       "\t<tr><td>1</td><td>1</td><td>20</td></tr>\n",
       "\t<tr><td>2</td><td>1</td><td> 0</td></tr>\n",
       "\t<tr><td>3</td><td>1</td><td> 0</td></tr>\n",
       "\t<tr><td>1</td><td>2</td><td> 0</td></tr>\n",
       "\t<tr><td>2</td><td>2</td><td>20</td></tr>\n",
       "\t<tr><td>3</td><td>2</td><td> 0</td></tr>\n",
       "\t<tr><td>1</td><td>3</td><td> 0</td></tr>\n",
       "\t<tr><td>2</td><td>3</td><td> 0</td></tr>\n",
       "\t<tr><td>3</td><td>3</td><td>20</td></tr>\n",
       "</tbody>\n",
       "</table>\n"
      ],
      "text/latex": [
       "A data.frame: 9 × 3\n",
       "\\begin{tabular}{lll}\n",
       " Var1 & Var2 & Freq\\\\\n",
       " <fct> & <fct> & <int>\\\\\n",
       "\\hline\n",
       "\t 1 & 1 & 20\\\\\n",
       "\t 2 & 1 &  0\\\\\n",
       "\t 3 & 1 &  0\\\\\n",
       "\t 1 & 2 &  0\\\\\n",
       "\t 2 & 2 & 20\\\\\n",
       "\t 3 & 2 &  0\\\\\n",
       "\t 1 & 3 &  0\\\\\n",
       "\t 2 & 3 &  0\\\\\n",
       "\t 3 & 3 & 20\\\\\n",
       "\\end{tabular}\n"
      ],
      "text/markdown": [
       "\n",
       "A data.frame: 9 × 3\n",
       "\n",
       "| Var1 &lt;fct&gt; | Var2 &lt;fct&gt; | Freq &lt;int&gt; |\n",
       "|---|---|---|\n",
       "| 1 | 1 | 20 |\n",
       "| 2 | 1 |  0 |\n",
       "| 3 | 1 |  0 |\n",
       "| 1 | 2 |  0 |\n",
       "| 2 | 2 | 20 |\n",
       "| 3 | 2 |  0 |\n",
       "| 1 | 3 |  0 |\n",
       "| 2 | 3 |  0 |\n",
       "| 3 | 3 | 20 |\n",
       "\n"
      ],
      "text/plain": [
       "  Var1 Var2 Freq\n",
       "1 1    1    20  \n",
       "2 2    1     0  \n",
       "3 3    1     0  \n",
       "4 1    2     0  \n",
       "5 2    2    20  \n",
       "6 3    2     0  \n",
       "7 1    3     0  \n",
       "8 2    3     0  \n",
       "9 3    3    20  "
      ]
     },
     "metadata": {},
     "output_type": "display_data"
    }
   ],
   "source": [
    "#part f\n",
    "km.out = kmeans(pca.out$x[,1:2], 3, nstart=20)\n",
    "data.frame(table(km.out$cluster, c(rep(1,20), rep(2,20), rep(3,20))))"
   ]
  },
  {
   "cell_type": "code",
   "execution_count": 50,
   "id": "0643d206",
   "metadata": {},
   "outputs": [
    {
     "data": {
      "text/html": [
       "<style>\n",
       ".list-inline {list-style: none; margin:0; padding: 0}\n",
       ".list-inline>li {display: inline-block}\n",
       ".list-inline>li:not(:last-child)::after {content: \"\\00b7\"; padding: 0 .5ex}\n",
       "</style>\n",
       "<ol class=list-inline><li>2</li><li>2</li><li>3</li><li>3</li><li>3</li><li>3</li><li>2</li><li>2</li><li>3</li><li>2</li><li>1</li><li>2</li><li>3</li><li>1</li><li>2</li><li>2</li><li>2</li><li>2</li><li>2</li><li>1</li><li>1</li><li>3</li><li>1</li><li>3</li><li>1</li><li>3</li><li>1</li><li>1</li><li>3</li><li>2</li><li>3</li><li>1</li><li>2</li><li>3</li><li>3</li><li>1</li><li>1</li><li>1</li><li>1</li><li>3</li><li>2</li><li>2</li><li>2</li><li>2</li><li>2</li><li>2</li><li>2</li><li>3</li><li>1</li><li>2</li><li>2</li><li>2</li><li>2</li><li>2</li><li>2</li><li>2</li><li>3</li><li>3</li><li>3</li><li>2</li></ol>\n"
      ],
      "text/latex": [
       "\\begin{enumerate*}\n",
       "\\item 2\n",
       "\\item 2\n",
       "\\item 3\n",
       "\\item 3\n",
       "\\item 3\n",
       "\\item 3\n",
       "\\item 2\n",
       "\\item 2\n",
       "\\item 3\n",
       "\\item 2\n",
       "\\item 1\n",
       "\\item 2\n",
       "\\item 3\n",
       "\\item 1\n",
       "\\item 2\n",
       "\\item 2\n",
       "\\item 2\n",
       "\\item 2\n",
       "\\item 2\n",
       "\\item 1\n",
       "\\item 1\n",
       "\\item 3\n",
       "\\item 1\n",
       "\\item 3\n",
       "\\item 1\n",
       "\\item 3\n",
       "\\item 1\n",
       "\\item 1\n",
       "\\item 3\n",
       "\\item 2\n",
       "\\item 3\n",
       "\\item 1\n",
       "\\item 2\n",
       "\\item 3\n",
       "\\item 3\n",
       "\\item 1\n",
       "\\item 1\n",
       "\\item 1\n",
       "\\item 1\n",
       "\\item 3\n",
       "\\item 2\n",
       "\\item 2\n",
       "\\item 2\n",
       "\\item 2\n",
       "\\item 2\n",
       "\\item 2\n",
       "\\item 2\n",
       "\\item 3\n",
       "\\item 1\n",
       "\\item 2\n",
       "\\item 2\n",
       "\\item 2\n",
       "\\item 2\n",
       "\\item 2\n",
       "\\item 2\n",
       "\\item 2\n",
       "\\item 3\n",
       "\\item 3\n",
       "\\item 3\n",
       "\\item 2\n",
       "\\end{enumerate*}\n"
      ],
      "text/markdown": [
       "1. 2\n",
       "2. 2\n",
       "3. 3\n",
       "4. 3\n",
       "5. 3\n",
       "6. 3\n",
       "7. 2\n",
       "8. 2\n",
       "9. 3\n",
       "10. 2\n",
       "11. 1\n",
       "12. 2\n",
       "13. 3\n",
       "14. 1\n",
       "15. 2\n",
       "16. 2\n",
       "17. 2\n",
       "18. 2\n",
       "19. 2\n",
       "20. 1\n",
       "21. 1\n",
       "22. 3\n",
       "23. 1\n",
       "24. 3\n",
       "25. 1\n",
       "26. 3\n",
       "27. 1\n",
       "28. 1\n",
       "29. 3\n",
       "30. 2\n",
       "31. 3\n",
       "32. 1\n",
       "33. 2\n",
       "34. 3\n",
       "35. 3\n",
       "36. 1\n",
       "37. 1\n",
       "38. 1\n",
       "39. 1\n",
       "40. 3\n",
       "41. 2\n",
       "42. 2\n",
       "43. 2\n",
       "44. 2\n",
       "45. 2\n",
       "46. 2\n",
       "47. 2\n",
       "48. 3\n",
       "49. 1\n",
       "50. 2\n",
       "51. 2\n",
       "52. 2\n",
       "53. 2\n",
       "54. 2\n",
       "55. 2\n",
       "56. 2\n",
       "57. 3\n",
       "58. 3\n",
       "59. 3\n",
       "60. 2\n",
       "\n",
       "\n"
      ],
      "text/plain": [
       " [1] 2 2 3 3 3 3 2 2 3 2 1 2 3 1 2 2 2 2 2 1 1 3 1 3 1 3 1 1 3 2 3 1 2 3 3 1 1 1\n",
       "[39] 1 3 2 2 2 2 2 2 2 3 1 2 2 2 2 2 2 2 3 3 3 2"
      ]
     },
     "metadata": {},
     "output_type": "display_data"
    }
   ],
   "source": [
    "#part g\n",
    "km.out = kmeans(scale(x), 3, nstart=20)\n",
    "km.out$cluster"
   ]
  },
  {
   "cell_type": "markdown",
   "id": "e85c3605",
   "metadata": {},
   "source": [
    "Poorer results than (b): the scaling of the observations effects the distance between them."
   ]
  },
  {
   "cell_type": "code",
   "execution_count": null,
   "id": "d17f8f17",
   "metadata": {},
   "outputs": [],
   "source": []
  }
 ],
 "metadata": {
  "kernelspec": {
   "display_name": "R",
   "language": "R",
   "name": "ir"
  },
  "language_info": {
   "codemirror_mode": "r",
   "file_extension": ".r",
   "mimetype": "text/x-r-source",
   "name": "R",
   "pygments_lexer": "r",
   "version": "4.0.5"
  }
 },
 "nbformat": 4,
 "nbformat_minor": 5
}
