{
 "cells": [
  {
   "cell_type": "markdown",
   "id": "a3d422fd",
   "metadata": {},
   "source": [
    "### Q1"
   ]
  },
  {
   "cell_type": "markdown",
   "id": "227796a0",
   "metadata": {},
   "source": [
    "#### part-a\n",
    "the model that have K equal to number of p will have the smallest RSS"
   ]
  },
  {
   "cell_type": "markdown",
   "id": "0cf9a019",
   "metadata": {},
   "source": [
    "#### part-b \n",
    "we cant say anything with the given data, we need to look at the results of the models"
   ]
  },
  {
   "cell_type": "markdown",
   "id": "c82d50a4",
   "metadata": {},
   "source": [
    "#### part-c\n",
    "i.TRUE , ii. TRUE , iii. FALSE , iv. FALSE , v. FALSE"
   ]
  },
  {
   "cell_type": "markdown",
   "id": "76b89f27",
   "metadata": {},
   "source": [
    "### Q9"
   ]
  },
  {
   "cell_type": "code",
   "execution_count": 1,
   "id": "e3c716be",
   "metadata": {},
   "outputs": [
    {
     "name": "stdout",
     "output_type": "stream",
     "text": [
      "'data.frame':\t777 obs. of  18 variables:\n",
      " $ Private    : Factor w/ 2 levels \"No\",\"Yes\": 2 2 2 2 2 2 2 2 2 2 ...\n",
      " $ Apps       : num  1660 2186 1428 417 193 ...\n",
      " $ Accept     : num  1232 1924 1097 349 146 ...\n",
      " $ Enroll     : num  721 512 336 137 55 158 103 489 227 172 ...\n",
      " $ Top10perc  : num  23 16 22 60 16 38 17 37 30 21 ...\n",
      " $ Top25perc  : num  52 29 50 89 44 62 45 68 63 44 ...\n",
      " $ F.Undergrad: num  2885 2683 1036 510 249 ...\n",
      " $ P.Undergrad: num  537 1227 99 63 869 ...\n",
      " $ Outstate   : num  7440 12280 11250 12960 7560 ...\n",
      " $ Room.Board : num  3300 6450 3750 5450 4120 ...\n",
      " $ Books      : num  450 750 400 450 800 500 500 450 300 660 ...\n",
      " $ Personal   : num  2200 1500 1165 875 1500 ...\n",
      " $ PhD        : num  70 29 53 92 76 67 90 89 79 40 ...\n",
      " $ Terminal   : num  78 30 66 97 72 73 93 100 84 41 ...\n",
      " $ S.F.Ratio  : num  18.1 12.2 12.9 7.7 11.9 9.4 11.5 13.7 11.3 11.5 ...\n",
      " $ perc.alumni: num  12 16 30 37 2 11 26 37 23 15 ...\n",
      " $ Expend     : num  7041 10527 8735 19016 10922 ...\n",
      " $ Grad.Rate  : num  60 56 54 59 15 55 63 73 80 52 ...\n"
     ]
    }
   ],
   "source": [
    "library(ISLR)\n",
    "str(College)"
   ]
  },
  {
   "cell_type": "markdown",
   "id": "70db107e",
   "metadata": {},
   "source": [
    "<p>Private\n",
    "A factor with levels No and Yes indicating private or public university\n",
    "</p>\n",
    "<p>\n",
    "Apps\n",
    "Number of applications received\n",
    "</p>\n",
    "<p>\n",
    "Accept\n",
    "Number of applications accepted\n",
    "</p>\n",
    "<p>\n",
    "Enroll\n",
    "Number of new students enrolled\n",
    "</p>\n",
    "<p>\n",
    "Top10perc\n",
    "Pct. new students from top 10% of H.S. class\n",
    "</p>\n",
    "<p>\n",
    "Top25perc\n",
    "Pct. new students from top 25% of H.S. class\n",
    "</p>\n",
    "<p>\n",
    "F.Undergrad\n",
    "Number of fulltime undergraduates\n",
    "</p>\n",
    "<p>\n",
    "P.Undergrad\n",
    "Number of parttime undergraduates\n",
    "</p>\n",
    "<p>\n",
    "Outstate\n",
    "Out-of-state tuition\n",
    "</p>\n",
    "<p>\n",
    "Room.Board\n",
    "Room and board costs\n",
    "</p>\n",
    "<p>\n",
    "Books\n",
    "Estimated book costs\n",
    "</p>\n",
    "<p>\n",
    "Personal\n",
    "Estimated personal spending\n",
    "</p>\n",
    "<p>\n",
    "PhD\n",
    "Pct. of faculty with Ph.D.'s\n",
    "</p>\n",
    "<p>\n",
    "Terminal\n",
    "Pct. of faculty with terminal degree\n",
    "</p>\n",
    "<p>\n",
    "S.F.Ratio\n",
    "Student/faculty ratio\n",
    "</p>\n",
    "<p>\n",
    "perc.alumni\n",
    "Pct. alumni who donate\n",
    "</p>\n",
    "<p>\n",
    "Expend\n",
    "Instructional expenditure per student\n",
    "</p>\n",
    "<p>\n",
    "Grad.Rate\n",
    "Graduation rate</p>\n"
   ]
  },
  {
   "cell_type": "code",
   "execution_count": 6,
   "id": "c21ebc9f",
   "metadata": {},
   "outputs": [
    {
     "name": "stdout",
     "output_type": "stream",
     "text": [
      "'data.frame':\t777 obs. of  18 variables:\n",
      " $ Private    : num  1 1 1 1 1 1 1 1 1 1 ...\n",
      " $ Apps       : num  1660 2186 1428 417 193 ...\n",
      " $ Accept     : num  1232 1924 1097 349 146 ...\n",
      " $ Enroll     : num  721 512 336 137 55 158 103 489 227 172 ...\n",
      " $ Top10perc  : num  23 16 22 60 16 38 17 37 30 21 ...\n",
      " $ Top25perc  : num  52 29 50 89 44 62 45 68 63 44 ...\n",
      " $ F.Undergrad: num  2885 2683 1036 510 249 ...\n",
      " $ P.Undergrad: num  537 1227 99 63 869 ...\n",
      " $ Outstate   : num  7440 12280 11250 12960 7560 ...\n",
      " $ Room.Board : num  3300 6450 3750 5450 4120 ...\n",
      " $ Books      : num  450 750 400 450 800 500 500 450 300 660 ...\n",
      " $ Personal   : num  2200 1500 1165 875 1500 ...\n",
      " $ PhD        : num  70 29 53 92 76 67 90 89 79 40 ...\n",
      " $ Terminal   : num  78 30 66 97 72 73 93 100 84 41 ...\n",
      " $ S.F.Ratio  : num  18.1 12.2 12.9 7.7 11.9 9.4 11.5 13.7 11.3 11.5 ...\n",
      " $ perc.alumni: num  12 16 30 37 2 11 26 37 23 15 ...\n",
      " $ Expend     : num  7041 10527 8735 19016 10922 ...\n",
      " $ Grad.Rate  : num  60 56 54 59 15 55 63 73 80 52 ...\n"
     ]
    }
   ],
   "source": [
    "collage<-College\n",
    "collage$Private <- as.numeric(collage$Private=='Yes')\n",
    "str(collage)"
   ]
  },
  {
   "cell_type": "code",
   "execution_count": 7,
   "id": "3433e269",
   "metadata": {},
   "outputs": [],
   "source": [
    "set.seed(123)\n",
    "#seting the row indexes\n",
    "index <- sample(1:nrow(collage), round(0.5 * nrow(collage), 0))\n",
    "#spliting data based on the index\n",
    "train <- collage[index, ]\n",
    "test <- collage[-index, ]"
   ]
  },
  {
   "cell_type": "code",
   "execution_count": 8,
   "id": "dba922b8",
   "metadata": {},
   "outputs": [
    {
     "name": "stdout",
     "output_type": "stream",
     "text": [
      "[1] 1373995\n"
     ]
    }
   ],
   "source": [
    "#part b\n",
    "\n",
    "linear <- lm(Apps ~ ., data=train)\n",
    "predict_lr <- predict(linear, newdata=test)\n",
    "MSE <- mean((predict_lr - test$Apps)^2)\n",
    "print(MSE)"
   ]
  },
  {
   "cell_type": "code",
   "execution_count": 20,
   "id": "32d82abb",
   "metadata": {},
   "outputs": [
    {
     "data": {
      "text/html": [
       "<style>\n",
       ".list-inline {list-style: none; margin:0; padding: 0}\n",
       ".list-inline>li {display: inline-block}\n",
       ".list-inline>li:not(:last-child)::after {content: \"\\00b7\"; padding: 0 .5ex}\n",
       "</style>\n",
       "<ol class=list-inline><li>'Private'</li><li>'Accept'</li><li>'Enroll'</li><li>'Top10perc'</li><li>'Top25perc'</li><li>'F.Undergrad'</li><li>'P.Undergrad'</li><li>'Outstate'</li><li>'Room.Board'</li><li>'Books'</li><li>'Personal'</li><li>'PhD'</li><li>'Terminal'</li><li>'S.F.Ratio'</li><li>'perc.alumni'</li><li>'Expend'</li><li>'Grad.Rate'</li></ol>\n"
      ],
      "text/latex": [
       "\\begin{enumerate*}\n",
       "\\item 'Private'\n",
       "\\item 'Accept'\n",
       "\\item 'Enroll'\n",
       "\\item 'Top10perc'\n",
       "\\item 'Top25perc'\n",
       "\\item 'F.Undergrad'\n",
       "\\item 'P.Undergrad'\n",
       "\\item 'Outstate'\n",
       "\\item 'Room.Board'\n",
       "\\item 'Books'\n",
       "\\item 'Personal'\n",
       "\\item 'PhD'\n",
       "\\item 'Terminal'\n",
       "\\item 'S.F.Ratio'\n",
       "\\item 'perc.alumni'\n",
       "\\item 'Expend'\n",
       "\\item 'Grad.Rate'\n",
       "\\end{enumerate*}\n"
      ],
      "text/markdown": [
       "1. 'Private'\n",
       "2. 'Accept'\n",
       "3. 'Enroll'\n",
       "4. 'Top10perc'\n",
       "5. 'Top25perc'\n",
       "6. 'F.Undergrad'\n",
       "7. 'P.Undergrad'\n",
       "8. 'Outstate'\n",
       "9. 'Room.Board'\n",
       "10. 'Books'\n",
       "11. 'Personal'\n",
       "12. 'PhD'\n",
       "13. 'Terminal'\n",
       "14. 'S.F.Ratio'\n",
       "15. 'perc.alumni'\n",
       "16. 'Expend'\n",
       "17. 'Grad.Rate'\n",
       "\n",
       "\n"
      ],
      "text/plain": [
       " [1] \"Private\"     \"Accept\"      \"Enroll\"      \"Top10perc\"   \"Top25perc\"  \n",
       " [6] \"F.Undergrad\" \"P.Undergrad\" \"Outstate\"    \"Room.Board\"  \"Books\"      \n",
       "[11] \"Personal\"    \"PhD\"         \"Terminal\"    \"S.F.Ratio\"   \"perc.alumni\"\n",
       "[16] \"Expend\"      \"Grad.Rate\"  "
      ]
     },
     "metadata": {},
     "output_type": "display_data"
    }
   ],
   "source": [
    "library(dplyr)\n",
    "selected_columns=colnames(train%>%select(-Apps))\n",
    "selected_columns"
   ]
  },
  {
   "cell_type": "code",
   "execution_count": 21,
   "id": "471e8652",
   "metadata": {},
   "outputs": [
    {
     "name": "stdout",
     "output_type": "stream",
     "text": [
      "[1] \"optimum lambda = 301.951830995818\"\n"
     ]
    },
    {
     "data": {
      "image/png": "[encoded data removed]",
      "text/plain": [
       "plot without title"
      ]
     },
     "metadata": {
      "image/png": {
       "height": 420,
       "width": 420
      }
     },
     "output_type": "display_data"
    }
   ],
   "source": [
    "library(glmnet)\n",
    "#part c\n",
    "#finding lambda\n",
    "model_lambda <- cv.glmnet(as.matrix(train[, selected_columns]), train$Apps, alpha=0)\n",
    "plot(model_lambda)\n",
    "print(paste('optimum lambda =', model_lambda$lambda.min))"
   ]
  },
  {
   "cell_type": "code",
   "execution_count": 22,
   "id": "ad76b7d1",
   "metadata": {},
   "outputs": [
    {
     "data": {
      "text/html": [
       "2090324.79126949"
      ],
      "text/latex": [
       "2090324.79126949"
      ],
      "text/markdown": [
       "2090324.79126949"
      ],
      "text/plain": [
       "[1] 2090325"
      ]
     },
     "metadata": {},
     "output_type": "display_data"
    }
   ],
   "source": [
    "optimum_lambda <- glmnet(as.matrix(train[, selected_columns]), train$Apps, alpha=0)\n",
    "predict_ol <- predict(best_lambda, s=model_lambda$lambda.min, newx=as.matrix(test[, selected_columns]))\n",
    "MSE_lambda <- mean((predict_ol - test$Apps)^2)\n",
    "MSE_lambda"
   ]
  },
  {
   "cell_type": "code",
   "execution_count": 27,
   "id": "424d190e",
   "metadata": {},
   "outputs": [
    {
     "name": "stdout",
     "output_type": "stream",
     "text": [
      "[1] \"optimum lambda = 21.8033649568256\"\n"
     ]
    },
    {
     "data": {
      "image/png": "[encoded data removed]",
      "text/plain": [
       "plot without title"
      ]
     },
     "metadata": {
      "image/png": {
       "height": 420,
       "width": 420
      }
     },
     "output_type": "display_data"
    }
   ],
   "source": [
    "#part d\n",
    "model_lambda_2 <- cv.glmnet(as.matrix(train[, selected_columns]), train$Apps, alpha=1)\n",
    "plot(model_lambda_2) \n",
    "print(paste('optimum lambda =', model_lambda_2$lambda.min))\n"
   ]
  },
  {
   "cell_type": "code",
   "execution_count": 28,
   "id": "2d42508a",
   "metadata": {},
   "outputs": [
    {
     "data": {
      "text/html": [
       "1397440.81459503"
      ],
      "text/latex": [
       "1397440.81459503"
      ],
      "text/markdown": [
       "1397440.81459503"
      ],
      "text/plain": [
       "[1] 1397441"
      ]
     },
     "metadata": {},
     "output_type": "display_data"
    }
   ],
   "source": [
    "optimum_lambda_2 <- glmnet(as.matrix(train[, selected_columns]), train$Apps, alpha=1)\n",
    "predict_ol_2 <- predict(optimum_lambda_2, s=model_lambda_2$lambda.min, newx=as.matrix(test[, selected_columns]))\n",
    "MSE_lambda_2 <- mean((predict_ol_2 - test$Apps)^2)\n",
    "MSE_lambda_2"
   ]
  },
  {
   "cell_type": "code",
   "execution_count": 29,
   "id": "99c33b9e",
   "metadata": {},
   "outputs": [
    {
     "data": {
      "text/plain": [
       "18 x 1 sparse Matrix of class \"dgCMatrix\"\n",
       "                       s1\n",
       "(Intercept) -418.22147808\n",
       "Private     -716.37997956\n",
       "Accept         1.33113147\n",
       "Enroll         .         \n",
       "Top10perc     27.00073512\n",
       "Top25perc      .         \n",
       "F.Undergrad    .         \n",
       "P.Undergrad    .         \n",
       "Outstate      -0.03043228\n",
       "Room.Board     0.12790570\n",
       "Books          .         \n",
       "Personal      -0.04267135\n",
       "PhD           -3.33073565\n",
       "Terminal      -6.00347283\n",
       "S.F.Ratio      .         \n",
       "perc.alumni   -7.14464654\n",
       "Expend         0.07628963\n",
       "Grad.Rate      7.57325530"
      ]
     },
     "metadata": {},
     "output_type": "display_data"
    }
   ],
   "source": [
    "predict(optimum_lambda_2, type='coefficients', s=model_lambda_2$lambda.min)"
   ]
  },
  {
   "cell_type": "code",
   "execution_count": 33,
   "id": "63544b35",
   "metadata": {},
   "outputs": [
    {
     "data": {
      "text/html": [
       "1373994.68331753"
      ],
      "text/latex": [
       "1373994.68331753"
      ],
      "text/markdown": [
       "1373994.68331753"
      ],
      "text/plain": [
       "[1] 1373995"
      ]
     },
     "metadata": {},
     "output_type": "display_data"
    },
    {
     "data": {
      "image/png": "[encoded data removed]",
      "text/plain": [
       "Plot with title \"Apps\""
      ]
     },
     "metadata": {
      "image/png": {
       "height": 420,
       "width": 420
      }
     },
     "output_type": "display_data"
    }
   ],
   "source": [
    "#part e\n",
    "library(pls) \n",
    "model_pcr <- pcr(Apps ~ ., data=train, scale=TRUE, validation='CV')\n",
    "validationplot(model_pcr, val.type='MSEP')\n",
    "pred_pcr <- predict(model_pcr, newdata=test, ncomp=17)\n",
    "MSE_pcr <- mean((pred_pcr - test$Apps)^2)\n",
    "MSE_pcr"
   ]
  },
  {
   "cell_type": "code",
   "execution_count": 34,
   "id": "8dd22237",
   "metadata": {},
   "outputs": [
    {
     "data": {
      "text/html": [
       "1458480.62734582"
      ],
      "text/latex": [
       "1458480.62734582"
      ],
      "text/markdown": [
       "1458480.62734582"
      ],
      "text/plain": [
       "[1] 1458481"
      ]
     },
     "metadata": {},
     "output_type": "display_data"
    },
    {
     "data": {
      "image/png": "[encoded data removed]",
      "text/plain": [
       "Plot with title \"Apps\""
      ]
     },
     "metadata": {
      "image/png": {
       "height": 420,
       "width": 420
      }
     },
     "output_type": "display_data"
    }
   ],
   "source": [
    "#part f\n",
    "model_pls <- plsr(Apps ~ ., data=train, scale=TRUE, validation='CV')\n",
    "validationplot(model_pls, val.type='MSEP')\n",
    "pred_pls <- predict(model_pls, newdata=test, ncomp=6)\n",
    "MSE_pls <- mean((pred_pls - test$Apps)^2)\n",
    "MSE_pls"
   ]
  },
  {
   "cell_type": "markdown",
   "id": "357ba92f",
   "metadata": {},
   "source": [
    "#### part f\n",
    "<p>based on linear regresion we can predict number of application to collage with MSE of 1373995</p>\n",
    "<p>the best model is pcr because the MSE is the lowest,</p>\n"
   ]
  },
  {
   "cell_type": "code",
   "execution_count": null,
   "id": "f84ca0f3",
   "metadata": {},
   "outputs": [],
   "source": []
  }
 ],
 "metadata": {
  "kernelspec": {
   "display_name": "R",
   "language": "R",
   "name": "ir"
  },
  "language_info": {
   "codemirror_mode": "r",
   "file_extension": ".r",
   "mimetype": "text/x-r-source",
   "name": "R",
   "pygments_lexer": "r",
   "version": "4.0.5"
  }
 },
 "nbformat": 4,
 "nbformat_minor": 5
}
