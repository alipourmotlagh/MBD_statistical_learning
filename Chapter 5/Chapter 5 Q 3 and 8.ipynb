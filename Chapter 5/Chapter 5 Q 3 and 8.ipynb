{
 "cells": [
  {
   "cell_type": "markdown",
   "id": "e0cc7e19",
   "metadata": {},
   "source": [
    "### Q3"
   ]
  },
  {
   "cell_type": "markdown",
   "id": "5b3c7c31",
   "metadata": {},
   "source": [
    "#### part a: \n",
    "<p>K fold approach involves randomly deviding the set of observation into k groups, or fold of approximately equal size, the first fold is treated as a validation set, and the method is fit on the remaining k-1 folds , the mean square error is then computed on the observation in the held-out fold. this procedure is repeated k times each time a diferent group of observation is treated as a validation set. this process result in k estimates of the test error k-fold CV estimate is computed by averaging these values.</p>"
   ]
  },
  {
   "cell_type": "markdown",
   "id": "f3473a3c",
   "metadata": {},
   "source": [
    "#### part b\n",
    "<p>\n",
    "Validation set approach: K fold is better than validation set approach when the data size is small, but K fold is slower and more complex\n",
    "</p>\n",
    "<p>\n",
    "LOOCV:  Kfold it is faster and the variance of k fold is smaller than LOOCV,, if the data size is too small maybe we cant use kfold\n",
    "</p>"
   ]
  },
  {
   "cell_type": "markdown",
   "id": "a738a57b",
   "metadata": {},
   "source": [
    "### Q8"
   ]
  },
  {
   "cell_type": "code",
   "execution_count": null,
   "id": "d5ee887f",
   "metadata": {},
   "outputs": [],
   "source": []
  },
  {
   "cell_type": "code",
   "execution_count": null,
   "id": "b5c55f9f",
   "metadata": {},
   "outputs": [],
   "source": []
  },
  {
   "cell_type": "code",
   "execution_count": null,
   "id": "9ea21951",
   "metadata": {},
   "outputs": [],
   "source": []
  }
 ],
 "metadata": {
  "kernelspec": {
   "display_name": "R",
   "language": "R",
   "name": "ir"
  },
  "language_info": {
   "codemirror_mode": "r",
   "file_extension": ".r",
   "mimetype": "text/x-r-source",
   "name": "R",
   "pygments_lexer": "r",
   "version": "4.0.5"
  }
 },
 "nbformat": 4,
 "nbformat_minor": 5
}
