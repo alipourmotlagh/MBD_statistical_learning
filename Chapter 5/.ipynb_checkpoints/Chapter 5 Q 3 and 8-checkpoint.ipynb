{
 "cells": [
  {
   "cell_type": "markdown",
   "id": "d99414ec",
   "metadata": {},
   "source": [
    "### Q3"
   ]
  },
  {
   "cell_type": "markdown",
   "id": "521bf3ba",
   "metadata": {},
   "source": [
    "#### part a: \n",
    "<p>K fold approach involves randomly deviding the set of observation into k groups, or fold of approximately equal size, the first fold is treated as a validation set, and the method is fit on the remaining k-1 folds , the mean square error is then computed on the observation in the held-out fold. this procedure is repeated k times each time a diferent group of observation is treated as a validation set. this process result in k estimates of the test error k-fold CV estimate is computed by averaging these values.</p>"
   ]
  },
  {
   "cell_type": "markdown",
   "id": "7e9f7e58",
   "metadata": {},
   "source": [
    "#### part b\n",
    "<p>\n",
    "Validation set approach: K fold is better than validation set approach when the data size is small, but K fold is slower and more complex\n",
    "</p>\n",
    "<p>\n",
    "LOOCV:  Kfold it is faster and the variance of k fold is smaller than LOOCV,, if the data size is too small maybe we cant use kfold\n",
    "</p>"
   ]
  },
  {
   "cell_type": "markdown",
   "id": "5a59d95d",
   "metadata": {},
   "source": [
    "### Q8"
   ]
  },
  {
   "cell_type": "code",
   "execution_count": 1,
   "id": "9933282c",
   "metadata": {},
   "outputs": [],
   "source": [
    "#part a\n",
    "set.seed(1)\n",
    "x <- rnorm(100)\n",
    "y <- x - 2*x^2 + rnorm(100)"
   ]
  },
  {
   "cell_type": "code",
   "execution_count": 2,
   "id": "3847f366",
   "metadata": {},
   "outputs": [
    {
     "data": {
      "image/png": "[encoded data removed]",
      "text/plain": [
       "plot without title"
      ]
     },
     "metadata": {
      "image/png": {
       "height": 420,
       "width": 420
      }
     },
     "output_type": "display_data"
    }
   ],
   "source": [
    "#part b\n",
    "plot(x, y)"
   ]
  },
  {
   "cell_type": "code",
   "execution_count": 5,
   "id": "6b28471a",
   "metadata": {},
   "outputs": [
    {
     "data": {
      "text/html": [
       "<ol>\n",
       "\t<li>7.28816160667281</li>\n",
       "\t<li>0.937423637615551</li>\n",
       "\t<li>0.95662183010894</li>\n",
       "\t<li>0.953904892744804</li>\n",
       "</ol>\n"
      ],
      "text/latex": [
       "\\begin{enumerate}\n",
       "\\item 7.28816160667281\n",
       "\\item 0.937423637615551\n",
       "\\item 0.95662183010894\n",
       "\\item 0.953904892744804\n",
       "\\end{enumerate}\n"
      ],
      "text/markdown": [
       "1. 7.28816160667281\n",
       "2. 0.937423637615551\n",
       "3. 0.95662183010894\n",
       "4. 0.953904892744804\n",
       "\n",
       "\n"
      ],
      "text/plain": [
       "[[1]]\n",
       "[1] 7.288162\n",
       "\n",
       "[[2]]\n",
       "[1] 0.9374236\n",
       "\n",
       "[[3]]\n",
       "[1] 0.9566218\n",
       "\n",
       "[[4]]\n",
       "[1] 0.9539049\n"
      ]
     },
     "metadata": {},
     "output_type": "display_data"
    }
   ],
   "source": [
    "#part c\n",
    "library(boot) \n",
    "data<-data.frame(x,y)\n",
    "loocv_error<-list()\n",
    "\n",
    "set.seed(613)\n",
    "for (i in 1:4) {\n",
    "    model<- glm(y ∼ poly(x, i), data=data)\n",
    "    result<- cv.glm(data, model)\n",
    "    loocv_error[i]<-result$delta[1]\n",
    "}\n",
    "\n",
    "loocv_error"
   ]
  },
  {
   "cell_type": "code",
   "execution_count": 6,
   "id": "697838a4",
   "metadata": {},
   "outputs": [
    {
     "data": {
      "text/html": [
       "<ol>\n",
       "\t<li>7.28816160667281</li>\n",
       "\t<li>0.937423637615552</li>\n",
       "\t<li>0.956621830108939</li>\n",
       "\t<li>0.953904892744804</li>\n",
       "</ol>\n"
      ],
      "text/latex": [
       "\\begin{enumerate}\n",
       "\\item 7.28816160667281\n",
       "\\item 0.937423637615552\n",
       "\\item 0.956621830108939\n",
       "\\item 0.953904892744804\n",
       "\\end{enumerate}\n"
      ],
      "text/markdown": [
       "1. 7.28816160667281\n",
       "2. 0.937423637615552\n",
       "3. 0.956621830108939\n",
       "4. 0.953904892744804\n",
       "\n",
       "\n"
      ],
      "text/plain": [
       "[[1]]\n",
       "[1] 7.288162\n",
       "\n",
       "[[2]]\n",
       "[1] 0.9374236\n",
       "\n",
       "[[3]]\n",
       "[1] 0.9566218\n",
       "\n",
       "[[4]]\n",
       "[1] 0.9539049\n"
      ]
     },
     "metadata": {},
     "output_type": "display_data"
    }
   ],
   "source": [
    "#part d\n",
    "data<-data.frame(x,y)\n",
    "loocv_error<-list()\n",
    "\n",
    "set.seed(123)\n",
    "for (i in 1:4) {\n",
    "    model<- glm(y ∼ poly(x, i), data=data)\n",
    "    result<- cv.glm(data, model)\n",
    "    loocv_error[i]<-result$delta[1]\n",
    "}\n",
    "\n",
    "loocv_error"
   ]
  },
  {
   "cell_type": "markdown",
   "id": "7013ec25",
   "metadata": {},
   "source": [
    "#### part-e\n",
    "the second polynomial has lower error since the data shape is also kind of polynomial with degree of 2"
   ]
  },
  {
   "cell_type": "code",
   "execution_count": 7,
   "id": "8dc7df3c",
   "metadata": {},
   "outputs": [
    {
     "name": "stdout",
     "output_type": "stream",
     "text": [
      "\n",
      "Call:\n",
      "glm(formula = y ~ poly(x, i), data = data)\n",
      "\n",
      "Deviance Residuals: \n",
      "    Min       1Q   Median       3Q      Max  \n",
      "-9.5161  -0.6800   0.6812   1.5491   3.8183  \n",
      "\n",
      "Coefficients:\n",
      "            Estimate Std. Error t value Pr(>|t|)    \n",
      "(Intercept)   -1.550      0.260  -5.961 3.95e-08 ***\n",
      "poly(x, i)     6.189      2.600   2.380   0.0192 *  \n",
      "---\n",
      "Signif. codes:  0 '***' 0.001 '**' 0.01 '*' 0.05 '.' 0.1 ' ' 1\n",
      "\n",
      "(Dispersion parameter for gaussian family taken to be 6.760719)\n",
      "\n",
      "    Null deviance: 700.85  on 99  degrees of freedom\n",
      "Residual deviance: 662.55  on 98  degrees of freedom\n",
      "AIC: 478.88\n",
      "\n",
      "Number of Fisher Scoring iterations: 2\n",
      "\n",
      "\n",
      "Call:\n",
      "glm(formula = y ~ poly(x, i), data = data)\n",
      "\n",
      "Deviance Residuals: \n",
      "    Min       1Q   Median       3Q      Max  \n",
      "-1.9650  -0.6254  -0.1288   0.5803   2.2700  \n",
      "\n",
      "Coefficients:\n",
      "            Estimate Std. Error t value Pr(>|t|)    \n",
      "(Intercept)  -1.5500     0.0958  -16.18  < 2e-16 ***\n",
      "poly(x, i)1   6.1888     0.9580    6.46 4.18e-09 ***\n",
      "poly(x, i)2 -23.9483     0.9580  -25.00  < 2e-16 ***\n",
      "---\n",
      "Signif. codes:  0 '***' 0.001 '**' 0.01 '*' 0.05 '.' 0.1 ' ' 1\n",
      "\n",
      "(Dispersion parameter for gaussian family taken to be 0.9178258)\n",
      "\n",
      "    Null deviance: 700.852  on 99  degrees of freedom\n",
      "Residual deviance:  89.029  on 97  degrees of freedom\n",
      "AIC: 280.17\n",
      "\n",
      "Number of Fisher Scoring iterations: 2\n",
      "\n",
      "\n",
      "Call:\n",
      "glm(formula = y ~ poly(x, i), data = data)\n",
      "\n",
      "Deviance Residuals: \n",
      "    Min       1Q   Median       3Q      Max  \n",
      "-1.9765  -0.6302  -0.1227   0.5545   2.2843  \n",
      "\n",
      "Coefficients:\n",
      "             Estimate Std. Error t value Pr(>|t|)    \n",
      "(Intercept)  -1.55002    0.09626 -16.102  < 2e-16 ***\n",
      "poly(x, i)1   6.18883    0.96263   6.429 4.97e-09 ***\n",
      "poly(x, i)2 -23.94830    0.96263 -24.878  < 2e-16 ***\n",
      "poly(x, i)3   0.26411    0.96263   0.274    0.784    \n",
      "---\n",
      "Signif. codes:  0 '***' 0.001 '**' 0.01 '*' 0.05 '.' 0.1 ' ' 1\n",
      "\n",
      "(Dispersion parameter for gaussian family taken to be 0.9266599)\n",
      "\n",
      "    Null deviance: 700.852  on 99  degrees of freedom\n",
      "Residual deviance:  88.959  on 96  degrees of freedom\n",
      "AIC: 282.09\n",
      "\n",
      "Number of Fisher Scoring iterations: 2\n",
      "\n",
      "\n",
      "Call:\n",
      "glm(formula = y ~ poly(x, i), data = data)\n",
      "\n",
      "Deviance Residuals: \n",
      "    Min       1Q   Median       3Q      Max  \n",
      "-2.0550  -0.6212  -0.1567   0.5952   2.2267  \n",
      "\n",
      "Coefficients:\n",
      "             Estimate Std. Error t value Pr(>|t|)    \n",
      "(Intercept)  -1.55002    0.09591 -16.162  < 2e-16 ***\n",
      "poly(x, i)1   6.18883    0.95905   6.453 4.59e-09 ***\n",
      "poly(x, i)2 -23.94830    0.95905 -24.971  < 2e-16 ***\n",
      "poly(x, i)3   0.26411    0.95905   0.275    0.784    \n",
      "poly(x, i)4   1.25710    0.95905   1.311    0.193    \n",
      "---\n",
      "Signif. codes:  0 '***' 0.001 '**' 0.01 '*' 0.05 '.' 0.1 ' ' 1\n",
      "\n",
      "(Dispersion parameter for gaussian family taken to be 0.9197797)\n",
      "\n",
      "    Null deviance: 700.852  on 99  degrees of freedom\n",
      "Residual deviance:  87.379  on 95  degrees of freedom\n",
      "AIC: 282.3\n",
      "\n",
      "Number of Fisher Scoring iterations: 2\n",
      "\n"
     ]
    },
    {
     "data": {
      "text/html": [
       "<ol>\n",
       "\t<li>7.28816160667281</li>\n",
       "\t<li>0.937423637615551</li>\n",
       "\t<li>0.95662183010894</li>\n",
       "\t<li>0.953904892744804</li>\n",
       "</ol>\n"
      ],
      "text/latex": [
       "\\begin{enumerate}\n",
       "\\item 7.28816160667281\n",
       "\\item 0.937423637615551\n",
       "\\item 0.95662183010894\n",
       "\\item 0.953904892744804\n",
       "\\end{enumerate}\n"
      ],
      "text/markdown": [
       "1. 7.28816160667281\n",
       "2. 0.937423637615551\n",
       "3. 0.95662183010894\n",
       "4. 0.953904892744804\n",
       "\n",
       "\n"
      ],
      "text/plain": [
       "[[1]]\n",
       "[1] 7.288162\n",
       "\n",
       "[[2]]\n",
       "[1] 0.9374236\n",
       "\n",
       "[[3]]\n",
       "[1] 0.9566218\n",
       "\n",
       "[[4]]\n",
       "[1] 0.9539049\n"
      ]
     },
     "metadata": {},
     "output_type": "display_data"
    }
   ],
   "source": [
    "#part f\n",
    "\n",
    "data<-data.frame(x,y)\n",
    "loocv_error<-list()\n",
    "\n",
    "set.seed(613)\n",
    "for (i in 1:4) {\n",
    "    model<- glm(y ∼ poly(x, i), data=data)\n",
    "    print(summary(model))\n",
    "    result<- cv.glm(data, model)\n",
    "    \n",
    "    loocv_error[i]<-result$delta[1]\n",
    "}\n",
    "\n",
    "loocv_error"
   ]
  },
  {
   "cell_type": "markdown",
   "id": "70a97ff9",
   "metadata": {},
   "source": [
    "##### based on the abov results we can see that the polynomial functions with degree of 3 and 4 are not significant "
   ]
  },
  {
   "cell_type": "code",
   "execution_count": null,
   "id": "082421b6",
   "metadata": {},
   "outputs": [],
   "source": []
  }
 ],
 "metadata": {
  "kernelspec": {
   "display_name": "R",
   "language": "R",
   "name": "ir"
  },
  "language_info": {
   "codemirror_mode": "r",
   "file_extension": ".r",
   "mimetype": "text/x-r-source",
   "name": "R",
   "pygments_lexer": "r",
   "version": "4.0.5"
  }
 },
 "nbformat": 4,
 "nbformat_minor": 5
}
