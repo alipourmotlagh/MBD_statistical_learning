{
 "cells": [
  {
   "cell_type": "markdown",
   "id": "173b9a34",
   "metadata": {},
   "source": [
    "### Question 3\n",
    "<p>\n",
    "    answers:\n",
    "</p>\n",
    "<p>\n",
    "    a: iii, men will earn more than felames\n",
    "</p>\n",
    "<p>\n",
    "    b: \n",
    "</p>"
   ]
  },
  {
   "cell_type": "code",
   "execution_count": 9,
   "id": "ca6dea4d",
   "metadata": {},
   "outputs": [
    {
     "data": {
      "text/html": [
       "137.1"
      ],
      "text/latex": [
       "137.1"
      ],
      "text/markdown": [
       "137.1"
      ],
      "text/plain": [
       "[1] 137.1"
      ]
     },
     "metadata": {},
     "output_type": "display_data"
    }
   ],
   "source": [
    "#B\n",
    "partb_answer<-50 + 20 * 4.0 + 0.07 * 110 + 35 * 1 + 0.01 * 4.0 * 110 - 10 * 4.0 * 1\n",
    "partb_answer"
   ]
  },
  {
   "cell_type": "markdown",
   "id": "4bdaf276",
   "metadata": {},
   "source": [
    "<p>\n",
    "    C: False , Coeficient value depends on the scale of associate variables.\n",
    "</p>"
   ]
  },
  {
   "cell_type": "markdown",
   "id": "813b5d8f",
   "metadata": {},
   "source": [
    "### Question 10\n"
   ]
  },
  {
   "cell_type": "code",
   "execution_count": 10,
   "id": "fe944fb3",
   "metadata": {},
   "outputs": [
    {
     "name": "stdout",
     "output_type": "stream",
     "text": [
      "'data.frame':\t400 obs. of  11 variables:\n",
      " $ Sales      : num  9.5 11.22 10.06 7.4 4.15 ...\n",
      " $ CompPrice  : num  138 111 113 117 141 124 115 136 132 132 ...\n",
      " $ Income     : num  73 48 35 100 64 113 105 81 110 113 ...\n",
      " $ Advertising: num  11 16 10 4 3 13 0 15 0 0 ...\n",
      " $ Population : num  276 260 269 466 340 501 45 425 108 131 ...\n",
      " $ Price      : num  120 83 80 97 128 72 108 120 124 124 ...\n",
      " $ ShelveLoc  : Factor w/ 3 levels \"Bad\",\"Good\",\"Medium\": 1 2 3 3 1 1 3 2 3 3 ...\n",
      " $ Age        : num  42 65 59 55 38 78 71 67 76 76 ...\n",
      " $ Education  : num  17 10 12 14 13 16 15 10 10 17 ...\n",
      " $ Urban      : Factor w/ 2 levels \"No\",\"Yes\": 2 2 2 2 2 1 2 2 1 1 ...\n",
      " $ US         : Factor w/ 2 levels \"No\",\"Yes\": 2 2 2 2 1 2 1 2 1 2 ...\n"
     ]
    }
   ],
   "source": [
    "#part a\n",
    "#install.packages('ISLR')\n",
    "library(ISLR)\n",
    "Carseats<-Carseats\n",
    "str(Carseats)"
   ]
  },
  {
   "cell_type": "markdown",
   "id": "d251a8f6",
   "metadata": {},
   "source": [
    "<p>Sales:\n",
    "Unit sales (in thousands) at each location\n",
    "</p>\n",
    "<p>CompPrice:\n",
    "Price charged by competitor at each location\n",
    "\n",
    "</p>\n",
    "<p>Income: \n",
    "Community income level (in thousands of dollars)\n",
    "\n",
    "</p>\n",
    "<p>Advertising: \n",
    "Local advertising budget for company at each location (in thousands of dollars)\n",
    "\n",
    "</p>\n",
    "<p>Population: \n",
    "Population size in region (in thousands)\n",
    "\n",
    "</p>\n",
    "<p>Price: \n",
    "Price company charges for car seats at each site\n",
    "\n",
    "</p>\n",
    "<p>ShelveLoc: \n",
    "A factor with levels Bad, Good and Medium indicating the quality of the shelving location for the car seats at each site\n",
    "\n",
    "</p>\n",
    "<p>Age: \n",
    "Average age of the local population\n",
    "\n",
    "</p>\n",
    "<p>Education: \n",
    "Education level at each location\n",
    "\n",
    "</p>\n",
    "<p>Urban: \n",
    "A factor with levels No and Yes to indicate whether the store is in an urban or rural location\n",
    "\n",
    "</p>\n",
    "<p>US: \n",
    "A factor with levels No and Yes to indicate whether the store is in the US or not</p>\n",
    "\n",
    "<p><a href=\"https://rdrr.io/cran/ISLR/man/Carseats.html\">Source</a></p>"
   ]
  },
  {
   "cell_type": "code",
   "execution_count": 11,
   "id": "24c13f4f",
   "metadata": {},
   "outputs": [],
   "source": [
    "# part a\n",
    "R <- lm(Sales ~ Price + Urban + US, data=Carseats)"
   ]
  },
  {
   "cell_type": "code",
   "execution_count": 12,
   "id": "c0adf508",
   "metadata": {},
   "outputs": [
    {
     "data": {
      "text/plain": [
       "\n",
       "Call:\n",
       "lm(formula = Sales ~ Price + Urban + US, data = Carseats)\n",
       "\n",
       "Residuals:\n",
       "    Min      1Q  Median      3Q     Max \n",
       "-6.9206 -1.6220 -0.0564  1.5786  7.0581 \n",
       "\n",
       "Coefficients:\n",
       "             Estimate Std. Error t value Pr(>|t|)    \n",
       "(Intercept) 13.043469   0.651012  20.036  < 2e-16 ***\n",
       "Price       -0.054459   0.005242 -10.389  < 2e-16 ***\n",
       "UrbanYes    -0.021916   0.271650  -0.081    0.936    \n",
       "USYes        1.200573   0.259042   4.635 4.86e-06 ***\n",
       "---\n",
       "Signif. codes:  0 '***' 0.001 '**' 0.01 '*' 0.05 '.' 0.1 ' ' 1\n",
       "\n",
       "Residual standard error: 2.472 on 396 degrees of freedom\n",
       "Multiple R-squared:  0.2393,\tAdjusted R-squared:  0.2335 \n",
       "F-statistic: 41.52 on 3 and 396 DF,  p-value: < 2.2e-16\n"
      ]
     },
     "metadata": {},
     "output_type": "display_data"
    }
   ],
   "source": [
    "# part b\n",
    "summary(R)"
   ]
  },
  {
   "cell_type": "markdown",
   "id": "768bae40",
   "metadata": {},
   "source": [
    "##### part c\n",
    "<p>Sale = 13.043 - 0.0544 * Price - 0.0219 * UrbanYes + 1.2 * USYes</p>\n",
    "\n",
    "<p> if the value of urban yes  and/or usyes  is no then these two will be zero</p>\n",
    "\n",
    "##### part d\n",
    "<p>Based on the P value null hypotesise will be rejected</p>"
   ]
  },
  {
   "cell_type": "code",
   "execution_count": 13,
   "id": "6fed3441",
   "metadata": {},
   "outputs": [
    {
     "data": {
      "text/plain": [
       "\n",
       "Call:\n",
       "lm(formula = Sales ~ Price + US, data = Carseats)\n",
       "\n",
       "Residuals:\n",
       "    Min      1Q  Median      3Q     Max \n",
       "-6.9269 -1.6286 -0.0574  1.5766  7.0515 \n",
       "\n",
       "Coefficients:\n",
       "            Estimate Std. Error t value Pr(>|t|)    \n",
       "(Intercept) 13.03079    0.63098  20.652  < 2e-16 ***\n",
       "Price       -0.05448    0.00523 -10.416  < 2e-16 ***\n",
       "USYes        1.19964    0.25846   4.641 4.71e-06 ***\n",
       "---\n",
       "Signif. codes:  0 '***' 0.001 '**' 0.01 '*' 0.05 '.' 0.1 ' ' 1\n",
       "\n",
       "Residual standard error: 2.469 on 397 degrees of freedom\n",
       "Multiple R-squared:  0.2393,\tAdjusted R-squared:  0.2354 \n",
       "F-statistic: 62.43 on 2 and 397 DF,  p-value: < 2.2e-16\n"
      ]
     },
     "metadata": {},
     "output_type": "display_data"
    }
   ],
   "source": [
    "# E\n",
    "Rs <- lm(Sales ~ Price + US, data=Carseats)\n",
    "summary(Rs)"
   ]
  },
  {
   "cell_type": "markdown",
   "id": "2e0af4d1",
   "metadata": {},
   "source": [
    "##### part f\n",
    "Small Model of E part has fewer erors but just a little (Residual standard error: small model= 2.469 biger model = 2.472) and R square is higher"
   ]
  },
  {
   "cell_type": "code",
   "execution_count": 16,
   "id": "943f3f63",
   "metadata": {},
   "outputs": [
    {
     "name": "stdout",
     "output_type": "stream",
     "text": [
      "[1] -0.06494\n",
      "[1] -0.04402\n"
     ]
    }
   ],
   "source": [
    "#G\n",
    "print( -0.05448 - 2 * 0.00523)\n",
    "print(-0.05448 + 2 * 0.00523)"
   ]
  },
  {
   "cell_type": "code",
   "execution_count": 17,
   "id": "809a1b83",
   "metadata": {},
   "outputs": [
    {
     "name": "stdout",
     "output_type": "stream",
     "text": [
      "[1] 0.68272\n",
      "[1] 1.71656\n"
     ]
    }
   ],
   "source": [
    "#G\n",
    "print( 1.19964 - 2 * 0.25846)\n",
    "print(1.19964 + 2 * 0.25846)"
   ]
  },
  {
   "cell_type": "code",
   "execution_count": 24,
   "id": "4e8dd3b6",
   "metadata": {},
   "outputs": [
    {
     "data": {
      "image/png": "[encoded data removed]",
      "text/plain": [
       "plot without title"
      ]
     },
     "metadata": {
      "image/png": {
       "height": 420,
       "width": 420
      }
     },
     "output_type": "display_data"
    }
   ],
   "source": [
    "#F\n",
    "library(MASS)\n",
    "library(ggplot2)\n",
    "plot(x=fitted(Rs), y=studres(Rs))"
   ]
  },
  {
   "cell_type": "code",
   "execution_count": null,
   "id": "d15e077c",
   "metadata": {},
   "outputs": [],
   "source": []
  }
 ],
 "metadata": {
  "kernelspec": {
   "display_name": "R",
   "language": "R",
   "name": "ir"
  },
  "language_info": {
   "codemirror_mode": "r",
   "file_extension": ".r",
   "mimetype": "text/x-r-source",
   "name": "R",
   "pygments_lexer": "r",
   "version": "4.0.5"
  }
 },
 "nbformat": 4,
 "nbformat_minor": 5
}
