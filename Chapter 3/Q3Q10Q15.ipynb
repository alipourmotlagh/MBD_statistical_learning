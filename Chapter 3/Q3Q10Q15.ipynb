{
 "cells": [
  {
   "cell_type": "markdown",
   "id": "55bd89b2",
   "metadata": {},
   "source": [
    "### Question 3\n",
    "<p>\n",
    "    answers:\n",
    "</p>\n",
    "<p>\n",
    "    a: iii, men will earn more than felames\n",
    "</p>\n",
    "<p>\n",
    "    b: \n",
    "</p>"
   ]
  },
  {
   "cell_type": "code",
   "execution_count": 3,
   "id": "6dec37f7",
   "metadata": {},
   "outputs": [
    {
     "data": {
      "text/html": [
       "137.1"
      ],
      "text/latex": [
       "137.1"
      ],
      "text/markdown": [
       "137.1"
      ],
      "text/plain": [
       "[1] 137.1"
      ]
     },
     "metadata": {},
     "output_type": "display_data"
    }
   ],
   "source": [
    "#B\n",
    "partb_answer<-50 + 20 * 4.0 + 0.07 * 110 + 35 * 1 + 0.01 * 4.0 * 110 - 10 * 4.0 * 1\n",
    "partb_answer"
   ]
  },
  {
   "cell_type": "markdown",
   "id": "52bc4832",
   "metadata": {},
   "source": [
    "<p>\n",
    "    C: False , Coeficient value depends on the scale of associate variables.\n",
    "</p>"
   ]
  },
  {
   "cell_type": "markdown",
   "id": "428b69f4",
   "metadata": {},
   "source": [
    "### Question 10\n"
   ]
  },
  {
   "cell_type": "code",
   "execution_count": 5,
   "id": "acf3a6bf",
   "metadata": {},
   "outputs": [
    {
     "name": "stdout",
     "output_type": "stream",
     "text": [
      "'data.frame':\t400 obs. of  11 variables:\n",
      " $ Sales      : num  9.5 11.22 10.06 7.4 4.15 ...\n",
      " $ CompPrice  : num  138 111 113 117 141 124 115 136 132 132 ...\n",
      " $ Income     : num  73 48 35 100 64 113 105 81 110 113 ...\n",
      " $ Advertising: num  11 16 10 4 3 13 0 15 0 0 ...\n",
      " $ Population : num  276 260 269 466 340 501 45 425 108 131 ...\n",
      " $ Price      : num  120 83 80 97 128 72 108 120 124 124 ...\n",
      " $ ShelveLoc  : Factor w/ 3 levels \"Bad\",\"Good\",\"Medium\": 1 2 3 3 1 1 3 2 3 3 ...\n",
      " $ Age        : num  42 65 59 55 38 78 71 67 76 76 ...\n",
      " $ Education  : num  17 10 12 14 13 16 15 10 10 17 ...\n",
      " $ Urban      : Factor w/ 2 levels \"No\",\"Yes\": 2 2 2 2 2 1 2 2 1 1 ...\n",
      " $ US         : Factor w/ 2 levels \"No\",\"Yes\": 2 2 2 2 1 2 1 2 1 2 ...\n"
     ]
    }
   ],
   "source": [
    "#part a\n",
    "#install.packages('ISLR')\n",
    "library(ISLR)\n",
    "Carseats<-Carseats\n",
    "str(Carseats)"
   ]
  },
  {
   "cell_type": "markdown",
   "id": "bd331eb5",
   "metadata": {},
   "source": [
    "<p>Sales:\n",
    "Unit sales (in thousands) at each location\n",
    "</p>\n",
    "<p>CompPrice:\n",
    "Price charged by competitor at each location\n",
    "\n",
    "</p>\n",
    "<p>Income: \n",
    "Community income level (in thousands of dollars)\n",
    "\n",
    "</p>\n",
    "<p>Advertising: \n",
    "Local advertising budget for company at each location (in thousands of dollars)\n",
    "\n",
    "</p>\n",
    "<p>Population: \n",
    "Population size in region (in thousands)\n",
    "\n",
    "</p>\n",
    "<p>Price: \n",
    "Price company charges for car seats at each site\n",
    "\n",
    "</p>\n",
    "<p>ShelveLoc: \n",
    "A factor with levels Bad, Good and Medium indicating the quality of the shelving location for the car seats at each site\n",
    "\n",
    "</p>\n",
    "<p>Age: \n",
    "Average age of the local population\n",
    "\n",
    "</p>\n",
    "<p>Education: \n",
    "Education level at each location\n",
    "\n",
    "</p>\n",
    "<p>Urban: \n",
    "A factor with levels No and Yes to indicate whether the store is in an urban or rural location\n",
    "\n",
    "</p>\n",
    "<p>US: \n",
    "A factor with levels No and Yes to indicate whether the store is in the US or not</p>\n",
    "\n",
    "<p><a href=\"https://rdrr.io/cran/ISLR/man/Carseats.html\">Source</a></p>"
   ]
  },
  {
   "cell_type": "code",
   "execution_count": 7,
   "id": "547fa02d",
   "metadata": {},
   "outputs": [],
   "source": [
    "# part a\n",
    "R <- lm(Sales ~ Price + Urban + US, data=Carseats)"
   ]
  },
  {
   "cell_type": "code",
   "execution_count": 8,
   "id": "efdf823f",
   "metadata": {},
   "outputs": [
    {
     "data": {
      "text/plain": [
       "\n",
       "Call:\n",
       "lm(formula = Sales ~ Price + Urban + US, data = Carseats)\n",
       "\n",
       "Residuals:\n",
       "    Min      1Q  Median      3Q     Max \n",
       "-6.9206 -1.6220 -0.0564  1.5786  7.0581 \n",
       "\n",
       "Coefficients:\n",
       "             Estimate Std. Error t value Pr(>|t|)    \n",
       "(Intercept) 13.043469   0.651012  20.036  < 2e-16 ***\n",
       "Price       -0.054459   0.005242 -10.389  < 2e-16 ***\n",
       "UrbanYes    -0.021916   0.271650  -0.081    0.936    \n",
       "USYes        1.200573   0.259042   4.635 4.86e-06 ***\n",
       "---\n",
       "Signif. codes:  0 '***' 0.001 '**' 0.01 '*' 0.05 '.' 0.1 ' ' 1\n",
       "\n",
       "Residual standard error: 2.472 on 396 degrees of freedom\n",
       "Multiple R-squared:  0.2393,\tAdjusted R-squared:  0.2335 \n",
       "F-statistic: 41.52 on 3 and 396 DF,  p-value: < 2.2e-16\n"
      ]
     },
     "metadata": {},
     "output_type": "display_data"
    }
   ],
   "source": [
    "# part b\n",
    "summary(R)"
   ]
  },
  {
   "cell_type": "markdown",
   "id": "a3b95a36",
   "metadata": {},
   "source": [
    "##### part c\n",
    "<p>Sale = 13.043 - 0.0544 * Price - 0.0219 * UrbanYes + 1.2 * USYes</p>\n",
    "\n",
    "<p> if the value of urban yes  and/or usyes  is no then these two will be zero</p>\n",
    "\n",
    "##### part d\n",
    "<p>Based on the P value null hypotesise will be rejected</p>"
   ]
  },
  {
   "cell_type": "code",
   "execution_count": null,
   "id": "8b389e1d",
   "metadata": {},
   "outputs": [],
   "source": []
  }
 ],
 "metadata": {
  "kernelspec": {
   "display_name": "R",
   "language": "R",
   "name": "ir"
  },
  "language_info": {
   "codemirror_mode": "r",
   "file_extension": ".r",
   "mimetype": "text/x-r-source",
   "name": "R",
   "pygments_lexer": "r",
   "version": "4.0.5"
  }
 },
 "nbformat": 4,
 "nbformat_minor": 5
}
