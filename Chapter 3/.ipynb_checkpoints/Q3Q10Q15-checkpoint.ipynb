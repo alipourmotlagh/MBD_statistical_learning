{
 "cells": [
  {
   "cell_type": "markdown",
   "id": "254cd7cc",
   "metadata": {},
   "source": [
    "### Question 3\n",
    "<p>\n",
    "    answers:\n",
    "</p>\n",
    "<p>\n",
    "    a: iii, men will earn more than felames\n",
    "</p>\n",
    "<p>\n",
    "    b: \n",
    "</p>"
   ]
  },
  {
   "cell_type": "code",
   "execution_count": 3,
   "id": "2ad7ac72",
   "metadata": {},
   "outputs": [
    {
     "data": {
      "text/html": [
       "137.1"
      ],
      "text/latex": [
       "137.1"
      ],
      "text/markdown": [
       "137.1"
      ],
      "text/plain": [
       "[1] 137.1"
      ]
     },
     "metadata": {},
     "output_type": "display_data"
    }
   ],
   "source": [
    "#B\n",
    "partb_answer<-50 + 20 * 4.0 + 0.07 * 110 + 35 * 1 + 0.01 * 4.0 * 110 - 10 * 4.0 * 1\n",
    "partb_answer"
   ]
  },
  {
   "cell_type": "markdown",
   "id": "f70a2539",
   "metadata": {},
   "source": [
    "<p>\n",
    "    C: False , Coeficient value depends on the scale of associate variables.\n",
    "</p>"
   ]
  },
  {
   "cell_type": "code",
   "execution_count": null,
   "id": "6ef5e419",
   "metadata": {},
   "outputs": [],
   "source": []
  }
 ],
 "metadata": {
  "kernelspec": {
   "display_name": "R",
   "language": "R",
   "name": "ir"
  },
  "language_info": {
   "codemirror_mode": "r",
   "file_extension": ".r",
   "mimetype": "text/x-r-source",
   "name": "R",
   "pygments_lexer": "r",
   "version": "4.0.5"
  }
 },
 "nbformat": 4,
 "nbformat_minor": 5
}
