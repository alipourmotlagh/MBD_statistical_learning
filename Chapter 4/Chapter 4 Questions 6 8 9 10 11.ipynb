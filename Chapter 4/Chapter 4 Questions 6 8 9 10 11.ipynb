{
 "cells": [
  {
   "cell_type": "markdown",
   "id": "d69e06c2",
   "metadata": {},
   "source": [
    "### Q 6"
   ]
  },
  {
   "cell_type": "code",
   "execution_count": 6,
   "id": "842e2324",
   "metadata": {},
   "outputs": [
    {
     "name": "stdout",
     "output_type": "stream",
     "text": [
      "[1] 0.3775407\n"
     ]
    }
   ],
   "source": [
    "#part a\n",
    "B0<--6\n",
    "B1<-0.05\n",
    "B2<-1\n",
    "# part a\n",
    "X1<-40\n",
    "X2<-3.5\n",
    "\n",
    "probability<-(exp(B0+B1*X1+B2*X2))/(1+exp(B0+B1*X1+B2*X2))\n",
    "print(probability)"
   ]
  },
  {
   "cell_type": "code",
   "execution_count": 7,
   "id": "6e5fc70d",
   "metadata": {},
   "outputs": [
    {
     "name": "stdout",
     "output_type": "stream",
     "text": [
      "[1] 50\n"
     ]
    }
   ],
   "source": [
    "# part b\n",
    "p1<-0.5\n",
    "\n",
    "XHalf<-(log(p1/(1-p1))-B0-B2*X2)/B1\n",
    "\n",
    "print(XHalf)"
   ]
  },
  {
   "cell_type": "code",
   "execution_count": 5,
   "id": "9095bb0b",
   "metadata": {},
   "outputs": [
    {
     "ename": "ERROR",
     "evalue": "Error in eval(expr, envir, enclos): object 'e' not found\n",
     "output_type": "error",
     "traceback": [
      "Error in eval(expr, envir, enclos): object 'e' not found\nTraceback:\n"
     ]
    }
   ],
   "source": [
    "e^-0.5"
   ]
  },
  {
   "cell_type": "code",
   "execution_count": null,
   "id": "35692317",
   "metadata": {},
   "outputs": [],
   "source": []
  }
 ],
 "metadata": {
  "kernelspec": {
   "display_name": "R",
   "language": "R",
   "name": "ir"
  },
  "language_info": {
   "codemirror_mode": "r",
   "file_extension": ".r",
   "mimetype": "text/x-r-source",
   "name": "R",
   "pygments_lexer": "r",
   "version": "4.0.5"
  }
 },
 "nbformat": 4,
 "nbformat_minor": 5
}
