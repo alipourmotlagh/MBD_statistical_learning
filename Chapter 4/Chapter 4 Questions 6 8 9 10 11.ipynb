{
 "cells": [
  {
   "cell_type": "markdown",
   "id": "cae37780",
   "metadata": {},
   "source": [
    "### Q 6"
   ]
  },
  {
   "cell_type": "code",
   "execution_count": 6,
   "id": "01ba360c",
   "metadata": {},
   "outputs": [
    {
     "name": "stdout",
     "output_type": "stream",
     "text": [
      "[1] 0.3775407\n"
     ]
    }
   ],
   "source": [
    "#part a\n",
    "B0<--6\n",
    "B1<-0.05\n",
    "B2<-1\n",
    "# part a\n",
    "X1<-40\n",
    "X2<-3.5\n",
    "\n",
    "probability<-(exp(B0+B1*X1+B2*X2))/(1+exp(B0+B1*X1+B2*X2))\n",
    "print(probability)"
   ]
  },
  {
   "cell_type": "code",
   "execution_count": 7,
   "id": "a17371d1",
   "metadata": {},
   "outputs": [
    {
     "name": "stdout",
     "output_type": "stream",
     "text": [
      "[1] 50\n"
     ]
    }
   ],
   "source": [
    "# part b\n",
    "p1<-0.5\n",
    "\n",
    "XHalf<-(log(p1/(1-p1))-B0-B2*X2)/B1\n",
    "\n",
    "print(XHalf)"
   ]
  },
  {
   "cell_type": "markdown",
   "id": "c5149e15",
   "metadata": {},
   "source": [
    "### Q 8"
   ]
  },
  {
   "cell_type": "code",
   "execution_count": 8,
   "id": "2e49254a",
   "metadata": {},
   "outputs": [
    {
     "name": "stdout",
     "output_type": "stream",
     "text": [
      "[1] 0.36\n"
     ]
    }
   ],
   "source": [
    "\n",
    "# KNN_Total_error<-(KNN_Test_error+KNN_Train_error)/2\n",
    "KNN_Train_error<-0\n",
    "KNN_Total_error<-0.18\n",
    "KNN_Test_error<-(KNN_Total_error*2)-KNN_Train_error\n",
    "print(KNN_Test_error)\n",
    "# the test error of KNN is more than Logistic regresion then we should chose logistic regresion."
   ]
  },
  {
   "cell_type": "code",
   "execution_count": null,
   "id": "970cc085",
   "metadata": {},
   "outputs": [],
   "source": []
  }
 ],
 "metadata": {
  "kernelspec": {
   "display_name": "R",
   "language": "R",
   "name": "ir"
  },
  "language_info": {
   "codemirror_mode": "r",
   "file_extension": ".r",
   "mimetype": "text/x-r-source",
   "name": "R",
   "pygments_lexer": "r",
   "version": "4.0.5"
  }
 },
 "nbformat": 4,
 "nbformat_minor": 5
}
