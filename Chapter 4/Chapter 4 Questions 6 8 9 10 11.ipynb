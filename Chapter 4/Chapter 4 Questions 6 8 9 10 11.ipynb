{
 "cells": [
  {
   "cell_type": "markdown",
   "id": "b8e8aa4b",
   "metadata": {},
   "source": [
    "### Q 6"
   ]
  },
  {
   "cell_type": "code",
   "execution_count": 13,
   "id": "3c7cc188",
   "metadata": {},
   "outputs": [
    {
     "name": "stdout",
     "output_type": "stream",
     "text": [
      "[1] \"the probability is equal to:  0.377540668798145\"\n"
     ]
    }
   ],
   "source": [
    "#part a\n",
    "B0<--6\n",
    "B1<-0.05\n",
    "B2<-1\n",
    "# part a\n",
    "X1<-40\n",
    "X2<-3.5\n",
    "\n",
    "probability<-(exp(B0+B1*X1+B2*X2))/(1+exp(B0+B1*X1+B2*X2))\n",
    "print(paste('the probability is equal to: ' ,probability))"
   ]
  },
  {
   "cell_type": "code",
   "execution_count": 12,
   "id": "48aa743b",
   "metadata": {},
   "outputs": [
    {
     "name": "stdout",
     "output_type": "stream",
     "text": [
      "[1] \"studet should study  50  hours to have probability of  0.5  Geting A\"\n"
     ]
    }
   ],
   "source": [
    "# part b\n",
    "p1<-0.5\n",
    "\n",
    "XHalf<-(log(p1/(1-p1))-B0-B2*X2)/B1\n",
    "\n",
    "print(paste('studet should study ',XHalf,' hours to have probability of ',p1 ,' Geting A'))"
   ]
  },
  {
   "cell_type": "markdown",
   "id": "3ea0e559",
   "metadata": {},
   "source": [
    "### Q 8"
   ]
  },
  {
   "cell_type": "code",
   "execution_count": 11,
   "id": "38820937",
   "metadata": {},
   "outputs": [
    {
     "name": "stdout",
     "output_type": "stream",
     "text": [
      "[1] \"1 Neighbour test error is equal to:  0.36\"\n"
     ]
    }
   ],
   "source": [
    "\n",
    "# KNN_Total_error<-(KNN_Test_error+KNN_Train_error)/2\n",
    "KNN_Train_error<-0\n",
    "KNN_Total_error<-0.18\n",
    "KNN_Test_error<-(KNN_Total_error*2)-KNN_Train_error\n",
    "print(paste('1 Neighbour test error is equal to: ',KNN_Test_error))\n",
    "# the test error of KNN is more than Logistic regresion then we should chose logistic regresion."
   ]
  },
  {
   "cell_type": "markdown",
   "id": "d34b28f7",
   "metadata": {},
   "source": [
    "### Q9"
   ]
  },
  {
   "cell_type": "code",
   "execution_count": 9,
   "id": "bb2fc522",
   "metadata": {},
   "outputs": [
    {
     "name": "stdout",
     "output_type": "stream",
     "text": [
      "[1] \"default propability is equal to:  0.27007299270073\"\n"
     ]
    }
   ],
   "source": [
    "#part a\n",
    "odd<-0.37\n",
    "p_odd<-odd/(1+odd)\n",
    "print(paste('default propability is equal to: ',p_odd))"
   ]
  },
  {
   "cell_type": "code",
   "execution_count": 15,
   "id": "9700011f",
   "metadata": {},
   "outputs": [
    {
     "name": "stdout",
     "output_type": "stream",
     "text": [
      "[1] \"default odd is equal to:  0.19047619047619\"\n"
     ]
    }
   ],
   "source": [
    "#part b\n",
    "p_cred<-0.16\n",
    "odd_cred<-p_cred/(1-p_cred)\n",
    "\n",
    "print(paste('default odd is equal to: ',odd_cred))\n"
   ]
  },
  {
   "cell_type": "markdown",
   "id": "5aa03d20",
   "metadata": {},
   "source": [
    "### Q10"
   ]
  },
  {
   "cell_type": "code",
   "execution_count": 21,
   "id": "4391dc95",
   "metadata": {},
   "outputs": [
    {
     "name": "stdout",
     "output_type": "stream",
     "text": [
      "'data.frame':\t1089 obs. of  9 variables:\n",
      " $ Year     : num  1990 1990 1990 1990 1990 1990 1990 1990 1990 1990 ...\n",
      " $ Lag1     : num  0.816 -0.27 -2.576 3.514 0.712 ...\n",
      " $ Lag2     : num  1.572 0.816 -0.27 -2.576 3.514 ...\n",
      " $ Lag3     : num  -3.936 1.572 0.816 -0.27 -2.576 ...\n",
      " $ Lag4     : num  -0.229 -3.936 1.572 0.816 -0.27 ...\n",
      " $ Lag5     : num  -3.484 -0.229 -3.936 1.572 0.816 ...\n",
      " $ Volume   : num  0.155 0.149 0.16 0.162 0.154 ...\n",
      " $ Today    : num  -0.27 -2.576 3.514 0.712 1.178 ...\n",
      " $ Direction: Factor w/ 2 levels \"Down\",\"Up\": 1 1 2 2 2 1 2 2 2 1 ...\n"
     ]
    }
   ],
   "source": [
    "library(ISLR)\n",
    "library(ggplot2)\n",
    "library(GGally)\n",
    "library(dplyr)\n",
    "library(tidyverse)\n",
    "str(Weekly)"
   ]
  },
  {
   "cell_type": "markdown",
   "id": "27fac13c",
   "metadata": {},
   "source": [
    "<p>Year\n",
    "The year that the observation was recorded\n",
    "</p>\n",
    "<p>\n",
    "Lag1\n",
    "Percentage return for previous week\n",
    "</p>\n",
    "<p>\n",
    "Lag2\n",
    "Percentage return for 2 weeks previous\n",
    "</p>\n",
    "<p>\n",
    "Lag3\n",
    "Percentage return for 3 weeks previous\n",
    "</p>\n",
    "<p>\n",
    "Lag4\n",
    "Percentage return for 4 weeks previous\n",
    "</p>\n",
    "<p>\n",
    "Lag5\n",
    "Percentage return for 5 weeks previous\n",
    "</p>\n",
    "<p>\n",
    "Volume\n",
    "Volume of shares traded (average number of daily shares traded in billions)\n",
    "</p>\n",
    "<p>\n",
    "Today\n",
    "Percentage return for this week\n",
    "</p>\n",
    "<p>\n",
    "Direction\n",
    "A factor with levels Down and Up indicating whether the market had a positive or negative return on a given week"
   ]
  },
  {
   "cell_type": "code",
   "execution_count": 19,
   "id": "c4b393d0",
   "metadata": {},
   "outputs": [
    {
     "name": "stderr",
     "output_type": "stream",
     "text": [
      "`stat_bin()` using `bins = 30`. Pick better value with `binwidth`.\n",
      "\n",
      "`stat_bin()` using `bins = 30`. Pick better value with `binwidth`.\n",
      "\n",
      "`stat_bin()` using `bins = 30`. Pick better value with `binwidth`.\n",
      "\n",
      "`stat_bin()` using `bins = 30`. Pick better value with `binwidth`.\n",
      "\n",
      "`stat_bin()` using `bins = 30`. Pick better value with `binwidth`.\n",
      "\n",
      "`stat_bin()` using `bins = 30`. Pick better value with `binwidth`.\n",
      "\n",
      "`stat_bin()` using `bins = 30`. Pick better value with `binwidth`.\n",
      "\n",
      "`stat_bin()` using `bins = 30`. Pick better value with `binwidth`.\n",
      "\n"
     ]
    },
    {
     "data": {
      "image/png": "[encoded data removed]",
      "text/plain": [
       "plot without title"
      ]
     },
     "metadata": {
      "image/png": {
       "height": 420,
       "width": 420
      }
     },
     "output_type": "display_data"
    }
   ],
   "source": [
    "\n",
    "ggpairs(Weekly) "
   ]
  },
  {
   "cell_type": "code",
   "execution_count": 27,
   "id": "3bba6ee4",
   "metadata": {},
   "outputs": [
    {
     "data": {
      "image/png": "[encoded data removed]",
      "text/plain": [
       "plot without title"
      ]
     },
     "metadata": {
      "image/png": {
       "height": 420,
       "width": 420
      }
     },
     "output_type": "display_data"
    }
   ],
   "source": [
    "\n",
    "ggplot(Weekly,aes(Direction,Lag1,fill=Direction))+geom_boxplot()+scale_fill_manual(values = c(\"red\", \"green\"))"
   ]
  },
  {
   "cell_type": "code",
   "execution_count": 24,
   "id": "0395db5d",
   "metadata": {},
   "outputs": [
    {
     "data": {
      "image/png": "[encoded data removed]",
      "text/plain": [
       "plot without title"
      ]
     },
     "metadata": {
      "image/png": {
       "height": 420,
       "width": 420
      }
     },
     "output_type": "display_data"
    }
   ],
   "source": [
    "ggplot(Weekly,aes(Direction,Lag2,fill=Direction))+geom_boxplot()+scale_fill_manual(values = c(\"red\", \"green\"))"
   ]
  },
  {
   "cell_type": "code",
   "execution_count": 25,
   "id": "d8d8cb72",
   "metadata": {},
   "outputs": [
    {
     "data": {
      "image/png": "[encoded data removed]",
      "text/plain": [
       "plot without title"
      ]
     },
     "metadata": {
      "image/png": {
       "height": 420,
       "width": 420
      }
     },
     "output_type": "display_data"
    }
   ],
   "source": [
    "ggplot(Weekly,aes(Direction,Lag3,fill=Direction))+geom_boxplot()+scale_fill_manual(values = c(\"red\", \"green\"))"
   ]
  },
  {
   "cell_type": "code",
   "execution_count": 26,
   "id": "730dbbea",
   "metadata": {},
   "outputs": [
    {
     "data": {
      "image/png": "[encoded data removed]",
      "text/plain": [
       "plot without title"
      ]
     },
     "metadata": {
      "image/png": {
       "height": 420,
       "width": 420
      }
     },
     "output_type": "display_data"
    }
   ],
   "source": [
    "ggplot(Weekly,aes(Direction,Lag4,fill=Direction))+geom_boxplot()+scale_fill_manual(values = c(\"red\", \"green\"))"
   ]
  },
  {
   "cell_type": "code",
   "execution_count": 28,
   "id": "ce546f70",
   "metadata": {},
   "outputs": [
    {
     "data": {
      "image/png": "[encoded data removed]",
      "text/plain": [
       "plot without title"
      ]
     },
     "metadata": {
      "image/png": {
       "height": 420,
       "width": 420
      }
     },
     "output_type": "display_data"
    }
   ],
   "source": [
    "ggplot(Weekly,aes(Direction,Lag5,fill=Direction))+geom_boxplot()+scale_fill_manual(values = c(\"red\", \"green\"))"
   ]
  },
  {
   "cell_type": "code",
   "execution_count": 30,
   "id": "98450f46",
   "metadata": {},
   "outputs": [
    {
     "data": {
      "image/png": "[encoded data removed]",
      "text/plain": [
       "plot without title"
      ]
     },
     "metadata": {
      "image/png": {
       "height": 420,
       "width": 420
      }
     },
     "output_type": "display_data"
    }
   ],
   "source": [
    "ggplot(Weekly,aes(Direction,Volume,fill=Direction))+geom_boxplot()+scale_fill_manual(values = c(\"red\", \"green\"))"
   ]
  },
  {
   "cell_type": "code",
   "execution_count": 31,
   "id": "fe94ef63",
   "metadata": {},
   "outputs": [
    {
     "data": {
      "text/plain": [
       "\n",
       "Call:\n",
       "glm(formula = Direction ~ Lag1 + Lag2 + Lag3 + Lag4 + Lag5 + \n",
       "    Volume, family = \"binomial\", data = Weekly)\n",
       "\n",
       "Deviance Residuals: \n",
       "    Min       1Q   Median       3Q      Max  \n",
       "-1.6949  -1.2565   0.9913   1.0849   1.4579  \n",
       "\n",
       "Coefficients:\n",
       "            Estimate Std. Error z value Pr(>|z|)   \n",
       "(Intercept)  0.26686    0.08593   3.106   0.0019 **\n",
       "Lag1        -0.04127    0.02641  -1.563   0.1181   \n",
       "Lag2         0.05844    0.02686   2.175   0.0296 * \n",
       "Lag3        -0.01606    0.02666  -0.602   0.5469   \n",
       "Lag4        -0.02779    0.02646  -1.050   0.2937   \n",
       "Lag5        -0.01447    0.02638  -0.549   0.5833   \n",
       "Volume      -0.02274    0.03690  -0.616   0.5377   \n",
       "---\n",
       "Signif. codes:  0 '***' 0.001 '**' 0.01 '*' 0.05 '.' 0.1 ' ' 1\n",
       "\n",
       "(Dispersion parameter for binomial family taken to be 1)\n",
       "\n",
       "    Null deviance: 1496.2  on 1088  degrees of freedom\n",
       "Residual deviance: 1486.4  on 1082  degrees of freedom\n",
       "AIC: 1500.4\n",
       "\n",
       "Number of Fisher Scoring iterations: 4\n"
      ]
     },
     "metadata": {},
     "output_type": "display_data"
    }
   ],
   "source": [
    "#part b\n",
    "\n",
    "R_weekly_direction <- glm(Direction ~ Lag1 + Lag2 + Lag3 + Lag4 + Lag5 + Volume, data=Weekly, family='binomial')\n",
    "summary(R_weekly_direction)"
   ]
  },
  {
   "cell_type": "code",
   "execution_count": 37,
   "id": "a0fb8f09",
   "metadata": {},
   "outputs": [],
   "source": [
    "#part c\n",
    "\n",
    "#install.packages('gmodels')\n",
    "library(gmodels)\n",
    "#making prediction\n",
    "pp_weekly<-predict(R_weekly_direction,newdata=Weekly, type='response')\n",
    "#add new column based on the predictions\n",
    "Weekly$predict<- ifelse(pp_weekly > 0.5, 'Up', 'Down')"
   ]
  },
  {
   "cell_type": "code",
   "execution_count": 38,
   "id": "3c853232",
   "metadata": {},
   "outputs": [
    {
     "name": "stdout",
     "output_type": "stream",
     "text": [
      "\n",
      " \n",
      "   Cell Contents\n",
      "|-------------------------|\n",
      "|                       N |\n",
      "| Chi-square contribution |\n",
      "|           N / Row Total |\n",
      "|           N / Col Total |\n",
      "|         N / Table Total |\n",
      "|-------------------------|\n",
      "\n",
      " \n",
      "Total Observations in Table:  1089 \n",
      "\n",
      " \n",
      "               | Weekly$Direction \n",
      "Weekly$predict |      Down |        Up | Row Total | \n",
      "---------------|-----------|-----------|-----------|\n",
      "          Down |        54 |        48 |       102 | \n",
      "               |     1.657 |     1.325 |           | \n",
      "               |     0.529 |     0.471 |     0.094 | \n",
      "               |     0.112 |     0.079 |           | \n",
      "               |     0.050 |     0.044 |           | \n",
      "---------------|-----------|-----------|-----------|\n",
      "            Up |       430 |       557 |       987 | \n",
      "               |     0.171 |     0.137 |           | \n",
      "               |     0.436 |     0.564 |     0.906 | \n",
      "               |     0.888 |     0.921 |           | \n",
      "               |     0.395 |     0.511 |           | \n",
      "---------------|-----------|-----------|-----------|\n",
      "  Column Total |       484 |       605 |      1089 | \n",
      "               |     0.444 |     0.556 |           | \n",
      "---------------|-----------|-----------|-----------|\n",
      "\n",
      " \n"
     ]
    }
   ],
   "source": [
    "confusion_matrix<-gmodels::CrossTable(Weekly$predict,Weekly$Direction)"
   ]
  },
  {
   "cell_type": "code",
   "execution_count": 42,
   "id": "29ec1608",
   "metadata": {},
   "outputs": [
    {
     "data": {
      "text/plain": [
       "      y\n",
       "x      Down  Up\n",
       "  Down   54  48\n",
       "  Up    430 557"
      ]
     },
     "metadata": {},
     "output_type": "display_data"
    }
   ],
   "source": [
    "confusion_matrix$t"
   ]
  },
  {
   "cell_type": "code",
   "execution_count": 43,
   "id": "3cec5431",
   "metadata": {},
   "outputs": [
    {
     "name": "stdout",
     "output_type": "stream",
     "text": [
      "[1] \"Accuracy is eual to = 0.561065197428834\"\n",
      "[1] \"error Type One is eual to = 0.888429752066116\"\n",
      "[1] \"error Type Two is eual to = 0.0793388429752066\"\n"
     ]
    }
   ],
   "source": [
    "# \n",
    "TP<-confusion_matrix$t[2,2]\n",
    "FP<-confusion_matrix$t[2,1]\n",
    "TN<-confusion_matrix$t[1,1]\n",
    "FN<-confusion_matrix$t[1,2]\n",
    "\n",
    "#accuracy\n",
    "accuracy<-(TP + TN) / (TP + FP + TN + FN)\n",
    "#Errors\n",
    "\n",
    "err_1<-confusion_matrix$prop.col[2,1]\n",
    "err_2<-confusion_matrix$prop.col[1,2]\n",
    "\n",
    "\n",
    "print(paste('Accuracy is eual to =', accuracy))\n",
    "print(paste('error Type One is eual to =', err_1))\n",
    "print(paste('error Type Two is eual to =', err_2))"
   ]
  },
  {
   "cell_type": "code",
   "execution_count": 44,
   "id": "f827d022",
   "metadata": {},
   "outputs": [],
   "source": [
    "# part d\n",
    "#split train and test based on the time\n",
    "\n",
    "train<-Weekly[(Weekly$Year>=1990)&(Weekly$Year<=2008),]\n",
    "test<-Weekly[!((Weekly$Year>=1990)&(Weekly$Year<=2008)),]"
   ]
  },
  {
   "cell_type": "code",
   "execution_count": 45,
   "id": "0fe7c828",
   "metadata": {},
   "outputs": [
    {
     "name": "stdout",
     "output_type": "stream",
     "text": [
      "\n",
      " \n",
      "   Cell Contents\n",
      "|-------------------------|\n",
      "|                       N |\n",
      "| Chi-square contribution |\n",
      "|           N / Row Total |\n",
      "|           N / Col Total |\n",
      "|         N / Table Total |\n",
      "|-------------------------|\n",
      "\n",
      " \n",
      "Total Observations in Table:  104 \n",
      "\n",
      " \n",
      "             | test$Direction \n",
      "test$predict |      Down |        Up | Row Total | \n",
      "-------------|-----------|-----------|-----------|\n",
      "        Down |         9 |         5 |        14 | \n",
      "             |     1.782 |     1.256 |           | \n",
      "             |     0.643 |     0.357 |     0.135 | \n",
      "             |     0.209 |     0.082 |           | \n",
      "             |     0.087 |     0.048 |           | \n",
      "-------------|-----------|-----------|-----------|\n",
      "          Up |        34 |        56 |        90 | \n",
      "             |     0.277 |     0.195 |           | \n",
      "             |     0.378 |     0.622 |     0.865 | \n",
      "             |     0.791 |     0.918 |           | \n",
      "             |     0.327 |     0.538 |           | \n",
      "-------------|-----------|-----------|-----------|\n",
      "Column Total |        43 |        61 |       104 | \n",
      "             |     0.413 |     0.587 |           | \n",
      "-------------|-----------|-----------|-----------|\n",
      "\n",
      " \n"
     ]
    }
   ],
   "source": [
    "#fit the model to train\n",
    "glmT<-glm(Direction ~ Lag2, data=train, family='binomial')\n",
    "\n",
    "#prediction on test\n",
    "pp_weekly <- predict(glmT, newdata=test, type='response')\n",
    "test$predict <- ifelse(pp_weekly > 0.5, 'Up', 'Down')\n",
    "confusion_matrix_T<-gmodels::CrossTable(test$predict,test$Direction)"
   ]
  },
  {
   "cell_type": "code",
   "execution_count": 46,
   "id": "4183519b",
   "metadata": {},
   "outputs": [
    {
     "name": "stdout",
     "output_type": "stream",
     "text": [
      "[1] \"Accuracy is eual to = 0.625\"\n",
      "[1] \"error Type One is eual to = 0.790697674418605\"\n",
      "[1] \"error Type Two is eual to = 0.0819672131147541\"\n"
     ]
    }
   ],
   "source": [
    "# \n",
    "TP_T<-confusion_matrix_T$t[2,2]\n",
    "FP_T<-confusion_matrix_T$t[2,1]\n",
    "TN_T<-confusion_matrix_T$t[1,1]\n",
    "FN_T<-confusion_matrix_T$t[1,2]\n",
    "\n",
    "#accuracy\n",
    "accuracy_T<-(TP_T + TN_T) / (TP_T + FP_T + TN_T + FN_T)\n",
    "#Errors\n",
    "\n",
    "err_1_T<-confusion_matrix_T$prop.col[2,1]\n",
    "err_2_T<-confusion_matrix_T$prop.col[1,2]\n",
    "\n",
    "\n",
    "print(paste('Accuracy is eual to =', accuracy_T))\n",
    "print(paste('error Type One is eual to =', err_1_T))\n",
    "print(paste('error Type Two is eual to =', err_2_T))"
   ]
  },
  {
   "cell_type": "code",
   "execution_count": 62,
   "id": "9b157848",
   "metadata": {},
   "outputs": [
    {
     "name": "stdout",
     "output_type": "stream",
     "text": [
      "\n",
      " \n",
      "   Cell Contents\n",
      "|-------------------------|\n",
      "|                       N |\n",
      "| Chi-square contribution |\n",
      "|           N / Row Total |\n",
      "|           N / Col Total |\n",
      "|         N / Table Total |\n",
      "|-------------------------|\n",
      "\n",
      " \n",
      "Total Observations in Table:  104 \n",
      "\n",
      " \n",
      "                    | test$Direction \n",
      "pp_weekly_lda$class |      Down |        Up | Row Total | \n",
      "--------------------|-----------|-----------|-----------|\n",
      "               Down |         9 |         5 |        14 | \n",
      "                    |     1.782 |     1.256 |           | \n",
      "                    |     0.643 |     0.357 |     0.135 | \n",
      "                    |     0.209 |     0.082 |           | \n",
      "                    |     0.087 |     0.048 |           | \n",
      "--------------------|-----------|-----------|-----------|\n",
      "                 Up |        34 |        56 |        90 | \n",
      "                    |     0.277 |     0.195 |           | \n",
      "                    |     0.378 |     0.622 |     0.865 | \n",
      "                    |     0.791 |     0.918 |           | \n",
      "                    |     0.327 |     0.538 |           | \n",
      "--------------------|-----------|-----------|-----------|\n",
      "       Column Total |        43 |        61 |       104 | \n",
      "                    |     0.413 |     0.587 |           | \n",
      "--------------------|-----------|-----------|-----------|\n",
      "\n",
      " \n"
     ]
    }
   ],
   "source": [
    "#part e\n",
    "library(MASS)\n",
    "#fit the model to train\n",
    "Lda<-MASS::lda(Direction ~ Lag2, data=train)\n",
    "\n",
    "#prediction on test\n",
    "pp_weekly_lda <- predict(Lda, newdata=test)\n",
    "\n",
    "#test$predict_lda <- ifelse(pp_weekly_lda$class > 0.5, 'Up', 'Down')\n",
    "confusion_matrix_lda<-gmodels::CrossTable(pp_weekly_lda$class,test$Direction)\n"
   ]
  },
  {
   "cell_type": "code",
   "execution_count": 70,
   "id": "c527e841",
   "metadata": {},
   "outputs": [
    {
     "name": "stdout",
     "output_type": "stream",
     "text": [
      "[1] \"Accuracy is eual to = 0.625\"\n",
      "[1] \"error Type One is eual to = 0.790697674418605\"\n",
      "[1] \"error Type Two is eual to = 0.0819672131147541\"\n"
     ]
    }
   ],
   "source": [
    "# \n",
    "TP_lda<-confusion_matrix_lda$t[2,2]\n",
    "FP_lda<-confusion_matrix_lda$t[2,1]\n",
    "TN_lda<-confusion_matrix_lda$t[1,1]\n",
    "FN_lda<-confusion_matrix_lda$t[1,2]\n",
    "\n",
    "#accuracy\n",
    "accuracy_lda<-(TP_lda + TN_lda) / (TP_lda + FP_lda + TN_lda + FN_lda)\n",
    "#Errors\n",
    "\n",
    "err_1_lda<-confusion_matrix_lda$prop.col[2,1]\n",
    "err_2_lda<-confusion_matrix_lda$prop.col[1,2]\n",
    "\n",
    "\n",
    "print(paste('Accuracy is eual to =', accuracy_lda))\n",
    "print(paste('error Type One is eual to =', err_1_lda))\n",
    "print(paste('error Type Two is eual to =', err_2_lda))"
   ]
  },
  {
   "cell_type": "code",
   "execution_count": 61,
   "id": "7b76b8ae",
   "metadata": {},
   "outputs": [
    {
     "name": "stdout",
     "output_type": "stream",
     "text": [
      "\n",
      " \n",
      "   Cell Contents\n",
      "|-------------------------|\n",
      "|                       N |\n",
      "|         N / Table Total |\n",
      "|-------------------------|\n",
      "\n",
      " \n",
      "Total Observations in Table:  104 \n",
      "\n",
      " \n",
      "                    | test$Direction \n",
      "pp_weekly_QDA$class |      Down |        Up | Row Total | \n",
      "--------------------|-----------|-----------|-----------|\n",
      "                 Up |        43 |        61 |       104 | \n",
      "                    |     0.413 |     0.587 |           | \n",
      "--------------------|-----------|-----------|-----------|\n",
      "       Column Total |        43 |        61 |       104 | \n",
      "--------------------|-----------|-----------|-----------|\n",
      "\n",
      " \n"
     ]
    }
   ],
   "source": [
    "#part f\n",
    "#fit the model to train\n",
    "QDA<-MASS::qda(Direction ~ Lag2, data=train)\n",
    "\n",
    "#prediction on test\n",
    "pp_weekly_QDA <- predict(QDA, newdata=test)\n",
    "\n",
    "#test$predict_lda <- ifelse(pp_weekly_lda$class > 0.5, 'Up', 'Down')\n",
    "confusion_matrix_QDA<-gmodels::CrossTable(pp_weekly_QDA$class,test$Direction)"
   ]
  },
  {
   "cell_type": "code",
   "execution_count": 69,
   "id": "04d7b18b",
   "metadata": {},
   "outputs": [
    {
     "name": "stdout",
     "output_type": "stream",
     "text": [
      "[1] \"Accuracy is eual to = 0.586538461538462\"\n",
      "[1] \"error Type One is eual to = 1\"\n",
      "[1] \"error Type Two is eual to = 0\"\n"
     ]
    }
   ],
   "source": [
    "# \n",
    "TP_QDA<-confusion_matrix_QDA$t[1,2]\n",
    "FP_QDA<-confusion_matrix_QDA$t[1,1]\n",
    "TN_QDA<-0\n",
    "FN_QDA<-0\n",
    "\n",
    "#accuracy\n",
    "accuracy_QDA<-(TP_QDA + TN_QDA) / (TP_QDA + FP_QDA + TN_QDA + FN_QDA)\n",
    "#Errors\n",
    "\n",
    "err_1_QDA<-1\n",
    "err_2_QDA<-0\n",
    "\n",
    "\n",
    "print(paste('Accuracy is eual to =', accuracy_QDA))\n",
    "print(paste('error Type One is eual to =', err_1_QDA))\n",
    "print(paste('error Type Two is eual to =', err_2_QDA))"
   ]
  },
  {
   "cell_type": "code",
   "execution_count": 73,
   "id": "763ebc15",
   "metadata": {},
   "outputs": [
    {
     "name": "stdout",
     "output_type": "stream",
     "text": [
      "\n",
      " \n",
      "   Cell Contents\n",
      "|-------------------------|\n",
      "|                       N |\n",
      "| Chi-square contribution |\n",
      "|           N / Row Total |\n",
      "|           N / Col Total |\n",
      "|         N / Table Total |\n",
      "|-------------------------|\n",
      "\n",
      " \n",
      "Total Observations in Table:  104 \n",
      "\n",
      " \n",
      "             | test$Direction \n",
      "         KNN |      Down |        Up | Row Total | \n",
      "-------------|-----------|-----------|-----------|\n",
      "        Down |        21 |        29 |        50 | \n",
      "             |     0.005 |     0.004 |           | \n",
      "             |     0.420 |     0.580 |     0.481 | \n",
      "             |     0.488 |     0.475 |           | \n",
      "             |     0.202 |     0.279 |           | \n",
      "-------------|-----------|-----------|-----------|\n",
      "          Up |        22 |        32 |        54 | \n",
      "             |     0.005 |     0.003 |           | \n",
      "             |     0.407 |     0.593 |     0.519 | \n",
      "             |     0.512 |     0.525 |           | \n",
      "             |     0.212 |     0.308 |           | \n",
      "-------------|-----------|-----------|-----------|\n",
      "Column Total |        43 |        61 |       104 | \n",
      "             |     0.413 |     0.587 |           | \n",
      "-------------|-----------|-----------|-----------|\n",
      "\n",
      " \n"
     ]
    }
   ],
   "source": [
    "# part g\n",
    "library(class)\n",
    "#fit the model to train\n",
    "KNN <- knn(as.data.frame(train$Lag2), as.data.frame(test$Lag2), train$Direction, k=1)\n",
    "\n",
    "confusion_matrix_KNN<-gmodels::CrossTable(KNN,test$Direction)"
   ]
  },
  {
   "cell_type": "code",
   "execution_count": 74,
   "id": "09baf559",
   "metadata": {},
   "outputs": [
    {
     "name": "stdout",
     "output_type": "stream",
     "text": [
      "[1] \"Accuracy is eual to = 0.509615384615385\"\n",
      "[1] \"error Type One is eual to = 0.511627906976744\"\n",
      "[1] \"error Type Two is eual to = 0.475409836065574\"\n"
     ]
    }
   ],
   "source": [
    "# \n",
    "TP_KNN<-confusion_matrix_KNN$t[2,2]\n",
    "FP_KNN<-confusion_matrix_KNN$t[2,1]\n",
    "TN_KNN<-confusion_matrix_KNN$t[1,1]\n",
    "FN_KNN<-confusion_matrix_KNN$t[1,2]\n",
    "\n",
    "#accuracy\n",
    "accuracy_KNN<-(TP_KNN + TN_KNN) / (TP_KNN + FP_KNN + TN_KNN + FN_KNN)\n",
    "#Errors\n",
    "\n",
    "err_1_KNN<-confusion_matrix_KNN$prop.col[2,1]\n",
    "err_2_KNN<-confusion_matrix_KNN$prop.col[1,2]\n",
    "\n",
    "\n",
    "print(paste('Accuracy is eual to =', accuracy_KNN))\n",
    "print(paste('error Type One is eual to =', err_1_KNN))\n",
    "print(paste('error Type Two is eual to =', err_2_KNN))"
   ]
  },
  {
   "cell_type": "markdown",
   "id": "0ed0bdfb",
   "metadata": {},
   "source": [
    "#### part h\n",
    "best accuracy was for Logistice regresion and LDA equal to 0.625\n"
   ]
  },
  {
   "cell_type": "code",
   "execution_count": 79,
   "id": "10e34a5e",
   "metadata": {},
   "outputs": [
    {
     "data": {
      "text/plain": [
       "\n",
       "Call:\n",
       "glm(formula = Direction ~ . * . + poly(Lag1, d = 3) + poly(Lag2, \n",
       "    d = 3) + poly(Lag3, d = 3) + poly(Lag4, d = 3) + poly(Lag5, \n",
       "    d = 3) + poly(Volume, d = 3), family = \"binomial\", data = train_selected)\n",
       "\n",
       "Deviance Residuals: \n",
       "    Min       1Q   Median       3Q      Max  \n",
       "-1.7418  -1.2388   0.8981   1.0856   1.7834  \n",
       "\n",
       "Coefficients: (6 not defined because of singularities)\n",
       "                      Estimate Std. Error z value Pr(>|z|)   \n",
       "(Intercept)           0.319687   0.103458   3.090   0.0020 **\n",
       "Lag1                 -0.035559   0.064501  -0.551   0.5814   \n",
       "Lag2                  0.018404   0.066097   0.278   0.7807   \n",
       "Lag3                 -0.045137   0.065244  -0.692   0.4890   \n",
       "Lag4                 -0.008943   0.067392  -0.133   0.8944   \n",
       "Lag5                 -0.006104   0.060565  -0.101   0.9197   \n",
       "Volume               -0.063654   0.072246  -0.881   0.3783   \n",
       "poly(Lag1, d = 3)1          NA         NA      NA       NA   \n",
       "poly(Lag1, d = 3)2   -0.270355   4.570537  -0.059   0.9528   \n",
       "poly(Lag1, d = 3)3   -0.702787   5.248937  -0.134   0.8935   \n",
       "poly(Lag2, d = 3)1          NA         NA      NA       NA   \n",
       "poly(Lag2, d = 3)2    8.623883   4.377226   1.970   0.0488 * \n",
       "poly(Lag2, d = 3)3    4.285834   4.838765   0.886   0.3758   \n",
       "poly(Lag3, d = 3)1          NA         NA      NA       NA   \n",
       "poly(Lag3, d = 3)2    2.004624   4.042570   0.496   0.6200   \n",
       "poly(Lag3, d = 3)3   -1.300723   4.488585  -0.290   0.7720   \n",
       "poly(Lag4, d = 3)1          NA         NA      NA       NA   \n",
       "poly(Lag4, d = 3)2   -4.094758   4.751625  -0.862   0.3888   \n",
       "poly(Lag4, d = 3)3    2.234770   4.893818   0.457   0.6479   \n",
       "poly(Lag5, d = 3)1          NA         NA      NA       NA   \n",
       "poly(Lag5, d = 3)2   -5.072652   4.203881  -1.207   0.2276   \n",
       "poly(Lag5, d = 3)3    6.874062   4.127792   1.665   0.0959 . \n",
       "poly(Volume, d = 3)1        NA         NA      NA       NA   \n",
       "poly(Volume, d = 3)2  1.093530   3.256160   0.336   0.7370   \n",
       "poly(Volume, d = 3)3 -2.347521   2.541363  -0.924   0.3556   \n",
       "Lag1:Lag2             0.004393   0.013624   0.322   0.7471   \n",
       "Lag1:Lag3             0.014721   0.013893   1.060   0.2893   \n",
       "Lag1:Lag4            -0.017524   0.012236  -1.432   0.1521   \n",
       "Lag1:Lag5            -0.018964   0.012636  -1.501   0.1334   \n",
       "Lag1:Volume          -0.016846   0.023960  -0.703   0.4820   \n",
       "Lag2:Lag3             0.011426   0.013782   0.829   0.4071   \n",
       "Lag2:Lag4             0.004777   0.014588   0.327   0.7433   \n",
       "Lag2:Lag5            -0.009951   0.012898  -0.772   0.4404   \n",
       "Lag2:Volume           0.035931   0.028510   1.260   0.2076   \n",
       "Lag3:Lag4             0.010751   0.013096   0.821   0.4117   \n",
       "Lag3:Lag5            -0.013073   0.013021  -1.004   0.3154   \n",
       "Lag3:Volume           0.025612   0.028663   0.894   0.3716   \n",
       "Lag4:Lag5            -0.009456   0.013035  -0.725   0.4682   \n",
       "Lag4:Volume           0.003003   0.027789   0.108   0.9140   \n",
       "Lag5:Volume           0.009655   0.026505   0.364   0.7157   \n",
       "---\n",
       "Signif. codes:  0 '***' 0.001 '**' 0.01 '*' 0.05 '.' 0.1 ' ' 1\n",
       "\n",
       "(Dispersion parameter for binomial family taken to be 1)\n",
       "\n",
       "    Null deviance: 1354.7  on 984  degrees of freedom\n",
       "Residual deviance: 1318.5  on 951  degrees of freedom\n",
       "AIC: 1386.5\n",
       "\n",
       "Number of Fisher Scoring iterations: 5\n"
      ]
     },
     "metadata": {},
     "output_type": "display_data"
    }
   ],
   "source": [
    "train_selected<-train%>%dplyr::select(Lag1:Volume,Direction)\n",
    "\n",
    "GLM_POLY<-glm(Direction~.*. + poly(Lag1, d=3) + poly(Lag2, d=3) + poly(Lag3, d=3) +\n",
    "              poly(Lag4, d=3) + poly(Lag5, d=3) + poly(Volume, d=3),data=train_selected,family='binomial')\n",
    "summary(GLM_POLY)"
   ]
  },
  {
   "cell_type": "code",
   "execution_count": 80,
   "id": "1a2f566c",
   "metadata": {},
   "outputs": [
    {
     "name": "stdout",
     "output_type": "stream",
     "text": [
      "\n",
      " \n",
      "   Cell Contents\n",
      "|-------------------------|\n",
      "|                       N |\n",
      "|         N / Table Total |\n",
      "|-------------------------|\n",
      "\n",
      " \n",
      "Total Observations in Table:  104 \n",
      "\n",
      " \n",
      "                  | test$Direction \n",
      "test$predict_Poly |      Down |        Up | Row Total | \n",
      "------------------|-----------|-----------|-----------|\n",
      "               Up |        43 |        61 |       104 | \n",
      "                  |     0.413 |     0.587 |           | \n",
      "------------------|-----------|-----------|-----------|\n",
      "     Column Total |        43 |        61 |       104 | \n",
      "------------------|-----------|-----------|-----------|\n",
      "\n",
      " \n"
     ]
    }
   ],
   "source": [
    "#fit the model to train\n",
    "glm_Poly<-glm(Direction ~ poly(Lag2,d=3), data=train, family='binomial')\n",
    "\n",
    "#prediction on test\n",
    "pp_weekly_Poly <- predict(glm_Poly, newdata=test, type='response')\n",
    "test$predict_Poly <- ifelse(pp_weekly_Poly > 0.5, 'Up', 'Down')\n",
    "confusion_matrix_Poly<-gmodels::CrossTable(test$predict_Poly,test$Direction)"
   ]
  },
  {
   "cell_type": "code",
   "execution_count": 84,
   "id": "084b63bb",
   "metadata": {},
   "outputs": [
    {
     "name": "stdout",
     "output_type": "stream",
     "text": [
      "[1] \"Accuracy is eual to = 0.59047619047619\"\n",
      "[1] \"error Type One is eual to = 0\"\n",
      "[1] \"error Type Two is eual to = 0\"\n"
     ]
    }
   ],
   "source": [
    "# \n",
    "TP_Poly<-confusion_matrix_Poly$t[1,2]\n",
    "FP_Poly<-confusion_matrix_Poly$t[1,1]\n",
    "TN_Poly<-1\n",
    "FN_Poly<-0\n",
    "\n",
    "#accuracy\n",
    "accuracy_Poly<-(TP_Poly + TN_Poly) / (TP_Poly + FP_Poly + TN_Poly + FN_Poly)\n",
    "#Errors\n",
    "\n",
    "err_1_Poly<-0\n",
    "err_2_Poly<-0\n",
    "\n",
    "\n",
    "print(paste('Accuracy is eual to =', accuracy_Poly))\n",
    "print(paste('error Type One is eual to =', err_1_Poly))\n",
    "print(paste('error Type Two is eual to =', err_2_Poly))"
   ]
  },
  {
   "cell_type": "code",
   "execution_count": 86,
   "id": "2d6468fb",
   "metadata": {},
   "outputs": [
    {
     "name": "stdout",
     "output_type": "stream",
     "text": [
      "\n",
      " \n",
      "   Cell Contents\n",
      "|-------------------------|\n",
      "|                       N |\n",
      "| Chi-square contribution |\n",
      "|           N / Row Total |\n",
      "|           N / Col Total |\n",
      "|         N / Table Total |\n",
      "|-------------------------|\n",
      "\n",
      " \n",
      "Total Observations in Table:  104 \n",
      "\n",
      " \n",
      "             | test$Direction \n",
      "       KNN_l |      Down |        Up | Row Total | \n",
      "-------------|-----------|-----------|-----------|\n",
      "        Down |        21 |        29 |        50 | \n",
      "             |     0.005 |     0.004 |           | \n",
      "             |     0.420 |     0.580 |     0.481 | \n",
      "             |     0.488 |     0.475 |           | \n",
      "             |     0.202 |     0.279 |           | \n",
      "-------------|-----------|-----------|-----------|\n",
      "          Up |        22 |        32 |        54 | \n",
      "             |     0.005 |     0.003 |           | \n",
      "             |     0.407 |     0.593 |     0.519 | \n",
      "             |     0.512 |     0.525 |           | \n",
      "             |     0.212 |     0.308 |           | \n",
      "-------------|-----------|-----------|-----------|\n",
      "Column Total |        43 |        61 |       104 | \n",
      "             |     0.413 |     0.587 |           | \n",
      "-------------|-----------|-----------|-----------|\n",
      "\n",
      " \n",
      "\n",
      " \n",
      "   Cell Contents\n",
      "|-------------------------|\n",
      "|                       N |\n",
      "| Chi-square contribution |\n",
      "|           N / Row Total |\n",
      "|           N / Col Total |\n",
      "|         N / Table Total |\n",
      "|-------------------------|\n",
      "\n",
      " \n",
      "Total Observations in Table:  104 \n",
      "\n",
      " \n",
      "             | test$Direction \n",
      "       KNN_l |      Down |        Up | Row Total | \n",
      "-------------|-----------|-----------|-----------|\n",
      "        Down |        20 |        29 |        49 | \n",
      "             |     0.003 |     0.002 |           | \n",
      "             |     0.408 |     0.592 |     0.471 | \n",
      "             |     0.465 |     0.475 |           | \n",
      "             |     0.192 |     0.279 |           | \n",
      "-------------|-----------|-----------|-----------|\n",
      "          Up |        23 |        32 |        55 | \n",
      "             |     0.003 |     0.002 |           | \n",
      "             |     0.418 |     0.582 |     0.529 | \n",
      "             |     0.535 |     0.525 |           | \n",
      "             |     0.221 |     0.308 |           | \n",
      "-------------|-----------|-----------|-----------|\n",
      "Column Total |        43 |        61 |       104 | \n",
      "             |     0.413 |     0.587 |           | \n",
      "-------------|-----------|-----------|-----------|\n",
      "\n",
      " \n",
      "\n",
      " \n",
      "   Cell Contents\n",
      "|-------------------------|\n",
      "|                       N |\n",
      "| Chi-square contribution |\n",
      "|           N / Row Total |\n",
      "|           N / Col Total |\n",
      "|         N / Table Total |\n",
      "|-------------------------|\n",
      "\n",
      " \n",
      "Total Observations in Table:  104 \n",
      "\n",
      " \n",
      "             | test$Direction \n",
      "       KNN_l |      Down |        Up | Row Total | \n",
      "-------------|-----------|-----------|-----------|\n",
      "        Down |        16 |        20 |        36 | \n",
      "             |     0.084 |     0.059 |           | \n",
      "             |     0.444 |     0.556 |     0.346 | \n",
      "             |     0.372 |     0.328 |           | \n",
      "             |     0.154 |     0.192 |           | \n",
      "-------------|-----------|-----------|-----------|\n",
      "          Up |        27 |        41 |        68 | \n",
      "             |     0.044 |     0.031 |           | \n",
      "             |     0.397 |     0.603 |     0.654 | \n",
      "             |     0.628 |     0.672 |           | \n",
      "             |     0.260 |     0.394 |           | \n",
      "-------------|-----------|-----------|-----------|\n",
      "Column Total |        43 |        61 |       104 | \n",
      "             |     0.413 |     0.587 |           | \n",
      "-------------|-----------|-----------|-----------|\n",
      "\n",
      " \n",
      "\n",
      " \n",
      "   Cell Contents\n",
      "|-------------------------|\n",
      "|                       N |\n",
      "| Chi-square contribution |\n",
      "|           N / Row Total |\n",
      "|           N / Col Total |\n",
      "|         N / Table Total |\n",
      "|-------------------------|\n",
      "\n",
      " \n",
      "Total Observations in Table:  104 \n",
      "\n",
      " \n",
      "             | test$Direction \n",
      "       KNN_l |      Down |        Up | Row Total | \n",
      "-------------|-----------|-----------|-----------|\n",
      "        Down |        21 |        21 |        42 | \n",
      "             |     0.761 |     0.536 |           | \n",
      "             |     0.500 |     0.500 |     0.404 | \n",
      "             |     0.488 |     0.344 |           | \n",
      "             |     0.202 |     0.202 |           | \n",
      "-------------|-----------|-----------|-----------|\n",
      "          Up |        22 |        40 |        62 | \n",
      "             |     0.515 |     0.363 |           | \n",
      "             |     0.355 |     0.645 |     0.596 | \n",
      "             |     0.512 |     0.656 |           | \n",
      "             |     0.212 |     0.385 |           | \n",
      "-------------|-----------|-----------|-----------|\n",
      "Column Total |        43 |        61 |       104 | \n",
      "             |     0.413 |     0.587 |           | \n",
      "-------------|-----------|-----------|-----------|\n",
      "\n",
      " \n",
      "\n",
      " \n",
      "   Cell Contents\n",
      "|-------------------------|\n",
      "|                       N |\n",
      "| Chi-square contribution |\n",
      "|           N / Row Total |\n",
      "|           N / Col Total |\n",
      "|         N / Table Total |\n",
      "|-------------------------|\n",
      "\n",
      " \n",
      "Total Observations in Table:  104 \n",
      "\n",
      " \n",
      "             | test$Direction \n",
      "       KNN_l |      Down |        Up | Row Total | \n",
      "-------------|-----------|-----------|-----------|\n",
      "        Down |        15 |        21 |        36 | \n",
      "             |     0.001 |     0.001 |           | \n",
      "             |     0.417 |     0.583 |     0.346 | \n",
      "             |     0.349 |     0.344 |           | \n",
      "             |     0.144 |     0.202 |           | \n",
      "-------------|-----------|-----------|-----------|\n",
      "          Up |        28 |        40 |        68 | \n",
      "             |     0.000 |     0.000 |           | \n",
      "             |     0.412 |     0.588 |     0.654 | \n",
      "             |     0.651 |     0.656 |           | \n",
      "             |     0.269 |     0.385 |           | \n",
      "-------------|-----------|-----------|-----------|\n",
      "Column Total |        43 |        61 |       104 | \n",
      "             |     0.413 |     0.587 |           | \n",
      "-------------|-----------|-----------|-----------|\n",
      "\n",
      " \n",
      "\n",
      " \n",
      "   Cell Contents\n",
      "|-------------------------|\n",
      "|                       N |\n",
      "| Chi-square contribution |\n",
      "|           N / Row Total |\n",
      "|           N / Col Total |\n",
      "|         N / Table Total |\n",
      "|-------------------------|\n",
      "\n",
      " \n",
      "Total Observations in Table:  104 \n",
      "\n",
      " \n",
      "             | test$Direction \n",
      "       KNN_l |      Down |        Up | Row Total | \n",
      "-------------|-----------|-----------|-----------|\n",
      "        Down |        17 |        21 |        38 | \n",
      "             |     0.106 |     0.074 |           | \n",
      "             |     0.447 |     0.553 |     0.365 | \n",
      "             |     0.395 |     0.344 |           | \n",
      "             |     0.163 |     0.202 |           | \n",
      "-------------|-----------|-----------|-----------|\n",
      "          Up |        26 |        40 |        66 | \n",
      "             |     0.061 |     0.043 |           | \n",
      "             |     0.394 |     0.606 |     0.635 | \n",
      "             |     0.605 |     0.656 |           | \n",
      "             |     0.250 |     0.385 |           | \n",
      "-------------|-----------|-----------|-----------|\n",
      "Column Total |        43 |        61 |       104 | \n",
      "             |     0.413 |     0.587 |           | \n",
      "-------------|-----------|-----------|-----------|\n",
      "\n",
      " \n",
      "\n",
      " \n",
      "   Cell Contents\n",
      "|-------------------------|\n",
      "|                       N |\n",
      "| Chi-square contribution |\n",
      "|           N / Row Total |\n",
      "|           N / Col Total |\n",
      "|         N / Table Total |\n",
      "|-------------------------|\n",
      "\n",
      " \n",
      "Total Observations in Table:  104 \n",
      "\n",
      " \n",
      "             | test$Direction \n",
      "       KNN_l |      Down |        Up | Row Total | \n",
      "-------------|-----------|-----------|-----------|\n",
      "        Down |        16 |        20 |        36 | \n",
      "             |     0.084 |     0.059 |           | \n",
      "             |     0.444 |     0.556 |     0.346 | \n",
      "             |     0.372 |     0.328 |           | \n",
      "             |     0.154 |     0.192 |           | \n",
      "-------------|-----------|-----------|-----------|\n",
      "          Up |        27 |        41 |        68 | \n",
      "             |     0.044 |     0.031 |           | \n",
      "             |     0.397 |     0.603 |     0.654 | \n",
      "             |     0.628 |     0.672 |           | \n",
      "             |     0.260 |     0.394 |           | \n",
      "-------------|-----------|-----------|-----------|\n",
      "Column Total |        43 |        61 |       104 | \n",
      "             |     0.413 |     0.587 |           | \n",
      "-------------|-----------|-----------|-----------|\n",
      "\n",
      " \n",
      "\n",
      " \n",
      "   Cell Contents\n",
      "|-------------------------|\n",
      "|                       N |\n",
      "| Chi-square contribution |\n",
      "|           N / Row Total |\n",
      "|           N / Col Total |\n",
      "|         N / Table Total |\n",
      "|-------------------------|\n",
      "\n",
      " \n",
      "Total Observations in Table:  104 \n",
      "\n",
      " \n",
      "             | test$Direction \n",
      "       KNN_l |      Down |        Up | Row Total | \n",
      "-------------|-----------|-----------|-----------|\n",
      "        Down |        17 |        20 |        37 | \n",
      "             |     0.189 |     0.133 |           | \n",
      "             |     0.459 |     0.541 |     0.356 | \n",
      "             |     0.395 |     0.328 |           | \n",
      "             |     0.163 |     0.192 |           | \n",
      "-------------|-----------|-----------|-----------|\n",
      "          Up |        26 |        41 |        67 | \n",
      "             |     0.105 |     0.074 |           | \n",
      "             |     0.388 |     0.612 |     0.644 | \n",
      "             |     0.605 |     0.672 |           | \n",
      "             |     0.250 |     0.394 |           | \n",
      "-------------|-----------|-----------|-----------|\n",
      "Column Total |        43 |        61 |       104 | \n",
      "             |     0.413 |     0.587 |           | \n",
      "-------------|-----------|-----------|-----------|\n",
      "\n",
      " \n",
      "\n",
      " \n",
      "   Cell Contents\n",
      "|-------------------------|\n",
      "|                       N |\n",
      "| Chi-square contribution |\n",
      "|           N / Row Total |\n",
      "|           N / Col Total |\n",
      "|         N / Table Total |\n",
      "|-------------------------|\n",
      "\n",
      " \n",
      "Total Observations in Table:  104 \n",
      "\n",
      " \n",
      "             | test$Direction \n",
      "       KNN_l |      Down |        Up | Row Total | \n",
      "-------------|-----------|-----------|-----------|\n",
      "        Down |        17 |        21 |        38 | \n",
      "             |     0.106 |     0.074 |           | \n",
      "             |     0.447 |     0.553 |     0.365 | \n",
      "             |     0.395 |     0.344 |           | \n",
      "             |     0.163 |     0.202 |           | \n",
      "-------------|-----------|-----------|-----------|\n",
      "          Up |        26 |        40 |        66 | \n",
      "             |     0.061 |     0.043 |           | \n",
      "             |     0.394 |     0.606 |     0.635 | \n",
      "             |     0.605 |     0.656 |           | \n",
      "             |     0.250 |     0.385 |           | \n",
      "-------------|-----------|-----------|-----------|\n",
      "Column Total |        43 |        61 |       104 | \n",
      "             |     0.413 |     0.587 |           | \n",
      "-------------|-----------|-----------|-----------|\n",
      "\n",
      " \n",
      "\n",
      " \n",
      "   Cell Contents\n",
      "|-------------------------|\n",
      "|                       N |\n",
      "| Chi-square contribution |\n",
      "|           N / Row Total |\n",
      "|           N / Col Total |\n",
      "|         N / Table Total |\n",
      "|-------------------------|\n",
      "\n",
      " \n",
      "Total Observations in Table:  104 \n",
      "\n",
      " \n",
      "             | test$Direction \n",
      "       KNN_l |      Down |        Up | Row Total | \n",
      "-------------|-----------|-----------|-----------|\n",
      "        Down |        20 |        18 |        38 | \n",
      "             |     1.171 |     0.825 |           | \n",
      "             |     0.526 |     0.474 |     0.365 | \n",
      "             |     0.465 |     0.295 |           | \n",
      "             |     0.192 |     0.173 |           | \n",
      "-------------|-----------|-----------|-----------|\n",
      "          Up |        23 |        43 |        66 | \n",
      "             |     0.674 |     0.475 |           | \n",
      "             |     0.348 |     0.652 |     0.635 | \n",
      "             |     0.535 |     0.705 |           | \n",
      "             |     0.221 |     0.413 |           | \n",
      "-------------|-----------|-----------|-----------|\n",
      "Column Total |        43 |        61 |       104 | \n",
      "             |     0.413 |     0.587 |           | \n",
      "-------------|-----------|-----------|-----------|\n",
      "\n",
      " \n",
      "\n",
      " \n",
      "   Cell Contents\n",
      "|-------------------------|\n",
      "|                       N |\n",
      "| Chi-square contribution |\n",
      "|           N / Row Total |\n",
      "|           N / Col Total |\n",
      "|         N / Table Total |\n",
      "|-------------------------|\n",
      "\n",
      " \n",
      "Total Observations in Table:  104 \n",
      "\n",
      " \n",
      "             | test$Direction \n",
      "       KNN_l |      Down |        Up | Row Total | \n",
      "-------------|-----------|-----------|-----------|\n",
      "        Down |        19 |        22 |        41 | \n",
      "             |     0.247 |     0.174 |           | \n",
      "             |     0.463 |     0.537 |     0.394 | \n",
      "             |     0.442 |     0.361 |           | \n",
      "             |     0.183 |     0.212 |           | \n",
      "-------------|-----------|-----------|-----------|\n",
      "          Up |        24 |        39 |        63 | \n",
      "             |     0.161 |     0.114 |           | \n",
      "             |     0.381 |     0.619 |     0.606 | \n",
      "             |     0.558 |     0.639 |           | \n",
      "             |     0.231 |     0.375 |           | \n",
      "-------------|-----------|-----------|-----------|\n",
      "Column Total |        43 |        61 |       104 | \n",
      "             |     0.413 |     0.587 |           | \n",
      "-------------|-----------|-----------|-----------|\n",
      "\n",
      " \n",
      "\n",
      " \n",
      "   Cell Contents\n",
      "|-------------------------|\n",
      "|                       N |\n",
      "| Chi-square contribution |\n",
      "|           N / Row Total |\n",
      "|           N / Col Total |\n",
      "|         N / Table Total |\n",
      "|-------------------------|\n",
      "\n",
      " \n",
      "Total Observations in Table:  104 \n",
      "\n",
      " \n",
      "             | test$Direction \n",
      "       KNN_l |      Down |        Up | Row Total | \n",
      "-------------|-----------|-----------|-----------|\n",
      "        Down |        20 |        18 |        38 | \n",
      "             |     1.171 |     0.825 |           | \n",
      "             |     0.526 |     0.474 |     0.365 | \n",
      "             |     0.465 |     0.295 |           | \n",
      "             |     0.192 |     0.173 |           | \n",
      "-------------|-----------|-----------|-----------|\n",
      "          Up |        23 |        43 |        66 | \n",
      "             |     0.674 |     0.475 |           | \n",
      "             |     0.348 |     0.652 |     0.635 | \n",
      "             |     0.535 |     0.705 |           | \n",
      "             |     0.221 |     0.413 |           | \n",
      "-------------|-----------|-----------|-----------|\n",
      "Column Total |        43 |        61 |       104 | \n",
      "             |     0.413 |     0.587 |           | \n",
      "-------------|-----------|-----------|-----------|\n",
      "\n",
      " \n",
      "\n",
      " \n",
      "   Cell Contents\n",
      "|-------------------------|\n",
      "|                       N |\n",
      "| Chi-square contribution |\n",
      "|           N / Row Total |\n",
      "|           N / Col Total |\n",
      "|         N / Table Total |\n",
      "|-------------------------|\n",
      "\n",
      " \n",
      "Total Observations in Table:  104 \n",
      "\n",
      " \n",
      "             | test$Direction \n",
      "       KNN_l |      Down |        Up | Row Total | \n",
      "-------------|-----------|-----------|-----------|\n",
      "        Down |        20 |        21 |        41 | \n",
      "             |     0.548 |     0.386 |           | \n",
      "             |     0.488 |     0.512 |     0.394 | \n",
      "             |     0.465 |     0.344 |           | \n",
      "             |     0.192 |     0.202 |           | \n",
      "-------------|-----------|-----------|-----------|\n",
      "          Up |        23 |        40 |        63 | \n",
      "             |     0.357 |     0.251 |           | \n",
      "             |     0.365 |     0.635 |     0.606 | \n",
      "             |     0.535 |     0.656 |           | \n",
      "             |     0.221 |     0.385 |           | \n",
      "-------------|-----------|-----------|-----------|\n",
      "Column Total |        43 |        61 |       104 | \n",
      "             |     0.413 |     0.587 |           | \n",
      "-------------|-----------|-----------|-----------|\n",
      "\n",
      " \n",
      "\n",
      " \n",
      "   Cell Contents\n",
      "|-------------------------|\n",
      "|                       N |\n",
      "| Chi-square contribution |\n",
      "|           N / Row Total |\n",
      "|           N / Col Total |\n",
      "|         N / Table Total |\n",
      "|-------------------------|\n",
      "\n",
      " \n",
      "Total Observations in Table:  104 \n",
      "\n",
      " \n",
      "             | test$Direction \n",
      "       KNN_l |      Down |        Up | Row Total | \n",
      "-------------|-----------|-----------|-----------|\n",
      "        Down |        20 |        21 |        41 | \n",
      "             |     0.548 |     0.386 |           | \n",
      "             |     0.488 |     0.512 |     0.394 | \n",
      "             |     0.465 |     0.344 |           | \n",
      "             |     0.192 |     0.202 |           | \n",
      "-------------|-----------|-----------|-----------|\n",
      "          Up |        23 |        40 |        63 | \n",
      "             |     0.357 |     0.251 |           | \n",
      "             |     0.365 |     0.635 |     0.606 | \n",
      "             |     0.535 |     0.656 |           | \n",
      "             |     0.221 |     0.385 |           | \n",
      "-------------|-----------|-----------|-----------|\n",
      "Column Total |        43 |        61 |       104 | \n",
      "             |     0.413 |     0.587 |           | \n",
      "-------------|-----------|-----------|-----------|\n",
      "\n",
      " \n",
      "\n",
      " \n",
      "   Cell Contents\n",
      "|-------------------------|\n",
      "|                       N |\n",
      "| Chi-square contribution |\n",
      "|           N / Row Total |\n",
      "|           N / Col Total |\n",
      "|         N / Table Total |\n",
      "|-------------------------|\n",
      "\n",
      " \n",
      "Total Observations in Table:  104 \n",
      "\n",
      " \n",
      "             | test$Direction \n",
      "       KNN_l |      Down |        Up | Row Total | \n",
      "-------------|-----------|-----------|-----------|\n",
      "        Down |        20 |        20 |        40 | \n",
      "             |     0.725 |     0.511 |           | \n",
      "             |     0.500 |     0.500 |     0.385 | \n",
      "             |     0.465 |     0.328 |           | \n",
      "             |     0.192 |     0.192 |           | \n",
      "-------------|-----------|-----------|-----------|\n",
      "          Up |        23 |        41 |        64 | \n",
      "             |     0.453 |     0.319 |           | \n",
      "             |     0.359 |     0.641 |     0.615 | \n",
      "             |     0.535 |     0.672 |           | \n",
      "             |     0.221 |     0.394 |           | \n",
      "-------------|-----------|-----------|-----------|\n",
      "Column Total |        43 |        61 |       104 | \n",
      "             |     0.413 |     0.587 |           | \n",
      "-------------|-----------|-----------|-----------|\n",
      "\n",
      " \n",
      "\n",
      " \n",
      "   Cell Contents\n",
      "|-------------------------|\n",
      "|                       N |\n",
      "| Chi-square contribution |\n",
      "|           N / Row Total |\n",
      "|           N / Col Total |\n",
      "|         N / Table Total |\n",
      "|-------------------------|\n",
      "\n",
      " \n",
      "Total Observations in Table:  104 \n",
      "\n",
      " \n",
      "             | test$Direction \n",
      "       KNN_l |      Down |        Up | Row Total | \n",
      "-------------|-----------|-----------|-----------|\n",
      "        Down |        19 |        20 |        39 | \n",
      "             |     0.513 |     0.361 |           | \n",
      "             |     0.487 |     0.513 |     0.375 | \n",
      "             |     0.442 |     0.328 |           | \n",
      "             |     0.183 |     0.192 |           | \n",
      "-------------|-----------|-----------|-----------|\n",
      "          Up |        24 |        41 |        65 | \n",
      "             |     0.308 |     0.217 |           | \n",
      "             |     0.369 |     0.631 |     0.625 | \n",
      "             |     0.558 |     0.672 |           | \n",
      "             |     0.231 |     0.394 |           | \n",
      "-------------|-----------|-----------|-----------|\n",
      "Column Total |        43 |        61 |       104 | \n",
      "             |     0.413 |     0.587 |           | \n",
      "-------------|-----------|-----------|-----------|\n",
      "\n",
      " \n",
      "\n",
      " \n",
      "   Cell Contents\n",
      "|-------------------------|\n",
      "|                       N |\n",
      "| Chi-square contribution |\n",
      "|           N / Row Total |\n",
      "|           N / Col Total |\n",
      "|         N / Table Total |\n",
      "|-------------------------|\n",
      "\n",
      " \n",
      "Total Observations in Table:  104 \n",
      "\n",
      " \n",
      "             | test$Direction \n",
      "       KNN_l |      Down |        Up | Row Total | \n",
      "-------------|-----------|-----------|-----------|\n",
      "        Down |        21 |        20 |        41 | \n",
      "             |     0.967 |     0.681 |           | \n",
      "             |     0.512 |     0.488 |     0.394 | \n",
      "             |     0.488 |     0.328 |           | \n",
      "             |     0.202 |     0.192 |           | \n",
      "-------------|-----------|-----------|-----------|\n",
      "          Up |        22 |        41 |        63 | \n",
      "             |     0.629 |     0.443 |           | \n",
      "             |     0.349 |     0.651 |     0.606 | \n",
      "             |     0.512 |     0.672 |           | \n",
      "             |     0.212 |     0.394 |           | \n",
      "-------------|-----------|-----------|-----------|\n",
      "Column Total |        43 |        61 |       104 | \n",
      "             |     0.413 |     0.587 |           | \n",
      "-------------|-----------|-----------|-----------|\n",
      "\n",
      " \n",
      "\n",
      " \n",
      "   Cell Contents\n",
      "|-------------------------|\n",
      "|                       N |\n",
      "| Chi-square contribution |\n",
      "|           N / Row Total |\n",
      "|           N / Col Total |\n",
      "|         N / Table Total |\n",
      "|-------------------------|\n",
      "\n",
      " \n",
      "Total Observations in Table:  104 \n",
      "\n",
      " \n",
      "             | test$Direction \n",
      "       KNN_l |      Down |        Up | Row Total | \n",
      "-------------|-----------|-----------|-----------|\n",
      "        Down |        19 |        22 |        41 | \n",
      "             |     0.247 |     0.174 |           | \n",
      "             |     0.463 |     0.537 |     0.394 | \n",
      "             |     0.442 |     0.361 |           | \n",
      "             |     0.183 |     0.212 |           | \n",
      "-------------|-----------|-----------|-----------|\n",
      "          Up |        24 |        39 |        63 | \n",
      "             |     0.161 |     0.114 |           | \n",
      "             |     0.381 |     0.619 |     0.606 | \n",
      "             |     0.558 |     0.639 |           | \n",
      "             |     0.231 |     0.375 |           | \n",
      "-------------|-----------|-----------|-----------|\n",
      "Column Total |        43 |        61 |       104 | \n",
      "             |     0.413 |     0.587 |           | \n",
      "-------------|-----------|-----------|-----------|\n",
      "\n",
      " \n",
      "\n",
      " \n",
      "   Cell Contents\n",
      "|-------------------------|\n",
      "|                       N |\n",
      "| Chi-square contribution |\n",
      "|           N / Row Total |\n",
      "|           N / Col Total |\n",
      "|         N / Table Total |\n",
      "|-------------------------|\n",
      "\n",
      " \n",
      "Total Observations in Table:  104 \n",
      "\n",
      " \n",
      "             | test$Direction \n",
      "       KNN_l |      Down |        Up | Row Total | \n",
      "-------------|-----------|-----------|-----------|\n",
      "        Down |        19 |        22 |        41 | \n",
      "             |     0.247 |     0.174 |           | \n",
      "             |     0.463 |     0.537 |     0.394 | \n",
      "             |     0.442 |     0.361 |           | \n",
      "             |     0.183 |     0.212 |           | \n",
      "-------------|-----------|-----------|-----------|\n",
      "          Up |        24 |        39 |        63 | \n",
      "             |     0.161 |     0.114 |           | \n",
      "             |     0.381 |     0.619 |     0.606 | \n",
      "             |     0.558 |     0.639 |           | \n",
      "             |     0.231 |     0.375 |           | \n",
      "-------------|-----------|-----------|-----------|\n",
      "Column Total |        43 |        61 |       104 | \n",
      "             |     0.413 |     0.587 |           | \n",
      "-------------|-----------|-----------|-----------|\n",
      "\n",
      " \n",
      "\n",
      " \n",
      "   Cell Contents\n",
      "|-------------------------|\n",
      "|                       N |\n",
      "| Chi-square contribution |\n",
      "|           N / Row Total |\n",
      "|           N / Col Total |\n",
      "|         N / Table Total |\n",
      "|-------------------------|\n",
      "\n",
      " \n",
      "Total Observations in Table:  104 \n",
      "\n",
      " \n",
      "             | test$Direction \n",
      "       KNN_l |      Down |        Up | Row Total | \n",
      "-------------|-----------|-----------|-----------|\n",
      "        Down |        20 |        22 |        42 | \n",
      "             |     0.400 |     0.282 |           | \n",
      "             |     0.476 |     0.524 |     0.404 | \n",
      "             |     0.465 |     0.361 |           | \n",
      "             |     0.192 |     0.212 |           | \n",
      "-------------|-----------|-----------|-----------|\n",
      "          Up |        23 |        39 |        62 | \n",
      "             |     0.271 |     0.191 |           | \n",
      "             |     0.371 |     0.629 |     0.596 | \n",
      "             |     0.535 |     0.639 |           | \n",
      "             |     0.221 |     0.375 |           | \n",
      "-------------|-----------|-----------|-----------|\n",
      "Column Total |        43 |        61 |       104 | \n",
      "             |     0.413 |     0.587 |           | \n",
      "-------------|-----------|-----------|-----------|\n",
      "\n",
      " \n"
     ]
    },
    {
     "name": "stdout",
     "output_type": "stream",
     "text": [
      "[1] \"optimum number of nighbors is  = 10\"\n",
      "[1] \"best acuracy = 0.605769230769231\"\n"
     ]
    }
   ],
   "source": [
    "opt_acuracy<-0\n",
    "opt_k<-0\n",
    "for (n in 1:20){\n",
    "    set.seed(613)\n",
    "    KNN_l <- knn(as.data.frame(train$Lag2), as.data.frame(test$Lag2), train$Direction, n)\n",
    "\n",
    "    confusion_matrix_KNN_l<-gmodels::CrossTable(KNN_l,test$Direction)\n",
    "    # \n",
    "    TP_KNN_l<-confusion_matrix_KNN_l$t[2,2]\n",
    "    FP_KNN_l<-confusion_matrix_KNN_l$t[2,1]\n",
    "    TN_KNN_l<-confusion_matrix_KNN_l$t[1,1]\n",
    "    FN_KNN_l<-confusion_matrix_KNN_l$t[1,2]\n",
    "\n",
    "    #accuracy\n",
    "    accuracy_KNN_l<-(TP_KNN_l + TN_KNN_l) / (TP_KNN_l + FP_KNN_l + TN_KNN_l + FN_KNN_l)\n",
    "    \n",
    "    if (accuracy_KNN_l>opt_acuracy){\n",
    "        opt_acuracy<-accuracy_KNN_l\n",
    "        opt_k<-n\n",
    "    }\n",
    "    \n",
    "}\n",
    "\n",
    "print(paste('optimum number of nighbors is  =', opt_k))\n",
    "print(paste('best acuracy =', opt_acuracy))"
   ]
  },
  {
   "cell_type": "markdown",
   "id": "8909a224",
   "metadata": {},
   "source": [
    "### Q11"
   ]
  },
  {
   "cell_type": "code",
   "execution_count": null,
   "id": "514fd8d2",
   "metadata": {},
   "outputs": [],
   "source": []
  }
 ],
 "metadata": {
  "kernelspec": {
   "display_name": "R",
   "language": "R",
   "name": "ir"
  },
  "language_info": {
   "codemirror_mode": "r",
   "file_extension": ".r",
   "mimetype": "text/x-r-source",
   "name": "R",
   "pygments_lexer": "r",
   "version": "4.0.5"
  }
 },
 "nbformat": 4,
 "nbformat_minor": 5
}
