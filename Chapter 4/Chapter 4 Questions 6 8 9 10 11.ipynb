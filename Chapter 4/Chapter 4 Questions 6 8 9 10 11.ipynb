{
 "cells": [
  {
   "cell_type": "markdown",
   "id": "cfaaff62",
   "metadata": {},
   "source": [
    "### Q 6"
   ]
  },
  {
   "cell_type": "code",
   "execution_count": 13,
   "id": "a1969433",
   "metadata": {},
   "outputs": [
    {
     "name": "stdout",
     "output_type": "stream",
     "text": [
      "[1] \"the probability is equal to:  0.377540668798145\"\n"
     ]
    }
   ],
   "source": [
    "#part a\n",
    "B0<--6\n",
    "B1<-0.05\n",
    "B2<-1\n",
    "# part a\n",
    "X1<-40\n",
    "X2<-3.5\n",
    "\n",
    "probability<-(exp(B0+B1*X1+B2*X2))/(1+exp(B0+B1*X1+B2*X2))\n",
    "print(paste('the probability is equal to: ' ,probability))"
   ]
  },
  {
   "cell_type": "code",
   "execution_count": 12,
   "id": "51d673a8",
   "metadata": {},
   "outputs": [
    {
     "name": "stdout",
     "output_type": "stream",
     "text": [
      "[1] \"studet should study  50  hours to have probability of  0.5  Geting A\"\n"
     ]
    }
   ],
   "source": [
    "# part b\n",
    "p1<-0.5\n",
    "\n",
    "XHalf<-(log(p1/(1-p1))-B0-B2*X2)/B1\n",
    "\n",
    "print(paste('studet should study ',XHalf,' hours to have probability of ',p1 ,' Geting A'))"
   ]
  },
  {
   "cell_type": "markdown",
   "id": "925c0370",
   "metadata": {},
   "source": [
    "### Q 8"
   ]
  },
  {
   "cell_type": "code",
   "execution_count": 11,
   "id": "cee5a7c7",
   "metadata": {},
   "outputs": [
    {
     "name": "stdout",
     "output_type": "stream",
     "text": [
      "[1] \"1 Neighbour test error is equal to:  0.36\"\n"
     ]
    }
   ],
   "source": [
    "\n",
    "# KNN_Total_error<-(KNN_Test_error+KNN_Train_error)/2\n",
    "KNN_Train_error<-0\n",
    "KNN_Total_error<-0.18\n",
    "KNN_Test_error<-(KNN_Total_error*2)-KNN_Train_error\n",
    "print(paste('1 Neighbour test error is equal to: ',KNN_Test_error))\n",
    "# the test error of KNN is more than Logistic regresion then we should chose logistic regresion."
   ]
  },
  {
   "cell_type": "markdown",
   "id": "dc606d87",
   "metadata": {},
   "source": [
    "### Q9"
   ]
  },
  {
   "cell_type": "code",
   "execution_count": 9,
   "id": "f5432628",
   "metadata": {},
   "outputs": [
    {
     "name": "stdout",
     "output_type": "stream",
     "text": [
      "[1] \"default propability is equal to:  0.27007299270073\"\n"
     ]
    }
   ],
   "source": [
    "#part a\n",
    "odd<-0.37\n",
    "p_odd<-odd/(1+odd)\n",
    "print(paste('default propability is equal to: ',p_odd))"
   ]
  },
  {
   "cell_type": "code",
   "execution_count": 15,
   "id": "388a8dfd",
   "metadata": {},
   "outputs": [
    {
     "name": "stdout",
     "output_type": "stream",
     "text": [
      "[1] \"default odd is equal to:  0.19047619047619\"\n"
     ]
    }
   ],
   "source": [
    "#part b\n",
    "p_cred<-0.16\n",
    "odd_cred<-p_cred/(1-p_cred)\n",
    "\n",
    "print(paste('default odd is equal to: ',odd_cred))\n"
   ]
  },
  {
   "cell_type": "markdown",
   "id": "f8b75673",
   "metadata": {},
   "source": [
    "### Q10"
   ]
  },
  {
   "cell_type": "code",
   "execution_count": null,
   "id": "6c1ce62e",
   "metadata": {},
   "outputs": [],
   "source": []
  }
 ],
 "metadata": {
  "kernelspec": {
   "display_name": "R",
   "language": "R",
   "name": "ir"
  },
  "language_info": {
   "codemirror_mode": "r",
   "file_extension": ".r",
   "mimetype": "text/x-r-source",
   "name": "R",
   "pygments_lexer": "r",
   "version": "4.0.5"
  }
 },
 "nbformat": 4,
 "nbformat_minor": 5
}
