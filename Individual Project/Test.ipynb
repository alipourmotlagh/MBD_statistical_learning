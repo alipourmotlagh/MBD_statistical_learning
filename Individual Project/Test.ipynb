{
 "cells": [
  {
   "cell_type": "code",
   "execution_count": null,
   "id": "6bbe2283",
   "metadata": {},
   "outputs": [],
   "source": [
    "# coeficient names for backward feature selection\n",
    "names(reg.summary.bwd)\n",
    "#summary of RSQ for backward feature selection\n",
    "reg.summary.bwd$rsq\n",
    "#plot 4 diferent coeficient to show the best number of the features in diferent coeficients\n",
    "#paring axies to 4 cells\n",
    "par(mfrow=c(2,2))\n",
    "#plot the RSS\n",
    "plot(reg.summary.bwd$rss,xlab='Number of Variables',ylab='RSS',type='l')\n",
    "# Plot the adjusted rate 2 \n",
    "plot(reg.summary.bwd$adjr2,xlab='Number of Variables',ylab='Adjusted R square',type='l')\n",
    "# define the optimum point of adjusted rate 2\n",
    "points(which.max(reg.summary.bwd$adjr2),reg.summary.bwd$adjr2[which.max(reg.summary.bwd$adjr2)],col='red',cex=2,pch=20)\n",
    "#plot the cp\n",
    "plot(reg.summary.bwd$cp,xlab=\"Number of Variables\",ylab=\"Cp\",type='l')\n",
    "# define the optimum point of cp\n",
    "points(which.min(reg.summary.bwd$cp),reg.summary.bwd$cp[which.min(reg.summary.bwd$cp)],col=\"red\",cex=2,pch=20)\n",
    "# plot the Bic \n",
    "plot(reg.summary.bwd$bic,xlab=\"Number of Variables\",ylab=\"BIC\",type='l')\n",
    "# define the optimum point of bic\n",
    "points(which.min(reg.summary.bwd$bic),reg.summary.bwd$bic[which.min(reg.summary.bwd$bic)],col=\"red\",cex=2,pch=20)\n",
    "# ploting the R square of backward model\n",
    "plot(regfit.bwd,scale=\"r2\")\n",
    "# ploting the adjusted rate 2 of backward model\n",
    "plot(regfit.bwd,scale=\"adjr2\")\n",
    "# ploting the CP of backward model\n",
    "plot(regfit.bwd,scale=\"Cp\")\n",
    "# ploting the bicof backward model\n",
    "plot(regfit.bwd,scale=\"bic\")\n",
    "#storing the feature selected based on the backward model by cp coeficient\n",
    "selection.full.cp=names(coef(regfit.bwd,which.min(reg.summary.bwd$cp)))[-1]\n",
    "#displaying the coeficient and variables name for backward feature selection for CP\n",
    "coef(regfit.bwd,which.min(reg.summary.bwd$cp))\n",
    "#storing the feature selected based on the backward model by bic coeficient\n",
    "selection.full.bic=names(coef(regfit.bwd,which.min(reg.summary.bwd$bic)))[-1]\n",
    "#displaying the coeficient and variables name for backward feature selection for bic\n",
    "coef(regfit.bwd,which.min(reg.summary.bwd$bic))"
   ]
  }
 ],
 "metadata": {
  "kernelspec": {
   "display_name": "R",
   "language": "R",
   "name": "ir"
  },
  "language_info": {
   "codemirror_mode": "r",
   "file_extension": ".r",
   "mimetype": "text/x-r-source",
   "name": "R",
   "pygments_lexer": "r",
   "version": "4.0.5"
  }
 },
 "nbformat": 4,
 "nbformat_minor": 5
}
