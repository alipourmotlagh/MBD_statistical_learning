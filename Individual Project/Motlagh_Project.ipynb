{
 "cells": [
  {
   "cell_type": "markdown",
   "id": "8e60ab43",
   "metadata": {},
   "source": [
    "<h1 style=\"text-align:center;color:#131313\"> Individual Assignment</h1>\n",
    "<h2>Description</h2>\n",
    "<p>here I</p>\n",
    "<author>Mohammad Hadi adlipour Motlagh</author>"
   ]
  },
  {
   "cell_type": "markdown",
   "id": "5999b684",
   "metadata": {},
   "source": [
    "<h2>Data Exploration</h2>"
   ]
  },
  {
   "cell_type": "markdown",
   "id": "b5dc5a20",
   "metadata": {},
   "source": [
    "### 1. Import all required libraries and datasets"
   ]
  },
  {
   "cell_type": "code",
   "execution_count": 562,
   "id": "5faedd82",
   "metadata": {},
   "outputs": [
    {
     "data": {
      "text/html": [
       "'R version 4.0.5 (2021-03-31)'"
      ],
      "text/latex": [
       "'R version 4.0.5 (2021-03-31)'"
      ],
      "text/markdown": [
       "'R version 4.0.5 (2021-03-31)'"
      ],
      "text/plain": [
       "[1] \"R version 4.0.5 (2021-03-31)\""
      ]
     },
     "metadata": {},
     "output_type": "display_data"
    }
   ],
   "source": [
    "# Set environment params\n",
    "Sys.setenv(LANG='en')  # English\n",
    "\n",
    "# Import libraries\n",
    "# Data Manipulation\n",
    "library(data.table)    # Data manipulate\n",
    "library(dummies)       # Data processing\n",
    "library(tidyverse)     # Data Manipulation\n",
    "library(dplyr)         # Data Manipulation\n",
    "\n",
    "# Visualizatin\n",
    "library(ggplot2)       # Visualization\n",
    "library(gridExtra)     # Visualization\n",
    "library(plotrix)       # Draw circle\n",
    "\n",
    "\n",
    "# Feature Selection\n",
    "library(leaps)\n",
    "\n",
    "# Machin Learnin Models\n",
    "library(mlr)           # ML toolkit\n",
    "library(caret)         # ML toolkit\n",
    "library(rgl)           # 3D plots\n",
    "library(e1071)         # Evaluation\n",
    "library(kknn)          # kNN model\n",
    "library(nnet)          # One-vs-All Logistic Regression\n",
    "library(tree)          # CART model\n",
    "library(randomForest)  # Bagging and RF\n",
    "library(gbm)           # Boosting tree\n",
    "library(glmnet)        # Rgid and Lasso Regression Models\n",
    "library(pls)\n",
    "library(mgcv)          # GAM\n",
    "library(sp)\n",
    "library(xgboost)\n",
    "library(class)\n",
    "\n",
    "# Evaluation\n",
    "library(pROC)          # AUC, ROC\n",
    "\n",
    "# Resize plot\n",
    "library(repr)  # String and binary representations\n",
    "# options(repr.plot.width=4, repr.plot.height=4)\n",
    "\n",
    "R.version.string"
   ]
  },
  {
   "cell_type": "markdown",
   "id": "63d9bf6d",
   "metadata": {},
   "source": [
    "### 2. Loading The Data"
   ]
  },
  {
   "cell_type": "code",
   "execution_count": 338,
   "id": "990c0e9a",
   "metadata": {},
   "outputs": [
    {
     "name": "stdout",
     "output_type": "stream",
     "text": [
      "'data.frame':\t20000 obs. of  24 variables:\n",
      " $ LIMIT_BAL                 : int  70000 390000 60000 140000 50000 20000 50000 250000 320000 300000 ...\n",
      " $ SEX                       : int  1 2 1 2 1 1 1 1 2 1 ...\n",
      " $ EDUCATION                 : int  3 2 1 2 1 2 3 2 2 1 ...\n",
      " $ MARRIAGE                  : int  2 2 2 1 2 2 2 2 2 1 ...\n",
      " $ AGE                       : int  34 26 27 55 29 37 44 30 36 35 ...\n",
      " $ PAY_0                     : int  0 2 0 0 2 0 0 0 -2 0 ...\n",
      " $ PAY_2                     : int  0 2 0 0 2 0 0 0 -2 0 ...\n",
      " $ PAY_3                     : int  0 2 0 0 2 0 0 0 -2 0 ...\n",
      " $ PAY_4                     : int  0 0 0 0 0 0 2 -1 -2 0 ...\n",
      " $ PAY_5                     : int  0 0 0 0 0 0 0 2 -2 0 ...\n",
      " $ PAY_6                     : int  0 0 2 0 -2 0 0 -1 -2 0 ...\n",
      " $ BILL_AMT1                 : int  53972 185111 21387 108038 7881 20009 NA 5724 29862 91282 ...\n",
      " $ BILL_AMT2                 : int  23149 172865 22416 110216 10415 20602 50525 6729 33785 45885 ...\n",
      " $ BILL_AMT3                 : int  23968 153795 23444 84516 3997 21255 51463 4973 4900 35329 ...\n",
      " $ BILL_AMT4                 : int  25559 140387 26038 72391 1047 19105 49952 9693 15813 29368 ...\n",
      " $ BILL_AMT5                 : int  26134 128112 28607 61298 0 19609 19584 799 0 18833 ...\n",
      " $ BILL_AMT6                 : int  26715 115514 27997 62193 0 19283 19080 4295 0 93329 ...\n",
      " $ PAY_AMT1                  : int  1700 5000 1378 4200 3000 1700 1762 2000 5000 3260 ...\n",
      " $ PAY_AMT2                  : int  1500 3000 1406 2822 0 1600 4800 2305 4905 2240 ...\n",
      " $ PAY_AMT3                  : int  2000 5000 3000 2336 1000 1200 0 4720 15873 1505 ...\n",
      " $ PAY_AMT4                  : int  1000 4548 3000 2588 0 1000 837 0 0 1250 ...\n",
      " $ PAY_AMT5                  : int  1000 4100 0 2250 0 900 700 4305 0 80934 ...\n",
      " $ PAY_AMT6                  : int  2000 3300 923 2491 0 1000 1000 0 21657 2700 ...\n",
      " $ default.payment.next.month: int  0 0 1 0 1 0 0 0 1 0 ...\n"
     ]
    }
   ],
   "source": [
    "# Input data\n",
    "# cust_id                          : Custometr ID\n",
    "# LIMIT_BAL                        : Limit of the Balance (float)\n",
    "# SEX                              : Gender (binary)\n",
    "# EDUCATION                        : Education level (Categorical)\n",
    "# MARRIAGE                         : Status (binary)\n",
    "# AGE                              : Age (integer)\n",
    "# PAY_0                            : Payment of month 0 (integer)\n",
    "# PAY_2                            : Payment of month 2 (integer)\n",
    "# PAY_3                            : Payment of month 3 (integer)\n",
    "# PAY_4                            : Payment of month 4 (integer)\n",
    "# PAY_5                            : Payment of month 5 (integer)\n",
    "# PAY_6                            : Payment of month 6 (integer)\n",
    "# BILL_AMT1                        : Bill Amount of month 1 (integer)\n",
    "# BILL_AMT2                        : Bill Amount of month 2 (integer)\n",
    "# BILL_AMT3                        : Bill Amount of month 3 (integer)\n",
    "# BILL_AMT4                        : Bill Amount of month 4 (integer)\n",
    "# BILL_AMT5                        : Bill Amount of month 5 (integer)\n",
    "# BILL_AMT6                        : Bill Amount of month 6 (integer)\n",
    "# PAY_AMT1                         : ATM withdrawal Month 1 (integer)\n",
    "# PAY_AMT2                         : ATM withdrawal Month 2 (integer)\n",
    "# PAY_AMT3                         : ATM withdrawal Month 3 (integer)\n",
    "# PAY_AMT4                         : ATM withdrawal Month 4 (integer)\n",
    "# PAY_AMT5                         : ATM withdrawal Month 5 (integer)\n",
    "# PAY_AMT6                         : ATM withdrawal Month 6 (integer)\n",
    "# default.payment.next.month       : if the payment is default or no for next month (binary)\n",
    "# reading the table\n",
    "credit <- read.csv('./Data/credit_default_train.csv', row.names=1)\n",
    "#straucture  of the data\n",
    "str(credit)"
   ]
  },
  {
   "cell_type": "markdown",
   "id": "989db1c3",
   "metadata": {},
   "source": [
    "### 3. Preprocessing dealing with NAs"
   ]
  },
  {
   "cell_type": "code",
   "execution_count": 339,
   "id": "3441e714",
   "metadata": {},
   "outputs": [
    {
     "name": "stdout",
     "output_type": "stream",
     "text": [
      "[1] \"number of null values in LIMIT BALANC Column is equal to: 202\"\n",
      "[1] \"number of null values in Gender Column is equal to: 161\"\n",
      "[1] \"number of null values in EDUCATION Column is equal to: 199\"\n",
      "[1] \"number of null values in MARRIAGE Column is equal to: 170\"\n",
      "[1] \"number of null values in AGE Column is equal to: 214\"\n",
      "[1] \"number of null values in PAY_0 Column is equal to: 195\"\n",
      "[1] \"number of null values in PAY_2 Column is equal to: 219\"\n",
      "[1] \"number of null values in PAY_3 Column is equal to: 217\"\n",
      "[1] \"number of null values in PAY_4 Column is equal to: 199\"\n",
      "[1] \"number of null values in PAY_5 Column is equal to: 185\"\n",
      "[1] \"number of null values in PAY_5 Column is equal to: 203\"\n",
      "[1] \"number of null values in LIMIT BILL_AMT1 is equal to: 185\"\n",
      "[1] \"number of null values in LIMIT BILL_AMT2 is equal to: 209\"\n",
      "[1] \"number of null values in LIMIT BILL_AMT3 is equal to: 175\"\n",
      "[1] \"number of null values in LIMIT BILL_AMT4 is equal to: 165\"\n",
      "[1] \"number of null values in LIMIT BILL_AMT5 is equal to: 181\"\n",
      "[1] \"number of null values in LIMIT BILL_AMT6 is equal to: 197\"\n",
      "[1] \"number of null values in LIMIT PAY_AMT1 is equal to: 204\"\n",
      "[1] \"number of null values in LIMIT PAY_AMT2 is equal to: 184\"\n",
      "[1] \"number of null values in LIMIT PAY_AMT3 is equal to: 212\"\n",
      "[1] \"number of null values in LIMIT PAY_AMT4 is equal to: 197\"\n",
      "[1] \"number of null values in LIMIT PAY_AMT5 is equal to: 179\"\n",
      "[1] \"number of null values in LIMIT PAY_AMT6 is equal to: 196\"\n",
      "[1] \"number of null values in default.payment.next.month Column is equal to: 0\"\n"
     ]
    }
   ],
   "source": [
    "print(paste('number of null values in LIMIT BALANC Column is equal to:',sum(is.na(credit$LIMIT_BAL))))\n",
    "print(paste('number of null values in Gender Column is equal to:',sum(is.na(credit$SEX))))\n",
    "print(paste('number of null values in EDUCATION Column is equal to:',sum(is.na(credit$ EDUCATION))))\n",
    "print(paste('number of null values in MARRIAGE Column is equal to:',sum(is.na(credit$MARRIAGE))))\n",
    "print(paste('number of null values in AGE Column is equal to:',sum(is.na(credit$AGE))))\n",
    "print(paste('number of null values in PAY_0 Column is equal to:',sum(is.na(credit$PAY_0))))\n",
    "print(paste('number of null values in PAY_2 Column is equal to:',sum(is.na(credit$PAY_2))))\n",
    "print(paste('number of null values in PAY_3 Column is equal to:',sum(is.na(credit$PAY_3))))\n",
    "print(paste('number of null values in PAY_4 Column is equal to:',sum(is.na(credit$PAY_4))))\n",
    "print(paste('number of null values in PAY_5 Column is equal to:',sum(is.na(credit$PAY_5))))\n",
    "print(paste('number of null values in PAY_5 Column is equal to:',sum(is.na(credit$PAY_6))))\n",
    "print(paste('number of null values in LIMIT BILL_AMT1 is equal to:',sum(is.na(credit$BILL_AMT1))))\n",
    "print(paste('number of null values in LIMIT BILL_AMT2 is equal to:',sum(is.na(credit$BILL_AMT2))))\n",
    "print(paste('number of null values in LIMIT BILL_AMT3 is equal to:',sum(is.na(credit$BILL_AMT3))))\n",
    "print(paste('number of null values in LIMIT BILL_AMT4 is equal to:',sum(is.na(credit$BILL_AMT4))))\n",
    "print(paste('number of null values in LIMIT BILL_AMT5 is equal to:',sum(is.na(credit$BILL_AMT5))))\n",
    "print(paste('number of null values in LIMIT BILL_AMT6 is equal to:',sum(is.na(credit$BILL_AMT6))))\n",
    "print(paste('number of null values in LIMIT PAY_AMT1 is equal to:',sum(is.na(credit$PAY_AMT1))))\n",
    "print(paste('number of null values in LIMIT PAY_AMT2 is equal to:',sum(is.na(credit$PAY_AMT2))))\n",
    "print(paste('number of null values in LIMIT PAY_AMT3 is equal to:',sum(is.na(credit$PAY_AMT3))))\n",
    "print(paste('number of null values in LIMIT PAY_AMT4 is equal to:',sum(is.na(credit$PAY_AMT4))))\n",
    "print(paste('number of null values in LIMIT PAY_AMT5 is equal to:',sum(is.na(credit$PAY_AMT5))))\n",
    "print(paste('number of null values in LIMIT PAY_AMT6 is equal to:',sum(is.na(credit$PAY_AMT6))))\n",
    "print(paste('number of null values in default.payment.next.month Column is equal to:',sum(is.na(credit$default.payment.next.month))))"
   ]
  },
  {
   "cell_type": "code",
   "execution_count": 340,
   "id": "6b0538b7",
   "metadata": {},
   "outputs": [
    {
     "data": {
      "text/html": [
       "4"
      ],
      "text/latex": [
       "4"
      ],
      "text/markdown": [
       "4"
      ],
      "text/plain": [
       "[1] 4"
      ]
     },
     "metadata": {},
     "output_type": "display_data"
    }
   ],
   "source": [
    "#the maximum number of NA in one row\n",
    "sum(is.na(credit[which.max(rowSums(is.na(credit))),]))"
   ]
  },
  {
   "cell_type": "code",
   "execution_count": 341,
   "id": "4c6305ea",
   "metadata": {},
   "outputs": [],
   "source": [
    "#Dealing With NAs\n",
    "# here I use dplyr and fill NAs by most probable value of each comuln that can be median, average or the most popular\n",
    "# fill NAs of all columns with Median except categorical and binary columns\n",
    "# LIMIT_BAL\n",
    "credit[is.na(credit$LIMIT_BAL),]$LIMIT_BAL<-median(credit$LIMIT_BAL, na.rm = TRUE)\n",
    "# AGE\n",
    "credit[is.na(credit$AGE),]$AGE<-median(credit$AGE, na.rm = TRUE)\n",
    "# PAY_0\n",
    "credit[is.na(credit$PAY_0),]$PAY_0<-median(credit$PAY_0, na.rm = TRUE)\n",
    "# PAY_2\n",
    "credit[is.na(credit$PAY_2),]$PAY_2<-median(credit$PAY_2, na.rm = TRUE)\n",
    "# PAY_3\n",
    "credit[is.na(credit$PAY_3),]$PAY_3<-median(credit$PAY_3, na.rm = TRUE)\n",
    "# PAY_4\n",
    "credit[is.na(credit$PAY_4),]$PAY_4<-median(credit$PAY_4, na.rm = TRUE)\n",
    "# PAY_5\n",
    "credit[is.na(credit$PAY_5),]$PAY_5<-median(credit$PAY_5, na.rm = TRUE)\n",
    "# PAY_6\n",
    "credit[is.na(credit$PAY_6),]$PAY_6<-median(credit$PAY_6, na.rm = TRUE)\n",
    "# BILL_AMT1\n",
    "credit[is.na(credit$BILL_AMT1),]$BILL_AMT1<-median(credit$BILL_AMT1, na.rm = TRUE)\n",
    "# BILL_AMT2\n",
    "credit[is.na(credit$BILL_AMT2),]$BILL_AMT2<-median(credit$BILL_AMT2, na.rm = TRUE)\n",
    "# BILL_AMT3\n",
    "credit[is.na(credit$BILL_AMT3),]$BILL_AMT3<-median(credit$BILL_AMT3, na.rm = TRUE)\n",
    "# BILL_AMT4\n",
    "credit[is.na(credit$BILL_AMT4),]$BILL_AMT4<-median(credit$BILL_AMT4, na.rm = TRUE)\n",
    "# BILL_AMT5\n",
    "credit[is.na(credit$BILL_AMT5),]$BILL_AMT5<-median(credit$BILL_AMT5, na.rm = TRUE)\n",
    "# BILL_AMT6\n",
    "credit[is.na(credit$BILL_AMT6),]$BILL_AMT6<-median(credit$BILL_AMT6, na.rm = TRUE)\n",
    "# PAY_AMT1\n",
    "credit[is.na(credit$PAY_AMT1),]$PAY_AMT1<-median(credit$PAY_AMT1, na.rm = TRUE)\n",
    "# PAY_AMT2\n",
    "credit[is.na(credit$PAY_AMT2),]$PAY_AMT2<-median(credit$PAY_AMT2, na.rm = TRUE)\n",
    "# PAY_AMT3\n",
    "credit[is.na(credit$PAY_AMT3),]$PAY_AMT3<-median(credit$PAY_AMT3, na.rm = TRUE)\n",
    "# PAY_AMT4\n",
    "credit[is.na(credit$PAY_AMT4),]$PAY_AMT4<-median(credit$PAY_AMT4, na.rm = TRUE)\n",
    "# PAY_AMT5\n",
    "credit[is.na(credit$PAY_AMT5),]$PAY_AMT5<-median(credit$PAY_AMT5, na.rm = TRUE)\n",
    "# PAY_AMT6\n",
    "credit[is.na(credit$PAY_AMT6),]$PAY_AMT6<-median(credit$PAY_AMT6, na.rm = TRUE)"
   ]
  },
  {
   "cell_type": "code",
   "execution_count": 342,
   "id": "a82c6fde",
   "metadata": {},
   "outputs": [
    {
     "data": {
      "text/html": [
       "<table class=\"dataframe\">\n",
       "<caption>A data.frame: 3 × 2</caption>\n",
       "<thead>\n",
       "\t<tr><th scope=col>SEX</th><th scope=col>n</th></tr>\n",
       "\t<tr><th scope=col>&lt;int&gt;</th><th scope=col>&lt;int&gt;</th></tr>\n",
       "</thead>\n",
       "<tbody>\n",
       "\t<tr><td> 1</td><td> 7855</td></tr>\n",
       "\t<tr><td> 2</td><td>11984</td></tr>\n",
       "\t<tr><td>NA</td><td>  161</td></tr>\n",
       "</tbody>\n",
       "</table>\n"
      ],
      "text/latex": [
       "A data.frame: 3 × 2\n",
       "\\begin{tabular}{ll}\n",
       " SEX & n\\\\\n",
       " <int> & <int>\\\\\n",
       "\\hline\n",
       "\t  1 &  7855\\\\\n",
       "\t  2 & 11984\\\\\n",
       "\t NA &   161\\\\\n",
       "\\end{tabular}\n"
      ],
      "text/markdown": [
       "\n",
       "A data.frame: 3 × 2\n",
       "\n",
       "| SEX &lt;int&gt; | n &lt;int&gt; |\n",
       "|---|---|\n",
       "|  1 |  7855 |\n",
       "|  2 | 11984 |\n",
       "| NA |   161 |\n",
       "\n"
      ],
      "text/plain": [
       "  SEX n    \n",
       "1  1   7855\n",
       "2  2  11984\n",
       "3 NA    161"
      ]
     },
     "metadata": {},
     "output_type": "display_data"
    }
   ],
   "source": [
    "# diferent groups\n",
    "credit%>%count(SEX)\n",
    "# NAs of sex with most frequent gender which is 2\n",
    "credit[is.na(credit$SEX),]$SEX<-2\n",
    "# convert 2 to Zero\n",
    "credit[credit$SEX==2,]$SEX<-0"
   ]
  },
  {
   "cell_type": "code",
   "execution_count": 343,
   "id": "167f76c2",
   "metadata": {},
   "outputs": [
    {
     "data": {
      "text/html": [
       "<table class=\"dataframe\">\n",
       "<caption>A data.frame: 8 × 2</caption>\n",
       "<thead>\n",
       "\t<tr><th scope=col>EDUCATION</th><th scope=col>n</th></tr>\n",
       "\t<tr><th scope=col>&lt;int&gt;</th><th scope=col>&lt;int&gt;</th></tr>\n",
       "</thead>\n",
       "<tbody>\n",
       "\t<tr><td> 0</td><td>   8</td></tr>\n",
       "\t<tr><td> 1</td><td>6987</td></tr>\n",
       "\t<tr><td> 2</td><td>9285</td></tr>\n",
       "\t<tr><td> 3</td><td>3225</td></tr>\n",
       "\t<tr><td> 4</td><td>  77</td></tr>\n",
       "\t<tr><td> 5</td><td> 184</td></tr>\n",
       "\t<tr><td> 6</td><td>  35</td></tr>\n",
       "\t<tr><td>NA</td><td> 199</td></tr>\n",
       "</tbody>\n",
       "</table>\n"
      ],
      "text/latex": [
       "A data.frame: 8 × 2\n",
       "\\begin{tabular}{ll}\n",
       " EDUCATION & n\\\\\n",
       " <int> & <int>\\\\\n",
       "\\hline\n",
       "\t  0 &    8\\\\\n",
       "\t  1 & 6987\\\\\n",
       "\t  2 & 9285\\\\\n",
       "\t  3 & 3225\\\\\n",
       "\t  4 &   77\\\\\n",
       "\t  5 &  184\\\\\n",
       "\t  6 &   35\\\\\n",
       "\t NA &  199\\\\\n",
       "\\end{tabular}\n"
      ],
      "text/markdown": [
       "\n",
       "A data.frame: 8 × 2\n",
       "\n",
       "| EDUCATION &lt;int&gt; | n &lt;int&gt; |\n",
       "|---|---|\n",
       "|  0 |    8 |\n",
       "|  1 | 6987 |\n",
       "|  2 | 9285 |\n",
       "|  3 | 3225 |\n",
       "|  4 |   77 |\n",
       "|  5 |  184 |\n",
       "|  6 |   35 |\n",
       "| NA |  199 |\n",
       "\n"
      ],
      "text/plain": [
       "  EDUCATION n   \n",
       "1  0           8\n",
       "2  1        6987\n",
       "3  2        9285\n",
       "4  3        3225\n",
       "5  4          77\n",
       "6  5         184\n",
       "7  6          35\n",
       "8 NA         199"
      ]
     },
     "metadata": {},
     "output_type": "display_data"
    }
   ],
   "source": [
    "# diferent groups\n",
    "credit%>%count(EDUCATION)\n",
    "# NAs of EDUCATION with most frequent group which is 2\n",
    "credit[is.na(credit$ EDUCATION),]$ EDUCATION<-2"
   ]
  },
  {
   "cell_type": "code",
   "execution_count": 344,
   "id": "e39b195c",
   "metadata": {},
   "outputs": [
    {
     "data": {
      "text/html": [
       "<table class=\"dataframe\">\n",
       "<caption>A data.frame: 5 × 2</caption>\n",
       "<thead>\n",
       "\t<tr><th scope=col>MARRIAGE</th><th scope=col>n</th></tr>\n",
       "\t<tr><th scope=col>&lt;int&gt;</th><th scope=col>&lt;int&gt;</th></tr>\n",
       "</thead>\n",
       "<tbody>\n",
       "\t<tr><td> 0</td><td>   36</td></tr>\n",
       "\t<tr><td> 1</td><td> 8958</td></tr>\n",
       "\t<tr><td> 2</td><td>10623</td></tr>\n",
       "\t<tr><td> 3</td><td>  213</td></tr>\n",
       "\t<tr><td>NA</td><td>  170</td></tr>\n",
       "</tbody>\n",
       "</table>\n"
      ],
      "text/latex": [
       "A data.frame: 5 × 2\n",
       "\\begin{tabular}{ll}\n",
       " MARRIAGE & n\\\\\n",
       " <int> & <int>\\\\\n",
       "\\hline\n",
       "\t  0 &    36\\\\\n",
       "\t  1 &  8958\\\\\n",
       "\t  2 & 10623\\\\\n",
       "\t  3 &   213\\\\\n",
       "\t NA &   170\\\\\n",
       "\\end{tabular}\n"
      ],
      "text/markdown": [
       "\n",
       "A data.frame: 5 × 2\n",
       "\n",
       "| MARRIAGE &lt;int&gt; | n &lt;int&gt; |\n",
       "|---|---|\n",
       "|  0 |    36 |\n",
       "|  1 |  8958 |\n",
       "|  2 | 10623 |\n",
       "|  3 |   213 |\n",
       "| NA |   170 |\n",
       "\n"
      ],
      "text/plain": [
       "  MARRIAGE n    \n",
       "1  0          36\n",
       "2  1        8958\n",
       "3  2       10623\n",
       "4  3         213\n",
       "5 NA         170"
      ]
     },
     "metadata": {},
     "output_type": "display_data"
    }
   ],
   "source": [
    "# diferent groups\n",
    "credit%>%count(MARRIAGE)\n",
    "# NAs of MARRIAGE with most frequent group which is 2\n",
    "credit[is.na(credit$MARRIAGE),]$MARRIAGE<-2"
   ]
  },
  {
   "cell_type": "code",
   "execution_count": 347,
   "id": "c10357d2",
   "metadata": {},
   "outputs": [
    {
     "name": "stderr",
     "output_type": "stream",
     "text": [
      "Warning message in model.matrix.default(~x - 1, model.frame(~x - 1), contrasts = FALSE):\n",
      "\"non-list contrasts argument ignored\"\n",
      "Warning message in model.matrix.default(~x - 1, model.frame(~x - 1), contrasts = FALSE):\n",
      "\"non-list contrasts argument ignored\"\n"
     ]
    }
   ],
   "source": [
    "cat_list<-c('EDUCATION','MARRIAGE')\n",
    "\n",
    "# Convert categorical variables to dummy variables\n",
    "dummy_list <- list()\n",
    "for (v in cat_list) {\n",
    "    # Create dummy variables\n",
    "    tmp <- dummy(v, data=credit, sep=\"_\", drop=TRUE)\n",
    "    # Drop the 1st column\n",
    "    tmp <- tmp[, 2:ncol(tmp), drop=FALSE]\n",
    "    # Store the results\n",
    "    dummy_list[[length(dummy_list)+1]] <- tmp\n",
    "}\n",
    "\n",
    "# Combine the dummy variables\n",
    "dummy_df <- do.call(cbind, dummy_list)\n",
    "# Add the dummy variables to the data frame\n",
    "credit <- cbind(credit, dummy_df)\n",
    "\n",
    "# Drop the original variable\n",
    "credit <- credit[, !(names(credit) %in% cat_list)]"
   ]
  },
  {
   "cell_type": "code",
   "execution_count": 349,
   "id": "a2a00365",
   "metadata": {},
   "outputs": [],
   "source": [
    "# renaming the Column of Target Variable\n",
    "credit<-credit%>%rename(default=default.payment.next.month)\n",
    "#Saving the Base Table\n",
    "fwrite(credit,'./Data/BaseTable.csv')"
   ]
  },
  {
   "cell_type": "markdown",
   "id": "dea938e9",
   "metadata": {},
   "source": [
    "### 4. Data Exploration"
   ]
  },
  {
   "cell_type": "code",
   "execution_count": 350,
   "id": "904ecdd3",
   "metadata": {},
   "outputs": [
    {
     "name": "stdout",
     "output_type": "stream",
     "text": [
      "'data.frame':\t20000 obs. of  31 variables:\n",
      " $ LIMIT_BAL  : num  70000 390000 60000 140000 50000 20000 50000 250000 320000 300000 ...\n",
      " $ SEX        : int  1 0 1 0 1 1 1 1 0 1 ...\n",
      " $ AGE        : int  34 26 27 55 29 37 44 30 36 35 ...\n",
      " $ PAY_0      : int  0 2 0 0 2 0 0 0 -2 0 ...\n",
      " $ PAY_2      : int  0 2 0 0 2 0 0 0 -2 0 ...\n",
      " $ PAY_3      : int  0 2 0 0 2 0 0 0 -2 0 ...\n",
      " $ PAY_4      : int  0 0 0 0 0 0 2 -1 -2 0 ...\n",
      " $ PAY_5      : int  0 0 0 0 0 0 0 2 -2 0 ...\n",
      " $ PAY_6      : int  0 0 2 0 -2 0 0 -1 -2 0 ...\n",
      " $ BILL_AMT1  : int  53972 185111 21387 108038 7881 20009 22221 5724 29862 91282 ...\n",
      " $ BILL_AMT2  : int  23149 172865 22416 110216 10415 20602 50525 6729 33785 45885 ...\n",
      " $ BILL_AMT3  : int  23968 153795 23444 84516 3997 21255 51463 4973 4900 35329 ...\n",
      " $ BILL_AMT4  : int  25559 140387 26038 72391 1047 19105 49952 9693 15813 29368 ...\n",
      " $ BILL_AMT5  : int  26134 128112 28607 61298 0 19609 19584 799 0 18833 ...\n",
      " $ BILL_AMT6  : int  26715 115514 27997 62193 0 19283 19080 4295 0 93329 ...\n",
      " $ PAY_AMT1   : num  1700 5000 1378 4200 3000 ...\n",
      " $ PAY_AMT2   : num  1500 3000 1406 2822 0 ...\n",
      " $ PAY_AMT3   : num  2000 5000 3000 2336 1000 ...\n",
      " $ PAY_AMT4   : int  1000 4548 3000 2588 0 1000 837 0 0 1250 ...\n",
      " $ PAY_AMT5   : int  1000 4100 0 2250 0 900 700 4305 0 80934 ...\n",
      " $ PAY_AMT6   : num  2000 3300 923 2491 0 ...\n",
      " $ default    : int  0 0 1 0 1 0 0 0 1 0 ...\n",
      " $ EDUCATION_1: int  0 0 1 0 1 0 0 0 0 1 ...\n",
      " $ EDUCATION_2: int  0 1 0 1 0 1 0 1 1 0 ...\n",
      " $ EDUCATION_3: int  1 0 0 0 0 0 1 0 0 0 ...\n",
      " $ EDUCATION_4: int  0 0 0 0 0 0 0 0 0 0 ...\n",
      " $ EDUCATION_5: int  0 0 0 0 0 0 0 0 0 0 ...\n",
      " $ EDUCATION_6: int  0 0 0 0 0 0 0 0 0 0 ...\n",
      " $ MARRIAGE_1 : int  0 0 0 1 0 0 0 0 0 1 ...\n",
      " $ MARRIAGE_2 : int  1 1 1 0 1 1 1 1 1 0 ...\n",
      " $ MARRIAGE_3 : int  0 0 0 0 0 0 0 0 0 0 ...\n"
     ]
    }
   ],
   "source": [
    "# reading the table\n",
    "DF <- read.csv('./Data/BaseTable.csv')\n",
    "#straucture  of the data\n",
    "str(DF)"
   ]
  },
  {
   "cell_type": "code",
   "execution_count": 351,
   "id": "a1cf52c8",
   "metadata": {},
   "outputs": [
    {
     "data": {
      "text/html": [
       "0"
      ],
      "text/latex": [
       "0"
      ],
      "text/markdown": [
       "0"
      ],
      "text/plain": [
       "[1] 0"
      ]
     },
     "metadata": {},
     "output_type": "display_data"
    }
   ],
   "source": [
    "sum(is.na(DF))"
   ]
  },
  {
   "cell_type": "code",
   "execution_count": 352,
   "id": "a4743250",
   "metadata": {},
   "outputs": [
    {
     "data": {
      "text/plain": [
       "NULL"
      ]
     },
     "metadata": {},
     "output_type": "display_data"
    },
    {
     "data": {
      "image/png": "[encoded data removed]",
      "text/plain": [
       "plot without title"
      ]
     },
     "metadata": {
      "image/png": {
       "height": 600,
       "width": 600
      }
     },
     "output_type": "display_data"
    }
   ],
   "source": [
    "# Pair plot Default VS PAY\n",
    "options(repr.plot.width=10, repr.plot.height=10)\n",
    "cols <- rep('blue', nrow(DF))  # no default\n",
    "cols[DF$default == 0] <- 'red'  # Default\n",
    "D.VS.Pay<-pairs(default ~ PAY_0 + PAY_2 + PAY_3 + PAY_4 + PAY_5 + PAY_6 , data=DF, col=cols)\n",
    "D.VS.Pay"
   ]
  },
  {
   "cell_type": "code",
   "execution_count": 353,
   "id": "20a8a2fe",
   "metadata": {},
   "outputs": [
    {
     "data": {
      "text/plain": [
       "NULL"
      ]
     },
     "metadata": {},
     "output_type": "display_data"
    },
    {
     "data": {
      "image/png": "[encoded data removed]",
      "text/plain": [
       "plot without title"
      ]
     },
     "metadata": {
      "image/png": {
       "height": 600,
       "width": 600
      }
     },
     "output_type": "display_data"
    }
   ],
   "source": [
    "# Pair plot Default VS Bill\n",
    "options(repr.plot.width=10, repr.plot.height=10)\n",
    "cols <- rep('blue', nrow(DF))  # no default\n",
    "cols[DF$default == 0] <- 'red'  # Default\n",
    "D.VS.Bill<-pairs(default ~ BILL_AMT1 + BILL_AMT2 +\n",
    "                 BILL_AMT3 + BILL_AMT4 + BILL_AMT5 + BILL_AMT6 , data=DF, col=cols)\n",
    "D.VS.Bill"
   ]
  },
  {
   "cell_type": "code",
   "execution_count": 354,
   "id": "b5fa4093",
   "metadata": {},
   "outputs": [
    {
     "data": {
      "text/plain": [
       "NULL"
      ]
     },
     "metadata": {},
     "output_type": "display_data"
    },
    {
     "data": {
      "image/png": "[encoded data removed]",
      "text/plain": [
       "plot without title"
      ]
     },
     "metadata": {
      "image/png": {
       "height": 600,
       "width": 600
      }
     },
     "output_type": "display_data"
    }
   ],
   "source": [
    "# Pair plot Default VS PAY_AMT\n",
    "options(repr.plot.width=10, repr.plot.height=10)\n",
    "cols <- rep('blue', nrow(DF))  # no default\n",
    "cols[DF$default == 0] <- 'red'  # Default\n",
    "D.VS.PAY_AMT<-pairs(default ~ PAY_AMT1 + PAY_AMT2 +\n",
    "                 PAY_AMT3 + PAY_AMT4 + PAY_AMT5 + PAY_AMT6 , data=DF, col=cols)\n",
    "D.VS.PAY_AMT"
   ]
  },
  {
   "cell_type": "code",
   "execution_count": 355,
   "id": "be1b0d71",
   "metadata": {},
   "outputs": [
    {
     "data": {
      "text/plain": [
       "NULL"
      ]
     },
     "metadata": {},
     "output_type": "display_data"
    },
    {
     "data": {
      "image/png": "[encoded data removed]",
      "text/plain": [
       "plot without title"
      ]
     },
     "metadata": {
      "image/png": {
       "height": 600,
       "width": 600
      }
     },
     "output_type": "display_data"
    }
   ],
   "source": [
    "# Pair plot Default VS all rest\n",
    "options(repr.plot.width=10, repr.plot.height=10)\n",
    "cols <- rep('blue', nrow(DF))  # no default\n",
    "cols[DF$default == 0] <- 'red'  # Default\n",
    "D.VS.R<-pairs(default ~ LIMIT_BAL + SEX + \n",
    "                 EDUCATION_1 + EDUCATION_2+EDUCATION_3+EDUCATION_4+EDUCATION_5+EDUCATION_6+\n",
    "              MARRIAGE_1 + MARRIAGE_2+ MARRIAGE_3 + AGE  , data=DF, col=cols)\n",
    "D.VS.R"
   ]
  },
  {
   "cell_type": "code",
   "execution_count": 356,
   "id": "d6ac0210",
   "metadata": {},
   "outputs": [
    {
     "data": {
      "image/png": "[encoded data removed]",
      "text/plain": [
       "plot without title"
      ]
     },
     "metadata": {
      "image/png": {
       "height": 480,
       "width": 720
      }
     },
     "output_type": "display_data"
    }
   ],
   "source": [
    "# Relationship between balance and default\n",
    "options(repr.plot.width=12, repr.plot.height=8)\n",
    "cols <- rep('blue', nrow(DF))  # Not default\n",
    "cols[DF$default == 1] <- 'red'  # Default\n",
    "\n",
    "par(mfrow=c(1, 2))\n",
    "\n",
    "plot(x=DF$LIMIT_BAL, y=DF$default,  # Plot the data\n",
    "     xlab='Balance', ylab='Default',\n",
    "     pch='|', cex=0.5, col=cols)\n",
    "\n",
    "boxplot(LIMIT_BAL ~ default, data=DF,\n",
    "        col=c('blue', 'red'),\n",
    "        xlab='Default', ylab='Balance')"
   ]
  },
  {
   "cell_type": "code",
   "execution_count": 357,
   "id": "82d43171",
   "metadata": {},
   "outputs": [
    {
     "data": {
      "image/png": "[encoded data removed]",
      "text/plain": [
       "plot without title"
      ]
     },
     "metadata": {
      "image/png": {
       "height": 480,
       "width": 720
      }
     },
     "output_type": "display_data"
    }
   ],
   "source": [
    "# Relationship between balance and default\n",
    "options(repr.plot.width=12, repr.plot.height=8)\n",
    "cols <- rep('blue', nrow(DF))  # Not default\n",
    "cols[DF$default == 1] <- 'red'  # Default\n",
    "\n",
    "par(mfrow=c(1, 2))\n",
    "\n",
    "plot(x=DF$BILL_AMT6, y=DF$default,  # Plot the data\n",
    "     xlab='Balance', ylab='Default',\n",
    "     pch='|', cex=0.5, col=cols)\n",
    "\n",
    "boxplot(BILL_AMT6 ~ default, data=DF,\n",
    "        col=c('blue', 'red'),\n",
    "        xlab='Default', ylab='Balance')"
   ]
  },
  {
   "cell_type": "code",
   "execution_count": 358,
   "id": "f3bf49fd",
   "metadata": {},
   "outputs": [
    {
     "data": {
      "image/png": "[encoded data removed]",
      "text/plain": [
       "plot without title"
      ]
     },
     "metadata": {
      "image/png": {
       "height": 480,
       "width": 720
      }
     },
     "output_type": "display_data"
    }
   ],
   "source": [
    "# Relationship between balance and default\n",
    "options(repr.plot.width=12, repr.plot.height=8)\n",
    "cols <- rep('blue', nrow(DF))  # Not default\n",
    "cols[DF$default == 1] <- 'red'  # Default\n",
    "\n",
    "par(mfrow=c(1, 2))\n",
    "\n",
    "plot(x=DF$PAY_0, y=DF$default,  # Plot the data\n",
    "     xlab='Balance', ylab='Default',\n",
    "     pch='|', cex=0.5, col=cols)\n",
    "\n",
    "boxplot(PAY_0 ~ default, data=DF,\n",
    "        col=c('blue', 'red'),\n",
    "        xlab='Default', ylab='Balance')"
   ]
  },
  {
   "cell_type": "code",
   "execution_count": 359,
   "id": "332f8d13",
   "metadata": {},
   "outputs": [],
   "source": [
    "set.seed(613)\n",
    "#seting the row indexes\n",
    "index <- sample(1:nrow(DF), round(0.3 * nrow(DF), 0))\n",
    "#spliting data based on the index\n",
    "train <- DF[index, ]\n",
    "test <- DF[-index, ]\n",
    "#Selecting independent columns\n",
    "selected_columns<-c(names(DF%>%select(-default)))\n"
   ]
  },
  {
   "cell_type": "markdown",
   "id": "59b8e7bb",
   "metadata": {},
   "source": [
    "## Application of Models"
   ]
  },
  {
   "cell_type": "markdown",
   "id": "2be55783",
   "metadata": {},
   "source": [
    "### 1. Feature Selection"
   ]
  },
  {
   "cell_type": "markdown",
   "id": "babe8769",
   "metadata": {},
   "source": [
    "#### 1.1 exhaustive"
   ]
  },
  {
   "cell_type": "code",
   "execution_count": 360,
   "id": "235d37a7",
   "metadata": {},
   "outputs": [
    {
     "data": {
      "text/plain": [
       "Subset selection object\n",
       "Call: regsubsets.formula(default ~ ., data = DF)\n",
       "30 Variables  (and intercept)\n",
       "            Forced in Forced out\n",
       "LIMIT_BAL       FALSE      FALSE\n",
       "SEX             FALSE      FALSE\n",
       "AGE             FALSE      FALSE\n",
       "PAY_0           FALSE      FALSE\n",
       "PAY_2           FALSE      FALSE\n",
       "PAY_3           FALSE      FALSE\n",
       "PAY_4           FALSE      FALSE\n",
       "PAY_5           FALSE      FALSE\n",
       "PAY_6           FALSE      FALSE\n",
       "BILL_AMT1       FALSE      FALSE\n",
       "BILL_AMT2       FALSE      FALSE\n",
       "BILL_AMT3       FALSE      FALSE\n",
       "BILL_AMT4       FALSE      FALSE\n",
       "BILL_AMT5       FALSE      FALSE\n",
       "BILL_AMT6       FALSE      FALSE\n",
       "PAY_AMT1        FALSE      FALSE\n",
       "PAY_AMT2        FALSE      FALSE\n",
       "PAY_AMT3        FALSE      FALSE\n",
       "PAY_AMT4        FALSE      FALSE\n",
       "PAY_AMT5        FALSE      FALSE\n",
       "PAY_AMT6        FALSE      FALSE\n",
       "EDUCATION_1     FALSE      FALSE\n",
       "EDUCATION_2     FALSE      FALSE\n",
       "EDUCATION_3     FALSE      FALSE\n",
       "EDUCATION_4     FALSE      FALSE\n",
       "EDUCATION_5     FALSE      FALSE\n",
       "EDUCATION_6     FALSE      FALSE\n",
       "MARRIAGE_1      FALSE      FALSE\n",
       "MARRIAGE_2      FALSE      FALSE\n",
       "MARRIAGE_3      FALSE      FALSE\n",
       "1 subsets of each size up to 8\n",
       "Selection Algorithm: exhaustive\n",
       "         LIMIT_BAL SEX AGE PAY_0 PAY_2 PAY_3 PAY_4 PAY_5 PAY_6 BILL_AMT1\n",
       "1  ( 1 ) \" \"       \" \" \" \" \"*\"   \" \"   \" \"   \" \"   \" \"   \" \"   \" \"      \n",
       "2  ( 1 ) \" \"       \" \" \" \" \"*\"   \" \"   \" \"   \" \"   \" \"   \" \"   \"*\"      \n",
       "3  ( 1 ) \" \"       \" \" \" \" \"*\"   \" \"   \"*\"   \" \"   \" \"   \" \"   \"*\"      \n",
       "4  ( 1 ) \" \"       \" \" \" \" \"*\"   \" \"   \"*\"   \" \"   \" \"   \" \"   \"*\"      \n",
       "5  ( 1 ) \" \"       \" \" \" \" \"*\"   \" \"   \"*\"   \" \"   \" \"   \" \"   \"*\"      \n",
       "6  ( 1 ) \" \"       \" \" \" \" \"*\"   \" \"   \"*\"   \" \"   \" \"   \" \"   \"*\"      \n",
       "7  ( 1 ) \" \"       \" \" \" \" \"*\"   \"*\"   \"*\"   \" \"   \" \"   \" \"   \"*\"      \n",
       "8  ( 1 ) \" \"       \" \" \" \" \"*\"   \"*\"   \"*\"   \" \"   \" \"   \" \"   \"*\"      \n",
       "         BILL_AMT2 BILL_AMT3 BILL_AMT4 BILL_AMT5 BILL_AMT6 PAY_AMT1 PAY_AMT2\n",
       "1  ( 1 ) \" \"       \" \"       \" \"       \" \"       \" \"       \" \"      \" \"     \n",
       "2  ( 1 ) \" \"       \" \"       \" \"       \" \"       \" \"       \" \"      \" \"     \n",
       "3  ( 1 ) \" \"       \" \"       \" \"       \" \"       \" \"       \" \"      \" \"     \n",
       "4  ( 1 ) \" \"       \" \"       \" \"       \" \"       \" \"       \"*\"      \" \"     \n",
       "5  ( 1 ) \" \"       \" \"       \" \"       \" \"       \" \"       \"*\"      \" \"     \n",
       "6  ( 1 ) \" \"       \" \"       \" \"       \" \"       \" \"       \"*\"      \" \"     \n",
       "7  ( 1 ) \" \"       \" \"       \" \"       \" \"       \" \"       \"*\"      \" \"     \n",
       "8  ( 1 ) \" \"       \" \"       \" \"       \" \"       \" \"       \"*\"      \" \"     \n",
       "         PAY_AMT3 PAY_AMT4 PAY_AMT5 PAY_AMT6 EDUCATION_1 EDUCATION_2\n",
       "1  ( 1 ) \" \"      \" \"      \" \"      \" \"      \" \"         \" \"        \n",
       "2  ( 1 ) \" \"      \" \"      \" \"      \" \"      \" \"         \" \"        \n",
       "3  ( 1 ) \" \"      \" \"      \" \"      \" \"      \" \"         \" \"        \n",
       "4  ( 1 ) \" \"      \" \"      \" \"      \" \"      \" \"         \" \"        \n",
       "5  ( 1 ) \" \"      \" \"      \" \"      \" \"      \" \"         \" \"        \n",
       "6  ( 1 ) \" \"      \" \"      \" \"      \" \"      \" \"         \" \"        \n",
       "7  ( 1 ) \" \"      \" \"      \" \"      \" \"      \" \"         \" \"        \n",
       "8  ( 1 ) \" \"      \"*\"      \" \"      \" \"      \" \"         \" \"        \n",
       "         EDUCATION_3 EDUCATION_4 EDUCATION_5 EDUCATION_6 MARRIAGE_1 MARRIAGE_2\n",
       "1  ( 1 ) \" \"         \" \"         \" \"         \" \"         \" \"        \" \"       \n",
       "2  ( 1 ) \" \"         \" \"         \" \"         \" \"         \" \"        \" \"       \n",
       "3  ( 1 ) \" \"         \" \"         \" \"         \" \"         \" \"        \" \"       \n",
       "4  ( 1 ) \" \"         \" \"         \" \"         \" \"         \" \"        \" \"       \n",
       "5  ( 1 ) \" \"         \" \"         \" \"         \" \"         \"*\"        \" \"       \n",
       "6  ( 1 ) \" \"         \" \"         \"*\"         \" \"         \"*\"        \" \"       \n",
       "7  ( 1 ) \" \"         \" \"         \"*\"         \" \"         \"*\"        \" \"       \n",
       "8  ( 1 ) \" \"         \" \"         \"*\"         \" \"         \"*\"        \" \"       \n",
       "         MARRIAGE_3\n",
       "1  ( 1 ) \" \"       \n",
       "2  ( 1 ) \" \"       \n",
       "3  ( 1 ) \" \"       \n",
       "4  ( 1 ) \" \"       \n",
       "5  ( 1 ) \" \"       \n",
       "6  ( 1 ) \" \"       \n",
       "7  ( 1 ) \" \"       \n",
       "8  ( 1 ) \" \"       "
      ]
     },
     "metadata": {},
     "output_type": "display_data"
    }
   ],
   "source": [
    "# applying the exhaustive feature selection to data\n",
    "regfit.full=regsubsets(default~.,data=DF)\n",
    "# summary of exhaustive featur selection\n",
    "summary(regfit.full)"
   ]
  },
  {
   "cell_type": "code",
   "execution_count": 427,
   "id": "a46c4699",
   "metadata": {},
   "outputs": [],
   "source": [
    "# applying the forward feature selection to data\n",
    "regfit.fwd=regsubsets(default~.,data=DF,method='forward',nvmax=30)\n",
    "# summary of forward featur selection\n",
    "reg.summary.fwd=summary(regfit.fwd)"
   ]
  },
  {
   "cell_type": "code",
   "execution_count": 428,
   "id": "1713162f",
   "metadata": {},
   "outputs": [
    {
     "data": {
      "text/html": [
       "<style>\n",
       ".list-inline {list-style: none; margin:0; padding: 0}\n",
       ".list-inline>li {display: inline-block}\n",
       ".list-inline>li:not(:last-child)::after {content: \"\\00b7\"; padding: 0 .5ex}\n",
       "</style>\n",
       "<ol class=list-inline><li>'which'</li><li>'rsq'</li><li>'rss'</li><li>'adjr2'</li><li>'cp'</li><li>'bic'</li><li>'outmat'</li><li>'obj'</li></ol>\n"
      ],
      "text/latex": [
       "\\begin{enumerate*}\n",
       "\\item 'which'\n",
       "\\item 'rsq'\n",
       "\\item 'rss'\n",
       "\\item 'adjr2'\n",
       "\\item 'cp'\n",
       "\\item 'bic'\n",
       "\\item 'outmat'\n",
       "\\item 'obj'\n",
       "\\end{enumerate*}\n"
      ],
      "text/markdown": [
       "1. 'which'\n",
       "2. 'rsq'\n",
       "3. 'rss'\n",
       "4. 'adjr2'\n",
       "5. 'cp'\n",
       "6. 'bic'\n",
       "7. 'outmat'\n",
       "8. 'obj'\n",
       "\n",
       "\n"
      ],
      "text/plain": [
       "[1] \"which\"  \"rsq\"    \"rss\"    \"adjr2\"  \"cp\"     \"bic\"    \"outmat\" \"obj\"   "
      ]
     },
     "metadata": {},
     "output_type": "display_data"
    }
   ],
   "source": [
    "# coeficient names for forward feature selection\n",
    "names(reg.summary.fwd)"
   ]
  },
  {
   "cell_type": "code",
   "execution_count": 429,
   "id": "aef1cdec",
   "metadata": {},
   "outputs": [
    {
     "data": {
      "text/html": [
       "<style>\n",
       ".list-inline {list-style: none; margin:0; padding: 0}\n",
       ".list-inline>li {display: inline-block}\n",
       ".list-inline>li:not(:last-child)::after {content: \"\\00b7\"; padding: 0 .5ex}\n",
       "</style>\n",
       "<ol class=list-inline><li>0.0977088674768107</li><li>0.103945258269338</li><li>0.109079794175006</li><li>0.110858026120786</li><li>0.111983356612625</li><li>0.112924697654583</li><li>0.113718595484997</li><li>0.114384175913184</li><li>0.114743764501216</li><li>0.115093020397656</li><li>0.115416914305061</li><li>0.115725987865587</li><li>0.115985431047118</li><li>0.116270935980324</li><li>0.1164577099562</li><li>0.116603847682379</li><li>0.116742927138968</li><li>0.116807521552417</li><li>0.116845515653987</li><li>0.116862218240738</li><li>0.116898227576243</li><li>0.116944866399829</li><li>0.116975791835509</li><li>0.116991185439125</li><li>0.117002510790382</li><li>0.11720806086833</li><li>0.117209039086104</li><li>0.117209199394823</li><li>0.117276011323973</li><li>0.117276151823411</li></ol>\n"
      ],
      "text/latex": [
       "\\begin{enumerate*}\n",
       "\\item 0.0977088674768107\n",
       "\\item 0.103945258269338\n",
       "\\item 0.109079794175006\n",
       "\\item 0.110858026120786\n",
       "\\item 0.111983356612625\n",
       "\\item 0.112924697654583\n",
       "\\item 0.113718595484997\n",
       "\\item 0.114384175913184\n",
       "\\item 0.114743764501216\n",
       "\\item 0.115093020397656\n",
       "\\item 0.115416914305061\n",
       "\\item 0.115725987865587\n",
       "\\item 0.115985431047118\n",
       "\\item 0.116270935980324\n",
       "\\item 0.1164577099562\n",
       "\\item 0.116603847682379\n",
       "\\item 0.116742927138968\n",
       "\\item 0.116807521552417\n",
       "\\item 0.116845515653987\n",
       "\\item 0.116862218240738\n",
       "\\item 0.116898227576243\n",
       "\\item 0.116944866399829\n",
       "\\item 0.116975791835509\n",
       "\\item 0.116991185439125\n",
       "\\item 0.117002510790382\n",
       "\\item 0.11720806086833\n",
       "\\item 0.117209039086104\n",
       "\\item 0.117209199394823\n",
       "\\item 0.117276011323973\n",
       "\\item 0.117276151823411\n",
       "\\end{enumerate*}\n"
      ],
      "text/markdown": [
       "1. 0.0977088674768107\n",
       "2. 0.103945258269338\n",
       "3. 0.109079794175006\n",
       "4. 0.110858026120786\n",
       "5. 0.111983356612625\n",
       "6. 0.112924697654583\n",
       "7. 0.113718595484997\n",
       "8. 0.114384175913184\n",
       "9. 0.114743764501216\n",
       "10. 0.115093020397656\n",
       "11. 0.115416914305061\n",
       "12. 0.115725987865587\n",
       "13. 0.115985431047118\n",
       "14. 0.116270935980324\n",
       "15. 0.1164577099562\n",
       "16. 0.116603847682379\n",
       "17. 0.116742927138968\n",
       "18. 0.116807521552417\n",
       "19. 0.116845515653987\n",
       "20. 0.116862218240738\n",
       "21. 0.116898227576243\n",
       "22. 0.116944866399829\n",
       "23. 0.116975791835509\n",
       "24. 0.116991185439125\n",
       "25. 0.117002510790382\n",
       "26. 0.11720806086833\n",
       "27. 0.117209039086104\n",
       "28. 0.117209199394823\n",
       "29. 0.117276011323973\n",
       "30. 0.117276151823411\n",
       "\n",
       "\n"
      ],
      "text/plain": [
       " [1] 0.09770887 0.10394526 0.10907979 0.11085803 0.11198336 0.11292470\n",
       " [7] 0.11371860 0.11438418 0.11474376 0.11509302 0.11541691 0.11572599\n",
       "[13] 0.11598543 0.11627094 0.11645771 0.11660385 0.11674293 0.11680752\n",
       "[19] 0.11684552 0.11686222 0.11689823 0.11694487 0.11697579 0.11699119\n",
       "[25] 0.11700251 0.11720806 0.11720904 0.11720920 0.11727601 0.11727615"
      ]
     },
     "metadata": {},
     "output_type": "display_data"
    }
   ],
   "source": [
    "#summary of RSQ for forward feature selection\n",
    "reg.summary.fwd$rsq"
   ]
  },
  {
   "cell_type": "code",
   "execution_count": 430,
   "id": "8e1f8650",
   "metadata": {},
   "outputs": [
    {
     "data": {
      "image/png": "[encoded data removed]",
      "text/plain": [
       "plot without title"
      ]
     },
     "metadata": {
      "image/png": {
       "height": 480,
       "width": 720
      }
     },
     "output_type": "display_data"
    }
   ],
   "source": [
    "#plot 4 diferent coeficient to show the best number of the features in diferent coeficients\n",
    "#paring axies to 4 cells\n",
    "par(mfrow=c(2,2))\n",
    "#plot the RSS\n",
    "plot(reg.summary.fwd$rss,xlab='Number of Variables',ylab='RSS',type='l')\n",
    "# Plot the adjusted rate 2 \n",
    "plot(reg.summary.fwd$adjr2,xlab='Number of Variables',ylab='Adjusted R square',type='l')\n",
    "# define the optimum point of adjusted rate 2\n",
    "points(which.max(reg.summary.fwd$adjr2),reg.summary.fwd$adjr2[which.max(reg.summary.fwd$adjr2)],col='red',cex=2,pch=20)\n",
    "#plot the cp\n",
    "plot(reg.summary.fwd$cp,xlab=\"Number of Variables\",ylab=\"Cp\",type='l')\n",
    "# define the optimum point of cp\n",
    "points(which.min(reg.summary.fwd$cp),reg.summary.fwd$cp[which.min(reg.summary.fwd$cp)],col=\"red\",cex=2,pch=20)\n",
    "# plot the Bic \n",
    "plot(reg.summary.fwd$bic,xlab=\"Number of Variables\",ylab=\"BIC\",type='l')\n",
    "# define the optimum point of bic\n",
    "points(which.min(reg.summary.fwd$bic),reg.summary.fwd$bic[which.min(reg.summary.fwd$bic)],col=\"red\",cex=2,pch=20)"
   ]
  },
  {
   "cell_type": "code",
   "execution_count": 431,
   "id": "5b93882a",
   "metadata": {},
   "outputs": [
    {
     "data": {
      "image/png": "[encoded data removed]",
      "text/plain": [
       "plot without title"
      ]
     },
     "metadata": {
      "image/png": {
       "height": 480,
       "width": 720
      }
     },
     "output_type": "display_data"
    }
   ],
   "source": [
    "# ploting the R square of forward model\n",
    "plot(regfit.fwd,scale=\"r2\")"
   ]
  },
  {
   "cell_type": "code",
   "execution_count": 432,
   "id": "cebfd12f",
   "metadata": {},
   "outputs": [
    {
     "data": {
      "image/png": "[encoded data removed]",
      "text/plain": [
       "plot without title"
      ]
     },
     "metadata": {
      "image/png": {
       "height": 480,
       "width": 720
      }
     },
     "output_type": "display_data"
    }
   ],
   "source": [
    "# ploting the adjusted rate 2 of forward model\n",
    "plot(regfit.fwd,scale=\"adjr2\")"
   ]
  },
  {
   "cell_type": "code",
   "execution_count": 433,
   "id": "0aba22f7",
   "metadata": {},
   "outputs": [
    {
     "data": {
      "image/png": "[encoded data removed]",
      "text/plain": [
       "plot without title"
      ]
     },
     "metadata": {
      "image/png": {
       "height": 480,
       "width": 720
      }
     },
     "output_type": "display_data"
    }
   ],
   "source": [
    "# ploting the CP of forward model\n",
    "plot(regfit.fwd,scale=\"Cp\")"
   ]
  },
  {
   "cell_type": "code",
   "execution_count": 434,
   "id": "0cf703be",
   "metadata": {},
   "outputs": [
    {
     "data": {
      "image/png": "[encoded data removed]",
      "text/plain": [
       "plot without title"
      ]
     },
     "metadata": {
      "image/png": {
       "height": 480,
       "width": 720
      }
     },
     "output_type": "display_data"
    }
   ],
   "source": [
    "# ploting the bicof forward model\n",
    "plot(regfit.fwd,scale=\"bic\")"
   ]
  },
  {
   "cell_type": "code",
   "execution_count": 435,
   "id": "7edfa9be",
   "metadata": {},
   "outputs": [
    {
     "data": {
      "text/html": [
       "<style>\n",
       ".dl-inline {width: auto; margin:0; padding: 0}\n",
       ".dl-inline>dt, .dl-inline>dd {float: none; width: auto; display: inline-block}\n",
       ".dl-inline>dt::after {content: \":\\0020\"; padding-right: .5ex}\n",
       ".dl-inline>dt:not(:first-of-type) {padding-left: .5ex}\n",
       "</style><dl class=dl-inline><dt>(Intercept)</dt><dd>0.219012187624311</dd><dt>LIMIT_BAL</dt><dd>-6.2177642850609e-08</dd><dt>SEX</dt><dd>0.0104180456106819</dd><dt>AGE</dt><dd>0.000931899200913495</dd><dt>PAY_0</dt><dd>0.0932799586965296</dd><dt>PAY_2</dt><dd>0.0153761052606935</dd><dt>PAY_3</dt><dd>0.0156479398615046</dd><dt>PAY_5</dt><dd>0.00932017615835353</dd><dt>BILL_AMT1</dt><dd>-6.63511130392916e-07</dd><dt>BILL_AMT2</dt><dd>2.76121967373915e-07</dd><dt>PAY_AMT1</dt><dd>-1.0773151941482e-06</dd><dt>PAY_AMT2</dt><dd>-2.33609824923993e-07</dd><dt>PAY_AMT4</dt><dd>-5.58199313777987e-07</dd><dt>PAY_AMT5</dt><dd>-4.26003154280525e-07</dd><dt>EDUCATION_1</dt><dd>0.0177882143317598</dd><dt>EDUCATION_4</dt><dd>-0.112412339021548</dd><dt>EDUCATION_5</dt><dd>-0.128473342459988</dd><dt>MARRIAGE_1</dt><dd>0.0254115468939207</dd></dl>\n"
      ],
      "text/latex": [
       "\\begin{description*}\n",
       "\\item[(Intercept)] 0.219012187624311\n",
       "\\item[LIMIT\\textbackslash{}\\_BAL] -6.2177642850609e-08\n",
       "\\item[SEX] 0.0104180456106819\n",
       "\\item[AGE] 0.000931899200913495\n",
       "\\item[PAY\\textbackslash{}\\_0] 0.0932799586965296\n",
       "\\item[PAY\\textbackslash{}\\_2] 0.0153761052606935\n",
       "\\item[PAY\\textbackslash{}\\_3] 0.0156479398615046\n",
       "\\item[PAY\\textbackslash{}\\_5] 0.00932017615835353\n",
       "\\item[BILL\\textbackslash{}\\_AMT1] -6.63511130392916e-07\n",
       "\\item[BILL\\textbackslash{}\\_AMT2] 2.76121967373915e-07\n",
       "\\item[PAY\\textbackslash{}\\_AMT1] -1.0773151941482e-06\n",
       "\\item[PAY\\textbackslash{}\\_AMT2] -2.33609824923993e-07\n",
       "\\item[PAY\\textbackslash{}\\_AMT4] -5.58199313777987e-07\n",
       "\\item[PAY\\textbackslash{}\\_AMT5] -4.26003154280525e-07\n",
       "\\item[EDUCATION\\textbackslash{}\\_1] 0.0177882143317598\n",
       "\\item[EDUCATION\\textbackslash{}\\_4] -0.112412339021548\n",
       "\\item[EDUCATION\\textbackslash{}\\_5] -0.128473342459988\n",
       "\\item[MARRIAGE\\textbackslash{}\\_1] 0.0254115468939207\n",
       "\\end{description*}\n"
      ],
      "text/markdown": [
       "(Intercept)\n",
       ":   0.219012187624311LIMIT_BAL\n",
       ":   -6.2177642850609e-08SEX\n",
       ":   0.0104180456106819AGE\n",
       ":   0.000931899200913495PAY_0\n",
       ":   0.0932799586965296PAY_2\n",
       ":   0.0153761052606935PAY_3\n",
       ":   0.0156479398615046PAY_5\n",
       ":   0.00932017615835353BILL_AMT1\n",
       ":   -6.63511130392916e-07BILL_AMT2\n",
       ":   2.76121967373915e-07PAY_AMT1\n",
       ":   -1.0773151941482e-06PAY_AMT2\n",
       ":   -2.33609824923993e-07PAY_AMT4\n",
       ":   -5.58199313777987e-07PAY_AMT5\n",
       ":   -4.26003154280525e-07EDUCATION_1\n",
       ":   0.0177882143317598EDUCATION_4\n",
       ":   -0.112412339021548EDUCATION_5\n",
       ":   -0.128473342459988MARRIAGE_1\n",
       ":   0.0254115468939207\n",
       "\n"
      ],
      "text/plain": [
       "  (Intercept)     LIMIT_BAL           SEX           AGE         PAY_0 \n",
       " 2.190122e-01 -6.217764e-08  1.041805e-02  9.318992e-04  9.327996e-02 \n",
       "        PAY_2         PAY_3         PAY_5     BILL_AMT1     BILL_AMT2 \n",
       " 1.537611e-02  1.564794e-02  9.320176e-03 -6.635111e-07  2.761220e-07 \n",
       "     PAY_AMT1      PAY_AMT2      PAY_AMT4      PAY_AMT5   EDUCATION_1 \n",
       "-1.077315e-06 -2.336098e-07 -5.581993e-07 -4.260032e-07  1.778821e-02 \n",
       "  EDUCATION_4   EDUCATION_5    MARRIAGE_1 \n",
       "-1.124123e-01 -1.284733e-01  2.541155e-02 "
      ]
     },
     "metadata": {},
     "output_type": "display_data"
    }
   ],
   "source": [
    "#storing the feature selected based on the forward model by cp coeficient\n",
    "selection.fwd.cp=names(coef(regfit.fwd,which.min(reg.summary.fwd$cp)))[-1]\n",
    "#displaying the coeficient and variables name for forward feature selection for CP\n",
    "coef(regfit.fwd,which.min(reg.summary.fwd$cp))"
   ]
  },
  {
   "cell_type": "code",
   "execution_count": 436,
   "id": "aed6c9d9",
   "metadata": {},
   "outputs": [
    {
     "data": {
      "text/html": [
       "<style>\n",
       ".dl-inline {width: auto; margin:0; padding: 0}\n",
       ".dl-inline>dt, .dl-inline>dd {float: none; width: auto; display: inline-block}\n",
       ".dl-inline>dt::after {content: \":\\0020\"; padding-right: .5ex}\n",
       ".dl-inline>dt:not(:first-of-type) {padding-left: .5ex}\n",
       "</style><dl class=dl-inline><dt>(Intercept)</dt><dd>0.24904579918256</dd><dt>PAY_0</dt><dd>0.0956318008830203</dd><dt>PAY_2</dt><dd>0.017002071745946</dd><dt>PAY_3</dt><dd>0.0216388696482185</dd><dt>BILL_AMT1</dt><dd>-4.5843816892025e-07</dd><dt>PAY_AMT1</dt><dd>-1.01335129590864e-06</dd><dt>PAY_AMT4</dt><dd>-7.14863689992677e-07</dd><dt>EDUCATION_5</dt><dd>-0.133094780985233</dd><dt>MARRIAGE_1</dt><dd>0.0284709217060327</dd></dl>\n"
      ],
      "text/latex": [
       "\\begin{description*}\n",
       "\\item[(Intercept)] 0.24904579918256\n",
       "\\item[PAY\\textbackslash{}\\_0] 0.0956318008830203\n",
       "\\item[PAY\\textbackslash{}\\_2] 0.017002071745946\n",
       "\\item[PAY\\textbackslash{}\\_3] 0.0216388696482185\n",
       "\\item[BILL\\textbackslash{}\\_AMT1] -4.5843816892025e-07\n",
       "\\item[PAY\\textbackslash{}\\_AMT1] -1.01335129590864e-06\n",
       "\\item[PAY\\textbackslash{}\\_AMT4] -7.14863689992677e-07\n",
       "\\item[EDUCATION\\textbackslash{}\\_5] -0.133094780985233\n",
       "\\item[MARRIAGE\\textbackslash{}\\_1] 0.0284709217060327\n",
       "\\end{description*}\n"
      ],
      "text/markdown": [
       "(Intercept)\n",
       ":   0.24904579918256PAY_0\n",
       ":   0.0956318008830203PAY_2\n",
       ":   0.017002071745946PAY_3\n",
       ":   0.0216388696482185BILL_AMT1\n",
       ":   -4.5843816892025e-07PAY_AMT1\n",
       ":   -1.01335129590864e-06PAY_AMT4\n",
       ":   -7.14863689992677e-07EDUCATION_5\n",
       ":   -0.133094780985233MARRIAGE_1\n",
       ":   0.0284709217060327\n",
       "\n"
      ],
      "text/plain": [
       "  (Intercept)         PAY_0         PAY_2         PAY_3     BILL_AMT1 \n",
       " 2.490458e-01  9.563180e-02  1.700207e-02  2.163887e-02 -4.584382e-07 \n",
       "     PAY_AMT1      PAY_AMT4   EDUCATION_5    MARRIAGE_1 \n",
       "-1.013351e-06 -7.148637e-07 -1.330948e-01  2.847092e-02 "
      ]
     },
     "metadata": {},
     "output_type": "display_data"
    }
   ],
   "source": [
    "#storing the feature selected based on the forward model by bic coeficient\n",
    "selection.fwd.bic=names(coef(regfit.fwd,which.min(reg.summary.fwd$bic)))[-1]\n",
    "#displaying the coeficient and variables name for forward feature selection for bic\n",
    "coef(regfit.fwd,which.min(reg.summary.fwd$bic))"
   ]
  },
  {
   "cell_type": "markdown",
   "id": "aa63e795",
   "metadata": {},
   "source": [
    "#### 1.2 backward feature selection"
   ]
  },
  {
   "cell_type": "code",
   "execution_count": 437,
   "id": "838d413f",
   "metadata": {},
   "outputs": [],
   "source": [
    "# applying the backward feature selection to data\n",
    "regfit.bwd=regsubsets(default~.,data=DF,method='backward')\n",
    "# summary of backward featur selection\n",
    "reg.summary.bwd=summary(regfit.bwd)"
   ]
  },
  {
   "cell_type": "code",
   "execution_count": 438,
   "id": "5894eeec",
   "metadata": {},
   "outputs": [
    {
     "data": {
      "text/html": [
       "<style>\n",
       ".list-inline {list-style: none; margin:0; padding: 0}\n",
       ".list-inline>li {display: inline-block}\n",
       ".list-inline>li:not(:last-child)::after {content: \"\\00b7\"; padding: 0 .5ex}\n",
       "</style>\n",
       "<ol class=list-inline><li>'which'</li><li>'rsq'</li><li>'rss'</li><li>'adjr2'</li><li>'cp'</li><li>'bic'</li><li>'outmat'</li><li>'obj'</li></ol>\n"
      ],
      "text/latex": [
       "\\begin{enumerate*}\n",
       "\\item 'which'\n",
       "\\item 'rsq'\n",
       "\\item 'rss'\n",
       "\\item 'adjr2'\n",
       "\\item 'cp'\n",
       "\\item 'bic'\n",
       "\\item 'outmat'\n",
       "\\item 'obj'\n",
       "\\end{enumerate*}\n"
      ],
      "text/markdown": [
       "1. 'which'\n",
       "2. 'rsq'\n",
       "3. 'rss'\n",
       "4. 'adjr2'\n",
       "5. 'cp'\n",
       "6. 'bic'\n",
       "7. 'outmat'\n",
       "8. 'obj'\n",
       "\n",
       "\n"
      ],
      "text/plain": [
       "[1] \"which\"  \"rsq\"    \"rss\"    \"adjr2\"  \"cp\"     \"bic\"    \"outmat\" \"obj\"   "
      ]
     },
     "metadata": {},
     "output_type": "display_data"
    }
   ],
   "source": [
    "# coeficient names for backward feature selection\n",
    "names(reg.summary.bwd)"
   ]
  },
  {
   "cell_type": "code",
   "execution_count": 439,
   "id": "52cca546",
   "metadata": {},
   "outputs": [
    {
     "data": {
      "text/html": [
       "<style>\n",
       ".list-inline {list-style: none; margin:0; padding: 0}\n",
       ".list-inline>li {display: inline-block}\n",
       ".list-inline>li:not(:last-child)::after {content: \"\\00b7\"; padding: 0 .5ex}\n",
       "</style>\n",
       "<ol class=list-inline><li>0.0977088674768107</li><li>0.103945258269338</li><li>0.109079794175006</li><li>0.110858026120786</li><li>0.111983356612625</li><li>0.112216714915084</li><li>0.112271912041707</li><li>0.113456170058503</li></ol>\n"
      ],
      "text/latex": [
       "\\begin{enumerate*}\n",
       "\\item 0.0977088674768107\n",
       "\\item 0.103945258269338\n",
       "\\item 0.109079794175006\n",
       "\\item 0.110858026120786\n",
       "\\item 0.111983356612625\n",
       "\\item 0.112216714915084\n",
       "\\item 0.112271912041707\n",
       "\\item 0.113456170058503\n",
       "\\end{enumerate*}\n"
      ],
      "text/markdown": [
       "1. 0.0977088674768107\n",
       "2. 0.103945258269338\n",
       "3. 0.109079794175006\n",
       "4. 0.110858026120786\n",
       "5. 0.111983356612625\n",
       "6. 0.112216714915084\n",
       "7. 0.112271912041707\n",
       "8. 0.113456170058503\n",
       "\n",
       "\n"
      ],
      "text/plain": [
       "[1] 0.09770887 0.10394526 0.10907979 0.11085803 0.11198336 0.11221671 0.11227191\n",
       "[8] 0.11345617"
      ]
     },
     "metadata": {},
     "output_type": "display_data"
    }
   ],
   "source": [
    "#summary of RSQ for backward feature selection\n",
    "reg.summary.bwd$rsq"
   ]
  },
  {
   "cell_type": "code",
   "execution_count": 440,
   "id": "da772fec",
   "metadata": {},
   "outputs": [
    {
     "data": {
      "image/png": "[encoded data removed]",
      "text/plain": [
       "plot without title"
      ]
     },
     "metadata": {
      "image/png": {
       "height": 480,
       "width": 720
      }
     },
     "output_type": "display_data"
    }
   ],
   "source": [
    "#plot 4 diferent coeficient to show the best number of the features in diferent coeficients\n",
    "#paring axies to 4 cells\n",
    "par(mfrow=c(2,2))\n",
    "#plot the RSS\n",
    "plot(reg.summary.bwd$rss,xlab='Number of Variables',ylab='RSS',type='l')\n",
    "# Plot the adjusted rate 2 \n",
    "plot(reg.summary.bwd$adjr2,xlab='Number of Variables',ylab='Adjusted R square',type='l')\n",
    "# define the optimum point of adjusted rate 2\n",
    "points(which.max(reg.summary.bwd$adjr2),reg.summary.bwd$adjr2[which.max(reg.summary.bwd$adjr2)],col='red',cex=2,pch=20)\n",
    "#plot the cp\n",
    "plot(reg.summary.bwd$cp,xlab=\"Number of Variables\",ylab=\"Cp\",type='l')\n",
    "# define the optimum point of cp\n",
    "points(which.min(reg.summary.bwd$cp),reg.summary.bwd$cp[which.min(reg.summary.bwd$cp)],col=\"red\",cex=2,pch=20)\n",
    "# plot the Bic \n",
    "plot(reg.summary.bwd$bic,xlab=\"Number of Variables\",ylab=\"BIC\",type='l')\n",
    "# define the optimum point of bic\n",
    "points(which.min(reg.summary.bwd$bic),reg.summary.bwd$bic[which.min(reg.summary.bwd$bic)],col=\"red\",cex=2,pch=20)"
   ]
  },
  {
   "cell_type": "code",
   "execution_count": 441,
   "id": "df58b0c4",
   "metadata": {},
   "outputs": [
    {
     "data": {
      "image/png": "[encoded data removed]",
      "text/plain": [
       "plot without title"
      ]
     },
     "metadata": {
      "image/png": {
       "height": 480,
       "width": 720
      }
     },
     "output_type": "display_data"
    }
   ],
   "source": [
    "# ploting the R square of backward model\n",
    "plot(regfit.bwd,scale=\"r2\")"
   ]
  },
  {
   "cell_type": "code",
   "execution_count": 442,
   "id": "f4fb7c20",
   "metadata": {},
   "outputs": [
    {
     "data": {
      "image/png": "[encoded data removed]",
      "text/plain": [
       "plot without title"
      ]
     },
     "metadata": {
      "image/png": {
       "height": 480,
       "width": 720
      }
     },
     "output_type": "display_data"
    }
   ],
   "source": [
    "# ploting the adjusted rate 2 of backward model\n",
    "plot(regfit.bwd,scale=\"adjr2\")"
   ]
  },
  {
   "cell_type": "code",
   "execution_count": 443,
   "id": "54ec54b8",
   "metadata": {},
   "outputs": [
    {
     "data": {
      "image/png": "[encoded data removed]",
      "text/plain": [
       "plot without title"
      ]
     },
     "metadata": {
      "image/png": {
       "height": 480,
       "width": 720
      }
     },
     "output_type": "display_data"
    }
   ],
   "source": [
    "# ploting the CP of backward model\n",
    "plot(regfit.bwd,scale=\"Cp\")"
   ]
  },
  {
   "cell_type": "code",
   "execution_count": 444,
   "id": "bb5631f5",
   "metadata": {},
   "outputs": [
    {
     "data": {
      "image/png": "[encoded data removed]",
      "text/plain": [
       "plot without title"
      ]
     },
     "metadata": {
      "image/png": {
       "height": 480,
       "width": 720
      }
     },
     "output_type": "display_data"
    }
   ],
   "source": [
    "# ploting the bicof backward model\n",
    "plot(regfit.bwd,scale=\"bic\")"
   ]
  },
  {
   "cell_type": "code",
   "execution_count": 445,
   "id": "d42800bf",
   "metadata": {},
   "outputs": [
    {
     "data": {
      "text/html": [
       "<style>\n",
       ".dl-inline {width: auto; margin:0; padding: 0}\n",
       ".dl-inline>dt, .dl-inline>dd {float: none; width: auto; display: inline-block}\n",
       ".dl-inline>dt::after {content: \":\\0020\"; padding-right: .5ex}\n",
       ".dl-inline>dt:not(:first-of-type) {padding-left: .5ex}\n",
       "</style><dl class=dl-inline><dt>(Intercept)</dt><dd>0.123826513024763</dd><dt>PAY_0</dt><dd>0.102575245658569</dd><dt>PAY_3</dt><dd>0.0318056972341801</dd><dt>BILL_AMT1</dt><dd>-4.63899710891394e-07</dd><dt>PAY_AMT1</dt><dd>-1.19590263015659e-06</dd><dt>EDUCATION_1</dt><dd>0.129697422204142</dd><dt>EDUCATION_2</dt><dd>0.117819227000185</dd><dt>EDUCATION_3</dt><dd>0.123117681257042</dd><dt>MARRIAGE_1</dt><dd>0.0294593036121545</dd></dl>\n"
      ],
      "text/latex": [
       "\\begin{description*}\n",
       "\\item[(Intercept)] 0.123826513024763\n",
       "\\item[PAY\\textbackslash{}\\_0] 0.102575245658569\n",
       "\\item[PAY\\textbackslash{}\\_3] 0.0318056972341801\n",
       "\\item[BILL\\textbackslash{}\\_AMT1] -4.63899710891394e-07\n",
       "\\item[PAY\\textbackslash{}\\_AMT1] -1.19590263015659e-06\n",
       "\\item[EDUCATION\\textbackslash{}\\_1] 0.129697422204142\n",
       "\\item[EDUCATION\\textbackslash{}\\_2] 0.117819227000185\n",
       "\\item[EDUCATION\\textbackslash{}\\_3] 0.123117681257042\n",
       "\\item[MARRIAGE\\textbackslash{}\\_1] 0.0294593036121545\n",
       "\\end{description*}\n"
      ],
      "text/markdown": [
       "(Intercept)\n",
       ":   0.123826513024763PAY_0\n",
       ":   0.102575245658569PAY_3\n",
       ":   0.0318056972341801BILL_AMT1\n",
       ":   -4.63899710891394e-07PAY_AMT1\n",
       ":   -1.19590263015659e-06EDUCATION_1\n",
       ":   0.129697422204142EDUCATION_2\n",
       ":   0.117819227000185EDUCATION_3\n",
       ":   0.123117681257042MARRIAGE_1\n",
       ":   0.0294593036121545\n",
       "\n"
      ],
      "text/plain": [
       "  (Intercept)         PAY_0         PAY_3     BILL_AMT1      PAY_AMT1 \n",
       " 1.238265e-01  1.025752e-01  3.180570e-02 -4.638997e-07 -1.195903e-06 \n",
       "  EDUCATION_1   EDUCATION_2   EDUCATION_3    MARRIAGE_1 \n",
       " 1.296974e-01  1.178192e-01  1.231177e-01  2.945930e-02 "
      ]
     },
     "metadata": {},
     "output_type": "display_data"
    }
   ],
   "source": [
    "#storing the feature selected based on the backward model by cp coeficient\n",
    "selection.bwd.cp=names(coef(regfit.bwd,which.min(reg.summary.bwd$cp)))[-1]\n",
    "#displaying the coeficient and variables name for backward feature selection for CP\n",
    "coef(regfit.bwd,which.min(reg.summary.bwd$cp))"
   ]
  },
  {
   "cell_type": "code",
   "execution_count": 446,
   "id": "17c8e6fb",
   "metadata": {},
   "outputs": [
    {
     "data": {
      "text/html": [
       "<style>\n",
       ".dl-inline {width: auto; margin:0; padding: 0}\n",
       ".dl-inline>dt, .dl-inline>dd {float: none; width: auto; display: inline-block}\n",
       ".dl-inline>dt::after {content: \":\\0020\"; padding-right: .5ex}\n",
       ".dl-inline>dt:not(:first-of-type) {padding-left: .5ex}\n",
       "</style><dl class=dl-inline><dt>(Intercept)</dt><dd>0.123826513024763</dd><dt>PAY_0</dt><dd>0.102575245658569</dd><dt>PAY_3</dt><dd>0.0318056972341801</dd><dt>BILL_AMT1</dt><dd>-4.63899710891394e-07</dd><dt>PAY_AMT1</dt><dd>-1.19590263015659e-06</dd><dt>EDUCATION_1</dt><dd>0.129697422204142</dd><dt>EDUCATION_2</dt><dd>0.117819227000185</dd><dt>EDUCATION_3</dt><dd>0.123117681257042</dd><dt>MARRIAGE_1</dt><dd>0.0294593036121545</dd></dl>\n"
      ],
      "text/latex": [
       "\\begin{description*}\n",
       "\\item[(Intercept)] 0.123826513024763\n",
       "\\item[PAY\\textbackslash{}\\_0] 0.102575245658569\n",
       "\\item[PAY\\textbackslash{}\\_3] 0.0318056972341801\n",
       "\\item[BILL\\textbackslash{}\\_AMT1] -4.63899710891394e-07\n",
       "\\item[PAY\\textbackslash{}\\_AMT1] -1.19590263015659e-06\n",
       "\\item[EDUCATION\\textbackslash{}\\_1] 0.129697422204142\n",
       "\\item[EDUCATION\\textbackslash{}\\_2] 0.117819227000185\n",
       "\\item[EDUCATION\\textbackslash{}\\_3] 0.123117681257042\n",
       "\\item[MARRIAGE\\textbackslash{}\\_1] 0.0294593036121545\n",
       "\\end{description*}\n"
      ],
      "text/markdown": [
       "(Intercept)\n",
       ":   0.123826513024763PAY_0\n",
       ":   0.102575245658569PAY_3\n",
       ":   0.0318056972341801BILL_AMT1\n",
       ":   -4.63899710891394e-07PAY_AMT1\n",
       ":   -1.19590263015659e-06EDUCATION_1\n",
       ":   0.129697422204142EDUCATION_2\n",
       ":   0.117819227000185EDUCATION_3\n",
       ":   0.123117681257042MARRIAGE_1\n",
       ":   0.0294593036121545\n",
       "\n"
      ],
      "text/plain": [
       "  (Intercept)         PAY_0         PAY_3     BILL_AMT1      PAY_AMT1 \n",
       " 1.238265e-01  1.025752e-01  3.180570e-02 -4.638997e-07 -1.195903e-06 \n",
       "  EDUCATION_1   EDUCATION_2   EDUCATION_3    MARRIAGE_1 \n",
       " 1.296974e-01  1.178192e-01  1.231177e-01  2.945930e-02 "
      ]
     },
     "metadata": {},
     "output_type": "display_data"
    }
   ],
   "source": [
    "#storing the feature selected based on the backward model by bic coeficient\n",
    "selection.bwd.bic=names(coef(regfit.bwd,which.min(reg.summary.bwd$bic)))[-1]\n",
    "#displaying the coeficient and variables name for backward feature selection for bic\n",
    "coef(regfit.bwd,which.min(reg.summary.bwd$bic))"
   ]
  },
  {
   "cell_type": "markdown",
   "id": "27cfca44",
   "metadata": {},
   "source": [
    "#### 1.3. Choosing among model using validation set"
   ]
  },
  {
   "cell_type": "code",
   "execution_count": 447,
   "id": "1f028de8",
   "metadata": {},
   "outputs": [],
   "source": [
    "#train and test split\n",
    "set.seed(613)\n",
    "#tain Data\n",
    "train=sample(c(TRUE,FALSE), nrow(DF),rep=TRUE)\n",
    "# Test Data\n",
    "test=(!train)"
   ]
  },
  {
   "cell_type": "code",
   "execution_count": 448,
   "id": "2c9b2673",
   "metadata": {},
   "outputs": [],
   "source": [
    "# applyin model on test set\n",
    "regfit.best=regsubsets(default~.,data=DF[train,],nvmax=30)"
   ]
  },
  {
   "cell_type": "code",
   "execution_count": 449,
   "id": "00bc7316",
   "metadata": {},
   "outputs": [],
   "source": [
    "# Making model matrix based on the test set\n",
    "test.mat=model.matrix(default~.,data=DF[test,])"
   ]
  },
  {
   "cell_type": "code",
   "execution_count": 450,
   "id": "7cdd0dd2",
   "metadata": {},
   "outputs": [],
   "source": [
    "# setting val errors based on the number of variables\n",
    "val.errors=rep(NA,23)\n",
    "#using for loop to obtain the coeficiant for each variable\n",
    "for(i in 1:23){\n",
    "   coefi=coef(regfit.best,id=i)\n",
    "   pred=test.mat[,names(coefi)]%*%coefi\n",
    "   val.errors[i]=mean((DF$default[test]-pred)^2)\n",
    "}"
   ]
  },
  {
   "cell_type": "code",
   "execution_count": 451,
   "id": "af179f32",
   "metadata": {},
   "outputs": [
    {
     "data": {
      "text/html": [
       "<style>\n",
       ".list-inline {list-style: none; margin:0; padding: 0}\n",
       ".list-inline>li {display: inline-block}\n",
       ".list-inline>li:not(:last-child)::after {content: \"\\00b7\"; padding: 0 .5ex}\n",
       "</style>\n",
       "<ol class=list-inline><li>0.153691798650158</li><li>0.152913401386795</li><li>0.15240676298541</li><li>0.152285709844373</li><li>0.152021679801062</li><li>0.151866051259068</li><li>0.151826683983215</li><li>0.15156788580578</li><li>0.151542573618049</li><li>0.151590827356249</li><li>0.151568230504462</li><li>0.151384757085482</li><li>0.151563677234587</li><li>0.151470765267849</li><li>0.15137925703</li><li>0.151456762468805</li><li>0.151417234072721</li><li>0.151356646553639</li><li>0.151423262613398</li><li>0.151395877914808</li><li>0.151490347951492</li><li>0.151515351644309</li><li>0.15152097959063</li></ol>\n"
      ],
      "text/latex": [
       "\\begin{enumerate*}\n",
       "\\item 0.153691798650158\n",
       "\\item 0.152913401386795\n",
       "\\item 0.15240676298541\n",
       "\\item 0.152285709844373\n",
       "\\item 0.152021679801062\n",
       "\\item 0.151866051259068\n",
       "\\item 0.151826683983215\n",
       "\\item 0.15156788580578\n",
       "\\item 0.151542573618049\n",
       "\\item 0.151590827356249\n",
       "\\item 0.151568230504462\n",
       "\\item 0.151384757085482\n",
       "\\item 0.151563677234587\n",
       "\\item 0.151470765267849\n",
       "\\item 0.15137925703\n",
       "\\item 0.151456762468805\n",
       "\\item 0.151417234072721\n",
       "\\item 0.151356646553639\n",
       "\\item 0.151423262613398\n",
       "\\item 0.151395877914808\n",
       "\\item 0.151490347951492\n",
       "\\item 0.151515351644309\n",
       "\\item 0.15152097959063\n",
       "\\end{enumerate*}\n"
      ],
      "text/markdown": [
       "1. 0.153691798650158\n",
       "2. 0.152913401386795\n",
       "3. 0.15240676298541\n",
       "4. 0.152285709844373\n",
       "5. 0.152021679801062\n",
       "6. 0.151866051259068\n",
       "7. 0.151826683983215\n",
       "8. 0.15156788580578\n",
       "9. 0.151542573618049\n",
       "10. 0.151590827356249\n",
       "11. 0.151568230504462\n",
       "12. 0.151384757085482\n",
       "13. 0.151563677234587\n",
       "14. 0.151470765267849\n",
       "15. 0.15137925703\n",
       "16. 0.151456762468805\n",
       "17. 0.151417234072721\n",
       "18. 0.151356646553639\n",
       "19. 0.151423262613398\n",
       "20. 0.151395877914808\n",
       "21. 0.151490347951492\n",
       "22. 0.151515351644309\n",
       "23. 0.15152097959063\n",
       "\n",
       "\n"
      ],
      "text/plain": [
       " [1] 0.1536918 0.1529134 0.1524068 0.1522857 0.1520217 0.1518661 0.1518267\n",
       " [8] 0.1515679 0.1515426 0.1515908 0.1515682 0.1513848 0.1515637 0.1514708\n",
       "[15] 0.1513793 0.1514568 0.1514172 0.1513566 0.1514233 0.1513959 0.1514903\n",
       "[22] 0.1515154 0.1515210"
      ]
     },
     "metadata": {},
     "output_type": "display_data"
    }
   ],
   "source": [
    "#see the  error of each variable\n",
    "val.errors"
   ]
  },
  {
   "cell_type": "code",
   "execution_count": 452,
   "id": "075b215b",
   "metadata": {},
   "outputs": [
    {
     "data": {
      "text/html": [
       "18"
      ],
      "text/latex": [
       "18"
      ],
      "text/markdown": [
       "18"
      ],
      "text/plain": [
       "[1] 18"
      ]
     },
     "metadata": {},
     "output_type": "display_data"
    }
   ],
   "source": [
    "# get the number which have minimum error\n",
    "which.min(val.errors)"
   ]
  },
  {
   "cell_type": "code",
   "execution_count": 453,
   "id": "df97dd63",
   "metadata": {},
   "outputs": [
    {
     "data": {
      "text/html": [
       "<style>\n",
       ".dl-inline {width: auto; margin:0; padding: 0}\n",
       ".dl-inline>dt, .dl-inline>dd {float: none; width: auto; display: inline-block}\n",
       ".dl-inline>dt::after {content: \":\\0020\"; padding-right: .5ex}\n",
       ".dl-inline>dt:not(:first-of-type) {padding-left: .5ex}\n",
       "</style><dl class=dl-inline><dt>(Intercept)</dt><dd>0.0667338241748551</dd><dt>LIMIT_BAL</dt><dd>-7.91941184047444e-08</dd><dt>AGE</dt><dd>0.000900766454723437</dd><dt>PAY_0</dt><dd>0.0936459911301639</dd><dt>PAY_2</dt><dd>0.0226526177866298</dd><dt>PAY_3</dt><dd>0.0105843226136795</dd><dt>PAY_5</dt><dd>0.0144169194985535</dd><dt>BILL_AMT1</dt><dd>-6.80433265817037e-07</dd><dt>BILL_AMT2</dt><dd>4.69411751496123e-07</dd><dt>BILL_AMT4</dt><dd>-2.72679729799895e-07</dd><dt>PAY_AMT1</dt><dd>-1.11590810689749e-06</dd><dt>PAY_AMT4</dt><dd>-7.46863779836787e-07</dd><dt>PAY_AMT5</dt><dd>-5.74896753371493e-07</dd><dt>EDUCATION_1</dt><dd>0.0254570767263281</dd><dt>EDUCATION_4</dt><dd>-0.0926815284011028</dd><dt>EDUCATION_5</dt><dd>-0.126563074514179</dd><dt>MARRIAGE_1</dt><dd>0.189203713749739</dd><dt>MARRIAGE_2</dt><dd>0.168577251277972</dd><dt>MARRIAGE_3</dt><dd>0.139822965424512</dd></dl>\n"
      ],
      "text/latex": [
       "\\begin{description*}\n",
       "\\item[(Intercept)] 0.0667338241748551\n",
       "\\item[LIMIT\\textbackslash{}\\_BAL] -7.91941184047444e-08\n",
       "\\item[AGE] 0.000900766454723437\n",
       "\\item[PAY\\textbackslash{}\\_0] 0.0936459911301639\n",
       "\\item[PAY\\textbackslash{}\\_2] 0.0226526177866298\n",
       "\\item[PAY\\textbackslash{}\\_3] 0.0105843226136795\n",
       "\\item[PAY\\textbackslash{}\\_5] 0.0144169194985535\n",
       "\\item[BILL\\textbackslash{}\\_AMT1] -6.80433265817037e-07\n",
       "\\item[BILL\\textbackslash{}\\_AMT2] 4.69411751496123e-07\n",
       "\\item[BILL\\textbackslash{}\\_AMT4] -2.72679729799895e-07\n",
       "\\item[PAY\\textbackslash{}\\_AMT1] -1.11590810689749e-06\n",
       "\\item[PAY\\textbackslash{}\\_AMT4] -7.46863779836787e-07\n",
       "\\item[PAY\\textbackslash{}\\_AMT5] -5.74896753371493e-07\n",
       "\\item[EDUCATION\\textbackslash{}\\_1] 0.0254570767263281\n",
       "\\item[EDUCATION\\textbackslash{}\\_4] -0.0926815284011028\n",
       "\\item[EDUCATION\\textbackslash{}\\_5] -0.126563074514179\n",
       "\\item[MARRIAGE\\textbackslash{}\\_1] 0.189203713749739\n",
       "\\item[MARRIAGE\\textbackslash{}\\_2] 0.168577251277972\n",
       "\\item[MARRIAGE\\textbackslash{}\\_3] 0.139822965424512\n",
       "\\end{description*}\n"
      ],
      "text/markdown": [
       "(Intercept)\n",
       ":   0.0667338241748551LIMIT_BAL\n",
       ":   -7.91941184047444e-08AGE\n",
       ":   0.000900766454723437PAY_0\n",
       ":   0.0936459911301639PAY_2\n",
       ":   0.0226526177866298PAY_3\n",
       ":   0.0105843226136795PAY_5\n",
       ":   0.0144169194985535BILL_AMT1\n",
       ":   -6.80433265817037e-07BILL_AMT2\n",
       ":   4.69411751496123e-07BILL_AMT4\n",
       ":   -2.72679729799895e-07PAY_AMT1\n",
       ":   -1.11590810689749e-06PAY_AMT4\n",
       ":   -7.46863779836787e-07PAY_AMT5\n",
       ":   -5.74896753371493e-07EDUCATION_1\n",
       ":   0.0254570767263281EDUCATION_4\n",
       ":   -0.0926815284011028EDUCATION_5\n",
       ":   -0.126563074514179MARRIAGE_1\n",
       ":   0.189203713749739MARRIAGE_2\n",
       ":   0.168577251277972MARRIAGE_3\n",
       ":   0.139822965424512\n",
       "\n"
      ],
      "text/plain": [
       "  (Intercept)     LIMIT_BAL           AGE         PAY_0         PAY_2 \n",
       " 6.673382e-02 -7.919412e-08  9.007665e-04  9.364599e-02  2.265262e-02 \n",
       "        PAY_3         PAY_5     BILL_AMT1     BILL_AMT2     BILL_AMT4 \n",
       " 1.058432e-02  1.441692e-02 -6.804333e-07  4.694118e-07 -2.726797e-07 \n",
       "     PAY_AMT1      PAY_AMT4      PAY_AMT5   EDUCATION_1   EDUCATION_4 \n",
       "-1.115908e-06 -7.468638e-07 -5.748968e-07  2.545708e-02 -9.268153e-02 \n",
       "  EDUCATION_5    MARRIAGE_1    MARRIAGE_2    MARRIAGE_3 \n",
       "-1.265631e-01  1.892037e-01  1.685773e-01  1.398230e-01 "
      ]
     },
     "metadata": {},
     "output_type": "display_data"
    }
   ],
   "source": [
    "# get the coeficient of minimum error\n",
    "coef(regfit.best,18)"
   ]
  },
  {
   "cell_type": "code",
   "execution_count": 454,
   "id": "16ccbbb3",
   "metadata": {},
   "outputs": [],
   "source": [
    "# define function for prediction  \n",
    "predict.regsubsets=function(object,newdata,id,...){\n",
    "  form=as.formula(object$call[[2]])\n",
    "  mat=model.matrix(form,newdata)\n",
    "  coefi=coef(object,id=id)\n",
    "  xvars=names(coefi)\n",
    "  mat[,xvars]%*%coefi\n",
    "  }"
   ]
  },
  {
   "cell_type": "code",
   "execution_count": 455,
   "id": "ada544c0",
   "metadata": {},
   "outputs": [
    {
     "data": {
      "text/html": [
       "<style>\n",
       ".dl-inline {width: auto; margin:0; padding: 0}\n",
       ".dl-inline>dt, .dl-inline>dd {float: none; width: auto; display: inline-block}\n",
       ".dl-inline>dt::after {content: \":\\0020\"; padding-right: .5ex}\n",
       ".dl-inline>dt:not(:first-of-type) {padding-left: .5ex}\n",
       "</style><dl class=dl-inline><dt>(Intercept)</dt><dd>-0.0372767190333047</dd><dt>LIMIT_BAL</dt><dd>-6.51660492442845e-08</dd><dt>SEX</dt><dd>0.0103473433534479</dd><dt>AGE</dt><dd>0.000950917536945975</dd><dt>PAY_0</dt><dd>0.0934260323581972</dd><dt>PAY_2</dt><dd>0.015243538290857</dd><dt>PAY_3</dt><dd>0.0161169705795087</dd><dt>PAY_5</dt><dd>0.00876462678426754</dd><dt>BILL_AMT1</dt><dd>-6.72798821376947e-07</dd><dt>BILL_AMT2</dt><dd>2.84272991963301e-07</dd><dt>PAY_AMT1</dt><dd>-1.14602577588855e-06</dd><dt>PAY_AMT4</dt><dd>-5.79345830568982e-07</dd><dt>PAY_AMT5</dt><dd>-4.68102607373354e-07</dd><dt>EDUCATION_1</dt><dd>0.133151274573176</dd><dt>EDUCATION_2</dt><dd>0.115874414365387</dd><dt>EDUCATION_3</dt><dd>0.116147958848864</dd><dt>MARRIAGE_1</dt><dd>0.165159649711701</dd><dt>MARRIAGE_2</dt><dd>0.140168792698924</dd><dt>MARRIAGE_3</dt><dd>0.15305264502934</dd></dl>\n"
      ],
      "text/latex": [
       "\\begin{description*}\n",
       "\\item[(Intercept)] -0.0372767190333047\n",
       "\\item[LIMIT\\textbackslash{}\\_BAL] -6.51660492442845e-08\n",
       "\\item[SEX] 0.0103473433534479\n",
       "\\item[AGE] 0.000950917536945975\n",
       "\\item[PAY\\textbackslash{}\\_0] 0.0934260323581972\n",
       "\\item[PAY\\textbackslash{}\\_2] 0.015243538290857\n",
       "\\item[PAY\\textbackslash{}\\_3] 0.0161169705795087\n",
       "\\item[PAY\\textbackslash{}\\_5] 0.00876462678426754\n",
       "\\item[BILL\\textbackslash{}\\_AMT1] -6.72798821376947e-07\n",
       "\\item[BILL\\textbackslash{}\\_AMT2] 2.84272991963301e-07\n",
       "\\item[PAY\\textbackslash{}\\_AMT1] -1.14602577588855e-06\n",
       "\\item[PAY\\textbackslash{}\\_AMT4] -5.79345830568982e-07\n",
       "\\item[PAY\\textbackslash{}\\_AMT5] -4.68102607373354e-07\n",
       "\\item[EDUCATION\\textbackslash{}\\_1] 0.133151274573176\n",
       "\\item[EDUCATION\\textbackslash{}\\_2] 0.115874414365387\n",
       "\\item[EDUCATION\\textbackslash{}\\_3] 0.116147958848864\n",
       "\\item[MARRIAGE\\textbackslash{}\\_1] 0.165159649711701\n",
       "\\item[MARRIAGE\\textbackslash{}\\_2] 0.140168792698924\n",
       "\\item[MARRIAGE\\textbackslash{}\\_3] 0.15305264502934\n",
       "\\end{description*}\n"
      ],
      "text/markdown": [
       "(Intercept)\n",
       ":   -0.0372767190333047LIMIT_BAL\n",
       ":   -6.51660492442845e-08SEX\n",
       ":   0.0103473433534479AGE\n",
       ":   0.000950917536945975PAY_0\n",
       ":   0.0934260323581972PAY_2\n",
       ":   0.015243538290857PAY_3\n",
       ":   0.0161169705795087PAY_5\n",
       ":   0.00876462678426754BILL_AMT1\n",
       ":   -6.72798821376947e-07BILL_AMT2\n",
       ":   2.84272991963301e-07PAY_AMT1\n",
       ":   -1.14602577588855e-06PAY_AMT4\n",
       ":   -5.79345830568982e-07PAY_AMT5\n",
       ":   -4.68102607373354e-07EDUCATION_1\n",
       ":   0.133151274573176EDUCATION_2\n",
       ":   0.115874414365387EDUCATION_3\n",
       ":   0.116147958848864MARRIAGE_1\n",
       ":   0.165159649711701MARRIAGE_2\n",
       ":   0.140168792698924MARRIAGE_3\n",
       ":   0.15305264502934\n",
       "\n"
      ],
      "text/plain": [
       "  (Intercept)     LIMIT_BAL           SEX           AGE         PAY_0 \n",
       "-3.727672e-02 -6.516605e-08  1.034734e-02  9.509175e-04  9.342603e-02 \n",
       "        PAY_2         PAY_3         PAY_5     BILL_AMT1     BILL_AMT2 \n",
       " 1.524354e-02  1.611697e-02  8.764627e-03 -6.727988e-07  2.842730e-07 \n",
       "     PAY_AMT1      PAY_AMT4      PAY_AMT5   EDUCATION_1   EDUCATION_2 \n",
       "-1.146026e-06 -5.793458e-07 -4.681026e-07  1.331513e-01  1.158744e-01 \n",
       "  EDUCATION_3    MARRIAGE_1    MARRIAGE_2    MARRIAGE_3 \n",
       " 1.161480e-01  1.651596e-01  1.401688e-01  1.530526e-01 "
      ]
     },
     "metadata": {},
     "output_type": "display_data"
    }
   ],
   "source": [
    "# apply the best result on whole data set\n",
    "regfit.best=regsubsets(default~.,data=DF,nvmax=23)\n",
    "coef(regfit.best,18)"
   ]
  },
  {
   "cell_type": "code",
   "execution_count": 458,
   "id": "1b2ba46b",
   "metadata": {},
   "outputs": [],
   "source": [
    "# Cross validation for choosing among models\n",
    "k=18\n",
    "set.seed(613)\n",
    "folds=sample(1:k,nrow(DF),replace=TRUE)\n",
    "cv.errors=matrix(NA,k,30, dimnames=list(NULL, paste(1:30)))"
   ]
  },
  {
   "cell_type": "code",
   "execution_count": 459,
   "id": "3d2f92ce",
   "metadata": {},
   "outputs": [],
   "source": [
    "# get the test error for each model size\n",
    "for(j in 1:k){\n",
    "  best.fit=regsubsets(default~.,data=DF[folds!=j,],nvmax=30)\n",
    "  for(i in 1:30){\n",
    "    pred=predict(best.fit,DF[folds==j,],id=i)\n",
    "    cv.errors[j,i]=mean( (DF$default[folds==j]-pred)^2)\n",
    "    }\n",
    "  }"
   ]
  },
  {
   "cell_type": "code",
   "execution_count": 460,
   "id": "869a6e7f",
   "metadata": {},
   "outputs": [
    {
     "data": {
      "text/html": [
       "<style>\n",
       ".dl-inline {width: auto; margin:0; padding: 0}\n",
       ".dl-inline>dt, .dl-inline>dd {float: none; width: auto; display: inline-block}\n",
       ".dl-inline>dt::after {content: \":\\0020\"; padding-right: .5ex}\n",
       ".dl-inline>dt:not(:first-of-type) {padding-left: .5ex}\n",
       "</style><dl class=dl-inline><dt>1</dt><dd>0.155176832301598</dd><dt>2</dt><dd>0.154122814268984</dd><dt>3</dt><dd>0.153510780503161</dd><dt>4</dt><dd>0.152974634446496</dd><dt>5</dt><dd>0.152938129000538</dd><dt>6</dt><dd>0.15274215702822</dd><dt>7</dt><dd>0.152590248869789</dd><dt>8</dt><dd>0.15243229506236</dd><dt>9</dt><dd>0.152585831813157</dd><dt>10</dt><dd>0.152655959806729</dd><dt>11</dt><dd>0.152669066861412</dd><dt>12</dt><dd>0.152643212059218</dd><dt>13</dt><dd>0.152603552865998</dd><dt>14</dt><dd>0.152514780456191</dd><dt>15</dt><dd>0.152470727149542</dd><dt>16</dt><dd>0.152442203252111</dd><dt>17</dt><dd>0.152448995099361</dd><dt>18</dt><dd>0.152495740902145</dd><dt>19</dt><dd>0.152365002340603</dd><dt>20</dt><dd>0.152354114513721</dd><dt>21</dt><dd>0.152345251428269</dd><dt>22</dt><dd>0.15235161305081</dd><dt>23</dt><dd>0.152336774534994</dd><dt>24</dt><dd>0.152336612630275</dd><dt>25</dt><dd>0.152317776069134</dd><dt>26</dt><dd>0.152274455960694</dd><dt>27</dt><dd>0.152289971239493</dd><dt>28</dt><dd>0.15228559303478</dd><dt>29</dt><dd>0.152282832561908</dd><dt>30</dt><dd>0.152284902039937</dd></dl>\n"
      ],
      "text/latex": [
       "\\begin{description*}\n",
       "\\item[1] 0.155176832301598\n",
       "\\item[2] 0.154122814268984\n",
       "\\item[3] 0.153510780503161\n",
       "\\item[4] 0.152974634446496\n",
       "\\item[5] 0.152938129000538\n",
       "\\item[6] 0.15274215702822\n",
       "\\item[7] 0.152590248869789\n",
       "\\item[8] 0.15243229506236\n",
       "\\item[9] 0.152585831813157\n",
       "\\item[10] 0.152655959806729\n",
       "\\item[11] 0.152669066861412\n",
       "\\item[12] 0.152643212059218\n",
       "\\item[13] 0.152603552865998\n",
       "\\item[14] 0.152514780456191\n",
       "\\item[15] 0.152470727149542\n",
       "\\item[16] 0.152442203252111\n",
       "\\item[17] 0.152448995099361\n",
       "\\item[18] 0.152495740902145\n",
       "\\item[19] 0.152365002340603\n",
       "\\item[20] 0.152354114513721\n",
       "\\item[21] 0.152345251428269\n",
       "\\item[22] 0.15235161305081\n",
       "\\item[23] 0.152336774534994\n",
       "\\item[24] 0.152336612630275\n",
       "\\item[25] 0.152317776069134\n",
       "\\item[26] 0.152274455960694\n",
       "\\item[27] 0.152289971239493\n",
       "\\item[28] 0.15228559303478\n",
       "\\item[29] 0.152282832561908\n",
       "\\item[30] 0.152284902039937\n",
       "\\end{description*}\n"
      ],
      "text/markdown": [
       "1\n",
       ":   0.1551768323015982\n",
       ":   0.1541228142689843\n",
       ":   0.1535107805031614\n",
       ":   0.1529746344464965\n",
       ":   0.1529381290005386\n",
       ":   0.152742157028227\n",
       ":   0.1525902488697898\n",
       ":   0.152432295062369\n",
       ":   0.15258583181315710\n",
       ":   0.15265595980672911\n",
       ":   0.15266906686141212\n",
       ":   0.15264321205921813\n",
       ":   0.15260355286599814\n",
       ":   0.15251478045619115\n",
       ":   0.15247072714954216\n",
       ":   0.15244220325211117\n",
       ":   0.15244899509936118\n",
       ":   0.15249574090214519\n",
       ":   0.15236500234060320\n",
       ":   0.15235411451372121\n",
       ":   0.15234525142826922\n",
       ":   0.1523516130508123\n",
       ":   0.15233677453499424\n",
       ":   0.15233661263027525\n",
       ":   0.15231777606913426\n",
       ":   0.15227445596069427\n",
       ":   0.15228997123949328\n",
       ":   0.1522855930347829\n",
       ":   0.15228283256190830\n",
       ":   0.152284902039937\n",
       "\n"
      ],
      "text/plain": [
       "        1         2         3         4         5         6         7         8 \n",
       "0.1551768 0.1541228 0.1535108 0.1529746 0.1529381 0.1527422 0.1525902 0.1524323 \n",
       "        9        10        11        12        13        14        15        16 \n",
       "0.1525858 0.1526560 0.1526691 0.1526432 0.1526036 0.1525148 0.1524707 0.1524422 \n",
       "       17        18        19        20        21        22        23        24 \n",
       "0.1524490 0.1524957 0.1523650 0.1523541 0.1523453 0.1523516 0.1523368 0.1523366 \n",
       "       25        26        27        28        29        30 \n",
       "0.1523178 0.1522745 0.1522900 0.1522856 0.1522828 0.1522849 "
      ]
     },
     "metadata": {},
     "output_type": "display_data"
    }
   ],
   "source": [
    "# mean of error of each model\n",
    "mean.cv.errors=apply(cv.errors,2,mean)\n",
    "mean.cv.errors"
   ]
  },
  {
   "cell_type": "code",
   "execution_count": 461,
   "id": "4133d9e3",
   "metadata": {},
   "outputs": [
    {
     "data": {
      "image/png": "[encoded data removed]",
      "text/plain": [
       "plot without title"
      ]
     },
     "metadata": {
      "image/png": {
       "height": 480,
       "width": 720
      }
     },
     "output_type": "display_data"
    }
   ],
   "source": [
    "#ploting the results on mean errors \n",
    "par(mfrow=c(1,1))\n",
    "plot(mean.cv.errors,type='b')"
   ]
  },
  {
   "cell_type": "code",
   "execution_count": 462,
   "id": "cee0a3b2",
   "metadata": {},
   "outputs": [
    {
     "data": {
      "text/html": [
       "<style>\n",
       ".dl-inline {width: auto; margin:0; padding: 0}\n",
       ".dl-inline>dt, .dl-inline>dd {float: none; width: auto; display: inline-block}\n",
       ".dl-inline>dt::after {content: \":\\0020\"; padding-right: .5ex}\n",
       ".dl-inline>dt:not(:first-of-type) {padding-left: .5ex}\n",
       "</style><dl class=dl-inline><dt>(Intercept)</dt><dd>-0.0372767190333203</dd><dt>LIMIT_BAL</dt><dd>-6.51660492442732e-08</dd><dt>SEX</dt><dd>0.0103473433534477</dd><dt>AGE</dt><dd>0.000950917536946278</dd><dt>PAY_0</dt><dd>0.0934260323581978</dd><dt>PAY_2</dt><dd>0.0152435382908509</dd><dt>PAY_3</dt><dd>0.016116970579513</dd><dt>PAY_5</dt><dd>0.00876462678426957</dd><dt>BILL_AMT1</dt><dd>-6.7279882137694e-07</dd><dt>BILL_AMT2</dt><dd>2.84272991963309e-07</dd><dt>PAY_AMT1</dt><dd>-1.14602577588862e-06</dd><dt>PAY_AMT4</dt><dd>-5.79345830569045e-07</dd><dt>PAY_AMT5</dt><dd>-4.68102607373316e-07</dd><dt>EDUCATION_1</dt><dd>0.133151274573149</dd><dt>EDUCATION_2</dt><dd>0.11587441436537</dd><dt>EDUCATION_3</dt><dd>0.116147958848851</dd><dt>MARRIAGE_1</dt><dd>0.165159649711717</dd><dt>MARRIAGE_2</dt><dd>0.140168792698953</dd><dt>MARRIAGE_3</dt><dd>0.153052645029357</dd></dl>\n"
      ],
      "text/latex": [
       "\\begin{description*}\n",
       "\\item[(Intercept)] -0.0372767190333203\n",
       "\\item[LIMIT\\textbackslash{}\\_BAL] -6.51660492442732e-08\n",
       "\\item[SEX] 0.0103473433534477\n",
       "\\item[AGE] 0.000950917536946278\n",
       "\\item[PAY\\textbackslash{}\\_0] 0.0934260323581978\n",
       "\\item[PAY\\textbackslash{}\\_2] 0.0152435382908509\n",
       "\\item[PAY\\textbackslash{}\\_3] 0.016116970579513\n",
       "\\item[PAY\\textbackslash{}\\_5] 0.00876462678426957\n",
       "\\item[BILL\\textbackslash{}\\_AMT1] -6.7279882137694e-07\n",
       "\\item[BILL\\textbackslash{}\\_AMT2] 2.84272991963309e-07\n",
       "\\item[PAY\\textbackslash{}\\_AMT1] -1.14602577588862e-06\n",
       "\\item[PAY\\textbackslash{}\\_AMT4] -5.79345830569045e-07\n",
       "\\item[PAY\\textbackslash{}\\_AMT5] -4.68102607373316e-07\n",
       "\\item[EDUCATION\\textbackslash{}\\_1] 0.133151274573149\n",
       "\\item[EDUCATION\\textbackslash{}\\_2] 0.11587441436537\n",
       "\\item[EDUCATION\\textbackslash{}\\_3] 0.116147958848851\n",
       "\\item[MARRIAGE\\textbackslash{}\\_1] 0.165159649711717\n",
       "\\item[MARRIAGE\\textbackslash{}\\_2] 0.140168792698953\n",
       "\\item[MARRIAGE\\textbackslash{}\\_3] 0.153052645029357\n",
       "\\end{description*}\n"
      ],
      "text/markdown": [
       "(Intercept)\n",
       ":   -0.0372767190333203LIMIT_BAL\n",
       ":   -6.51660492442732e-08SEX\n",
       ":   0.0103473433534477AGE\n",
       ":   0.000950917536946278PAY_0\n",
       ":   0.0934260323581978PAY_2\n",
       ":   0.0152435382908509PAY_3\n",
       ":   0.016116970579513PAY_5\n",
       ":   0.00876462678426957BILL_AMT1\n",
       ":   -6.7279882137694e-07BILL_AMT2\n",
       ":   2.84272991963309e-07PAY_AMT1\n",
       ":   -1.14602577588862e-06PAY_AMT4\n",
       ":   -5.79345830569045e-07PAY_AMT5\n",
       ":   -4.68102607373316e-07EDUCATION_1\n",
       ":   0.133151274573149EDUCATION_2\n",
       ":   0.11587441436537EDUCATION_3\n",
       ":   0.116147958848851MARRIAGE_1\n",
       ":   0.165159649711717MARRIAGE_2\n",
       ":   0.140168792698953MARRIAGE_3\n",
       ":   0.153052645029357\n",
       "\n"
      ],
      "text/plain": [
       "  (Intercept)     LIMIT_BAL           SEX           AGE         PAY_0 \n",
       "-3.727672e-02 -6.516605e-08  1.034734e-02  9.509175e-04  9.342603e-02 \n",
       "        PAY_2         PAY_3         PAY_5     BILL_AMT1     BILL_AMT2 \n",
       " 1.524354e-02  1.611697e-02  8.764627e-03 -6.727988e-07  2.842730e-07 \n",
       "     PAY_AMT1      PAY_AMT4      PAY_AMT5   EDUCATION_1   EDUCATION_2 \n",
       "-1.146026e-06 -5.793458e-07 -4.681026e-07  1.331513e-01  1.158744e-01 \n",
       "  EDUCATION_3    MARRIAGE_1    MARRIAGE_2    MARRIAGE_3 \n",
       " 1.161480e-01  1.651596e-01  1.401688e-01  1.530526e-01 "
      ]
     },
     "metadata": {},
     "output_type": "display_data"
    }
   ],
   "source": [
    "# fitting model and get the coeficiant for the optimum number of variables\n",
    "reg.best=regsubsets(default~.,data=DF, nvmax=30)\n",
    "#storing the feature selected based on the backward model by bic coeficient\n",
    "selection.best=names(coef(reg.best,18))[-1]\n",
    "# results for best variables\n",
    "coef(reg.best,18)"
   ]
  },
  {
   "cell_type": "markdown",
   "id": "ef9e0e3c",
   "metadata": {},
   "source": [
    "#### 1.3. Ridge Regression"
   ]
  },
  {
   "cell_type": "code",
   "execution_count": 463,
   "id": "67a013a8",
   "metadata": {},
   "outputs": [],
   "source": [
    "#define independant variables and dependant variable\n",
    "# independants\n",
    "x=model.matrix(default~.,DF)[,-1]\n",
    "# dependant\n",
    "y=DF$default"
   ]
  },
  {
   "cell_type": "code",
   "execution_count": 464,
   "id": "0ff6eef6",
   "metadata": {},
   "outputs": [],
   "source": [
    "#fdefining range for the lambda\n",
    "grid=10^seq(10,-2,length=100)\n",
    "#applying ridge regression\n",
    "ridge.mod=glmnet(x,y,alpha=0,lambda=grid)"
   ]
  },
  {
   "cell_type": "code",
   "execution_count": 465,
   "id": "309e4c70",
   "metadata": {},
   "outputs": [
    {
     "data": {
      "text/html": [
       "<style>\n",
       ".list-inline {list-style: none; margin:0; padding: 0}\n",
       ".list-inline>li {display: inline-block}\n",
       ".list-inline>li:not(:last-child)::after {content: \"\\00b7\"; padding: 0 .5ex}\n",
       "</style>\n",
       "<ol class=list-inline><li>31</li><li>100</li></ol>\n"
      ],
      "text/latex": [
       "\\begin{enumerate*}\n",
       "\\item 31\n",
       "\\item 100\n",
       "\\end{enumerate*}\n"
      ],
      "text/markdown": [
       "1. 31\n",
       "2. 100\n",
       "\n",
       "\n"
      ],
      "text/plain": [
       "[1]  31 100"
      ]
     },
     "metadata": {},
     "output_type": "display_data"
    }
   ],
   "source": [
    "#dimention of model\n",
    "dim(coef(ridge.mod))"
   ]
  },
  {
   "cell_type": "code",
   "execution_count": 466,
   "id": "5ce57aad",
   "metadata": {},
   "outputs": [
    {
     "data": {
      "text/html": [
       "305.385550883341"
      ],
      "text/latex": [
       "305.385550883341"
      ],
      "text/markdown": [
       "305.385550883341"
      ],
      "text/plain": [
       "[1] 305.3856"
      ]
     },
     "metadata": {},
     "output_type": "display_data"
    },
    {
     "data": {
      "text/html": [
       "<style>\n",
       ".dl-inline {width: auto; margin:0; padding: 0}\n",
       ".dl-inline>dt, .dl-inline>dd {float: none; width: auto; display: inline-block}\n",
       ".dl-inline>dt::after {content: \":\\0020\"; padding-right: .5ex}\n",
       ".dl-inline>dt:not(:first-of-type) {padding-left: .5ex}\n",
       "</style><dl class=dl-inline><dt>(Intercept)</dt><dd>0.220973123398663</dd><dt>LIMIT_BAL</dt><dd>-6.30616792611419e-10</dd><dt>SEX</dt><dd>4.06721032439321e-05</dd><dt>AGE</dt><dd>4.58881721376694e-07</dd><dt>PAY_0</dt><dd>0.000158095239150526</dd><dt>PAY_2</dt><dd>0.000118488868605684</dd><dt>PAY_3</dt><dd>0.00010678674052521</dd><dt>PAY_4</dt><dd>0.000100689851129467</dd><dt>PAY_5</dt><dd>9.82374376946229e-05</dd><dt>PAY_6</dt><dd>8.82124796625773e-05</dd><dt>BILL_AMT1</dt><dd>-1.53693168282834e-10</dd><dt>BILL_AMT2</dt><dd>-1.05980433156673e-10</dd><dt>BILL_AMT3</dt><dd>-1.13678815741669e-10</dd><dt>BILL_AMT4</dt><dd>-9.23663114897603e-11</dd><dt>BILL_AMT5</dt><dd>-7.41121541938247e-11</dd><dt>BILL_AMT6</dt><dd>-6.56872221540983e-11</dd><dt>PAY_AMT1</dt><dd>-2.77167675592571e-09</dd><dt>PAY_AMT2</dt><dd>-1.51922024514302e-09</dd><dt>PAY_AMT3</dt><dd>-1.72840088187592e-09</dd><dt>PAY_AMT4</dt><dd>-2.34824917808931e-09</dd><dt>PAY_AMT5</dt><dd>-2.19772833492757e-09</dd><dt>PAY_AMT6</dt><dd>-1.68746839790754e-09</dd><dt>EDUCATION_1</dt><dd>-5.23521119864164e-05</dd><dt>EDUCATION_2</dt><dd>3.63652672401322e-05</dd><dt>EDUCATION_3</dt><dd>4.45072772579372e-05</dd><dt>EDUCATION_4</dt><dd>-0.000246898950685695</dd><dt>EDUCATION_5</dt><dd>-0.000212689522235744</dd><dt>EDUCATION_6</dt><dd>-0.000105531078008422</dd><dt>MARRIAGE_1</dt><dd>2.58148193885792e-05</dd><dt>MARRIAGE_2</dt><dd>-2.67774917840661e-05</dd><dt>MARRIAGE_3</dt><dd>5.7568152342725e-05</dd></dl>\n"
      ],
      "text/latex": [
       "\\begin{description*}\n",
       "\\item[(Intercept)] 0.220973123398663\n",
       "\\item[LIMIT\\textbackslash{}\\_BAL] -6.30616792611419e-10\n",
       "\\item[SEX] 4.06721032439321e-05\n",
       "\\item[AGE] 4.58881721376694e-07\n",
       "\\item[PAY\\textbackslash{}\\_0] 0.000158095239150526\n",
       "\\item[PAY\\textbackslash{}\\_2] 0.000118488868605684\n",
       "\\item[PAY\\textbackslash{}\\_3] 0.00010678674052521\n",
       "\\item[PAY\\textbackslash{}\\_4] 0.000100689851129467\n",
       "\\item[PAY\\textbackslash{}\\_5] 9.82374376946229e-05\n",
       "\\item[PAY\\textbackslash{}\\_6] 8.82124796625773e-05\n",
       "\\item[BILL\\textbackslash{}\\_AMT1] -1.53693168282834e-10\n",
       "\\item[BILL\\textbackslash{}\\_AMT2] -1.05980433156673e-10\n",
       "\\item[BILL\\textbackslash{}\\_AMT3] -1.13678815741669e-10\n",
       "\\item[BILL\\textbackslash{}\\_AMT4] -9.23663114897603e-11\n",
       "\\item[BILL\\textbackslash{}\\_AMT5] -7.41121541938247e-11\n",
       "\\item[BILL\\textbackslash{}\\_AMT6] -6.56872221540983e-11\n",
       "\\item[PAY\\textbackslash{}\\_AMT1] -2.77167675592571e-09\n",
       "\\item[PAY\\textbackslash{}\\_AMT2] -1.51922024514302e-09\n",
       "\\item[PAY\\textbackslash{}\\_AMT3] -1.72840088187592e-09\n",
       "\\item[PAY\\textbackslash{}\\_AMT4] -2.34824917808931e-09\n",
       "\\item[PAY\\textbackslash{}\\_AMT5] -2.19772833492757e-09\n",
       "\\item[PAY\\textbackslash{}\\_AMT6] -1.68746839790754e-09\n",
       "\\item[EDUCATION\\textbackslash{}\\_1] -5.23521119864164e-05\n",
       "\\item[EDUCATION\\textbackslash{}\\_2] 3.63652672401322e-05\n",
       "\\item[EDUCATION\\textbackslash{}\\_3] 4.45072772579372e-05\n",
       "\\item[EDUCATION\\textbackslash{}\\_4] -0.000246898950685695\n",
       "\\item[EDUCATION\\textbackslash{}\\_5] -0.000212689522235744\n",
       "\\item[EDUCATION\\textbackslash{}\\_6] -0.000105531078008422\n",
       "\\item[MARRIAGE\\textbackslash{}\\_1] 2.58148193885792e-05\n",
       "\\item[MARRIAGE\\textbackslash{}\\_2] -2.67774917840661e-05\n",
       "\\item[MARRIAGE\\textbackslash{}\\_3] 5.7568152342725e-05\n",
       "\\end{description*}\n"
      ],
      "text/markdown": [
       "(Intercept)\n",
       ":   0.220973123398663LIMIT_BAL\n",
       ":   -6.30616792611419e-10SEX\n",
       ":   4.06721032439321e-05AGE\n",
       ":   4.58881721376694e-07PAY_0\n",
       ":   0.000158095239150526PAY_2\n",
       ":   0.000118488868605684PAY_3\n",
       ":   0.00010678674052521PAY_4\n",
       ":   0.000100689851129467PAY_5\n",
       ":   9.82374376946229e-05PAY_6\n",
       ":   8.82124796625773e-05BILL_AMT1\n",
       ":   -1.53693168282834e-10BILL_AMT2\n",
       ":   -1.05980433156673e-10BILL_AMT3\n",
       ":   -1.13678815741669e-10BILL_AMT4\n",
       ":   -9.23663114897603e-11BILL_AMT5\n",
       ":   -7.41121541938247e-11BILL_AMT6\n",
       ":   -6.56872221540983e-11PAY_AMT1\n",
       ":   -2.77167675592571e-09PAY_AMT2\n",
       ":   -1.51922024514302e-09PAY_AMT3\n",
       ":   -1.72840088187592e-09PAY_AMT4\n",
       ":   -2.34824917808931e-09PAY_AMT5\n",
       ":   -2.19772833492757e-09PAY_AMT6\n",
       ":   -1.68746839790754e-09EDUCATION_1\n",
       ":   -5.23521119864164e-05EDUCATION_2\n",
       ":   3.63652672401322e-05EDUCATION_3\n",
       ":   4.45072772579372e-05EDUCATION_4\n",
       ":   -0.000246898950685695EDUCATION_5\n",
       ":   -0.000212689522235744EDUCATION_6\n",
       ":   -0.000105531078008422MARRIAGE_1\n",
       ":   2.58148193885792e-05MARRIAGE_2\n",
       ":   -2.67774917840661e-05MARRIAGE_3\n",
       ":   5.7568152342725e-05\n",
       "\n"
      ],
      "text/plain": [
       "  (Intercept)     LIMIT_BAL           SEX           AGE         PAY_0 \n",
       " 2.209731e-01 -6.306168e-10  4.067210e-05  4.588817e-07  1.580952e-04 \n",
       "        PAY_2         PAY_3         PAY_4         PAY_5         PAY_6 \n",
       " 1.184889e-04  1.067867e-04  1.006899e-04  9.823744e-05  8.821248e-05 \n",
       "    BILL_AMT1     BILL_AMT2     BILL_AMT3     BILL_AMT4     BILL_AMT5 \n",
       "-1.536932e-10 -1.059804e-10 -1.136788e-10 -9.236631e-11 -7.411215e-11 \n",
       "    BILL_AMT6      PAY_AMT1      PAY_AMT2      PAY_AMT3      PAY_AMT4 \n",
       "-6.568722e-11 -2.771677e-09 -1.519220e-09 -1.728401e-09 -2.348249e-09 \n",
       "     PAY_AMT5      PAY_AMT6   EDUCATION_1   EDUCATION_2   EDUCATION_3 \n",
       "-2.197728e-09 -1.687468e-09 -5.235211e-05  3.636527e-05  4.450728e-05 \n",
       "  EDUCATION_4   EDUCATION_5   EDUCATION_6    MARRIAGE_1    MARRIAGE_2 \n",
       "-2.468990e-04 -2.126895e-04 -1.055311e-04  2.581482e-05 -2.677749e-05 \n",
       "   MARRIAGE_3 \n",
       " 5.756815e-05 "
      ]
     },
     "metadata": {},
     "output_type": "display_data"
    },
    {
     "data": {
      "text/html": [
       "0.00045578106071536"
      ],
      "text/latex": [
       "0.00045578106071536"
      ],
      "text/markdown": [
       "0.00045578106071536"
      ],
      "text/plain": [
       "[1] 0.0004557811"
      ]
     },
     "metadata": {},
     "output_type": "display_data"
    }
   ],
   "source": [
    "# labmbda for row number 63\n",
    "ridge.mod$lambda[63]\n",
    "# coeficients of lambda\n",
    "coef(ridge.mod)[,63]\n",
    "#sum square of lambda\n",
    "sqrt(sum(coef(ridge.mod)[-1,63]^2))"
   ]
  },
  {
   "cell_type": "code",
   "execution_count": 467,
   "id": "bc92122f",
   "metadata": {},
   "outputs": [
    {
     "data": {
      "text/html": [
       "0.0305385550883341"
      ],
      "text/latex": [
       "0.0305385550883341"
      ],
      "text/markdown": [
       "0.0305385550883341"
      ],
      "text/plain": [
       "[1] 0.03053856"
      ]
     },
     "metadata": {},
     "output_type": "display_data"
    },
    {
     "data": {
      "text/html": [
       "<style>\n",
       ".dl-inline {width: auto; margin:0; padding: 0}\n",
       ".dl-inline>dt, .dl-inline>dd {float: none; width: auto; display: inline-block}\n",
       ".dl-inline>dt::after {content: \":\\0020\"; padding-right: .5ex}\n",
       ".dl-inline>dt:not(:first-of-type) {padding-left: .5ex}\n",
       "</style><dl class=dl-inline><dt>(Intercept)</dt><dd>0.230677395374464</dd><dt>LIMIT_BAL</dt><dd>-6.56146552592515e-08</dd><dt>SEX</dt><dd>0.0103358090238935</dd><dt>AGE</dt><dd>0.000850926730098441</dd><dt>PAY_0</dt><dd>0.083001128517169</dd><dt>PAY_2</dt><dd>0.0179473655669708</dd><dt>PAY_3</dt><dd>0.0138074821358689</dd><dt>PAY_4</dt><dd>0.00613470758018019</dd><dt>PAY_5</dt><dd>0.00678163000635763</dd><dt>PAY_6</dt><dd>0.00174047004785683</dd><dt>BILL_AMT1</dt><dd>-3.42541512776698e-07</dd><dt>BILL_AMT2</dt><dd>-2.09483506597165e-08</dd><dt>BILL_AMT3</dt><dd>2.66779503567535e-08</dd><dt>BILL_AMT4</dt><dd>-1.00178984065635e-07</dd><dt>BILL_AMT5</dt><dd>1.23275083104944e-08</dd><dt>BILL_AMT6</dt><dd>5.39775579441698e-08</dd><dt>PAY_AMT1</dt><dd>-7.96000043828895e-07</dd><dt>PAY_AMT2</dt><dd>-2.54692798445485e-07</dd><dt>PAY_AMT3</dt><dd>9.03967256413914e-09</dd><dt>PAY_AMT4</dt><dd>-6.12152181246289e-07</dd><dt>PAY_AMT5</dt><dd>-4.54526077048596e-07</dd><dt>PAY_AMT6</dt><dd>-2.14953029026803e-07</dd><dt>EDUCATION_1</dt><dd>0.0142362549183883</dd><dt>EDUCATION_2</dt><dd>-0.00178488599131224</dd><dt>EDUCATION_3</dt><dd>-0.00200176294153212</dd><dt>EDUCATION_4</dt><dd>-0.10808237788512</dd><dt>EDUCATION_5</dt><dd>-0.123047740951365</dd><dt>EDUCATION_6</dt><dd>-0.0404520669656671</dd><dt>MARRIAGE_1</dt><dd>0.0186506776588041</dd><dt>MARRIAGE_2</dt><dd>-0.00580988416947324</dd><dt>MARRIAGE_3</dt><dd>0.00755095530089973</dd></dl>\n"
      ],
      "text/latex": [
       "\\begin{description*}\n",
       "\\item[(Intercept)] 0.230677395374464\n",
       "\\item[LIMIT\\textbackslash{}\\_BAL] -6.56146552592515e-08\n",
       "\\item[SEX] 0.0103358090238935\n",
       "\\item[AGE] 0.000850926730098441\n",
       "\\item[PAY\\textbackslash{}\\_0] 0.083001128517169\n",
       "\\item[PAY\\textbackslash{}\\_2] 0.0179473655669708\n",
       "\\item[PAY\\textbackslash{}\\_3] 0.0138074821358689\n",
       "\\item[PAY\\textbackslash{}\\_4] 0.00613470758018019\n",
       "\\item[PAY\\textbackslash{}\\_5] 0.00678163000635763\n",
       "\\item[PAY\\textbackslash{}\\_6] 0.00174047004785683\n",
       "\\item[BILL\\textbackslash{}\\_AMT1] -3.42541512776698e-07\n",
       "\\item[BILL\\textbackslash{}\\_AMT2] -2.09483506597165e-08\n",
       "\\item[BILL\\textbackslash{}\\_AMT3] 2.66779503567535e-08\n",
       "\\item[BILL\\textbackslash{}\\_AMT4] -1.00178984065635e-07\n",
       "\\item[BILL\\textbackslash{}\\_AMT5] 1.23275083104944e-08\n",
       "\\item[BILL\\textbackslash{}\\_AMT6] 5.39775579441698e-08\n",
       "\\item[PAY\\textbackslash{}\\_AMT1] -7.96000043828895e-07\n",
       "\\item[PAY\\textbackslash{}\\_AMT2] -2.54692798445485e-07\n",
       "\\item[PAY\\textbackslash{}\\_AMT3] 9.03967256413914e-09\n",
       "\\item[PAY\\textbackslash{}\\_AMT4] -6.12152181246289e-07\n",
       "\\item[PAY\\textbackslash{}\\_AMT5] -4.54526077048596e-07\n",
       "\\item[PAY\\textbackslash{}\\_AMT6] -2.14953029026803e-07\n",
       "\\item[EDUCATION\\textbackslash{}\\_1] 0.0142362549183883\n",
       "\\item[EDUCATION\\textbackslash{}\\_2] -0.00178488599131224\n",
       "\\item[EDUCATION\\textbackslash{}\\_3] -0.00200176294153212\n",
       "\\item[EDUCATION\\textbackslash{}\\_4] -0.10808237788512\n",
       "\\item[EDUCATION\\textbackslash{}\\_5] -0.123047740951365\n",
       "\\item[EDUCATION\\textbackslash{}\\_6] -0.0404520669656671\n",
       "\\item[MARRIAGE\\textbackslash{}\\_1] 0.0186506776588041\n",
       "\\item[MARRIAGE\\textbackslash{}\\_2] -0.00580988416947324\n",
       "\\item[MARRIAGE\\textbackslash{}\\_3] 0.00755095530089973\n",
       "\\end{description*}\n"
      ],
      "text/markdown": [
       "(Intercept)\n",
       ":   0.230677395374464LIMIT_BAL\n",
       ":   -6.56146552592515e-08SEX\n",
       ":   0.0103358090238935AGE\n",
       ":   0.000850926730098441PAY_0\n",
       ":   0.083001128517169PAY_2\n",
       ":   0.0179473655669708PAY_3\n",
       ":   0.0138074821358689PAY_4\n",
       ":   0.00613470758018019PAY_5\n",
       ":   0.00678163000635763PAY_6\n",
       ":   0.00174047004785683BILL_AMT1\n",
       ":   -3.42541512776698e-07BILL_AMT2\n",
       ":   -2.09483506597165e-08BILL_AMT3\n",
       ":   2.66779503567535e-08BILL_AMT4\n",
       ":   -1.00178984065635e-07BILL_AMT5\n",
       ":   1.23275083104944e-08BILL_AMT6\n",
       ":   5.39775579441698e-08PAY_AMT1\n",
       ":   -7.96000043828895e-07PAY_AMT2\n",
       ":   -2.54692798445485e-07PAY_AMT3\n",
       ":   9.03967256413914e-09PAY_AMT4\n",
       ":   -6.12152181246289e-07PAY_AMT5\n",
       ":   -4.54526077048596e-07PAY_AMT6\n",
       ":   -2.14953029026803e-07EDUCATION_1\n",
       ":   0.0142362549183883EDUCATION_2\n",
       ":   -0.00178488599131224EDUCATION_3\n",
       ":   -0.00200176294153212EDUCATION_4\n",
       ":   -0.10808237788512EDUCATION_5\n",
       ":   -0.123047740951365EDUCATION_6\n",
       ":   -0.0404520669656671MARRIAGE_1\n",
       ":   0.0186506776588041MARRIAGE_2\n",
       ":   -0.00580988416947324MARRIAGE_3\n",
       ":   0.00755095530089973\n",
       "\n"
      ],
      "text/plain": [
       "  (Intercept)     LIMIT_BAL           SEX           AGE         PAY_0 \n",
       " 2.306774e-01 -6.561466e-08  1.033581e-02  8.509267e-04  8.300113e-02 \n",
       "        PAY_2         PAY_3         PAY_4         PAY_5         PAY_6 \n",
       " 1.794737e-02  1.380748e-02  6.134708e-03  6.781630e-03  1.740470e-03 \n",
       "    BILL_AMT1     BILL_AMT2     BILL_AMT3     BILL_AMT4     BILL_AMT5 \n",
       "-3.425415e-07 -2.094835e-08  2.667795e-08 -1.001790e-07  1.232751e-08 \n",
       "    BILL_AMT6      PAY_AMT1      PAY_AMT2      PAY_AMT3      PAY_AMT4 \n",
       " 5.397756e-08 -7.960000e-07 -2.546928e-07  9.039673e-09 -6.121522e-07 \n",
       "     PAY_AMT5      PAY_AMT6   EDUCATION_1   EDUCATION_2   EDUCATION_3 \n",
       "-4.545261e-07 -2.149530e-07  1.423625e-02 -1.784886e-03 -2.001763e-03 \n",
       "  EDUCATION_4   EDUCATION_5   EDUCATION_6    MARRIAGE_1    MARRIAGE_2 \n",
       "-1.080824e-01 -1.230477e-01 -4.045207e-02  1.865068e-02 -5.809884e-03 \n",
       "   MARRIAGE_3 \n",
       " 7.550955e-03 "
      ]
     },
     "metadata": {},
     "output_type": "display_data"
    },
    {
     "data": {
      "text/html": [
       "0.191581703724222"
      ],
      "text/latex": [
       "0.191581703724222"
      ],
      "text/markdown": [
       "0.191581703724222"
      ],
      "text/plain": [
       "[1] 0.1915817"
      ]
     },
     "metadata": {},
     "output_type": "display_data"
    }
   ],
   "source": [
    "# labmbda for row number 96\n",
    "ridge.mod$lambda[96]\n",
    "# coeficients of lambda\n",
    "coef(ridge.mod)[,96]\n",
    "#sum square of lambda\n",
    "sqrt(sum(coef(ridge.mod)[-1,96]^2))"
   ]
  },
  {
   "cell_type": "code",
   "execution_count": 469,
   "id": "57d73f23",
   "metadata": {},
   "outputs": [
    {
     "data": {
      "text/html": [
       "<style>\n",
       ".dl-inline {width: auto; margin:0; padding: 0}\n",
       ".dl-inline>dt, .dl-inline>dd {float: none; width: auto; display: inline-block}\n",
       ".dl-inline>dt::after {content: \":\\0020\"; padding-right: .5ex}\n",
       ".dl-inline>dt:not(:first-of-type) {padding-left: .5ex}\n",
       "</style><dl class=dl-inline><dt>(Intercept)</dt><dd>0.222019036830588</dd><dt>LIMIT_BAL</dt><dd>-3.03434116597365e-09</dd><dt>SEX</dt><dd>0.000196794990748618</dd><dt>AGE</dt><dd>2.36191770496289e-06</dd><dt>PAY_0</dt><dd>0.000766060441435336</dd><dt>PAY_2</dt><dd>0.000570736566364221</dd><dt>PAY_3</dt><dd>0.000513200237731807</dd><dt>PAY_4</dt><dd>0.000483020350039665</dd><dt>PAY_5</dt><dd>0.000471046129198249</dd><dt>PAY_6</dt><dd>0.000422735841702506</dd><dt>BILL_AMT1</dt><dd>-7.78611534322504e-10</dd><dt>BILL_AMT2</dt><dd>-5.46397463070128e-10</dd><dt>BILL_AMT3</dt><dd>-5.82555437417545e-10</dd><dt>BILL_AMT4</dt><dd>-4.82563123963061e-10</dd><dt>BILL_AMT5</dt><dd>-3.94513329590405e-10</dd><dt>BILL_AMT6</dt><dd>-3.52220840274135e-10</dd><dt>PAY_AMT1</dt><dd>-1.34481976300153e-08</dd><dt>PAY_AMT2</dt><dd>-7.34607126559273e-09</dd><dt>PAY_AMT3</dt><dd>-8.33220390552808e-09</dd><dt>PAY_AMT4</dt><dd>-1.13759131794759e-08</dd><dt>PAY_AMT5</dt><dd>-1.06255346360429e-08</dd><dt>PAY_AMT6</dt><dd>-8.15510065318655e-09</dd><dt>EDUCATION_1</dt><dd>-0.000247601743806867</dd><dt>EDUCATION_2</dt><dd>0.000172307614285782</dd><dt>EDUCATION_3</dt><dd>0.00021359048334896</dd><dt>EDUCATION_4</dt><dd>-0.00120049140580762</dd><dt>EDUCATION_5</dt><dd>-0.00104024345151119</dd><dt>EDUCATION_6</dt><dd>-0.000513147745037614</dd><dt>MARRIAGE_1</dt><dd>0.00012724271714279</dd><dt>MARRIAGE_2</dt><dd>-0.000131707630532649</dd></dl>\n"
      ],
      "text/latex": [
       "\\begin{description*}\n",
       "\\item[(Intercept)] 0.222019036830588\n",
       "\\item[LIMIT\\textbackslash{}\\_BAL] -3.03434116597365e-09\n",
       "\\item[SEX] 0.000196794990748618\n",
       "\\item[AGE] 2.36191770496289e-06\n",
       "\\item[PAY\\textbackslash{}\\_0] 0.000766060441435336\n",
       "\\item[PAY\\textbackslash{}\\_2] 0.000570736566364221\n",
       "\\item[PAY\\textbackslash{}\\_3] 0.000513200237731807\n",
       "\\item[PAY\\textbackslash{}\\_4] 0.000483020350039665\n",
       "\\item[PAY\\textbackslash{}\\_5] 0.000471046129198249\n",
       "\\item[PAY\\textbackslash{}\\_6] 0.000422735841702506\n",
       "\\item[BILL\\textbackslash{}\\_AMT1] -7.78611534322504e-10\n",
       "\\item[BILL\\textbackslash{}\\_AMT2] -5.46397463070128e-10\n",
       "\\item[BILL\\textbackslash{}\\_AMT3] -5.82555437417545e-10\n",
       "\\item[BILL\\textbackslash{}\\_AMT4] -4.82563123963061e-10\n",
       "\\item[BILL\\textbackslash{}\\_AMT5] -3.94513329590405e-10\n",
       "\\item[BILL\\textbackslash{}\\_AMT6] -3.52220840274135e-10\n",
       "\\item[PAY\\textbackslash{}\\_AMT1] -1.34481976300153e-08\n",
       "\\item[PAY\\textbackslash{}\\_AMT2] -7.34607126559273e-09\n",
       "\\item[PAY\\textbackslash{}\\_AMT3] -8.33220390552808e-09\n",
       "\\item[PAY\\textbackslash{}\\_AMT4] -1.13759131794759e-08\n",
       "\\item[PAY\\textbackslash{}\\_AMT5] -1.06255346360429e-08\n",
       "\\item[PAY\\textbackslash{}\\_AMT6] -8.15510065318655e-09\n",
       "\\item[EDUCATION\\textbackslash{}\\_1] -0.000247601743806867\n",
       "\\item[EDUCATION\\textbackslash{}\\_2] 0.000172307614285782\n",
       "\\item[EDUCATION\\textbackslash{}\\_3] 0.00021359048334896\n",
       "\\item[EDUCATION\\textbackslash{}\\_4] -0.00120049140580762\n",
       "\\item[EDUCATION\\textbackslash{}\\_5] -0.00104024345151119\n",
       "\\item[EDUCATION\\textbackslash{}\\_6] -0.000513147745037614\n",
       "\\item[MARRIAGE\\textbackslash{}\\_1] 0.00012724271714279\n",
       "\\item[MARRIAGE\\textbackslash{}\\_2] -0.000131707630532649\n",
       "\\end{description*}\n"
      ],
      "text/markdown": [
       "(Intercept)\n",
       ":   0.222019036830588LIMIT_BAL\n",
       ":   -3.03434116597365e-09SEX\n",
       ":   0.000196794990748618AGE\n",
       ":   2.36191770496289e-06PAY_0\n",
       ":   0.000766060441435336PAY_2\n",
       ":   0.000570736566364221PAY_3\n",
       ":   0.000513200237731807PAY_4\n",
       ":   0.000483020350039665PAY_5\n",
       ":   0.000471046129198249PAY_6\n",
       ":   0.000422735841702506BILL_AMT1\n",
       ":   -7.78611534322504e-10BILL_AMT2\n",
       ":   -5.46397463070128e-10BILL_AMT3\n",
       ":   -5.82555437417545e-10BILL_AMT4\n",
       ":   -4.82563123963061e-10BILL_AMT5\n",
       ":   -3.94513329590405e-10BILL_AMT6\n",
       ":   -3.52220840274135e-10PAY_AMT1\n",
       ":   -1.34481976300153e-08PAY_AMT2\n",
       ":   -7.34607126559273e-09PAY_AMT3\n",
       ":   -8.33220390552808e-09PAY_AMT4\n",
       ":   -1.13759131794759e-08PAY_AMT5\n",
       ":   -1.06255346360429e-08PAY_AMT6\n",
       ":   -8.15510065318655e-09EDUCATION_1\n",
       ":   -0.000247601743806867EDUCATION_2\n",
       ":   0.000172307614285782EDUCATION_3\n",
       ":   0.00021359048334896EDUCATION_4\n",
       ":   -0.00120049140580762EDUCATION_5\n",
       ":   -0.00104024345151119EDUCATION_6\n",
       ":   -0.000513147745037614MARRIAGE_1\n",
       ":   0.00012724271714279MARRIAGE_2\n",
       ":   -0.000131707630532649\n",
       "\n"
      ],
      "text/plain": [
       "  (Intercept)     LIMIT_BAL           SEX           AGE         PAY_0 \n",
       " 2.220190e-01 -3.034341e-09  1.967950e-04  2.361918e-06  7.660604e-04 \n",
       "        PAY_2         PAY_3         PAY_4         PAY_5         PAY_6 \n",
       " 5.707366e-04  5.132002e-04  4.830204e-04  4.710461e-04  4.227358e-04 \n",
       "    BILL_AMT1     BILL_AMT2     BILL_AMT3     BILL_AMT4     BILL_AMT5 \n",
       "-7.786115e-10 -5.463975e-10 -5.825554e-10 -4.825631e-10 -3.945133e-10 \n",
       "    BILL_AMT6      PAY_AMT1      PAY_AMT2      PAY_AMT3      PAY_AMT4 \n",
       "-3.522208e-10 -1.344820e-08 -7.346071e-09 -8.332204e-09 -1.137591e-08 \n",
       "     PAY_AMT5      PAY_AMT6   EDUCATION_1   EDUCATION_2   EDUCATION_3 \n",
       "-1.062553e-08 -8.155101e-09 -2.476017e-04  1.723076e-04  2.135905e-04 \n",
       "  EDUCATION_4   EDUCATION_5   EDUCATION_6    MARRIAGE_1    MARRIAGE_2 \n",
       "-1.200491e-03 -1.040243e-03 -5.131477e-04  1.272427e-04 -1.317076e-04 "
      ]
     },
     "metadata": {},
     "output_type": "display_data"
    }
   ],
   "source": [
    "#predict for l = 63\n",
    "predict(ridge.mod,s=63,type=\"coefficients\")[1:30,]"
   ]
  },
  {
   "cell_type": "code",
   "execution_count": 470,
   "id": "45314004",
   "metadata": {},
   "outputs": [],
   "source": [
    "#spliting data to train and test\n",
    "set.seed(613)\n",
    "train=sample(1:nrow(x), nrow(x)/3)\n",
    "test=(-train)\n",
    "y.test=y[test]"
   ]
  },
  {
   "cell_type": "code",
   "execution_count": 471,
   "id": "8033553f",
   "metadata": {},
   "outputs": [
    {
     "data": {
      "text/html": [
       "0.163457265853466"
      ],
      "text/latex": [
       "0.163457265853466"
      ],
      "text/markdown": [
       "0.163457265853466"
      ],
      "text/plain": [
       "[1] 0.1634573"
      ]
     },
     "metadata": {},
     "output_type": "display_data"
    }
   ],
   "source": [
    "#fiting and evaluating the MSE\n",
    "ridge.mod=glmnet(x[train,],y[train],alpha=0,lambda=grid, thresh=1e-12)\n",
    "ridge.pred=predict(ridge.mod,s=4,newx=x[test,])\n",
    "# MSE of test\n",
    "mean((ridge.pred-y.test)^2)"
   ]
  },
  {
   "cell_type": "code",
   "execution_count": 472,
   "id": "bb68e650",
   "metadata": {},
   "outputs": [
    {
     "data": {
      "text/html": [
       "0.17170814963686"
      ],
      "text/latex": [
       "0.17170814963686"
      ],
      "text/markdown": [
       "0.17170814963686"
      ],
      "text/plain": [
       "[1] 0.1717081"
      ]
     },
     "metadata": {},
     "output_type": "display_data"
    }
   ],
   "source": [
    "# MSE of test set\n",
    "mean((mean(y[train])-y.test)^2)"
   ]
  },
  {
   "cell_type": "code",
   "execution_count": 473,
   "id": "273a10c4",
   "metadata": {},
   "outputs": [
    {
     "data": {
      "text/html": [
       "0.171708149631372"
      ],
      "text/latex": [
       "0.171708149631372"
      ],
      "text/markdown": [
       "0.171708149631372"
      ],
      "text/plain": [
       "[1] 0.1717081"
      ]
     },
     "metadata": {},
     "output_type": "display_data"
    }
   ],
   "source": [
    "#fitting ridge by large number of lambda\n",
    "ridge.pred=predict(ridge.mod,s=1e10,newx=x[test,])\n",
    "# MSE result\n",
    "mean((ridge.pred-y.test)^2)"
   ]
  },
  {
   "cell_type": "code",
   "execution_count": 474,
   "id": "e92fea42",
   "metadata": {},
   "outputs": [
    {
     "data": {
      "text/html": [
       "0.151859335098611"
      ],
      "text/latex": [
       "0.151859335098611"
      ],
      "text/markdown": [
       "0.151859335098611"
      ],
      "text/plain": [
       "[1] 0.1518593"
      ]
     },
     "metadata": {},
     "output_type": "display_data"
    }
   ],
   "source": [
    "#predictng by new mdel\n",
    "ridge.pred=predict(ridge.mod,s=0,newx=x[test,])\n",
    "mean((ridge.pred-y.test)^2)"
   ]
  },
  {
   "cell_type": "code",
   "execution_count": 476,
   "id": "90ea063f",
   "metadata": {},
   "outputs": [
    {
     "data": {
      "text/plain": [
       "\n",
       "Call:  glm(formula = y ~ x, family = \"binomial\", subset = train)\n",
       "\n",
       "Coefficients:\n",
       " (Intercept)    xLIMIT_BAL          xSEX          xAGE        xPAY_0  \n",
       "  -2.187e+00    -4.482e-07     1.439e-01     5.720e-03     4.948e-01  \n",
       "      xPAY_2        xPAY_3        xPAY_4        xPAY_5        xPAY_6  \n",
       "   1.045e-01     7.556e-02     2.622e-02     6.438e-02    -1.649e-02  \n",
       "  xBILL_AMT1    xBILL_AMT2    xBILL_AMT3    xBILL_AMT4    xBILL_AMT5  \n",
       "  -4.784e-06     3.601e-06    -9.478e-07     2.639e-06    -1.873e-06  \n",
       "  xBILL_AMT6     xPAY_AMT1     xPAY_AMT2     xPAY_AMT3     xPAY_AMT4  \n",
       "   6.273e-07    -1.628e-05    -9.346e-06    -5.202e-06    -6.864e-06  \n",
       "   xPAY_AMT5     xPAY_AMT6  xEDUCATION_1  xEDUCATION_2  xEDUCATION_3  \n",
       "  -4.320e-06    -4.049e-06    -3.959e-01    -5.438e-01    -6.199e-01  \n",
       "xEDUCATION_4  xEDUCATION_5  xEDUCATION_6   xMARRIAGE_1   xMARRIAGE_2  \n",
       "  -2.100e+00    -1.693e+00            NA     1.535e+00     1.326e+00  \n",
       " xMARRIAGE_3  \n",
       "   1.685e+00  \n",
       "\n",
       "Degrees of Freedom: 6665 Total (i.e. Null);  6636 Residual\n",
       "Null Deviance:\t    7054 \n",
       "Residual Deviance: 6268 \tAIC: 6328"
      ]
     },
     "metadata": {},
     "output_type": "display_data"
    },
    {
     "data": {
      "text/html": [
       "<style>\n",
       ".dl-inline {width: auto; margin:0; padding: 0}\n",
       ".dl-inline>dt, .dl-inline>dd {float: none; width: auto; display: inline-block}\n",
       ".dl-inline>dt::after {content: \":\\0020\"; padding-right: .5ex}\n",
       ".dl-inline>dt:not(:first-of-type) {padding-left: .5ex}\n",
       "</style><dl class=dl-inline><dt>(Intercept)</dt><dd>0.204468530494666</dd><dt>LIMIT_BAL</dt><dd>-4.68650954387012e-08</dd><dt>SEX</dt><dd>0.019667667855354</dd><dt>AGE</dt><dd>0.00117816107640756</dd><dt>PAY_0</dt><dd>0.0794673729860845</dd><dt>PAY_2</dt><dd>0.0234321412382518</dd><dt>PAY_3</dt><dd>0.0134142978674974</dd><dt>PAY_4</dt><dd>0.0058056120549472</dd><dt>PAY_5</dt><dd>0.0103100345781456</dd><dt>PAY_6</dt><dd>-0.00306362369617106</dd><dt>BILL_AMT1</dt><dd>-4.41628787789513e-07</dd><dt>BILL_AMT2</dt><dd>1.18456020190614e-07</dd><dt>BILL_AMT3</dt><dd>-8.85527896476814e-08</dd><dt>BILL_AMT4</dt><dd>1.57793122572669e-07</dd><dt>BILL_AMT5</dt><dd>-1.22185123569358e-07</dd><dt>BILL_AMT6</dt><dd>5.30268235480215e-09</dd><dt>PAY_AMT1</dt><dd>-1.02268467930417e-06</dd><dt>PAY_AMT2</dt><dd>-4.1729237214378e-07</dd><dt>PAY_AMT3</dt><dd>-3.18531078889992e-07</dd><dt>PAY_AMT4</dt><dd>-4.06576129520541e-07</dd><dt>PAY_AMT5</dt><dd>-3.65840831225826e-07</dd><dt>PAY_AMT6</dt><dd>-2.63831662703138e-07</dd><dt>EDUCATION_1</dt><dd>0.0184097297605083</dd><dt>EDUCATION_2</dt><dd>-0.00211630836290235</dd><dt>EDUCATION_3</dt><dd>-0.015513884222384</dd><dt>EDUCATION_4</dt><dd>-0.108999167074088</dd><dt>EDUCATION_5</dt><dd>-0.124207111923887</dd><dt>EDUCATION_6</dt><dd>0.0741434549530599</dd><dt>MARRIAGE_1</dt><dd>0.0348065261392733</dd><dt>MARRIAGE_2</dt><dd>0.00344709698954933</dd></dl>\n"
      ],
      "text/latex": [
       "\\begin{description*}\n",
       "\\item[(Intercept)] 0.204468530494666\n",
       "\\item[LIMIT\\textbackslash{}\\_BAL] -4.68650954387012e-08\n",
       "\\item[SEX] 0.019667667855354\n",
       "\\item[AGE] 0.00117816107640756\n",
       "\\item[PAY\\textbackslash{}\\_0] 0.0794673729860845\n",
       "\\item[PAY\\textbackslash{}\\_2] 0.0234321412382518\n",
       "\\item[PAY\\textbackslash{}\\_3] 0.0134142978674974\n",
       "\\item[PAY\\textbackslash{}\\_4] 0.0058056120549472\n",
       "\\item[PAY\\textbackslash{}\\_5] 0.0103100345781456\n",
       "\\item[PAY\\textbackslash{}\\_6] -0.00306362369617106\n",
       "\\item[BILL\\textbackslash{}\\_AMT1] -4.41628787789513e-07\n",
       "\\item[BILL\\textbackslash{}\\_AMT2] 1.18456020190614e-07\n",
       "\\item[BILL\\textbackslash{}\\_AMT3] -8.85527896476814e-08\n",
       "\\item[BILL\\textbackslash{}\\_AMT4] 1.57793122572669e-07\n",
       "\\item[BILL\\textbackslash{}\\_AMT5] -1.22185123569358e-07\n",
       "\\item[BILL\\textbackslash{}\\_AMT6] 5.30268235480215e-09\n",
       "\\item[PAY\\textbackslash{}\\_AMT1] -1.02268467930417e-06\n",
       "\\item[PAY\\textbackslash{}\\_AMT2] -4.1729237214378e-07\n",
       "\\item[PAY\\textbackslash{}\\_AMT3] -3.18531078889992e-07\n",
       "\\item[PAY\\textbackslash{}\\_AMT4] -4.06576129520541e-07\n",
       "\\item[PAY\\textbackslash{}\\_AMT5] -3.65840831225826e-07\n",
       "\\item[PAY\\textbackslash{}\\_AMT6] -2.63831662703138e-07\n",
       "\\item[EDUCATION\\textbackslash{}\\_1] 0.0184097297605083\n",
       "\\item[EDUCATION\\textbackslash{}\\_2] -0.00211630836290235\n",
       "\\item[EDUCATION\\textbackslash{}\\_3] -0.015513884222384\n",
       "\\item[EDUCATION\\textbackslash{}\\_4] -0.108999167074088\n",
       "\\item[EDUCATION\\textbackslash{}\\_5] -0.124207111923887\n",
       "\\item[EDUCATION\\textbackslash{}\\_6] 0.0741434549530599\n",
       "\\item[MARRIAGE\\textbackslash{}\\_1] 0.0348065261392733\n",
       "\\item[MARRIAGE\\textbackslash{}\\_2] 0.00344709698954933\n",
       "\\end{description*}\n"
      ],
      "text/markdown": [
       "(Intercept)\n",
       ":   0.204468530494666LIMIT_BAL\n",
       ":   -4.68650954387012e-08SEX\n",
       ":   0.019667667855354AGE\n",
       ":   0.00117816107640756PAY_0\n",
       ":   0.0794673729860845PAY_2\n",
       ":   0.0234321412382518PAY_3\n",
       ":   0.0134142978674974PAY_4\n",
       ":   0.0058056120549472PAY_5\n",
       ":   0.0103100345781456PAY_6\n",
       ":   -0.00306362369617106BILL_AMT1\n",
       ":   -4.41628787789513e-07BILL_AMT2\n",
       ":   1.18456020190614e-07BILL_AMT3\n",
       ":   -8.85527896476814e-08BILL_AMT4\n",
       ":   1.57793122572669e-07BILL_AMT5\n",
       ":   -1.22185123569358e-07BILL_AMT6\n",
       ":   5.30268235480215e-09PAY_AMT1\n",
       ":   -1.02268467930417e-06PAY_AMT2\n",
       ":   -4.1729237214378e-07PAY_AMT3\n",
       ":   -3.18531078889992e-07PAY_AMT4\n",
       ":   -4.06576129520541e-07PAY_AMT5\n",
       ":   -3.65840831225826e-07PAY_AMT6\n",
       ":   -2.63831662703138e-07EDUCATION_1\n",
       ":   0.0184097297605083EDUCATION_2\n",
       ":   -0.00211630836290235EDUCATION_3\n",
       ":   -0.015513884222384EDUCATION_4\n",
       ":   -0.108999167074088EDUCATION_5\n",
       ":   -0.124207111923887EDUCATION_6\n",
       ":   0.0741434549530599MARRIAGE_1\n",
       ":   0.0348065261392733MARRIAGE_2\n",
       ":   0.00344709698954933\n",
       "\n"
      ],
      "text/plain": [
       "  (Intercept)     LIMIT_BAL           SEX           AGE         PAY_0 \n",
       " 2.044685e-01 -4.686510e-08  1.966767e-02  1.178161e-03  7.946737e-02 \n",
       "        PAY_2         PAY_3         PAY_4         PAY_5         PAY_6 \n",
       " 2.343214e-02  1.341430e-02  5.805612e-03  1.031003e-02 -3.063624e-03 \n",
       "    BILL_AMT1     BILL_AMT2     BILL_AMT3     BILL_AMT4     BILL_AMT5 \n",
       "-4.416288e-07  1.184560e-07 -8.855279e-08  1.577931e-07 -1.221851e-07 \n",
       "    BILL_AMT6      PAY_AMT1      PAY_AMT2      PAY_AMT3      PAY_AMT4 \n",
       " 5.302682e-09 -1.022685e-06 -4.172924e-07 -3.185311e-07 -4.065761e-07 \n",
       "     PAY_AMT5      PAY_AMT6   EDUCATION_1   EDUCATION_2   EDUCATION_3 \n",
       "-3.658408e-07 -2.638317e-07  1.840973e-02 -2.116308e-03 -1.551388e-02 \n",
       "  EDUCATION_4   EDUCATION_5   EDUCATION_6    MARRIAGE_1    MARRIAGE_2 \n",
       "-1.089992e-01 -1.242071e-01  7.414345e-02  3.480653e-02  3.447097e-03 "
      ]
     },
     "metadata": {},
     "output_type": "display_data"
    }
   ],
   "source": [
    "# fitting logistic regression\n",
    "glm(y~x, subset=train,family='binomial')\n",
    "#prediction base on the regid\n",
    "predict(ridge.mod,s=0,type=\"coefficients\")[1:30,]\n",
    "# selected variables\n",
    "selection.ridge=names(predict(ridge.mod,s=0,type=\"coefficients\")[1:30,])[-1]"
   ]
  },
  {
   "cell_type": "code",
   "execution_count": 477,
   "id": "377fa942",
   "metadata": {},
   "outputs": [
    {
     "data": {
      "text/html": [
       "0.034833737588931"
      ],
      "text/latex": [
       "0.034833737588931"
      ],
      "text/markdown": [
       "0.034833737588931"
      ],
      "text/plain": [
       "[1] 0.03483374"
      ]
     },
     "metadata": {},
     "output_type": "display_data"
    },
    {
     "data": {
      "image/png": "[encoded data removed]",
      "text/plain": [
       "plot without title"
      ]
     },
     "metadata": {
      "image/png": {
       "height": 480,
       "width": 720
      }
     },
     "output_type": "display_data"
    }
   ],
   "source": [
    "# cross validation for ridge Model\n",
    "set.seed(613)\n",
    "cv.out=cv.glmnet(x[train,],y[train],alpha=0)\n",
    "plot(cv.out)\n",
    "bestlam=cv.out$lambda.min\n",
    "bestlam"
   ]
  },
  {
   "cell_type": "code",
   "execution_count": 478,
   "id": "518c6d84",
   "metadata": {},
   "outputs": [
    {
     "data": {
      "text/html": [
       "0.152024286850944"
      ],
      "text/latex": [
       "0.152024286850944"
      ],
      "text/markdown": [
       "0.152024286850944"
      ],
      "text/plain": [
       "[1] 0.1520243"
      ]
     },
     "metadata": {},
     "output_type": "display_data"
    }
   ],
   "source": [
    "# making prediction based on the best lambda\n",
    "ridge.pred=predict(ridge.mod,s=bestlam,newx=x[test,])\n",
    "mean((ridge.pred-y.test)^2)"
   ]
  },
  {
   "cell_type": "code",
   "execution_count": 479,
   "id": "96b408ba",
   "metadata": {},
   "outputs": [
    {
     "data": {
      "text/html": [
       "<style>\n",
       ".dl-inline {width: auto; margin:0; padding: 0}\n",
       ".dl-inline>dt, .dl-inline>dd {float: none; width: auto; display: inline-block}\n",
       ".dl-inline>dt::after {content: \":\\0020\"; padding-right: .5ex}\n",
       ".dl-inline>dt:not(:first-of-type) {padding-left: .5ex}\n",
       "</style><dl class=dl-inline><dt>(Intercept)</dt><dd>0.231818892418343</dd><dt>LIMIT_BAL</dt><dd>-6.63084260068986e-08</dd><dt>SEX</dt><dd>0.0103127014490885</dd><dt>AGE</dt><dd>0.000840006784246109</dd><dt>PAY_0</dt><dd>0.0818349392145593</dd><dt>PAY_2</dt><dd>0.0181921568185469</dd><dt>PAY_3</dt><dd>0.0137812688242929</dd><dt>PAY_4</dt><dd>0.00627900044206047</dd><dt>PAY_5</dt><dd>0.00682168441452946</dd><dt>PAY_6</dt><dd>0.00195004488835358</dd><dt>BILL_AMT1</dt><dd>-3.26171387422079e-07</dd><dt>BILL_AMT2</dt><dd>-3.01324324751778e-08</dd><dt>BILL_AMT3</dt><dd>2.11866996032679e-08</dd><dt>BILL_AMT4</dt><dd>-9.42947073034082e-08</dd><dt>BILL_AMT5</dt><dd>8.74161966931193e-09</dd><dt>BILL_AMT6</dt><dd>5.06213541226969e-08</dd><dt>PAY_AMT1</dt><dd>-7.84159792893619e-07</dd><dt>PAY_AMT2</dt><dd>-2.52572370632419e-07</dd><dt>PAY_AMT3</dt><dd>1.33257671460374e-09</dd><dt>PAY_AMT4</dt><dd>-6.07313501436008e-07</dd><dt>PAY_AMT5</dt><dd>-4.51954467470634e-07</dd><dt>PAY_AMT6</dt><dd>-2.17954191715041e-07</dd><dt>EDUCATION_1</dt><dd>0.0138974581422394</dd><dt>EDUCATION_2</dt><dd>-0.00190746520114779</dd><dt>EDUCATION_3</dt><dd>-0.00203853004735057</dd><dt>EDUCATION_4</dt><dd>-0.107330405154615</dd><dt>EDUCATION_5</dt><dd>-0.122173583172407</dd><dt>EDUCATION_6</dt><dd>-0.0404098809784552</dd><dt>MARRIAGE_1</dt><dd>0.0181043908402644</dd><dt>MARRIAGE_2</dt><dd>-0.00630121024572436</dd></dl>\n"
      ],
      "text/latex": [
       "\\begin{description*}\n",
       "\\item[(Intercept)] 0.231818892418343\n",
       "\\item[LIMIT\\textbackslash{}\\_BAL] -6.63084260068986e-08\n",
       "\\item[SEX] 0.0103127014490885\n",
       "\\item[AGE] 0.000840006784246109\n",
       "\\item[PAY\\textbackslash{}\\_0] 0.0818349392145593\n",
       "\\item[PAY\\textbackslash{}\\_2] 0.0181921568185469\n",
       "\\item[PAY\\textbackslash{}\\_3] 0.0137812688242929\n",
       "\\item[PAY\\textbackslash{}\\_4] 0.00627900044206047\n",
       "\\item[PAY\\textbackslash{}\\_5] 0.00682168441452946\n",
       "\\item[PAY\\textbackslash{}\\_6] 0.00195004488835358\n",
       "\\item[BILL\\textbackslash{}\\_AMT1] -3.26171387422079e-07\n",
       "\\item[BILL\\textbackslash{}\\_AMT2] -3.01324324751778e-08\n",
       "\\item[BILL\\textbackslash{}\\_AMT3] 2.11866996032679e-08\n",
       "\\item[BILL\\textbackslash{}\\_AMT4] -9.42947073034082e-08\n",
       "\\item[BILL\\textbackslash{}\\_AMT5] 8.74161966931193e-09\n",
       "\\item[BILL\\textbackslash{}\\_AMT6] 5.06213541226969e-08\n",
       "\\item[PAY\\textbackslash{}\\_AMT1] -7.84159792893619e-07\n",
       "\\item[PAY\\textbackslash{}\\_AMT2] -2.52572370632419e-07\n",
       "\\item[PAY\\textbackslash{}\\_AMT3] 1.33257671460374e-09\n",
       "\\item[PAY\\textbackslash{}\\_AMT4] -6.07313501436008e-07\n",
       "\\item[PAY\\textbackslash{}\\_AMT5] -4.51954467470634e-07\n",
       "\\item[PAY\\textbackslash{}\\_AMT6] -2.17954191715041e-07\n",
       "\\item[EDUCATION\\textbackslash{}\\_1] 0.0138974581422394\n",
       "\\item[EDUCATION\\textbackslash{}\\_2] -0.00190746520114779\n",
       "\\item[EDUCATION\\textbackslash{}\\_3] -0.00203853004735057\n",
       "\\item[EDUCATION\\textbackslash{}\\_4] -0.107330405154615\n",
       "\\item[EDUCATION\\textbackslash{}\\_5] -0.122173583172407\n",
       "\\item[EDUCATION\\textbackslash{}\\_6] -0.0404098809784552\n",
       "\\item[MARRIAGE\\textbackslash{}\\_1] 0.0181043908402644\n",
       "\\item[MARRIAGE\\textbackslash{}\\_2] -0.00630121024572436\n",
       "\\end{description*}\n"
      ],
      "text/markdown": [
       "(Intercept)\n",
       ":   0.231818892418343LIMIT_BAL\n",
       ":   -6.63084260068986e-08SEX\n",
       ":   0.0103127014490885AGE\n",
       ":   0.000840006784246109PAY_0\n",
       ":   0.0818349392145593PAY_2\n",
       ":   0.0181921568185469PAY_3\n",
       ":   0.0137812688242929PAY_4\n",
       ":   0.00627900044206047PAY_5\n",
       ":   0.00682168441452946PAY_6\n",
       ":   0.00195004488835358BILL_AMT1\n",
       ":   -3.26171387422079e-07BILL_AMT2\n",
       ":   -3.01324324751778e-08BILL_AMT3\n",
       ":   2.11866996032679e-08BILL_AMT4\n",
       ":   -9.42947073034082e-08BILL_AMT5\n",
       ":   8.74161966931193e-09BILL_AMT6\n",
       ":   5.06213541226969e-08PAY_AMT1\n",
       ":   -7.84159792893619e-07PAY_AMT2\n",
       ":   -2.52572370632419e-07PAY_AMT3\n",
       ":   1.33257671460374e-09PAY_AMT4\n",
       ":   -6.07313501436008e-07PAY_AMT5\n",
       ":   -4.51954467470634e-07PAY_AMT6\n",
       ":   -2.17954191715041e-07EDUCATION_1\n",
       ":   0.0138974581422394EDUCATION_2\n",
       ":   -0.00190746520114779EDUCATION_3\n",
       ":   -0.00203853004735057EDUCATION_4\n",
       ":   -0.107330405154615EDUCATION_5\n",
       ":   -0.122173583172407EDUCATION_6\n",
       ":   -0.0404098809784552MARRIAGE_1\n",
       ":   0.0181043908402644MARRIAGE_2\n",
       ":   -0.00630121024572436\n",
       "\n"
      ],
      "text/plain": [
       "  (Intercept)     LIMIT_BAL           SEX           AGE         PAY_0 \n",
       " 2.318189e-01 -6.630843e-08  1.031270e-02  8.400068e-04  8.183494e-02 \n",
       "        PAY_2         PAY_3         PAY_4         PAY_5         PAY_6 \n",
       " 1.819216e-02  1.378127e-02  6.279000e-03  6.821684e-03  1.950045e-03 \n",
       "    BILL_AMT1     BILL_AMT2     BILL_AMT3     BILL_AMT4     BILL_AMT5 \n",
       "-3.261714e-07 -3.013243e-08  2.118670e-08 -9.429471e-08  8.741620e-09 \n",
       "    BILL_AMT6      PAY_AMT1      PAY_AMT2      PAY_AMT3      PAY_AMT4 \n",
       " 5.062135e-08 -7.841598e-07 -2.525724e-07  1.332577e-09 -6.073135e-07 \n",
       "     PAY_AMT5      PAY_AMT6   EDUCATION_1   EDUCATION_2   EDUCATION_3 \n",
       "-4.519545e-07 -2.179542e-07  1.389746e-02 -1.907465e-03 -2.038530e-03 \n",
       "  EDUCATION_4   EDUCATION_5   EDUCATION_6    MARRIAGE_1    MARRIAGE_2 \n",
       "-1.073304e-01 -1.221736e-01 -4.040988e-02  1.810439e-02 -6.301210e-03 "
      ]
     },
     "metadata": {},
     "output_type": "display_data"
    }
   ],
   "source": [
    "# using the best lambda we fit and predict model for all variables\n",
    "out=glmnet(x,y,alpha=0)\n",
    "predict(out,type=\"coefficients\",s=bestlam)[1:30,]"
   ]
  },
  {
   "cell_type": "markdown",
   "id": "c27ba9bf",
   "metadata": {},
   "source": [
    "#### 1.4. Lasso Regression"
   ]
  },
  {
   "cell_type": "code",
   "execution_count": 480,
   "id": "0e248014",
   "metadata": {},
   "outputs": [
    {
     "name": "stderr",
     "output_type": "stream",
     "text": [
      "Warning message in regularize.values(x, y, ties, missing(ties), na.rm = na.rm):\n",
      "\"collapsing to unique 'x' values\"\n"
     ]
    },
    {
     "data": {
      "image/png": "[encoded data removed]",
      "text/plain": [
       "plot without title"
      ]
     },
     "metadata": {
      "image/png": {
       "height": 480,
       "width": 720
      }
     },
     "output_type": "display_data"
    }
   ],
   "source": [
    "#fitting the model to train\n",
    "lasso.mod=glmnet(x[train,],y[train],alpha=1,lambda=grid)\n",
    "#ploting the results of lasso\n",
    "plot(lasso.mod)"
   ]
  },
  {
   "cell_type": "code",
   "execution_count": 481,
   "id": "5011691e",
   "metadata": {},
   "outputs": [
    {
     "data": {
      "text/html": [
       "0.152261806506516"
      ],
      "text/latex": [
       "0.152261806506516"
      ],
      "text/markdown": [
       "0.152261806506516"
      ],
      "text/plain": [
       "[1] 0.1522618"
      ]
     },
     "metadata": {},
     "output_type": "display_data"
    },
    {
     "data": {
      "image/png": "[encoded data removed]",
      "text/plain": [
       "plot without title"
      ]
     },
     "metadata": {
      "image/png": {
       "height": 480,
       "width": 720
      }
     },
     "output_type": "display_data"
    }
   ],
   "source": [
    "#cross validating\n",
    "set.seed(613)\n",
    "cv.out=cv.glmnet(x[train,],y[train],alpha=1)\n",
    "#plot of cross validation\n",
    "plot(cv.out)\n",
    "# geting the best lambda\n",
    "bestlam=cv.out$lambda.min\n",
    "#prediction based on the best lambda\n",
    "lasso.pred=predict(lasso.mod,s=bestlam,newx=x[test,])\n",
    "# MSE of model for the best lambda\n",
    "mean((lasso.pred-y.test)^2)"
   ]
  },
  {
   "cell_type": "code",
   "execution_count": 482,
   "id": "fef44f07",
   "metadata": {},
   "outputs": [
    {
     "data": {
      "text/html": [
       "<style>\n",
       ".dl-inline {width: auto; margin:0; padding: 0}\n",
       ".dl-inline>dt, .dl-inline>dd {float: none; width: auto; display: inline-block}\n",
       ".dl-inline>dt::after {content: \":\\0020\"; padding-right: .5ex}\n",
       ".dl-inline>dt:not(:first-of-type) {padding-left: .5ex}\n",
       "</style><dl class=dl-inline><dt>(Intercept)</dt><dd>0.249936862728957</dd><dt>LIMIT_BAL</dt><dd>-4.09148915260458e-08</dd><dt>SEX</dt><dd>0</dd><dt>AGE</dt><dd>0</dd><dt>PAY_0</dt><dd>0.0897032798147483</dd><dt>PAY_2</dt><dd>0.0131881180277659</dd><dt>PAY_3</dt><dd>0.0123011169899771</dd><dt>PAY_4</dt><dd>0.00234241440996996</dd><dt>PAY_5</dt><dd>0.00268401407852907</dd><dt>PAY_6</dt><dd>0</dd><dt>BILL_AMT1</dt><dd>-2.84892909175093e-07</dd><dt>BILL_AMT2</dt><dd>0</dd><dt>BILL_AMT3</dt><dd>0</dd><dt>BILL_AMT4</dt><dd>0</dd><dt>BILL_AMT5</dt><dd>0</dd><dt>BILL_AMT6</dt><dd>0</dd><dt>PAY_AMT1</dt><dd>-4.99573326498832e-07</dd><dt>PAY_AMT2</dt><dd>0</dd><dt>PAY_AMT3</dt><dd>0</dd><dt>PAY_AMT4</dt><dd>-2.1425071948659e-07</dd><dt>PAY_AMT5</dt><dd>-1.03050719166955e-07</dd><dt>PAY_AMT6</dt><dd>0</dd><dt>EDUCATION_1</dt><dd>0</dd><dt>EDUCATION_2</dt><dd>0</dd><dt>EDUCATION_3</dt><dd>0</dd><dt>EDUCATION_4</dt><dd>0</dd><dt>EDUCATION_5</dt><dd>-0.0352761952467439</dd><dt>EDUCATION_6</dt><dd>0</dd><dt>MARRIAGE_1</dt><dd>0.00747392261117913</dd><dt>MARRIAGE_2</dt><dd>0</dd></dl>\n"
      ],
      "text/latex": [
       "\\begin{description*}\n",
       "\\item[(Intercept)] 0.249936862728957\n",
       "\\item[LIMIT\\textbackslash{}\\_BAL] -4.09148915260458e-08\n",
       "\\item[SEX] 0\n",
       "\\item[AGE] 0\n",
       "\\item[PAY\\textbackslash{}\\_0] 0.0897032798147483\n",
       "\\item[PAY\\textbackslash{}\\_2] 0.0131881180277659\n",
       "\\item[PAY\\textbackslash{}\\_3] 0.0123011169899771\n",
       "\\item[PAY\\textbackslash{}\\_4] 0.00234241440996996\n",
       "\\item[PAY\\textbackslash{}\\_5] 0.00268401407852907\n",
       "\\item[PAY\\textbackslash{}\\_6] 0\n",
       "\\item[BILL\\textbackslash{}\\_AMT1] -2.84892909175093e-07\n",
       "\\item[BILL\\textbackslash{}\\_AMT2] 0\n",
       "\\item[BILL\\textbackslash{}\\_AMT3] 0\n",
       "\\item[BILL\\textbackslash{}\\_AMT4] 0\n",
       "\\item[BILL\\textbackslash{}\\_AMT5] 0\n",
       "\\item[BILL\\textbackslash{}\\_AMT6] 0\n",
       "\\item[PAY\\textbackslash{}\\_AMT1] -4.99573326498832e-07\n",
       "\\item[PAY\\textbackslash{}\\_AMT2] 0\n",
       "\\item[PAY\\textbackslash{}\\_AMT3] 0\n",
       "\\item[PAY\\textbackslash{}\\_AMT4] -2.1425071948659e-07\n",
       "\\item[PAY\\textbackslash{}\\_AMT5] -1.03050719166955e-07\n",
       "\\item[PAY\\textbackslash{}\\_AMT6] 0\n",
       "\\item[EDUCATION\\textbackslash{}\\_1] 0\n",
       "\\item[EDUCATION\\textbackslash{}\\_2] 0\n",
       "\\item[EDUCATION\\textbackslash{}\\_3] 0\n",
       "\\item[EDUCATION\\textbackslash{}\\_4] 0\n",
       "\\item[EDUCATION\\textbackslash{}\\_5] -0.0352761952467439\n",
       "\\item[EDUCATION\\textbackslash{}\\_6] 0\n",
       "\\item[MARRIAGE\\textbackslash{}\\_1] 0.00747392261117913\n",
       "\\item[MARRIAGE\\textbackslash{}\\_2] 0\n",
       "\\end{description*}\n"
      ],
      "text/markdown": [
       "(Intercept)\n",
       ":   0.249936862728957LIMIT_BAL\n",
       ":   -4.09148915260458e-08SEX\n",
       ":   0AGE\n",
       ":   0PAY_0\n",
       ":   0.0897032798147483PAY_2\n",
       ":   0.0131881180277659PAY_3\n",
       ":   0.0123011169899771PAY_4\n",
       ":   0.00234241440996996PAY_5\n",
       ":   0.00268401407852907PAY_6\n",
       ":   0BILL_AMT1\n",
       ":   -2.84892909175093e-07BILL_AMT2\n",
       ":   0BILL_AMT3\n",
       ":   0BILL_AMT4\n",
       ":   0BILL_AMT5\n",
       ":   0BILL_AMT6\n",
       ":   0PAY_AMT1\n",
       ":   -4.99573326498832e-07PAY_AMT2\n",
       ":   0PAY_AMT3\n",
       ":   0PAY_AMT4\n",
       ":   -2.1425071948659e-07PAY_AMT5\n",
       ":   -1.03050719166955e-07PAY_AMT6\n",
       ":   0EDUCATION_1\n",
       ":   0EDUCATION_2\n",
       ":   0EDUCATION_3\n",
       ":   0EDUCATION_4\n",
       ":   0EDUCATION_5\n",
       ":   -0.0352761952467439EDUCATION_6\n",
       ":   0MARRIAGE_1\n",
       ":   0.00747392261117913MARRIAGE_2\n",
       ":   0\n",
       "\n"
      ],
      "text/plain": [
       "  (Intercept)     LIMIT_BAL           SEX           AGE         PAY_0 \n",
       " 2.499369e-01 -4.091489e-08  0.000000e+00  0.000000e+00  8.970328e-02 \n",
       "        PAY_2         PAY_3         PAY_4         PAY_5         PAY_6 \n",
       " 1.318812e-02  1.230112e-02  2.342414e-03  2.684014e-03  0.000000e+00 \n",
       "    BILL_AMT1     BILL_AMT2     BILL_AMT3     BILL_AMT4     BILL_AMT5 \n",
       "-2.848929e-07  0.000000e+00  0.000000e+00  0.000000e+00  0.000000e+00 \n",
       "    BILL_AMT6      PAY_AMT1      PAY_AMT2      PAY_AMT3      PAY_AMT4 \n",
       " 0.000000e+00 -4.995733e-07  0.000000e+00  0.000000e+00 -2.142507e-07 \n",
       "     PAY_AMT5      PAY_AMT6   EDUCATION_1   EDUCATION_2   EDUCATION_3 \n",
       "-1.030507e-07  0.000000e+00  0.000000e+00  0.000000e+00  0.000000e+00 \n",
       "  EDUCATION_4   EDUCATION_5   EDUCATION_6    MARRIAGE_1    MARRIAGE_2 \n",
       " 0.000000e+00 -3.527620e-02  0.000000e+00  7.473923e-03  0.000000e+00 "
      ]
     },
     "metadata": {},
     "output_type": "display_data"
    },
    {
     "data": {
      "text/html": [
       "<style>\n",
       ".dl-inline {width: auto; margin:0; padding: 0}\n",
       ".dl-inline>dt, .dl-inline>dd {float: none; width: auto; display: inline-block}\n",
       ".dl-inline>dt::after {content: \":\\0020\"; padding-right: .5ex}\n",
       ".dl-inline>dt:not(:first-of-type) {padding-left: .5ex}\n",
       "</style><dl class=dl-inline><dt>(Intercept)</dt><dd>0.249936862728957</dd><dt>LIMIT_BAL</dt><dd>-4.09148915260458e-08</dd><dt>PAY_0</dt><dd>0.0897032798147483</dd><dt>PAY_2</dt><dd>0.0131881180277659</dd><dt>PAY_3</dt><dd>0.0123011169899771</dd><dt>PAY_4</dt><dd>0.00234241440996996</dd><dt>PAY_5</dt><dd>0.00268401407852907</dd><dt>BILL_AMT1</dt><dd>-2.84892909175093e-07</dd><dt>PAY_AMT1</dt><dd>-4.99573326498832e-07</dd><dt>PAY_AMT4</dt><dd>-2.1425071948659e-07</dd><dt>PAY_AMT5</dt><dd>-1.03050719166955e-07</dd><dt>EDUCATION_5</dt><dd>-0.0352761952467439</dd><dt>MARRIAGE_1</dt><dd>0.00747392261117913</dd></dl>\n"
      ],
      "text/latex": [
       "\\begin{description*}\n",
       "\\item[(Intercept)] 0.249936862728957\n",
       "\\item[LIMIT\\textbackslash{}\\_BAL] -4.09148915260458e-08\n",
       "\\item[PAY\\textbackslash{}\\_0] 0.0897032798147483\n",
       "\\item[PAY\\textbackslash{}\\_2] 0.0131881180277659\n",
       "\\item[PAY\\textbackslash{}\\_3] 0.0123011169899771\n",
       "\\item[PAY\\textbackslash{}\\_4] 0.00234241440996996\n",
       "\\item[PAY\\textbackslash{}\\_5] 0.00268401407852907\n",
       "\\item[BILL\\textbackslash{}\\_AMT1] -2.84892909175093e-07\n",
       "\\item[PAY\\textbackslash{}\\_AMT1] -4.99573326498832e-07\n",
       "\\item[PAY\\textbackslash{}\\_AMT4] -2.1425071948659e-07\n",
       "\\item[PAY\\textbackslash{}\\_AMT5] -1.03050719166955e-07\n",
       "\\item[EDUCATION\\textbackslash{}\\_5] -0.0352761952467439\n",
       "\\item[MARRIAGE\\textbackslash{}\\_1] 0.00747392261117913\n",
       "\\end{description*}\n"
      ],
      "text/markdown": [
       "(Intercept)\n",
       ":   0.249936862728957LIMIT_BAL\n",
       ":   -4.09148915260458e-08PAY_0\n",
       ":   0.0897032798147483PAY_2\n",
       ":   0.0131881180277659PAY_3\n",
       ":   0.0123011169899771PAY_4\n",
       ":   0.00234241440996996PAY_5\n",
       ":   0.00268401407852907BILL_AMT1\n",
       ":   -2.84892909175093e-07PAY_AMT1\n",
       ":   -4.99573326498832e-07PAY_AMT4\n",
       ":   -2.1425071948659e-07PAY_AMT5\n",
       ":   -1.03050719166955e-07EDUCATION_5\n",
       ":   -0.0352761952467439MARRIAGE_1\n",
       ":   0.00747392261117913\n",
       "\n"
      ],
      "text/plain": [
       "  (Intercept)     LIMIT_BAL         PAY_0         PAY_2         PAY_3 \n",
       " 2.499369e-01 -4.091489e-08  8.970328e-02  1.318812e-02  1.230112e-02 \n",
       "        PAY_4         PAY_5     BILL_AMT1      PAY_AMT1      PAY_AMT4 \n",
       " 2.342414e-03  2.684014e-03 -2.848929e-07 -4.995733e-07 -2.142507e-07 \n",
       "     PAY_AMT5   EDUCATION_5    MARRIAGE_1 \n",
       "-1.030507e-07 -3.527620e-02  7.473923e-03 "
      ]
     },
     "metadata": {},
     "output_type": "display_data"
    }
   ],
   "source": [
    "#fitting the lasso to all dafa frame\n",
    "out=glmnet(x,y,alpha=1,lambda=grid)\n",
    "#Geting the coeficents\n",
    "lasso.coef=predict(out,type=\"coefficients\",s=bestlam)[1:30,]\n",
    "lasso.coef\n",
    "# variables with coeficient\n",
    "lasso.coef[lasso.coef!=0]\n",
    "# Get the name of selected variables by lasso\n",
    "selection.lasso=names(lasso.coef[lasso.coef!=0])[-1]"
   ]
  },
  {
   "cell_type": "markdown",
   "id": "90eaaca7",
   "metadata": {},
   "source": [
    "#### 1.5. PCR regression"
   ]
  },
  {
   "cell_type": "code",
   "execution_count": 483,
   "id": "0c603081",
   "metadata": {},
   "outputs": [
    {
     "name": "stdout",
     "output_type": "stream",
     "text": [
      "Data: \tX dimension: 20000 30 \n",
      "\tY dimension: 20000 1\n",
      "Fit method: svdpc\n",
      "Number of components considered: 30\n",
      "\n",
      "VALIDATION: RMSEP\n",
      "Cross-validated using 10 random segments.\n",
      "       (Intercept)  1 comps  2 comps  3 comps  4 comps  5 comps  6 comps\n",
      "CV          0.4147   0.4134   0.3976   0.3972   0.3967   0.3967   0.3963\n",
      "adjCV       0.4147   0.4134   0.3976   0.3972   0.3967   0.3967   0.3963\n",
      "       7 comps  8 comps  9 comps  10 comps  11 comps  12 comps  13 comps\n",
      "CV      0.3961   0.3961   0.3961    0.3961    0.3961    0.3961    0.3960\n",
      "adjCV   0.3961   0.3960   0.3961    0.3960    0.3960    0.3960    0.3959\n",
      "       14 comps  15 comps  16 comps  17 comps  18 comps  19 comps  20 comps\n",
      "CV       0.3959    0.3959     0.396     0.393    0.3919    0.3919    0.3907\n",
      "adjCV    0.3959    0.3959     0.396     0.393    0.3919    0.3919    0.3907\n",
      "       21 comps  22 comps  23 comps  24 comps  25 comps  26 comps  27 comps\n",
      "CV       0.3905    0.3904    0.3904    0.3904    0.3904    0.3903    0.3903\n",
      "adjCV    0.3905    0.3904    0.3904    0.3904    0.3904    0.3902    0.3902\n",
      "       28 comps  29 comps  30 comps\n",
      "CV       0.3903    0.3903    0.3902\n",
      "adjCV    0.3903    0.3902    0.3902\n",
      "\n",
      "TRAINING: % variance explained\n",
      "         1 comps  2 comps  3 comps  4 comps  5 comps  6 comps  7 comps  8 comps\n",
      "X        21.6540   35.478   43.539   49.024   53.686   57.730   61.209   64.597\n",
      "default   0.6634    8.126    8.316    8.569    8.581    8.792    8.903    8.915\n",
      "         9 comps  10 comps  11 comps  12 comps  13 comps  14 comps  15 comps\n",
      "X         67.950    71.289    74.561    77.765    80.715    83.605    86.429\n",
      "default    8.916     8.927     8.928     8.934     8.959     9.041     9.073\n",
      "         16 comps  17 comps  18 comps  19 comps  20 comps  21 comps  22 comps\n",
      "X          89.003     91.29     93.37     95.12     96.50     97.40     98.23\n",
      "default     9.074     10.37     10.88     10.89     11.46     11.55     11.61\n",
      "         23 comps  24 comps  25 comps  26 comps  27 comps  28 comps  29 comps\n",
      "X           98.88     99.35     99.61     99.77     99.88     99.99    100.00\n",
      "default     11.62     11.63     11.63     11.69     11.70     11.70     11.72\n",
      "         30 comps\n",
      "X          100.00\n",
      "default     11.73\n"
     ]
    }
   ],
   "source": [
    "# fiting model with cross validation\n",
    "set.seed(2)\n",
    "pcr.fit=pcr(default~., data=DF,scale=TRUE,validation=\"CV\")\n",
    "summary(pcr.fit)"
   ]
  },
  {
   "cell_type": "code",
   "execution_count": 484,
   "id": "478c152a",
   "metadata": {},
   "outputs": [
    {
     "data": {
      "image/png": "[encoded data removed]",
      "text/plain": [
       "Plot with title \"default\""
      ]
     },
     "metadata": {
      "image/png": {
       "height": 480,
       "width": 720
      }
     },
     "output_type": "display_data"
    }
   ],
   "source": [
    "#plot of PCR\n",
    "validationplot(pcr.fit,val.type=\"MSEP\")"
   ]
  },
  {
   "cell_type": "code",
   "execution_count": 485,
   "id": "0ace0537",
   "metadata": {},
   "outputs": [],
   "source": [
    "# Cross validation for PCR for train set\n",
    "set.seed(613)\n",
    "pcr.fit=pcr(default~., data=DF,subset=train,scale=TRUE, validation=\"CV\")"
   ]
  },
  {
   "cell_type": "code",
   "execution_count": 486,
   "id": "bd82764e",
   "metadata": {},
   "outputs": [
    {
     "data": {
      "image/png": "[encoded data removed]",
      "text/plain": [
       "Plot with title \"default\""
      ]
     },
     "metadata": {
      "image/png": {
       "height": 480,
       "width": 720
      }
     },
     "output_type": "display_data"
    }
   ],
   "source": [
    "#ploting the results\n",
    "validationplot(pcr.fit,val.type=\"MSEP\")"
   ]
  },
  {
   "cell_type": "code",
   "execution_count": 487,
   "id": "ab186589",
   "metadata": {},
   "outputs": [
    {
     "data": {
      "text/html": [
       "0.153378185306595"
      ],
      "text/latex": [
       "0.153378185306595"
      ],
      "text/markdown": [
       "0.153378185306595"
      ],
      "text/plain": [
       "[1] 0.1533782"
      ]
     },
     "metadata": {},
     "output_type": "display_data"
    }
   ],
   "source": [
    "#making prediction\n",
    "pcr.pred=predict(pcr.fit,x[test,],ncomp=18)\n",
    "#MSE calculation\n",
    "mean((pcr.pred-y.test)^2)"
   ]
  },
  {
   "cell_type": "code",
   "execution_count": 488,
   "id": "9eea14e0",
   "metadata": {},
   "outputs": [
    {
     "name": "stdout",
     "output_type": "stream",
     "text": [
      "Data: \tX dimension: 20000 30 \n",
      "\tY dimension: 20000 1\n",
      "Fit method: svdpc\n",
      "Number of components considered: 18\n",
      "TRAINING: % variance explained\n",
      "   1 comps  2 comps  3 comps  4 comps  5 comps  6 comps  7 comps  8 comps\n",
      "X  21.6540   35.478   43.539   49.024   53.686   57.730   61.209   64.597\n",
      "y   0.6634    8.126    8.316    8.569    8.581    8.792    8.903    8.915\n",
      "   9 comps  10 comps  11 comps  12 comps  13 comps  14 comps  15 comps\n",
      "X   67.950    71.289    74.561    77.765    80.715    83.605    86.429\n",
      "y    8.916     8.927     8.928     8.934     8.959     9.041     9.073\n",
      "   16 comps  17 comps  18 comps\n",
      "X    89.003     91.29     93.37\n",
      "y     9.074     10.37     10.88\n"
     ]
    }
   ],
   "source": [
    "#pcr fiting to whole data\n",
    "pcr.fit=pcr(y~x,scale=TRUE,ncomp=18)\n",
    "#summary of PCR\n",
    "summary(pcr.fit)"
   ]
  },
  {
   "cell_type": "code",
   "execution_count": 489,
   "id": "09cf1835",
   "metadata": {},
   "outputs": [
    {
     "data": {
      "image/png": "[encoded data removed]",
      "text/plain": [
       "Plot with title \"y, 18 comps, train\""
      ]
     },
     "metadata": {
      "image/png": {
       "height": 480,
       "width": 720
      }
     },
     "output_type": "display_data"
    }
   ],
   "source": [
    "#paring axies to 2 cells\n",
    "par(mfrow=c(1,2))\n",
    "coefplot(pcr.fit)\n",
    "predplot(pcr.fit)"
   ]
  },
  {
   "cell_type": "markdown",
   "id": "3b2011c6",
   "metadata": {},
   "source": [
    "#### 1.6. PCL"
   ]
  },
  {
   "cell_type": "code",
   "execution_count": 490,
   "id": "63346559",
   "metadata": {},
   "outputs": [
    {
     "name": "stdout",
     "output_type": "stream",
     "text": [
      "Data: \tX dimension: 6666 30 \n",
      "\tY dimension: 6666 1\n",
      "Fit method: kernelpls\n",
      "Number of components considered: 30\n",
      "\n",
      "VALIDATION: RMSEP\n",
      "Cross-validated using 10 random segments.\n",
      "       (Intercept)  1 comps  2 comps  3 comps  4 comps  5 comps  6 comps\n",
      "CV          0.4155   0.3966   0.3949   0.3933   0.3930   0.3928   0.3928\n",
      "adjCV       0.4155   0.3966   0.3949   0.3933   0.3929   0.3928   0.3927\n",
      "       7 comps  8 comps  9 comps  10 comps  11 comps  12 comps  13 comps\n",
      "CV      0.3928   0.3929   0.3929    0.3929    0.3929    0.3929    0.3929\n",
      "adjCV   0.3928   0.3928   0.3928    0.3928    0.3928    0.3928    0.3928\n",
      "       14 comps  15 comps  16 comps  17 comps  18 comps  19 comps  20 comps\n",
      "CV       0.3929    0.3929    0.3929    0.3929    0.3929    0.3929    0.3929\n",
      "adjCV    0.3928    0.3928    0.3928    0.3928    0.3928    0.3928    0.3928\n",
      "       21 comps  22 comps  23 comps  24 comps  25 comps  26 comps  27 comps\n",
      "CV       0.3929    0.3929    0.3929    0.3929    0.3929    0.3929    0.3929\n",
      "adjCV    0.3928    0.3928    0.3928    0.3928    0.3928    0.3928    0.3928\n",
      "       28 comps  29 comps  30 comps\n",
      "CV       0.3929    0.3929    0.3930\n",
      "adjCV    0.3928    0.3928    0.3929\n",
      "\n",
      "TRAINING: % variance explained\n",
      "         1 comps  2 comps  3 comps  4 comps  5 comps  6 comps  7 comps  8 comps\n",
      "X         15.107    32.29    39.33    45.19    49.87    53.28    56.17    58.21\n",
      "default    9.143    10.02    11.02    11.24    11.30    11.33    11.35    11.36\n",
      "         9 comps  10 comps  11 comps  12 comps  13 comps  14 comps  15 comps\n",
      "X          60.30     62.74     65.14     68.14     69.18     71.21     73.18\n",
      "default    11.37     11.37     11.38     11.38     11.38     11.39     11.39\n",
      "         16 comps  17 comps  18 comps  19 comps  20 comps  21 comps  22 comps\n",
      "X           74.63     76.98     78.31     79.54     81.98     83.23     84.74\n",
      "default     11.39     11.39     11.40     11.40     11.40     11.41     11.41\n",
      "         23 comps  24 comps  25 comps  26 comps  27 comps  28 comps  29 comps\n",
      "X           86.45     89.51     90.26     92.81     93.54     96.78    100.00\n",
      "default     11.41     11.41     11.41     11.41     11.41     11.41     11.41\n",
      "         30 comps\n",
      "X           100.2\n",
      "default      11.4\n"
     ]
    }
   ],
   "source": [
    "##fitting the model with cross validation to train data\n",
    "set.seed(613)\n",
    "pls.fit=plsr(default~., data=DF,subset=train,scale=TRUE, validation=\"CV\")\n",
    "# summary\n",
    "summary(pls.fit)"
   ]
  },
  {
   "cell_type": "code",
   "execution_count": 491,
   "id": "dbdf7c9c",
   "metadata": {},
   "outputs": [
    {
     "data": {
      "image/png": "[encoded data removed]",
      "text/plain": [
       "Plot with title \"default\""
      ]
     },
     "metadata": {
      "image/png": {
       "height": 480,
       "width": 720
      }
     },
     "output_type": "display_data"
    }
   ],
   "source": [
    "#ploting the result for train\n",
    "validationplot(pls.fit,val.type=\"MSEP\")"
   ]
  },
  {
   "cell_type": "code",
   "execution_count": 492,
   "id": "2361fa0e",
   "metadata": {},
   "outputs": [
    {
     "data": {
      "text/html": [
       "0.152282665735483"
      ],
      "text/latex": [
       "0.152282665735483"
      ],
      "text/markdown": [
       "0.152282665735483"
      ],
      "text/plain": [
       "[1] 0.1522827"
      ]
     },
     "metadata": {},
     "output_type": "display_data"
    }
   ],
   "source": [
    "# making prediction\n",
    "pls.pred=predict(pls.fit,x[test,],ncomp=4)\n",
    "#calculating the MSE\n",
    "mean((pls.pred-y.test)^2)"
   ]
  },
  {
   "cell_type": "code",
   "execution_count": 493,
   "id": "56269b1f",
   "metadata": {},
   "outputs": [
    {
     "name": "stdout",
     "output_type": "stream",
     "text": [
      "Data: \tX dimension: 20000 30 \n",
      "\tY dimension: 20000 1\n",
      "Fit method: kernelpls\n",
      "Number of components considered: 4\n",
      "TRAINING: % variance explained\n",
      "         1 comps  2 comps  3 comps  4 comps\n",
      "X         15.016    32.40    38.79    44.56\n",
      "default    9.125    10.08    11.31    11.55\n"
     ]
    }
   ],
   "source": [
    "#fitting the model to whole data based on the number of component\n",
    "pls.fit=plsr(default~., data=DF,scale=TRUE,ncomp=4)\n",
    "#summary of model\n",
    "summary(pls.fit)"
   ]
  },
  {
   "cell_type": "code",
   "execution_count": 494,
   "id": "61abcdf9",
   "metadata": {},
   "outputs": [
    {
     "data": {
      "image/png": "[encoded data removed]",
      "text/plain": [
       "Plot with title \"default, 4 comps, train\""
      ]
     },
     "metadata": {
      "image/png": {
       "height": 480,
       "width": 720
      }
     },
     "output_type": "display_data"
    }
   ],
   "source": [
    "#paring axies to 2 cells\n",
    "par(mfrow=c(1,2))\n",
    "coefplot(pls.fit)\n",
    "predplot(pls.fit)"
   ]
  },
  {
   "cell_type": "code",
   "execution_count": 495,
   "id": "3cd68d25",
   "metadata": {},
   "outputs": [
    {
     "name": "stdout",
     "output_type": "stream",
     "text": [
      "[1] \"best variables by forward cp\"\n"
     ]
    },
    {
     "data": {
      "text/html": [
       "<style>\n",
       ".list-inline {list-style: none; margin:0; padding: 0}\n",
       ".list-inline>li {display: inline-block}\n",
       ".list-inline>li:not(:last-child)::after {content: \"\\00b7\"; padding: 0 .5ex}\n",
       "</style>\n",
       "<ol class=list-inline><li>'LIMIT_BAL'</li><li>'SEX'</li><li>'AGE'</li><li>'PAY_0'</li><li>'PAY_2'</li><li>'PAY_3'</li><li>'PAY_5'</li><li>'BILL_AMT1'</li><li>'BILL_AMT2'</li><li>'PAY_AMT1'</li><li>'PAY_AMT2'</li><li>'PAY_AMT4'</li><li>'PAY_AMT5'</li><li>'EDUCATION_1'</li><li>'EDUCATION_4'</li><li>'EDUCATION_5'</li><li>'MARRIAGE_1'</li></ol>\n"
      ],
      "text/latex": [
       "\\begin{enumerate*}\n",
       "\\item 'LIMIT\\_BAL'\n",
       "\\item 'SEX'\n",
       "\\item 'AGE'\n",
       "\\item 'PAY\\_0'\n",
       "\\item 'PAY\\_2'\n",
       "\\item 'PAY\\_3'\n",
       "\\item 'PAY\\_5'\n",
       "\\item 'BILL\\_AMT1'\n",
       "\\item 'BILL\\_AMT2'\n",
       "\\item 'PAY\\_AMT1'\n",
       "\\item 'PAY\\_AMT2'\n",
       "\\item 'PAY\\_AMT4'\n",
       "\\item 'PAY\\_AMT5'\n",
       "\\item 'EDUCATION\\_1'\n",
       "\\item 'EDUCATION\\_4'\n",
       "\\item 'EDUCATION\\_5'\n",
       "\\item 'MARRIAGE\\_1'\n",
       "\\end{enumerate*}\n"
      ],
      "text/markdown": [
       "1. 'LIMIT_BAL'\n",
       "2. 'SEX'\n",
       "3. 'AGE'\n",
       "4. 'PAY_0'\n",
       "5. 'PAY_2'\n",
       "6. 'PAY_3'\n",
       "7. 'PAY_5'\n",
       "8. 'BILL_AMT1'\n",
       "9. 'BILL_AMT2'\n",
       "10. 'PAY_AMT1'\n",
       "11. 'PAY_AMT2'\n",
       "12. 'PAY_AMT4'\n",
       "13. 'PAY_AMT5'\n",
       "14. 'EDUCATION_1'\n",
       "15. 'EDUCATION_4'\n",
       "16. 'EDUCATION_5'\n",
       "17. 'MARRIAGE_1'\n",
       "\n",
       "\n"
      ],
      "text/plain": [
       " [1] \"LIMIT_BAL\"   \"SEX\"         \"AGE\"         \"PAY_0\"       \"PAY_2\"      \n",
       " [6] \"PAY_3\"       \"PAY_5\"       \"BILL_AMT1\"   \"BILL_AMT2\"   \"PAY_AMT1\"   \n",
       "[11] \"PAY_AMT2\"    \"PAY_AMT4\"    \"PAY_AMT5\"    \"EDUCATION_1\" \"EDUCATION_4\"\n",
       "[16] \"EDUCATION_5\" \"MARRIAGE_1\" "
      ]
     },
     "metadata": {},
     "output_type": "display_data"
    },
    {
     "name": "stdout",
     "output_type": "stream",
     "text": [
      "[1] \"best variables by forward bic\"\n"
     ]
    },
    {
     "data": {
      "text/html": [
       "<style>\n",
       ".list-inline {list-style: none; margin:0; padding: 0}\n",
       ".list-inline>li {display: inline-block}\n",
       ".list-inline>li:not(:last-child)::after {content: \"\\00b7\"; padding: 0 .5ex}\n",
       "</style>\n",
       "<ol class=list-inline><li>'PAY_0'</li><li>'PAY_2'</li><li>'PAY_3'</li><li>'BILL_AMT1'</li><li>'PAY_AMT1'</li><li>'PAY_AMT4'</li><li>'EDUCATION_5'</li><li>'MARRIAGE_1'</li></ol>\n"
      ],
      "text/latex": [
       "\\begin{enumerate*}\n",
       "\\item 'PAY\\_0'\n",
       "\\item 'PAY\\_2'\n",
       "\\item 'PAY\\_3'\n",
       "\\item 'BILL\\_AMT1'\n",
       "\\item 'PAY\\_AMT1'\n",
       "\\item 'PAY\\_AMT4'\n",
       "\\item 'EDUCATION\\_5'\n",
       "\\item 'MARRIAGE\\_1'\n",
       "\\end{enumerate*}\n"
      ],
      "text/markdown": [
       "1. 'PAY_0'\n",
       "2. 'PAY_2'\n",
       "3. 'PAY_3'\n",
       "4. 'BILL_AMT1'\n",
       "5. 'PAY_AMT1'\n",
       "6. 'PAY_AMT4'\n",
       "7. 'EDUCATION_5'\n",
       "8. 'MARRIAGE_1'\n",
       "\n",
       "\n"
      ],
      "text/plain": [
       "[1] \"PAY_0\"       \"PAY_2\"       \"PAY_3\"       \"BILL_AMT1\"   \"PAY_AMT1\"   \n",
       "[6] \"PAY_AMT4\"    \"EDUCATION_5\" \"MARRIAGE_1\" "
      ]
     },
     "metadata": {},
     "output_type": "display_data"
    },
    {
     "name": "stdout",
     "output_type": "stream",
     "text": [
      "[1] \"best variables by backward cp\"\n"
     ]
    },
    {
     "data": {
      "text/html": [
       "<style>\n",
       ".list-inline {list-style: none; margin:0; padding: 0}\n",
       ".list-inline>li {display: inline-block}\n",
       ".list-inline>li:not(:last-child)::after {content: \"\\00b7\"; padding: 0 .5ex}\n",
       "</style>\n",
       "<ol class=list-inline><li>'PAY_0'</li><li>'PAY_3'</li><li>'BILL_AMT1'</li><li>'PAY_AMT1'</li><li>'EDUCATION_1'</li><li>'EDUCATION_2'</li><li>'EDUCATION_3'</li><li>'MARRIAGE_1'</li></ol>\n"
      ],
      "text/latex": [
       "\\begin{enumerate*}\n",
       "\\item 'PAY\\_0'\n",
       "\\item 'PAY\\_3'\n",
       "\\item 'BILL\\_AMT1'\n",
       "\\item 'PAY\\_AMT1'\n",
       "\\item 'EDUCATION\\_1'\n",
       "\\item 'EDUCATION\\_2'\n",
       "\\item 'EDUCATION\\_3'\n",
       "\\item 'MARRIAGE\\_1'\n",
       "\\end{enumerate*}\n"
      ],
      "text/markdown": [
       "1. 'PAY_0'\n",
       "2. 'PAY_3'\n",
       "3. 'BILL_AMT1'\n",
       "4. 'PAY_AMT1'\n",
       "5. 'EDUCATION_1'\n",
       "6. 'EDUCATION_2'\n",
       "7. 'EDUCATION_3'\n",
       "8. 'MARRIAGE_1'\n",
       "\n",
       "\n"
      ],
      "text/plain": [
       "[1] \"PAY_0\"       \"PAY_3\"       \"BILL_AMT1\"   \"PAY_AMT1\"    \"EDUCATION_1\"\n",
       "[6] \"EDUCATION_2\" \"EDUCATION_3\" \"MARRIAGE_1\" "
      ]
     },
     "metadata": {},
     "output_type": "display_data"
    },
    {
     "name": "stdout",
     "output_type": "stream",
     "text": [
      "[1] \"best variables by backward bic\"\n"
     ]
    },
    {
     "data": {
      "text/html": [
       "<style>\n",
       ".list-inline {list-style: none; margin:0; padding: 0}\n",
       ".list-inline>li {display: inline-block}\n",
       ".list-inline>li:not(:last-child)::after {content: \"\\00b7\"; padding: 0 .5ex}\n",
       "</style>\n",
       "<ol class=list-inline><li>'PAY_0'</li><li>'PAY_3'</li><li>'BILL_AMT1'</li><li>'PAY_AMT1'</li><li>'EDUCATION_1'</li><li>'EDUCATION_2'</li><li>'EDUCATION_3'</li><li>'MARRIAGE_1'</li></ol>\n"
      ],
      "text/latex": [
       "\\begin{enumerate*}\n",
       "\\item 'PAY\\_0'\n",
       "\\item 'PAY\\_3'\n",
       "\\item 'BILL\\_AMT1'\n",
       "\\item 'PAY\\_AMT1'\n",
       "\\item 'EDUCATION\\_1'\n",
       "\\item 'EDUCATION\\_2'\n",
       "\\item 'EDUCATION\\_3'\n",
       "\\item 'MARRIAGE\\_1'\n",
       "\\end{enumerate*}\n"
      ],
      "text/markdown": [
       "1. 'PAY_0'\n",
       "2. 'PAY_3'\n",
       "3. 'BILL_AMT1'\n",
       "4. 'PAY_AMT1'\n",
       "5. 'EDUCATION_1'\n",
       "6. 'EDUCATION_2'\n",
       "7. 'EDUCATION_3'\n",
       "8. 'MARRIAGE_1'\n",
       "\n",
       "\n"
      ],
      "text/plain": [
       "[1] \"PAY_0\"       \"PAY_3\"       \"BILL_AMT1\"   \"PAY_AMT1\"    \"EDUCATION_1\"\n",
       "[6] \"EDUCATION_2\" \"EDUCATION_3\" \"MARRIAGE_1\" "
      ]
     },
     "metadata": {},
     "output_type": "display_data"
    },
    {
     "name": "stdout",
     "output_type": "stream",
     "text": [
      "[1] \"best variables by testing and cross validation\"\n"
     ]
    },
    {
     "data": {
      "text/html": [
       "<style>\n",
       ".list-inline {list-style: none; margin:0; padding: 0}\n",
       ".list-inline>li {display: inline-block}\n",
       ".list-inline>li:not(:last-child)::after {content: \"\\00b7\"; padding: 0 .5ex}\n",
       "</style>\n",
       "<ol class=list-inline><li>'LIMIT_BAL'</li><li>'SEX'</li><li>'AGE'</li><li>'PAY_0'</li><li>'PAY_2'</li><li>'PAY_3'</li><li>'PAY_5'</li><li>'BILL_AMT1'</li><li>'BILL_AMT2'</li><li>'PAY_AMT1'</li><li>'PAY_AMT4'</li><li>'PAY_AMT5'</li><li>'EDUCATION_1'</li><li>'EDUCATION_2'</li><li>'EDUCATION_3'</li><li>'MARRIAGE_1'</li><li>'MARRIAGE_2'</li><li>'MARRIAGE_3'</li></ol>\n"
      ],
      "text/latex": [
       "\\begin{enumerate*}\n",
       "\\item 'LIMIT\\_BAL'\n",
       "\\item 'SEX'\n",
       "\\item 'AGE'\n",
       "\\item 'PAY\\_0'\n",
       "\\item 'PAY\\_2'\n",
       "\\item 'PAY\\_3'\n",
       "\\item 'PAY\\_5'\n",
       "\\item 'BILL\\_AMT1'\n",
       "\\item 'BILL\\_AMT2'\n",
       "\\item 'PAY\\_AMT1'\n",
       "\\item 'PAY\\_AMT4'\n",
       "\\item 'PAY\\_AMT5'\n",
       "\\item 'EDUCATION\\_1'\n",
       "\\item 'EDUCATION\\_2'\n",
       "\\item 'EDUCATION\\_3'\n",
       "\\item 'MARRIAGE\\_1'\n",
       "\\item 'MARRIAGE\\_2'\n",
       "\\item 'MARRIAGE\\_3'\n",
       "\\end{enumerate*}\n"
      ],
      "text/markdown": [
       "1. 'LIMIT_BAL'\n",
       "2. 'SEX'\n",
       "3. 'AGE'\n",
       "4. 'PAY_0'\n",
       "5. 'PAY_2'\n",
       "6. 'PAY_3'\n",
       "7. 'PAY_5'\n",
       "8. 'BILL_AMT1'\n",
       "9. 'BILL_AMT2'\n",
       "10. 'PAY_AMT1'\n",
       "11. 'PAY_AMT4'\n",
       "12. 'PAY_AMT5'\n",
       "13. 'EDUCATION_1'\n",
       "14. 'EDUCATION_2'\n",
       "15. 'EDUCATION_3'\n",
       "16. 'MARRIAGE_1'\n",
       "17. 'MARRIAGE_2'\n",
       "18. 'MARRIAGE_3'\n",
       "\n",
       "\n"
      ],
      "text/plain": [
       " [1] \"LIMIT_BAL\"   \"SEX\"         \"AGE\"         \"PAY_0\"       \"PAY_2\"      \n",
       " [6] \"PAY_3\"       \"PAY_5\"       \"BILL_AMT1\"   \"BILL_AMT2\"   \"PAY_AMT1\"   \n",
       "[11] \"PAY_AMT4\"    \"PAY_AMT5\"    \"EDUCATION_1\" \"EDUCATION_2\" \"EDUCATION_3\"\n",
       "[16] \"MARRIAGE_1\"  \"MARRIAGE_2\"  \"MARRIAGE_3\" "
      ]
     },
     "metadata": {},
     "output_type": "display_data"
    },
    {
     "name": "stdout",
     "output_type": "stream",
     "text": [
      "[1] \"best variables by Ridge Regression\"\n"
     ]
    },
    {
     "data": {
      "text/html": [
       "<style>\n",
       ".list-inline {list-style: none; margin:0; padding: 0}\n",
       ".list-inline>li {display: inline-block}\n",
       ".list-inline>li:not(:last-child)::after {content: \"\\00b7\"; padding: 0 .5ex}\n",
       "</style>\n",
       "<ol class=list-inline><li>'LIMIT_BAL'</li><li>'SEX'</li><li>'AGE'</li><li>'PAY_0'</li><li>'PAY_2'</li><li>'PAY_3'</li><li>'PAY_4'</li><li>'PAY_5'</li><li>'PAY_6'</li><li>'BILL_AMT1'</li><li>'BILL_AMT2'</li><li>'BILL_AMT3'</li><li>'BILL_AMT4'</li><li>'BILL_AMT5'</li><li>'BILL_AMT6'</li><li>'PAY_AMT1'</li><li>'PAY_AMT2'</li><li>'PAY_AMT3'</li><li>'PAY_AMT4'</li><li>'PAY_AMT5'</li><li>'PAY_AMT6'</li><li>'EDUCATION_1'</li><li>'EDUCATION_2'</li><li>'EDUCATION_3'</li><li>'EDUCATION_4'</li><li>'EDUCATION_5'</li><li>'EDUCATION_6'</li><li>'MARRIAGE_1'</li><li>'MARRIAGE_2'</li></ol>\n"
      ],
      "text/latex": [
       "\\begin{enumerate*}\n",
       "\\item 'LIMIT\\_BAL'\n",
       "\\item 'SEX'\n",
       "\\item 'AGE'\n",
       "\\item 'PAY\\_0'\n",
       "\\item 'PAY\\_2'\n",
       "\\item 'PAY\\_3'\n",
       "\\item 'PAY\\_4'\n",
       "\\item 'PAY\\_5'\n",
       "\\item 'PAY\\_6'\n",
       "\\item 'BILL\\_AMT1'\n",
       "\\item 'BILL\\_AMT2'\n",
       "\\item 'BILL\\_AMT3'\n",
       "\\item 'BILL\\_AMT4'\n",
       "\\item 'BILL\\_AMT5'\n",
       "\\item 'BILL\\_AMT6'\n",
       "\\item 'PAY\\_AMT1'\n",
       "\\item 'PAY\\_AMT2'\n",
       "\\item 'PAY\\_AMT3'\n",
       "\\item 'PAY\\_AMT4'\n",
       "\\item 'PAY\\_AMT5'\n",
       "\\item 'PAY\\_AMT6'\n",
       "\\item 'EDUCATION\\_1'\n",
       "\\item 'EDUCATION\\_2'\n",
       "\\item 'EDUCATION\\_3'\n",
       "\\item 'EDUCATION\\_4'\n",
       "\\item 'EDUCATION\\_5'\n",
       "\\item 'EDUCATION\\_6'\n",
       "\\item 'MARRIAGE\\_1'\n",
       "\\item 'MARRIAGE\\_2'\n",
       "\\end{enumerate*}\n"
      ],
      "text/markdown": [
       "1. 'LIMIT_BAL'\n",
       "2. 'SEX'\n",
       "3. 'AGE'\n",
       "4. 'PAY_0'\n",
       "5. 'PAY_2'\n",
       "6. 'PAY_3'\n",
       "7. 'PAY_4'\n",
       "8. 'PAY_5'\n",
       "9. 'PAY_6'\n",
       "10. 'BILL_AMT1'\n",
       "11. 'BILL_AMT2'\n",
       "12. 'BILL_AMT3'\n",
       "13. 'BILL_AMT4'\n",
       "14. 'BILL_AMT5'\n",
       "15. 'BILL_AMT6'\n",
       "16. 'PAY_AMT1'\n",
       "17. 'PAY_AMT2'\n",
       "18. 'PAY_AMT3'\n",
       "19. 'PAY_AMT4'\n",
       "20. 'PAY_AMT5'\n",
       "21. 'PAY_AMT6'\n",
       "22. 'EDUCATION_1'\n",
       "23. 'EDUCATION_2'\n",
       "24. 'EDUCATION_3'\n",
       "25. 'EDUCATION_4'\n",
       "26. 'EDUCATION_5'\n",
       "27. 'EDUCATION_6'\n",
       "28. 'MARRIAGE_1'\n",
       "29. 'MARRIAGE_2'\n",
       "\n",
       "\n"
      ],
      "text/plain": [
       " [1] \"LIMIT_BAL\"   \"SEX\"         \"AGE\"         \"PAY_0\"       \"PAY_2\"      \n",
       " [6] \"PAY_3\"       \"PAY_4\"       \"PAY_5\"       \"PAY_6\"       \"BILL_AMT1\"  \n",
       "[11] \"BILL_AMT2\"   \"BILL_AMT3\"   \"BILL_AMT4\"   \"BILL_AMT5\"   \"BILL_AMT6\"  \n",
       "[16] \"PAY_AMT1\"    \"PAY_AMT2\"    \"PAY_AMT3\"    \"PAY_AMT4\"    \"PAY_AMT5\"   \n",
       "[21] \"PAY_AMT6\"    \"EDUCATION_1\" \"EDUCATION_2\" \"EDUCATION_3\" \"EDUCATION_4\"\n",
       "[26] \"EDUCATION_5\" \"EDUCATION_6\" \"MARRIAGE_1\"  \"MARRIAGE_2\" "
      ]
     },
     "metadata": {},
     "output_type": "display_data"
    },
    {
     "name": "stdout",
     "output_type": "stream",
     "text": [
      "[1] \"best variables by Lasso Regression\"\n"
     ]
    },
    {
     "data": {
      "text/html": [
       "<style>\n",
       ".list-inline {list-style: none; margin:0; padding: 0}\n",
       ".list-inline>li {display: inline-block}\n",
       ".list-inline>li:not(:last-child)::after {content: \"\\00b7\"; padding: 0 .5ex}\n",
       "</style>\n",
       "<ol class=list-inline><li>'LIMIT_BAL'</li><li>'PAY_0'</li><li>'PAY_2'</li><li>'PAY_3'</li><li>'PAY_4'</li><li>'PAY_5'</li><li>'BILL_AMT1'</li><li>'PAY_AMT1'</li><li>'PAY_AMT4'</li><li>'PAY_AMT5'</li><li>'EDUCATION_5'</li><li>'MARRIAGE_1'</li></ol>\n"
      ],
      "text/latex": [
       "\\begin{enumerate*}\n",
       "\\item 'LIMIT\\_BAL'\n",
       "\\item 'PAY\\_0'\n",
       "\\item 'PAY\\_2'\n",
       "\\item 'PAY\\_3'\n",
       "\\item 'PAY\\_4'\n",
       "\\item 'PAY\\_5'\n",
       "\\item 'BILL\\_AMT1'\n",
       "\\item 'PAY\\_AMT1'\n",
       "\\item 'PAY\\_AMT4'\n",
       "\\item 'PAY\\_AMT5'\n",
       "\\item 'EDUCATION\\_5'\n",
       "\\item 'MARRIAGE\\_1'\n",
       "\\end{enumerate*}\n"
      ],
      "text/markdown": [
       "1. 'LIMIT_BAL'\n",
       "2. 'PAY_0'\n",
       "3. 'PAY_2'\n",
       "4. 'PAY_3'\n",
       "5. 'PAY_4'\n",
       "6. 'PAY_5'\n",
       "7. 'BILL_AMT1'\n",
       "8. 'PAY_AMT1'\n",
       "9. 'PAY_AMT4'\n",
       "10. 'PAY_AMT5'\n",
       "11. 'EDUCATION_5'\n",
       "12. 'MARRIAGE_1'\n",
       "\n",
       "\n"
      ],
      "text/plain": [
       " [1] \"LIMIT_BAL\"   \"PAY_0\"       \"PAY_2\"       \"PAY_3\"       \"PAY_4\"      \n",
       " [6] \"PAY_5\"       \"BILL_AMT1\"   \"PAY_AMT1\"    \"PAY_AMT4\"    \"PAY_AMT5\"   \n",
       "[11] \"EDUCATION_5\" \"MARRIAGE_1\" "
      ]
     },
     "metadata": {},
     "output_type": "display_data"
    }
   ],
   "source": [
    "# selection of forward model based on cp\n",
    "print('best variables by forward cp')\n",
    "selection.fwd.cp\n",
    "# selection of forward model based on bic\n",
    "print('best variables by forward bic')\n",
    "selection.fwd.bic\n",
    "# selection of backward model based on cp\n",
    "print('best variables by backward cp')\n",
    "selection.bwd.cp\n",
    "# selection of backward model based on bic\n",
    "print('best variables by backward bic')\n",
    "selection.bwd.bic\n",
    "# selection of best model by testing and cross validation\n",
    "print('best variables by testing and cross validation')\n",
    "selection.best\n",
    "# selection of best model by Ridge Regression\n",
    "print('best variables by Ridge Regression')\n",
    "selection.ridge\n",
    "# selection of best model by Lasso Regression\n",
    "print('best variables by Lasso Regression')\n",
    "selection.lasso"
   ]
  },
  {
   "cell_type": "code",
   "execution_count": 496,
   "id": "68be8369",
   "metadata": {},
   "outputs": [
    {
     "data": {
      "text/html": [
       "<style>\n",
       ".list-inline {list-style: none; margin:0; padding: 0}\n",
       ".list-inline>li {display: inline-block}\n",
       ".list-inline>li:not(:last-child)::after {content: \"\\00b7\"; padding: 0 .5ex}\n",
       "</style>\n",
       "<ol class=list-inline><li>'PAY_0'</li><li>'PAY_3'</li><li>'BILL_AMT1'</li><li>'PAY_AMT1'</li><li>'MARRIAGE_1'</li></ol>\n"
      ],
      "text/latex": [
       "\\begin{enumerate*}\n",
       "\\item 'PAY\\_0'\n",
       "\\item 'PAY\\_3'\n",
       "\\item 'BILL\\_AMT1'\n",
       "\\item 'PAY\\_AMT1'\n",
       "\\item 'MARRIAGE\\_1'\n",
       "\\end{enumerate*}\n"
      ],
      "text/markdown": [
       "1. 'PAY_0'\n",
       "2. 'PAY_3'\n",
       "3. 'BILL_AMT1'\n",
       "4. 'PAY_AMT1'\n",
       "5. 'MARRIAGE_1'\n",
       "\n",
       "\n"
      ],
      "text/plain": [
       "[1] \"PAY_0\"      \"PAY_3\"      \"BILL_AMT1\"  \"PAY_AMT1\"   \"MARRIAGE_1\""
      ]
     },
     "metadata": {},
     "output_type": "display_data"
    }
   ],
   "source": [
    "common.variables=intersect(\n",
    "    intersect(\n",
    "    intersect(\n",
    "    intersect(\n",
    "    intersect(\n",
    "    intersect(selection.fwd.cp,selection.fwd.bic),\n",
    "        selection.bwd.cp),\n",
    "    selection.bwd.bic),\n",
    "    selection.best),\n",
    "    selection.ridge),\n",
    "    selection.lasso)\n",
    "common.variables"
   ]
  },
  {
   "cell_type": "markdown",
   "id": "f6e564c2",
   "metadata": {},
   "source": [
    "### 2. ML Models"
   ]
  },
  {
   "cell_type": "markdown",
   "id": "175c003d",
   "metadata": {},
   "source": [
    "#### 2.1. Logistic Regression"
   ]
  },
  {
   "cell_type": "code",
   "execution_count": 512,
   "id": "1569cf27",
   "metadata": {},
   "outputs": [],
   "source": [
    "#create selection for cross validation\n",
    "DF_Selected<-DF[,c(common.variables,'default')]"
   ]
  },
  {
   "cell_type": "code",
   "execution_count": 513,
   "id": "6ae9062b",
   "metadata": {},
   "outputs": [
    {
     "name": "stderr",
     "output_type": "stream",
     "text": [
      "Resampling: cross-validation\n",
      "\n",
      "Measures:             auc       \n",
      "\n",
      "[Resample] iter 1:    0.7178820 \n",
      "\n",
      "[Resample] iter 2:    0.6908838 \n",
      "\n",
      "[Resample] iter 3:    0.7294158 \n",
      "\n",
      "[Resample] iter 4:    0.6965680 \n",
      "\n",
      "[Resample] iter 5:    0.6899333 \n",
      "\n",
      "[Resample] iter 6:    0.6951063 \n",
      "\n",
      "[Resample] iter 7:    0.7215294 \n",
      "\n",
      "[Resample] iter 8:    0.7036736 \n",
      "\n",
      "[Resample] iter 9:    0.7215057 \n",
      "\n",
      "[Resample] iter 10:   0.7121118 \n",
      "\n",
      "\n",
      "\n",
      "\n",
      "Aggregated Result: auc.test.mean=0.7078610\n",
      "\n",
      "\n",
      "\n",
      "\n"
     ]
    },
    {
     "data": {
      "text/plain": [
       "Resample Result\n",
       "Task: DF_Selected\n",
       "Learner: classif.logreg\n",
       "Aggr perf: auc.test.mean=0.7078610\n",
       "Runtime: 1.06246"
      ]
     },
     "metadata": {},
     "output_type": "display_data"
    }
   ],
   "source": [
    "# Set up cross-validation\n",
    "rdesc = makeResampleDesc(\"CV\", iters=10)\n",
    "\n",
    "# Define the model\n",
    "lnr_logreg <- makeLearner(\"classif.logreg\", predict.type=\"prob\", fix.factors.prediction=T)\n",
    "\n",
    "# Define the model\n",
    "task_logreg <- makeClassifTask( data=DF_Selected, target='default')\n",
    "\n",
    "# Run the k-fold CV\n",
    "resample(lnr_logreg, task_logreg, rdesc, measures=list(mlr::auc))"
   ]
  },
  {
   "cell_type": "code",
   "execution_count": 498,
   "id": "abf95100",
   "metadata": {},
   "outputs": [
    {
     "data": {
      "text/plain": [
       "\n",
       "Call:\n",
       "glm(formula = I(default) ~ PAY_0 + PAY_3 + BILL_AMT1 + PAY_AMT1 + \n",
       "    MARRIAGE_1, family = binomial, data = DF)\n",
       "\n",
       "Deviance Residuals: \n",
       "    Min       1Q   Median       3Q      Max  \n",
       "-3.1062  -0.6891  -0.5671  -0.3269   3.2619  \n",
       "\n",
       "Coefficients:\n",
       "              Estimate Std. Error z value Pr(>|z|)    \n",
       "(Intercept) -1.248e+00  2.933e-02 -42.547  < 2e-16 ***\n",
       "PAY_0        6.090e-01  1.978e-02  30.798  < 2e-16 ***\n",
       "PAY_3        1.968e-01  1.686e-02  11.671  < 2e-16 ***\n",
       "BILL_AMT1   -2.255e-06  2.921e-07  -7.721 1.16e-14 ***\n",
       "PAY_AMT1    -1.875e-05  2.822e-06  -6.647 3.00e-11 ***\n",
       "MARRIAGE_1   1.668e-01  3.654e-02   4.565 4.99e-06 ***\n",
       "---\n",
       "Signif. codes:  0 '***' 0.001 '**' 0.01 '*' 0.05 '.' 0.1 ' ' 1\n",
       "\n",
       "(Dispersion parameter for binomial family taken to be 1)\n",
       "\n",
       "    Null deviance: 21112  on 19999  degrees of freedom\n",
       "Residual deviance: 18856  on 19994  degrees of freedom\n",
       "AIC: 18868\n",
       "\n",
       "Number of Fisher Scoring iterations: 5\n"
      ]
     },
     "metadata": {},
     "output_type": "display_data"
    }
   ],
   "source": [
    "#first Logistic to whol data\n",
    "glm.fits=glm(I(default)~  PAY_0  + PAY_3 + BILL_AMT1 + PAY_AMT1 + MARRIAGE_1 \n",
    "             ,data=DF,family=binomial)\n",
    "summary(glm.fits)"
   ]
  },
  {
   "cell_type": "code",
   "execution_count": 499,
   "id": "7cd64257",
   "metadata": {},
   "outputs": [
    {
     "data": {
      "text/html": [
       "<style>\n",
       ".dl-inline {width: auto; margin:0; padding: 0}\n",
       ".dl-inline>dt, .dl-inline>dd {float: none; width: auto; display: inline-block}\n",
       ".dl-inline>dt::after {content: \":\\0020\"; padding-right: .5ex}\n",
       ".dl-inline>dt:not(:first-of-type) {padding-left: .5ex}\n",
       "</style><dl class=dl-inline><dt>(Intercept)</dt><dd>-1.24777206190851</dd><dt>PAY_0</dt><dd>0.609043391169959</dd><dt>PAY_3</dt><dd>0.196784531952786</dd><dt>BILL_AMT1</dt><dd>-2.25553062636719e-06</dd><dt>PAY_AMT1</dt><dd>-1.87537362635648e-05</dd><dt>MARRIAGE_1</dt><dd>0.166789640423871</dd></dl>\n"
      ],
      "text/latex": [
       "\\begin{description*}\n",
       "\\item[(Intercept)] -1.24777206190851\n",
       "\\item[PAY\\textbackslash{}\\_0] 0.609043391169959\n",
       "\\item[PAY\\textbackslash{}\\_3] 0.196784531952786\n",
       "\\item[BILL\\textbackslash{}\\_AMT1] -2.25553062636719e-06\n",
       "\\item[PAY\\textbackslash{}\\_AMT1] -1.87537362635648e-05\n",
       "\\item[MARRIAGE\\textbackslash{}\\_1] 0.166789640423871\n",
       "\\end{description*}\n"
      ],
      "text/markdown": [
       "(Intercept)\n",
       ":   -1.24777206190851PAY_0\n",
       ":   0.609043391169959PAY_3\n",
       ":   0.196784531952786BILL_AMT1\n",
       ":   -2.25553062636719e-06PAY_AMT1\n",
       ":   -1.87537362635648e-05MARRIAGE_1\n",
       ":   0.166789640423871\n",
       "\n"
      ],
      "text/plain": [
       "  (Intercept)         PAY_0         PAY_3     BILL_AMT1      PAY_AMT1 \n",
       "-1.247772e+00  6.090434e-01  1.967845e-01 -2.255531e-06 -1.875374e-05 \n",
       "   MARRIAGE_1 \n",
       " 1.667896e-01 "
      ]
     },
     "metadata": {},
     "output_type": "display_data"
    }
   ],
   "source": [
    "coef(glm.fits)"
   ]
  },
  {
   "cell_type": "code",
   "execution_count": 500,
   "id": "9613a690",
   "metadata": {},
   "outputs": [
    {
     "data": {
      "text/html": [
       "<table class=\"dataframe\">\n",
       "<caption>A matrix: 6 × 4 of type dbl</caption>\n",
       "<thead>\n",
       "\t<tr><th></th><th scope=col>Estimate</th><th scope=col>Std. Error</th><th scope=col>z value</th><th scope=col>Pr(&gt;|z|)</th></tr>\n",
       "</thead>\n",
       "<tbody>\n",
       "\t<tr><th scope=row>(Intercept)</th><td>-1.247772e+00</td><td>2.932663e-02</td><td>-42.547410</td><td> 0.000000e+00</td></tr>\n",
       "\t<tr><th scope=row>PAY_0</th><td> 6.090434e-01</td><td>1.977527e-02</td><td> 30.798235</td><td>2.766982e-208</td></tr>\n",
       "\t<tr><th scope=row>PAY_3</th><td> 1.967845e-01</td><td>1.686104e-02</td><td> 11.670959</td><td> 1.793898e-31</td></tr>\n",
       "\t<tr><th scope=row>BILL_AMT1</th><td>-2.255531e-06</td><td>2.921406e-07</td><td> -7.720703</td><td> 1.156900e-14</td></tr>\n",
       "\t<tr><th scope=row>PAY_AMT1</th><td>-1.875374e-05</td><td>2.821509e-06</td><td> -6.646704</td><td> 2.997295e-11</td></tr>\n",
       "\t<tr><th scope=row>MARRIAGE_1</th><td> 1.667896e-01</td><td>3.653542e-02</td><td>  4.565150</td><td> 4.991383e-06</td></tr>\n",
       "</tbody>\n",
       "</table>\n"
      ],
      "text/latex": [
       "A matrix: 6 × 4 of type dbl\n",
       "\\begin{tabular}{r|llll}\n",
       "  & Estimate & Std. Error & z value & Pr(>\\textbar{}z\\textbar{})\\\\\n",
       "\\hline\n",
       "\t(Intercept) & -1.247772e+00 & 2.932663e-02 & -42.547410 &  0.000000e+00\\\\\n",
       "\tPAY\\_0 &  6.090434e-01 & 1.977527e-02 &  30.798235 & 2.766982e-208\\\\\n",
       "\tPAY\\_3 &  1.967845e-01 & 1.686104e-02 &  11.670959 &  1.793898e-31\\\\\n",
       "\tBILL\\_AMT1 & -2.255531e-06 & 2.921406e-07 &  -7.720703 &  1.156900e-14\\\\\n",
       "\tPAY\\_AMT1 & -1.875374e-05 & 2.821509e-06 &  -6.646704 &  2.997295e-11\\\\\n",
       "\tMARRIAGE\\_1 &  1.667896e-01 & 3.653542e-02 &   4.565150 &  4.991383e-06\\\\\n",
       "\\end{tabular}\n"
      ],
      "text/markdown": [
       "\n",
       "A matrix: 6 × 4 of type dbl\n",
       "\n",
       "| <!--/--> | Estimate | Std. Error | z value | Pr(&gt;|z|) |\n",
       "|---|---|---|---|---|\n",
       "| (Intercept) | -1.247772e+00 | 2.932663e-02 | -42.547410 |  0.000000e+00 |\n",
       "| PAY_0 |  6.090434e-01 | 1.977527e-02 |  30.798235 | 2.766982e-208 |\n",
       "| PAY_3 |  1.967845e-01 | 1.686104e-02 |  11.670959 |  1.793898e-31 |\n",
       "| BILL_AMT1 | -2.255531e-06 | 2.921406e-07 |  -7.720703 |  1.156900e-14 |\n",
       "| PAY_AMT1 | -1.875374e-05 | 2.821509e-06 |  -6.646704 |  2.997295e-11 |\n",
       "| MARRIAGE_1 |  1.667896e-01 | 3.653542e-02 |   4.565150 |  4.991383e-06 |\n",
       "\n"
      ],
      "text/plain": [
       "            Estimate      Std. Error   z value    Pr(>|z|)     \n",
       "(Intercept) -1.247772e+00 2.932663e-02 -42.547410  0.000000e+00\n",
       "PAY_0        6.090434e-01 1.977527e-02  30.798235 2.766982e-208\n",
       "PAY_3        1.967845e-01 1.686104e-02  11.670959  1.793898e-31\n",
       "BILL_AMT1   -2.255531e-06 2.921406e-07  -7.720703  1.156900e-14\n",
       "PAY_AMT1    -1.875374e-05 2.821509e-06  -6.646704  2.997295e-11\n",
       "MARRIAGE_1   1.667896e-01 3.653542e-02   4.565150  4.991383e-06"
      ]
     },
     "metadata": {},
     "output_type": "display_data"
    },
    {
     "data": {
      "text/html": [
       "<style>\n",
       ".dl-inline {width: auto; margin:0; padding: 0}\n",
       ".dl-inline>dt, .dl-inline>dd {float: none; width: auto; display: inline-block}\n",
       ".dl-inline>dt::after {content: \":\\0020\"; padding-right: .5ex}\n",
       ".dl-inline>dt:not(:first-of-type) {padding-left: .5ex}\n",
       "</style><dl class=dl-inline><dt>(Intercept)</dt><dd>0</dd><dt>PAY_0</dt><dd>2.76698191160812e-208</dd><dt>PAY_3</dt><dd>1.79389758315906e-31</dd><dt>BILL_AMT1</dt><dd>1.15689989338483e-14</dd><dt>PAY_AMT1</dt><dd>2.99729466125307e-11</dd><dt>MARRIAGE_1</dt><dd>4.99138330591491e-06</dd></dl>\n"
      ],
      "text/latex": [
       "\\begin{description*}\n",
       "\\item[(Intercept)] 0\n",
       "\\item[PAY\\textbackslash{}\\_0] 2.76698191160812e-208\n",
       "\\item[PAY\\textbackslash{}\\_3] 1.79389758315906e-31\n",
       "\\item[BILL\\textbackslash{}\\_AMT1] 1.15689989338483e-14\n",
       "\\item[PAY\\textbackslash{}\\_AMT1] 2.99729466125307e-11\n",
       "\\item[MARRIAGE\\textbackslash{}\\_1] 4.99138330591491e-06\n",
       "\\end{description*}\n"
      ],
      "text/markdown": [
       "(Intercept)\n",
       ":   0PAY_0\n",
       ":   2.76698191160812e-208PAY_3\n",
       ":   1.79389758315906e-31BILL_AMT1\n",
       ":   1.15689989338483e-14PAY_AMT1\n",
       ":   2.99729466125307e-11MARRIAGE_1\n",
       ":   4.99138330591491e-06\n",
       "\n"
      ],
      "text/plain": [
       "  (Intercept)         PAY_0         PAY_3     BILL_AMT1      PAY_AMT1 \n",
       " 0.000000e+00 2.766982e-208  1.793898e-31  1.156900e-14  2.997295e-11 \n",
       "   MARRIAGE_1 \n",
       " 4.991383e-06 "
      ]
     },
     "metadata": {},
     "output_type": "display_data"
    }
   ],
   "source": [
    "summary(glm.fits)$coef\n",
    "summary(glm.fits)$coef[,4]"
   ]
  },
  {
   "cell_type": "code",
   "execution_count": 501,
   "id": "67a49d10",
   "metadata": {},
   "outputs": [
    {
     "data": {
      "text/html": [
       "<style>\n",
       ".dl-inline {width: auto; margin:0; padding: 0}\n",
       ".dl-inline>dt, .dl-inline>dd {float: none; width: auto; display: inline-block}\n",
       ".dl-inline>dt::after {content: \":\\0020\"; padding-right: .5ex}\n",
       ".dl-inline>dt:not(:first-of-type) {padding-left: .5ex}\n",
       "</style><dl class=dl-inline><dt>1</dt><dd>0.197595804499876</dd><dt>2</dt><dd>0.463214479330149</dd><dt>3</dt><dd>0.21051004411709</dd><dt>4</dt><dd>0.197272207146044</dd><dt>5</dt><dd>0.571958611608885</dd><dt>6</dt><dd>0.210023407603564</dd><dt>7</dt><dd>0.209004533835268</dd><dt>8</dt><dd>0.214469762287383</dd><dt>9</dt><dd>0.0465060244264823</dd><dt>10</dt><dd>0.206196075013603</dd></dl>\n"
      ],
      "text/latex": [
       "\\begin{description*}\n",
       "\\item[1] 0.197595804499876\n",
       "\\item[2] 0.463214479330149\n",
       "\\item[3] 0.21051004411709\n",
       "\\item[4] 0.197272207146044\n",
       "\\item[5] 0.571958611608885\n",
       "\\item[6] 0.210023407603564\n",
       "\\item[7] 0.209004533835268\n",
       "\\item[8] 0.214469762287383\n",
       "\\item[9] 0.0465060244264823\n",
       "\\item[10] 0.206196075013603\n",
       "\\end{description*}\n"
      ],
      "text/markdown": [
       "1\n",
       ":   0.1975958044998762\n",
       ":   0.4632144793301493\n",
       ":   0.210510044117094\n",
       ":   0.1972722071460445\n",
       ":   0.5719586116088856\n",
       ":   0.2100234076035647\n",
       ":   0.2090045338352688\n",
       ":   0.2144697622873839\n",
       ":   0.046506024426482310\n",
       ":   0.206196075013603\n",
       "\n"
      ],
      "text/plain": [
       "         1          2          3          4          5          6          7 \n",
       "0.19759580 0.46321448 0.21051004 0.19727221 0.57195861 0.21002341 0.20900453 \n",
       "         8          9         10 \n",
       "0.21446976 0.04650602 0.20619608 "
      ]
     },
     "metadata": {},
     "output_type": "display_data"
    }
   ],
   "source": [
    "glm.probs=predict(glm.fits,newdata=DF,type=\"response\")\n",
    "glm.probs[1:10]\n"
   ]
  },
  {
   "cell_type": "code",
   "execution_count": 502,
   "id": "3cccfd5c",
   "metadata": {},
   "outputs": [],
   "source": [
    "GLMDF<-DF\n",
    "GLMDF$predict<- ifelse(glm.probs > 0.5, 1, 0)"
   ]
  },
  {
   "cell_type": "code",
   "execution_count": 503,
   "id": "2d2c610a",
   "metadata": {},
   "outputs": [
    {
     "name": "stdout",
     "output_type": "stream",
     "text": [
      "\n",
      " \n",
      "   Cell Contents\n",
      "|-------------------------|\n",
      "|                       N |\n",
      "| Chi-square contribution |\n",
      "|           N / Row Total |\n",
      "|           N / Col Total |\n",
      "|         N / Table Total |\n",
      "|-------------------------|\n",
      "\n",
      " \n",
      "Total Observations in Table:  20000 \n",
      "\n",
      " \n",
      "              | GLMDF$default \n",
      "GLMDF$predict |         0 |         1 | Row Total | \n",
      "--------------|-----------|-----------|-----------|\n",
      "            0 |     15224 |      3545 |     18769 | \n",
      "              |    24.393 |    86.133 |           | \n",
      "              |     0.811 |     0.189 |     0.938 | \n",
      "              |     0.977 |     0.803 |           | \n",
      "              |     0.761 |     0.177 |           | \n",
      "--------------|-----------|-----------|-----------|\n",
      "            1 |       362 |       869 |      1231 | \n",
      "              |   371.919 |  1313.262 |           | \n",
      "              |     0.294 |     0.706 |     0.062 | \n",
      "              |     0.023 |     0.197 |           | \n",
      "              |     0.018 |     0.043 |           | \n",
      "--------------|-----------|-----------|-----------|\n",
      " Column Total |     15586 |      4414 |     20000 | \n",
      "              |     0.779 |     0.221 |           | \n",
      "--------------|-----------|-----------|-----------|\n",
      "\n",
      " \n"
     ]
    },
    {
     "data": {
      "text/plain": [
       "$t\n",
       "   y\n",
       "x       0     1\n",
       "  0 15224  3545\n",
       "  1   362   869\n",
       "\n",
       "$prop.row\n",
       "   y\n",
       "x           0         1\n",
       "  0 0.8111247 0.1888753\n",
       "  1 0.2940699 0.7059301\n",
       "\n",
       "$prop.col\n",
       "   y\n",
       "x            0          1\n",
       "  0 0.97677403 0.80312642\n",
       "  1 0.02322597 0.19687358\n",
       "\n",
       "$prop.tbl\n",
       "   y\n",
       "x         0       1\n",
       "  0 0.76120 0.17725\n",
       "  1 0.01810 0.04345\n"
      ]
     },
     "metadata": {},
     "output_type": "display_data"
    }
   ],
   "source": [
    "confusion_matrix<-gmodels::CrossTable(GLMDF$predict,GLMDF$default)\n",
    "confusion_matrix"
   ]
  },
  {
   "cell_type": "code",
   "execution_count": 504,
   "id": "dddd4191",
   "metadata": {},
   "outputs": [
    {
     "name": "stdout",
     "output_type": "stream",
     "text": [
      "[1] \"Accuracy is eual to = 0.80465\"\n",
      "[1] \"error Type One is eual to = 0.0232259720261773\"\n",
      "[1] \"error Type Two is eual to = 0.803126415949252\"\n"
     ]
    }
   ],
   "source": [
    "\n",
    "TP<-confusion_matrix$t[2,2]\n",
    "FP<-confusion_matrix$t[2,1]\n",
    "TN<-confusion_matrix$t[1,1]\n",
    "FN<-confusion_matrix$t[1,2]\n",
    "\n",
    "#accuracy\n",
    "accuracy<-(TP + TN) / (TP + FP + TN + FN)\n",
    "#Errors\n",
    "\n",
    "err_1<-confusion_matrix$prop.col[2,1]\n",
    "err_2<-confusion_matrix$prop.col[1,2]\n",
    "\n",
    "\n",
    "print(paste('Accuracy is eual to =', accuracy))\n",
    "print(paste('error Type One is eual to =', err_1))\n",
    "print(paste('error Type Two is eual to =', err_2))"
   ]
  },
  {
   "cell_type": "code",
   "execution_count": 527,
   "id": "04ac8e8b",
   "metadata": {},
   "outputs": [
    {
     "data": {
      "text/plain": [
       "\n",
       "Call:\n",
       "glm(formula = I(default) ~ I(PAY_0)^2 + I(PAY_3)^3 + I(BILL_AMT1)^3 + \n",
       "    I(PAY_AMT1) + I(MARRIAGE_1), family = binomial, data = DF)\n",
       "\n",
       "Deviance Residuals: \n",
       "    Min       1Q   Median       3Q      Max  \n",
       "-3.1062  -0.6891  -0.5671  -0.3269   3.2619  \n",
       "\n",
       "Coefficients:\n",
       "                Estimate Std. Error z value Pr(>|z|)    \n",
       "(Intercept)   -1.248e+00  2.933e-02 -42.547  < 2e-16 ***\n",
       "I(PAY_0)       6.090e-01  1.978e-02  30.798  < 2e-16 ***\n",
       "I(PAY_3)       1.968e-01  1.686e-02  11.671  < 2e-16 ***\n",
       "I(BILL_AMT1)  -2.255e-06  2.921e-07  -7.721 1.16e-14 ***\n",
       "I(PAY_AMT1)   -1.875e-05  2.822e-06  -6.647 3.00e-11 ***\n",
       "I(MARRIAGE_1)  1.668e-01  3.654e-02   4.565 4.99e-06 ***\n",
       "---\n",
       "Signif. codes:  0 '***' 0.001 '**' 0.01 '*' 0.05 '.' 0.1 ' ' 1\n",
       "\n",
       "(Dispersion parameter for binomial family taken to be 1)\n",
       "\n",
       "    Null deviance: 21112  on 19999  degrees of freedom\n",
       "Residual deviance: 18856  on 19994  degrees of freedom\n",
       "AIC: 18868\n",
       "\n",
       "Number of Fisher Scoring iterations: 5\n"
      ]
     },
     "metadata": {},
     "output_type": "display_data"
    }
   ],
   "source": [
    "#first Logistic to whol data\n",
    "glm.fits=glm(I(default)~  I(PAY_0)^2  + I(PAY_3)**3 + I(BILL_AMT1)^3 + I(PAY_AMT1) + I(MARRIAGE_1) \n",
    "             ,data=DF,family=binomial)\n",
    "summary(glm.fits)"
   ]
  },
  {
   "cell_type": "code",
   "execution_count": 528,
   "id": "36e996aa",
   "metadata": {},
   "outputs": [
    {
     "data": {
      "text/html": [
       "<table class=\"dataframe\">\n",
       "<caption>A matrix: 6 × 4 of type dbl</caption>\n",
       "<thead>\n",
       "\t<tr><th></th><th scope=col>Estimate</th><th scope=col>Std. Error</th><th scope=col>z value</th><th scope=col>Pr(&gt;|z|)</th></tr>\n",
       "</thead>\n",
       "<tbody>\n",
       "\t<tr><th scope=row>(Intercept)</th><td>-1.247772e+00</td><td>2.932663e-02</td><td>-42.547410</td><td> 0.000000e+00</td></tr>\n",
       "\t<tr><th scope=row>I(PAY_0)</th><td> 6.090434e-01</td><td>1.977527e-02</td><td> 30.798235</td><td>2.766982e-208</td></tr>\n",
       "\t<tr><th scope=row>I(PAY_3)</th><td> 1.967845e-01</td><td>1.686104e-02</td><td> 11.670959</td><td> 1.793898e-31</td></tr>\n",
       "\t<tr><th scope=row>I(BILL_AMT1)</th><td>-2.255531e-06</td><td>2.921406e-07</td><td> -7.720703</td><td> 1.156900e-14</td></tr>\n",
       "\t<tr><th scope=row>I(PAY_AMT1)</th><td>-1.875374e-05</td><td>2.821509e-06</td><td> -6.646704</td><td> 2.997295e-11</td></tr>\n",
       "\t<tr><th scope=row>I(MARRIAGE_1)</th><td> 1.667896e-01</td><td>3.653542e-02</td><td>  4.565150</td><td> 4.991383e-06</td></tr>\n",
       "</tbody>\n",
       "</table>\n"
      ],
      "text/latex": [
       "A matrix: 6 × 4 of type dbl\n",
       "\\begin{tabular}{r|llll}\n",
       "  & Estimate & Std. Error & z value & Pr(>\\textbar{}z\\textbar{})\\\\\n",
       "\\hline\n",
       "\t(Intercept) & -1.247772e+00 & 2.932663e-02 & -42.547410 &  0.000000e+00\\\\\n",
       "\tI(PAY\\_0) &  6.090434e-01 & 1.977527e-02 &  30.798235 & 2.766982e-208\\\\\n",
       "\tI(PAY\\_3) &  1.967845e-01 & 1.686104e-02 &  11.670959 &  1.793898e-31\\\\\n",
       "\tI(BILL\\_AMT1) & -2.255531e-06 & 2.921406e-07 &  -7.720703 &  1.156900e-14\\\\\n",
       "\tI(PAY\\_AMT1) & -1.875374e-05 & 2.821509e-06 &  -6.646704 &  2.997295e-11\\\\\n",
       "\tI(MARRIAGE\\_1) &  1.667896e-01 & 3.653542e-02 &   4.565150 &  4.991383e-06\\\\\n",
       "\\end{tabular}\n"
      ],
      "text/markdown": [
       "\n",
       "A matrix: 6 × 4 of type dbl\n",
       "\n",
       "| <!--/--> | Estimate | Std. Error | z value | Pr(&gt;|z|) |\n",
       "|---|---|---|---|---|\n",
       "| (Intercept) | -1.247772e+00 | 2.932663e-02 | -42.547410 |  0.000000e+00 |\n",
       "| I(PAY_0) |  6.090434e-01 | 1.977527e-02 |  30.798235 | 2.766982e-208 |\n",
       "| I(PAY_3) |  1.967845e-01 | 1.686104e-02 |  11.670959 |  1.793898e-31 |\n",
       "| I(BILL_AMT1) | -2.255531e-06 | 2.921406e-07 |  -7.720703 |  1.156900e-14 |\n",
       "| I(PAY_AMT1) | -1.875374e-05 | 2.821509e-06 |  -6.646704 |  2.997295e-11 |\n",
       "| I(MARRIAGE_1) |  1.667896e-01 | 3.653542e-02 |   4.565150 |  4.991383e-06 |\n",
       "\n"
      ],
      "text/plain": [
       "              Estimate      Std. Error   z value    Pr(>|z|)     \n",
       "(Intercept)   -1.247772e+00 2.932663e-02 -42.547410  0.000000e+00\n",
       "I(PAY_0)       6.090434e-01 1.977527e-02  30.798235 2.766982e-208\n",
       "I(PAY_3)       1.967845e-01 1.686104e-02  11.670959  1.793898e-31\n",
       "I(BILL_AMT1)  -2.255531e-06 2.921406e-07  -7.720703  1.156900e-14\n",
       "I(PAY_AMT1)   -1.875374e-05 2.821509e-06  -6.646704  2.997295e-11\n",
       "I(MARRIAGE_1)  1.667896e-01 3.653542e-02   4.565150  4.991383e-06"
      ]
     },
     "metadata": {},
     "output_type": "display_data"
    },
    {
     "data": {
      "text/html": [
       "<style>\n",
       ".dl-inline {width: auto; margin:0; padding: 0}\n",
       ".dl-inline>dt, .dl-inline>dd {float: none; width: auto; display: inline-block}\n",
       ".dl-inline>dt::after {content: \":\\0020\"; padding-right: .5ex}\n",
       ".dl-inline>dt:not(:first-of-type) {padding-left: .5ex}\n",
       "</style><dl class=dl-inline><dt>(Intercept)</dt><dd>0</dd><dt>I(PAY_0)</dt><dd>2.76698191160812e-208</dd><dt>I(PAY_3)</dt><dd>1.79389758315906e-31</dd><dt>I(BILL_AMT1)</dt><dd>1.15689989338483e-14</dd><dt>I(PAY_AMT1)</dt><dd>2.99729466125307e-11</dd><dt>I(MARRIAGE_1)</dt><dd>4.99138330591491e-06</dd></dl>\n"
      ],
      "text/latex": [
       "\\begin{description*}\n",
       "\\item[(Intercept)] 0\n",
       "\\item[I(PAY\\textbackslash{}\\_0)] 2.76698191160812e-208\n",
       "\\item[I(PAY\\textbackslash{}\\_3)] 1.79389758315906e-31\n",
       "\\item[I(BILL\\textbackslash{}\\_AMT1)] 1.15689989338483e-14\n",
       "\\item[I(PAY\\textbackslash{}\\_AMT1)] 2.99729466125307e-11\n",
       "\\item[I(MARRIAGE\\textbackslash{}\\_1)] 4.99138330591491e-06\n",
       "\\end{description*}\n"
      ],
      "text/markdown": [
       "(Intercept)\n",
       ":   0I(PAY_0)\n",
       ":   2.76698191160812e-208I(PAY_3)\n",
       ":   1.79389758315906e-31I(BILL_AMT1)\n",
       ":   1.15689989338483e-14I(PAY_AMT1)\n",
       ":   2.99729466125307e-11I(MARRIAGE_1)\n",
       ":   4.99138330591491e-06\n",
       "\n"
      ],
      "text/plain": [
       "  (Intercept)      I(PAY_0)      I(PAY_3)  I(BILL_AMT1)   I(PAY_AMT1) \n",
       " 0.000000e+00 2.766982e-208  1.793898e-31  1.156900e-14  2.997295e-11 \n",
       "I(MARRIAGE_1) \n",
       " 4.991383e-06 "
      ]
     },
     "metadata": {},
     "output_type": "display_data"
    }
   ],
   "source": [
    "summary(glm.fits)$coef\n",
    "summary(glm.fits)$coef[,4]"
   ]
  },
  {
   "cell_type": "code",
   "execution_count": 529,
   "id": "9d2997d5",
   "metadata": {},
   "outputs": [
    {
     "data": {
      "text/html": [
       "<style>\n",
       ".dl-inline {width: auto; margin:0; padding: 0}\n",
       ".dl-inline>dt, .dl-inline>dd {float: none; width: auto; display: inline-block}\n",
       ".dl-inline>dt::after {content: \":\\0020\"; padding-right: .5ex}\n",
       ".dl-inline>dt:not(:first-of-type) {padding-left: .5ex}\n",
       "</style><dl class=dl-inline><dt>1</dt><dd>0.197595804499876</dd><dt>2</dt><dd>0.463214479330149</dd><dt>3</dt><dd>0.21051004411709</dd><dt>4</dt><dd>0.197272207146044</dd><dt>5</dt><dd>0.571958611608885</dd><dt>6</dt><dd>0.210023407603564</dd><dt>7</dt><dd>0.209004533835268</dd><dt>8</dt><dd>0.214469762287383</dd><dt>9</dt><dd>0.0465060244264823</dd><dt>10</dt><dd>0.206196075013603</dd></dl>\n"
      ],
      "text/latex": [
       "\\begin{description*}\n",
       "\\item[1] 0.197595804499876\n",
       "\\item[2] 0.463214479330149\n",
       "\\item[3] 0.21051004411709\n",
       "\\item[4] 0.197272207146044\n",
       "\\item[5] 0.571958611608885\n",
       "\\item[6] 0.210023407603564\n",
       "\\item[7] 0.209004533835268\n",
       "\\item[8] 0.214469762287383\n",
       "\\item[9] 0.0465060244264823\n",
       "\\item[10] 0.206196075013603\n",
       "\\end{description*}\n"
      ],
      "text/markdown": [
       "1\n",
       ":   0.1975958044998762\n",
       ":   0.4632144793301493\n",
       ":   0.210510044117094\n",
       ":   0.1972722071460445\n",
       ":   0.5719586116088856\n",
       ":   0.2100234076035647\n",
       ":   0.2090045338352688\n",
       ":   0.2144697622873839\n",
       ":   0.046506024426482310\n",
       ":   0.206196075013603\n",
       "\n"
      ],
      "text/plain": [
       "         1          2          3          4          5          6          7 \n",
       "0.19759580 0.46321448 0.21051004 0.19727221 0.57195861 0.21002341 0.20900453 \n",
       "         8          9         10 \n",
       "0.21446976 0.04650602 0.20619608 "
      ]
     },
     "metadata": {},
     "output_type": "display_data"
    }
   ],
   "source": [
    "glm.probs=predict(glm.fits,newdata=DF,type=\"response\")\n",
    "glm.probs[1:10]"
   ]
  },
  {
   "cell_type": "code",
   "execution_count": 530,
   "id": "124660b1",
   "metadata": {},
   "outputs": [],
   "source": [
    "GLMDF<-DF\n",
    "GLMDF$predict<- ifelse(glm.probs > 0.5, 1, 0)"
   ]
  },
  {
   "cell_type": "code",
   "execution_count": 531,
   "id": "56412348",
   "metadata": {},
   "outputs": [
    {
     "name": "stdout",
     "output_type": "stream",
     "text": [
      "\n",
      " \n",
      "   Cell Contents\n",
      "|-------------------------|\n",
      "|                       N |\n",
      "| Chi-square contribution |\n",
      "|           N / Row Total |\n",
      "|           N / Col Total |\n",
      "|         N / Table Total |\n",
      "|-------------------------|\n",
      "\n",
      " \n",
      "Total Observations in Table:  20000 \n",
      "\n",
      " \n",
      "              | GLMDF$default \n",
      "GLMDF$predict |         0 |         1 | Row Total | \n",
      "--------------|-----------|-----------|-----------|\n",
      "            0 |     15224 |      3545 |     18769 | \n",
      "              |    24.393 |    86.133 |           | \n",
      "              |     0.811 |     0.189 |     0.938 | \n",
      "              |     0.977 |     0.803 |           | \n",
      "              |     0.761 |     0.177 |           | \n",
      "--------------|-----------|-----------|-----------|\n",
      "            1 |       362 |       869 |      1231 | \n",
      "              |   371.919 |  1313.262 |           | \n",
      "              |     0.294 |     0.706 |     0.062 | \n",
      "              |     0.023 |     0.197 |           | \n",
      "              |     0.018 |     0.043 |           | \n",
      "--------------|-----------|-----------|-----------|\n",
      " Column Total |     15586 |      4414 |     20000 | \n",
      "              |     0.779 |     0.221 |           | \n",
      "--------------|-----------|-----------|-----------|\n",
      "\n",
      " \n"
     ]
    },
    {
     "data": {
      "text/plain": [
       "$t\n",
       "   y\n",
       "x       0     1\n",
       "  0 15224  3545\n",
       "  1   362   869\n",
       "\n",
       "$prop.row\n",
       "   y\n",
       "x           0         1\n",
       "  0 0.8111247 0.1888753\n",
       "  1 0.2940699 0.7059301\n",
       "\n",
       "$prop.col\n",
       "   y\n",
       "x            0          1\n",
       "  0 0.97677403 0.80312642\n",
       "  1 0.02322597 0.19687358\n",
       "\n",
       "$prop.tbl\n",
       "   y\n",
       "x         0       1\n",
       "  0 0.76120 0.17725\n",
       "  1 0.01810 0.04345\n"
      ]
     },
     "metadata": {},
     "output_type": "display_data"
    }
   ],
   "source": [
    "confusion_matrix<-gmodels::CrossTable(GLMDF$predict,GLMDF$default)\n",
    "confusion_matrix"
   ]
  },
  {
   "cell_type": "code",
   "execution_count": 532,
   "id": "9fce34be",
   "metadata": {},
   "outputs": [
    {
     "name": "stdout",
     "output_type": "stream",
     "text": [
      "[1] \"Accuracy is eual to = 0.80465\"\n",
      "[1] \"error Type One is eual to = 0.0232259720261773\"\n",
      "[1] \"error Type Two is eual to = 0.803126415949252\"\n"
     ]
    }
   ],
   "source": [
    "\n",
    "TP<-confusion_matrix$t[2,2]\n",
    "FP<-confusion_matrix$t[2,1]\n",
    "TN<-confusion_matrix$t[1,1]\n",
    "FN<-confusion_matrix$t[1,2]\n",
    "\n",
    "#accuracy\n",
    "accuracy<-(TP + TN) / (TP + FP + TN + FN)\n",
    "#Errors\n",
    "\n",
    "err_1<-confusion_matrix$prop.col[2,1]\n",
    "err_2<-confusion_matrix$prop.col[1,2]\n",
    "\n",
    "\n",
    "print(paste('Accuracy is eual to =', accuracy))\n",
    "print(paste('error Type One is eual to =', err_1))\n",
    "print(paste('error Type Two is eual to =', err_2))"
   ]
  },
  {
   "cell_type": "code",
   "execution_count": 535,
   "id": "ccbcf1e6",
   "metadata": {},
   "outputs": [],
   "source": [
    "set.seed(613)\n",
    "#seting the row indexes\n",
    "index <- sample(1:nrow(DF_Selected), round(0.7 * nrow(DF), 0))\n",
    "#spliting data based on the index\n",
    "train <- DF_Selected[index, ]\n",
    "test <- DF_Selected[-index, ]"
   ]
  },
  {
   "cell_type": "code",
   "execution_count": 538,
   "id": "11ea29a1",
   "metadata": {},
   "outputs": [
    {
     "data": {
      "text/html": [
       "<style>\n",
       ".dl-inline {width: auto; margin:0; padding: 0}\n",
       ".dl-inline>dt, .dl-inline>dd {float: none; width: auto; display: inline-block}\n",
       ".dl-inline>dt::after {content: \":\\0020\"; padding-right: .5ex}\n",
       ".dl-inline>dt:not(:first-of-type) {padding-left: .5ex}\n",
       "</style><dl class=dl-inline><dt>1</dt><dd>0.199841038032507</dd><dt>8</dt><dd>0.213183710630911</dd><dt>15</dt><dd>0.355870199199227</dd><dt>18</dt><dd>0.0456034457295649</dd><dt>23</dt><dd>0.478596517884018</dd><dt>25</dt><dd>0.0638541021873557</dd></dl>\n"
      ],
      "text/latex": [
       "\\begin{description*}\n",
       "\\item[1] 0.199841038032507\n",
       "\\item[8] 0.213183710630911\n",
       "\\item[15] 0.355870199199227\n",
       "\\item[18] 0.0456034457295649\n",
       "\\item[23] 0.478596517884018\n",
       "\\item[25] 0.0638541021873557\n",
       "\\end{description*}\n"
      ],
      "text/markdown": [
       "1\n",
       ":   0.1998410380325078\n",
       ":   0.21318371063091115\n",
       ":   0.35587019919922718\n",
       ":   0.045603445729564923\n",
       ":   0.47859651788401825\n",
       ":   0.0638541021873557\n",
       "\n"
      ],
      "text/plain": [
       "         1          8         15         18         23         25 \n",
       "0.19984104 0.21318371 0.35587020 0.04560345 0.47859652 0.06385410 "
      ]
     },
     "metadata": {},
     "output_type": "display_data"
    },
    {
     "data": {
      "text/plain": [
       "    \n",
       "pred    0    1\n",
       "   0 4579 1019\n",
       "   1  136  266"
      ]
     },
     "metadata": {},
     "output_type": "display_data"
    },
    {
     "name": "stdout",
     "output_type": "stream",
     "text": [
      "[1] \"Accuracy = 0.81\"\n",
      "[1] \"Precision = 0.66\"\n",
      "[1] \"Sensitivity (TPR) = 0.21\"\n",
      "[1] \"Specificity (TNR) = 0.97\"\n"
     ]
    }
   ],
   "source": [
    "# Fit Logistic Regression model\n",
    "md_logreg <- glm(I(default)~  PAY_0  + PAY_3 + BILL_AMT1 + PAY_AMT1 + MARRIAGE_1 \n",
    "             ,data=train,family=binomial)\n",
    "\n",
    "# Make prediction\n",
    "pred_logreg <- predict(md_logreg, newdata=test, type='response')\n",
    "head(pred_logreg)\n",
    "\n",
    "# Decision threshold = 0.5\n",
    "threshold <- 0.5\n",
    "pred <- rep(0, nrow(test))\n",
    "pred[pred_logreg > threshold] <- 1\n",
    "\n",
    "# Evaluation\n",
    "table(pred, test$default)\n",
    "acc <- mean(pred == test$default)\n",
    "TP <- table(pred, test$default)[2, 2]\n",
    "TN <- table(pred, test$default)[1, 1]\n",
    "FP <- table(pred, test$default)[2, 1]\n",
    "FN <- table(pred, test$default)[1, 2]\n",
    "\n",
    "print(paste('Accuracy =', round(acc, 2)))\n",
    "print(paste('Precision =', round(TP / (TP + FP), 2)))\n",
    "print(paste('Sensitivity (TPR) =', round(TP / (TP + FN), 2)))\n",
    "print(paste('Specificity (TNR) =', round(TN / (TN + FP), 2)))"
   ]
  },
  {
   "cell_type": "code",
   "execution_count": 539,
   "id": "becaba66",
   "metadata": {},
   "outputs": [
    {
     "data": {
      "text/plain": [
       "    \n",
       "pred    0    1\n",
       "   0 3913  579\n",
       "   1  802  706"
      ]
     },
     "metadata": {},
     "output_type": "display_data"
    },
    {
     "name": "stdout",
     "output_type": "stream",
     "text": [
      "[1] \"Accuracy = 0.77\"\n",
      "[1] \"Precision = 0.47\"\n",
      "[1] \"Sensitivity (TPR) = 0.55\"\n",
      "[1] \"Specificity (TNR) = 0.83\"\n"
     ]
    }
   ],
   "source": [
    "# Decision threshold = 0.25\n",
    "threshold <- 0.25\n",
    "pred <- rep(0, nrow(test))\n",
    "pred[pred_logreg > threshold] <- 1\n",
    "\n",
    "# Evaluation\n",
    "table(pred, test$default)\n",
    "acc <- mean(pred == test$default)\n",
    "TP <- table(pred, test$default)[2, 2]\n",
    "TN <- table(pred, test$default)[1, 1]\n",
    "FP <- table(pred, test$default)[2, 1]\n",
    "FN <- table(pred, test$default)[1, 2]\n",
    "\n",
    "print(paste('Accuracy =', round(acc, 2)))\n",
    "print(paste('Precision =', round(TP / (TP + FP), 2)))\n",
    "print(paste('Sensitivity (TPR) =', round(TP / (TP + FN), 2)))\n",
    "print(paste('Specificity (TNR) =', round(TN / (TN + FP), 2)))"
   ]
  },
  {
   "cell_type": "code",
   "execution_count": 540,
   "id": "d33e687d",
   "metadata": {},
   "outputs": [
    {
     "data": {
      "text/plain": [
       "    \n",
       "pred    0    1\n",
       "   0 4698 1254\n",
       "   1   17   31"
      ]
     },
     "metadata": {},
     "output_type": "display_data"
    },
    {
     "name": "stdout",
     "output_type": "stream",
     "text": [
      "[1] \"Accuracy = 0.79\"\n",
      "[1] \"Precision = 0.65\"\n",
      "[1] \"Sensitivity (TPR) = 0.02\"\n",
      "[1] \"Specificity (TNR) = 1\"\n"
     ]
    }
   ],
   "source": [
    "# Decision threshold = 0.75\n",
    "threshold <- 0.75\n",
    "pred <- rep(0, nrow(test))\n",
    "pred[pred_logreg > threshold] <- 1\n",
    "\n",
    "# Evaluation\n",
    "table(pred, test$default)\n",
    "acc <- mean(pred == test$default)\n",
    "TP <- table(pred, test$default)[2, 2]\n",
    "TN <- table(pred, test$default)[1, 1]\n",
    "FP <- table(pred, test$default)[2, 1]\n",
    "FN <- table(pred, test$default)[1, 2]\n",
    "\n",
    "print(paste('Accuracy =', round(acc, 2)))\n",
    "print(paste('Precision =', round(TP / (TP + FP), 2)))\n",
    "print(paste('Sensitivity (TPR) =', round(TP / (TP + FN), 2)))\n",
    "print(paste('Specificity (TNR) =', round(TN / (TN + FP), 2)))"
   ]
  },
  {
   "cell_type": "markdown",
   "id": "26dda396",
   "metadata": {},
   "source": [
    "#### 2.2. KNN"
   ]
  },
  {
   "cell_type": "code",
   "execution_count": 558,
   "id": "b8c6f284",
   "metadata": {},
   "outputs": [
    {
     "name": "stderr",
     "output_type": "stream",
     "text": [
      "Resampling: cross-validation\n",
      "\n",
      "Measures:             auc       \n",
      "\n",
      "[Resample] iter 1:    0.5883669 \n",
      "\n",
      "[Resample] iter 2:    0.5949775 \n",
      "\n",
      "[Resample] iter 3:    0.5993696 \n",
      "\n",
      "[Resample] iter 4:    0.5964811 \n",
      "\n",
      "[Resample] iter 5:    0.6010963 \n",
      "\n",
      "[Resample] iter 6:    0.6102746 \n",
      "\n",
      "[Resample] iter 7:    0.5853581 \n",
      "\n",
      "[Resample] iter 8:    0.5961275 \n",
      "\n",
      "[Resample] iter 9:    0.6098850 \n",
      "\n",
      "[Resample] iter 10:   0.6274715 \n",
      "\n",
      "\n",
      "\n",
      "\n",
      "Aggregated Result: auc.test.mean=0.6009408\n",
      "\n",
      "\n",
      "\n",
      "\n"
     ]
    },
    {
     "data": {
      "text/plain": [
       "Resample Result\n",
       "Task: DF_Selected\n",
       "Learner: classif.kknn\n",
       "Aggr perf: auc.test.mean=0.6009408\n",
       "Runtime: 4.73427"
      ]
     },
     "metadata": {},
     "output_type": "display_data"
    }
   ],
   "source": [
    "# Set up cross-validation\n",
    "rdesc = makeResampleDesc(\"CV\", iters=10)\n",
    "\n",
    "# Define the model\n",
    "lnr_logreg <- makeLearner(\"classif.kknn\", predict.type=\"prob\", fix.factors.prediction=T, k=1)\n",
    "\n",
    "# Define the model\n",
    "task_logreg <- makeClassifTask( data=DF_Selected, target='default')\n",
    "\n",
    "# Run the k-fold CV\n",
    "resample(lnr_logreg, task_logreg, rdesc, measures=list(mlr::auc))"
   ]
  },
  {
   "cell_type": "code",
   "execution_count": 559,
   "id": "1d09e875",
   "metadata": {},
   "outputs": [
    {
     "name": "stderr",
     "output_type": "stream",
     "text": [
      "Resampling: cross-validation\n",
      "\n",
      "Measures:             auc       \n",
      "\n",
      "[Resample] iter 1:    0.7284913 \n",
      "\n",
      "[Resample] iter 2:    0.7291689 \n",
      "\n",
      "[Resample] iter 3:    0.7157318 \n",
      "\n",
      "[Resample] iter 4:    0.7059133 \n",
      "\n",
      "[Resample] iter 5:    0.6886860 \n",
      "\n",
      "[Resample] iter 6:    0.7217089 \n",
      "\n",
      "[Resample] iter 7:    0.6883462 \n",
      "\n",
      "[Resample] iter 8:    0.7160949 \n",
      "\n",
      "[Resample] iter 9:    0.7223507 \n",
      "\n",
      "[Resample] iter 10:   0.6969714 \n",
      "\n",
      "\n",
      "\n",
      "\n",
      "Aggregated Result: auc.test.mean=0.7113463\n",
      "\n",
      "\n",
      "\n",
      "\n"
     ]
    },
    {
     "data": {
      "text/plain": [
       "Resample Result\n",
       "Task: DF_Selected\n",
       "Learner: classif.kknn\n",
       "Aggr perf: auc.test.mean=0.7113463\n",
       "Runtime: 4.99687"
      ]
     },
     "metadata": {},
     "output_type": "display_data"
    }
   ],
   "source": [
    "# Set up cross-validation\n",
    "rdesc = makeResampleDesc(\"CV\", iters=10)\n",
    "\n",
    "# Define the model\n",
    "lnr_logreg <- makeLearner(\"classif.kknn\", predict.type=\"prob\", fix.factors.prediction=T, k=10)\n",
    "\n",
    "# Define the model\n",
    "task_logreg <- makeClassifTask( data=DF_Selected, target='default')\n",
    "\n",
    "# Run the k-fold CV\n",
    "resample(lnr_logreg, task_logreg, rdesc, measures=list(mlr::auc))"
   ]
  },
  {
   "cell_type": "code",
   "execution_count": 560,
   "id": "f05c11db",
   "metadata": {},
   "outputs": [
    {
     "name": "stderr",
     "output_type": "stream",
     "text": [
      "Resampling: cross-validation\n",
      "\n",
      "Measures:             auc       \n",
      "\n",
      "[Resample] iter 1:    0.7362477 \n",
      "\n",
      "[Resample] iter 2:    0.7667928 \n",
      "\n",
      "[Resample] iter 3:    0.7636886 \n",
      "\n",
      "[Resample] iter 4:    0.7473357 \n",
      "\n",
      "[Resample] iter 5:    0.7311146 \n",
      "\n",
      "[Resample] iter 6:    0.7395441 \n",
      "\n",
      "[Resample] iter 7:    0.7456385 \n",
      "\n",
      "[Resample] iter 8:    0.7410599 \n",
      "\n",
      "[Resample] iter 9:    0.7627088 \n",
      "\n",
      "[Resample] iter 10:   0.7478660 \n",
      "\n",
      "\n",
      "\n",
      "\n",
      "Aggregated Result: auc.test.mean=0.7481997\n",
      "\n",
      "\n",
      "\n",
      "\n"
     ]
    },
    {
     "data": {
      "text/plain": [
       "Resample Result\n",
       "Task: DF_Selected\n",
       "Learner: classif.kknn\n",
       "Aggr perf: auc.test.mean=0.7481997\n",
       "Runtime: 9.25086"
      ]
     },
     "metadata": {},
     "output_type": "display_data"
    }
   ],
   "source": [
    "# Set up cross-validation\n",
    "rdesc = makeResampleDesc(\"CV\", iters=10)\n",
    "\n",
    "# Define the model\n",
    "lnr_logreg <- makeLearner(\"classif.kknn\", predict.type=\"prob\", fix.factors.prediction=T, k=100)\n",
    "\n",
    "# Define the model\n",
    "task_logreg <- makeClassifTask( data=DF_Selected, target='default')\n",
    "\n",
    "# Run the k-fold CV\n",
    "resample(lnr_logreg, task_logreg, rdesc, measures=list(mlr::auc))"
   ]
  },
  {
   "cell_type": "code",
   "execution_count": 566,
   "id": "b70aa338",
   "metadata": {},
   "outputs": [
    {
     "data": {
      "text/plain": [
       "    \n",
       "pred    0    1\n",
       "   0 4698 1254\n",
       "   1   17   31"
      ]
     },
     "metadata": {},
     "output_type": "display_data"
    },
    {
     "name": "stdout",
     "output_type": "stream",
     "text": [
      "[1] \"Accuracy = 0.79\"\n",
      "[1] \"Precision = 0.56\"\n",
      "[1] \"Sensitivity (TPR) = 0.02\"\n",
      "[1] \"Specificity (TNR) = 1\"\n"
     ]
    }
   ],
   "source": [
    "# k = 100\n",
    "set.seed(123)\n",
    "knn1_pred <- knn(train=train[, common.variables],\n",
    "                 test=test[,common.variables],\n",
    "                 cl=train$default,\n",
    "                 k=100)\n",
    "\n",
    "# Evaluation\n",
    "table(pred, test$default)\n",
    "acc <- mean(knn1_pred == test$default)\n",
    "TP <- table(knn1_pred, test$default)[2, 2]\n",
    "TN <- table(knn1_pred, test$default)[1, 1]\n",
    "FP <- table(knn1_pred, test$default)[2, 1]\n",
    "FN <- table(knn1_pred, test$default)[1, 2]\n",
    "\n",
    "print(paste('Accuracy =', round(acc, 2)))\n",
    "print(paste('Precision =', round(TP / (TP + FP), 2)))\n",
    "print(paste('Sensitivity (TPR) =', round(TP / (TP + FN), 2)))\n",
    "print(paste('Specificity (TNR) =', round(TN / (TN + FP), 2)))"
   ]
  },
  {
   "cell_type": "code",
   "execution_count": null,
   "id": "1c7f5d2b",
   "metadata": {},
   "outputs": [],
   "source": []
  },
  {
   "cell_type": "code",
   "execution_count": null,
   "id": "19dfcacb",
   "metadata": {},
   "outputs": [],
   "source": []
  },
  {
   "cell_type": "markdown",
   "id": "1bfd7cbc",
   "metadata": {},
   "source": [
    "#### Decision Trees"
   ]
  },
  {
   "cell_type": "code",
   "execution_count": 555,
   "id": "1781574e",
   "metadata": {},
   "outputs": [
    {
     "name": "stderr",
     "output_type": "stream",
     "text": [
      "Resampling: cross-validation\n",
      "\n",
      "Measures:             auc       \n",
      "\n",
      "[Resample] iter 1:    0.6291756 \n",
      "\n",
      "[Resample] iter 2:    0.6384670 \n",
      "\n",
      "[Resample] iter 3:    0.6283371 \n",
      "\n",
      "[Resample] iter 4:    0.6305289 \n",
      "\n",
      "[Resample] iter 5:    0.6566023 \n",
      "\n",
      "[Resample] iter 6:    0.6383039 \n",
      "\n",
      "[Resample] iter 7:    0.6390840 \n",
      "\n",
      "[Resample] iter 8:    0.6480187 \n",
      "\n",
      "[Resample] iter 9:    0.6416375 \n",
      "\n",
      "[Resample] iter 10:   0.6298599 \n",
      "\n",
      "\n",
      "\n",
      "\n",
      "Aggregated Result: auc.test.mean=0.6380015\n",
      "\n",
      "\n",
      "\n",
      "\n"
     ]
    },
    {
     "data": {
      "text/plain": [
       "Resample Result\n",
       "Task: DF_Selected\n",
       "Learner: classif.rpart\n",
       "Aggr perf: auc.test.mean=0.6380015\n",
       "Runtime: 1.39025"
      ]
     },
     "metadata": {},
     "output_type": "display_data"
    }
   ],
   "source": [
    "# Set up cross-validation\n",
    "rdesc = makeResampleDesc(\"CV\", iters=10)\n",
    "\n",
    "# Define the model\n",
    "lnr_logreg <- makeLearner(\"classif.rpart\", predict.type=\"prob\", fix.factors.prediction=T)\n",
    "\n",
    "# Define the model\n",
    "task_logreg <- makeClassifTask( data=DF_Selected, target='default')\n",
    "\n",
    "# Run the k-fold CV\n",
    "resample(lnr_logreg, task_logreg, rdesc, measures=list(mlr::auc))"
   ]
  },
  {
   "cell_type": "code",
   "execution_count": null,
   "id": "b624795c",
   "metadata": {},
   "outputs": [],
   "source": []
  },
  {
   "cell_type": "markdown",
   "id": "1e2a07bb",
   "metadata": {},
   "source": [
    "#### 2.4 Random Forest"
   ]
  },
  {
   "cell_type": "code",
   "execution_count": 548,
   "id": "65e6f518",
   "metadata": {},
   "outputs": [
    {
     "name": "stderr",
     "output_type": "stream",
     "text": [
      "Resampling: cross-validation\n",
      "\n",
      "Measures:             auc       \n",
      "\n",
      "[Resample] iter 1:    0.6786841 \n",
      "\n",
      "[Resample] iter 2:    0.6960832 \n",
      "\n",
      "[Resample] iter 3:    0.6802825 \n",
      "\n",
      "[Resample] iter 4:    0.7014244 \n",
      "\n",
      "[Resample] iter 5:    0.7006141 \n",
      "\n",
      "[Resample] iter 6:    0.6657525 \n",
      "\n",
      "[Resample] iter 7:    0.6833860 \n",
      "\n",
      "[Resample] iter 8:    0.6321663 \n",
      "\n",
      "[Resample] iter 9:    0.6931773 \n",
      "\n",
      "[Resample] iter 10:   0.6980966 \n",
      "\n",
      "\n",
      "\n",
      "\n",
      "Aggregated Result: auc.test.mean=0.6829667\n",
      "\n",
      "\n",
      "\n",
      "\n"
     ]
    },
    {
     "data": {
      "text/plain": [
       "Resample Result\n",
       "Task: DF_Selected\n",
       "Learner: classif.randomForest\n",
       "Aggr perf: auc.test.mean=0.6829667\n",
       "Runtime: 101.936"
      ]
     },
     "metadata": {},
     "output_type": "display_data"
    }
   ],
   "source": [
    "# Set up cross-validation\n",
    "rdesc = makeResampleDesc(\"CV\", iters=10)\n",
    "\n",
    "# Define the model\n",
    "lnr_logreg <- makeLearner(\"classif.randomForest\", predict.type=\"prob\", fix.factors.prediction=T)\n",
    "\n",
    "# Define the model\n",
    "task_logreg <- makeClassifTask( data=DF_Selected, target='default')\n",
    "\n",
    "# Run the k-fold CV\n",
    "resample(lnr_logreg, task_logreg, rdesc, measures=list(mlr::auc))"
   ]
  },
  {
   "cell_type": "markdown",
   "id": "2329908c",
   "metadata": {},
   "source": [
    "#### XGBOOST "
   ]
  },
  {
   "cell_type": "code",
   "execution_count": 554,
   "id": "6696d97e",
   "metadata": {},
   "outputs": [
    {
     "name": "stderr",
     "output_type": "stream",
     "text": [
      "Resampling: cross-validation\n",
      "\n",
      "Measures:             auc       \n",
      "\n"
     ]
    },
    {
     "name": "stdout",
     "output_type": "stream",
     "text": [
      "[18:47:44] WARNING: amalgamation/../src/learner.cc:1115: Starting in XGBoost 1.3.0, the default evaluation metric used with the objective 'binary:logistic' was changed from 'error' to 'logloss'. Explicitly set eval_metric if you'd like to restore the old behavior.\n"
     ]
    },
    {
     "name": "stderr",
     "output_type": "stream",
     "text": [
      "[Resample] iter 1:    0.7493164 \n",
      "\n"
     ]
    },
    {
     "name": "stdout",
     "output_type": "stream",
     "text": [
      "[18:47:44] WARNING: amalgamation/../src/learner.cc:1115: Starting in XGBoost 1.3.0, the default evaluation metric used with the objective 'binary:logistic' was changed from 'error' to 'logloss'. Explicitly set eval_metric if you'd like to restore the old behavior.\n"
     ]
    },
    {
     "name": "stderr",
     "output_type": "stream",
     "text": [
      "[Resample] iter 2:    0.7513270 \n",
      "\n"
     ]
    },
    {
     "name": "stdout",
     "output_type": "stream",
     "text": [
      "[18:47:45] WARNING: amalgamation/../src/learner.cc:1115: Starting in XGBoost 1.3.0, the default evaluation metric used with the objective 'binary:logistic' was changed from 'error' to 'logloss'. Explicitly set eval_metric if you'd like to restore the old behavior.\n"
     ]
    },
    {
     "name": "stderr",
     "output_type": "stream",
     "text": [
      "[Resample] iter 3:    0.7352260 \n",
      "\n"
     ]
    },
    {
     "name": "stdout",
     "output_type": "stream",
     "text": [
      "[18:47:45] WARNING: amalgamation/../src/learner.cc:1115: Starting in XGBoost 1.3.0, the default evaluation metric used with the objective 'binary:logistic' was changed from 'error' to 'logloss'. Explicitly set eval_metric if you'd like to restore the old behavior.\n"
     ]
    },
    {
     "name": "stderr",
     "output_type": "stream",
     "text": [
      "[Resample] iter 4:    0.7527195 \n",
      "\n"
     ]
    },
    {
     "name": "stdout",
     "output_type": "stream",
     "text": [
      "[18:47:45] WARNING: amalgamation/../src/learner.cc:1115: Starting in XGBoost 1.3.0, the default evaluation metric used with the objective 'binary:logistic' was changed from 'error' to 'logloss'. Explicitly set eval_metric if you'd like to restore the old behavior.\n"
     ]
    },
    {
     "name": "stderr",
     "output_type": "stream",
     "text": [
      "[Resample] iter 5:    0.7551624 \n",
      "\n"
     ]
    },
    {
     "name": "stdout",
     "output_type": "stream",
     "text": [
      "[18:47:45] WARNING: amalgamation/../src/learner.cc:1115: Starting in XGBoost 1.3.0, the default evaluation metric used with the objective 'binary:logistic' was changed from 'error' to 'logloss'. Explicitly set eval_metric if you'd like to restore the old behavior.\n"
     ]
    },
    {
     "name": "stderr",
     "output_type": "stream",
     "text": [
      "[Resample] iter 6:    0.7357403 \n",
      "\n"
     ]
    },
    {
     "name": "stdout",
     "output_type": "stream",
     "text": [
      "[18:47:45] WARNING: amalgamation/../src/learner.cc:1115: Starting in XGBoost 1.3.0, the default evaluation metric used with the objective 'binary:logistic' was changed from 'error' to 'logloss'. Explicitly set eval_metric if you'd like to restore the old behavior.\n"
     ]
    },
    {
     "name": "stderr",
     "output_type": "stream",
     "text": [
      "[Resample] iter 7:    0.7496557 \n",
      "\n"
     ]
    },
    {
     "name": "stdout",
     "output_type": "stream",
     "text": [
      "[18:47:45] WARNING: amalgamation/../src/learner.cc:1115: Starting in XGBoost 1.3.0, the default evaluation metric used with the objective 'binary:logistic' was changed from 'error' to 'logloss'. Explicitly set eval_metric if you'd like to restore the old behavior.\n"
     ]
    },
    {
     "name": "stderr",
     "output_type": "stream",
     "text": [
      "[Resample] iter 8:    0.7721933 \n",
      "\n"
     ]
    },
    {
     "name": "stdout",
     "output_type": "stream",
     "text": [
      "[18:47:45] WARNING: amalgamation/../src/learner.cc:1115: Starting in XGBoost 1.3.0, the default evaluation metric used with the objective 'binary:logistic' was changed from 'error' to 'logloss'. Explicitly set eval_metric if you'd like to restore the old behavior.\n"
     ]
    },
    {
     "name": "stderr",
     "output_type": "stream",
     "text": [
      "[Resample] iter 9:    0.7635695 \n",
      "\n"
     ]
    },
    {
     "name": "stdout",
     "output_type": "stream",
     "text": [
      "[18:47:45] WARNING: amalgamation/../src/learner.cc:1115: Starting in XGBoost 1.3.0, the default evaluation metric used with the objective 'binary:logistic' was changed from 'error' to 'logloss'. Explicitly set eval_metric if you'd like to restore the old behavior.\n"
     ]
    },
    {
     "name": "stderr",
     "output_type": "stream",
     "text": [
      "[Resample] iter 10:   0.7142988 \n",
      "\n",
      "\n",
      "\n",
      "\n",
      "Aggregated Result: auc.test.mean=0.7479209\n",
      "\n",
      "\n",
      "\n",
      "\n"
     ]
    },
    {
     "data": {
      "text/plain": [
       "Resample Result\n",
       "Task: DF_Selected\n",
       "Learner: classif.xgboost\n",
       "Aggr perf: auc.test.mean=0.7479209\n",
       "Runtime: 0.842"
      ]
     },
     "metadata": {},
     "output_type": "display_data"
    }
   ],
   "source": [
    "# Set up cross-validation\n",
    "rdesc = makeResampleDesc(\"CV\", iters=10)\n",
    "\n",
    "# Define the model\n",
    "lnr_logreg <- makeLearner(\"classif.xgboost\", predict.type=\"prob\", fix.factors.prediction=T)\n",
    "\n",
    "# Define the model\n",
    "task_logreg <- makeClassifTask( data=DF_Selected, target='default')\n",
    "\n",
    "# Run the k-fold CV\n",
    "resample(lnr_logreg, task_logreg, rdesc, measures=list(mlr::auc))"
   ]
  },
  {
   "cell_type": "code",
   "execution_count": null,
   "id": "c0efdb8a",
   "metadata": {},
   "outputs": [],
   "source": []
  },
  {
   "cell_type": "code",
   "execution_count": null,
   "id": "035b9bd8",
   "metadata": {},
   "outputs": [],
   "source": []
  },
  {
   "cell_type": "code",
   "execution_count": null,
   "id": "2030a400",
   "metadata": {},
   "outputs": [],
   "source": []
  },
  {
   "cell_type": "code",
   "execution_count": null,
   "id": "30a3c6f5",
   "metadata": {},
   "outputs": [],
   "source": []
  },
  {
   "cell_type": "code",
   "execution_count": null,
   "id": "716d2d49",
   "metadata": {},
   "outputs": [],
   "source": []
  },
  {
   "cell_type": "code",
   "execution_count": null,
   "id": "c30dec3f",
   "metadata": {},
   "outputs": [],
   "source": []
  },
  {
   "cell_type": "code",
   "execution_count": null,
   "id": "8d95326d",
   "metadata": {},
   "outputs": [],
   "source": []
  },
  {
   "cell_type": "code",
   "execution_count": null,
   "id": "3a87ac79",
   "metadata": {},
   "outputs": [],
   "source": []
  }
 ],
 "metadata": {
  "kernelspec": {
   "display_name": "R",
   "language": "R",
   "name": "ir"
  },
  "language_info": {
   "codemirror_mode": "r",
   "file_extension": ".r",
   "mimetype": "text/x-r-source",
   "name": "R",
   "pygments_lexer": "r",
   "version": "4.0.5"
  }
 },
 "nbformat": 4,
 "nbformat_minor": 5
}
