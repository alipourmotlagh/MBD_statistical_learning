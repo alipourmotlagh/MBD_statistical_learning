{
 "cells": [
  {
   "cell_type": "markdown",
   "id": "439c08e3",
   "metadata": {},
   "source": [
    "<h1 style=\"text-align:center;color:#131313\"> Individual Assignment</h1>\n",
    "<h2>Description</h2>\n",
    "<p>here I</p>\n",
    "<author>Mohammad Hadi adlipour Motlagh</author>"
   ]
  },
  {
   "cell_type": "markdown",
   "id": "d10a1f82",
   "metadata": {},
   "source": [
    "<h2>Data Exploration</h2>"
   ]
  },
  {
   "cell_type": "markdown",
   "id": "ab2bd1a8",
   "metadata": {},
   "source": [
    "### 1. Import all required libraries and datasets"
   ]
  },
  {
   "cell_type": "code",
   "execution_count": 51,
   "id": "8d92f6ba",
   "metadata": {},
   "outputs": [
    {
     "data": {
      "text/html": [
       "'R version 4.0.5 (2021-03-31)'"
      ],
      "text/latex": [
       "'R version 4.0.5 (2021-03-31)'"
      ],
      "text/markdown": [
       "'R version 4.0.5 (2021-03-31)'"
      ],
      "text/plain": [
       "[1] \"R version 4.0.5 (2021-03-31)\""
      ]
     },
     "metadata": {},
     "output_type": "display_data"
    }
   ],
   "source": [
    "# Set environment params\n",
    "Sys.setenv(LANG='en')  # English\n",
    "\n",
    "# Import libraries\n",
    "# Data Manipulation\n",
    "library(data.table)    # Data manipulate\n",
    "library(dummies)       # Data processing\n",
    "library(tidyverse)     # Data Manipulation\n",
    "library(dplyr)         # Data Manipulation\n",
    "\n",
    "# Visualizatin\n",
    "library(ggplot2)       # Visualization\n",
    "library(gridExtra)     # Visualization\n",
    "library(plotrix)       # Draw circle\n",
    "\n",
    "# Machin Learnin Models\n",
    "library(mlr)           # ML toolkit\n",
    "library(caret)         # ML toolkit\n",
    "library(rgl)           # 3D plots\n",
    "library(e1071)         # Evaluation\n",
    "library(kknn)          # kNN model\n",
    "library(nnet)          # One-vs-All Logistic Regression\n",
    "library(tree)          # CART model\n",
    "library(randomForest)  # Bagging and RF\n",
    "library(gbm)           # Boosting tree\n",
    "\n",
    "# Evaluation\n",
    "library(pROC)          # AUC, ROC\n",
    "\n",
    "# Resize plot\n",
    "library(repr)  # String and binary representations\n",
    "# options(repr.plot.width=4, repr.plot.height=4)\n",
    "\n",
    "R.version.string"
   ]
  },
  {
   "cell_type": "markdown",
   "id": "54210d9c",
   "metadata": {},
   "source": [
    "### 2. Loading The Data"
   ]
  },
  {
   "cell_type": "code",
   "execution_count": 61,
   "id": "1cc8e63f",
   "metadata": {},
   "outputs": [
    {
     "name": "stdout",
     "output_type": "stream",
     "text": [
      "'data.frame':\t20000 obs. of  24 variables:\n",
      " $ LIMIT_BAL                 : int  70000 390000 60000 140000 50000 20000 50000 250000 320000 300000 ...\n",
      " $ SEX                       : int  1 2 1 2 1 1 1 1 2 1 ...\n",
      " $ EDUCATION                 : int  3 2 1 2 1 2 3 2 2 1 ...\n",
      " $ MARRIAGE                  : int  2 2 2 1 2 2 2 2 2 1 ...\n",
      " $ AGE                       : int  34 26 27 55 29 37 44 30 36 35 ...\n",
      " $ PAY_0                     : int  0 2 0 0 2 0 0 0 -2 0 ...\n",
      " $ PAY_2                     : int  0 2 0 0 2 0 0 0 -2 0 ...\n",
      " $ PAY_3                     : int  0 2 0 0 2 0 0 0 -2 0 ...\n",
      " $ PAY_4                     : int  0 0 0 0 0 0 2 -1 -2 0 ...\n",
      " $ PAY_5                     : int  0 0 0 0 0 0 0 2 -2 0 ...\n",
      " $ PAY_6                     : int  0 0 2 0 -2 0 0 -1 -2 0 ...\n",
      " $ BILL_AMT1                 : int  53972 185111 21387 108038 7881 20009 NA 5724 29862 91282 ...\n",
      " $ BILL_AMT2                 : int  23149 172865 22416 110216 10415 20602 50525 6729 33785 45885 ...\n",
      " $ BILL_AMT3                 : int  23968 153795 23444 84516 3997 21255 51463 4973 4900 35329 ...\n",
      " $ BILL_AMT4                 : int  25559 140387 26038 72391 1047 19105 49952 9693 15813 29368 ...\n",
      " $ BILL_AMT5                 : int  26134 128112 28607 61298 0 19609 19584 799 0 18833 ...\n",
      " $ BILL_AMT6                 : int  26715 115514 27997 62193 0 19283 19080 4295 0 93329 ...\n",
      " $ PAY_AMT1                  : int  1700 5000 1378 4200 3000 1700 1762 2000 5000 3260 ...\n",
      " $ PAY_AMT2                  : int  1500 3000 1406 2822 0 1600 4800 2305 4905 2240 ...\n",
      " $ PAY_AMT3                  : int  2000 5000 3000 2336 1000 1200 0 4720 15873 1505 ...\n",
      " $ PAY_AMT4                  : int  1000 4548 3000 2588 0 1000 837 0 0 1250 ...\n",
      " $ PAY_AMT5                  : int  1000 4100 0 2250 0 900 700 4305 0 80934 ...\n",
      " $ PAY_AMT6                  : int  2000 3300 923 2491 0 1000 1000 0 21657 2700 ...\n",
      " $ default.payment.next.month: int  0 0 1 0 1 0 0 0 1 0 ...\n"
     ]
    }
   ],
   "source": [
    "# Input data\n",
    "# cust_id                          : Custometr ID\n",
    "# LIMIT_BAL                        : Limit of the Balance (float)\n",
    "# SEX                              : Gender (binary)\n",
    "# EDUCATION                        : Education level (Categorical)\n",
    "# MARRIAGE                         : Status (binary)\n",
    "# AGE                              : Age (integer)\n",
    "# PAY_0                            : Payment of month 0 (integer)\n",
    "# PAY_2                            : Payment of month 2 (integer)\n",
    "# PAY_3                            : Payment of month 3 (integer)\n",
    "# PAY_4                            : Payment of month 4 (integer)\n",
    "# PAY_5                            : Payment of month 5 (integer)\n",
    "# PAY_6                            : Payment of month 6 (integer)\n",
    "# BILL_AMT1                        : Bill Amount of month 1 (integer)\n",
    "# BILL_AMT2                        : Bill Amount of month 2 (integer)\n",
    "# BILL_AMT3                        : Bill Amount of month 3 (integer)\n",
    "# BILL_AMT4                        : Bill Amount of month 4 (integer)\n",
    "# BILL_AMT5                        : Bill Amount of month 5 (integer)\n",
    "# BILL_AMT6                        : Bill Amount of month 6 (integer)\n",
    "# PAY_AMT1                         : ATM withdrawal Month 1 (integer)\n",
    "# PAY_AMT2                         : ATM withdrawal Month 2 (integer)\n",
    "# PAY_AMT3                         : ATM withdrawal Month 3 (integer)\n",
    "# PAY_AMT4                         : ATM withdrawal Month 4 (integer)\n",
    "# PAY_AMT5                         : ATM withdrawal Month 5 (integer)\n",
    "# PAY_AMT6                         : ATM withdrawal Month 6 (integer)\n",
    "# default.payment.next.month       : if the payment is default or no for next month (binary)\n",
    "# reading the table\n",
    "credit <- read.csv('./Data/credit_default_train.csv', row.names=1)\n",
    "#straucture  of the data\n",
    "str(credit)"
   ]
  },
  {
   "cell_type": "markdown",
   "id": "9ff66156",
   "metadata": {},
   "source": [
    "### 3. Preprocessing dealing with NAs"
   ]
  },
  {
   "cell_type": "code",
   "execution_count": 62,
   "id": "ed9ffdb8",
   "metadata": {},
   "outputs": [
    {
     "name": "stdout",
     "output_type": "stream",
     "text": [
      "[1] \"number of null values in LIMIT BALANC Column is equal to: 202\"\n",
      "[1] \"number of null values in Gender Column is equal to: 161\"\n",
      "[1] \"number of null values in EDUCATION Column is equal to: 199\"\n",
      "[1] \"number of null values in MARRIAGE Column is equal to: 170\"\n",
      "[1] \"number of null values in AGE Column is equal to: 214\"\n",
      "[1] \"number of null values in PAY_0 Column is equal to: 195\"\n",
      "[1] \"number of null values in PAY_2 Column is equal to: 219\"\n",
      "[1] \"number of null values in PAY_3 Column is equal to: 217\"\n",
      "[1] \"number of null values in PAY_4 Column is equal to: 199\"\n",
      "[1] \"number of null values in PAY_5 Column is equal to: 185\"\n",
      "[1] \"number of null values in PAY_5 Column is equal to: 203\"\n",
      "[1] \"number of null values in LIMIT BILL_AMT1 is equal to: 185\"\n",
      "[1] \"number of null values in LIMIT BILL_AMT2 is equal to: 209\"\n",
      "[1] \"number of null values in LIMIT BILL_AMT3 is equal to: 175\"\n",
      "[1] \"number of null values in LIMIT BILL_AMT4 is equal to: 165\"\n",
      "[1] \"number of null values in LIMIT BILL_AMT5 is equal to: 181\"\n",
      "[1] \"number of null values in LIMIT BILL_AMT6 is equal to: 197\"\n",
      "[1] \"number of null values in LIMIT PAY_AMT1 is equal to: 204\"\n",
      "[1] \"number of null values in LIMIT PAY_AMT2 is equal to: 184\"\n",
      "[1] \"number of null values in LIMIT PAY_AMT3 is equal to: 212\"\n",
      "[1] \"number of null values in LIMIT PAY_AMT4 is equal to: 197\"\n",
      "[1] \"number of null values in LIMIT PAY_AMT5 is equal to: 179\"\n",
      "[1] \"number of null values in LIMIT PAY_AMT6 is equal to: 196\"\n",
      "[1] \"number of null values in default.payment.next.month Column is equal to: 0\"\n"
     ]
    }
   ],
   "source": [
    "print(paste('number of null values in LIMIT BALANC Column is equal to:',sum(is.na(credit$LIMIT_BAL))))\n",
    "print(paste('number of null values in Gender Column is equal to:',sum(is.na(credit$SEX))))\n",
    "print(paste('number of null values in EDUCATION Column is equal to:',sum(is.na(credit$ EDUCATION))))\n",
    "print(paste('number of null values in MARRIAGE Column is equal to:',sum(is.na(credit$MARRIAGE))))\n",
    "print(paste('number of null values in AGE Column is equal to:',sum(is.na(credit$AGE))))\n",
    "print(paste('number of null values in PAY_0 Column is equal to:',sum(is.na(credit$PAY_0))))\n",
    "print(paste('number of null values in PAY_2 Column is equal to:',sum(is.na(credit$PAY_2))))\n",
    "print(paste('number of null values in PAY_3 Column is equal to:',sum(is.na(credit$PAY_3))))\n",
    "print(paste('number of null values in PAY_4 Column is equal to:',sum(is.na(credit$PAY_4))))\n",
    "print(paste('number of null values in PAY_5 Column is equal to:',sum(is.na(credit$PAY_5))))\n",
    "print(paste('number of null values in PAY_5 Column is equal to:',sum(is.na(credit$PAY_6))))\n",
    "print(paste('number of null values in LIMIT BILL_AMT1 is equal to:',sum(is.na(credit$BILL_AMT1))))\n",
    "print(paste('number of null values in LIMIT BILL_AMT2 is equal to:',sum(is.na(credit$BILL_AMT2))))\n",
    "print(paste('number of null values in LIMIT BILL_AMT3 is equal to:',sum(is.na(credit$BILL_AMT3))))\n",
    "print(paste('number of null values in LIMIT BILL_AMT4 is equal to:',sum(is.na(credit$BILL_AMT4))))\n",
    "print(paste('number of null values in LIMIT BILL_AMT5 is equal to:',sum(is.na(credit$BILL_AMT5))))\n",
    "print(paste('number of null values in LIMIT BILL_AMT6 is equal to:',sum(is.na(credit$BILL_AMT6))))\n",
    "print(paste('number of null values in LIMIT PAY_AMT1 is equal to:',sum(is.na(credit$PAY_AMT1))))\n",
    "print(paste('number of null values in LIMIT PAY_AMT2 is equal to:',sum(is.na(credit$PAY_AMT2))))\n",
    "print(paste('number of null values in LIMIT PAY_AMT3 is equal to:',sum(is.na(credit$PAY_AMT3))))\n",
    "print(paste('number of null values in LIMIT PAY_AMT4 is equal to:',sum(is.na(credit$PAY_AMT4))))\n",
    "print(paste('number of null values in LIMIT PAY_AMT5 is equal to:',sum(is.na(credit$PAY_AMT5))))\n",
    "print(paste('number of null values in LIMIT PAY_AMT6 is equal to:',sum(is.na(credit$PAY_AMT6))))\n",
    "print(paste('number of null values in default.payment.next.month Column is equal to:',sum(is.na(credit$default.payment.next.month))))"
   ]
  },
  {
   "cell_type": "code",
   "execution_count": 63,
   "id": "48ab863a",
   "metadata": {},
   "outputs": [
    {
     "data": {
      "text/html": [
       "4"
      ],
      "text/latex": [
       "4"
      ],
      "text/markdown": [
       "4"
      ],
      "text/plain": [
       "[1] 4"
      ]
     },
     "metadata": {},
     "output_type": "display_data"
    }
   ],
   "source": [
    "#the maximum number of NA in one row\n",
    "sum(is.na(credit[which.max(rowSums(is.na(credit))),]))"
   ]
  },
  {
   "cell_type": "code",
   "execution_count": 64,
   "id": "31b167c7",
   "metadata": {},
   "outputs": [],
   "source": [
    "#Dealing With NAs\n",
    "# here I use dplyr and fill NAs by most probable value of each comuln that can be median, average or the most popular\n",
    "# fill NAs of all columns with Median except categorical and binary columns\n",
    "# LIMIT_BAL\n",
    "credit[is.na(credit$LIMIT_BAL),]$LIMIT_BAL<-median(credit$LIMIT_BAL, na.rm = TRUE)\n",
    "# AGE\n",
    "credit[is.na(credit$AGE),]$AGE<-median(credit$AGE, na.rm = TRUE)\n",
    "# PAY_0\n",
    "credit[is.na(credit$PAY_0),]$PAY_0<-median(credit$PAY_0, na.rm = TRUE)\n",
    "# PAY_2\n",
    "credit[is.na(credit$PAY_2),]$PAY_2<-median(credit$PAY_2, na.rm = TRUE)\n",
    "# PAY_3\n",
    "credit[is.na(credit$PAY_3),]$PAY_3<-median(credit$PAY_3, na.rm = TRUE)\n",
    "# PAY_4\n",
    "credit[is.na(credit$PAY_4),]$PAY_4<-median(credit$PAY_4, na.rm = TRUE)\n",
    "# PAY_5\n",
    "credit[is.na(credit$PAY_5),]$PAY_5<-median(credit$PAY_5, na.rm = TRUE)\n",
    "# PAY_6\n",
    "credit[is.na(credit$PAY_6),]$PAY_6<-median(credit$PAY_6, na.rm = TRUE)\n",
    "# BILL_AMT1\n",
    "credit[is.na(credit$BILL_AMT1),]$BILL_AMT1<-median(credit$BILL_AMT1, na.rm = TRUE)\n",
    "# BILL_AMT2\n",
    "credit[is.na(credit$BILL_AMT2),]$BILL_AMT2<-median(credit$BILL_AMT2, na.rm = TRUE)\n",
    "# BILL_AMT3\n",
    "credit[is.na(credit$BILL_AMT3),]$BILL_AMT3<-median(credit$BILL_AMT3, na.rm = TRUE)\n",
    "# BILL_AMT4\n",
    "credit[is.na(credit$BILL_AMT4),]$BILL_AMT4<-median(credit$BILL_AMT4, na.rm = TRUE)\n",
    "# BILL_AMT5\n",
    "credit[is.na(credit$BILL_AMT5),]$BILL_AMT5<-median(credit$BILL_AMT5, na.rm = TRUE)\n",
    "# BILL_AMT6\n",
    "credit[is.na(credit$BILL_AMT6),]$BILL_AMT6<-median(credit$BILL_AMT6, na.rm = TRUE)\n",
    "# PAY_AMT1\n",
    "credit[is.na(credit$PAY_AMT1),]$PAY_AMT1<-median(credit$PAY_AMT1, na.rm = TRUE)\n",
    "# PAY_AMT2\n",
    "credit[is.na(credit$PAY_AMT2),]$PAY_AMT2<-median(credit$PAY_AMT2, na.rm = TRUE)\n",
    "# PAY_AMT3\n",
    "credit[is.na(credit$PAY_AMT3),]$PAY_AMT3<-median(credit$PAY_AMT3, na.rm = TRUE)\n",
    "# PAY_AMT4\n",
    "credit[is.na(credit$PAY_AMT4),]$PAY_AMT4<-median(credit$PAY_AMT4, na.rm = TRUE)\n",
    "# PAY_AMT5\n",
    "credit[is.na(credit$PAY_AMT5),]$PAY_AMT5<-median(credit$PAY_AMT5, na.rm = TRUE)\n",
    "# PAY_AMT6\n",
    "credit[is.na(credit$PAY_AMT6),]$PAY_AMT6<-median(credit$PAY_AMT6, na.rm = TRUE)"
   ]
  },
  {
   "cell_type": "code",
   "execution_count": 65,
   "id": "985e7328",
   "metadata": {},
   "outputs": [
    {
     "data": {
      "text/html": [
       "<table class=\"dataframe\">\n",
       "<caption>A data.frame: 3 × 2</caption>\n",
       "<thead>\n",
       "\t<tr><th scope=col>SEX</th><th scope=col>n</th></tr>\n",
       "\t<tr><th scope=col>&lt;int&gt;</th><th scope=col>&lt;int&gt;</th></tr>\n",
       "</thead>\n",
       "<tbody>\n",
       "\t<tr><td> 1</td><td> 7855</td></tr>\n",
       "\t<tr><td> 2</td><td>11984</td></tr>\n",
       "\t<tr><td>NA</td><td>  161</td></tr>\n",
       "</tbody>\n",
       "</table>\n"
      ],
      "text/latex": [
       "A data.frame: 3 × 2\n",
       "\\begin{tabular}{ll}\n",
       " SEX & n\\\\\n",
       " <int> & <int>\\\\\n",
       "\\hline\n",
       "\t  1 &  7855\\\\\n",
       "\t  2 & 11984\\\\\n",
       "\t NA &   161\\\\\n",
       "\\end{tabular}\n"
      ],
      "text/markdown": [
       "\n",
       "A data.frame: 3 × 2\n",
       "\n",
       "| SEX &lt;int&gt; | n &lt;int&gt; |\n",
       "|---|---|\n",
       "|  1 |  7855 |\n",
       "|  2 | 11984 |\n",
       "| NA |   161 |\n",
       "\n"
      ],
      "text/plain": [
       "  SEX n    \n",
       "1  1   7855\n",
       "2  2  11984\n",
       "3 NA    161"
      ]
     },
     "metadata": {},
     "output_type": "display_data"
    }
   ],
   "source": [
    "# diferent groups\n",
    "credit%>%count(SEX)\n",
    "# NAs of sex with most frequent gender which is 2\n",
    "credit[is.na(credit$SEX),]$SEX<-2"
   ]
  },
  {
   "cell_type": "code",
   "execution_count": 66,
   "id": "1d18d228",
   "metadata": {},
   "outputs": [
    {
     "data": {
      "text/html": [
       "<table class=\"dataframe\">\n",
       "<caption>A data.frame: 8 × 2</caption>\n",
       "<thead>\n",
       "\t<tr><th scope=col>EDUCATION</th><th scope=col>n</th></tr>\n",
       "\t<tr><th scope=col>&lt;int&gt;</th><th scope=col>&lt;int&gt;</th></tr>\n",
       "</thead>\n",
       "<tbody>\n",
       "\t<tr><td> 0</td><td>   8</td></tr>\n",
       "\t<tr><td> 1</td><td>6987</td></tr>\n",
       "\t<tr><td> 2</td><td>9285</td></tr>\n",
       "\t<tr><td> 3</td><td>3225</td></tr>\n",
       "\t<tr><td> 4</td><td>  77</td></tr>\n",
       "\t<tr><td> 5</td><td> 184</td></tr>\n",
       "\t<tr><td> 6</td><td>  35</td></tr>\n",
       "\t<tr><td>NA</td><td> 199</td></tr>\n",
       "</tbody>\n",
       "</table>\n"
      ],
      "text/latex": [
       "A data.frame: 8 × 2\n",
       "\\begin{tabular}{ll}\n",
       " EDUCATION & n\\\\\n",
       " <int> & <int>\\\\\n",
       "\\hline\n",
       "\t  0 &    8\\\\\n",
       "\t  1 & 6987\\\\\n",
       "\t  2 & 9285\\\\\n",
       "\t  3 & 3225\\\\\n",
       "\t  4 &   77\\\\\n",
       "\t  5 &  184\\\\\n",
       "\t  6 &   35\\\\\n",
       "\t NA &  199\\\\\n",
       "\\end{tabular}\n"
      ],
      "text/markdown": [
       "\n",
       "A data.frame: 8 × 2\n",
       "\n",
       "| EDUCATION &lt;int&gt; | n &lt;int&gt; |\n",
       "|---|---|\n",
       "|  0 |    8 |\n",
       "|  1 | 6987 |\n",
       "|  2 | 9285 |\n",
       "|  3 | 3225 |\n",
       "|  4 |   77 |\n",
       "|  5 |  184 |\n",
       "|  6 |   35 |\n",
       "| NA |  199 |\n",
       "\n"
      ],
      "text/plain": [
       "  EDUCATION n   \n",
       "1  0           8\n",
       "2  1        6987\n",
       "3  2        9285\n",
       "4  3        3225\n",
       "5  4          77\n",
       "6  5         184\n",
       "7  6          35\n",
       "8 NA         199"
      ]
     },
     "metadata": {},
     "output_type": "display_data"
    }
   ],
   "source": [
    "# diferent groups\n",
    "credit%>%count(EDUCATION)\n",
    "# NAs of EDUCATION with most frequent group which is 2\n",
    "credit[is.na(credit$ EDUCATION),]$ EDUCATION<-2"
   ]
  },
  {
   "cell_type": "code",
   "execution_count": 67,
   "id": "1c11fd27",
   "metadata": {},
   "outputs": [
    {
     "data": {
      "text/html": [
       "<table class=\"dataframe\">\n",
       "<caption>A data.frame: 5 × 2</caption>\n",
       "<thead>\n",
       "\t<tr><th scope=col>MARRIAGE</th><th scope=col>n</th></tr>\n",
       "\t<tr><th scope=col>&lt;int&gt;</th><th scope=col>&lt;int&gt;</th></tr>\n",
       "</thead>\n",
       "<tbody>\n",
       "\t<tr><td> 0</td><td>   36</td></tr>\n",
       "\t<tr><td> 1</td><td> 8958</td></tr>\n",
       "\t<tr><td> 2</td><td>10623</td></tr>\n",
       "\t<tr><td> 3</td><td>  213</td></tr>\n",
       "\t<tr><td>NA</td><td>  170</td></tr>\n",
       "</tbody>\n",
       "</table>\n"
      ],
      "text/latex": [
       "A data.frame: 5 × 2\n",
       "\\begin{tabular}{ll}\n",
       " MARRIAGE & n\\\\\n",
       " <int> & <int>\\\\\n",
       "\\hline\n",
       "\t  0 &    36\\\\\n",
       "\t  1 &  8958\\\\\n",
       "\t  2 & 10623\\\\\n",
       "\t  3 &   213\\\\\n",
       "\t NA &   170\\\\\n",
       "\\end{tabular}\n"
      ],
      "text/markdown": [
       "\n",
       "A data.frame: 5 × 2\n",
       "\n",
       "| MARRIAGE &lt;int&gt; | n &lt;int&gt; |\n",
       "|---|---|\n",
       "|  0 |    36 |\n",
       "|  1 |  8958 |\n",
       "|  2 | 10623 |\n",
       "|  3 |   213 |\n",
       "| NA |   170 |\n",
       "\n"
      ],
      "text/plain": [
       "  MARRIAGE n    \n",
       "1  0          36\n",
       "2  1        8958\n",
       "3  2       10623\n",
       "4  3         213\n",
       "5 NA         170"
      ]
     },
     "metadata": {},
     "output_type": "display_data"
    }
   ],
   "source": [
    "# diferent groups\n",
    "credit%>%count(MARRIAGE)\n",
    "# NAs of MARRIAGE with most frequent group which is 2\n",
    "credit[is.na(credit$MARRIAGE),]$MARRIAGE<-2"
   ]
  },
  {
   "cell_type": "code",
   "execution_count": 73,
   "id": "b176e726",
   "metadata": {},
   "outputs": [],
   "source": [
    "credit<-credit%>%rename(default=default.payment.next.month)\n",
    "fwrite(credit,'./Data/final_table_credit.csv')"
   ]
  },
  {
   "cell_type": "markdown",
   "id": "6e6e4ce4",
   "metadata": {},
   "source": [
    "### 4. Data Exploration"
   ]
  },
  {
   "cell_type": "code",
   "execution_count": 74,
   "id": "80cea8ce",
   "metadata": {},
   "outputs": [
    {
     "name": "stdout",
     "output_type": "stream",
     "text": [
      "'data.frame':\t20000 obs. of  24 variables:\n",
      " $ LIMIT_BAL: num  70000 390000 60000 140000 50000 20000 50000 250000 320000 300000 ...\n",
      " $ SEX      : int  1 2 1 2 1 1 1 1 2 1 ...\n",
      " $ EDUCATION: int  3 2 1 2 1 2 3 2 2 1 ...\n",
      " $ MARRIAGE : int  2 2 2 1 2 2 2 2 2 1 ...\n",
      " $ AGE      : int  34 26 27 55 29 37 44 30 36 35 ...\n",
      " $ PAY_0    : int  0 2 0 0 2 0 0 0 -2 0 ...\n",
      " $ PAY_2    : int  0 2 0 0 2 0 0 0 -2 0 ...\n",
      " $ PAY_3    : int  0 2 0 0 2 0 0 0 -2 0 ...\n",
      " $ PAY_4    : int  0 0 0 0 0 0 2 -1 -2 0 ...\n",
      " $ PAY_5    : int  0 0 0 0 0 0 0 2 -2 0 ...\n",
      " $ PAY_6    : int  0 0 2 0 -2 0 0 -1 -2 0 ...\n",
      " $ BILL_AMT1: int  53972 185111 21387 108038 7881 20009 22221 5724 29862 91282 ...\n",
      " $ BILL_AMT2: int  23149 172865 22416 110216 10415 20602 50525 6729 33785 45885 ...\n",
      " $ BILL_AMT3: int  23968 153795 23444 84516 3997 21255 51463 4973 4900 35329 ...\n",
      " $ BILL_AMT4: int  25559 140387 26038 72391 1047 19105 49952 9693 15813 29368 ...\n",
      " $ BILL_AMT5: int  26134 128112 28607 61298 0 19609 19584 799 0 18833 ...\n",
      " $ BILL_AMT6: int  26715 115514 27997 62193 0 19283 19080 4295 0 93329 ...\n",
      " $ PAY_AMT1 : num  1700 5000 1378 4200 3000 ...\n",
      " $ PAY_AMT2 : num  1500 3000 1406 2822 0 ...\n",
      " $ PAY_AMT3 : num  2000 5000 3000 2336 1000 ...\n",
      " $ PAY_AMT4 : int  1000 4548 3000 2588 0 1000 837 0 0 1250 ...\n",
      " $ PAY_AMT5 : int  1000 4100 0 2250 0 900 700 4305 0 80934 ...\n",
      " $ PAY_AMT6 : num  2000 3300 923 2491 0 ...\n",
      " $ default  : int  0 0 1 0 1 0 0 0 1 0 ...\n"
     ]
    }
   ],
   "source": [
    "# reading the table\n",
    "DF <- read.csv('./Data/final_table_credit.csv')\n",
    "#straucture  of the data\n",
    "str(DF)"
   ]
  },
  {
   "cell_type": "code",
   "execution_count": 71,
   "id": "c3fcd6c3",
   "metadata": {},
   "outputs": [
    {
     "data": {
      "text/html": [
       "0"
      ],
      "text/latex": [
       "0"
      ],
      "text/markdown": [
       "0"
      ],
      "text/plain": [
       "[1] 0"
      ]
     },
     "metadata": {},
     "output_type": "display_data"
    }
   ],
   "source": [
    "sum(is.na(DF))"
   ]
  },
  {
   "cell_type": "code",
   "execution_count": 76,
   "id": "83717e2d",
   "metadata": {},
   "outputs": [
    {
     "data": {
      "image/png": "[encoded data removed]",
      "text/plain": [
       "plot without title"
      ]
     },
     "metadata": {
      "image/png": {
       "height": 600,
       "width": 600
      }
     },
     "output_type": "display_data"
    }
   ],
   "source": [
    "# Pair plot Default VS PAY\n",
    "options(repr.plot.width=10, repr.plot.height=10)\n",
    "cols <- rep('blue', nrow(DF))  # no default\n",
    "cols[DF$default == 0] <- 'red'  # Default\n",
    "D.VS.Pay<-pairs(default ~ PAY_0 + PAY_2 + PAY_3 + PAY_4 + PAY_5 + PAY_6 , data=DF, col=cols)\n",
    "D.VS.Pay"
   ]
  },
  {
   "cell_type": "code",
   "execution_count": null,
   "id": "4266a3ea",
   "metadata": {},
   "outputs": [
    {
     "data": {
      "text/plain": [
       "NULL"
      ]
     },
     "metadata": {},
     "output_type": "display_data"
    }
   ],
   "source": [
    "# Pair plot Default VS Bill\n",
    "options(repr.plot.width=10, repr.plot.height=10)\n",
    "cols <- rep('blue', nrow(DF))  # no default\n",
    "cols[DF$default == 0] <- 'red'  # Default\n",
    "D.VS.Bill<-pairs(default ~ BILL_AMT1 + BILL_AMT2 +\n",
    "                 BILL_AMT3 + BILL_AMT4 + BILL_AMT5 + BILL_AMT6 , data=DF, col=cols)\n",
    "D.VS.Bill"
   ]
  },
  {
   "cell_type": "code",
   "execution_count": null,
   "id": "802ca9d5",
   "metadata": {},
   "outputs": [],
   "source": []
  }
 ],
 "metadata": {
  "kernelspec": {
   "display_name": "R",
   "language": "R",
   "name": "ir"
  },
  "language_info": {
   "codemirror_mode": "r",
   "file_extension": ".r",
   "mimetype": "text/x-r-source",
   "name": "R",
   "pygments_lexer": "r",
   "version": "4.0.5"
  }
 },
 "nbformat": 4,
 "nbformat_minor": 5
}
