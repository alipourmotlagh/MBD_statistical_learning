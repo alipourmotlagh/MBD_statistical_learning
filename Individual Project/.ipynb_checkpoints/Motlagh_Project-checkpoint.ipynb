{
 "cells": [
  {
   "cell_type": "markdown",
   "id": "85323e7f",
   "metadata": {},
   "source": [
    "<h1 style=\"text-align:center;color:#131313\"> Individual Assignment</h1>\n",
    "<h2>Description</h2>\n",
    "<p>here I</p>\n",
    "<author>Mohammad Hadi adlipour Motlagh</author>"
   ]
  },
  {
   "cell_type": "markdown",
   "id": "53a91c06",
   "metadata": {},
   "source": [
    "<h2>Data Exploration</h2>"
   ]
  },
  {
   "cell_type": "markdown",
   "id": "d29beb12",
   "metadata": {},
   "source": [
    "### 1. Import all required libraries and datasets"
   ]
  },
  {
   "cell_type": "code",
   "execution_count": null,
   "id": "eb9d40c5",
   "metadata": {},
   "outputs": [],
   "source": [
    "# Set environment params\n",
    "Sys.setenv(LANG='en')  # English\n",
    "\n",
    "# Import libraries\n",
    "# Data Manipulation\n",
    "library(data.table)    # Data manipulate\n",
    "library(dummies)       # Data processing\n",
    "linbrary (tidyverse)   # Data Manipulation\n",
    "library(dplyr)         # Data Manipulation\n",
    "\n",
    "# Visualizatin\n",
    "library(ggplot2)       # Visualization\n",
    "library(gridExtra)     # Visualization\n",
    "library(plotrix)       # Draw circle\n",
    "\n",
    "# Machin Learnin Models\n",
    "library(mlr)           # ML toolkit\n",
    "library(caret)         # ML toolkit\n",
    "library(rgl)           # 3D plots\n",
    "library(e1071)         # Evaluation\n",
    "library(kknn)          # kNN model\n",
    "library(nnet)          # One-vs-All Logistic Regression\n",
    "library(tree)          # CART model\n",
    "library(randomForest)  # Bagging and RF\n",
    "library(gbm)           # Boosting tree\n",
    "\n",
    "# Evaluation\n",
    "library(pROC)          # AUC, ROC\n",
    "\n",
    "# Resize plot\n",
    "library(repr)  # String and binary representations\n",
    "# options(repr.plot.width=4, repr.plot.height=4)\n",
    "\n",
    "R.version.string"
   ]
  },
  {
   "cell_type": "markdown",
   "id": "71041d78",
   "metadata": {},
   "source": [
    "### 2. Loading The Data"
   ]
  },
  {
   "cell_type": "code",
   "execution_count": 1,
   "id": "ca658039",
   "metadata": {},
   "outputs": [
    {
     "name": "stdout",
     "output_type": "stream",
     "text": [
      "'data.frame':\t20000 obs. of  24 variables:\n",
      " $ LIMIT_BAL                 : int  70000 390000 60000 140000 50000 20000 50000 250000 320000 300000 ...\n",
      " $ SEX                       : int  1 2 1 2 1 1 1 1 2 1 ...\n",
      " $ EDUCATION                 : int  3 2 1 2 1 2 3 2 2 1 ...\n",
      " $ MARRIAGE                  : int  2 2 2 1 2 2 2 2 2 1 ...\n",
      " $ AGE                       : int  34 26 27 55 29 37 44 30 36 35 ...\n",
      " $ PAY_0                     : int  0 2 0 0 2 0 0 0 -2 0 ...\n",
      " $ PAY_2                     : int  0 2 0 0 2 0 0 0 -2 0 ...\n",
      " $ PAY_3                     : int  0 2 0 0 2 0 0 0 -2 0 ...\n",
      " $ PAY_4                     : int  0 0 0 0 0 0 2 -1 -2 0 ...\n",
      " $ PAY_5                     : int  0 0 0 0 0 0 0 2 -2 0 ...\n",
      " $ PAY_6                     : int  0 0 2 0 -2 0 0 -1 -2 0 ...\n",
      " $ BILL_AMT1                 : int  53972 185111 21387 108038 7881 20009 NA 5724 29862 91282 ...\n",
      " $ BILL_AMT2                 : int  23149 172865 22416 110216 10415 20602 50525 6729 33785 45885 ...\n",
      " $ BILL_AMT3                 : int  23968 153795 23444 84516 3997 21255 51463 4973 4900 35329 ...\n",
      " $ BILL_AMT4                 : int  25559 140387 26038 72391 1047 19105 49952 9693 15813 29368 ...\n",
      " $ BILL_AMT5                 : int  26134 128112 28607 61298 0 19609 19584 799 0 18833 ...\n",
      " $ BILL_AMT6                 : int  26715 115514 27997 62193 0 19283 19080 4295 0 93329 ...\n",
      " $ PAY_AMT1                  : int  1700 5000 1378 4200 3000 1700 1762 2000 5000 3260 ...\n",
      " $ PAY_AMT2                  : int  1500 3000 1406 2822 0 1600 4800 2305 4905 2240 ...\n",
      " $ PAY_AMT3                  : int  2000 5000 3000 2336 1000 1200 0 4720 15873 1505 ...\n",
      " $ PAY_AMT4                  : int  1000 4548 3000 2588 0 1000 837 0 0 1250 ...\n",
      " $ PAY_AMT5                  : int  1000 4100 0 2250 0 900 700 4305 0 80934 ...\n",
      " $ PAY_AMT6                  : int  2000 3300 923 2491 0 1000 1000 0 21657 2700 ...\n",
      " $ default.payment.next.month: int  0 0 1 0 1 0 0 0 1 0 ...\n"
     ]
    }
   ],
   "source": [
    "# Input data\n",
    "# cust_id                          : Custometr ID\n",
    "# LIMIT_BAL                        : Limit of the Balance (float)\n",
    "# SEX                              : Gender (binary)\n",
    "# EDUCATION                        : Education level (Categorical)\n",
    "# MARRIAGE                         : Status (binary)\n",
    "# AGE                              : Age (integer)\n",
    "# PAY_0                            : Payment of month 0 (integer)\n",
    "# PAY_2                            : Payment of month 2 (integer)\n",
    "# PAY_3                            : Payment of month 3 (integer)\n",
    "# PAY_4                            : Payment of month 4 (integer)\n",
    "# PAY_5                            : Payment of month 5 (integer)\n",
    "# PAY_6                            : Payment of month 6 (integer)\n",
    "# BILL_AMT1                        : Bill Amount of month 1 (integer)\n",
    "# BILL_AMT2                        : Bill Amount of month 2 (integer)\n",
    "# BILL_AMT3                        : Bill Amount of month 3 (integer)\n",
    "# BILL_AMT4                        : Bill Amount of month 4 (integer)\n",
    "# BILL_AMT5                        : Bill Amount of month 5 (integer)\n",
    "# BILL_AMT6                        : Bill Amount of month 6 (integer)\n",
    "# PAY_AMT1                         : ATM withdrawal Month 1 (integer)\n",
    "# PAY_AMT2                         : ATM withdrawal Month 2 (integer)\n",
    "# PAY_AMT3                         : ATM withdrawal Month 3 (integer)\n",
    "# PAY_AMT4                         : ATM withdrawal Month 4 (integer)\n",
    "# PAY_AMT5                         : ATM withdrawal Month 5 (integer)\n",
    "# PAY_AMT6                         : ATM withdrawal Month 6 (integer)\n",
    "# default.payment.next.month       : if the payment is default or no for next month (binary)\n",
    "\n",
    "credit <- read.csv('./Data/credit_default_train.csv', row.names=1)\n",
    "str(credit)"
   ]
  },
  {
   "cell_type": "code",
   "execution_count": null,
   "id": "ea4e69c9",
   "metadata": {},
   "outputs": [],
   "source": []
  }
 ],
 "metadata": {
  "kernelspec": {
   "display_name": "R",
   "language": "R",
   "name": "ir"
  },
  "language_info": {
   "codemirror_mode": "r",
   "file_extension": ".r",
   "mimetype": "text/x-r-source",
   "name": "R",
   "pygments_lexer": "r",
   "version": "4.0.5"
  }
 },
 "nbformat": 4,
 "nbformat_minor": 5
}
