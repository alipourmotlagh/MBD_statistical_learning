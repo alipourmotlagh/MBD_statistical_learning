{
 "cells": [
  {
   "cell_type": "markdown",
   "id": "8e60ab43",
   "metadata": {},
   "source": [
    "<h1 style=\"text-align:center;color:#131313\"> Individual Assignment</h1>\n",
    "<h2>Description</h2>\n",
    "<p>here I</p>\n",
    "<author>Mohammad Hadi adlipour Motlagh</author>"
   ]
  },
  {
   "cell_type": "markdown",
   "id": "5999b684",
   "metadata": {},
   "source": [
    "<h2>Data Exploration</h2>"
   ]
  },
  {
   "cell_type": "markdown",
   "id": "b5dc5a20",
   "metadata": {},
   "source": [
    "### 1. Import all required libraries and datasets"
   ]
  },
  {
   "cell_type": "code",
   "execution_count": 306,
   "id": "5faedd82",
   "metadata": {},
   "outputs": [
    {
     "data": {
      "text/html": [
       "'R version 4.0.5 (2021-03-31)'"
      ],
      "text/latex": [
       "'R version 4.0.5 (2021-03-31)'"
      ],
      "text/markdown": [
       "'R version 4.0.5 (2021-03-31)'"
      ],
      "text/plain": [
       "[1] \"R version 4.0.5 (2021-03-31)\""
      ]
     },
     "metadata": {},
     "output_type": "display_data"
    }
   ],
   "source": [
    "# Set environment params\n",
    "Sys.setenv(LANG='en')  # English\n",
    "\n",
    "# Import libraries\n",
    "# Data Manipulation\n",
    "library(data.table)    # Data manipulate\n",
    "library(dummies)       # Data processing\n",
    "library(tidyverse)     # Data Manipulation\n",
    "library(dplyr)         # Data Manipulation\n",
    "\n",
    "# Visualizatin\n",
    "library(ggplot2)       # Visualization\n",
    "library(gridExtra)     # Visualization\n",
    "library(plotrix)       # Draw circle\n",
    "\n",
    "\n",
    "# Feature Selection\n",
    "library(leaps)\n",
    "\n",
    "# Machin Learnin Models\n",
    "library(mlr)           # ML toolkit\n",
    "library(caret)         # ML toolkit\n",
    "library(rgl)           # 3D plots\n",
    "library(e1071)         # Evaluation\n",
    "library(kknn)          # kNN model\n",
    "library(nnet)          # One-vs-All Logistic Regression\n",
    "library(tree)          # CART model\n",
    "library(randomForest)  # Bagging and RF\n",
    "library(gbm)           # Boosting tree\n",
    "library(glmnet)        # Rgid and Lasso Regression Models\n",
    "library(pls)\n",
    "library(mgcv)          # GAM\n",
    "library(sp)\n",
    "\n",
    "# Evaluation\n",
    "library(pROC)          # AUC, ROC\n",
    "\n",
    "# Resize plot\n",
    "library(repr)  # String and binary representations\n",
    "# options(repr.plot.width=4, repr.plot.height=4)\n",
    "\n",
    "R.version.string"
   ]
  },
  {
   "cell_type": "markdown",
   "id": "63d9bf6d",
   "metadata": {},
   "source": [
    "### 2. Loading The Data"
   ]
  },
  {
   "cell_type": "code",
   "execution_count": 61,
   "id": "990c0e9a",
   "metadata": {},
   "outputs": [
    {
     "name": "stdout",
     "output_type": "stream",
     "text": [
      "'data.frame':\t20000 obs. of  24 variables:\n",
      " $ LIMIT_BAL                 : int  70000 390000 60000 140000 50000 20000 50000 250000 320000 300000 ...\n",
      " $ SEX                       : int  1 2 1 2 1 1 1 1 2 1 ...\n",
      " $ EDUCATION                 : int  3 2 1 2 1 2 3 2 2 1 ...\n",
      " $ MARRIAGE                  : int  2 2 2 1 2 2 2 2 2 1 ...\n",
      " $ AGE                       : int  34 26 27 55 29 37 44 30 36 35 ...\n",
      " $ PAY_0                     : int  0 2 0 0 2 0 0 0 -2 0 ...\n",
      " $ PAY_2                     : int  0 2 0 0 2 0 0 0 -2 0 ...\n",
      " $ PAY_3                     : int  0 2 0 0 2 0 0 0 -2 0 ...\n",
      " $ PAY_4                     : int  0 0 0 0 0 0 2 -1 -2 0 ...\n",
      " $ PAY_5                     : int  0 0 0 0 0 0 0 2 -2 0 ...\n",
      " $ PAY_6                     : int  0 0 2 0 -2 0 0 -1 -2 0 ...\n",
      " $ BILL_AMT1                 : int  53972 185111 21387 108038 7881 20009 NA 5724 29862 91282 ...\n",
      " $ BILL_AMT2                 : int  23149 172865 22416 110216 10415 20602 50525 6729 33785 45885 ...\n",
      " $ BILL_AMT3                 : int  23968 153795 23444 84516 3997 21255 51463 4973 4900 35329 ...\n",
      " $ BILL_AMT4                 : int  25559 140387 26038 72391 1047 19105 49952 9693 15813 29368 ...\n",
      " $ BILL_AMT5                 : int  26134 128112 28607 61298 0 19609 19584 799 0 18833 ...\n",
      " $ BILL_AMT6                 : int  26715 115514 27997 62193 0 19283 19080 4295 0 93329 ...\n",
      " $ PAY_AMT1                  : int  1700 5000 1378 4200 3000 1700 1762 2000 5000 3260 ...\n",
      " $ PAY_AMT2                  : int  1500 3000 1406 2822 0 1600 4800 2305 4905 2240 ...\n",
      " $ PAY_AMT3                  : int  2000 5000 3000 2336 1000 1200 0 4720 15873 1505 ...\n",
      " $ PAY_AMT4                  : int  1000 4548 3000 2588 0 1000 837 0 0 1250 ...\n",
      " $ PAY_AMT5                  : int  1000 4100 0 2250 0 900 700 4305 0 80934 ...\n",
      " $ PAY_AMT6                  : int  2000 3300 923 2491 0 1000 1000 0 21657 2700 ...\n",
      " $ default.payment.next.month: int  0 0 1 0 1 0 0 0 1 0 ...\n"
     ]
    }
   ],
   "source": [
    "# Input data\n",
    "# cust_id                          : Custometr ID\n",
    "# LIMIT_BAL                        : Limit of the Balance (float)\n",
    "# SEX                              : Gender (binary)\n",
    "# EDUCATION                        : Education level (Categorical)\n",
    "# MARRIAGE                         : Status (binary)\n",
    "# AGE                              : Age (integer)\n",
    "# PAY_0                            : Payment of month 0 (integer)\n",
    "# PAY_2                            : Payment of month 2 (integer)\n",
    "# PAY_3                            : Payment of month 3 (integer)\n",
    "# PAY_4                            : Payment of month 4 (integer)\n",
    "# PAY_5                            : Payment of month 5 (integer)\n",
    "# PAY_6                            : Payment of month 6 (integer)\n",
    "# BILL_AMT1                        : Bill Amount of month 1 (integer)\n",
    "# BILL_AMT2                        : Bill Amount of month 2 (integer)\n",
    "# BILL_AMT3                        : Bill Amount of month 3 (integer)\n",
    "# BILL_AMT4                        : Bill Amount of month 4 (integer)\n",
    "# BILL_AMT5                        : Bill Amount of month 5 (integer)\n",
    "# BILL_AMT6                        : Bill Amount of month 6 (integer)\n",
    "# PAY_AMT1                         : ATM withdrawal Month 1 (integer)\n",
    "# PAY_AMT2                         : ATM withdrawal Month 2 (integer)\n",
    "# PAY_AMT3                         : ATM withdrawal Month 3 (integer)\n",
    "# PAY_AMT4                         : ATM withdrawal Month 4 (integer)\n",
    "# PAY_AMT5                         : ATM withdrawal Month 5 (integer)\n",
    "# PAY_AMT6                         : ATM withdrawal Month 6 (integer)\n",
    "# default.payment.next.month       : if the payment is default or no for next month (binary)\n",
    "# reading the table\n",
    "credit <- read.csv('./Data/credit_default_train.csv', row.names=1)\n",
    "#straucture  of the data\n",
    "str(credit)"
   ]
  },
  {
   "cell_type": "markdown",
   "id": "989db1c3",
   "metadata": {},
   "source": [
    "### 3. Preprocessing dealing with NAs"
   ]
  },
  {
   "cell_type": "code",
   "execution_count": 62,
   "id": "3441e714",
   "metadata": {},
   "outputs": [
    {
     "name": "stdout",
     "output_type": "stream",
     "text": [
      "[1] \"number of null values in LIMIT BALANC Column is equal to: 202\"\n",
      "[1] \"number of null values in Gender Column is equal to: 161\"\n",
      "[1] \"number of null values in EDUCATION Column is equal to: 199\"\n",
      "[1] \"number of null values in MARRIAGE Column is equal to: 170\"\n",
      "[1] \"number of null values in AGE Column is equal to: 214\"\n",
      "[1] \"number of null values in PAY_0 Column is equal to: 195\"\n",
      "[1] \"number of null values in PAY_2 Column is equal to: 219\"\n",
      "[1] \"number of null values in PAY_3 Column is equal to: 217\"\n",
      "[1] \"number of null values in PAY_4 Column is equal to: 199\"\n",
      "[1] \"number of null values in PAY_5 Column is equal to: 185\"\n",
      "[1] \"number of null values in PAY_5 Column is equal to: 203\"\n",
      "[1] \"number of null values in LIMIT BILL_AMT1 is equal to: 185\"\n",
      "[1] \"number of null values in LIMIT BILL_AMT2 is equal to: 209\"\n",
      "[1] \"number of null values in LIMIT BILL_AMT3 is equal to: 175\"\n",
      "[1] \"number of null values in LIMIT BILL_AMT4 is equal to: 165\"\n",
      "[1] \"number of null values in LIMIT BILL_AMT5 is equal to: 181\"\n",
      "[1] \"number of null values in LIMIT BILL_AMT6 is equal to: 197\"\n",
      "[1] \"number of null values in LIMIT PAY_AMT1 is equal to: 204\"\n",
      "[1] \"number of null values in LIMIT PAY_AMT2 is equal to: 184\"\n",
      "[1] \"number of null values in LIMIT PAY_AMT3 is equal to: 212\"\n",
      "[1] \"number of null values in LIMIT PAY_AMT4 is equal to: 197\"\n",
      "[1] \"number of null values in LIMIT PAY_AMT5 is equal to: 179\"\n",
      "[1] \"number of null values in LIMIT PAY_AMT6 is equal to: 196\"\n",
      "[1] \"number of null values in default.payment.next.month Column is equal to: 0\"\n"
     ]
    }
   ],
   "source": [
    "print(paste('number of null values in LIMIT BALANC Column is equal to:',sum(is.na(credit$LIMIT_BAL))))\n",
    "print(paste('number of null values in Gender Column is equal to:',sum(is.na(credit$SEX))))\n",
    "print(paste('number of null values in EDUCATION Column is equal to:',sum(is.na(credit$ EDUCATION))))\n",
    "print(paste('number of null values in MARRIAGE Column is equal to:',sum(is.na(credit$MARRIAGE))))\n",
    "print(paste('number of null values in AGE Column is equal to:',sum(is.na(credit$AGE))))\n",
    "print(paste('number of null values in PAY_0 Column is equal to:',sum(is.na(credit$PAY_0))))\n",
    "print(paste('number of null values in PAY_2 Column is equal to:',sum(is.na(credit$PAY_2))))\n",
    "print(paste('number of null values in PAY_3 Column is equal to:',sum(is.na(credit$PAY_3))))\n",
    "print(paste('number of null values in PAY_4 Column is equal to:',sum(is.na(credit$PAY_4))))\n",
    "print(paste('number of null values in PAY_5 Column is equal to:',sum(is.na(credit$PAY_5))))\n",
    "print(paste('number of null values in PAY_5 Column is equal to:',sum(is.na(credit$PAY_6))))\n",
    "print(paste('number of null values in LIMIT BILL_AMT1 is equal to:',sum(is.na(credit$BILL_AMT1))))\n",
    "print(paste('number of null values in LIMIT BILL_AMT2 is equal to:',sum(is.na(credit$BILL_AMT2))))\n",
    "print(paste('number of null values in LIMIT BILL_AMT3 is equal to:',sum(is.na(credit$BILL_AMT3))))\n",
    "print(paste('number of null values in LIMIT BILL_AMT4 is equal to:',sum(is.na(credit$BILL_AMT4))))\n",
    "print(paste('number of null values in LIMIT BILL_AMT5 is equal to:',sum(is.na(credit$BILL_AMT5))))\n",
    "print(paste('number of null values in LIMIT BILL_AMT6 is equal to:',sum(is.na(credit$BILL_AMT6))))\n",
    "print(paste('number of null values in LIMIT PAY_AMT1 is equal to:',sum(is.na(credit$PAY_AMT1))))\n",
    "print(paste('number of null values in LIMIT PAY_AMT2 is equal to:',sum(is.na(credit$PAY_AMT2))))\n",
    "print(paste('number of null values in LIMIT PAY_AMT3 is equal to:',sum(is.na(credit$PAY_AMT3))))\n",
    "print(paste('number of null values in LIMIT PAY_AMT4 is equal to:',sum(is.na(credit$PAY_AMT4))))\n",
    "print(paste('number of null values in LIMIT PAY_AMT5 is equal to:',sum(is.na(credit$PAY_AMT5))))\n",
    "print(paste('number of null values in LIMIT PAY_AMT6 is equal to:',sum(is.na(credit$PAY_AMT6))))\n",
    "print(paste('number of null values in default.payment.next.month Column is equal to:',sum(is.na(credit$default.payment.next.month))))"
   ]
  },
  {
   "cell_type": "code",
   "execution_count": 63,
   "id": "6b0538b7",
   "metadata": {},
   "outputs": [
    {
     "data": {
      "text/html": [
       "4"
      ],
      "text/latex": [
       "4"
      ],
      "text/markdown": [
       "4"
      ],
      "text/plain": [
       "[1] 4"
      ]
     },
     "metadata": {},
     "output_type": "display_data"
    }
   ],
   "source": [
    "#the maximum number of NA in one row\n",
    "sum(is.na(credit[which.max(rowSums(is.na(credit))),]))"
   ]
  },
  {
   "cell_type": "code",
   "execution_count": 64,
   "id": "4c6305ea",
   "metadata": {},
   "outputs": [],
   "source": [
    "#Dealing With NAs\n",
    "# here I use dplyr and fill NAs by most probable value of each comuln that can be median, average or the most popular\n",
    "# fill NAs of all columns with Median except categorical and binary columns\n",
    "# LIMIT_BAL\n",
    "credit[is.na(credit$LIMIT_BAL),]$LIMIT_BAL<-median(credit$LIMIT_BAL, na.rm = TRUE)\n",
    "# AGE\n",
    "credit[is.na(credit$AGE),]$AGE<-median(credit$AGE, na.rm = TRUE)\n",
    "# PAY_0\n",
    "credit[is.na(credit$PAY_0),]$PAY_0<-median(credit$PAY_0, na.rm = TRUE)\n",
    "# PAY_2\n",
    "credit[is.na(credit$PAY_2),]$PAY_2<-median(credit$PAY_2, na.rm = TRUE)\n",
    "# PAY_3\n",
    "credit[is.na(credit$PAY_3),]$PAY_3<-median(credit$PAY_3, na.rm = TRUE)\n",
    "# PAY_4\n",
    "credit[is.na(credit$PAY_4),]$PAY_4<-median(credit$PAY_4, na.rm = TRUE)\n",
    "# PAY_5\n",
    "credit[is.na(credit$PAY_5),]$PAY_5<-median(credit$PAY_5, na.rm = TRUE)\n",
    "# PAY_6\n",
    "credit[is.na(credit$PAY_6),]$PAY_6<-median(credit$PAY_6, na.rm = TRUE)\n",
    "# BILL_AMT1\n",
    "credit[is.na(credit$BILL_AMT1),]$BILL_AMT1<-median(credit$BILL_AMT1, na.rm = TRUE)\n",
    "# BILL_AMT2\n",
    "credit[is.na(credit$BILL_AMT2),]$BILL_AMT2<-median(credit$BILL_AMT2, na.rm = TRUE)\n",
    "# BILL_AMT3\n",
    "credit[is.na(credit$BILL_AMT3),]$BILL_AMT3<-median(credit$BILL_AMT3, na.rm = TRUE)\n",
    "# BILL_AMT4\n",
    "credit[is.na(credit$BILL_AMT4),]$BILL_AMT4<-median(credit$BILL_AMT4, na.rm = TRUE)\n",
    "# BILL_AMT5\n",
    "credit[is.na(credit$BILL_AMT5),]$BILL_AMT5<-median(credit$BILL_AMT5, na.rm = TRUE)\n",
    "# BILL_AMT6\n",
    "credit[is.na(credit$BILL_AMT6),]$BILL_AMT6<-median(credit$BILL_AMT6, na.rm = TRUE)\n",
    "# PAY_AMT1\n",
    "credit[is.na(credit$PAY_AMT1),]$PAY_AMT1<-median(credit$PAY_AMT1, na.rm = TRUE)\n",
    "# PAY_AMT2\n",
    "credit[is.na(credit$PAY_AMT2),]$PAY_AMT2<-median(credit$PAY_AMT2, na.rm = TRUE)\n",
    "# PAY_AMT3\n",
    "credit[is.na(credit$PAY_AMT3),]$PAY_AMT3<-median(credit$PAY_AMT3, na.rm = TRUE)\n",
    "# PAY_AMT4\n",
    "credit[is.na(credit$PAY_AMT4),]$PAY_AMT4<-median(credit$PAY_AMT4, na.rm = TRUE)\n",
    "# PAY_AMT5\n",
    "credit[is.na(credit$PAY_AMT5),]$PAY_AMT5<-median(credit$PAY_AMT5, na.rm = TRUE)\n",
    "# PAY_AMT6\n",
    "credit[is.na(credit$PAY_AMT6),]$PAY_AMT6<-median(credit$PAY_AMT6, na.rm = TRUE)"
   ]
  },
  {
   "cell_type": "code",
   "execution_count": 65,
   "id": "a82c6fde",
   "metadata": {},
   "outputs": [
    {
     "data": {
      "text/html": [
       "<table class=\"dataframe\">\n",
       "<caption>A data.frame: 3 × 2</caption>\n",
       "<thead>\n",
       "\t<tr><th scope=col>SEX</th><th scope=col>n</th></tr>\n",
       "\t<tr><th scope=col>&lt;int&gt;</th><th scope=col>&lt;int&gt;</th></tr>\n",
       "</thead>\n",
       "<tbody>\n",
       "\t<tr><td> 1</td><td> 7855</td></tr>\n",
       "\t<tr><td> 2</td><td>11984</td></tr>\n",
       "\t<tr><td>NA</td><td>  161</td></tr>\n",
       "</tbody>\n",
       "</table>\n"
      ],
      "text/latex": [
       "A data.frame: 3 × 2\n",
       "\\begin{tabular}{ll}\n",
       " SEX & n\\\\\n",
       " <int> & <int>\\\\\n",
       "\\hline\n",
       "\t  1 &  7855\\\\\n",
       "\t  2 & 11984\\\\\n",
       "\t NA &   161\\\\\n",
       "\\end{tabular}\n"
      ],
      "text/markdown": [
       "\n",
       "A data.frame: 3 × 2\n",
       "\n",
       "| SEX &lt;int&gt; | n &lt;int&gt; |\n",
       "|---|---|\n",
       "|  1 |  7855 |\n",
       "|  2 | 11984 |\n",
       "| NA |   161 |\n",
       "\n"
      ],
      "text/plain": [
       "  SEX n    \n",
       "1  1   7855\n",
       "2  2  11984\n",
       "3 NA    161"
      ]
     },
     "metadata": {},
     "output_type": "display_data"
    }
   ],
   "source": [
    "# diferent groups\n",
    "credit%>%count(SEX)\n",
    "# NAs of sex with most frequent gender which is 2\n",
    "credit[is.na(credit$SEX),]$SEX<-2"
   ]
  },
  {
   "cell_type": "code",
   "execution_count": 66,
   "id": "167f76c2",
   "metadata": {},
   "outputs": [
    {
     "data": {
      "text/html": [
       "<table class=\"dataframe\">\n",
       "<caption>A data.frame: 8 × 2</caption>\n",
       "<thead>\n",
       "\t<tr><th scope=col>EDUCATION</th><th scope=col>n</th></tr>\n",
       "\t<tr><th scope=col>&lt;int&gt;</th><th scope=col>&lt;int&gt;</th></tr>\n",
       "</thead>\n",
       "<tbody>\n",
       "\t<tr><td> 0</td><td>   8</td></tr>\n",
       "\t<tr><td> 1</td><td>6987</td></tr>\n",
       "\t<tr><td> 2</td><td>9285</td></tr>\n",
       "\t<tr><td> 3</td><td>3225</td></tr>\n",
       "\t<tr><td> 4</td><td>  77</td></tr>\n",
       "\t<tr><td> 5</td><td> 184</td></tr>\n",
       "\t<tr><td> 6</td><td>  35</td></tr>\n",
       "\t<tr><td>NA</td><td> 199</td></tr>\n",
       "</tbody>\n",
       "</table>\n"
      ],
      "text/latex": [
       "A data.frame: 8 × 2\n",
       "\\begin{tabular}{ll}\n",
       " EDUCATION & n\\\\\n",
       " <int> & <int>\\\\\n",
       "\\hline\n",
       "\t  0 &    8\\\\\n",
       "\t  1 & 6987\\\\\n",
       "\t  2 & 9285\\\\\n",
       "\t  3 & 3225\\\\\n",
       "\t  4 &   77\\\\\n",
       "\t  5 &  184\\\\\n",
       "\t  6 &   35\\\\\n",
       "\t NA &  199\\\\\n",
       "\\end{tabular}\n"
      ],
      "text/markdown": [
       "\n",
       "A data.frame: 8 × 2\n",
       "\n",
       "| EDUCATION &lt;int&gt; | n &lt;int&gt; |\n",
       "|---|---|\n",
       "|  0 |    8 |\n",
       "|  1 | 6987 |\n",
       "|  2 | 9285 |\n",
       "|  3 | 3225 |\n",
       "|  4 |   77 |\n",
       "|  5 |  184 |\n",
       "|  6 |   35 |\n",
       "| NA |  199 |\n",
       "\n"
      ],
      "text/plain": [
       "  EDUCATION n   \n",
       "1  0           8\n",
       "2  1        6987\n",
       "3  2        9285\n",
       "4  3        3225\n",
       "5  4          77\n",
       "6  5         184\n",
       "7  6          35\n",
       "8 NA         199"
      ]
     },
     "metadata": {},
     "output_type": "display_data"
    }
   ],
   "source": [
    "# diferent groups\n",
    "credit%>%count(EDUCATION)\n",
    "# NAs of EDUCATION with most frequent group which is 2\n",
    "credit[is.na(credit$ EDUCATION),]$ EDUCATION<-2"
   ]
  },
  {
   "cell_type": "code",
   "execution_count": 67,
   "id": "e39b195c",
   "metadata": {},
   "outputs": [
    {
     "data": {
      "text/html": [
       "<table class=\"dataframe\">\n",
       "<caption>A data.frame: 5 × 2</caption>\n",
       "<thead>\n",
       "\t<tr><th scope=col>MARRIAGE</th><th scope=col>n</th></tr>\n",
       "\t<tr><th scope=col>&lt;int&gt;</th><th scope=col>&lt;int&gt;</th></tr>\n",
       "</thead>\n",
       "<tbody>\n",
       "\t<tr><td> 0</td><td>   36</td></tr>\n",
       "\t<tr><td> 1</td><td> 8958</td></tr>\n",
       "\t<tr><td> 2</td><td>10623</td></tr>\n",
       "\t<tr><td> 3</td><td>  213</td></tr>\n",
       "\t<tr><td>NA</td><td>  170</td></tr>\n",
       "</tbody>\n",
       "</table>\n"
      ],
      "text/latex": [
       "A data.frame: 5 × 2\n",
       "\\begin{tabular}{ll}\n",
       " MARRIAGE & n\\\\\n",
       " <int> & <int>\\\\\n",
       "\\hline\n",
       "\t  0 &    36\\\\\n",
       "\t  1 &  8958\\\\\n",
       "\t  2 & 10623\\\\\n",
       "\t  3 &   213\\\\\n",
       "\t NA &   170\\\\\n",
       "\\end{tabular}\n"
      ],
      "text/markdown": [
       "\n",
       "A data.frame: 5 × 2\n",
       "\n",
       "| MARRIAGE &lt;int&gt; | n &lt;int&gt; |\n",
       "|---|---|\n",
       "|  0 |    36 |\n",
       "|  1 |  8958 |\n",
       "|  2 | 10623 |\n",
       "|  3 |   213 |\n",
       "| NA |   170 |\n",
       "\n"
      ],
      "text/plain": [
       "  MARRIAGE n    \n",
       "1  0          36\n",
       "2  1        8958\n",
       "3  2       10623\n",
       "4  3         213\n",
       "5 NA         170"
      ]
     },
     "metadata": {},
     "output_type": "display_data"
    }
   ],
   "source": [
    "# diferent groups\n",
    "credit%>%count(MARRIAGE)\n",
    "# NAs of MARRIAGE with most frequent group which is 2\n",
    "credit[is.na(credit$MARRIAGE),]$MARRIAGE<-2"
   ]
  },
  {
   "cell_type": "code",
   "execution_count": 82,
   "id": "a2a00365",
   "metadata": {},
   "outputs": [],
   "source": [
    "# renaming the Column of Target Variable\n",
    "credit<-credit%>%rename(default=default.payment.next.month)\n",
    "#Saving the Base Table\n",
    "fwrite(credit,'./Data/BaseTable.csv')"
   ]
  },
  {
   "cell_type": "markdown",
   "id": "dea938e9",
   "metadata": {},
   "source": [
    "### 4. Data Exploration"
   ]
  },
  {
   "cell_type": "code",
   "execution_count": 83,
   "id": "904ecdd3",
   "metadata": {},
   "outputs": [
    {
     "name": "stdout",
     "output_type": "stream",
     "text": [
      "'data.frame':\t20000 obs. of  24 variables:\n",
      " $ LIMIT_BAL: num  70000 390000 60000 140000 50000 20000 50000 250000 320000 300000 ...\n",
      " $ SEX      : int  1 2 1 2 1 1 1 1 2 1 ...\n",
      " $ EDUCATION: int  3 2 1 2 1 2 3 2 2 1 ...\n",
      " $ MARRIAGE : int  2 2 2 1 2 2 2 2 2 1 ...\n",
      " $ AGE      : int  34 26 27 55 29 37 44 30 36 35 ...\n",
      " $ PAY_0    : int  0 2 0 0 2 0 0 0 -2 0 ...\n",
      " $ PAY_2    : int  0 2 0 0 2 0 0 0 -2 0 ...\n",
      " $ PAY_3    : int  0 2 0 0 2 0 0 0 -2 0 ...\n",
      " $ PAY_4    : int  0 0 0 0 0 0 2 -1 -2 0 ...\n",
      " $ PAY_5    : int  0 0 0 0 0 0 0 2 -2 0 ...\n",
      " $ PAY_6    : int  0 0 2 0 -2 0 0 -1 -2 0 ...\n",
      " $ BILL_AMT1: int  53972 185111 21387 108038 7881 20009 22221 5724 29862 91282 ...\n",
      " $ BILL_AMT2: int  23149 172865 22416 110216 10415 20602 50525 6729 33785 45885 ...\n",
      " $ BILL_AMT3: int  23968 153795 23444 84516 3997 21255 51463 4973 4900 35329 ...\n",
      " $ BILL_AMT4: int  25559 140387 26038 72391 1047 19105 49952 9693 15813 29368 ...\n",
      " $ BILL_AMT5: int  26134 128112 28607 61298 0 19609 19584 799 0 18833 ...\n",
      " $ BILL_AMT6: int  26715 115514 27997 62193 0 19283 19080 4295 0 93329 ...\n",
      " $ PAY_AMT1 : num  1700 5000 1378 4200 3000 ...\n",
      " $ PAY_AMT2 : num  1500 3000 1406 2822 0 ...\n",
      " $ PAY_AMT3 : num  2000 5000 3000 2336 1000 ...\n",
      " $ PAY_AMT4 : int  1000 4548 3000 2588 0 1000 837 0 0 1250 ...\n",
      " $ PAY_AMT5 : int  1000 4100 0 2250 0 900 700 4305 0 80934 ...\n",
      " $ PAY_AMT6 : num  2000 3300 923 2491 0 ...\n",
      " $ default  : int  0 0 1 0 1 0 0 0 1 0 ...\n"
     ]
    }
   ],
   "source": [
    "# reading the table\n",
    "DF <- read.csv('./Data/BaseTable.csv')\n",
    "#straucture  of the data\n",
    "str(DF)"
   ]
  },
  {
   "cell_type": "code",
   "execution_count": 71,
   "id": "a1cf52c8",
   "metadata": {},
   "outputs": [
    {
     "data": {
      "text/html": [
       "0"
      ],
      "text/latex": [
       "0"
      ],
      "text/markdown": [
       "0"
      ],
      "text/plain": [
       "[1] 0"
      ]
     },
     "metadata": {},
     "output_type": "display_data"
    }
   ],
   "source": [
    "sum(is.na(DF))"
   ]
  },
  {
   "cell_type": "code",
   "execution_count": 78,
   "id": "a4743250",
   "metadata": {},
   "outputs": [
    {
     "data": {
      "text/plain": [
       "NULL"
      ]
     },
     "metadata": {},
     "output_type": "display_data"
    },
    {
     "data": {
      "image/png": "[encoded data removed]",
      "text/plain": [
       "plot without title"
      ]
     },
     "metadata": {
      "image/png": {
       "height": 600,
       "width": 600
      }
     },
     "output_type": "display_data"
    }
   ],
   "source": [
    "# Pair plot Default VS PAY\n",
    "options(repr.plot.width=10, repr.plot.height=10)\n",
    "cols <- rep('blue', nrow(DF))  # no default\n",
    "cols[DF$default == 0] <- 'red'  # Default\n",
    "D.VS.Pay<-pairs(default ~ PAY_0 + PAY_2 + PAY_3 + PAY_4 + PAY_5 + PAY_6 , data=DF, col=cols)\n",
    "D.VS.Pay"
   ]
  },
  {
   "cell_type": "code",
   "execution_count": 77,
   "id": "20a8a2fe",
   "metadata": {},
   "outputs": [
    {
     "data": {
      "text/plain": [
       "NULL"
      ]
     },
     "metadata": {},
     "output_type": "display_data"
    },
    {
     "data": {
      "image/png": "[encoded data removed]",
      "text/plain": [
       "plot without title"
      ]
     },
     "metadata": {
      "image/png": {
       "height": 600,
       "width": 600
      }
     },
     "output_type": "display_data"
    }
   ],
   "source": [
    "# Pair plot Default VS Bill\n",
    "options(repr.plot.width=10, repr.plot.height=10)\n",
    "cols <- rep('blue', nrow(DF))  # no default\n",
    "cols[DF$default == 0] <- 'red'  # Default\n",
    "D.VS.Bill<-pairs(default ~ BILL_AMT1 + BILL_AMT2 +\n",
    "                 BILL_AMT3 + BILL_AMT4 + BILL_AMT5 + BILL_AMT6 , data=DF, col=cols)\n",
    "D.VS.Bill"
   ]
  },
  {
   "cell_type": "code",
   "execution_count": 79,
   "id": "b5fa4093",
   "metadata": {},
   "outputs": [
    {
     "data": {
      "text/plain": [
       "NULL"
      ]
     },
     "metadata": {},
     "output_type": "display_data"
    },
    {
     "data": {
      "image/png": "[encoded data removed]",
      "text/plain": [
       "plot without title"
      ]
     },
     "metadata": {
      "image/png": {
       "height": 600,
       "width": 600
      }
     },
     "output_type": "display_data"
    }
   ],
   "source": [
    "# Pair plot Default VS PAY_AMT\n",
    "options(repr.plot.width=10, repr.plot.height=10)\n",
    "cols <- rep('blue', nrow(DF))  # no default\n",
    "cols[DF$default == 0] <- 'red'  # Default\n",
    "D.VS.PAY_AMT<-pairs(default ~ PAY_AMT1 + PAY_AMT2 +\n",
    "                 PAY_AMT3 + PAY_AMT4 + PAY_AMT5 + PAY_AMT6 , data=DF, col=cols)\n",
    "D.VS.PAY_AMT"
   ]
  },
  {
   "cell_type": "code",
   "execution_count": 80,
   "id": "be1b0d71",
   "metadata": {},
   "outputs": [
    {
     "data": {
      "text/plain": [
       "NULL"
      ]
     },
     "metadata": {},
     "output_type": "display_data"
    },
    {
     "data": {
      "image/png": "[encoded data removed]",
      "text/plain": [
       "plot without title"
      ]
     },
     "metadata": {
      "image/png": {
       "height": 600,
       "width": 600
      }
     },
     "output_type": "display_data"
    }
   ],
   "source": [
    "# Pair plot Default VS all rest\n",
    "options(repr.plot.width=10, repr.plot.height=10)\n",
    "cols <- rep('blue', nrow(DF))  # no default\n",
    "cols[DF$default == 0] <- 'red'  # Default\n",
    "D.VS.R<-pairs(default ~ LIMIT_BAL + SEX + \n",
    "                 EDUCATION + MARRIAGE  + AGE  , data=DF, col=cols)\n",
    "D.VS.R"
   ]
  },
  {
   "cell_type": "code",
   "execution_count": 96,
   "id": "d6ac0210",
   "metadata": {},
   "outputs": [
    {
     "data": {
      "image/png": "[encoded data removed]",
      "text/plain": [
       "plot without title"
      ]
     },
     "metadata": {
      "image/png": {
       "height": 480,
       "width": 720
      }
     },
     "output_type": "display_data"
    }
   ],
   "source": [
    "# Relationship between balance and default\n",
    "options(repr.plot.width=12, repr.plot.height=8)\n",
    "cols <- rep('blue', nrow(DF))  # Not default\n",
    "cols[DF$default == 1] <- 'red'  # Default\n",
    "\n",
    "par(mfrow=c(1, 2))\n",
    "\n",
    "plot(x=DF$LIMIT_BAL, y=DF$default,  # Plot the data\n",
    "     xlab='Balance', ylab='Default',\n",
    "     pch='|', cex=0.5, col=cols)\n",
    "\n",
    "boxplot(LIMIT_BAL ~ default, data=DF,\n",
    "        col=c('blue', 'red'),\n",
    "        xlab='Default', ylab='Balance')"
   ]
  },
  {
   "cell_type": "code",
   "execution_count": 107,
   "id": "82d43171",
   "metadata": {},
   "outputs": [
    {
     "data": {
      "image/png": "[encoded data removed]",
      "text/plain": [
       "plot without title"
      ]
     },
     "metadata": {
      "image/png": {
       "height": 480,
       "width": 720
      }
     },
     "output_type": "display_data"
    }
   ],
   "source": [
    "# Relationship between balance and default\n",
    "options(repr.plot.width=12, repr.plot.height=8)\n",
    "cols <- rep('blue', nrow(DF))  # Not default\n",
    "cols[DF$default == 1] <- 'red'  # Default\n",
    "\n",
    "par(mfrow=c(1, 2))\n",
    "\n",
    "plot(x=DF$BILL_AMT6, y=DF$default,  # Plot the data\n",
    "     xlab='Balance', ylab='Default',\n",
    "     pch='|', cex=0.5, col=cols)\n",
    "\n",
    "boxplot(BILL_AMT6 ~ default, data=DF,\n",
    "        col=c('blue', 'red'),\n",
    "        xlab='Default', ylab='Balance')"
   ]
  },
  {
   "cell_type": "code",
   "execution_count": 100,
   "id": "f3bf49fd",
   "metadata": {},
   "outputs": [
    {
     "data": {
      "image/png": "[encoded data removed]",
      "text/plain": [
       "plot without title"
      ]
     },
     "metadata": {
      "image/png": {
       "height": 480,
       "width": 720
      }
     },
     "output_type": "display_data"
    }
   ],
   "source": [
    "# Relationship between balance and default\n",
    "options(repr.plot.width=12, repr.plot.height=8)\n",
    "cols <- rep('blue', nrow(DF))  # Not default\n",
    "cols[DF$default == 1] <- 'red'  # Default\n",
    "\n",
    "par(mfrow=c(1, 2))\n",
    "\n",
    "plot(x=DF$PAY_0, y=DF$default,  # Plot the data\n",
    "     xlab='Balance', ylab='Default',\n",
    "     pch='|', cex=0.5, col=cols)\n",
    "\n",
    "boxplot(PAY_0 ~ default, data=DF,\n",
    "        col=c('blue', 'red'),\n",
    "        xlab='Default', ylab='Balance')"
   ]
  },
  {
   "cell_type": "code",
   "execution_count": 114,
   "id": "332f8d13",
   "metadata": {},
   "outputs": [],
   "source": [
    "set.seed(613)\n",
    "#seting the row indexes\n",
    "index <- sample(1:nrow(DF), round(0.3 * nrow(DF), 0))\n",
    "#spliting data based on the index\n",
    "train <- DF[index, ]\n",
    "test <- DF[-index, ]\n",
    "#Selecting independent columns\n",
    "selected_columns<-c(names(DF%>%select(-default)))\n"
   ]
  },
  {
   "cell_type": "markdown",
   "id": "59b8e7bb",
   "metadata": {},
   "source": [
    "## Application of Models"
   ]
  },
  {
   "cell_type": "markdown",
   "id": "2be55783",
   "metadata": {},
   "source": [
    "### 1. Feature Selection"
   ]
  },
  {
   "cell_type": "markdown",
   "id": "babe8769",
   "metadata": {},
   "source": [
    "#### 1.1 exhaustive"
   ]
  },
  {
   "cell_type": "code",
   "execution_count": 175,
   "id": "235d37a7",
   "metadata": {},
   "outputs": [
    {
     "data": {
      "text/plain": [
       "Subset selection object\n",
       "Call: regsubsets.formula(default ~ ., data = DF)\n",
       "23 Variables  (and intercept)\n",
       "          Forced in Forced out\n",
       "LIMIT_BAL     FALSE      FALSE\n",
       "SEX           FALSE      FALSE\n",
       "EDUCATION     FALSE      FALSE\n",
       "MARRIAGE      FALSE      FALSE\n",
       "AGE           FALSE      FALSE\n",
       "PAY_0         FALSE      FALSE\n",
       "PAY_2         FALSE      FALSE\n",
       "PAY_3         FALSE      FALSE\n",
       "PAY_4         FALSE      FALSE\n",
       "PAY_5         FALSE      FALSE\n",
       "PAY_6         FALSE      FALSE\n",
       "BILL_AMT1     FALSE      FALSE\n",
       "BILL_AMT2     FALSE      FALSE\n",
       "BILL_AMT3     FALSE      FALSE\n",
       "BILL_AMT4     FALSE      FALSE\n",
       "BILL_AMT5     FALSE      FALSE\n",
       "BILL_AMT6     FALSE      FALSE\n",
       "PAY_AMT1      FALSE      FALSE\n",
       "PAY_AMT2      FALSE      FALSE\n",
       "PAY_AMT3      FALSE      FALSE\n",
       "PAY_AMT4      FALSE      FALSE\n",
       "PAY_AMT5      FALSE      FALSE\n",
       "PAY_AMT6      FALSE      FALSE\n",
       "1 subsets of each size up to 8\n",
       "Selection Algorithm: exhaustive\n",
       "         LIMIT_BAL SEX EDUCATION MARRIAGE AGE PAY_0 PAY_2 PAY_3 PAY_4 PAY_5\n",
       "1  ( 1 ) \" \"       \" \" \" \"       \" \"      \" \" \"*\"   \" \"   \" \"   \" \"   \" \"  \n",
       "2  ( 1 ) \" \"       \" \" \" \"       \" \"      \" \" \"*\"   \" \"   \" \"   \" \"   \" \"  \n",
       "3  ( 1 ) \" \"       \" \" \" \"       \" \"      \" \" \"*\"   \" \"   \"*\"   \" \"   \" \"  \n",
       "4  ( 1 ) \" \"       \" \" \" \"       \" \"      \" \" \"*\"   \" \"   \"*\"   \" \"   \" \"  \n",
       "5  ( 1 ) \" \"       \" \" \" \"       \" \"      \"*\" \"*\"   \" \"   \"*\"   \" \"   \" \"  \n",
       "6  ( 1 ) \" \"       \" \" \" \"       \" \"      \"*\" \"*\"   \"*\"   \"*\"   \" \"   \" \"  \n",
       "7  ( 1 ) \" \"       \" \" \" \"       \" \"      \"*\" \"*\"   \"*\"   \"*\"   \" \"   \" \"  \n",
       "8  ( 1 ) \" \"       \" \" \"*\"       \" \"      \"*\" \"*\"   \"*\"   \"*\"   \" \"   \" \"  \n",
       "         PAY_6 BILL_AMT1 BILL_AMT2 BILL_AMT3 BILL_AMT4 BILL_AMT5 BILL_AMT6\n",
       "1  ( 1 ) \" \"   \" \"       \" \"       \" \"       \" \"       \" \"       \" \"      \n",
       "2  ( 1 ) \" \"   \"*\"       \" \"       \" \"       \" \"       \" \"       \" \"      \n",
       "3  ( 1 ) \" \"   \"*\"       \" \"       \" \"       \" \"       \" \"       \" \"      \n",
       "4  ( 1 ) \" \"   \"*\"       \" \"       \" \"       \" \"       \" \"       \" \"      \n",
       "5  ( 1 ) \" \"   \"*\"       \" \"       \" \"       \" \"       \" \"       \" \"      \n",
       "6  ( 1 ) \" \"   \"*\"       \" \"       \" \"       \" \"       \" \"       \" \"      \n",
       "7  ( 1 ) \" \"   \"*\"       \" \"       \" \"       \" \"       \" \"       \" \"      \n",
       "8  ( 1 ) \" \"   \"*\"       \" \"       \" \"       \" \"       \" \"       \" \"      \n",
       "         PAY_AMT1 PAY_AMT2 PAY_AMT3 PAY_AMT4 PAY_AMT5 PAY_AMT6\n",
       "1  ( 1 ) \" \"      \" \"      \" \"      \" \"      \" \"      \" \"     \n",
       "2  ( 1 ) \" \"      \" \"      \" \"      \" \"      \" \"      \" \"     \n",
       "3  ( 1 ) \" \"      \" \"      \" \"      \" \"      \" \"      \" \"     \n",
       "4  ( 1 ) \"*\"      \" \"      \" \"      \" \"      \" \"      \" \"     \n",
       "5  ( 1 ) \"*\"      \" \"      \" \"      \" \"      \" \"      \" \"     \n",
       "6  ( 1 ) \"*\"      \" \"      \" \"      \" \"      \" \"      \" \"     \n",
       "7  ( 1 ) \"*\"      \" \"      \" \"      \"*\"      \" \"      \" \"     \n",
       "8  ( 1 ) \"*\"      \" \"      \" \"      \"*\"      \" \"      \" \"     "
      ]
     },
     "metadata": {},
     "output_type": "display_data"
    }
   ],
   "source": [
    "# applying the exhaustive feature selection to data\n",
    "regfit.full=regsubsets(default~.,data=DF)\n",
    "# summary of exhaustive featur selection\n",
    "summary(regfit.full)"
   ]
  },
  {
   "cell_type": "code",
   "execution_count": 178,
   "id": "a46c4699",
   "metadata": {},
   "outputs": [],
   "source": [
    "# applying the forward feature selection to data\n",
    "regfit.fwd=regsubsets(default~.,data=DF,method='forward',nvmax=23)\n",
    "# summary of forward featur selection\n",
    "reg.summary.fwd=summary(regfit.fwd)"
   ]
  },
  {
   "cell_type": "code",
   "execution_count": 179,
   "id": "1713162f",
   "metadata": {},
   "outputs": [
    {
     "data": {
      "text/html": [
       "<style>\n",
       ".list-inline {list-style: none; margin:0; padding: 0}\n",
       ".list-inline>li {display: inline-block}\n",
       ".list-inline>li:not(:last-child)::after {content: \"\\00b7\"; padding: 0 .5ex}\n",
       "</style>\n",
       "<ol class=list-inline><li>'which'</li><li>'rsq'</li><li>'rss'</li><li>'adjr2'</li><li>'cp'</li><li>'bic'</li><li>'outmat'</li><li>'obj'</li></ol>\n"
      ],
      "text/latex": [
       "\\begin{enumerate*}\n",
       "\\item 'which'\n",
       "\\item 'rsq'\n",
       "\\item 'rss'\n",
       "\\item 'adjr2'\n",
       "\\item 'cp'\n",
       "\\item 'bic'\n",
       "\\item 'outmat'\n",
       "\\item 'obj'\n",
       "\\end{enumerate*}\n"
      ],
      "text/markdown": [
       "1. 'which'\n",
       "2. 'rsq'\n",
       "3. 'rss'\n",
       "4. 'adjr2'\n",
       "5. 'cp'\n",
       "6. 'bic'\n",
       "7. 'outmat'\n",
       "8. 'obj'\n",
       "\n",
       "\n"
      ],
      "text/plain": [
       "[1] \"which\"  \"rsq\"    \"rss\"    \"adjr2\"  \"cp\"     \"bic\"    \"outmat\" \"obj\"   "
      ]
     },
     "metadata": {},
     "output_type": "display_data"
    }
   ],
   "source": [
    "# coeficient names for forward feature selection\n",
    "names(reg.summary.fwd)"
   ]
  },
  {
   "cell_type": "code",
   "execution_count": 180,
   "id": "aef1cdec",
   "metadata": {},
   "outputs": [
    {
     "data": {
      "text/html": [
       "<style>\n",
       ".list-inline {list-style: none; margin:0; padding: 0}\n",
       ".list-inline>li {display: inline-block}\n",
       ".list-inline>li:not(:last-child)::after {content: \"\\00b7\"; padding: 0 .5ex}\n",
       "</style>\n",
       "<ol class=list-inline><li>0.0977088674768125</li><li>0.103945258269339</li><li>0.109079794175007</li><li>0.110858026120787</li><li>0.111761852579169</li><li>0.112603964900843</li><li>0.113243772842844</li><li>0.113866850216171</li><li>0.114282253857421</li><li>0.114768129934964</li><li>0.115080076673139</li><li>0.115363678414188</li><li>0.115552685426056</li><li>0.1156948038944</li><li>0.115835506853995</li><li>0.115898832605652</li><li>0.115940097120315</li><li>0.115956506845025</li><li>0.115994324247721</li><li>0.116049180660968</li><li>0.116075835156029</li><li>0.116076818999323</li><li>0.116076893995397</li></ol>\n"
      ],
      "text/latex": [
       "\\begin{enumerate*}\n",
       "\\item 0.0977088674768125\n",
       "\\item 0.103945258269339\n",
       "\\item 0.109079794175007\n",
       "\\item 0.110858026120787\n",
       "\\item 0.111761852579169\n",
       "\\item 0.112603964900843\n",
       "\\item 0.113243772842844\n",
       "\\item 0.113866850216171\n",
       "\\item 0.114282253857421\n",
       "\\item 0.114768129934964\n",
       "\\item 0.115080076673139\n",
       "\\item 0.115363678414188\n",
       "\\item 0.115552685426056\n",
       "\\item 0.1156948038944\n",
       "\\item 0.115835506853995\n",
       "\\item 0.115898832605652\n",
       "\\item 0.115940097120315\n",
       "\\item 0.115956506845025\n",
       "\\item 0.115994324247721\n",
       "\\item 0.116049180660968\n",
       "\\item 0.116075835156029\n",
       "\\item 0.116076818999323\n",
       "\\item 0.116076893995397\n",
       "\\end{enumerate*}\n"
      ],
      "text/markdown": [
       "1. 0.0977088674768125\n",
       "2. 0.103945258269339\n",
       "3. 0.109079794175007\n",
       "4. 0.110858026120787\n",
       "5. 0.111761852579169\n",
       "6. 0.112603964900843\n",
       "7. 0.113243772842844\n",
       "8. 0.113866850216171\n",
       "9. 0.114282253857421\n",
       "10. 0.114768129934964\n",
       "11. 0.115080076673139\n",
       "12. 0.115363678414188\n",
       "13. 0.115552685426056\n",
       "14. 0.1156948038944\n",
       "15. 0.115835506853995\n",
       "16. 0.115898832605652\n",
       "17. 0.115940097120315\n",
       "18. 0.115956506845025\n",
       "19. 0.115994324247721\n",
       "20. 0.116049180660968\n",
       "21. 0.116075835156029\n",
       "22. 0.116076818999323\n",
       "23. 0.116076893995397\n",
       "\n",
       "\n"
      ],
      "text/plain": [
       " [1] 0.09770887 0.10394526 0.10907979 0.11085803 0.11176185 0.11260396\n",
       " [7] 0.11324377 0.11386685 0.11428225 0.11476813 0.11508008 0.11536368\n",
       "[13] 0.11555269 0.11569480 0.11583551 0.11589883 0.11594010 0.11595651\n",
       "[19] 0.11599432 0.11604918 0.11607584 0.11607682 0.11607689"
      ]
     },
     "metadata": {},
     "output_type": "display_data"
    }
   ],
   "source": [
    "#summary of RSQ for forward feature selection\n",
    "reg.summary.fwd$rsq"
   ]
  },
  {
   "cell_type": "code",
   "execution_count": 181,
   "id": "8e1f8650",
   "metadata": {},
   "outputs": [
    {
     "data": {
      "image/png": "[encoded data removed]",
      "text/plain": [
       "plot without title"
      ]
     },
     "metadata": {
      "image/png": {
       "height": 480,
       "width": 720
      }
     },
     "output_type": "display_data"
    }
   ],
   "source": [
    "#plot 4 diferent coeficient to show the best number of the features in diferent coeficients\n",
    "#paring axies to 4 cells\n",
    "par(mfrow=c(2,2))\n",
    "#plot the RSS\n",
    "plot(reg.summary.fwd$rss,xlab='Number of Variables',ylab='RSS',type='l')\n",
    "# Plot the adjusted rate 2 \n",
    "plot(reg.summary.fwd$adjr2,xlab='Number of Variables',ylab='Adjusted R square',type='l')\n",
    "# define the optimum point of adjusted rate 2\n",
    "points(which.max(reg.summary.fwd$adjr2),reg.summary.fwd$adjr2[which.max(reg.summary.fwd$adjr2)],col='red',cex=2,pch=20)\n",
    "#plot the cp\n",
    "plot(reg.summary.fwd$cp,xlab=\"Number of Variables\",ylab=\"Cp\",type='l')\n",
    "# define the optimum point of cp\n",
    "points(which.min(reg.summary.fwd$cp),reg.summary.fwd$cp[which.min(reg.summary.fwd$cp)],col=\"red\",cex=2,pch=20)\n",
    "# plot the Bic \n",
    "plot(reg.summary.fwd$bic,xlab=\"Number of Variables\",ylab=\"BIC\",type='l')\n",
    "# define the optimum point of bic\n",
    "points(which.min(reg.summary.fwd$bic),reg.summary.fwd$bic[which.min(reg.summary.fwd$bic)],col=\"red\",cex=2,pch=20)"
   ]
  },
  {
   "cell_type": "code",
   "execution_count": 182,
   "id": "5b93882a",
   "metadata": {},
   "outputs": [
    {
     "data": {
      "image/png": "[encoded data removed]",
      "text/plain": [
       "plot without title"
      ]
     },
     "metadata": {
      "image/png": {
       "height": 480,
       "width": 720
      }
     },
     "output_type": "display_data"
    }
   ],
   "source": [
    "# ploting the R square of forward model\n",
    "plot(regfit.fwd,scale=\"r2\")"
   ]
  },
  {
   "cell_type": "code",
   "execution_count": 183,
   "id": "cebfd12f",
   "metadata": {},
   "outputs": [
    {
     "data": {
      "image/png": "[encoded data removed]",
      "text/plain": [
       "plot without title"
      ]
     },
     "metadata": {
      "image/png": {
       "height": 480,
       "width": 720
      }
     },
     "output_type": "display_data"
    }
   ],
   "source": [
    "# ploting the adjusted rate 2 of forward model\n",
    "plot(regfit.fwd,scale=\"adjr2\")"
   ]
  },
  {
   "cell_type": "code",
   "execution_count": 184,
   "id": "0aba22f7",
   "metadata": {},
   "outputs": [
    {
     "data": {
      "image/png": "[encoded data removed]",
      "text/plain": [
       "plot without title"
      ]
     },
     "metadata": {
      "image/png": {
       "height": 480,
       "width": 720
      }
     },
     "output_type": "display_data"
    }
   ],
   "source": [
    "# ploting the CP of forward model\n",
    "plot(regfit.fwd,scale=\"Cp\")"
   ]
  },
  {
   "cell_type": "code",
   "execution_count": 185,
   "id": "0cf703be",
   "metadata": {},
   "outputs": [
    {
     "data": {
      "image/png": "[encoded data removed]",
      "text/plain": [
       "plot without title"
      ]
     },
     "metadata": {
      "image/png": {
       "height": 480,
       "width": 720
      }
     },
     "output_type": "display_data"
    }
   ],
   "source": [
    "# ploting the bicof forward model\n",
    "plot(regfit.fwd,scale=\"bic\")"
   ]
  },
  {
   "cell_type": "code",
   "execution_count": 201,
   "id": "7edfa9be",
   "metadata": {},
   "outputs": [
    {
     "data": {
      "text/html": [
       "<style>\n",
       ".dl-inline {width: auto; margin:0; padding: 0}\n",
       ".dl-inline>dt, .dl-inline>dd {float: none; width: auto; display: inline-block}\n",
       ".dl-inline>dt::after {content: \":\\0020\"; padding-right: .5ex}\n",
       ".dl-inline>dt:not(:first-of-type) {padding-left: .5ex}\n",
       "</style><dl class=dl-inline><dt>(Intercept)</dt><dd>0.307861686045853</dd><dt>LIMIT_BAL</dt><dd>-6.88210212043309e-08</dd><dt>SEX</dt><dd>-0.0102695132830242</dd><dt>EDUCATION</dt><dd>-0.0168898875841491</dd><dt>MARRIAGE</dt><dd>-0.020047710240399</dd><dt>AGE</dt><dd>0.00125995083701172</dd><dt>PAY_0</dt><dd>0.0933321582410172</dd><dt>PAY_2</dt><dd>0.0156458901061137</dd><dt>PAY_3</dt><dd>0.0157987337686754</dd><dt>PAY_5</dt><dd>0.00932659546436841</dd><dt>BILL_AMT1</dt><dd>-6.6993430567062e-07</dd><dt>BILL_AMT2</dt><dd>2.77742022301614e-07</dd><dt>PAY_AMT1</dt><dd>-1.07404312730889e-06</dd><dt>PAY_AMT2</dt><dd>-2.34961070709495e-07</dd><dt>PAY_AMT4</dt><dd>-5.50209542516291e-07</dd><dt>PAY_AMT5</dt><dd>-4.20851609223143e-07</dd></dl>\n"
      ],
      "text/latex": [
       "\\begin{description*}\n",
       "\\item[(Intercept)] 0.307861686045853\n",
       "\\item[LIMIT\\textbackslash{}\\_BAL] -6.88210212043309e-08\n",
       "\\item[SEX] -0.0102695132830242\n",
       "\\item[EDUCATION] -0.0168898875841491\n",
       "\\item[MARRIAGE] -0.020047710240399\n",
       "\\item[AGE] 0.00125995083701172\n",
       "\\item[PAY\\textbackslash{}\\_0] 0.0933321582410172\n",
       "\\item[PAY\\textbackslash{}\\_2] 0.0156458901061137\n",
       "\\item[PAY\\textbackslash{}\\_3] 0.0157987337686754\n",
       "\\item[PAY\\textbackslash{}\\_5] 0.00932659546436841\n",
       "\\item[BILL\\textbackslash{}\\_AMT1] -6.6993430567062e-07\n",
       "\\item[BILL\\textbackslash{}\\_AMT2] 2.77742022301614e-07\n",
       "\\item[PAY\\textbackslash{}\\_AMT1] -1.07404312730889e-06\n",
       "\\item[PAY\\textbackslash{}\\_AMT2] -2.34961070709495e-07\n",
       "\\item[PAY\\textbackslash{}\\_AMT4] -5.50209542516291e-07\n",
       "\\item[PAY\\textbackslash{}\\_AMT5] -4.20851609223143e-07\n",
       "\\end{description*}\n"
      ],
      "text/markdown": [
       "(Intercept)\n",
       ":   0.307861686045853LIMIT_BAL\n",
       ":   -6.88210212043309e-08SEX\n",
       ":   -0.0102695132830242EDUCATION\n",
       ":   -0.0168898875841491MARRIAGE\n",
       ":   -0.020047710240399AGE\n",
       ":   0.00125995083701172PAY_0\n",
       ":   0.0933321582410172PAY_2\n",
       ":   0.0156458901061137PAY_3\n",
       ":   0.0157987337686754PAY_5\n",
       ":   0.00932659546436841BILL_AMT1\n",
       ":   -6.6993430567062e-07BILL_AMT2\n",
       ":   2.77742022301614e-07PAY_AMT1\n",
       ":   -1.07404312730889e-06PAY_AMT2\n",
       ":   -2.34961070709495e-07PAY_AMT4\n",
       ":   -5.50209542516291e-07PAY_AMT5\n",
       ":   -4.20851609223143e-07\n",
       "\n"
      ],
      "text/plain": [
       "  (Intercept)     LIMIT_BAL           SEX     EDUCATION      MARRIAGE \n",
       " 3.078617e-01 -6.882102e-08 -1.026951e-02 -1.688989e-02 -2.004771e-02 \n",
       "          AGE         PAY_0         PAY_2         PAY_3         PAY_5 \n",
       " 1.259951e-03  9.333216e-02  1.564589e-02  1.579873e-02  9.326595e-03 \n",
       "    BILL_AMT1     BILL_AMT2      PAY_AMT1      PAY_AMT2      PAY_AMT4 \n",
       "-6.699343e-07  2.777420e-07 -1.074043e-06 -2.349611e-07 -5.502095e-07 \n",
       "     PAY_AMT5 \n",
       "-4.208516e-07 "
      ]
     },
     "metadata": {},
     "output_type": "display_data"
    }
   ],
   "source": [
    "#storing the feature selected based on the forward model by cp coeficient\n",
    "selection.fwd.cp=names(coef(regfit.fwd,which.min(reg.summary.fwd$cp)))[-1]\n",
    "#displaying the coeficient and variables name for forward feature selection for CP\n",
    "coef(regfit.fwd,which.min(reg.summary.fwd$cp))"
   ]
  },
  {
   "cell_type": "code",
   "execution_count": 202,
   "id": "aed6c9d9",
   "metadata": {},
   "outputs": [
    {
     "data": {
      "text/html": [
       "<style>\n",
       ".dl-inline {width: auto; margin:0; padding: 0}\n",
       ".dl-inline>dt, .dl-inline>dd {float: none; width: auto; display: inline-block}\n",
       ".dl-inline>dt::after {content: \":\\0020\"; padding-right: .5ex}\n",
       ".dl-inline>dt:not(:first-of-type) {padding-left: .5ex}\n",
       "</style><dl class=dl-inline><dt>(Intercept)</dt><dd>0.287532763178504</dd><dt>LIMIT_BAL</dt><dd>-8.59414895636966e-08</dd><dt>EDUCATION</dt><dd>-0.017198158874796</dd><dt>MARRIAGE</dt><dd>-0.0193938547807015</dd><dt>AGE</dt><dd>0.00132510875511558</dd><dt>PAY_0</dt><dd>0.0950564160618812</dd><dt>PAY_2</dt><dd>0.0166768703284654</dd><dt>PAY_3</dt><dd>0.0210522000654969</dd><dt>BILL_AMT1</dt><dd>-4.24593085946511e-07</dd><dt>PAY_AMT1</dt><dd>-9.57547000702246e-07</dd><dt>PAY_AMT4</dt><dd>-6.52958641243377e-07</dd></dl>\n"
      ],
      "text/latex": [
       "\\begin{description*}\n",
       "\\item[(Intercept)] 0.287532763178504\n",
       "\\item[LIMIT\\textbackslash{}\\_BAL] -8.59414895636966e-08\n",
       "\\item[EDUCATION] -0.017198158874796\n",
       "\\item[MARRIAGE] -0.0193938547807015\n",
       "\\item[AGE] 0.00132510875511558\n",
       "\\item[PAY\\textbackslash{}\\_0] 0.0950564160618812\n",
       "\\item[PAY\\textbackslash{}\\_2] 0.0166768703284654\n",
       "\\item[PAY\\textbackslash{}\\_3] 0.0210522000654969\n",
       "\\item[BILL\\textbackslash{}\\_AMT1] -4.24593085946511e-07\n",
       "\\item[PAY\\textbackslash{}\\_AMT1] -9.57547000702246e-07\n",
       "\\item[PAY\\textbackslash{}\\_AMT4] -6.52958641243377e-07\n",
       "\\end{description*}\n"
      ],
      "text/markdown": [
       "(Intercept)\n",
       ":   0.287532763178504LIMIT_BAL\n",
       ":   -8.59414895636966e-08EDUCATION\n",
       ":   -0.017198158874796MARRIAGE\n",
       ":   -0.0193938547807015AGE\n",
       ":   0.00132510875511558PAY_0\n",
       ":   0.0950564160618812PAY_2\n",
       ":   0.0166768703284654PAY_3\n",
       ":   0.0210522000654969BILL_AMT1\n",
       ":   -4.24593085946511e-07PAY_AMT1\n",
       ":   -9.57547000702246e-07PAY_AMT4\n",
       ":   -6.52958641243377e-07\n",
       "\n"
      ],
      "text/plain": [
       "  (Intercept)     LIMIT_BAL     EDUCATION      MARRIAGE           AGE \n",
       " 2.875328e-01 -8.594149e-08 -1.719816e-02 -1.939385e-02  1.325109e-03 \n",
       "        PAY_0         PAY_2         PAY_3     BILL_AMT1      PAY_AMT1 \n",
       " 9.505642e-02  1.667687e-02  2.105220e-02 -4.245931e-07 -9.575470e-07 \n",
       "     PAY_AMT4 \n",
       "-6.529586e-07 "
      ]
     },
     "metadata": {},
     "output_type": "display_data"
    }
   ],
   "source": [
    "#storing the feature selected based on the forward model by bic coeficient\n",
    "selection.fwd.bic=names(coef(regfit.fwd,which.min(reg.summary.fwd$bic)))[-1]\n",
    "#displaying the coeficient and variables name for forward feature selection for bic\n",
    "coef(regfit.fwd,which.min(reg.summary.fwd$bic))"
   ]
  },
  {
   "cell_type": "markdown",
   "id": "aa63e795",
   "metadata": {},
   "source": [
    "#### 1.2 backward feature selection"
   ]
  },
  {
   "cell_type": "code",
   "execution_count": 191,
   "id": "838d413f",
   "metadata": {},
   "outputs": [],
   "source": [
    "# applying the backward feature selection to data\n",
    "regfit.bwd=regsubsets(default~.,data=DF,method='backward')\n",
    "# summary of backward featur selection\n",
    "reg.summary.bwd=summary(regfit.bwd)"
   ]
  },
  {
   "cell_type": "code",
   "execution_count": 192,
   "id": "5894eeec",
   "metadata": {},
   "outputs": [
    {
     "data": {
      "text/html": [
       "<style>\n",
       ".list-inline {list-style: none; margin:0; padding: 0}\n",
       ".list-inline>li {display: inline-block}\n",
       ".list-inline>li:not(:last-child)::after {content: \"\\00b7\"; padding: 0 .5ex}\n",
       "</style>\n",
       "<ol class=list-inline><li>'which'</li><li>'rsq'</li><li>'rss'</li><li>'adjr2'</li><li>'cp'</li><li>'bic'</li><li>'outmat'</li><li>'obj'</li></ol>\n"
      ],
      "text/latex": [
       "\\begin{enumerate*}\n",
       "\\item 'which'\n",
       "\\item 'rsq'\n",
       "\\item 'rss'\n",
       "\\item 'adjr2'\n",
       "\\item 'cp'\n",
       "\\item 'bic'\n",
       "\\item 'outmat'\n",
       "\\item 'obj'\n",
       "\\end{enumerate*}\n"
      ],
      "text/markdown": [
       "1. 'which'\n",
       "2. 'rsq'\n",
       "3. 'rss'\n",
       "4. 'adjr2'\n",
       "5. 'cp'\n",
       "6. 'bic'\n",
       "7. 'outmat'\n",
       "8. 'obj'\n",
       "\n",
       "\n"
      ],
      "text/plain": [
       "[1] \"which\"  \"rsq\"    \"rss\"    \"adjr2\"  \"cp\"     \"bic\"    \"outmat\" \"obj\"   "
      ]
     },
     "metadata": {},
     "output_type": "display_data"
    }
   ],
   "source": [
    "# coeficient names for backward feature selection\n",
    "names(reg.summary.bwd)"
   ]
  },
  {
   "cell_type": "code",
   "execution_count": 193,
   "id": "52cca546",
   "metadata": {},
   "outputs": [
    {
     "data": {
      "text/html": [
       "<style>\n",
       ".list-inline {list-style: none; margin:0; padding: 0}\n",
       ".list-inline>li {display: inline-block}\n",
       ".list-inline>li:not(:last-child)::after {content: \"\\00b7\"; padding: 0 .5ex}\n",
       "</style>\n",
       "<ol class=list-inline><li>0.0977088674768124</li><li>0.103945258269339</li><li>0.109079794175008</li><li>0.110858026120787</li><li>0.111761852579169</li><li>0.112603964900843</li><li>0.113243772842844</li><li>0.113866850216171</li></ol>\n"
      ],
      "text/latex": [
       "\\begin{enumerate*}\n",
       "\\item 0.0977088674768124\n",
       "\\item 0.103945258269339\n",
       "\\item 0.109079794175008\n",
       "\\item 0.110858026120787\n",
       "\\item 0.111761852579169\n",
       "\\item 0.112603964900843\n",
       "\\item 0.113243772842844\n",
       "\\item 0.113866850216171\n",
       "\\end{enumerate*}\n"
      ],
      "text/markdown": [
       "1. 0.0977088674768124\n",
       "2. 0.103945258269339\n",
       "3. 0.109079794175008\n",
       "4. 0.110858026120787\n",
       "5. 0.111761852579169\n",
       "6. 0.112603964900843\n",
       "7. 0.113243772842844\n",
       "8. 0.113866850216171\n",
       "\n",
       "\n"
      ],
      "text/plain": [
       "[1] 0.09770887 0.10394526 0.10907979 0.11085803 0.11176185 0.11260396 0.11324377\n",
       "[8] 0.11386685"
      ]
     },
     "metadata": {},
     "output_type": "display_data"
    }
   ],
   "source": [
    "#summary of RSQ for backward feature selection\n",
    "reg.summary.bwd$rsq"
   ]
  },
  {
   "cell_type": "code",
   "execution_count": 194,
   "id": "da772fec",
   "metadata": {},
   "outputs": [
    {
     "data": {
      "image/png": "[encoded data removed]",
      "text/plain": [
       "plot without title"
      ]
     },
     "metadata": {
      "image/png": {
       "height": 480,
       "width": 720
      }
     },
     "output_type": "display_data"
    }
   ],
   "source": [
    "#plot 4 diferent coeficient to show the best number of the features in diferent coeficients\n",
    "#paring axies to 4 cells\n",
    "par(mfrow=c(2,2))\n",
    "#plot the RSS\n",
    "plot(reg.summary.bwd$rss,xlab='Number of Variables',ylab='RSS',type='l')\n",
    "# Plot the adjusted rate 2 \n",
    "plot(reg.summary.bwd$adjr2,xlab='Number of Variables',ylab='Adjusted R square',type='l')\n",
    "# define the optimum point of adjusted rate 2\n",
    "points(which.max(reg.summary.bwd$adjr2),reg.summary.bwd$adjr2[which.max(reg.summary.bwd$adjr2)],col='red',cex=2,pch=20)\n",
    "#plot the cp\n",
    "plot(reg.summary.bwd$cp,xlab=\"Number of Variables\",ylab=\"Cp\",type='l')\n",
    "# define the optimum point of cp\n",
    "points(which.min(reg.summary.bwd$cp),reg.summary.bwd$cp[which.min(reg.summary.bwd$cp)],col=\"red\",cex=2,pch=20)\n",
    "# plot the Bic \n",
    "plot(reg.summary.bwd$bic,xlab=\"Number of Variables\",ylab=\"BIC\",type='l')\n",
    "# define the optimum point of bic\n",
    "points(which.min(reg.summary.bwd$bic),reg.summary.bwd$bic[which.min(reg.summary.bwd$bic)],col=\"red\",cex=2,pch=20)"
   ]
  },
  {
   "cell_type": "code",
   "execution_count": 195,
   "id": "df58b0c4",
   "metadata": {},
   "outputs": [
    {
     "data": {
      "image/png": "[encoded data removed]",
      "text/plain": [
       "plot without title"
      ]
     },
     "metadata": {
      "image/png": {
       "height": 480,
       "width": 720
      }
     },
     "output_type": "display_data"
    }
   ],
   "source": [
    "# ploting the R square of backward model\n",
    "plot(regfit.bwd,scale=\"r2\")"
   ]
  },
  {
   "cell_type": "code",
   "execution_count": 196,
   "id": "f4fb7c20",
   "metadata": {},
   "outputs": [
    {
     "data": {
      "image/png": "[encoded data removed]",
      "text/plain": [
       "plot without title"
      ]
     },
     "metadata": {
      "image/png": {
       "height": 480,
       "width": 720
      }
     },
     "output_type": "display_data"
    }
   ],
   "source": [
    "# ploting the adjusted rate 2 of backward model\n",
    "plot(regfit.bwd,scale=\"adjr2\")"
   ]
  },
  {
   "cell_type": "code",
   "execution_count": 197,
   "id": "54ec54b8",
   "metadata": {},
   "outputs": [
    {
     "data": {
      "image/png": "[encoded data removed]",
      "text/plain": [
       "plot without title"
      ]
     },
     "metadata": {
      "image/png": {
       "height": 480,
       "width": 720
      }
     },
     "output_type": "display_data"
    }
   ],
   "source": [
    "# ploting the CP of backward model\n",
    "plot(regfit.bwd,scale=\"Cp\")"
   ]
  },
  {
   "cell_type": "code",
   "execution_count": 198,
   "id": "bb5631f5",
   "metadata": {},
   "outputs": [
    {
     "data": {
      "image/png": "[encoded data removed]",
      "text/plain": [
       "plot without title"
      ]
     },
     "metadata": {
      "image/png": {
       "height": 480,
       "width": 720
      }
     },
     "output_type": "display_data"
    }
   ],
   "source": [
    "# ploting the bicof backward model\n",
    "plot(regfit.bwd,scale=\"bic\")"
   ]
  },
  {
   "cell_type": "code",
   "execution_count": 203,
   "id": "d42800bf",
   "metadata": {},
   "outputs": [
    {
     "data": {
      "text/html": [
       "<style>\n",
       ".dl-inline {width: auto; margin:0; padding: 0}\n",
       ".dl-inline>dt, .dl-inline>dd {float: none; width: auto; display: inline-block}\n",
       ".dl-inline>dt::after {content: \":\\0020\"; padding-right: .5ex}\n",
       ".dl-inline>dt:not(:first-of-type) {padding-left: .5ex}\n",
       "</style><dl class=dl-inline><dt>(Intercept)</dt><dd>0.23008949551663</dd><dt>EDUCATION</dt><dd>-0.0135278519443882</dd><dt>AGE</dt><dd>0.00160157514782333</dd><dt>PAY_0</dt><dd>0.09613130771104</dd><dt>PAY_2</dt><dd>0.0180499336009905</dd><dt>PAY_3</dt><dd>0.0221922026236955</dd><dt>BILL_AMT1</dt><dd>-4.74981916024901e-07</dd><dt>PAY_AMT1</dt><dd>-1.03997404640892e-06</dd><dt>PAY_AMT4</dt><dd>-7.17918021330034e-07</dd></dl>\n"
      ],
      "text/latex": [
       "\\begin{description*}\n",
       "\\item[(Intercept)] 0.23008949551663\n",
       "\\item[EDUCATION] -0.0135278519443882\n",
       "\\item[AGE] 0.00160157514782333\n",
       "\\item[PAY\\textbackslash{}\\_0] 0.09613130771104\n",
       "\\item[PAY\\textbackslash{}\\_2] 0.0180499336009905\n",
       "\\item[PAY\\textbackslash{}\\_3] 0.0221922026236955\n",
       "\\item[BILL\\textbackslash{}\\_AMT1] -4.74981916024901e-07\n",
       "\\item[PAY\\textbackslash{}\\_AMT1] -1.03997404640892e-06\n",
       "\\item[PAY\\textbackslash{}\\_AMT4] -7.17918021330034e-07\n",
       "\\end{description*}\n"
      ],
      "text/markdown": [
       "(Intercept)\n",
       ":   0.23008949551663EDUCATION\n",
       ":   -0.0135278519443882AGE\n",
       ":   0.00160157514782333PAY_0\n",
       ":   0.09613130771104PAY_2\n",
       ":   0.0180499336009905PAY_3\n",
       ":   0.0221922026236955BILL_AMT1\n",
       ":   -4.74981916024901e-07PAY_AMT1\n",
       ":   -1.03997404640892e-06PAY_AMT4\n",
       ":   -7.17918021330034e-07\n",
       "\n"
      ],
      "text/plain": [
       "  (Intercept)     EDUCATION           AGE         PAY_0         PAY_2 \n",
       " 2.300895e-01 -1.352785e-02  1.601575e-03  9.613131e-02  1.804993e-02 \n",
       "        PAY_3     BILL_AMT1      PAY_AMT1      PAY_AMT4 \n",
       " 2.219220e-02 -4.749819e-07 -1.039974e-06 -7.179180e-07 "
      ]
     },
     "metadata": {},
     "output_type": "display_data"
    }
   ],
   "source": [
    "#storing the feature selected based on the backward model by cp coeficient\n",
    "selection.bwd.cp=names(coef(regfit.bwd,which.min(reg.summary.bwd$cp)))[-1]\n",
    "#displaying the coeficient and variables name for backward feature selection for CP\n",
    "coef(regfit.bwd,which.min(reg.summary.bwd$cp))"
   ]
  },
  {
   "cell_type": "code",
   "execution_count": 204,
   "id": "17c8e6fb",
   "metadata": {},
   "outputs": [
    {
     "data": {
      "text/html": [
       "<style>\n",
       ".dl-inline {width: auto; margin:0; padding: 0}\n",
       ".dl-inline>dt, .dl-inline>dd {float: none; width: auto; display: inline-block}\n",
       ".dl-inline>dt::after {content: \":\\0020\"; padding-right: .5ex}\n",
       ".dl-inline>dt:not(:first-of-type) {padding-left: .5ex}\n",
       "</style><dl class=dl-inline><dt>(Intercept)</dt><dd>0.23008949551663</dd><dt>EDUCATION</dt><dd>-0.0135278519443882</dd><dt>AGE</dt><dd>0.00160157514782333</dd><dt>PAY_0</dt><dd>0.09613130771104</dd><dt>PAY_2</dt><dd>0.0180499336009905</dd><dt>PAY_3</dt><dd>0.0221922026236955</dd><dt>BILL_AMT1</dt><dd>-4.74981916024901e-07</dd><dt>PAY_AMT1</dt><dd>-1.03997404640892e-06</dd><dt>PAY_AMT4</dt><dd>-7.17918021330034e-07</dd></dl>\n"
      ],
      "text/latex": [
       "\\begin{description*}\n",
       "\\item[(Intercept)] 0.23008949551663\n",
       "\\item[EDUCATION] -0.0135278519443882\n",
       "\\item[AGE] 0.00160157514782333\n",
       "\\item[PAY\\textbackslash{}\\_0] 0.09613130771104\n",
       "\\item[PAY\\textbackslash{}\\_2] 0.0180499336009905\n",
       "\\item[PAY\\textbackslash{}\\_3] 0.0221922026236955\n",
       "\\item[BILL\\textbackslash{}\\_AMT1] -4.74981916024901e-07\n",
       "\\item[PAY\\textbackslash{}\\_AMT1] -1.03997404640892e-06\n",
       "\\item[PAY\\textbackslash{}\\_AMT4] -7.17918021330034e-07\n",
       "\\end{description*}\n"
      ],
      "text/markdown": [
       "(Intercept)\n",
       ":   0.23008949551663EDUCATION\n",
       ":   -0.0135278519443882AGE\n",
       ":   0.00160157514782333PAY_0\n",
       ":   0.09613130771104PAY_2\n",
       ":   0.0180499336009905PAY_3\n",
       ":   0.0221922026236955BILL_AMT1\n",
       ":   -4.74981916024901e-07PAY_AMT1\n",
       ":   -1.03997404640892e-06PAY_AMT4\n",
       ":   -7.17918021330034e-07\n",
       "\n"
      ],
      "text/plain": [
       "  (Intercept)     EDUCATION           AGE         PAY_0         PAY_2 \n",
       " 2.300895e-01 -1.352785e-02  1.601575e-03  9.613131e-02  1.804993e-02 \n",
       "        PAY_3     BILL_AMT1      PAY_AMT1      PAY_AMT4 \n",
       " 2.219220e-02 -4.749819e-07 -1.039974e-06 -7.179180e-07 "
      ]
     },
     "metadata": {},
     "output_type": "display_data"
    }
   ],
   "source": [
    "#storing the feature selected based on the backward model by bic coeficient\n",
    "selection.bwd.bic=names(coef(regfit.bwd,which.min(reg.summary.bwd$bic)))[-1]\n",
    "#displaying the coeficient and variables name for backward feature selection for bic\n",
    "coef(regfit.bwd,which.min(reg.summary.bwd$bic))"
   ]
  },
  {
   "cell_type": "markdown",
   "id": "27cfca44",
   "metadata": {},
   "source": [
    "#### 1.3. Choosing among model using validation set"
   ]
  },
  {
   "cell_type": "code",
   "execution_count": 206,
   "id": "1f028de8",
   "metadata": {},
   "outputs": [],
   "source": [
    "#train and test split\n",
    "set.seed(613)\n",
    "#tain Data\n",
    "train=sample(c(TRUE,FALSE), nrow(DF),rep=TRUE)\n",
    "# Test Data\n",
    "test=(!train)"
   ]
  },
  {
   "cell_type": "code",
   "execution_count": 208,
   "id": "2c9b2673",
   "metadata": {},
   "outputs": [],
   "source": [
    "# applyin model on test set\n",
    "regfit.best=regsubsets(default~.,data=DF[train,],nvmax=23)"
   ]
  },
  {
   "cell_type": "code",
   "execution_count": 209,
   "id": "00bc7316",
   "metadata": {},
   "outputs": [],
   "source": [
    "# Making model matrix based on the test set\n",
    "test.mat=model.matrix(default~.,data=DF[test,])"
   ]
  },
  {
   "cell_type": "code",
   "execution_count": 214,
   "id": "7cdd0dd2",
   "metadata": {},
   "outputs": [],
   "source": [
    "# setting val errors based on the number of variables\n",
    "val.errors=rep(NA,23)\n",
    "#using for loop to obtain the coeficiant for each variable\n",
    "for(i in 1:23){\n",
    "   coefi=coef(regfit.best,id=i)\n",
    "   pred=test.mat[,names(coefi)]%*%coefi\n",
    "   val.errors[i]=mean((DF$default[test]-pred)^2)\n",
    "}"
   ]
  },
  {
   "cell_type": "code",
   "execution_count": 215,
   "id": "af179f32",
   "metadata": {},
   "outputs": [
    {
     "data": {
      "text/html": [
       "<style>\n",
       ".list-inline {list-style: none; margin:0; padding: 0}\n",
       ".list-inline>li {display: inline-block}\n",
       ".list-inline>li:not(:last-child)::after {content: \"\\00b7\"; padding: 0 .5ex}\n",
       "</style>\n",
       "<ol class=list-inline><li>0.153691798650158</li><li>0.152913401386796</li><li>0.15240676298541</li><li>0.152285709844373</li><li>0.152021679801062</li><li>0.151982023292969</li><li>0.151989584447261</li><li>0.151719580063856</li><li>0.151677399484814</li><li>0.15187695288051</li><li>0.15177903036481</li><li>0.151369674172342</li><li>0.151555399979498</li><li>0.151450784563474</li><li>0.151429264161077</li><li>0.151424384733194</li><li>0.151592621449598</li><li>0.151618438419699</li><li>0.151640497800777</li><li>0.151625577241638</li><li>0.151636891751786</li><li>0.151637803767446</li><li>0.151635032277544</li></ol>\n"
      ],
      "text/latex": [
       "\\begin{enumerate*}\n",
       "\\item 0.153691798650158\n",
       "\\item 0.152913401386796\n",
       "\\item 0.15240676298541\n",
       "\\item 0.152285709844373\n",
       "\\item 0.152021679801062\n",
       "\\item 0.151982023292969\n",
       "\\item 0.151989584447261\n",
       "\\item 0.151719580063856\n",
       "\\item 0.151677399484814\n",
       "\\item 0.15187695288051\n",
       "\\item 0.15177903036481\n",
       "\\item 0.151369674172342\n",
       "\\item 0.151555399979498\n",
       "\\item 0.151450784563474\n",
       "\\item 0.151429264161077\n",
       "\\item 0.151424384733194\n",
       "\\item 0.151592621449598\n",
       "\\item 0.151618438419699\n",
       "\\item 0.151640497800777\n",
       "\\item 0.151625577241638\n",
       "\\item 0.151636891751786\n",
       "\\item 0.151637803767446\n",
       "\\item 0.151635032277544\n",
       "\\end{enumerate*}\n"
      ],
      "text/markdown": [
       "1. 0.153691798650158\n",
       "2. 0.152913401386796\n",
       "3. 0.15240676298541\n",
       "4. 0.152285709844373\n",
       "5. 0.152021679801062\n",
       "6. 0.151982023292969\n",
       "7. 0.151989584447261\n",
       "8. 0.151719580063856\n",
       "9. 0.151677399484814\n",
       "10. 0.15187695288051\n",
       "11. 0.15177903036481\n",
       "12. 0.151369674172342\n",
       "13. 0.151555399979498\n",
       "14. 0.151450784563474\n",
       "15. 0.151429264161077\n",
       "16. 0.151424384733194\n",
       "17. 0.151592621449598\n",
       "18. 0.151618438419699\n",
       "19. 0.151640497800777\n",
       "20. 0.151625577241638\n",
       "21. 0.151636891751786\n",
       "22. 0.151637803767446\n",
       "23. 0.151635032277544\n",
       "\n",
       "\n"
      ],
      "text/plain": [
       " [1] 0.1536918 0.1529134 0.1524068 0.1522857 0.1520217 0.1519820 0.1519896\n",
       " [8] 0.1517196 0.1516774 0.1518770 0.1517790 0.1513697 0.1515554 0.1514508\n",
       "[15] 0.1514293 0.1514244 0.1515926 0.1516184 0.1516405 0.1516256 0.1516369\n",
       "[22] 0.1516378 0.1516350"
      ]
     },
     "metadata": {},
     "output_type": "display_data"
    }
   ],
   "source": [
    "#see the  error of each variable\n",
    "val.errors"
   ]
  },
  {
   "cell_type": "code",
   "execution_count": 216,
   "id": "075b215b",
   "metadata": {},
   "outputs": [
    {
     "data": {
      "text/html": [
       "12"
      ],
      "text/latex": [
       "12"
      ],
      "text/markdown": [
       "12"
      ],
      "text/plain": [
       "[1] 12"
      ]
     },
     "metadata": {},
     "output_type": "display_data"
    }
   ],
   "source": [
    "# get the number which have minimum error\n",
    "which.min(val.errors)"
   ]
  },
  {
   "cell_type": "code",
   "execution_count": 217,
   "id": "df97dd63",
   "metadata": {},
   "outputs": [
    {
     "data": {
      "text/html": [
       "<style>\n",
       ".dl-inline {width: auto; margin:0; padding: 0}\n",
       ".dl-inline>dt, .dl-inline>dd {float: none; width: auto; display: inline-block}\n",
       ".dl-inline>dt::after {content: \":\\0020\"; padding-right: .5ex}\n",
       ".dl-inline>dt:not(:first-of-type) {padding-left: .5ex}\n",
       "</style><dl class=dl-inline><dt>(Intercept)</dt><dd>0.307476921793777</dd><dt>LIMIT_BAL</dt><dd>-8.87221736720613e-08</dd><dt>EDUCATION</dt><dd>-0.019756743409948</dd><dt>MARRIAGE</dt><dd>-0.0174383962346573</dd><dt>AGE</dt><dd>0.00111062715635614</dd><dt>PAY_0</dt><dd>0.0941172082523957</dd><dt>PAY_2</dt><dd>0.0229113552854368</dd><dt>PAY_3</dt><dd>0.0117137146871479</dd><dt>PAY_5</dt><dd>0.0123306138619556</dd><dt>BILL_AMT1</dt><dd>-4.5936312455302e-07</dd><dt>PAY_AMT1</dt><dd>-8.7490840601184e-07</dd><dt>PAY_AMT4</dt><dd>-7.63136937139517e-07</dd><dt>PAY_AMT5</dt><dd>-5.79683240875945e-07</dd></dl>\n"
      ],
      "text/latex": [
       "\\begin{description*}\n",
       "\\item[(Intercept)] 0.307476921793777\n",
       "\\item[LIMIT\\textbackslash{}\\_BAL] -8.87221736720613e-08\n",
       "\\item[EDUCATION] -0.019756743409948\n",
       "\\item[MARRIAGE] -0.0174383962346573\n",
       "\\item[AGE] 0.00111062715635614\n",
       "\\item[PAY\\textbackslash{}\\_0] 0.0941172082523957\n",
       "\\item[PAY\\textbackslash{}\\_2] 0.0229113552854368\n",
       "\\item[PAY\\textbackslash{}\\_3] 0.0117137146871479\n",
       "\\item[PAY\\textbackslash{}\\_5] 0.0123306138619556\n",
       "\\item[BILL\\textbackslash{}\\_AMT1] -4.5936312455302e-07\n",
       "\\item[PAY\\textbackslash{}\\_AMT1] -8.7490840601184e-07\n",
       "\\item[PAY\\textbackslash{}\\_AMT4] -7.63136937139517e-07\n",
       "\\item[PAY\\textbackslash{}\\_AMT5] -5.79683240875945e-07\n",
       "\\end{description*}\n"
      ],
      "text/markdown": [
       "(Intercept)\n",
       ":   0.307476921793777LIMIT_BAL\n",
       ":   -8.87221736720613e-08EDUCATION\n",
       ":   -0.019756743409948MARRIAGE\n",
       ":   -0.0174383962346573AGE\n",
       ":   0.00111062715635614PAY_0\n",
       ":   0.0941172082523957PAY_2\n",
       ":   0.0229113552854368PAY_3\n",
       ":   0.0117137146871479PAY_5\n",
       ":   0.0123306138619556BILL_AMT1\n",
       ":   -4.5936312455302e-07PAY_AMT1\n",
       ":   -8.7490840601184e-07PAY_AMT4\n",
       ":   -7.63136937139517e-07PAY_AMT5\n",
       ":   -5.79683240875945e-07\n",
       "\n"
      ],
      "text/plain": [
       "  (Intercept)     LIMIT_BAL     EDUCATION      MARRIAGE           AGE \n",
       " 3.074769e-01 -8.872217e-08 -1.975674e-02 -1.743840e-02  1.110627e-03 \n",
       "        PAY_0         PAY_2         PAY_3         PAY_5     BILL_AMT1 \n",
       " 9.411721e-02  2.291136e-02  1.171371e-02  1.233061e-02 -4.593631e-07 \n",
       "     PAY_AMT1      PAY_AMT4      PAY_AMT5 \n",
       "-8.749084e-07 -7.631369e-07 -5.796832e-07 "
      ]
     },
     "metadata": {},
     "output_type": "display_data"
    }
   ],
   "source": [
    "# get the coeficient of minimum error\n",
    "coef(regfit.best,12)"
   ]
  },
  {
   "cell_type": "code",
   "execution_count": 222,
   "id": "16ccbbb3",
   "metadata": {},
   "outputs": [],
   "source": [
    "# define function for prediction  \n",
    "predict.regsubsets=function(object,newdata,id,...){\n",
    "  form=as.formula(object$call[[2]])\n",
    "  mat=model.matrix(form,newdata)\n",
    "  coefi=coef(object,id=id)\n",
    "  xvars=names(coefi)\n",
    "  mat[,xvars]%*%coefi\n",
    "  }"
   ]
  },
  {
   "cell_type": "code",
   "execution_count": 223,
   "id": "ada544c0",
   "metadata": {},
   "outputs": [
    {
     "data": {
      "text/html": [
       "<style>\n",
       ".dl-inline {width: auto; margin:0; padding: 0}\n",
       ".dl-inline>dt, .dl-inline>dd {float: none; width: auto; display: inline-block}\n",
       ".dl-inline>dt::after {content: \":\\0020\"; padding-right: .5ex}\n",
       ".dl-inline>dt:not(:first-of-type) {padding-left: .5ex}\n",
       "</style><dl class=dl-inline><dt>(Intercept)</dt><dd>0.288311720565103</dd><dt>LIMIT_BAL</dt><dd>-7.33173078547891e-08</dd><dt>EDUCATION</dt><dd>-0.0172550078216171</dd><dt>MARRIAGE</dt><dd>-0.0193455684996509</dd><dt>AGE</dt><dd>0.00133970781889848</dd><dt>PAY_0</dt><dd>0.0938320007329055</dd><dt>PAY_2</dt><dd>0.0155058526440744</dd><dt>PAY_3</dt><dd>0.0169181585140185</dd><dt>PAY_5</dt><dd>0.00913461607548288</dd><dt>BILL_AMT1</dt><dd>-4.24037057867795e-07</dd><dt>PAY_AMT1</dt><dd>-9.30015733202418e-07</dd><dt>PAY_AMT4</dt><dd>-5.85706621879772e-07</dd><dt>PAY_AMT5</dt><dd>-4.77654845187196e-07</dd></dl>\n"
      ],
      "text/latex": [
       "\\begin{description*}\n",
       "\\item[(Intercept)] 0.288311720565103\n",
       "\\item[LIMIT\\textbackslash{}\\_BAL] -7.33173078547891e-08\n",
       "\\item[EDUCATION] -0.0172550078216171\n",
       "\\item[MARRIAGE] -0.0193455684996509\n",
       "\\item[AGE] 0.00133970781889848\n",
       "\\item[PAY\\textbackslash{}\\_0] 0.0938320007329055\n",
       "\\item[PAY\\textbackslash{}\\_2] 0.0155058526440744\n",
       "\\item[PAY\\textbackslash{}\\_3] 0.0169181585140185\n",
       "\\item[PAY\\textbackslash{}\\_5] 0.00913461607548288\n",
       "\\item[BILL\\textbackslash{}\\_AMT1] -4.24037057867795e-07\n",
       "\\item[PAY\\textbackslash{}\\_AMT1] -9.30015733202418e-07\n",
       "\\item[PAY\\textbackslash{}\\_AMT4] -5.85706621879772e-07\n",
       "\\item[PAY\\textbackslash{}\\_AMT5] -4.77654845187196e-07\n",
       "\\end{description*}\n"
      ],
      "text/markdown": [
       "(Intercept)\n",
       ":   0.288311720565103LIMIT_BAL\n",
       ":   -7.33173078547891e-08EDUCATION\n",
       ":   -0.0172550078216171MARRIAGE\n",
       ":   -0.0193455684996509AGE\n",
       ":   0.00133970781889848PAY_0\n",
       ":   0.0938320007329055PAY_2\n",
       ":   0.0155058526440744PAY_3\n",
       ":   0.0169181585140185PAY_5\n",
       ":   0.00913461607548288BILL_AMT1\n",
       ":   -4.24037057867795e-07PAY_AMT1\n",
       ":   -9.30015733202418e-07PAY_AMT4\n",
       ":   -5.85706621879772e-07PAY_AMT5\n",
       ":   -4.77654845187196e-07\n",
       "\n"
      ],
      "text/plain": [
       "  (Intercept)     LIMIT_BAL     EDUCATION      MARRIAGE           AGE \n",
       " 2.883117e-01 -7.331731e-08 -1.725501e-02 -1.934557e-02  1.339708e-03 \n",
       "        PAY_0         PAY_2         PAY_3         PAY_5     BILL_AMT1 \n",
       " 9.383200e-02  1.550585e-02  1.691816e-02  9.134616e-03 -4.240371e-07 \n",
       "     PAY_AMT1      PAY_AMT4      PAY_AMT5 \n",
       "-9.300157e-07 -5.857066e-07 -4.776548e-07 "
      ]
     },
     "metadata": {},
     "output_type": "display_data"
    }
   ],
   "source": [
    "# apply the best result on whole data set\n",
    "regfit.best=regsubsets(default~.,data=DF,nvmax=23)\n",
    "coef(regfit.best,12)"
   ]
  },
  {
   "cell_type": "code",
   "execution_count": 228,
   "id": "1b2ba46b",
   "metadata": {},
   "outputs": [],
   "source": [
    "# Cross validation for choosing among models\n",
    "k=12\n",
    "set.seed(613)\n",
    "folds=sample(1:k,nrow(DF),replace=TRUE)\n",
    "cv.errors=matrix(NA,k,23, dimnames=list(NULL, paste(1:23)))"
   ]
  },
  {
   "cell_type": "code",
   "execution_count": 230,
   "id": "3d2f92ce",
   "metadata": {},
   "outputs": [],
   "source": [
    "# get the test error for each model size\n",
    "for(j in 1:k){\n",
    "  best.fit=regsubsets(default~.,data=DF[folds!=j,],nvmax=23)\n",
    "  for(i in 1:23){\n",
    "    pred=predict(best.fit,DF[folds==j,],id=i)\n",
    "    cv.errors[j,i]=mean( (DF$default[folds==j]-pred)^2)\n",
    "    }\n",
    "  }"
   ]
  },
  {
   "cell_type": "code",
   "execution_count": 231,
   "id": "869a6e7f",
   "metadata": {},
   "outputs": [
    {
     "data": {
      "text/html": [
       "<style>\n",
       ".dl-inline {width: auto; margin:0; padding: 0}\n",
       ".dl-inline>dt, .dl-inline>dd {float: none; width: auto; display: inline-block}\n",
       ".dl-inline>dt::after {content: \":\\0020\"; padding-right: .5ex}\n",
       ".dl-inline>dt:not(:first-of-type) {padding-left: .5ex}\n",
       "</style><dl class=dl-inline><dt>1</dt><dd>0.155174161269067</dd><dt>2</dt><dd>0.154110059886231</dd><dt>3</dt><dd>0.153443987364187</dd><dt>4</dt><dd>0.152977237726013</dd><dt>5</dt><dd>0.153168692258554</dd><dt>6</dt><dd>0.15307206105806</dd><dt>7</dt><dd>0.152995331656428</dd><dt>8</dt><dd>0.152835485179707</dd><dt>9</dt><dd>0.152832862814196</dd><dt>10</dt><dd>0.15267770319247</dd><dt>11</dt><dd>0.152594612248684</dd><dt>12</dt><dd>0.152558118827425</dd><dt>13</dt><dd>0.152519878711752</dd><dt>14</dt><dd>0.152472504719872</dd><dt>15</dt><dd>0.152446590896659</dd><dt>16</dt><dd>0.152448601276185</dd><dt>17</dt><dd>0.152472371975497</dd><dt>18</dt><dd>0.152479733825461</dd><dt>19</dt><dd>0.152480730549257</dd><dt>20</dt><dd>0.152453820790286</dd><dt>21</dt><dd>0.152426883369408</dd><dt>22</dt><dd>0.152452738797111</dd><dt>23</dt><dd>0.152457444235676</dd></dl>\n"
      ],
      "text/latex": [
       "\\begin{description*}\n",
       "\\item[1] 0.155174161269067\n",
       "\\item[2] 0.154110059886231\n",
       "\\item[3] 0.153443987364187\n",
       "\\item[4] 0.152977237726013\n",
       "\\item[5] 0.153168692258554\n",
       "\\item[6] 0.15307206105806\n",
       "\\item[7] 0.152995331656428\n",
       "\\item[8] 0.152835485179707\n",
       "\\item[9] 0.152832862814196\n",
       "\\item[10] 0.15267770319247\n",
       "\\item[11] 0.152594612248684\n",
       "\\item[12] 0.152558118827425\n",
       "\\item[13] 0.152519878711752\n",
       "\\item[14] 0.152472504719872\n",
       "\\item[15] 0.152446590896659\n",
       "\\item[16] 0.152448601276185\n",
       "\\item[17] 0.152472371975497\n",
       "\\item[18] 0.152479733825461\n",
       "\\item[19] 0.152480730549257\n",
       "\\item[20] 0.152453820790286\n",
       "\\item[21] 0.152426883369408\n",
       "\\item[22] 0.152452738797111\n",
       "\\item[23] 0.152457444235676\n",
       "\\end{description*}\n"
      ],
      "text/markdown": [
       "1\n",
       ":   0.1551741612690672\n",
       ":   0.1541100598862313\n",
       ":   0.1534439873641874\n",
       ":   0.1529772377260135\n",
       ":   0.1531686922585546\n",
       ":   0.153072061058067\n",
       ":   0.1529953316564288\n",
       ":   0.1528354851797079\n",
       ":   0.15283286281419610\n",
       ":   0.1526777031924711\n",
       ":   0.15259461224868412\n",
       ":   0.15255811882742513\n",
       ":   0.15251987871175214\n",
       ":   0.15247250471987215\n",
       ":   0.15244659089665916\n",
       ":   0.15244860127618517\n",
       ":   0.15247237197549718\n",
       ":   0.15247973382546119\n",
       ":   0.15248073054925720\n",
       ":   0.15245382079028621\n",
       ":   0.15242688336940822\n",
       ":   0.15245273879711123\n",
       ":   0.152457444235676\n",
       "\n"
      ],
      "text/plain": [
       "        1         2         3         4         5         6         7         8 \n",
       "0.1551742 0.1541101 0.1534440 0.1529772 0.1531687 0.1530721 0.1529953 0.1528355 \n",
       "        9        10        11        12        13        14        15        16 \n",
       "0.1528329 0.1526777 0.1525946 0.1525581 0.1525199 0.1524725 0.1524466 0.1524486 \n",
       "       17        18        19        20        21        22        23 \n",
       "0.1524724 0.1524797 0.1524807 0.1524538 0.1524269 0.1524527 0.1524574 "
      ]
     },
     "metadata": {},
     "output_type": "display_data"
    }
   ],
   "source": [
    "# mean of error of each model\n",
    "mean.cv.errors=apply(cv.errors,2,mean)\n",
    "mean.cv.errors"
   ]
  },
  {
   "cell_type": "code",
   "execution_count": 232,
   "id": "4133d9e3",
   "metadata": {},
   "outputs": [
    {
     "data": {
      "image/png": "[encoded data removed]",
      "text/plain": [
       "plot without title"
      ]
     },
     "metadata": {
      "image/png": {
       "height": 480,
       "width": 720
      }
     },
     "output_type": "display_data"
    }
   ],
   "source": [
    "#ploting the results on mean errors \n",
    "par(mfrow=c(1,1))\n",
    "plot(mean.cv.errors,type='b')"
   ]
  },
  {
   "cell_type": "code",
   "execution_count": 236,
   "id": "cee0a3b2",
   "metadata": {},
   "outputs": [
    {
     "data": {
      "text/html": [
       "<style>\n",
       ".dl-inline {width: auto; margin:0; padding: 0}\n",
       ".dl-inline>dt, .dl-inline>dd {float: none; width: auto; display: inline-block}\n",
       ".dl-inline>dt::after {content: \":\\0020\"; padding-right: .5ex}\n",
       ".dl-inline>dt:not(:first-of-type) {padding-left: .5ex}\n",
       "</style><dl class=dl-inline><dt>(Intercept)</dt><dd>0.288311720565103</dd><dt>LIMIT_BAL</dt><dd>-7.33173078547891e-08</dd><dt>EDUCATION</dt><dd>-0.0172550078216171</dd><dt>MARRIAGE</dt><dd>-0.0193455684996509</dd><dt>AGE</dt><dd>0.00133970781889848</dd><dt>PAY_0</dt><dd>0.0938320007329055</dd><dt>PAY_2</dt><dd>0.0155058526440744</dd><dt>PAY_3</dt><dd>0.0169181585140185</dd><dt>PAY_5</dt><dd>0.00913461607548288</dd><dt>BILL_AMT1</dt><dd>-4.24037057867795e-07</dd><dt>PAY_AMT1</dt><dd>-9.30015733202418e-07</dd><dt>PAY_AMT4</dt><dd>-5.85706621879772e-07</dd><dt>PAY_AMT5</dt><dd>-4.77654845187196e-07</dd></dl>\n"
      ],
      "text/latex": [
       "\\begin{description*}\n",
       "\\item[(Intercept)] 0.288311720565103\n",
       "\\item[LIMIT\\textbackslash{}\\_BAL] -7.33173078547891e-08\n",
       "\\item[EDUCATION] -0.0172550078216171\n",
       "\\item[MARRIAGE] -0.0193455684996509\n",
       "\\item[AGE] 0.00133970781889848\n",
       "\\item[PAY\\textbackslash{}\\_0] 0.0938320007329055\n",
       "\\item[PAY\\textbackslash{}\\_2] 0.0155058526440744\n",
       "\\item[PAY\\textbackslash{}\\_3] 0.0169181585140185\n",
       "\\item[PAY\\textbackslash{}\\_5] 0.00913461607548288\n",
       "\\item[BILL\\textbackslash{}\\_AMT1] -4.24037057867795e-07\n",
       "\\item[PAY\\textbackslash{}\\_AMT1] -9.30015733202418e-07\n",
       "\\item[PAY\\textbackslash{}\\_AMT4] -5.85706621879772e-07\n",
       "\\item[PAY\\textbackslash{}\\_AMT5] -4.77654845187196e-07\n",
       "\\end{description*}\n"
      ],
      "text/markdown": [
       "(Intercept)\n",
       ":   0.288311720565103LIMIT_BAL\n",
       ":   -7.33173078547891e-08EDUCATION\n",
       ":   -0.0172550078216171MARRIAGE\n",
       ":   -0.0193455684996509AGE\n",
       ":   0.00133970781889848PAY_0\n",
       ":   0.0938320007329055PAY_2\n",
       ":   0.0155058526440744PAY_3\n",
       ":   0.0169181585140185PAY_5\n",
       ":   0.00913461607548288BILL_AMT1\n",
       ":   -4.24037057867795e-07PAY_AMT1\n",
       ":   -9.30015733202418e-07PAY_AMT4\n",
       ":   -5.85706621879772e-07PAY_AMT5\n",
       ":   -4.77654845187196e-07\n",
       "\n"
      ],
      "text/plain": [
       "  (Intercept)     LIMIT_BAL     EDUCATION      MARRIAGE           AGE \n",
       " 2.883117e-01 -7.331731e-08 -1.725501e-02 -1.934557e-02  1.339708e-03 \n",
       "        PAY_0         PAY_2         PAY_3         PAY_5     BILL_AMT1 \n",
       " 9.383200e-02  1.550585e-02  1.691816e-02  9.134616e-03 -4.240371e-07 \n",
       "     PAY_AMT1      PAY_AMT4      PAY_AMT5 \n",
       "-9.300157e-07 -5.857066e-07 -4.776548e-07 "
      ]
     },
     "metadata": {},
     "output_type": "display_data"
    }
   ],
   "source": [
    "# fitting model and get the coeficiant for the optimum number of variables\n",
    "reg.best=regsubsets(default~.,data=DF, nvmax=23)\n",
    "#storing the feature selected based on the backward model by bic coeficient\n",
    "selection.best=names(coef(reg.best,12))[-1]\n",
    "# results for best variables\n",
    "coef(reg.best,12)"
   ]
  },
  {
   "cell_type": "markdown",
   "id": "ef9e0e3c",
   "metadata": {},
   "source": [
    "#### 1.3. Ridge Regression"
   ]
  },
  {
   "cell_type": "code",
   "execution_count": 240,
   "id": "67a013a8",
   "metadata": {},
   "outputs": [],
   "source": [
    "#define independant variables and dependant variable\n",
    "# independants\n",
    "x=model.matrix(default~.,DF)[,-1]\n",
    "# dependant\n",
    "y=DF$default"
   ]
  },
  {
   "cell_type": "code",
   "execution_count": 241,
   "id": "0ff6eef6",
   "metadata": {},
   "outputs": [],
   "source": [
    "#fdefining range for the lambda\n",
    "grid=10^seq(10,-2,length=100)\n",
    "#applying ridge regression\n",
    "ridge.mod=glmnet(x,y,alpha=0,lambda=grid)"
   ]
  },
  {
   "cell_type": "code",
   "execution_count": 242,
   "id": "309e4c70",
   "metadata": {},
   "outputs": [
    {
     "data": {
      "text/html": [
       "<style>\n",
       ".list-inline {list-style: none; margin:0; padding: 0}\n",
       ".list-inline>li {display: inline-block}\n",
       ".list-inline>li:not(:last-child)::after {content: \"\\00b7\"; padding: 0 .5ex}\n",
       "</style>\n",
       "<ol class=list-inline><li>24</li><li>100</li></ol>\n"
      ],
      "text/latex": [
       "\\begin{enumerate*}\n",
       "\\item 24\n",
       "\\item 100\n",
       "\\end{enumerate*}\n"
      ],
      "text/markdown": [
       "1. 24\n",
       "2. 100\n",
       "\n",
       "\n"
      ],
      "text/plain": [
       "[1]  24 100"
      ]
     },
     "metadata": {},
     "output_type": "display_data"
    }
   ],
   "source": [
    "#dimention of model\n",
    "dim(coef(ridge.mod))"
   ]
  },
  {
   "cell_type": "code",
   "execution_count": 243,
   "id": "5ce57aad",
   "metadata": {},
   "outputs": [
    {
     "data": {
      "text/html": [
       "305.385550883341"
      ],
      "text/latex": [
       "305.385550883341"
      ],
      "text/markdown": [
       "305.385550883341"
      ],
      "text/plain": [
       "[1] 305.3856"
      ]
     },
     "metadata": {},
     "output_type": "display_data"
    },
    {
     "data": {
      "text/html": [
       "<style>\n",
       ".dl-inline {width: auto; margin:0; padding: 0}\n",
       ".dl-inline>dt, .dl-inline>dd {float: none; width: auto; display: inline-block}\n",
       ".dl-inline>dt::after {content: \":\\0020\"; padding-right: .5ex}\n",
       ".dl-inline>dt:not(:first-of-type) {padding-left: .5ex}\n",
       "</style><dl class=dl-inline><dt>(Intercept)</dt><dd>0.221055296093481</dd><dt>LIMIT_BAL</dt><dd>-6.3067761487185e-10</dd><dt>SEX</dt><dd>-4.06702548370714e-05</dd><dt>EDUCATION</dt><dd>1.57968128641379e-05</dd><dt>MARRIAGE</dt><dd>-1.88316141215861e-05</dd><dt>AGE</dt><dd>4.59900612326653e-07</dd><dt>PAY_0</dt><dd>0.000158099817941865</dd><dt>PAY_2</dt><dd>0.000118494117224926</dd><dt>PAY_3</dt><dd>0.000106791662553222</dd><dt>PAY_4</dt><dd>0.000100694576948513</dd><dt>PAY_5</dt><dd>9.8241647230404e-05</dd><dt>PAY_6</dt><dd>8.82166334600016e-05</dd><dt>BILL_AMT1</dt><dd>-1.53697717651663e-10</dd><dt>BILL_AMT2</dt><dd>-1.05983278101792e-10</dd><dt>BILL_AMT3</dt><dd>-1.1368431657219e-10</dd><dt>BILL_AMT4</dt><dd>-9.23735142800103e-11</dd><dt>BILL_AMT5</dt><dd>-7.41143164411771e-11</dd><dt>BILL_AMT6</dt><dd>-6.56817561527114e-11</dd><dt>PAY_AMT1</dt><dd>-2.77178942281453e-09</dd><dt>PAY_AMT2</dt><dd>-1.51929919103228e-09</dd><dt>PAY_AMT3</dt><dd>-1.72854185886507e-09</dd><dt>PAY_AMT4</dt><dd>-2.34832019019942e-09</dd><dt>PAY_AMT5</dt><dd>-2.19782479768923e-09</dd><dt>PAY_AMT6</dt><dd>-1.68756549119169e-09</dd></dl>\n"
      ],
      "text/latex": [
       "\\begin{description*}\n",
       "\\item[(Intercept)] 0.221055296093481\n",
       "\\item[LIMIT\\textbackslash{}\\_BAL] -6.3067761487185e-10\n",
       "\\item[SEX] -4.06702548370714e-05\n",
       "\\item[EDUCATION] 1.57968128641379e-05\n",
       "\\item[MARRIAGE] -1.88316141215861e-05\n",
       "\\item[AGE] 4.59900612326653e-07\n",
       "\\item[PAY\\textbackslash{}\\_0] 0.000158099817941865\n",
       "\\item[PAY\\textbackslash{}\\_2] 0.000118494117224926\n",
       "\\item[PAY\\textbackslash{}\\_3] 0.000106791662553222\n",
       "\\item[PAY\\textbackslash{}\\_4] 0.000100694576948513\n",
       "\\item[PAY\\textbackslash{}\\_5] 9.8241647230404e-05\n",
       "\\item[PAY\\textbackslash{}\\_6] 8.82166334600016e-05\n",
       "\\item[BILL\\textbackslash{}\\_AMT1] -1.53697717651663e-10\n",
       "\\item[BILL\\textbackslash{}\\_AMT2] -1.05983278101792e-10\n",
       "\\item[BILL\\textbackslash{}\\_AMT3] -1.1368431657219e-10\n",
       "\\item[BILL\\textbackslash{}\\_AMT4] -9.23735142800103e-11\n",
       "\\item[BILL\\textbackslash{}\\_AMT5] -7.41143164411771e-11\n",
       "\\item[BILL\\textbackslash{}\\_AMT6] -6.56817561527114e-11\n",
       "\\item[PAY\\textbackslash{}\\_AMT1] -2.77178942281453e-09\n",
       "\\item[PAY\\textbackslash{}\\_AMT2] -1.51929919103228e-09\n",
       "\\item[PAY\\textbackslash{}\\_AMT3] -1.72854185886507e-09\n",
       "\\item[PAY\\textbackslash{}\\_AMT4] -2.34832019019942e-09\n",
       "\\item[PAY\\textbackslash{}\\_AMT5] -2.19782479768923e-09\n",
       "\\item[PAY\\textbackslash{}\\_AMT6] -1.68756549119169e-09\n",
       "\\end{description*}\n"
      ],
      "text/markdown": [
       "(Intercept)\n",
       ":   0.221055296093481LIMIT_BAL\n",
       ":   -6.3067761487185e-10SEX\n",
       ":   -4.06702548370714e-05EDUCATION\n",
       ":   1.57968128641379e-05MARRIAGE\n",
       ":   -1.88316141215861e-05AGE\n",
       ":   4.59900612326653e-07PAY_0\n",
       ":   0.000158099817941865PAY_2\n",
       ":   0.000118494117224926PAY_3\n",
       ":   0.000106791662553222PAY_4\n",
       ":   0.000100694576948513PAY_5\n",
       ":   9.8241647230404e-05PAY_6\n",
       ":   8.82166334600016e-05BILL_AMT1\n",
       ":   -1.53697717651663e-10BILL_AMT2\n",
       ":   -1.05983278101792e-10BILL_AMT3\n",
       ":   -1.1368431657219e-10BILL_AMT4\n",
       ":   -9.23735142800103e-11BILL_AMT5\n",
       ":   -7.41143164411771e-11BILL_AMT6\n",
       ":   -6.56817561527114e-11PAY_AMT1\n",
       ":   -2.77178942281453e-09PAY_AMT2\n",
       ":   -1.51929919103228e-09PAY_AMT3\n",
       ":   -1.72854185886507e-09PAY_AMT4\n",
       ":   -2.34832019019942e-09PAY_AMT5\n",
       ":   -2.19782479768923e-09PAY_AMT6\n",
       ":   -1.68756549119169e-09\n",
       "\n"
      ],
      "text/plain": [
       "  (Intercept)     LIMIT_BAL           SEX     EDUCATION      MARRIAGE \n",
       " 2.210553e-01 -6.306776e-10 -4.067025e-05  1.579681e-05 -1.883161e-05 \n",
       "          AGE         PAY_0         PAY_2         PAY_3         PAY_4 \n",
       " 4.599006e-07  1.580998e-04  1.184941e-04  1.067917e-04  1.006946e-04 \n",
       "        PAY_5         PAY_6     BILL_AMT1     BILL_AMT2     BILL_AMT3 \n",
       " 9.824165e-05  8.821663e-05 -1.536977e-10 -1.059833e-10 -1.136843e-10 \n",
       "    BILL_AMT4     BILL_AMT5     BILL_AMT6      PAY_AMT1      PAY_AMT2 \n",
       "-9.237351e-11 -7.411432e-11 -6.568176e-11 -2.771789e-09 -1.519299e-09 \n",
       "     PAY_AMT3      PAY_AMT4      PAY_AMT5      PAY_AMT6 \n",
       "-1.728542e-09 -2.348320e-09 -2.197825e-09 -1.687565e-09 "
      ]
     },
     "metadata": {},
     "output_type": "display_data"
    },
    {
     "data": {
      "text/html": [
       "0.000283323686069937"
      ],
      "text/latex": [
       "0.000283323686069937"
      ],
      "text/markdown": [
       "0.000283323686069937"
      ],
      "text/plain": [
       "[1] 0.0002833237"
      ]
     },
     "metadata": {},
     "output_type": "display_data"
    }
   ],
   "source": [
    "# labmbda for row number 63\n",
    "ridge.mod$lambda[63]\n",
    "# coeficients of lambda\n",
    "coef(ridge.mod)[,63]\n",
    "#sum square of lambda\n",
    "sqrt(sum(coef(ridge.mod)[-1,63]^2))"
   ]
  },
  {
   "cell_type": "code",
   "execution_count": 244,
   "id": "bc92122f",
   "metadata": {},
   "outputs": [
    {
     "data": {
      "text/html": [
       "0.0305385550883341"
      ],
      "text/latex": [
       "0.0305385550883341"
      ],
      "text/markdown": [
       "0.0305385550883341"
      ],
      "text/plain": [
       "[1] 0.03053856"
      ]
     },
     "metadata": {},
     "output_type": "display_data"
    },
    {
     "data": {
      "text/html": [
       "<style>\n",
       ".dl-inline {width: auto; margin:0; padding: 0}\n",
       ".dl-inline>dt, .dl-inline>dd {float: none; width: auto; display: inline-block}\n",
       ".dl-inline>dt::after {content: \":\\0020\"; padding-right: .5ex}\n",
       ".dl-inline>dt:not(:first-of-type) {padding-left: .5ex}\n",
       "</style><dl class=dl-inline><dt>(Intercept)</dt><dd>0.306817129345989</dd><dt>LIMIT_BAL</dt><dd>-7.10112820817501e-08</dd><dt>SEX</dt><dd>-0.0101706117377967</dd><dt>EDUCATION</dt><dd>-0.0152240617836965</dd><dt>MARRIAGE</dt><dd>-0.0188717636848649</dd><dt>AGE</dt><dd>0.00114990862490061</dd><dt>PAY_0</dt><dd>0.0830656709716195</dd><dt>PAY_2</dt><dd>0.0181625029066933</dd><dt>PAY_3</dt><dd>0.0139262123696731</dd><dt>PAY_4</dt><dd>0.00625706048193391</dd><dt>PAY_5</dt><dd>0.00670099707251405</dd><dt>PAY_6</dt><dd>0.00180680509877603</dd><dt>BILL_AMT1</dt><dd>-3.4650221048136e-07</dd><dt>BILL_AMT2</dt><dd>-2.22520304468832e-08</dd><dt>BILL_AMT3</dt><dd>2.37472843699431e-08</dd><dt>BILL_AMT4</dt><dd>-1.03268029056541e-07</dd><dt>BILL_AMT5</dt><dd>1.31998097625393e-08</dd><dt>BILL_AMT6</dt><dd>6.03361362005534e-08</dd><dt>PAY_AMT1</dt><dd>-7.90653611295817e-07</dd><dt>PAY_AMT2</dt><dd>-2.53622741322003e-07</dd><dt>PAY_AMT3</dt><dd>-2.28882649571392e-09</dd><dt>PAY_AMT4</dt><dd>-6.08184442850576e-07</dd><dt>PAY_AMT5</dt><dd>-4.53524839645116e-07</dd><dt>PAY_AMT6</dt><dd>-2.12420176050653e-07</dd></dl>\n"
      ],
      "text/latex": [
       "\\begin{description*}\n",
       "\\item[(Intercept)] 0.306817129345989\n",
       "\\item[LIMIT\\textbackslash{}\\_BAL] -7.10112820817501e-08\n",
       "\\item[SEX] -0.0101706117377967\n",
       "\\item[EDUCATION] -0.0152240617836965\n",
       "\\item[MARRIAGE] -0.0188717636848649\n",
       "\\item[AGE] 0.00114990862490061\n",
       "\\item[PAY\\textbackslash{}\\_0] 0.0830656709716195\n",
       "\\item[PAY\\textbackslash{}\\_2] 0.0181625029066933\n",
       "\\item[PAY\\textbackslash{}\\_3] 0.0139262123696731\n",
       "\\item[PAY\\textbackslash{}\\_4] 0.00625706048193391\n",
       "\\item[PAY\\textbackslash{}\\_5] 0.00670099707251405\n",
       "\\item[PAY\\textbackslash{}\\_6] 0.00180680509877603\n",
       "\\item[BILL\\textbackslash{}\\_AMT1] -3.4650221048136e-07\n",
       "\\item[BILL\\textbackslash{}\\_AMT2] -2.22520304468832e-08\n",
       "\\item[BILL\\textbackslash{}\\_AMT3] 2.37472843699431e-08\n",
       "\\item[BILL\\textbackslash{}\\_AMT4] -1.03268029056541e-07\n",
       "\\item[BILL\\textbackslash{}\\_AMT5] 1.31998097625393e-08\n",
       "\\item[BILL\\textbackslash{}\\_AMT6] 6.03361362005534e-08\n",
       "\\item[PAY\\textbackslash{}\\_AMT1] -7.90653611295817e-07\n",
       "\\item[PAY\\textbackslash{}\\_AMT2] -2.53622741322003e-07\n",
       "\\item[PAY\\textbackslash{}\\_AMT3] -2.28882649571392e-09\n",
       "\\item[PAY\\textbackslash{}\\_AMT4] -6.08184442850576e-07\n",
       "\\item[PAY\\textbackslash{}\\_AMT5] -4.53524839645116e-07\n",
       "\\item[PAY\\textbackslash{}\\_AMT6] -2.12420176050653e-07\n",
       "\\end{description*}\n"
      ],
      "text/markdown": [
       "(Intercept)\n",
       ":   0.306817129345989LIMIT_BAL\n",
       ":   -7.10112820817501e-08SEX\n",
       ":   -0.0101706117377967EDUCATION\n",
       ":   -0.0152240617836965MARRIAGE\n",
       ":   -0.0188717636848649AGE\n",
       ":   0.00114990862490061PAY_0\n",
       ":   0.0830656709716195PAY_2\n",
       ":   0.0181625029066933PAY_3\n",
       ":   0.0139262123696731PAY_4\n",
       ":   0.00625706048193391PAY_5\n",
       ":   0.00670099707251405PAY_6\n",
       ":   0.00180680509877603BILL_AMT1\n",
       ":   -3.4650221048136e-07BILL_AMT2\n",
       ":   -2.22520304468832e-08BILL_AMT3\n",
       ":   2.37472843699431e-08BILL_AMT4\n",
       ":   -1.03268029056541e-07BILL_AMT5\n",
       ":   1.31998097625393e-08BILL_AMT6\n",
       ":   6.03361362005534e-08PAY_AMT1\n",
       ":   -7.90653611295817e-07PAY_AMT2\n",
       ":   -2.53622741322003e-07PAY_AMT3\n",
       ":   -2.28882649571392e-09PAY_AMT4\n",
       ":   -6.08184442850576e-07PAY_AMT5\n",
       ":   -4.53524839645116e-07PAY_AMT6\n",
       ":   -2.12420176050653e-07\n",
       "\n"
      ],
      "text/plain": [
       "  (Intercept)     LIMIT_BAL           SEX     EDUCATION      MARRIAGE \n",
       " 3.068171e-01 -7.101128e-08 -1.017061e-02 -1.522406e-02 -1.887176e-02 \n",
       "          AGE         PAY_0         PAY_2         PAY_3         PAY_4 \n",
       " 1.149909e-03  8.306567e-02  1.816250e-02  1.392621e-02  6.257060e-03 \n",
       "        PAY_5         PAY_6     BILL_AMT1     BILL_AMT2     BILL_AMT3 \n",
       " 6.700997e-03  1.806805e-03 -3.465022e-07 -2.225203e-08  2.374728e-08 \n",
       "    BILL_AMT4     BILL_AMT5     BILL_AMT6      PAY_AMT1      PAY_AMT2 \n",
       "-1.032680e-07  1.319981e-08  6.033614e-08 -7.906536e-07 -2.536227e-07 \n",
       "     PAY_AMT3      PAY_AMT4      PAY_AMT5      PAY_AMT6 \n",
       "-2.288826e-09 -6.081844e-07 -4.535248e-07 -2.124202e-07 "
      ]
     },
     "metadata": {},
     "output_type": "display_data"
    },
    {
     "data": {
      "text/html": [
       "0.0905743863642489"
      ],
      "text/latex": [
       "0.0905743863642489"
      ],
      "text/markdown": [
       "0.0905743863642489"
      ],
      "text/plain": [
       "[1] 0.09057439"
      ]
     },
     "metadata": {},
     "output_type": "display_data"
    }
   ],
   "source": [
    "# labmbda for row number 96\n",
    "ridge.mod$lambda[96]\n",
    "# coeficients of lambda\n",
    "coef(ridge.mod)[,96]\n",
    "#sum square of lambda\n",
    "sqrt(sum(coef(ridge.mod)[-1,96]^2))"
   ]
  },
  {
   "cell_type": "code",
   "execution_count": 247,
   "id": "57d73f23",
   "metadata": {},
   "outputs": [
    {
     "data": {
      "text/html": [
       "<style>\n",
       ".dl-inline {width: auto; margin:0; padding: 0}\n",
       ".dl-inline>dt, .dl-inline>dd {float: none; width: auto; display: inline-block}\n",
       ".dl-inline>dt::after {content: \":\\0020\"; padding-right: .5ex}\n",
       ".dl-inline>dt:not(:first-of-type) {padding-left: .5ex}\n",
       "</style><dl class=dl-inline><dt>(Intercept)</dt><dd>0.222425333952808</dd><dt>LIMIT_BAL</dt><dd>-3.03622379120353e-09</dd><dt>SEX</dt><dd>-0.000196736341824733</dd><dt>EDUCATION</dt><dd>7.36254986482166e-05</dd><dt>MARRIAGE</dt><dd>-9.40628307187053e-05</dd><dt>AGE</dt><dd>2.40176131386615e-06</dd><dt>PAY_0</dt><dd>0.000766211016102444</dd><dt>PAY_2</dt><dd>0.000570908705173974</dd><dt>PAY_3</dt><dd>0.000513360425953453</dd><dt>PAY_4</dt><dd>0.000483173752992961</dd><dt>PAY_5</dt><dd>0.000471181995706582</dd><dt>PAY_6</dt><dd>0.000422868882556518</dd><dt>BILL_AMT1</dt><dd>-7.78694323404147e-10</dd><dt>BILL_AMT2</dt><dd>-5.46435062565371e-10</dd><dt>BILL_AMT3</dt><dd>-5.82681191539663e-10</dd><dt>BILL_AMT4</dt><dd>-4.82767580799356e-10</dd><dt>BILL_AMT5</dt><dd>-3.94560633753859e-10</dd><dt>BILL_AMT6</dt><dd>-3.52029751148426e-10</dd><dt>PAY_AMT1</dt><dd>-1.34519085859837e-08</dd><dt>PAY_AMT2</dt><dd>-7.34866787309312e-09</dd><dt>PAY_AMT3</dt><dd>-8.33683668729918e-09</dd><dt>PAY_AMT4</dt><dd>-1.13782149747767e-08</dd><dt>PAY_AMT5</dt><dd>-1.06287736099212e-08</dd><dt>PAY_AMT6</dt><dd>-8.15838791074132e-09</dd></dl>\n"
      ],
      "text/latex": [
       "\\begin{description*}\n",
       "\\item[(Intercept)] 0.222425333952808\n",
       "\\item[LIMIT\\textbackslash{}\\_BAL] -3.03622379120353e-09\n",
       "\\item[SEX] -0.000196736341824733\n",
       "\\item[EDUCATION] 7.36254986482166e-05\n",
       "\\item[MARRIAGE] -9.40628307187053e-05\n",
       "\\item[AGE] 2.40176131386615e-06\n",
       "\\item[PAY\\textbackslash{}\\_0] 0.000766211016102444\n",
       "\\item[PAY\\textbackslash{}\\_2] 0.000570908705173974\n",
       "\\item[PAY\\textbackslash{}\\_3] 0.000513360425953453\n",
       "\\item[PAY\\textbackslash{}\\_4] 0.000483173752992961\n",
       "\\item[PAY\\textbackslash{}\\_5] 0.000471181995706582\n",
       "\\item[PAY\\textbackslash{}\\_6] 0.000422868882556518\n",
       "\\item[BILL\\textbackslash{}\\_AMT1] -7.78694323404147e-10\n",
       "\\item[BILL\\textbackslash{}\\_AMT2] -5.46435062565371e-10\n",
       "\\item[BILL\\textbackslash{}\\_AMT3] -5.82681191539663e-10\n",
       "\\item[BILL\\textbackslash{}\\_AMT4] -4.82767580799356e-10\n",
       "\\item[BILL\\textbackslash{}\\_AMT5] -3.94560633753859e-10\n",
       "\\item[BILL\\textbackslash{}\\_AMT6] -3.52029751148426e-10\n",
       "\\item[PAY\\textbackslash{}\\_AMT1] -1.34519085859837e-08\n",
       "\\item[PAY\\textbackslash{}\\_AMT2] -7.34866787309312e-09\n",
       "\\item[PAY\\textbackslash{}\\_AMT3] -8.33683668729918e-09\n",
       "\\item[PAY\\textbackslash{}\\_AMT4] -1.13782149747767e-08\n",
       "\\item[PAY\\textbackslash{}\\_AMT5] -1.06287736099212e-08\n",
       "\\item[PAY\\textbackslash{}\\_AMT6] -8.15838791074132e-09\n",
       "\\end{description*}\n"
      ],
      "text/markdown": [
       "(Intercept)\n",
       ":   0.222425333952808LIMIT_BAL\n",
       ":   -3.03622379120353e-09SEX\n",
       ":   -0.000196736341824733EDUCATION\n",
       ":   7.36254986482166e-05MARRIAGE\n",
       ":   -9.40628307187053e-05AGE\n",
       ":   2.40176131386615e-06PAY_0\n",
       ":   0.000766211016102444PAY_2\n",
       ":   0.000570908705173974PAY_3\n",
       ":   0.000513360425953453PAY_4\n",
       ":   0.000483173752992961PAY_5\n",
       ":   0.000471181995706582PAY_6\n",
       ":   0.000422868882556518BILL_AMT1\n",
       ":   -7.78694323404147e-10BILL_AMT2\n",
       ":   -5.46435062565371e-10BILL_AMT3\n",
       ":   -5.82681191539663e-10BILL_AMT4\n",
       ":   -4.82767580799356e-10BILL_AMT5\n",
       ":   -3.94560633753859e-10BILL_AMT6\n",
       ":   -3.52029751148426e-10PAY_AMT1\n",
       ":   -1.34519085859837e-08PAY_AMT2\n",
       ":   -7.34866787309312e-09PAY_AMT3\n",
       ":   -8.33683668729918e-09PAY_AMT4\n",
       ":   -1.13782149747767e-08PAY_AMT5\n",
       ":   -1.06287736099212e-08PAY_AMT6\n",
       ":   -8.15838791074132e-09\n",
       "\n"
      ],
      "text/plain": [
       "  (Intercept)     LIMIT_BAL           SEX     EDUCATION      MARRIAGE \n",
       " 2.224253e-01 -3.036224e-09 -1.967363e-04  7.362550e-05 -9.406283e-05 \n",
       "          AGE         PAY_0         PAY_2         PAY_3         PAY_4 \n",
       " 2.401761e-06  7.662110e-04  5.709087e-04  5.133604e-04  4.831738e-04 \n",
       "        PAY_5         PAY_6     BILL_AMT1     BILL_AMT2     BILL_AMT3 \n",
       " 4.711820e-04  4.228689e-04 -7.786943e-10 -5.464351e-10 -5.826812e-10 \n",
       "    BILL_AMT4     BILL_AMT5     BILL_AMT6      PAY_AMT1      PAY_AMT2 \n",
       "-4.827676e-10 -3.945606e-10 -3.520298e-10 -1.345191e-08 -7.348668e-09 \n",
       "     PAY_AMT3      PAY_AMT4      PAY_AMT5      PAY_AMT6 \n",
       "-8.336837e-09 -1.137821e-08 -1.062877e-08 -8.158388e-09 "
      ]
     },
     "metadata": {},
     "output_type": "display_data"
    }
   ],
   "source": [
    "#predict for l = 63\n",
    "predict(ridge.mod,s=63,type=\"coefficients\")[1:24,]"
   ]
  },
  {
   "cell_type": "code",
   "execution_count": 248,
   "id": "45314004",
   "metadata": {},
   "outputs": [],
   "source": [
    "#spliting data to train and test\n",
    "set.seed(613)\n",
    "train=sample(1:nrow(x), nrow(x)/3)\n",
    "test=(-train)\n",
    "y.test=y[test]"
   ]
  },
  {
   "cell_type": "code",
   "execution_count": 249,
   "id": "8033553f",
   "metadata": {},
   "outputs": [
    {
     "data": {
      "text/html": [
       "0.163554698566797"
      ],
      "text/latex": [
       "0.163554698566797"
      ],
      "text/markdown": [
       "0.163554698566797"
      ],
      "text/plain": [
       "[1] 0.1635547"
      ]
     },
     "metadata": {},
     "output_type": "display_data"
    }
   ],
   "source": [
    "#fiting and evaluating the MSE\n",
    "ridge.mod=glmnet(x[train,],y[train],alpha=0,lambda=grid, thresh=1e-12)\n",
    "ridge.pred=predict(ridge.mod,s=4,newx=x[test,])\n",
    "# MSE of test\n",
    "mean((ridge.pred-y.test)^2)"
   ]
  },
  {
   "cell_type": "code",
   "execution_count": 250,
   "id": "bb68e650",
   "metadata": {},
   "outputs": [
    {
     "data": {
      "text/html": [
       "0.17170814963686"
      ],
      "text/latex": [
       "0.17170814963686"
      ],
      "text/markdown": [
       "0.17170814963686"
      ],
      "text/plain": [
       "[1] 0.1717081"
      ]
     },
     "metadata": {},
     "output_type": "display_data"
    }
   ],
   "source": [
    "# MSE of test set\n",
    "mean((mean(y[train])-y.test)^2)"
   ]
  },
  {
   "cell_type": "code",
   "execution_count": 251,
   "id": "273a10c4",
   "metadata": {},
   "outputs": [
    {
     "data": {
      "text/html": [
       "0.171708149631461"
      ],
      "text/latex": [
       "0.171708149631461"
      ],
      "text/markdown": [
       "0.171708149631461"
      ],
      "text/plain": [
       "[1] 0.1717081"
      ]
     },
     "metadata": {},
     "output_type": "display_data"
    }
   ],
   "source": [
    "#fitting ridge by large number of lambda\n",
    "ridge.pred=predict(ridge.mod,s=1e10,newx=x[test,])\n",
    "# MSE result\n",
    "mean((ridge.pred-y.test)^2)"
   ]
  },
  {
   "cell_type": "code",
   "execution_count": 253,
   "id": "e92fea42",
   "metadata": {},
   "outputs": [
    {
     "data": {
      "text/html": [
       "0.151921036021103"
      ],
      "text/latex": [
       "0.151921036021103"
      ],
      "text/markdown": [
       "0.151921036021103"
      ],
      "text/plain": [
       "[1] 0.151921"
      ]
     },
     "metadata": {},
     "output_type": "display_data"
    }
   ],
   "source": [
    "#predictng by new mdel\n",
    "ridge.pred=predict(ridge.mod,s=0,newx=x[test,])\n",
    "mean((ridge.pred-y.test)^2)"
   ]
  },
  {
   "cell_type": "code",
   "execution_count": 263,
   "id": "90ea063f",
   "metadata": {},
   "outputs": [
    {
     "data": {
      "text/plain": [
       "\n",
       "Call:  glm(formula = y ~ x, family = \"binomial\", subset = train)\n",
       "\n",
       "Coefficients:\n",
       "(Intercept)   xLIMIT_BAL         xSEX   xEDUCATION    xMARRIAGE         xAGE  \n",
       " -5.982e-01   -4.817e-07   -1.408e-01   -1.445e-01   -1.430e-01    8.544e-03  \n",
       "     xPAY_0       xPAY_2       xPAY_3       xPAY_4       xPAY_5       xPAY_6  \n",
       "  4.920e-01    1.066e-01    7.568e-02    2.894e-02    6.158e-02   -1.770e-02  \n",
       " xBILL_AMT1   xBILL_AMT2   xBILL_AMT3   xBILL_AMT4   xBILL_AMT5   xBILL_AMT6  \n",
       " -4.745e-06    3.606e-06   -9.662e-07    2.526e-06   -2.012e-06    8.694e-07  \n",
       "  xPAY_AMT1    xPAY_AMT2    xPAY_AMT3    xPAY_AMT4    xPAY_AMT5    xPAY_AMT6  \n",
       " -1.617e-05   -9.442e-06   -5.330e-06   -6.952e-06   -4.497e-06   -4.023e-06  \n",
       "\n",
       "Degrees of Freedom: 6665 Total (i.e. Null);  6642 Residual\n",
       "Null Deviance:\t    7054 \n",
       "Residual Deviance: 6282 \tAIC: 6330"
      ]
     },
     "metadata": {},
     "output_type": "display_data"
    },
    {
     "data": {
      "text/html": [
       "<style>\n",
       ".dl-inline {width: auto; margin:0; padding: 0}\n",
       ".dl-inline>dt, .dl-inline>dd {float: none; width: auto; display: inline-block}\n",
       ".dl-inline>dt::after {content: \":\\0020\"; padding-right: .5ex}\n",
       ".dl-inline>dt:not(:first-of-type) {padding-left: .5ex}\n",
       "</style><dl class=dl-inline><dt>(Intercept)</dt><dd>0.320531493278019</dd><dt>LIMIT_BAL</dt><dd>-4.98714677679459e-08</dd><dt>SEX</dt><dd>-0.0191042070534047</dd><dt>EDUCATION</dt><dd>-0.0202213725206136</dd><dt>MARRIAGE</dt><dd>-0.021582092735812</dd><dt>AGE</dt><dd>0.00157198225740939</dd><dt>PAY_0</dt><dd>0.0792248577195539</dd><dt>PAY_2</dt><dd>0.0238082453565741</dd><dt>PAY_3</dt><dd>0.0134379620936845</dd><dt>PAY_4</dt><dd>0.00602530570035571</dd><dt>PAY_5</dt><dd>0.0101156345026209</dd><dt>PAY_6</dt><dd>-0.00319565522841048</dd><dt>BILL_AMT1</dt><dd>-4.40200186844559e-07</dd><dt>BILL_AMT2</dt><dd>1.17904341839675e-07</dd><dt>BILL_AMT3</dt><dd>-9.49368240784203e-08</dd><dt>BILL_AMT4</dt><dd>1.52672568941215e-07</dd><dt>BILL_AMT5</dt><dd>-1.29954707260916e-07</dd><dt>BILL_AMT6</dt><dd>2.04952941444232e-08</dd><dt>PAY_AMT1</dt><dd>-1.00006874600957e-06</dd><dt>PAY_AMT2</dt><dd>-4.14254356178116e-07</dd><dt>PAY_AMT3</dt><dd>-3.40056723462324e-07</dd><dt>PAY_AMT4</dt><dd>-4.15982279455613e-07</dd><dt>PAY_AMT5</dt><dd>-3.7619569989943e-07</dd><dt>PAY_AMT6</dt><dd>-2.64038580919751e-07</dd></dl>\n"
      ],
      "text/latex": [
       "\\begin{description*}\n",
       "\\item[(Intercept)] 0.320531493278019\n",
       "\\item[LIMIT\\textbackslash{}\\_BAL] -4.98714677679459e-08\n",
       "\\item[SEX] -0.0191042070534047\n",
       "\\item[EDUCATION] -0.0202213725206136\n",
       "\\item[MARRIAGE] -0.021582092735812\n",
       "\\item[AGE] 0.00157198225740939\n",
       "\\item[PAY\\textbackslash{}\\_0] 0.0792248577195539\n",
       "\\item[PAY\\textbackslash{}\\_2] 0.0238082453565741\n",
       "\\item[PAY\\textbackslash{}\\_3] 0.0134379620936845\n",
       "\\item[PAY\\textbackslash{}\\_4] 0.00602530570035571\n",
       "\\item[PAY\\textbackslash{}\\_5] 0.0101156345026209\n",
       "\\item[PAY\\textbackslash{}\\_6] -0.00319565522841048\n",
       "\\item[BILL\\textbackslash{}\\_AMT1] -4.40200186844559e-07\n",
       "\\item[BILL\\textbackslash{}\\_AMT2] 1.17904341839675e-07\n",
       "\\item[BILL\\textbackslash{}\\_AMT3] -9.49368240784203e-08\n",
       "\\item[BILL\\textbackslash{}\\_AMT4] 1.52672568941215e-07\n",
       "\\item[BILL\\textbackslash{}\\_AMT5] -1.29954707260916e-07\n",
       "\\item[BILL\\textbackslash{}\\_AMT6] 2.04952941444232e-08\n",
       "\\item[PAY\\textbackslash{}\\_AMT1] -1.00006874600957e-06\n",
       "\\item[PAY\\textbackslash{}\\_AMT2] -4.14254356178116e-07\n",
       "\\item[PAY\\textbackslash{}\\_AMT3] -3.40056723462324e-07\n",
       "\\item[PAY\\textbackslash{}\\_AMT4] -4.15982279455613e-07\n",
       "\\item[PAY\\textbackslash{}\\_AMT5] -3.7619569989943e-07\n",
       "\\item[PAY\\textbackslash{}\\_AMT6] -2.64038580919751e-07\n",
       "\\end{description*}\n"
      ],
      "text/markdown": [
       "(Intercept)\n",
       ":   0.320531493278019LIMIT_BAL\n",
       ":   -4.98714677679459e-08SEX\n",
       ":   -0.0191042070534047EDUCATION\n",
       ":   -0.0202213725206136MARRIAGE\n",
       ":   -0.021582092735812AGE\n",
       ":   0.00157198225740939PAY_0\n",
       ":   0.0792248577195539PAY_2\n",
       ":   0.0238082453565741PAY_3\n",
       ":   0.0134379620936845PAY_4\n",
       ":   0.00602530570035571PAY_5\n",
       ":   0.0101156345026209PAY_6\n",
       ":   -0.00319565522841048BILL_AMT1\n",
       ":   -4.40200186844559e-07BILL_AMT2\n",
       ":   1.17904341839675e-07BILL_AMT3\n",
       ":   -9.49368240784203e-08BILL_AMT4\n",
       ":   1.52672568941215e-07BILL_AMT5\n",
       ":   -1.29954707260916e-07BILL_AMT6\n",
       ":   2.04952941444232e-08PAY_AMT1\n",
       ":   -1.00006874600957e-06PAY_AMT2\n",
       ":   -4.14254356178116e-07PAY_AMT3\n",
       ":   -3.40056723462324e-07PAY_AMT4\n",
       ":   -4.15982279455613e-07PAY_AMT5\n",
       ":   -3.7619569989943e-07PAY_AMT6\n",
       ":   -2.64038580919751e-07\n",
       "\n"
      ],
      "text/plain": [
       "  (Intercept)     LIMIT_BAL           SEX     EDUCATION      MARRIAGE \n",
       " 3.205315e-01 -4.987147e-08 -1.910421e-02 -2.022137e-02 -2.158209e-02 \n",
       "          AGE         PAY_0         PAY_2         PAY_3         PAY_4 \n",
       " 1.571982e-03  7.922486e-02  2.380825e-02  1.343796e-02  6.025306e-03 \n",
       "        PAY_5         PAY_6     BILL_AMT1     BILL_AMT2     BILL_AMT3 \n",
       " 1.011563e-02 -3.195655e-03 -4.402002e-07  1.179043e-07 -9.493682e-08 \n",
       "    BILL_AMT4     BILL_AMT5     BILL_AMT6      PAY_AMT1      PAY_AMT2 \n",
       " 1.526726e-07 -1.299547e-07  2.049529e-08 -1.000069e-06 -4.142544e-07 \n",
       "     PAY_AMT3      PAY_AMT4      PAY_AMT5      PAY_AMT6 \n",
       "-3.400567e-07 -4.159823e-07 -3.761957e-07 -2.640386e-07 "
      ]
     },
     "metadata": {},
     "output_type": "display_data"
    }
   ],
   "source": [
    "# fitting logistic regression\n",
    "glm(y~x, subset=train,family='binomial')\n",
    "#prediction base on the regid\n",
    "predict(ridge.mod,s=0,type=\"coefficients\")[1:24,]\n",
    "# selected variables\n",
    "selection.ridge=names(predict(ridge.mod,s=0,type=\"coefficients\")[1:24,])[-1]"
   ]
  },
  {
   "cell_type": "code",
   "execution_count": 256,
   "id": "377fa942",
   "metadata": {},
   "outputs": [
    {
     "data": {
      "text/html": [
       "0.0317392043500841"
      ],
      "text/latex": [
       "0.0317392043500841"
      ],
      "text/markdown": [
       "0.0317392043500841"
      ],
      "text/plain": [
       "[1] 0.0317392"
      ]
     },
     "metadata": {},
     "output_type": "display_data"
    },
    {
     "data": {
      "image/png": "[encoded data removed]",
      "text/plain": [
       "plot without title"
      ]
     },
     "metadata": {
      "image/png": {
       "height": 480,
       "width": 720
      }
     },
     "output_type": "display_data"
    }
   ],
   "source": [
    "# cross validation for ridge Model\n",
    "set.seed(613)\n",
    "cv.out=cv.glmnet(x[train,],y[train],alpha=0)\n",
    "plot(cv.out)\n",
    "bestlam=cv.out$lambda.min\n",
    "bestlam"
   ]
  },
  {
   "cell_type": "code",
   "execution_count": 257,
   "id": "518c6d84",
   "metadata": {},
   "outputs": [
    {
     "data": {
      "text/html": [
       "0.152065445645808"
      ],
      "text/latex": [
       "0.152065445645808"
      ],
      "text/markdown": [
       "0.152065445645808"
      ],
      "text/plain": [
       "[1] 0.1520654"
      ]
     },
     "metadata": {},
     "output_type": "display_data"
    }
   ],
   "source": [
    "# making prediction based on the best lambda\n",
    "ridge.pred=predict(ridge.mod,s=bestlam,newx=x[test,])\n",
    "mean((ridge.pred-y.test)^2)"
   ]
  },
  {
   "cell_type": "code",
   "execution_count": 258,
   "id": "96b408ba",
   "metadata": {},
   "outputs": [
    {
     "data": {
      "text/html": [
       "<style>\n",
       ".dl-inline {width: auto; margin:0; padding: 0}\n",
       ".dl-inline>dt, .dl-inline>dd {float: none; width: auto; display: inline-block}\n",
       ".dl-inline>dt::after {content: \":\\0020\"; padding-right: .5ex}\n",
       ".dl-inline>dt:not(:first-of-type) {padding-left: .5ex}\n",
       "</style><dl class=dl-inline><dt>(Intercept)</dt><dd>0.306772987666613</dd><dt>LIMIT_BAL</dt><dd>-7.11417350985207e-08</dd><dt>SEX</dt><dd>-0.0101679735582095</dd><dt>EDUCATION</dt><dd>-0.0151567264219267</dd><dt>MARRIAGE</dt><dd>-0.0188313133337459</dd><dt>AGE</dt><dd>0.00114607413155404</dd><dt>PAY_0</dt><dd>0.0827490994107289</dd><dt>PAY_2</dt><dd>0.01823157179152</dd><dt>PAY_3</dt><dd>0.0139046043494813</dd><dt>PAY_4</dt><dd>0.00628476334264283</dd><dt>PAY_5</dt><dd>0.00672351072170001</dd><dt>PAY_6</dt><dd>0.00187012635368884</dd><dt>BILL_AMT1</dt><dd>-3.42101933557512e-07</dd><dt>BILL_AMT2</dt><dd>-2.59214231646119e-08</dd><dt>BILL_AMT3</dt><dd>2.4053173911826e-08</dd><dt>BILL_AMT4</dt><dd>-1.017146187575e-07</dd><dt>BILL_AMT5</dt><dd>1.08120854553865e-08</dd><dt>BILL_AMT6</dt><dd>6.02096263765444e-08</dd><dt>PAY_AMT1</dt><dd>-7.86944072883966e-07</dd><dt>PAY_AMT2</dt><dd>-2.54269615191364e-07</dd><dt>PAY_AMT3</dt><dd>-3.83245692500372e-09</dd><dt>PAY_AMT4</dt><dd>-6.06283004020422e-07</dd><dt>PAY_AMT5</dt><dd>-4.53476104881459e-07</dd><dt>PAY_AMT6</dt><dd>-2.13137145799428e-07</dd></dl>\n"
      ],
      "text/latex": [
       "\\begin{description*}\n",
       "\\item[(Intercept)] 0.306772987666613\n",
       "\\item[LIMIT\\textbackslash{}\\_BAL] -7.11417350985207e-08\n",
       "\\item[SEX] -0.0101679735582095\n",
       "\\item[EDUCATION] -0.0151567264219267\n",
       "\\item[MARRIAGE] -0.0188313133337459\n",
       "\\item[AGE] 0.00114607413155404\n",
       "\\item[PAY\\textbackslash{}\\_0] 0.0827490994107289\n",
       "\\item[PAY\\textbackslash{}\\_2] 0.01823157179152\n",
       "\\item[PAY\\textbackslash{}\\_3] 0.0139046043494813\n",
       "\\item[PAY\\textbackslash{}\\_4] 0.00628476334264283\n",
       "\\item[PAY\\textbackslash{}\\_5] 0.00672351072170001\n",
       "\\item[PAY\\textbackslash{}\\_6] 0.00187012635368884\n",
       "\\item[BILL\\textbackslash{}\\_AMT1] -3.42101933557512e-07\n",
       "\\item[BILL\\textbackslash{}\\_AMT2] -2.59214231646119e-08\n",
       "\\item[BILL\\textbackslash{}\\_AMT3] 2.4053173911826e-08\n",
       "\\item[BILL\\textbackslash{}\\_AMT4] -1.017146187575e-07\n",
       "\\item[BILL\\textbackslash{}\\_AMT5] 1.08120854553865e-08\n",
       "\\item[BILL\\textbackslash{}\\_AMT6] 6.02096263765444e-08\n",
       "\\item[PAY\\textbackslash{}\\_AMT1] -7.86944072883966e-07\n",
       "\\item[PAY\\textbackslash{}\\_AMT2] -2.54269615191364e-07\n",
       "\\item[PAY\\textbackslash{}\\_AMT3] -3.83245692500372e-09\n",
       "\\item[PAY\\textbackslash{}\\_AMT4] -6.06283004020422e-07\n",
       "\\item[PAY\\textbackslash{}\\_AMT5] -4.53476104881459e-07\n",
       "\\item[PAY\\textbackslash{}\\_AMT6] -2.13137145799428e-07\n",
       "\\end{description*}\n"
      ],
      "text/markdown": [
       "(Intercept)\n",
       ":   0.306772987666613LIMIT_BAL\n",
       ":   -7.11417350985207e-08SEX\n",
       ":   -0.0101679735582095EDUCATION\n",
       ":   -0.0151567264219267MARRIAGE\n",
       ":   -0.0188313133337459AGE\n",
       ":   0.00114607413155404PAY_0\n",
       ":   0.0827490994107289PAY_2\n",
       ":   0.01823157179152PAY_3\n",
       ":   0.0139046043494813PAY_4\n",
       ":   0.00628476334264283PAY_5\n",
       ":   0.00672351072170001PAY_6\n",
       ":   0.00187012635368884BILL_AMT1\n",
       ":   -3.42101933557512e-07BILL_AMT2\n",
       ":   -2.59214231646119e-08BILL_AMT3\n",
       ":   2.4053173911826e-08BILL_AMT4\n",
       ":   -1.017146187575e-07BILL_AMT5\n",
       ":   1.08120854553865e-08BILL_AMT6\n",
       ":   6.02096263765444e-08PAY_AMT1\n",
       ":   -7.86944072883966e-07PAY_AMT2\n",
       ":   -2.54269615191364e-07PAY_AMT3\n",
       ":   -3.83245692500372e-09PAY_AMT4\n",
       ":   -6.06283004020422e-07PAY_AMT5\n",
       ":   -4.53476104881459e-07PAY_AMT6\n",
       ":   -2.13137145799428e-07\n",
       "\n"
      ],
      "text/plain": [
       "  (Intercept)     LIMIT_BAL           SEX     EDUCATION      MARRIAGE \n",
       " 3.067730e-01 -7.114174e-08 -1.016797e-02 -1.515673e-02 -1.883131e-02 \n",
       "          AGE         PAY_0         PAY_2         PAY_3         PAY_4 \n",
       " 1.146074e-03  8.274910e-02  1.823157e-02  1.390460e-02  6.284763e-03 \n",
       "        PAY_5         PAY_6     BILL_AMT1     BILL_AMT2     BILL_AMT3 \n",
       " 6.723511e-03  1.870126e-03 -3.421019e-07 -2.592142e-08  2.405317e-08 \n",
       "    BILL_AMT4     BILL_AMT5     BILL_AMT6      PAY_AMT1      PAY_AMT2 \n",
       "-1.017146e-07  1.081209e-08  6.020963e-08 -7.869441e-07 -2.542696e-07 \n",
       "     PAY_AMT3      PAY_AMT4      PAY_AMT5      PAY_AMT6 \n",
       "-3.832457e-09 -6.062830e-07 -4.534761e-07 -2.131371e-07 "
      ]
     },
     "metadata": {},
     "output_type": "display_data"
    }
   ],
   "source": [
    "# using the best lambda we fit and predict model for all variables\n",
    "out=glmnet(x,y,alpha=0)\n",
    "predict(out,type=\"coefficients\",s=bestlam)[1:24,]"
   ]
  },
  {
   "cell_type": "markdown",
   "id": "c27ba9bf",
   "metadata": {},
   "source": [
    "#### 1.4. Lasso Regression"
   ]
  },
  {
   "cell_type": "code",
   "execution_count": 259,
   "id": "0e248014",
   "metadata": {},
   "outputs": [
    {
     "name": "stderr",
     "output_type": "stream",
     "text": [
      "Warning message in regularize.values(x, y, ties, missing(ties), na.rm = na.rm):\n",
      "\"collapsing to unique 'x' values\"\n"
     ]
    },
    {
     "data": {
      "image/png": "[encoded data removed]",
      "text/plain": [
       "plot without title"
      ]
     },
     "metadata": {
      "image/png": {
       "height": 480,
       "width": 720
      }
     },
     "output_type": "display_data"
    }
   ],
   "source": [
    "#fitting the model to train\n",
    "lasso.mod=glmnet(x[train,],y[train],alpha=1,lambda=grid)\n",
    "#ploting the results of lasso\n",
    "plot(lasso.mod)"
   ]
  },
  {
   "cell_type": "code",
   "execution_count": 260,
   "id": "5011691e",
   "metadata": {},
   "outputs": [
    {
     "data": {
      "text/html": [
       "0.152358668169192"
      ],
      "text/latex": [
       "0.152358668169192"
      ],
      "text/markdown": [
       "0.152358668169192"
      ],
      "text/plain": [
       "[1] 0.1523587"
      ]
     },
     "metadata": {},
     "output_type": "display_data"
    },
    {
     "data": {
      "image/png": "[encoded data removed]",
      "text/plain": [
       "plot without title"
      ]
     },
     "metadata": {
      "image/png": {
       "height": 480,
       "width": 720
      }
     },
     "output_type": "display_data"
    }
   ],
   "source": [
    "#cross validating\n",
    "set.seed(613)\n",
    "cv.out=cv.glmnet(x[train,],y[train],alpha=1)\n",
    "#plot of cross validation\n",
    "plot(cv.out)\n",
    "# geting the best lambda\n",
    "bestlam=cv.out$lambda.min\n",
    "#prediction based on the best lambda\n",
    "lasso.pred=predict(lasso.mod,s=bestlam,newx=x[test,])\n",
    "# MSE of model for the best lambda\n",
    "mean((lasso.pred-y.test)^2)"
   ]
  },
  {
   "cell_type": "code",
   "execution_count": 266,
   "id": "fef44f07",
   "metadata": {},
   "outputs": [
    {
     "data": {
      "text/html": [
       "<style>\n",
       ".dl-inline {width: auto; margin:0; padding: 0}\n",
       ".dl-inline>dt, .dl-inline>dd {float: none; width: auto; display: inline-block}\n",
       ".dl-inline>dt::after {content: \":\\0020\"; padding-right: .5ex}\n",
       ".dl-inline>dt:not(:first-of-type) {padding-left: .5ex}\n",
       "</style><dl class=dl-inline><dt>(Intercept)</dt><dd>0.25300887376446</dd><dt>LIMIT_BAL</dt><dd>-3.90390723854162e-08</dd><dt>SEX</dt><dd>0</dd><dt>EDUCATION</dt><dd>0</dd><dt>MARRIAGE</dt><dd>-0.00261890198078499</dd><dt>AGE</dt><dd>0.000110044495288986</dd><dt>PAY_0</dt><dd>0.0897073161412923</dd><dt>PAY_2</dt><dd>0.0133199964927684</dd><dt>PAY_3</dt><dd>0.0123435952022527</dd><dt>PAY_4</dt><dd>0.00239904945913042</dd><dt>PAY_5</dt><dd>0.00259066661504386</dd><dt>PAY_6</dt><dd>0</dd><dt>BILL_AMT1</dt><dd>-2.88107172250872e-07</dd><dt>BILL_AMT2</dt><dd>0</dd><dt>BILL_AMT3</dt><dd>0</dd><dt>BILL_AMT4</dt><dd>0</dd><dt>BILL_AMT5</dt><dd>0</dd><dt>BILL_AMT6</dt><dd>0</dd><dt>PAY_AMT1</dt><dd>-5.01726604374654e-07</dd><dt>PAY_AMT2</dt><dd>0</dd><dt>PAY_AMT3</dt><dd>0</dd><dt>PAY_AMT4</dt><dd>-2.12719739520764e-07</dd><dt>PAY_AMT5</dt><dd>-1.03201992927051e-07</dd><dt>PAY_AMT6</dt><dd>0</dd></dl>\n"
      ],
      "text/latex": [
       "\\begin{description*}\n",
       "\\item[(Intercept)] 0.25300887376446\n",
       "\\item[LIMIT\\textbackslash{}\\_BAL] -3.90390723854162e-08\n",
       "\\item[SEX] 0\n",
       "\\item[EDUCATION] 0\n",
       "\\item[MARRIAGE] -0.00261890198078499\n",
       "\\item[AGE] 0.000110044495288986\n",
       "\\item[PAY\\textbackslash{}\\_0] 0.0897073161412923\n",
       "\\item[PAY\\textbackslash{}\\_2] 0.0133199964927684\n",
       "\\item[PAY\\textbackslash{}\\_3] 0.0123435952022527\n",
       "\\item[PAY\\textbackslash{}\\_4] 0.00239904945913042\n",
       "\\item[PAY\\textbackslash{}\\_5] 0.00259066661504386\n",
       "\\item[PAY\\textbackslash{}\\_6] 0\n",
       "\\item[BILL\\textbackslash{}\\_AMT1] -2.88107172250872e-07\n",
       "\\item[BILL\\textbackslash{}\\_AMT2] 0\n",
       "\\item[BILL\\textbackslash{}\\_AMT3] 0\n",
       "\\item[BILL\\textbackslash{}\\_AMT4] 0\n",
       "\\item[BILL\\textbackslash{}\\_AMT5] 0\n",
       "\\item[BILL\\textbackslash{}\\_AMT6] 0\n",
       "\\item[PAY\\textbackslash{}\\_AMT1] -5.01726604374654e-07\n",
       "\\item[PAY\\textbackslash{}\\_AMT2] 0\n",
       "\\item[PAY\\textbackslash{}\\_AMT3] 0\n",
       "\\item[PAY\\textbackslash{}\\_AMT4] -2.12719739520764e-07\n",
       "\\item[PAY\\textbackslash{}\\_AMT5] -1.03201992927051e-07\n",
       "\\item[PAY\\textbackslash{}\\_AMT6] 0\n",
       "\\end{description*}\n"
      ],
      "text/markdown": [
       "(Intercept)\n",
       ":   0.25300887376446LIMIT_BAL\n",
       ":   -3.90390723854162e-08SEX\n",
       ":   0EDUCATION\n",
       ":   0MARRIAGE\n",
       ":   -0.00261890198078499AGE\n",
       ":   0.000110044495288986PAY_0\n",
       ":   0.0897073161412923PAY_2\n",
       ":   0.0133199964927684PAY_3\n",
       ":   0.0123435952022527PAY_4\n",
       ":   0.00239904945913042PAY_5\n",
       ":   0.00259066661504386PAY_6\n",
       ":   0BILL_AMT1\n",
       ":   -2.88107172250872e-07BILL_AMT2\n",
       ":   0BILL_AMT3\n",
       ":   0BILL_AMT4\n",
       ":   0BILL_AMT5\n",
       ":   0BILL_AMT6\n",
       ":   0PAY_AMT1\n",
       ":   -5.01726604374654e-07PAY_AMT2\n",
       ":   0PAY_AMT3\n",
       ":   0PAY_AMT4\n",
       ":   -2.12719739520764e-07PAY_AMT5\n",
       ":   -1.03201992927051e-07PAY_AMT6\n",
       ":   0\n",
       "\n"
      ],
      "text/plain": [
       "  (Intercept)     LIMIT_BAL           SEX     EDUCATION      MARRIAGE \n",
       " 2.530089e-01 -3.903907e-08  0.000000e+00  0.000000e+00 -2.618902e-03 \n",
       "          AGE         PAY_0         PAY_2         PAY_3         PAY_4 \n",
       " 1.100445e-04  8.970732e-02  1.332000e-02  1.234360e-02  2.399049e-03 \n",
       "        PAY_5         PAY_6     BILL_AMT1     BILL_AMT2     BILL_AMT3 \n",
       " 2.590667e-03  0.000000e+00 -2.881072e-07  0.000000e+00  0.000000e+00 \n",
       "    BILL_AMT4     BILL_AMT5     BILL_AMT6      PAY_AMT1      PAY_AMT2 \n",
       " 0.000000e+00  0.000000e+00  0.000000e+00 -5.017266e-07  0.000000e+00 \n",
       "     PAY_AMT3      PAY_AMT4      PAY_AMT5      PAY_AMT6 \n",
       " 0.000000e+00 -2.127197e-07 -1.032020e-07  0.000000e+00 "
      ]
     },
     "metadata": {},
     "output_type": "display_data"
    },
    {
     "data": {
      "text/html": [
       "<style>\n",
       ".dl-inline {width: auto; margin:0; padding: 0}\n",
       ".dl-inline>dt, .dl-inline>dd {float: none; width: auto; display: inline-block}\n",
       ".dl-inline>dt::after {content: \":\\0020\"; padding-right: .5ex}\n",
       ".dl-inline>dt:not(:first-of-type) {padding-left: .5ex}\n",
       "</style><dl class=dl-inline><dt>(Intercept)</dt><dd>0.25300887376446</dd><dt>LIMIT_BAL</dt><dd>-3.90390723854162e-08</dd><dt>MARRIAGE</dt><dd>-0.00261890198078499</dd><dt>AGE</dt><dd>0.000110044495288986</dd><dt>PAY_0</dt><dd>0.0897073161412923</dd><dt>PAY_2</dt><dd>0.0133199964927684</dd><dt>PAY_3</dt><dd>0.0123435952022527</dd><dt>PAY_4</dt><dd>0.00239904945913042</dd><dt>PAY_5</dt><dd>0.00259066661504386</dd><dt>BILL_AMT1</dt><dd>-2.88107172250872e-07</dd><dt>PAY_AMT1</dt><dd>-5.01726604374654e-07</dd><dt>PAY_AMT4</dt><dd>-2.12719739520764e-07</dd><dt>PAY_AMT5</dt><dd>-1.03201992927051e-07</dd></dl>\n"
      ],
      "text/latex": [
       "\\begin{description*}\n",
       "\\item[(Intercept)] 0.25300887376446\n",
       "\\item[LIMIT\\textbackslash{}\\_BAL] -3.90390723854162e-08\n",
       "\\item[MARRIAGE] -0.00261890198078499\n",
       "\\item[AGE] 0.000110044495288986\n",
       "\\item[PAY\\textbackslash{}\\_0] 0.0897073161412923\n",
       "\\item[PAY\\textbackslash{}\\_2] 0.0133199964927684\n",
       "\\item[PAY\\textbackslash{}\\_3] 0.0123435952022527\n",
       "\\item[PAY\\textbackslash{}\\_4] 0.00239904945913042\n",
       "\\item[PAY\\textbackslash{}\\_5] 0.00259066661504386\n",
       "\\item[BILL\\textbackslash{}\\_AMT1] -2.88107172250872e-07\n",
       "\\item[PAY\\textbackslash{}\\_AMT1] -5.01726604374654e-07\n",
       "\\item[PAY\\textbackslash{}\\_AMT4] -2.12719739520764e-07\n",
       "\\item[PAY\\textbackslash{}\\_AMT5] -1.03201992927051e-07\n",
       "\\end{description*}\n"
      ],
      "text/markdown": [
       "(Intercept)\n",
       ":   0.25300887376446LIMIT_BAL\n",
       ":   -3.90390723854162e-08MARRIAGE\n",
       ":   -0.00261890198078499AGE\n",
       ":   0.000110044495288986PAY_0\n",
       ":   0.0897073161412923PAY_2\n",
       ":   0.0133199964927684PAY_3\n",
       ":   0.0123435952022527PAY_4\n",
       ":   0.00239904945913042PAY_5\n",
       ":   0.00259066661504386BILL_AMT1\n",
       ":   -2.88107172250872e-07PAY_AMT1\n",
       ":   -5.01726604374654e-07PAY_AMT4\n",
       ":   -2.12719739520764e-07PAY_AMT5\n",
       ":   -1.03201992927051e-07\n",
       "\n"
      ],
      "text/plain": [
       "  (Intercept)     LIMIT_BAL      MARRIAGE           AGE         PAY_0 \n",
       " 2.530089e-01 -3.903907e-08 -2.618902e-03  1.100445e-04  8.970732e-02 \n",
       "        PAY_2         PAY_3         PAY_4         PAY_5     BILL_AMT1 \n",
       " 1.332000e-02  1.234360e-02  2.399049e-03  2.590667e-03 -2.881072e-07 \n",
       "     PAY_AMT1      PAY_AMT4      PAY_AMT5 \n",
       "-5.017266e-07 -2.127197e-07 -1.032020e-07 "
      ]
     },
     "metadata": {},
     "output_type": "display_data"
    }
   ],
   "source": [
    "#fitting the lasso to all dafa frame\n",
    "out=glmnet(x,y,alpha=1,lambda=grid)\n",
    "#Geting the coeficents\n",
    "lasso.coef=predict(out,type=\"coefficients\",s=bestlam)[1:24,]\n",
    "lasso.coef\n",
    "# variables with coeficient\n",
    "lasso.coef[lasso.coef!=0]\n",
    "# Get the name of selected variables by lasso\n",
    "selection.lasso=names(lasso.coef[lasso.coef!=0])[-1]"
   ]
  },
  {
   "cell_type": "markdown",
   "id": "90eaaca7",
   "metadata": {},
   "source": [
    "#### 1.5. PCR regression"
   ]
  },
  {
   "cell_type": "code",
   "execution_count": 283,
   "id": "0c603081",
   "metadata": {},
   "outputs": [
    {
     "name": "stdout",
     "output_type": "stream",
     "text": [
      "Data: \tX dimension: 20000 23 \n",
      "\tY dimension: 20000 1\n",
      "Fit method: svdpc\n",
      "Number of components considered: 23\n",
      "\n",
      "VALIDATION: RMSEP\n",
      "Cross-validated using 10 random segments.\n",
      "       (Intercept)  1 comps  2 comps  3 comps  4 comps  5 comps  6 comps\n",
      "CV          0.4147   0.4135   0.3972   0.3969   0.3969   0.3966   0.3965\n",
      "adjCV       0.4147   0.4134   0.3972   0.3969   0.3969   0.3966   0.3964\n",
      "       7 comps  8 comps  9 comps  10 comps  11 comps  12 comps  13 comps\n",
      "CV      0.3963   0.3962   0.3962    0.3962    0.3963    0.3922     0.392\n",
      "adjCV   0.3963   0.3962   0.3962    0.3962    0.3963    0.3921     0.392\n",
      "       14 comps  15 comps  16 comps  17 comps  18 comps  19 comps  20 comps\n",
      "CV        0.392    0.3908    0.3906    0.3905    0.3905    0.3905    0.3905\n",
      "adjCV     0.392    0.3908    0.3906    0.3905    0.3905    0.3905    0.3905\n",
      "       21 comps  22 comps  23 comps\n",
      "CV       0.3904    0.3904    0.3904\n",
      "adjCV    0.3904    0.3904    0.3904\n",
      "\n",
      "TRAINING: % variance explained\n",
      "         1 comps  2 comps  3 comps  4 comps  5 comps  6 comps  7 comps  8 comps\n",
      "X         28.206   45.867   52.469   58.534   62.987   67.199   71.264   75.101\n",
      "default    0.631    8.322    8.469    8.472    8.628    8.682    8.772    8.787\n",
      "         9 comps  10 comps  11 comps  12 comps  13 comps  14 comps  15 comps\n",
      "X         78.873    82.562    85.922     88.85     91.35     93.65     95.45\n",
      "default    8.877     8.903     8.904     10.72     10.80     10.80     11.37\n",
      "         16 comps  17 comps  18 comps  19 comps  20 comps  21 comps  22 comps\n",
      "X           96.62     97.71     98.56     99.17     99.51     99.72     99.86\n",
      "default     11.46     11.52     11.53     11.54     11.54     11.60     11.61\n",
      "         23 comps\n",
      "X          100.00\n",
      "default     11.61\n"
     ]
    }
   ],
   "source": [
    "# fiting model with cross validation\n",
    "set.seed(2)\n",
    "pcr.fit=pcr(default~., data=DF,scale=TRUE,validation=\"CV\")\n",
    "summary(pcr.fit)"
   ]
  },
  {
   "cell_type": "code",
   "execution_count": 284,
   "id": "478c152a",
   "metadata": {},
   "outputs": [
    {
     "data": {
      "image/png": "[encoded data removed]",
      "text/plain": [
       "Plot with title \"default\""
      ]
     },
     "metadata": {
      "image/png": {
       "height": 480,
       "width": 720
      }
     },
     "output_type": "display_data"
    }
   ],
   "source": [
    "#plot of PCR\n",
    "validationplot(pcr.fit,val.type=\"MSEP\")"
   ]
  },
  {
   "cell_type": "code",
   "execution_count": 285,
   "id": "0ace0537",
   "metadata": {},
   "outputs": [],
   "source": [
    "# Cross validation for PCR for train set\n",
    "set.seed(613)\n",
    "pcr.fit=pcr(default~., data=DF,subset=train,scale=TRUE, validation=\"CV\")"
   ]
  },
  {
   "cell_type": "code",
   "execution_count": 270,
   "id": "bd82764e",
   "metadata": {},
   "outputs": [
    {
     "data": {
      "image/png": "[encoded data removed]",
      "text/plain": [
       "Plot with title \"default\""
      ]
     },
     "metadata": {
      "image/png": {
       "height": 480,
       "width": 720
      }
     },
     "output_type": "display_data"
    }
   ],
   "source": [
    "#ploting the results\n",
    "validationplot(pcr.fit,val.type=\"MSEP\")"
   ]
  },
  {
   "cell_type": "code",
   "execution_count": 286,
   "id": "ab186589",
   "metadata": {},
   "outputs": [
    {
     "data": {
      "text/html": [
       "0.153492632992669"
      ],
      "text/latex": [
       "0.153492632992669"
      ],
      "text/markdown": [
       "0.153492632992669"
      ],
      "text/plain": [
       "[1] 0.1534926"
      ]
     },
     "metadata": {},
     "output_type": "display_data"
    }
   ],
   "source": [
    "#making prediction\n",
    "pcr.pred=predict(pcr.fit,x[test,],ncomp=12)\n",
    "#MSE calculation\n",
    "mean((pcr.pred-y.test)^2)"
   ]
  },
  {
   "cell_type": "code",
   "execution_count": 287,
   "id": "9eea14e0",
   "metadata": {},
   "outputs": [
    {
     "name": "stdout",
     "output_type": "stream",
     "text": [
      "Data: \tX dimension: 20000 23 \n",
      "\tY dimension: 20000 1\n",
      "Fit method: svdpc\n",
      "Number of components considered: 12\n",
      "TRAINING: % variance explained\n",
      "   1 comps  2 comps  3 comps  4 comps  5 comps  6 comps  7 comps  8 comps\n",
      "X   28.206   45.867   52.469   58.534   62.987   67.199   71.264   75.101\n",
      "y    0.631    8.322    8.469    8.472    8.628    8.682    8.772    8.787\n",
      "   9 comps  10 comps  11 comps  12 comps\n",
      "X   78.873    82.562    85.922     88.85\n",
      "y    8.877     8.903     8.904     10.72\n"
     ]
    }
   ],
   "source": [
    "#pcr fiting to whole data\n",
    "pcr.fit=pcr(y~x,scale=TRUE,ncomp=12)\n",
    "#summary of PCR\n",
    "summary(pcr.fit)"
   ]
  },
  {
   "cell_type": "code",
   "execution_count": 294,
   "id": "09cf1835",
   "metadata": {},
   "outputs": [
    {
     "data": {
      "image/png": "[encoded data removed]",
      "text/plain": [
       "Plot with title \"y, 12 comps, train\""
      ]
     },
     "metadata": {
      "image/png": {
       "height": 480,
       "width": 720
      }
     },
     "output_type": "display_data"
    }
   ],
   "source": [
    "#paring axies to 2 cells\n",
    "par(mfrow=c(1,2))\n",
    "coefplot(pcr.fit)\n",
    "predplot(pcr.fit)"
   ]
  },
  {
   "cell_type": "markdown",
   "id": "3b2011c6",
   "metadata": {},
   "source": [
    "#### 1.6. PCL"
   ]
  },
  {
   "cell_type": "code",
   "execution_count": 288,
   "id": "63346559",
   "metadata": {},
   "outputs": [
    {
     "name": "stdout",
     "output_type": "stream",
     "text": [
      "Data: \tX dimension: 6666 23 \n",
      "\tY dimension: 6666 1\n",
      "Fit method: kernelpls\n",
      "Number of components considered: 23\n",
      "\n",
      "VALIDATION: RMSEP\n",
      "Cross-validated using 10 random segments.\n",
      "       (Intercept)  1 comps  2 comps  3 comps  4 comps  5 comps  6 comps\n",
      "CV          0.4155   0.3966   0.3951   0.3931   0.3928   0.3927   0.3928\n",
      "adjCV       0.4155   0.3966   0.3951   0.3930   0.3927   0.3927   0.3927\n",
      "       7 comps  8 comps  9 comps  10 comps  11 comps  12 comps  13 comps\n",
      "CV      0.3928   0.3929   0.3928    0.3929    0.3928    0.3928    0.3928\n",
      "adjCV   0.3927   0.3928   0.3927    0.3928    0.3928    0.3928    0.3928\n",
      "       14 comps  15 comps  16 comps  17 comps  18 comps  19 comps  20 comps\n",
      "CV       0.3928    0.3928    0.3928    0.3928    0.3928    0.3928    0.3928\n",
      "adjCV    0.3928    0.3928    0.3928    0.3928    0.3928    0.3928    0.3928\n",
      "       21 comps  22 comps  23 comps\n",
      "CV       0.3928    0.3928    0.3928\n",
      "adjCV    0.3928    0.3928    0.3928\n",
      "\n",
      "TRAINING: % variance explained\n",
      "         1 comps  2 comps  3 comps  4 comps  5 comps  6 comps  7 comps  8 comps\n",
      "X         19.405   42.603    49.85    54.97    58.43    61.09    63.24    65.77\n",
      "default    9.083    9.885    11.02    11.16    11.21    11.23    11.24    11.25\n",
      "         9 comps  10 comps  11 comps  12 comps  13 comps  14 comps  15 comps\n",
      "X          67.43     70.30     71.86     76.06     79.25     80.97     83.44\n",
      "default    11.26     11.26     11.26     11.26     11.26     11.26     11.26\n",
      "         16 comps  17 comps  18 comps  19 comps  20 comps  21 comps  22 comps\n",
      "X           85.19     88.00     89.90     91.53     94.98     96.05     99.30\n",
      "default     11.26     11.26     11.26     11.26     11.26     11.26     11.26\n",
      "         23 comps\n",
      "X          100.00\n",
      "default     11.26\n"
     ]
    }
   ],
   "source": [
    "##fitting the model with cross validation to train data\n",
    "set.seed(613)\n",
    "pls.fit=plsr(default~., data=DF,subset=train,scale=TRUE, validation=\"CV\")\n",
    "# summary\n",
    "summary(pls.fit)"
   ]
  },
  {
   "cell_type": "code",
   "execution_count": 289,
   "id": "dbdf7c9c",
   "metadata": {},
   "outputs": [
    {
     "data": {
      "image/png": "[encoded data removed]",
      "text/plain": [
       "Plot with title \"default\""
      ]
     },
     "metadata": {
      "image/png": {
       "height": 480,
       "width": 720
      }
     },
     "output_type": "display_data"
    }
   ],
   "source": [
    "#ploting the result for train\n",
    "validationplot(pls.fit,val.type=\"MSEP\")"
   ]
  },
  {
   "cell_type": "code",
   "execution_count": 290,
   "id": "2361fa0e",
   "metadata": {},
   "outputs": [
    {
     "data": {
      "text/html": [
       "0.152119435523121"
      ],
      "text/latex": [
       "0.152119435523121"
      ],
      "text/markdown": [
       "0.152119435523121"
      ],
      "text/plain": [
       "[1] 0.1521194"
      ]
     },
     "metadata": {},
     "output_type": "display_data"
    }
   ],
   "source": [
    "# making prediction\n",
    "pls.pred=predict(pls.fit,x[test,],ncomp=4)\n",
    "#calculating the MSE\n",
    "mean((pls.pred-y.test)^2)"
   ]
  },
  {
   "cell_type": "code",
   "execution_count": 313,
   "id": "56269b1f",
   "metadata": {},
   "outputs": [
    {
     "name": "stdout",
     "output_type": "stream",
     "text": [
      "Data: \tX dimension: 20000 23 \n",
      "\tY dimension: 20000 1\n",
      "Fit method: kernelpls\n",
      "Number of components considered: 4\n",
      "TRAINING: % variance explained\n",
      "         1 comps  2 comps  3 comps  4 comps\n",
      "X         19.315   42.718    49.27    54.43\n",
      "default    9.076    9.959    11.35    11.50\n"
     ]
    }
   ],
   "source": [
    "#fitting the model to whole data based on the number of component\n",
    "pls.fit=plsr(default~., data=DF,scale=TRUE,ncomp=4)\n",
    "#summary of model\n",
    "summary(pls.fit)"
   ]
  },
  {
   "cell_type": "code",
   "execution_count": 314,
   "id": "61abcdf9",
   "metadata": {},
   "outputs": [
    {
     "data": {
      "image/png": "[encoded data removed]",
      "text/plain": [
       "Plot with title \"default, 4 comps, train\""
      ]
     },
     "metadata": {
      "image/png": {
       "height": 480,
       "width": 720
      }
     },
     "output_type": "display_data"
    }
   ],
   "source": [
    "#paring axies to 2 cells\n",
    "par(mfrow=c(1,2))\n",
    "coefplot(pls.fit)\n",
    "predplot(pls.fit)"
   ]
  },
  {
   "cell_type": "code",
   "execution_count": 297,
   "id": "3cd68d25",
   "metadata": {},
   "outputs": [
    {
     "name": "stdout",
     "output_type": "stream",
     "text": [
      "[1] \"best variables by forward cp\"\n"
     ]
    },
    {
     "data": {
      "text/html": [
       "<style>\n",
       ".list-inline {list-style: none; margin:0; padding: 0}\n",
       ".list-inline>li {display: inline-block}\n",
       ".list-inline>li:not(:last-child)::after {content: \"\\00b7\"; padding: 0 .5ex}\n",
       "</style>\n",
       "<ol class=list-inline><li>'LIMIT_BAL'</li><li>'SEX'</li><li>'EDUCATION'</li><li>'MARRIAGE'</li><li>'AGE'</li><li>'PAY_0'</li><li>'PAY_2'</li><li>'PAY_3'</li><li>'PAY_5'</li><li>'BILL_AMT1'</li><li>'BILL_AMT2'</li><li>'PAY_AMT1'</li><li>'PAY_AMT2'</li><li>'PAY_AMT4'</li><li>'PAY_AMT5'</li></ol>\n"
      ],
      "text/latex": [
       "\\begin{enumerate*}\n",
       "\\item 'LIMIT\\_BAL'\n",
       "\\item 'SEX'\n",
       "\\item 'EDUCATION'\n",
       "\\item 'MARRIAGE'\n",
       "\\item 'AGE'\n",
       "\\item 'PAY\\_0'\n",
       "\\item 'PAY\\_2'\n",
       "\\item 'PAY\\_3'\n",
       "\\item 'PAY\\_5'\n",
       "\\item 'BILL\\_AMT1'\n",
       "\\item 'BILL\\_AMT2'\n",
       "\\item 'PAY\\_AMT1'\n",
       "\\item 'PAY\\_AMT2'\n",
       "\\item 'PAY\\_AMT4'\n",
       "\\item 'PAY\\_AMT5'\n",
       "\\end{enumerate*}\n"
      ],
      "text/markdown": [
       "1. 'LIMIT_BAL'\n",
       "2. 'SEX'\n",
       "3. 'EDUCATION'\n",
       "4. 'MARRIAGE'\n",
       "5. 'AGE'\n",
       "6. 'PAY_0'\n",
       "7. 'PAY_2'\n",
       "8. 'PAY_3'\n",
       "9. 'PAY_5'\n",
       "10. 'BILL_AMT1'\n",
       "11. 'BILL_AMT2'\n",
       "12. 'PAY_AMT1'\n",
       "13. 'PAY_AMT2'\n",
       "14. 'PAY_AMT4'\n",
       "15. 'PAY_AMT5'\n",
       "\n",
       "\n"
      ],
      "text/plain": [
       " [1] \"LIMIT_BAL\" \"SEX\"       \"EDUCATION\" \"MARRIAGE\"  \"AGE\"       \"PAY_0\"    \n",
       " [7] \"PAY_2\"     \"PAY_3\"     \"PAY_5\"     \"BILL_AMT1\" \"BILL_AMT2\" \"PAY_AMT1\" \n",
       "[13] \"PAY_AMT2\"  \"PAY_AMT4\"  \"PAY_AMT5\" "
      ]
     },
     "metadata": {},
     "output_type": "display_data"
    },
    {
     "name": "stdout",
     "output_type": "stream",
     "text": [
      "[1] \"best variables by forward bic\"\n"
     ]
    },
    {
     "data": {
      "text/html": [
       "<style>\n",
       ".list-inline {list-style: none; margin:0; padding: 0}\n",
       ".list-inline>li {display: inline-block}\n",
       ".list-inline>li:not(:last-child)::after {content: \"\\00b7\"; padding: 0 .5ex}\n",
       "</style>\n",
       "<ol class=list-inline><li>'LIMIT_BAL'</li><li>'EDUCATION'</li><li>'MARRIAGE'</li><li>'AGE'</li><li>'PAY_0'</li><li>'PAY_2'</li><li>'PAY_3'</li><li>'BILL_AMT1'</li><li>'PAY_AMT1'</li><li>'PAY_AMT4'</li></ol>\n"
      ],
      "text/latex": [
       "\\begin{enumerate*}\n",
       "\\item 'LIMIT\\_BAL'\n",
       "\\item 'EDUCATION'\n",
       "\\item 'MARRIAGE'\n",
       "\\item 'AGE'\n",
       "\\item 'PAY\\_0'\n",
       "\\item 'PAY\\_2'\n",
       "\\item 'PAY\\_3'\n",
       "\\item 'BILL\\_AMT1'\n",
       "\\item 'PAY\\_AMT1'\n",
       "\\item 'PAY\\_AMT4'\n",
       "\\end{enumerate*}\n"
      ],
      "text/markdown": [
       "1. 'LIMIT_BAL'\n",
       "2. 'EDUCATION'\n",
       "3. 'MARRIAGE'\n",
       "4. 'AGE'\n",
       "5. 'PAY_0'\n",
       "6. 'PAY_2'\n",
       "7. 'PAY_3'\n",
       "8. 'BILL_AMT1'\n",
       "9. 'PAY_AMT1'\n",
       "10. 'PAY_AMT4'\n",
       "\n",
       "\n"
      ],
      "text/plain": [
       " [1] \"LIMIT_BAL\" \"EDUCATION\" \"MARRIAGE\"  \"AGE\"       \"PAY_0\"     \"PAY_2\"    \n",
       " [7] \"PAY_3\"     \"BILL_AMT1\" \"PAY_AMT1\"  \"PAY_AMT4\" "
      ]
     },
     "metadata": {},
     "output_type": "display_data"
    },
    {
     "name": "stdout",
     "output_type": "stream",
     "text": [
      "[1] \"best variables by backward cp\"\n"
     ]
    },
    {
     "data": {
      "text/html": [
       "<style>\n",
       ".list-inline {list-style: none; margin:0; padding: 0}\n",
       ".list-inline>li {display: inline-block}\n",
       ".list-inline>li:not(:last-child)::after {content: \"\\00b7\"; padding: 0 .5ex}\n",
       "</style>\n",
       "<ol class=list-inline><li>'EDUCATION'</li><li>'AGE'</li><li>'PAY_0'</li><li>'PAY_2'</li><li>'PAY_3'</li><li>'BILL_AMT1'</li><li>'PAY_AMT1'</li><li>'PAY_AMT4'</li></ol>\n"
      ],
      "text/latex": [
       "\\begin{enumerate*}\n",
       "\\item 'EDUCATION'\n",
       "\\item 'AGE'\n",
       "\\item 'PAY\\_0'\n",
       "\\item 'PAY\\_2'\n",
       "\\item 'PAY\\_3'\n",
       "\\item 'BILL\\_AMT1'\n",
       "\\item 'PAY\\_AMT1'\n",
       "\\item 'PAY\\_AMT4'\n",
       "\\end{enumerate*}\n"
      ],
      "text/markdown": [
       "1. 'EDUCATION'\n",
       "2. 'AGE'\n",
       "3. 'PAY_0'\n",
       "4. 'PAY_2'\n",
       "5. 'PAY_3'\n",
       "6. 'BILL_AMT1'\n",
       "7. 'PAY_AMT1'\n",
       "8. 'PAY_AMT4'\n",
       "\n",
       "\n"
      ],
      "text/plain": [
       "[1] \"EDUCATION\" \"AGE\"       \"PAY_0\"     \"PAY_2\"     \"PAY_3\"     \"BILL_AMT1\"\n",
       "[7] \"PAY_AMT1\"  \"PAY_AMT4\" "
      ]
     },
     "metadata": {},
     "output_type": "display_data"
    },
    {
     "name": "stdout",
     "output_type": "stream",
     "text": [
      "[1] \"best variables by backward bic\"\n"
     ]
    },
    {
     "data": {
      "text/html": [
       "<style>\n",
       ".list-inline {list-style: none; margin:0; padding: 0}\n",
       ".list-inline>li {display: inline-block}\n",
       ".list-inline>li:not(:last-child)::after {content: \"\\00b7\"; padding: 0 .5ex}\n",
       "</style>\n",
       "<ol class=list-inline><li>'EDUCATION'</li><li>'AGE'</li><li>'PAY_0'</li><li>'PAY_2'</li><li>'PAY_3'</li><li>'BILL_AMT1'</li><li>'PAY_AMT1'</li><li>'PAY_AMT4'</li></ol>\n"
      ],
      "text/latex": [
       "\\begin{enumerate*}\n",
       "\\item 'EDUCATION'\n",
       "\\item 'AGE'\n",
       "\\item 'PAY\\_0'\n",
       "\\item 'PAY\\_2'\n",
       "\\item 'PAY\\_3'\n",
       "\\item 'BILL\\_AMT1'\n",
       "\\item 'PAY\\_AMT1'\n",
       "\\item 'PAY\\_AMT4'\n",
       "\\end{enumerate*}\n"
      ],
      "text/markdown": [
       "1. 'EDUCATION'\n",
       "2. 'AGE'\n",
       "3. 'PAY_0'\n",
       "4. 'PAY_2'\n",
       "5. 'PAY_3'\n",
       "6. 'BILL_AMT1'\n",
       "7. 'PAY_AMT1'\n",
       "8. 'PAY_AMT4'\n",
       "\n",
       "\n"
      ],
      "text/plain": [
       "[1] \"EDUCATION\" \"AGE\"       \"PAY_0\"     \"PAY_2\"     \"PAY_3\"     \"BILL_AMT1\"\n",
       "[7] \"PAY_AMT1\"  \"PAY_AMT4\" "
      ]
     },
     "metadata": {},
     "output_type": "display_data"
    },
    {
     "name": "stdout",
     "output_type": "stream",
     "text": [
      "[1] \"best variables by testing and cross validation\"\n"
     ]
    },
    {
     "data": {
      "text/html": [
       "<style>\n",
       ".list-inline {list-style: none; margin:0; padding: 0}\n",
       ".list-inline>li {display: inline-block}\n",
       ".list-inline>li:not(:last-child)::after {content: \"\\00b7\"; padding: 0 .5ex}\n",
       "</style>\n",
       "<ol class=list-inline><li>'LIMIT_BAL'</li><li>'EDUCATION'</li><li>'MARRIAGE'</li><li>'AGE'</li><li>'PAY_0'</li><li>'PAY_2'</li><li>'PAY_3'</li><li>'PAY_5'</li><li>'BILL_AMT1'</li><li>'PAY_AMT1'</li><li>'PAY_AMT4'</li><li>'PAY_AMT5'</li></ol>\n"
      ],
      "text/latex": [
       "\\begin{enumerate*}\n",
       "\\item 'LIMIT\\_BAL'\n",
       "\\item 'EDUCATION'\n",
       "\\item 'MARRIAGE'\n",
       "\\item 'AGE'\n",
       "\\item 'PAY\\_0'\n",
       "\\item 'PAY\\_2'\n",
       "\\item 'PAY\\_3'\n",
       "\\item 'PAY\\_5'\n",
       "\\item 'BILL\\_AMT1'\n",
       "\\item 'PAY\\_AMT1'\n",
       "\\item 'PAY\\_AMT4'\n",
       "\\item 'PAY\\_AMT5'\n",
       "\\end{enumerate*}\n"
      ],
      "text/markdown": [
       "1. 'LIMIT_BAL'\n",
       "2. 'EDUCATION'\n",
       "3. 'MARRIAGE'\n",
       "4. 'AGE'\n",
       "5. 'PAY_0'\n",
       "6. 'PAY_2'\n",
       "7. 'PAY_3'\n",
       "8. 'PAY_5'\n",
       "9. 'BILL_AMT1'\n",
       "10. 'PAY_AMT1'\n",
       "11. 'PAY_AMT4'\n",
       "12. 'PAY_AMT5'\n",
       "\n",
       "\n"
      ],
      "text/plain": [
       " [1] \"LIMIT_BAL\" \"EDUCATION\" \"MARRIAGE\"  \"AGE\"       \"PAY_0\"     \"PAY_2\"    \n",
       " [7] \"PAY_3\"     \"PAY_5\"     \"BILL_AMT1\" \"PAY_AMT1\"  \"PAY_AMT4\"  \"PAY_AMT5\" "
      ]
     },
     "metadata": {},
     "output_type": "display_data"
    },
    {
     "name": "stdout",
     "output_type": "stream",
     "text": [
      "[1] \"best variables by Ridge Regression\"\n"
     ]
    },
    {
     "data": {
      "text/html": [
       "<style>\n",
       ".list-inline {list-style: none; margin:0; padding: 0}\n",
       ".list-inline>li {display: inline-block}\n",
       ".list-inline>li:not(:last-child)::after {content: \"\\00b7\"; padding: 0 .5ex}\n",
       "</style>\n",
       "<ol class=list-inline><li>'LIMIT_BAL'</li><li>'SEX'</li><li>'EDUCATION'</li><li>'MARRIAGE'</li><li>'AGE'</li><li>'PAY_0'</li><li>'PAY_2'</li><li>'PAY_3'</li><li>'PAY_4'</li><li>'PAY_5'</li><li>'PAY_6'</li><li>'BILL_AMT1'</li><li>'BILL_AMT2'</li><li>'BILL_AMT3'</li><li>'BILL_AMT4'</li><li>'BILL_AMT5'</li><li>'BILL_AMT6'</li><li>'PAY_AMT1'</li><li>'PAY_AMT2'</li><li>'PAY_AMT3'</li><li>'PAY_AMT4'</li><li>'PAY_AMT5'</li><li>'PAY_AMT6'</li></ol>\n"
      ],
      "text/latex": [
       "\\begin{enumerate*}\n",
       "\\item 'LIMIT\\_BAL'\n",
       "\\item 'SEX'\n",
       "\\item 'EDUCATION'\n",
       "\\item 'MARRIAGE'\n",
       "\\item 'AGE'\n",
       "\\item 'PAY\\_0'\n",
       "\\item 'PAY\\_2'\n",
       "\\item 'PAY\\_3'\n",
       "\\item 'PAY\\_4'\n",
       "\\item 'PAY\\_5'\n",
       "\\item 'PAY\\_6'\n",
       "\\item 'BILL\\_AMT1'\n",
       "\\item 'BILL\\_AMT2'\n",
       "\\item 'BILL\\_AMT3'\n",
       "\\item 'BILL\\_AMT4'\n",
       "\\item 'BILL\\_AMT5'\n",
       "\\item 'BILL\\_AMT6'\n",
       "\\item 'PAY\\_AMT1'\n",
       "\\item 'PAY\\_AMT2'\n",
       "\\item 'PAY\\_AMT3'\n",
       "\\item 'PAY\\_AMT4'\n",
       "\\item 'PAY\\_AMT5'\n",
       "\\item 'PAY\\_AMT6'\n",
       "\\end{enumerate*}\n"
      ],
      "text/markdown": [
       "1. 'LIMIT_BAL'\n",
       "2. 'SEX'\n",
       "3. 'EDUCATION'\n",
       "4. 'MARRIAGE'\n",
       "5. 'AGE'\n",
       "6. 'PAY_0'\n",
       "7. 'PAY_2'\n",
       "8. 'PAY_3'\n",
       "9. 'PAY_4'\n",
       "10. 'PAY_5'\n",
       "11. 'PAY_6'\n",
       "12. 'BILL_AMT1'\n",
       "13. 'BILL_AMT2'\n",
       "14. 'BILL_AMT3'\n",
       "15. 'BILL_AMT4'\n",
       "16. 'BILL_AMT5'\n",
       "17. 'BILL_AMT6'\n",
       "18. 'PAY_AMT1'\n",
       "19. 'PAY_AMT2'\n",
       "20. 'PAY_AMT3'\n",
       "21. 'PAY_AMT4'\n",
       "22. 'PAY_AMT5'\n",
       "23. 'PAY_AMT6'\n",
       "\n",
       "\n"
      ],
      "text/plain": [
       " [1] \"LIMIT_BAL\" \"SEX\"       \"EDUCATION\" \"MARRIAGE\"  \"AGE\"       \"PAY_0\"    \n",
       " [7] \"PAY_2\"     \"PAY_3\"     \"PAY_4\"     \"PAY_5\"     \"PAY_6\"     \"BILL_AMT1\"\n",
       "[13] \"BILL_AMT2\" \"BILL_AMT3\" \"BILL_AMT4\" \"BILL_AMT5\" \"BILL_AMT6\" \"PAY_AMT1\" \n",
       "[19] \"PAY_AMT2\"  \"PAY_AMT3\"  \"PAY_AMT4\"  \"PAY_AMT5\"  \"PAY_AMT6\" "
      ]
     },
     "metadata": {},
     "output_type": "display_data"
    },
    {
     "name": "stdout",
     "output_type": "stream",
     "text": [
      "[1] \"best variables by Lasso Regression\"\n"
     ]
    },
    {
     "data": {
      "text/html": [
       "<style>\n",
       ".list-inline {list-style: none; margin:0; padding: 0}\n",
       ".list-inline>li {display: inline-block}\n",
       ".list-inline>li:not(:last-child)::after {content: \"\\00b7\"; padding: 0 .5ex}\n",
       "</style>\n",
       "<ol class=list-inline><li>'LIMIT_BAL'</li><li>'MARRIAGE'</li><li>'AGE'</li><li>'PAY_0'</li><li>'PAY_2'</li><li>'PAY_3'</li><li>'PAY_4'</li><li>'PAY_5'</li><li>'BILL_AMT1'</li><li>'PAY_AMT1'</li><li>'PAY_AMT4'</li><li>'PAY_AMT5'</li></ol>\n"
      ],
      "text/latex": [
       "\\begin{enumerate*}\n",
       "\\item 'LIMIT\\_BAL'\n",
       "\\item 'MARRIAGE'\n",
       "\\item 'AGE'\n",
       "\\item 'PAY\\_0'\n",
       "\\item 'PAY\\_2'\n",
       "\\item 'PAY\\_3'\n",
       "\\item 'PAY\\_4'\n",
       "\\item 'PAY\\_5'\n",
       "\\item 'BILL\\_AMT1'\n",
       "\\item 'PAY\\_AMT1'\n",
       "\\item 'PAY\\_AMT4'\n",
       "\\item 'PAY\\_AMT5'\n",
       "\\end{enumerate*}\n"
      ],
      "text/markdown": [
       "1. 'LIMIT_BAL'\n",
       "2. 'MARRIAGE'\n",
       "3. 'AGE'\n",
       "4. 'PAY_0'\n",
       "5. 'PAY_2'\n",
       "6. 'PAY_3'\n",
       "7. 'PAY_4'\n",
       "8. 'PAY_5'\n",
       "9. 'BILL_AMT1'\n",
       "10. 'PAY_AMT1'\n",
       "11. 'PAY_AMT4'\n",
       "12. 'PAY_AMT5'\n",
       "\n",
       "\n"
      ],
      "text/plain": [
       " [1] \"LIMIT_BAL\" \"MARRIAGE\"  \"AGE\"       \"PAY_0\"     \"PAY_2\"     \"PAY_3\"    \n",
       " [7] \"PAY_4\"     \"PAY_5\"     \"BILL_AMT1\" \"PAY_AMT1\"  \"PAY_AMT4\"  \"PAY_AMT5\" "
      ]
     },
     "metadata": {},
     "output_type": "display_data"
    }
   ],
   "source": [
    "# selection of forward model based on cp\n",
    "print('best variables by forward cp')\n",
    "selection.fwd.cp\n",
    "# selection of forward model based on bic\n",
    "print('best variables by forward bic')\n",
    "selection.fwd.bic\n",
    "# selection of backward model based on cp\n",
    "print('best variables by backward cp')\n",
    "selection.bwd.cp\n",
    "# selection of backward model based on bic\n",
    "print('best variables by backward bic')\n",
    "selection.bwd.bic\n",
    "# selection of best model by testing and cross validation\n",
    "print('best variables by testing and cross validation')\n",
    "selection.best\n",
    "# selection of best model by Ridge Regression\n",
    "print('best variables by Ridge Regression')\n",
    "selection.ridge\n",
    "# selection of best model by Lasso Regression\n",
    "print('best variables by Lasso Regression')\n",
    "selection.lasso"
   ]
  },
  {
   "cell_type": "code",
   "execution_count": 304,
   "id": "68be8369",
   "metadata": {},
   "outputs": [
    {
     "data": {
      "text/html": [
       "<style>\n",
       ".list-inline {list-style: none; margin:0; padding: 0}\n",
       ".list-inline>li {display: inline-block}\n",
       ".list-inline>li:not(:last-child)::after {content: \"\\00b7\"; padding: 0 .5ex}\n",
       "</style>\n",
       "<ol class=list-inline><li>'AGE'</li><li>'PAY_0'</li><li>'PAY_2'</li><li>'PAY_3'</li><li>'BILL_AMT1'</li><li>'PAY_AMT1'</li><li>'PAY_AMT4'</li></ol>\n"
      ],
      "text/latex": [
       "\\begin{enumerate*}\n",
       "\\item 'AGE'\n",
       "\\item 'PAY\\_0'\n",
       "\\item 'PAY\\_2'\n",
       "\\item 'PAY\\_3'\n",
       "\\item 'BILL\\_AMT1'\n",
       "\\item 'PAY\\_AMT1'\n",
       "\\item 'PAY\\_AMT4'\n",
       "\\end{enumerate*}\n"
      ],
      "text/markdown": [
       "1. 'AGE'\n",
       "2. 'PAY_0'\n",
       "3. 'PAY_2'\n",
       "4. 'PAY_3'\n",
       "5. 'BILL_AMT1'\n",
       "6. 'PAY_AMT1'\n",
       "7. 'PAY_AMT4'\n",
       "\n",
       "\n"
      ],
      "text/plain": [
       "[1] \"AGE\"       \"PAY_0\"     \"PAY_2\"     \"PAY_3\"     \"BILL_AMT1\" \"PAY_AMT1\" \n",
       "[7] \"PAY_AMT4\" "
      ]
     },
     "metadata": {},
     "output_type": "display_data"
    }
   ],
   "source": [
    "common.variables=intersect(\n",
    "    intersect(\n",
    "    intersect(\n",
    "    intersect(\n",
    "    intersect(\n",
    "    intersect(selection.fwd.cp,selection.fwd.bic),\n",
    "        selection.bwd.cp),\n",
    "    selection.bwd.bic),\n",
    "    selection.best),\n",
    "    selection.ridge),\n",
    "    selection.lasso)\n",
    "common.variables"
   ]
  },
  {
   "cell_type": "markdown",
   "id": "7c42cf4a",
   "metadata": {},
   "source": [
    "### 2. ML Models"
   ]
  },
  {
   "cell_type": "code",
   "execution_count": 315,
   "id": "fd05d4f5",
   "metadata": {},
   "outputs": [
    {
     "data": {
      "text/plain": [
       "\n",
       "Call:\n",
       "glm(formula = I(default) ~ AGE + PAY_0 + PAY_2 + PAY_3 + BILL_AMT1 + \n",
       "    PAY_AMT1 + PAY_AMT4, family = binomial, data = DF)\n",
       "\n",
       "Deviance Residuals: \n",
       "    Min       1Q   Median       3Q      Max  \n",
       "-3.1451  -0.6935  -0.5644  -0.3240   3.4926  \n",
       "\n",
       "Coefficients:\n",
       "              Estimate Std. Error z value Pr(>|z|)    \n",
       "(Intercept) -1.407e+00  7.224e-02 -19.472  < 2e-16 ***\n",
       "AGE          7.304e-03  1.937e-03   3.771 0.000162 ***\n",
       "PAY_0        5.816e-01  2.140e-02  27.171  < 2e-16 ***\n",
       "PAY_2        7.088e-02  2.404e-02   2.949 0.003193 ** \n",
       "PAY_3        1.510e-01  2.209e-02   6.835 8.22e-12 ***\n",
       "BILL_AMT1   -2.131e-06  2.992e-07  -7.120 1.08e-12 ***\n",
       "PAY_AMT1    -1.560e-05  2.723e-06  -5.728 1.01e-08 ***\n",
       "PAY_AMT4    -1.098e-05  2.367e-06  -4.638 3.52e-06 ***\n",
       "---\n",
       "Signif. codes:  0 '***' 0.001 '**' 0.01 '*' 0.05 '.' 0.1 ' ' 1\n",
       "\n",
       "(Dispersion parameter for binomial family taken to be 1)\n",
       "\n",
       "    Null deviance: 21112  on 19999  degrees of freedom\n",
       "Residual deviance: 18825  on 19992  degrees of freedom\n",
       "AIC: 18841\n",
       "\n",
       "Number of Fisher Scoring iterations: 5\n"
      ]
     },
     "metadata": {},
     "output_type": "display_data"
    }
   ],
   "source": [
    "glm.fits=glm(I(default)~ AGE + PAY_0 + PAY_2 + PAY_3 + BILL_AMT1 + PAY_AMT1 + PAY_AMT4 \n",
    "             ,data=DF,family=binomial)\n",
    "summary(glm.fits)"
   ]
  },
  {
   "cell_type": "code",
   "execution_count": 316,
   "id": "882f7223",
   "metadata": {},
   "outputs": [
    {
     "data": {
      "text/html": [
       "<style>\n",
       ".dl-inline {width: auto; margin:0; padding: 0}\n",
       ".dl-inline>dt, .dl-inline>dd {float: none; width: auto; display: inline-block}\n",
       ".dl-inline>dt::after {content: \":\\0020\"; padding-right: .5ex}\n",
       ".dl-inline>dt:not(:first-of-type) {padding-left: .5ex}\n",
       "</style><dl class=dl-inline><dt>(Intercept)</dt><dd>-1.40666451691011</dd><dt>AGE</dt><dd>0.00730352798779781</dd><dt>PAY_0</dt><dd>0.581568966472927</dd><dt>PAY_2</dt><dd>0.0708808347409049</dd><dt>PAY_3</dt><dd>0.150954269555956</dd><dt>BILL_AMT1</dt><dd>-2.13062094822455e-06</dd><dt>PAY_AMT1</dt><dd>-1.55990141384334e-05</dd><dt>PAY_AMT4</dt><dd>-1.09762216077698e-05</dd></dl>\n"
      ],
      "text/latex": [
       "\\begin{description*}\n",
       "\\item[(Intercept)] -1.40666451691011\n",
       "\\item[AGE] 0.00730352798779781\n",
       "\\item[PAY\\textbackslash{}\\_0] 0.581568966472927\n",
       "\\item[PAY\\textbackslash{}\\_2] 0.0708808347409049\n",
       "\\item[PAY\\textbackslash{}\\_3] 0.150954269555956\n",
       "\\item[BILL\\textbackslash{}\\_AMT1] -2.13062094822455e-06\n",
       "\\item[PAY\\textbackslash{}\\_AMT1] -1.55990141384334e-05\n",
       "\\item[PAY\\textbackslash{}\\_AMT4] -1.09762216077698e-05\n",
       "\\end{description*}\n"
      ],
      "text/markdown": [
       "(Intercept)\n",
       ":   -1.40666451691011AGE\n",
       ":   0.00730352798779781PAY_0\n",
       ":   0.581568966472927PAY_2\n",
       ":   0.0708808347409049PAY_3\n",
       ":   0.150954269555956BILL_AMT1\n",
       ":   -2.13062094822455e-06PAY_AMT1\n",
       ":   -1.55990141384334e-05PAY_AMT4\n",
       ":   -1.09762216077698e-05\n",
       "\n"
      ],
      "text/plain": [
       "  (Intercept)           AGE         PAY_0         PAY_2         PAY_3 \n",
       "-1.406665e+00  7.303528e-03  5.815690e-01  7.088083e-02  1.509543e-01 \n",
       "    BILL_AMT1      PAY_AMT1      PAY_AMT4 \n",
       "-2.130621e-06 -1.559901e-05 -1.097622e-05 "
      ]
     },
     "metadata": {},
     "output_type": "display_data"
    }
   ],
   "source": [
    "coef(glm.fits)"
   ]
  },
  {
   "cell_type": "code",
   "execution_count": 317,
   "id": "6f0f20e6",
   "metadata": {},
   "outputs": [
    {
     "data": {
      "text/html": [
       "<table class=\"dataframe\">\n",
       "<caption>A matrix: 8 × 4 of type dbl</caption>\n",
       "<thead>\n",
       "\t<tr><th></th><th scope=col>Estimate</th><th scope=col>Std. Error</th><th scope=col>z value</th><th scope=col>Pr(&gt;|z|)</th></tr>\n",
       "</thead>\n",
       "<tbody>\n",
       "\t<tr><th scope=row>(Intercept)</th><td>-1.406665e+00</td><td>7.223940e-02</td><td>-19.472263</td><td> 1.887469e-84</td></tr>\n",
       "\t<tr><th scope=row>AGE</th><td> 7.303528e-03</td><td>1.936670e-03</td><td>  3.771179</td><td> 1.624780e-04</td></tr>\n",
       "\t<tr><th scope=row>PAY_0</th><td> 5.815690e-01</td><td>2.140440e-02</td><td> 27.170530</td><td>1.448681e-162</td></tr>\n",
       "\t<tr><th scope=row>PAY_2</th><td> 7.088083e-02</td><td>2.403932e-02</td><td>  2.948538</td><td> 3.192812e-03</td></tr>\n",
       "\t<tr><th scope=row>PAY_3</th><td> 1.509543e-01</td><td>2.208680e-02</td><td>  6.834593</td><td> 8.223841e-12</td></tr>\n",
       "\t<tr><th scope=row>BILL_AMT1</th><td>-2.130621e-06</td><td>2.992329e-07</td><td> -7.120276</td><td> 1.077113e-12</td></tr>\n",
       "\t<tr><th scope=row>PAY_AMT1</th><td>-1.559901e-05</td><td>2.723057e-06</td><td> -5.728493</td><td> 1.013265e-08</td></tr>\n",
       "\t<tr><th scope=row>PAY_AMT4</th><td>-1.097622e-05</td><td>2.366547e-06</td><td> -4.638074</td><td> 3.516702e-06</td></tr>\n",
       "</tbody>\n",
       "</table>\n"
      ],
      "text/latex": [
       "A matrix: 8 × 4 of type dbl\n",
       "\\begin{tabular}{r|llll}\n",
       "  & Estimate & Std. Error & z value & Pr(>\\textbar{}z\\textbar{})\\\\\n",
       "\\hline\n",
       "\t(Intercept) & -1.406665e+00 & 7.223940e-02 & -19.472263 &  1.887469e-84\\\\\n",
       "\tAGE &  7.303528e-03 & 1.936670e-03 &   3.771179 &  1.624780e-04\\\\\n",
       "\tPAY\\_0 &  5.815690e-01 & 2.140440e-02 &  27.170530 & 1.448681e-162\\\\\n",
       "\tPAY\\_2 &  7.088083e-02 & 2.403932e-02 &   2.948538 &  3.192812e-03\\\\\n",
       "\tPAY\\_3 &  1.509543e-01 & 2.208680e-02 &   6.834593 &  8.223841e-12\\\\\n",
       "\tBILL\\_AMT1 & -2.130621e-06 & 2.992329e-07 &  -7.120276 &  1.077113e-12\\\\\n",
       "\tPAY\\_AMT1 & -1.559901e-05 & 2.723057e-06 &  -5.728493 &  1.013265e-08\\\\\n",
       "\tPAY\\_AMT4 & -1.097622e-05 & 2.366547e-06 &  -4.638074 &  3.516702e-06\\\\\n",
       "\\end{tabular}\n"
      ],
      "text/markdown": [
       "\n",
       "A matrix: 8 × 4 of type dbl\n",
       "\n",
       "| <!--/--> | Estimate | Std. Error | z value | Pr(&gt;|z|) |\n",
       "|---|---|---|---|---|\n",
       "| (Intercept) | -1.406665e+00 | 7.223940e-02 | -19.472263 |  1.887469e-84 |\n",
       "| AGE |  7.303528e-03 | 1.936670e-03 |   3.771179 |  1.624780e-04 |\n",
       "| PAY_0 |  5.815690e-01 | 2.140440e-02 |  27.170530 | 1.448681e-162 |\n",
       "| PAY_2 |  7.088083e-02 | 2.403932e-02 |   2.948538 |  3.192812e-03 |\n",
       "| PAY_3 |  1.509543e-01 | 2.208680e-02 |   6.834593 |  8.223841e-12 |\n",
       "| BILL_AMT1 | -2.130621e-06 | 2.992329e-07 |  -7.120276 |  1.077113e-12 |\n",
       "| PAY_AMT1 | -1.559901e-05 | 2.723057e-06 |  -5.728493 |  1.013265e-08 |\n",
       "| PAY_AMT4 | -1.097622e-05 | 2.366547e-06 |  -4.638074 |  3.516702e-06 |\n",
       "\n"
      ],
      "text/plain": [
       "            Estimate      Std. Error   z value    Pr(>|z|)     \n",
       "(Intercept) -1.406665e+00 7.223940e-02 -19.472263  1.887469e-84\n",
       "AGE          7.303528e-03 1.936670e-03   3.771179  1.624780e-04\n",
       "PAY_0        5.815690e-01 2.140440e-02  27.170530 1.448681e-162\n",
       "PAY_2        7.088083e-02 2.403932e-02   2.948538  3.192812e-03\n",
       "PAY_3        1.509543e-01 2.208680e-02   6.834593  8.223841e-12\n",
       "BILL_AMT1   -2.130621e-06 2.992329e-07  -7.120276  1.077113e-12\n",
       "PAY_AMT1    -1.559901e-05 2.723057e-06  -5.728493  1.013265e-08\n",
       "PAY_AMT4    -1.097622e-05 2.366547e-06  -4.638074  3.516702e-06"
      ]
     },
     "metadata": {},
     "output_type": "display_data"
    },
    {
     "data": {
      "text/html": [
       "<style>\n",
       ".dl-inline {width: auto; margin:0; padding: 0}\n",
       ".dl-inline>dt, .dl-inline>dd {float: none; width: auto; display: inline-block}\n",
       ".dl-inline>dt::after {content: \":\\0020\"; padding-right: .5ex}\n",
       ".dl-inline>dt:not(:first-of-type) {padding-left: .5ex}\n",
       "</style><dl class=dl-inline><dt>(Intercept)</dt><dd>1.8874689199079e-84</dd><dt>AGE</dt><dd>0.000162478030975317</dd><dt>PAY_0</dt><dd>1.44868117083645e-162</dd><dt>PAY_2</dt><dd>0.00319281212510681</dd><dt>PAY_3</dt><dd>8.22384121448458e-12</dd><dt>BILL_AMT1</dt><dd>1.07711343539131e-12</dd><dt>PAY_AMT1</dt><dd>1.01326476275284e-08</dd><dt>PAY_AMT4</dt><dd>3.51670150089017e-06</dd></dl>\n"
      ],
      "text/latex": [
       "\\begin{description*}\n",
       "\\item[(Intercept)] 1.8874689199079e-84\n",
       "\\item[AGE] 0.000162478030975317\n",
       "\\item[PAY\\textbackslash{}\\_0] 1.44868117083645e-162\n",
       "\\item[PAY\\textbackslash{}\\_2] 0.00319281212510681\n",
       "\\item[PAY\\textbackslash{}\\_3] 8.22384121448458e-12\n",
       "\\item[BILL\\textbackslash{}\\_AMT1] 1.07711343539131e-12\n",
       "\\item[PAY\\textbackslash{}\\_AMT1] 1.01326476275284e-08\n",
       "\\item[PAY\\textbackslash{}\\_AMT4] 3.51670150089017e-06\n",
       "\\end{description*}\n"
      ],
      "text/markdown": [
       "(Intercept)\n",
       ":   1.8874689199079e-84AGE\n",
       ":   0.000162478030975317PAY_0\n",
       ":   1.44868117083645e-162PAY_2\n",
       ":   0.00319281212510681PAY_3\n",
       ":   8.22384121448458e-12BILL_AMT1\n",
       ":   1.07711343539131e-12PAY_AMT1\n",
       ":   1.01326476275284e-08PAY_AMT4\n",
       ":   3.51670150089017e-06\n",
       "\n"
      ],
      "text/plain": [
       "  (Intercept)           AGE         PAY_0         PAY_2         PAY_3 \n",
       " 1.887469e-84  1.624780e-04 1.448681e-162  3.192812e-03  8.223841e-12 \n",
       "    BILL_AMT1      PAY_AMT1      PAY_AMT4 \n",
       " 1.077113e-12  1.013265e-08  3.516702e-06 "
      ]
     },
     "metadata": {},
     "output_type": "display_data"
    }
   ],
   "source": [
    "summary(glm.fits)$coef\n",
    "summary(glm.fits)$coef[,4]"
   ]
  },
  {
   "cell_type": "code",
   "execution_count": 322,
   "id": "24f7df3d",
   "metadata": {},
   "outputs": [
    {
     "data": {
      "text/html": [
       "<style>\n",
       ".dl-inline {width: auto; margin:0; padding: 0}\n",
       ".dl-inline>dt, .dl-inline>dd {float: none; width: auto; display: inline-block}\n",
       ".dl-inline>dt::after {content: \":\\0020\"; padding-right: .5ex}\n",
       ".dl-inline>dt:not(:first-of-type) {padding-left: .5ex}\n",
       "</style><dl class=dl-inline><dt>1</dt><dd>0.212347489008962</dd><dt>2</dt><dd>0.466977901222984</dd><dt>3</dt><dd>0.212577059373283</dd><dt>4</dt><dd>0.209311448266453</dd><dt>5</dt><dd>0.586219213124947</dd><dt>6</dt><dd>0.228542371746837</dd><dt>7</dt><dd>0.236976766933637</dd><dt>8</dt><dd>0.226014780450536</dd><dt>9</dt><dd>0.0525422207653491</dd><dt>10</dt><dd>0.196218056818588</dd></dl>\n"
      ],
      "text/latex": [
       "\\begin{description*}\n",
       "\\item[1] 0.212347489008962\n",
       "\\item[2] 0.466977901222984\n",
       "\\item[3] 0.212577059373283\n",
       "\\item[4] 0.209311448266453\n",
       "\\item[5] 0.586219213124947\n",
       "\\item[6] 0.228542371746837\n",
       "\\item[7] 0.236976766933637\n",
       "\\item[8] 0.226014780450536\n",
       "\\item[9] 0.0525422207653491\n",
       "\\item[10] 0.196218056818588\n",
       "\\end{description*}\n"
      ],
      "text/markdown": [
       "1\n",
       ":   0.2123474890089622\n",
       ":   0.4669779012229843\n",
       ":   0.2125770593732834\n",
       ":   0.2093114482664535\n",
       ":   0.5862192131249476\n",
       ":   0.2285423717468377\n",
       ":   0.2369767669336378\n",
       ":   0.2260147804505369\n",
       ":   0.052542220765349110\n",
       ":   0.196218056818588\n",
       "\n"
      ],
      "text/plain": [
       "         1          2          3          4          5          6          7 \n",
       "0.21234749 0.46697790 0.21257706 0.20931145 0.58621921 0.22854237 0.23697677 \n",
       "         8          9         10 \n",
       "0.22601478 0.05254222 0.19621806 "
      ]
     },
     "metadata": {},
     "output_type": "display_data"
    }
   ],
   "source": [
    "glm.probs=predict(glm.fits,newdata=DF,type=\"response\")\n",
    "glm.probs[1:10]\n"
   ]
  },
  {
   "cell_type": "code",
   "execution_count": 325,
   "id": "1584d8f9",
   "metadata": {},
   "outputs": [],
   "source": [
    "GLMDF<-DF\n",
    "GLMDF$predict<- ifelse(glm.probs > 0.5, 1, 0)"
   ]
  },
  {
   "cell_type": "code",
   "execution_count": 335,
   "id": "9b5c3ecb",
   "metadata": {},
   "outputs": [
    {
     "name": "stdout",
     "output_type": "stream",
     "text": [
      "\n",
      " \n",
      "   Cell Contents\n",
      "|-------------------------|\n",
      "|                       N |\n",
      "| Chi-square contribution |\n",
      "|           N / Row Total |\n",
      "|           N / Col Total |\n",
      "|         N / Table Total |\n",
      "|-------------------------|\n",
      "\n",
      " \n",
      "Total Observations in Table:  20000 \n",
      "\n",
      " \n",
      "              | GLMDF$default \n",
      "GLMDF$predict |         0 |         1 | Row Total | \n",
      "--------------|-----------|-----------|-----------|\n",
      "            0 |     15215 |      3530 |     18745 | \n",
      "              |    25.224 |    89.068 |           | \n",
      "              |     0.812 |     0.188 |     0.937 | \n",
      "              |     0.976 |     0.800 |           | \n",
      "              |     0.761 |     0.176 |           | \n",
      "--------------|-----------|-----------|-----------|\n",
      "            1 |       371 |       884 |      1255 | \n",
      "              |   376.756 |  1330.338 |           | \n",
      "              |     0.296 |     0.704 |     0.063 | \n",
      "              |     0.024 |     0.200 |           | \n",
      "              |     0.019 |     0.044 |           | \n",
      "--------------|-----------|-----------|-----------|\n",
      " Column Total |     15586 |      4414 |     20000 | \n",
      "              |     0.779 |     0.221 |           | \n",
      "--------------|-----------|-----------|-----------|\n",
      "\n",
      " \n"
     ]
    }
   ],
   "source": [
    "confusion_matrix<-gmodels::CrossTable(GLMDF$predict,GLMDF$default)\n",
    "confusion_matrix"
   ]
  },
  {
   "cell_type": "code",
   "execution_count": 337,
   "id": "46f1627b",
   "metadata": {},
   "outputs": [
    {
     "name": "stdout",
     "output_type": "stream",
     "text": [
      "[1] \"Accuracy is eual to = 0.80495\"\n",
      "[1] \"error Type One is eual to = 0.0238034133196458\"\n",
      "[1] \"error Type Two is eual to = 0.799728137743543\"\n"
     ]
    }
   ],
   "source": [
    "\n",
    "TP<-confusion_matrix$t[2,2]\n",
    "FP<-confusion_matrix$t[2,1]\n",
    "TN<-confusion_matrix$t[1,1]\n",
    "FN<-confusion_matrix$t[1,2]\n",
    "\n",
    "#accuracy\n",
    "accuracy<-(TP + TN) / (TP + FP + TN + FN)\n",
    "#Errors\n",
    "\n",
    "err_1<-confusion_matrix$prop.col[2,1]\n",
    "err_2<-confusion_matrix$prop.col[1,2]\n",
    "\n",
    "\n",
    "print(paste('Accuracy is eual to =', accuracy))\n",
    "print(paste('error Type One is eual to =', err_1))\n",
    "print(paste('error Type Two is eual to =', err_2))"
   ]
  },
  {
   "cell_type": "code",
   "execution_count": null,
   "id": "7c31f959",
   "metadata": {},
   "outputs": [],
   "source": [
    "# Logistic Regression\n",
    "\n",
    "\n",
    "\n",
    "\n",
    "glm.pred=rep(\"Down\",1250)\n",
    "glm.pred[glm.probs>.5]=\"Up\"\n",
    "table(glm.pred,Direction)\n",
    "(507+145)/1250\n",
    "mean(glm.pred==Direction)\n",
    "train=(Year<2005)\n",
    "Smarket.2005=Smarket[!train,]\n",
    "dim(Smarket.2005)\n",
    "Direction.2005=Direction[!train]\n",
    "glm.fits=glm(Direction~Lag1+Lag2+Lag3+Lag4+Lag5+Volume,data=Smarket,family=binomial,subset=train)\n",
    "glm.probs=predict(glm.fits,Smarket.2005,type=\"response\")\n",
    "glm.pred=rep(\"Down\",252)\n",
    "glm.pred[glm.probs>.5]=\"Up\"\n",
    "table(glm.pred,Direction.2005)\n",
    "mean(glm.pred==Direction.2005)\n",
    "mean(glm.pred!=Direction.2005)\n",
    "glm.fits=glm(Direction~Lag1+Lag2,data=Smarket,family=binomial,subset=train)\n",
    "glm.probs=predict(glm.fits,Smarket.2005,type=\"response\")\n",
    "glm.pred=rep(\"Down\",252)\n",
    "glm.pred[glm.probs>.5]=\"Up\"\n",
    "table(glm.pred,Direction.2005)\n",
    "mean(glm.pred==Direction.2005)\n",
    "106/(106+76)\n",
    "predict(glm.fits,newdata=data.frame(Lag1=c(1.2,1.5),Lag2=c(1.1,-0.8)),type=\"response\")"
   ]
  },
  {
   "cell_type": "code",
   "execution_count": null,
   "id": "b2ce73de",
   "metadata": {},
   "outputs": [],
   "source": []
  },
  {
   "cell_type": "code",
   "execution_count": null,
   "id": "8d98ae29",
   "metadata": {},
   "outputs": [],
   "source": []
  },
  {
   "cell_type": "code",
   "execution_count": null,
   "id": "df8e0835",
   "metadata": {},
   "outputs": [],
   "source": []
  },
  {
   "cell_type": "code",
   "execution_count": null,
   "id": "bc9f2870",
   "metadata": {},
   "outputs": [],
   "source": []
  },
  {
   "cell_type": "markdown",
   "id": "1fc4c2cf",
   "metadata": {},
   "source": [
    "#### 2.1. GAMs "
   ]
  },
  {
   "cell_type": "code",
   "execution_count": 309,
   "id": "95488b52",
   "metadata": {},
   "outputs": [],
   "source": [
    "library(gamclass)"
   ]
  },
  {
   "cell_type": "code",
   "execution_count": 311,
   "id": "8aa5d314",
   "metadata": {},
   "outputs": [
    {
     "name": "stdout",
     "output_type": "stream",
     "text": [
      "   GAMscale CV-mse-GAM  \n",
      "     0.1388      0.1395 \n"
     ]
    }
   ],
   "source": [
    "\n",
    "\n",
    "CVgam(I(default)~s(AGE) + s(PAY_0) + s(PAY_2) + s(PAY_3) + s(BILL_AMT1) + s(PAY_AMT1) + s(PAY_AMT4) ,\n",
    "              data = DF, nfold = 10, debug.level = 0, method = \"GCV.Cp\",\n",
    "              printit = TRUE, cvparts = NULL, gamma = 1, seed = 613)"
   ]
  },
  {
   "cell_type": "code",
   "execution_count": 312,
   "id": "b34c5fda",
   "metadata": {},
   "outputs": [
    {
     "data": {
      "image/png": "[encoded data removed]",
      "text/plain": [
       "plot without title"
      ]
     },
     "metadata": {
      "image/png": {
       "height": 480,
       "width": 720
      }
     },
     "output_type": "display_data"
    },
    {
     "data": {
      "image/png": "[encoded data removed]",
      "text/plain": [
       "plot without title"
      ]
     },
     "metadata": {
      "image/png": {
       "height": 480,
       "width": 720
      }
     },
     "output_type": "display_data"
    },
    {
     "data": {
      "image/png": "[encoded data removed]",
      "text/plain": [
       "plot without title"
      ]
     },
     "metadata": {
      "image/png": {
       "height": 480,
       "width": 720
      }
     },
     "output_type": "display_data"
    },
    {
     "data": {
      "image/png": "[encoded data removed]",
      "text/plain": [
       "plot without title"
      ]
     },
     "metadata": {
      "image/png": {
       "height": 480,
       "width": 720
      }
     },
     "output_type": "display_data"
    },
    {
     "data": {
      "image/png": "[encoded data removed]",
      "text/plain": [
       "plot without title"
      ]
     },
     "metadata": {
      "image/png": {
       "height": 480,
       "width": 720
      }
     },
     "output_type": "display_data"
    },
    {
     "data": {
      "image/png": "[encoded data removed]",
      "text/plain": [
       "plot without title"
      ]
     },
     "metadata": {
      "image/png": {
       "height": 480,
       "width": 720
      }
     },
     "output_type": "display_data"
    },
    {
     "data": {
      "image/png": "[encoded data removed]",
      "text/plain": [
       "plot without title"
      ]
     },
     "metadata": {
      "image/png": {
       "height": 480,
       "width": 720
      }
     },
     "output_type": "display_data"
    }
   ],
   "source": [
    "gam.lr.s=gam(I(default)~s(AGE) + s(PAY_0) + s(PAY_2) + s(PAY_3) + s(BILL_AMT1) + s(PAY_AMT1) + s(PAY_AMT4)\n",
    "             ,family=binomial,data=DF[])\n",
    "plot(gam.lr.s,se=T,col=\"green\")"
   ]
  },
  {
   "cell_type": "code",
   "execution_count": null,
   "id": "cb21c58e",
   "metadata": {},
   "outputs": [],
   "source": [
    "gam.m3=gam(wage~s(year,4)+s(age,5)+education,data=Wage)\n",
    "par(mfrow=c(1,3))\n",
    "plot(gam.m3, se=TRUE,col=\"blue\")\n",
    "plot.gam(gam1, se=TRUE, col=\"red\")\n",
    "gam.m1=gam(wage~s(age,5)+education,data=Wage)\n",
    "gam.m2=gam(wage~year+s(age,5)+education,data=Wage)\n",
    "anova(gam.m1,gam.m2,gam.m3,test=\"F\")\n",
    "summary(gam.m3)\n",
    "preds=predict(gam.m2,newdata=Wage)\n",
    "gam.lo=gam(wage~s(year,df=4)+lo(age,span=0.7)+education,data=Wage)\n",
    "plot.gam(gam.lo, se=TRUE, col=\"green\")\n",
    "gam.lo.i=gam(wage~lo(year,age,span=0.5)+education,data=Wage)\n",
    "library(akima)\n",
    "plot(gam.lo.i)\n",
    "gam.lr=gam(I(wage>250)~year+s(age,df=5)+education,family=binomial,data=Wage)\n",
    "par(mfrow=c(1,3))\n",
    "plot(gam.lr,se=T,col=\"green\")\n",
    "table(education,I(wage>250))\n",
    "gam.lr.s=gam(I(wage>250)~year+s(age,df=5)+education,family=binomial,data=Wage,subset=(education!=\"1. < HS Grad\"))\n",
    "plot(gam.lr.s,se=T,col=\"green\")\n"
   ]
  },
  {
   "cell_type": "code",
   "execution_count": null,
   "id": "8c0cbacf",
   "metadata": {},
   "outputs": [],
   "source": []
  },
  {
   "cell_type": "code",
   "execution_count": null,
   "id": "22e094d7",
   "metadata": {},
   "outputs": [],
   "source": []
  },
  {
   "cell_type": "code",
   "execution_count": null,
   "id": "158b1602",
   "metadata": {},
   "outputs": [],
   "source": []
  },
  {
   "cell_type": "code",
   "execution_count": null,
   "id": "3cbedd06",
   "metadata": {},
   "outputs": [],
   "source": []
  },
  {
   "cell_type": "code",
   "execution_count": null,
   "id": "30447567",
   "metadata": {},
   "outputs": [],
   "source": []
  },
  {
   "cell_type": "code",
   "execution_count": null,
   "id": "64652601",
   "metadata": {},
   "outputs": [],
   "source": []
  },
  {
   "cell_type": "markdown",
   "id": "350aecdf",
   "metadata": {},
   "source": [
    "#### 2.2. Logistic Regression"
   ]
  },
  {
   "cell_type": "code",
   "execution_count": null,
   "id": "bb9e26b1",
   "metadata": {},
   "outputs": [],
   "source": []
  },
  {
   "cell_type": "code",
   "execution_count": null,
   "id": "ad8a06d1",
   "metadata": {},
   "outputs": [],
   "source": []
  },
  {
   "cell_type": "code",
   "execution_count": null,
   "id": "9b144a33",
   "metadata": {},
   "outputs": [],
   "source": []
  },
  {
   "cell_type": "code",
   "execution_count": null,
   "id": "778e7aba",
   "metadata": {},
   "outputs": [],
   "source": []
  },
  {
   "cell_type": "code",
   "execution_count": null,
   "id": "582078c7",
   "metadata": {},
   "outputs": [],
   "source": []
  },
  {
   "cell_type": "code",
   "execution_count": null,
   "id": "f30894ef",
   "metadata": {},
   "outputs": [],
   "source": []
  },
  {
   "cell_type": "code",
   "execution_count": null,
   "id": "0fe438bd",
   "metadata": {},
   "outputs": [],
   "source": []
  },
  {
   "cell_type": "code",
   "execution_count": null,
   "id": "73a74428",
   "metadata": {},
   "outputs": [],
   "source": []
  },
  {
   "cell_type": "code",
   "execution_count": null,
   "id": "3a87ac79",
   "metadata": {},
   "outputs": [],
   "source": []
  }
 ],
 "metadata": {
  "kernelspec": {
   "display_name": "R",
   "language": "R",
   "name": "ir"
  },
  "language_info": {
   "codemirror_mode": "r",
   "file_extension": ".r",
   "mimetype": "text/x-r-source",
   "name": "R",
   "pygments_lexer": "r",
   "version": "4.0.5"
  }
 },
 "nbformat": 4,
 "nbformat_minor": 5
}
