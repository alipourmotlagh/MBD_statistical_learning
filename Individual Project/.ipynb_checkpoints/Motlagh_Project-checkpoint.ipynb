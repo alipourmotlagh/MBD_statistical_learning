{
 "cells": [
  {
   "cell_type": "markdown",
   "id": "8e60ab43",
   "metadata": {},
   "source": [
    "<h1 style=\"text-align:center;color:#131313\"> Individual Assignment</h1>\n",
    "<h2>Description</h2>\n",
    "<p>here I</p>\n",
    "<author>Mohammad Hadi adlipour Motlagh</author>"
   ]
  },
  {
   "cell_type": "markdown",
   "id": "5999b684",
   "metadata": {},
   "source": [
    "<h2>Data Exploration</h2>"
   ]
  },
  {
   "cell_type": "markdown",
   "id": "b5dc5a20",
   "metadata": {},
   "source": [
    "### 1. Import all required libraries and datasets"
   ]
  },
  {
   "cell_type": "code",
   "execution_count": 1,
   "id": "5faedd82",
   "metadata": {},
   "outputs": [
    {
     "name": "stderr",
     "output_type": "stream",
     "text": [
      "dummies-1.5.6 provided by Decision Patterns\n",
      "\n",
      "\n",
      "-- \u001b[1mAttaching packages\u001b[22m ------------------------------------------------------------------------------- tidyverse 1.3.1 --\n",
      "\n",
      "\u001b[32mv\u001b[39m \u001b[34mggplot2\u001b[39m 3.3.5     \u001b[32mv\u001b[39m \u001b[34mpurrr  \u001b[39m 0.3.4\n",
      "\u001b[32mv\u001b[39m \u001b[34mtibble \u001b[39m 3.1.6     \u001b[32mv\u001b[39m \u001b[34mdplyr  \u001b[39m 1.0.7\n",
      "\u001b[32mv\u001b[39m \u001b[34mtidyr  \u001b[39m 1.1.4     \u001b[32mv\u001b[39m \u001b[34mstringr\u001b[39m 1.4.0\n",
      "\u001b[32mv\u001b[39m \u001b[34mreadr  \u001b[39m 2.1.1     \u001b[32mv\u001b[39m \u001b[34mforcats\u001b[39m 0.5.1\n",
      "\n",
      "-- \u001b[1mConflicts\u001b[22m ---------------------------------------------------------------------------------- tidyverse_conflicts() --\n",
      "\u001b[31mx\u001b[39m \u001b[34mdplyr\u001b[39m::\u001b[32mbetween()\u001b[39m   masks \u001b[34mdata.table\u001b[39m::between()\n",
      "\u001b[31mx\u001b[39m \u001b[34mdplyr\u001b[39m::\u001b[32mfilter()\u001b[39m    masks \u001b[34mstats\u001b[39m::filter()\n",
      "\u001b[31mx\u001b[39m \u001b[34mdplyr\u001b[39m::\u001b[32mfirst()\u001b[39m     masks \u001b[34mdata.table\u001b[39m::first()\n",
      "\u001b[31mx\u001b[39m \u001b[34mdplyr\u001b[39m::\u001b[32mlag()\u001b[39m       masks \u001b[34mstats\u001b[39m::lag()\n",
      "\u001b[31mx\u001b[39m \u001b[34mdplyr\u001b[39m::\u001b[32mlast()\u001b[39m      masks \u001b[34mdata.table\u001b[39m::last()\n",
      "\u001b[31mx\u001b[39m \u001b[34mpurrr\u001b[39m::\u001b[32mtranspose()\u001b[39m masks \u001b[34mdata.table\u001b[39m::transpose()\n",
      "\n",
      "\n",
      "Attaching package: 'gridExtra'\n",
      "\n",
      "\n",
      "The following object is masked from 'package:dplyr':\n",
      "\n",
      "    combine\n",
      "\n",
      "\n",
      "Loading required package: ParamHelpers\n",
      "\n",
      "Warning message: 'mlr' is in 'maintenance-only' mode since July 2019.\n",
      "Future development will only happen in 'mlr3'\n",
      "(<https://mlr3.mlr-org.com>). Due to the focus on 'mlr3' there might be\n",
      "uncaught bugs meanwhile in {mlr} - please consider switching.\n",
      "\n",
      "Loading required package: lattice\n",
      "\n",
      "\n",
      "Attaching package: 'caret'\n",
      "\n",
      "\n",
      "The following object is masked from 'package:mlr':\n",
      "\n",
      "    train\n",
      "\n",
      "\n",
      "The following object is masked from 'package:purrr':\n",
      "\n",
      "    lift\n",
      "\n",
      "\n",
      "\n",
      "Attaching package: 'rgl'\n",
      "\n",
      "\n",
      "The following object is masked from 'package:plotrix':\n",
      "\n",
      "    mtext3d\n",
      "\n",
      "\n",
      "\n",
      "Attaching package: 'e1071'\n",
      "\n",
      "\n",
      "The following object is masked from 'package:mlr':\n",
      "\n",
      "    impute\n",
      "\n",
      "\n",
      "\n",
      "Attaching package: 'kknn'\n",
      "\n",
      "\n",
      "The following object is masked from 'package:caret':\n",
      "\n",
      "    contr.dummy\n",
      "\n",
      "\n",
      "Registered S3 method overwritten by 'tree':\n",
      "  method     from\n",
      "  print.tree cli \n",
      "\n",
      "randomForest 4.6-14\n",
      "\n",
      "Type rfNews() to see new features/changes/bug fixes.\n",
      "\n",
      "\n",
      "Attaching package: 'randomForest'\n",
      "\n",
      "\n",
      "The following object is masked from 'package:gridExtra':\n",
      "\n",
      "    combine\n",
      "\n",
      "\n",
      "The following object is masked from 'package:dplyr':\n",
      "\n",
      "    combine\n",
      "\n",
      "\n",
      "The following object is masked from 'package:ggplot2':\n",
      "\n",
      "    margin\n",
      "\n",
      "\n",
      "Loaded gbm 2.1.8\n",
      "\n",
      "Loading required package: Matrix\n",
      "\n",
      "\n",
      "Attaching package: 'Matrix'\n",
      "\n",
      "\n",
      "The following objects are masked from 'package:tidyr':\n",
      "\n",
      "    expand, pack, unpack\n",
      "\n",
      "\n",
      "Loaded glmnet 4.1-2\n",
      "\n",
      "\n",
      "Attaching package: 'pls'\n",
      "\n",
      "\n",
      "The following object is masked from 'package:caret':\n",
      "\n",
      "    R2\n",
      "\n",
      "\n",
      "The following object is masked from 'package:mlr':\n",
      "\n",
      "    crossval\n",
      "\n",
      "\n",
      "The following object is masked from 'package:stats':\n",
      "\n",
      "    loadings\n",
      "\n",
      "\n",
      "Loading required package: nlme\n",
      "\n",
      "\n",
      "Attaching package: 'nlme'\n",
      "\n",
      "\n",
      "The following object is masked from 'package:dplyr':\n",
      "\n",
      "    collapse\n",
      "\n",
      "\n",
      "This is mgcv 1.8-38. For overview type 'help(\"mgcv-package\")'.\n",
      "\n",
      "\n",
      "Attaching package: 'mgcv'\n",
      "\n",
      "\n",
      "The following object is masked from 'package:nnet':\n",
      "\n",
      "    multinom\n",
      "\n",
      "\n",
      "\n",
      "Attaching package: 'xgboost'\n",
      "\n",
      "\n",
      "The following object is masked from 'package:dplyr':\n",
      "\n",
      "    slice\n",
      "\n",
      "\n",
      "Type 'citation(\"pROC\")' for a citation.\n",
      "\n",
      "\n",
      "Attaching package: 'pROC'\n",
      "\n",
      "\n",
      "The following objects are masked from 'package:stats':\n",
      "\n",
      "    cov, smooth, var\n",
      "\n",
      "\n"
     ]
    },
    {
     "data": {
      "text/html": [
       "'R version 4.0.5 (2021-03-31)'"
      ],
      "text/latex": [
       "'R version 4.0.5 (2021-03-31)'"
      ],
      "text/markdown": [
       "'R version 4.0.5 (2021-03-31)'"
      ],
      "text/plain": [
       "[1] \"R version 4.0.5 (2021-03-31)\""
      ]
     },
     "metadata": {},
     "output_type": "display_data"
    }
   ],
   "source": [
    "# Set environment params\n",
    "Sys.setenv(LANG='en')  # English\n",
    "\n",
    "# Import libraries\n",
    "# Data Manipulation\n",
    "library(data.table)    # Data manipulate\n",
    "library(dummies)       # Data processing\n",
    "library(tidyverse)     # Data Manipulation\n",
    "library(dplyr)         # Data Manipulation\n",
    "\n",
    "# Visualizatin\n",
    "library(ggplot2)       # Visualization\n",
    "library(gridExtra)     # Visualization\n",
    "library(plotrix)       # Draw circle\n",
    "\n",
    "\n",
    "# Feature Selection\n",
    "library(leaps)\n",
    "\n",
    "# Machin Learnin Models\n",
    "library(mlr)           # ML toolkit\n",
    "library(caret)         # ML toolkit\n",
    "library(rgl)           # 3D plots\n",
    "library(e1071)         # Evaluation\n",
    "library(kknn)          # kNN model\n",
    "library(nnet)          # One-vs-All Logistic Regression\n",
    "library(tree)          # CART model\n",
    "library(randomForest)  # Bagging and RF\n",
    "library(gbm)           # Boosting tree\n",
    "library(glmnet)        # Rgid and Lasso Regression Models\n",
    "library(pls)\n",
    "library(mgcv)          # GAM\n",
    "library(sp)\n",
    "library(xgboost)\n",
    "library(class)\n",
    "\n",
    "# Evaluation\n",
    "library(pROC)          # AUC, ROC\n",
    "\n",
    "# Resize plot\n",
    "library(repr)  # String and binary representations\n",
    "# options(repr.plot.width=4, repr.plot.height=4)\n",
    "#References\n",
    "#https://book.huihoo.com/introduction-to-statistical-learning/code.html\n",
    "#https://www.statlearning.com/resources-second-edition\n",
    "R.version.string"
   ]
  },
  {
   "cell_type": "markdown",
   "id": "63d9bf6d",
   "metadata": {},
   "source": [
    "### 2. Loading The Data"
   ]
  },
  {
   "cell_type": "code",
   "execution_count": 2,
   "id": "990c0e9a",
   "metadata": {},
   "outputs": [
    {
     "name": "stdout",
     "output_type": "stream",
     "text": [
      "'data.frame':\t20000 obs. of  24 variables:\n",
      " $ LIMIT_BAL                 : int  70000 390000 60000 140000 50000 20000 50000 250000 320000 300000 ...\n",
      " $ SEX                       : int  1 2 1 2 1 1 1 1 2 1 ...\n",
      " $ EDUCATION                 : int  3 2 1 2 1 2 3 2 2 1 ...\n",
      " $ MARRIAGE                  : int  2 2 2 1 2 2 2 2 2 1 ...\n",
      " $ AGE                       : int  34 26 27 55 29 37 44 30 36 35 ...\n",
      " $ PAY_0                     : int  0 2 0 0 2 0 0 0 -2 0 ...\n",
      " $ PAY_2                     : int  0 2 0 0 2 0 0 0 -2 0 ...\n",
      " $ PAY_3                     : int  0 2 0 0 2 0 0 0 -2 0 ...\n",
      " $ PAY_4                     : int  0 0 0 0 0 0 2 -1 -2 0 ...\n",
      " $ PAY_5                     : int  0 0 0 0 0 0 0 2 -2 0 ...\n",
      " $ PAY_6                     : int  0 0 2 0 -2 0 0 -1 -2 0 ...\n",
      " $ BILL_AMT1                 : int  53972 185111 21387 108038 7881 20009 NA 5724 29862 91282 ...\n",
      " $ BILL_AMT2                 : int  23149 172865 22416 110216 10415 20602 50525 6729 33785 45885 ...\n",
      " $ BILL_AMT3                 : int  23968 153795 23444 84516 3997 21255 51463 4973 4900 35329 ...\n",
      " $ BILL_AMT4                 : int  25559 140387 26038 72391 1047 19105 49952 9693 15813 29368 ...\n",
      " $ BILL_AMT5                 : int  26134 128112 28607 61298 0 19609 19584 799 0 18833 ...\n",
      " $ BILL_AMT6                 : int  26715 115514 27997 62193 0 19283 19080 4295 0 93329 ...\n",
      " $ PAY_AMT1                  : int  1700 5000 1378 4200 3000 1700 1762 2000 5000 3260 ...\n",
      " $ PAY_AMT2                  : int  1500 3000 1406 2822 0 1600 4800 2305 4905 2240 ...\n",
      " $ PAY_AMT3                  : int  2000 5000 3000 2336 1000 1200 0 4720 15873 1505 ...\n",
      " $ PAY_AMT4                  : int  1000 4548 3000 2588 0 1000 837 0 0 1250 ...\n",
      " $ PAY_AMT5                  : int  1000 4100 0 2250 0 900 700 4305 0 80934 ...\n",
      " $ PAY_AMT6                  : int  2000 3300 923 2491 0 1000 1000 0 21657 2700 ...\n",
      " $ default.payment.next.month: int  0 0 1 0 1 0 0 0 1 0 ...\n"
     ]
    }
   ],
   "source": [
    "# Input data\n",
    "# cust_id                          : Custometr ID\n",
    "# LIMIT_BAL                        : Limit of the Balance (float)\n",
    "# SEX                              : Gender (binary)\n",
    "# EDUCATION                        : Education level (Categorical)\n",
    "# MARRIAGE                         : Status (binary)\n",
    "# AGE                              : Age (integer)\n",
    "# PAY_0                            : Payment of month 0 (integer)\n",
    "# PAY_2                            : Payment of month 2 (integer)\n",
    "# PAY_3                            : Payment of month 3 (integer)\n",
    "# PAY_4                            : Payment of month 4 (integer)\n",
    "# PAY_5                            : Payment of month 5 (integer)\n",
    "# PAY_6                            : Payment of month 6 (integer)\n",
    "# BILL_AMT1                        : Bill Amount of month 1 (integer)\n",
    "# BILL_AMT2                        : Bill Amount of month 2 (integer)\n",
    "# BILL_AMT3                        : Bill Amount of month 3 (integer)\n",
    "# BILL_AMT4                        : Bill Amount of month 4 (integer)\n",
    "# BILL_AMT5                        : Bill Amount of month 5 (integer)\n",
    "# BILL_AMT6                        : Bill Amount of month 6 (integer)\n",
    "# PAY_AMT1                         : ATM withdrawal Month 1 (integer)\n",
    "# PAY_AMT2                         : ATM withdrawal Month 2 (integer)\n",
    "# PAY_AMT3                         : ATM withdrawal Month 3 (integer)\n",
    "# PAY_AMT4                         : ATM withdrawal Month 4 (integer)\n",
    "# PAY_AMT5                         : ATM withdrawal Month 5 (integer)\n",
    "# PAY_AMT6                         : ATM withdrawal Month 6 (integer)\n",
    "# default.payment.next.month       : if the payment is default or no for next month (binary)\n",
    "# reading the table\n",
    "credit <- read.csv('./Data/credit_default_train.csv', row.names=1)\n",
    "#straucture  of the data\n",
    "str(credit)"
   ]
  },
  {
   "cell_type": "markdown",
   "id": "989db1c3",
   "metadata": {},
   "source": [
    "### 3. Preprocessing dealing with NAs"
   ]
  },
  {
   "cell_type": "code",
   "execution_count": 3,
   "id": "3441e714",
   "metadata": {},
   "outputs": [
    {
     "name": "stdout",
     "output_type": "stream",
     "text": [
      "[1] \"number of null values in LIMIT BALANC Column is equal to: 202\"\n",
      "[1] \"number of null values in Gender Column is equal to: 161\"\n",
      "[1] \"number of null values in EDUCATION Column is equal to: 199\"\n",
      "[1] \"number of null values in MARRIAGE Column is equal to: 170\"\n",
      "[1] \"number of null values in AGE Column is equal to: 214\"\n",
      "[1] \"number of null values in PAY_0 Column is equal to: 195\"\n",
      "[1] \"number of null values in PAY_2 Column is equal to: 219\"\n",
      "[1] \"number of null values in PAY_3 Column is equal to: 217\"\n",
      "[1] \"number of null values in PAY_4 Column is equal to: 199\"\n",
      "[1] \"number of null values in PAY_5 Column is equal to: 185\"\n",
      "[1] \"number of null values in PAY_5 Column is equal to: 203\"\n",
      "[1] \"number of null values in LIMIT BILL_AMT1 is equal to: 185\"\n",
      "[1] \"number of null values in LIMIT BILL_AMT2 is equal to: 209\"\n",
      "[1] \"number of null values in LIMIT BILL_AMT3 is equal to: 175\"\n",
      "[1] \"number of null values in LIMIT BILL_AMT4 is equal to: 165\"\n",
      "[1] \"number of null values in LIMIT BILL_AMT5 is equal to: 181\"\n",
      "[1] \"number of null values in LIMIT BILL_AMT6 is equal to: 197\"\n",
      "[1] \"number of null values in LIMIT PAY_AMT1 is equal to: 204\"\n",
      "[1] \"number of null values in LIMIT PAY_AMT2 is equal to: 184\"\n",
      "[1] \"number of null values in LIMIT PAY_AMT3 is equal to: 212\"\n",
      "[1] \"number of null values in LIMIT PAY_AMT4 is equal to: 197\"\n",
      "[1] \"number of null values in LIMIT PAY_AMT5 is equal to: 179\"\n",
      "[1] \"number of null values in LIMIT PAY_AMT6 is equal to: 196\"\n",
      "[1] \"number of null values in default.payment.next.month Column is equal to: 0\"\n"
     ]
    }
   ],
   "source": [
    "print(paste('number of null values in LIMIT BALANC Column is equal to:',sum(is.na(credit$LIMIT_BAL))))\n",
    "print(paste('number of null values in Gender Column is equal to:',sum(is.na(credit$SEX))))\n",
    "print(paste('number of null values in EDUCATION Column is equal to:',sum(is.na(credit$ EDUCATION))))\n",
    "print(paste('number of null values in MARRIAGE Column is equal to:',sum(is.na(credit$MARRIAGE))))\n",
    "print(paste('number of null values in AGE Column is equal to:',sum(is.na(credit$AGE))))\n",
    "print(paste('number of null values in PAY_0 Column is equal to:',sum(is.na(credit$PAY_0))))\n",
    "print(paste('number of null values in PAY_2 Column is equal to:',sum(is.na(credit$PAY_2))))\n",
    "print(paste('number of null values in PAY_3 Column is equal to:',sum(is.na(credit$PAY_3))))\n",
    "print(paste('number of null values in PAY_4 Column is equal to:',sum(is.na(credit$PAY_4))))\n",
    "print(paste('number of null values in PAY_5 Column is equal to:',sum(is.na(credit$PAY_5))))\n",
    "print(paste('number of null values in PAY_5 Column is equal to:',sum(is.na(credit$PAY_6))))\n",
    "print(paste('number of null values in LIMIT BILL_AMT1 is equal to:',sum(is.na(credit$BILL_AMT1))))\n",
    "print(paste('number of null values in LIMIT BILL_AMT2 is equal to:',sum(is.na(credit$BILL_AMT2))))\n",
    "print(paste('number of null values in LIMIT BILL_AMT3 is equal to:',sum(is.na(credit$BILL_AMT3))))\n",
    "print(paste('number of null values in LIMIT BILL_AMT4 is equal to:',sum(is.na(credit$BILL_AMT4))))\n",
    "print(paste('number of null values in LIMIT BILL_AMT5 is equal to:',sum(is.na(credit$BILL_AMT5))))\n",
    "print(paste('number of null values in LIMIT BILL_AMT6 is equal to:',sum(is.na(credit$BILL_AMT6))))\n",
    "print(paste('number of null values in LIMIT PAY_AMT1 is equal to:',sum(is.na(credit$PAY_AMT1))))\n",
    "print(paste('number of null values in LIMIT PAY_AMT2 is equal to:',sum(is.na(credit$PAY_AMT2))))\n",
    "print(paste('number of null values in LIMIT PAY_AMT3 is equal to:',sum(is.na(credit$PAY_AMT3))))\n",
    "print(paste('number of null values in LIMIT PAY_AMT4 is equal to:',sum(is.na(credit$PAY_AMT4))))\n",
    "print(paste('number of null values in LIMIT PAY_AMT5 is equal to:',sum(is.na(credit$PAY_AMT5))))\n",
    "print(paste('number of null values in LIMIT PAY_AMT6 is equal to:',sum(is.na(credit$PAY_AMT6))))\n",
    "print(paste('number of null values in default.payment.next.month Column is equal to:',sum(is.na(credit$default.payment.next.month))))"
   ]
  },
  {
   "cell_type": "code",
   "execution_count": 4,
   "id": "6b0538b7",
   "metadata": {},
   "outputs": [
    {
     "data": {
      "text/html": [
       "4"
      ],
      "text/latex": [
       "4"
      ],
      "text/markdown": [
       "4"
      ],
      "text/plain": [
       "[1] 4"
      ]
     },
     "metadata": {},
     "output_type": "display_data"
    }
   ],
   "source": [
    "#the maximum number of NA in one row\n",
    "sum(is.na(credit[which.max(rowSums(is.na(credit))),]))"
   ]
  },
  {
   "cell_type": "code",
   "execution_count": 5,
   "id": "4c6305ea",
   "metadata": {},
   "outputs": [],
   "source": [
    "#Dealing With NAs\n",
    "# here I use dplyr and fill NAs by most probable value of each comuln that can be median, average or the most popular\n",
    "# fill NAs of all columns with Median except categorical and binary columns\n",
    "# LIMIT_BAL\n",
    "credit[is.na(credit$LIMIT_BAL),]$LIMIT_BAL<-median(credit$LIMIT_BAL, na.rm = TRUE)\n",
    "# AGE\n",
    "credit[is.na(credit$AGE),]$AGE<-median(credit$AGE, na.rm = TRUE)\n",
    "# BILL_AMT1\n",
    "credit[is.na(credit$BILL_AMT1),]$BILL_AMT1<-median(credit$BILL_AMT1, na.rm = TRUE)\n",
    "# BILL_AMT2\n",
    "credit[is.na(credit$BILL_AMT2),]$BILL_AMT2<-median(credit$BILL_AMT2, na.rm = TRUE)\n",
    "# BILL_AMT3\n",
    "credit[is.na(credit$BILL_AMT3),]$BILL_AMT3<-median(credit$BILL_AMT3, na.rm = TRUE)\n",
    "# BILL_AMT4\n",
    "credit[is.na(credit$BILL_AMT4),]$BILL_AMT4<-median(credit$BILL_AMT4, na.rm = TRUE)\n",
    "# BILL_AMT5\n",
    "credit[is.na(credit$BILL_AMT5),]$BILL_AMT5<-median(credit$BILL_AMT5, na.rm = TRUE)\n",
    "# BILL_AMT6\n",
    "credit[is.na(credit$BILL_AMT6),]$BILL_AMT6<-median(credit$BILL_AMT6, na.rm = TRUE)\n",
    "# PAY_AMT1\n",
    "credit[is.na(credit$PAY_AMT1),]$PAY_AMT1<-median(credit$PAY_AMT1, na.rm = TRUE)\n",
    "# PAY_AMT2\n",
    "credit[is.na(credit$PAY_AMT2),]$PAY_AMT2<-median(credit$PAY_AMT2, na.rm = TRUE)\n",
    "# PAY_AMT3\n",
    "credit[is.na(credit$PAY_AMT3),]$PAY_AMT3<-median(credit$PAY_AMT3, na.rm = TRUE)\n",
    "# PAY_AMT4\n",
    "credit[is.na(credit$PAY_AMT4),]$PAY_AMT4<-median(credit$PAY_AMT4, na.rm = TRUE)\n",
    "# PAY_AMT5\n",
    "credit[is.na(credit$PAY_AMT5),]$PAY_AMT5<-median(credit$PAY_AMT5, na.rm = TRUE)\n",
    "# PAY_AMT6\n",
    "credit[is.na(credit$PAY_AMT6),]$PAY_AMT6<-median(credit$PAY_AMT6, na.rm = TRUE)"
   ]
  },
  {
   "cell_type": "code",
   "execution_count": 6,
   "id": "76c3b11c",
   "metadata": {},
   "outputs": [],
   "source": [
    "# Create the function.\n",
    "#https://www.tutorialspoint.com/r/r_mean_median_mode.htm\n",
    "getmode <- function(v) {\n",
    "   uniqv <- unique(v)\n",
    "   uniqv[which.max(tabulate(match(v, uniqv)))]\n",
    "}"
   ]
  },
  {
   "cell_type": "code",
   "execution_count": 7,
   "id": "f9acc2c2",
   "metadata": {},
   "outputs": [],
   "source": [
    "#fill NA of categoricals with Mod\n",
    "# PAY_0\n",
    "credit[is.na(credit$PAY_0),]$PAY_0<-getmode(credit$PAY_0)\n",
    "# PAY_2\n",
    "credit[is.na(credit$PAY_2),]$PAY_2<-getmode(credit$PAY_2)\n",
    "# PAY_3\n",
    "credit[is.na(credit$PAY_3),]$PAY_3<-getmode(credit$PAY_3)\n",
    "# PAY_4\n",
    "credit[is.na(credit$PAY_4),]$PAY_4<-getmode(credit$PAY_4)\n",
    "# PAY_5\n",
    "credit[is.na(credit$PAY_5),]$PAY_5<-getmode(credit$PAY_5)\n",
    "# PAY_6\n",
    "credit[is.na(credit$PAY_6),]$PAY_6<-getmode(credit$PAY_6)\n",
    "# SEX\n",
    "credit[is.na(credit$SEX),]$SEX<-getmode(credit$SEX)\n",
    "# EDUCATION\n",
    "credit[is.na(credit$EDUCATION),]$EDUCATION<-getmode(credit$EDUCATION)\n",
    "# PAY_6\n",
    "credit[is.na(credit$MARRIAGE),]$MARRIAGE<-getmode(credit$MARRIAGE)"
   ]
  },
  {
   "cell_type": "code",
   "execution_count": 8,
   "id": "c10357d2",
   "metadata": {},
   "outputs": [
    {
     "name": "stderr",
     "output_type": "stream",
     "text": [
      "Warning message in model.matrix.default(~x - 1, model.frame(~x - 1), contrasts = FALSE):\n",
      "\"non-list contrasts argument ignored\"\n",
      "Warning message in model.matrix.default(~x - 1, model.frame(~x - 1), contrasts = FALSE):\n",
      "\"non-list contrasts argument ignored\"\n",
      "Warning message in model.matrix.default(~x - 1, model.frame(~x - 1), contrasts = FALSE):\n",
      "\"non-list contrasts argument ignored\"\n",
      "Warning message in model.matrix.default(~x - 1, model.frame(~x - 1), contrasts = FALSE):\n",
      "\"non-list contrasts argument ignored\"\n",
      "Warning message in model.matrix.default(~x - 1, model.frame(~x - 1), contrasts = FALSE):\n",
      "\"non-list contrasts argument ignored\"\n",
      "Warning message in model.matrix.default(~x - 1, model.frame(~x - 1), contrasts = FALSE):\n",
      "\"non-list contrasts argument ignored\"\n",
      "Warning message in model.matrix.default(~x - 1, model.frame(~x - 1), contrasts = FALSE):\n",
      "\"non-list contrasts argument ignored\"\n",
      "Warning message in model.matrix.default(~x - 1, model.frame(~x - 1), contrasts = FALSE):\n",
      "\"non-list contrasts argument ignored\"\n"
     ]
    }
   ],
   "source": [
    "cat_list<-c('EDUCATION','MARRIAGE','PAY_0','PAY_2','PAY_3','PAY_4','PAY_5','PAY_6')\n",
    "\n",
    "# Convert categorical variables to dummy variables\n",
    "dummy_list <- list()\n",
    "for (v in cat_list) {\n",
    "    # Create dummy variables\n",
    "    tmp <- dummy(v, data=credit, sep=\"_\", drop=TRUE)\n",
    "    # Drop the 1st column\n",
    "    tmp <- tmp[, 2:ncol(tmp), drop=FALSE]\n",
    "    # Store the results\n",
    "    dummy_list[[length(dummy_list)+1]] <- tmp\n",
    "}\n",
    "\n",
    "# Combine the dummy variables\n",
    "dummy_df <- do.call(cbind, dummy_list)\n",
    "# Add the dummy variables to the data frame\n",
    "credit <- cbind(credit, dummy_df)\n",
    "\n",
    "# Drop the original variable\n",
    "credit <- credit[, !(names(credit) %in% cat_list)]"
   ]
  },
  {
   "cell_type": "code",
   "execution_count": 9,
   "id": "a2a00365",
   "metadata": {},
   "outputs": [],
   "source": [
    "# renaming the Column of Target Variable\n",
    "credit<-credit%>%rename(default=default.payment.next.month)\n",
    "#Saving the Base Table\n",
    "fwrite(credit,'./Data/BaseTable.csv')"
   ]
  },
  {
   "cell_type": "markdown",
   "id": "dea938e9",
   "metadata": {},
   "source": [
    "### 4. Data Exploration"
   ]
  },
  {
   "cell_type": "code",
   "execution_count": 10,
   "id": "904ecdd3",
   "metadata": {},
   "outputs": [
    {
     "name": "stdout",
     "output_type": "stream",
     "text": [
      "'data.frame':\t20000 obs. of  83 variables:\n",
      " $ LIMIT_BAL  : num  70000 390000 60000 140000 50000 20000 50000 250000 320000 300000 ...\n",
      " $ SEX        : int  1 2 1 2 1 1 1 1 2 1 ...\n",
      " $ AGE        : int  34 26 27 55 29 37 44 30 36 35 ...\n",
      " $ BILL_AMT1  : int  53972 185111 21387 108038 7881 20009 22221 5724 29862 91282 ...\n",
      " $ BILL_AMT2  : int  23149 172865 22416 110216 10415 20602 50525 6729 33785 45885 ...\n",
      " $ BILL_AMT3  : int  23968 153795 23444 84516 3997 21255 51463 4973 4900 35329 ...\n",
      " $ BILL_AMT4  : int  25559 140387 26038 72391 1047 19105 49952 9693 15813 29368 ...\n",
      " $ BILL_AMT5  : int  26134 128112 28607 61298 0 19609 19584 799 0 18833 ...\n",
      " $ BILL_AMT6  : int  26715 115514 27997 62193 0 19283 19080 4295 0 93329 ...\n",
      " $ PAY_AMT1   : num  1700 5000 1378 4200 3000 ...\n",
      " $ PAY_AMT2   : num  1500 3000 1406 2822 0 ...\n",
      " $ PAY_AMT3   : num  2000 5000 3000 2336 1000 ...\n",
      " $ PAY_AMT4   : int  1000 4548 3000 2588 0 1000 837 0 0 1250 ...\n",
      " $ PAY_AMT5   : int  1000 4100 0 2250 0 900 700 4305 0 80934 ...\n",
      " $ PAY_AMT6   : num  2000 3300 923 2491 0 ...\n",
      " $ default    : int  0 0 1 0 1 0 0 0 1 0 ...\n",
      " $ EDUCATION_1: int  0 0 1 0 1 0 0 0 0 1 ...\n",
      " $ EDUCATION_2: int  0 1 0 1 0 1 0 1 1 0 ...\n",
      " $ EDUCATION_3: int  1 0 0 0 0 0 1 0 0 0 ...\n",
      " $ EDUCATION_4: int  0 0 0 0 0 0 0 0 0 0 ...\n",
      " $ EDUCATION_5: int  0 0 0 0 0 0 0 0 0 0 ...\n",
      " $ EDUCATION_6: int  0 0 0 0 0 0 0 0 0 0 ...\n",
      " $ MARRIAGE_1 : int  0 0 0 1 0 0 0 0 0 1 ...\n",
      " $ MARRIAGE_2 : int  1 1 1 0 1 1 1 1 1 0 ...\n",
      " $ MARRIAGE_3 : int  0 0 0 0 0 0 0 0 0 0 ...\n",
      " $ PAY_0_.1   : int  0 0 0 0 0 0 0 0 0 0 ...\n",
      " $ PAY_0_0    : int  1 0 1 1 0 1 1 1 0 1 ...\n",
      " $ PAY_0_1    : int  0 0 0 0 0 0 0 0 0 0 ...\n",
      " $ PAY_0_2    : int  0 1 0 0 1 0 0 0 0 0 ...\n",
      " $ PAY_0_3    : int  0 0 0 0 0 0 0 0 0 0 ...\n",
      " $ PAY_0_4    : int  0 0 0 0 0 0 0 0 0 0 ...\n",
      " $ PAY_0_5    : int  0 0 0 0 0 0 0 0 0 0 ...\n",
      " $ PAY_0_6    : int  0 0 0 0 0 0 0 0 0 0 ...\n",
      " $ PAY_0_7    : int  0 0 0 0 0 0 0 0 0 0 ...\n",
      " $ PAY_0_8    : int  0 0 0 0 0 0 0 0 0 0 ...\n",
      " $ PAY_2_.1   : int  0 0 0 0 0 0 0 0 0 0 ...\n",
      " $ PAY_2_0    : int  1 0 1 1 0 1 1 1 0 1 ...\n",
      " $ PAY_2_1    : int  0 0 0 0 0 0 0 0 0 0 ...\n",
      " $ PAY_2_2    : int  0 1 0 0 1 0 0 0 0 0 ...\n",
      " $ PAY_2_3    : int  0 0 0 0 0 0 0 0 0 0 ...\n",
      " $ PAY_2_4    : int  0 0 0 0 0 0 0 0 0 0 ...\n",
      " $ PAY_2_5    : int  0 0 0 0 0 0 0 0 0 0 ...\n",
      " $ PAY_2_6    : int  0 0 0 0 0 0 0 0 0 0 ...\n",
      " $ PAY_2_7    : int  0 0 0 0 0 0 0 0 0 0 ...\n",
      " $ PAY_2_8    : int  0 0 0 0 0 0 0 0 0 0 ...\n",
      " $ PAY_3_.1   : int  0 0 0 0 0 0 0 0 0 0 ...\n",
      " $ PAY_3_0    : int  1 0 1 1 0 1 1 1 0 1 ...\n",
      " $ PAY_3_1    : int  0 0 0 0 0 0 0 0 0 0 ...\n",
      " $ PAY_3_2    : int  0 1 0 0 1 0 0 0 0 0 ...\n",
      " $ PAY_3_3    : int  0 0 0 0 0 0 0 0 0 0 ...\n",
      " $ PAY_3_4    : int  0 0 0 0 0 0 0 0 0 0 ...\n",
      " $ PAY_3_5    : int  0 0 0 0 0 0 0 0 0 0 ...\n",
      " $ PAY_3_6    : int  0 0 0 0 0 0 0 0 0 0 ...\n",
      " $ PAY_3_7    : int  0 0 0 0 0 0 0 0 0 0 ...\n",
      " $ PAY_3_8    : int  0 0 0 0 0 0 0 0 0 0 ...\n",
      " $ PAY_4_.1   : int  0 0 0 0 0 0 0 1 0 0 ...\n",
      " $ PAY_4_0    : int  1 1 1 1 1 1 0 0 0 1 ...\n",
      " $ PAY_4_1    : int  0 0 0 0 0 0 0 0 0 0 ...\n",
      " $ PAY_4_2    : int  0 0 0 0 0 0 1 0 0 0 ...\n",
      " $ PAY_4_3    : int  0 0 0 0 0 0 0 0 0 0 ...\n",
      " $ PAY_4_4    : int  0 0 0 0 0 0 0 0 0 0 ...\n",
      " $ PAY_4_5    : int  0 0 0 0 0 0 0 0 0 0 ...\n",
      " $ PAY_4_6    : int  0 0 0 0 0 0 0 0 0 0 ...\n",
      " $ PAY_4_7    : int  0 0 0 0 0 0 0 0 0 0 ...\n",
      " $ PAY_4_8    : int  0 0 0 0 0 0 0 0 0 0 ...\n",
      " $ PAY_5_.1   : int  0 0 0 0 0 0 0 0 0 0 ...\n",
      " $ PAY_5_0    : int  1 1 1 1 1 1 1 0 0 1 ...\n",
      " $ PAY_5_2    : int  0 0 0 0 0 0 0 1 0 0 ...\n",
      " $ PAY_5_3    : int  0 0 0 0 0 0 0 0 0 0 ...\n",
      " $ PAY_5_4    : int  0 0 0 0 0 0 0 0 0 0 ...\n",
      " $ PAY_5_5    : int  0 0 0 0 0 0 0 0 0 0 ...\n",
      " $ PAY_5_6    : int  0 0 0 0 0 0 0 0 0 0 ...\n",
      " $ PAY_5_7    : int  0 0 0 0 0 0 0 0 0 0 ...\n",
      " $ PAY_5_8    : int  0 0 0 0 0 0 0 0 0 0 ...\n",
      " $ PAY_6_.1   : int  0 0 0 0 0 0 0 1 0 0 ...\n",
      " $ PAY_6_0    : int  1 1 0 1 0 1 1 0 0 1 ...\n",
      " $ PAY_6_2    : int  0 0 1 0 0 0 0 0 0 0 ...\n",
      " $ PAY_6_3    : int  0 0 0 0 0 0 0 0 0 0 ...\n",
      " $ PAY_6_4    : int  0 0 0 0 0 0 0 0 0 0 ...\n",
      " $ PAY_6_5    : int  0 0 0 0 0 0 0 0 0 0 ...\n",
      " $ PAY_6_6    : int  0 0 0 0 0 0 0 0 0 0 ...\n",
      " $ PAY_6_7    : int  0 0 0 0 0 0 0 0 0 0 ...\n",
      " $ PAY_6_8    : int  0 0 0 0 0 0 0 0 0 0 ...\n"
     ]
    }
   ],
   "source": [
    "# reading the table\n",
    "DF <- read.csv('./Data/BaseTable.csv')\n",
    "#straucture  of the data\n",
    "str(DF)"
   ]
  },
  {
   "cell_type": "code",
   "execution_count": 11,
   "id": "a1cf52c8",
   "metadata": {},
   "outputs": [
    {
     "data": {
      "text/html": [
       "0"
      ],
      "text/latex": [
       "0"
      ],
      "text/markdown": [
       "0"
      ],
      "text/plain": [
       "[1] 0"
      ]
     },
     "metadata": {},
     "output_type": "display_data"
    }
   ],
   "source": [
    "sum(is.na(DF))"
   ]
  },
  {
   "cell_type": "code",
   "execution_count": 127,
   "id": "20a8a2fe",
   "metadata": {},
   "outputs": [
    {
     "data": {
      "text/plain": [
       "NULL"
      ]
     },
     "metadata": {},
     "output_type": "display_data"
    },
    {
     "data": {
      "image/png": "[encoded data removed]",
      "text/plain": [
       "plot without title"
      ]
     },
     "metadata": {
      "image/png": {
       "height": 600,
       "width": 600
      }
     },
     "output_type": "display_data"
    }
   ],
   "source": [
    "# Pair plot Default VS Bill\n",
    "options(repr.plot.width=10, repr.plot.height=10)\n",
    "cols <- rep('blue', nrow(DF))  # no default\n",
    "cols[DF$default == 0] <- 'red'  # Default\n",
    "D.VS.Bill<-pairs(default ~ BILL_AMT1 + BILL_AMT2 +\n",
    "                 BILL_AMT3 + BILL_AMT4 + BILL_AMT5 + BILL_AMT6 , data=DF, col=cols)\n",
    "D.VS.Bill"
   ]
  },
  {
   "cell_type": "code",
   "execution_count": 128,
   "id": "b5fa4093",
   "metadata": {},
   "outputs": [
    {
     "data": {
      "text/plain": [
       "NULL"
      ]
     },
     "metadata": {},
     "output_type": "display_data"
    },
    {
     "data": {
      "image/png": "[encoded data removed]",
      "text/plain": [
       "plot without title"
      ]
     },
     "metadata": {
      "image/png": {
       "height": 600,
       "width": 600
      }
     },
     "output_type": "display_data"
    }
   ],
   "source": [
    "# Pair plot Default VS PAY_AMT\n",
    "options(repr.plot.width=10, repr.plot.height=10)\n",
    "cols <- rep('blue', nrow(DF))  # no default\n",
    "cols[DF$default == 0] <- 'red'  # Default\n",
    "D.VS.PAY_AMT<-pairs(default ~ PAY_AMT1 + PAY_AMT2 +\n",
    "                 PAY_AMT3 + PAY_AMT4 + PAY_AMT5 + PAY_AMT6 , data=DF, col=cols)\n",
    "D.VS.PAY_AMT"
   ]
  },
  {
   "cell_type": "code",
   "execution_count": 129,
   "id": "be1b0d71",
   "metadata": {},
   "outputs": [
    {
     "data": {
      "text/plain": [
       "NULL"
      ]
     },
     "metadata": {},
     "output_type": "display_data"
    },
    {
     "data": {
      "image/png": "[encoded data removed]",
      "text/plain": [
       "plot without title"
      ]
     },
     "metadata": {
      "image/png": {
       "height": 600,
       "width": 600
      }
     },
     "output_type": "display_data"
    }
   ],
   "source": [
    "# Pair plot Default VS all rest\n",
    "options(repr.plot.width=10, repr.plot.height=10)\n",
    "cols <- rep('blue', nrow(DF))  # no default\n",
    "cols[DF$default == 0] <- 'red'  # Default\n",
    "D.VS.R<-pairs(default ~ LIMIT_BAL + SEX + \n",
    "                 EDUCATION_1 + EDUCATION_2+EDUCATION_3+EDUCATION_4+EDUCATION_5+EDUCATION_6+\n",
    "              MARRIAGE_1 + MARRIAGE_2+ MARRIAGE_3 + AGE  , data=DF, col=cols)\n",
    "D.VS.R"
   ]
  },
  {
   "cell_type": "code",
   "execution_count": 31,
   "id": "d6ac0210",
   "metadata": {},
   "outputs": [
    {
     "data": {
      "image/png": "[encoded data removed]",
      "text/plain": [
       "plot without title"
      ]
     },
     "metadata": {
      "image/png": {
       "height": 480,
       "width": 720
      }
     },
     "output_type": "display_data"
    }
   ],
   "source": [
    "# Relationship between balance and default\n",
    "options(repr.plot.width=12, repr.plot.height=8)\n",
    "cols <- rep('blue', nrow(DF))  # Not default\n",
    "cols[DF$default == 1] <- 'red'  # Default\n",
    "\n",
    "par(mfrow=c(1, 2))\n",
    "\n",
    "plot(x=DF$LIMIT_BAL, y=DF$default,  # Plot the data\n",
    "     xlab='Balance', ylab='Default',\n",
    "     pch='|', cex=0.5, col=cols)\n",
    "\n",
    "boxplot(LIMIT_BAL ~ default, data=DF,\n",
    "        col=c('blue', 'red'),\n",
    "        xlab='Default', ylab='Balance')"
   ]
  },
  {
   "cell_type": "code",
   "execution_count": 38,
   "id": "82d43171",
   "metadata": {},
   "outputs": [
    {
     "data": {
      "image/png": "[encoded data removed]",
      "text/plain": [
       "plot without title"
      ]
     },
     "metadata": {
      "image/png": {
       "height": 480,
       "width": 720
      }
     },
     "output_type": "display_data"
    }
   ],
   "source": [
    "# Relationship between balance and default\n",
    "options(repr.plot.width=12, repr.plot.height=8)\n",
    "cols <- rep('blue', nrow(DF))  # Not default\n",
    "cols[DF$default == 1] <- 'red'  # Default\n",
    "\n",
    "par(mfrow=c(1, 2))\n",
    "\n",
    "plot(x=DF$BILL_AMT1, y=DF$default,  # Plot the data\n",
    "     xlab='Balance', ylab='Default',\n",
    "     pch='|', cex=0.5, col=cols)\n",
    "\n",
    "boxplot(BILL_AMT1 ~ default, data=DF,\n",
    "        col=c('blue', 'red'),\n",
    "        xlab='Default', ylab='Balance')"
   ]
  },
  {
   "cell_type": "code",
   "execution_count": 37,
   "id": "f3bf49fd",
   "metadata": {},
   "outputs": [
    {
     "data": {
      "image/png": "[encoded data removed]",
      "text/plain": [
       "plot without title"
      ]
     },
     "metadata": {
      "image/png": {
       "height": 480,
       "width": 720
      }
     },
     "output_type": "display_data"
    }
   ],
   "source": [
    "# Relationship between balance and default\n",
    "options(repr.plot.width=12, repr.plot.height=8)\n",
    "cols <- rep('blue', nrow(DF))  # Not default\n",
    "cols[DF$default == 1] <- 'red'  # Default\n",
    "\n",
    "par(mfrow=c(1, 2))\n",
    "\n",
    "plot(x=DF$PAY_AMT1, y=DF$default,  # Plot the data\n",
    "     xlab='Balance', ylab='Default',\n",
    "     pch='|', cex=0.5, col=cols)\n",
    "\n",
    "boxplot(PAY_AMT1 ~ default, data=DF,\n",
    "        col=c('blue', 'red'),\n",
    "        xlab='Default', ylab='Balance')"
   ]
  },
  {
   "cell_type": "code",
   "execution_count": 39,
   "id": "332f8d13",
   "metadata": {},
   "outputs": [],
   "source": [
    "set.seed(613)\n",
    "#seting the row indexes\n",
    "index <- sample(1:nrow(DF), round(0.3 * nrow(DF), 0))\n",
    "#spliting data based on the index\n",
    "train <- DF[index, ]\n",
    "test <- DF[-index, ]\n",
    "#Selecting independent columns\n",
    "selected_columns<-c(names(DF%>%select(-default)))\n"
   ]
  },
  {
   "cell_type": "markdown",
   "id": "59b8e7bb",
   "metadata": {},
   "source": [
    "## Application of Models"
   ]
  },
  {
   "cell_type": "markdown",
   "id": "2be55783",
   "metadata": {},
   "source": [
    "### 1. Feature Selection"
   ]
  },
  {
   "cell_type": "markdown",
   "id": "babe8769",
   "metadata": {},
   "source": [
    "#### 1.1 exhaustive"
   ]
  },
  {
   "cell_type": "code",
   "execution_count": 12,
   "id": "a46c4699",
   "metadata": {},
   "outputs": [
    {
     "name": "stderr",
     "output_type": "stream",
     "text": [
      "Warning message in leaps.setup(x, y, wt = wt, nbest = nbest, nvmax = nvmax, force.in = force.in, :\n",
      "\"2  linear dependencies found\"\n"
     ]
    },
    {
     "name": "stdout",
     "output_type": "stream",
     "text": [
      "Reordering variables and trying again:\n"
     ]
    },
    {
     "name": "stderr",
     "output_type": "stream",
     "text": [
      "Warning message in rval$lopt[] <- rval$vorder[rval$lopt]:\n",
      "\"number of items to replace is not a multiple of replacement length\"\n"
     ]
    }
   ],
   "source": [
    "# applying the forward feature selection to data\n",
    "regfit.fwd=regsubsets(default~.,data=DF,method='forward',nvmax=83)\n",
    "# summary of forward featur selection\n",
    "reg.summary.fwd=summary(regfit.fwd)"
   ]
  },
  {
   "cell_type": "code",
   "execution_count": 13,
   "id": "1713162f",
   "metadata": {},
   "outputs": [
    {
     "data": {
      "text/html": [
       "<style>\n",
       ".list-inline {list-style: none; margin:0; padding: 0}\n",
       ".list-inline>li {display: inline-block}\n",
       ".list-inline>li:not(:last-child)::after {content: \"\\00b7\"; padding: 0 .5ex}\n",
       "</style>\n",
       "<ol class=list-inline><li>'which'</li><li>'rsq'</li><li>'rss'</li><li>'adjr2'</li><li>'cp'</li><li>'bic'</li><li>'outmat'</li><li>'obj'</li></ol>\n"
      ],
      "text/latex": [
       "\\begin{enumerate*}\n",
       "\\item 'which'\n",
       "\\item 'rsq'\n",
       "\\item 'rss'\n",
       "\\item 'adjr2'\n",
       "\\item 'cp'\n",
       "\\item 'bic'\n",
       "\\item 'outmat'\n",
       "\\item 'obj'\n",
       "\\end{enumerate*}\n"
      ],
      "text/markdown": [
       "1. 'which'\n",
       "2. 'rsq'\n",
       "3. 'rss'\n",
       "4. 'adjr2'\n",
       "5. 'cp'\n",
       "6. 'bic'\n",
       "7. 'outmat'\n",
       "8. 'obj'\n",
       "\n",
       "\n"
      ],
      "text/plain": [
       "[1] \"which\"  \"rsq\"    \"rss\"    \"adjr2\"  \"cp\"     \"bic\"    \"outmat\" \"obj\"   "
      ]
     },
     "metadata": {},
     "output_type": "display_data"
    }
   ],
   "source": [
    "# coeficient names for forward feature selection\n",
    "names(reg.summary.fwd)"
   ]
  },
  {
   "cell_type": "code",
   "execution_count": 14,
   "id": "aef1cdec",
   "metadata": {},
   "outputs": [
    {
     "data": {
      "text/html": [
       "<style>\n",
       ".list-inline {list-style: none; margin:0; padding: 0}\n",
       ".list-inline>li {display: inline-block}\n",
       ".list-inline>li:not(:last-child)::after {content: \"\\00b7\"; padding: 0 .5ex}\n",
       "</style>\n",
       "<ol class=list-inline><li>0.118954749313308</li><li>0.148061706575132</li><li>0.15973917348773</li><li>0.169199797872819</li><li>0.177581410598464</li><li>0.181763825319811</li><li>0.186082435825788</li><li>0.188251656372039</li><li>0.189956046558043</li><li>0.191351541645704</li><li>0.192802438919894</li><li>0.193937326611596</li><li>0.194756396280732</li><li>0.196016945051222</li><li>0.196743021020001</li><li>0.197447901893948</li><li>0.198058597690466</li><li>0.198512009149257</li><li>0.19895259742809</li><li>0.199383433445994</li><li>0.19974558736162</li><li>0.200074209467791</li><li>0.200369992777289</li><li>0.200636931314862</li><li>0.200891755102382</li><li>0.201095084842261</li><li>0.20128227920161</li><li>0.201470041880834</li><li>0.201646752808603</li><li>0.201783941352175</li><li>0.201904747786594</li><li>0.202023825437356</li><li>0.202236834698849</li><li>0.202350015757821</li><li>0.202470089830095</li><li>0.202586298422802</li><li>0.202695462603849</li><li>0.202867329182326</li><li>0.202990035552475</li><li>0.203089491145564</li><li>0.20318327446015</li><li>0.203252928751895</li><li>0.203308290958924</li><li>0.203392119665056</li><li>0.203445039417417</li><li>0.203491664418012</li><li>0.203536350022124</li><li>0.203578679783836</li><li>0.203618498267349</li><li>0.203655514059615</li><li>0.203698178489043</li><li>0.203733459229645</li><li>0.203759768363261</li><li>0.203784625151242</li><li>0.204142209249049</li><li>0.204165634988899</li><li>0.204184213395369</li><li>0.204197943936739</li><li>0.204211308754824</li><li>0.204230481131759</li><li>0.204239990778219</li><li>0.204248969069241</li><li>0.204257704447577</li><li>0.204272491096111</li><li>0.2042812582841</li><li>0.204289152637829</li><li>0.204295551047042</li><li>0.204306229955394</li><li>0.204310917368971</li><li>0.204315522573118</li><li>0.204320040151233</li><li>0.204396992558893</li><li>0.204401190333571</li><li>0.204403651291559</li><li>0.204405697890422</li><li>0.204407661119633</li><li>0.204408876791908</li><li>0.204409489502455</li><li>0.204409515478457</li><li>0.204409515710704</li></ol>\n"
      ],
      "text/latex": [
       "\\begin{enumerate*}\n",
       "\\item 0.118954749313308\n",
       "\\item 0.148061706575132\n",
       "\\item 0.15973917348773\n",
       "\\item 0.169199797872819\n",
       "\\item 0.177581410598464\n",
       "\\item 0.181763825319811\n",
       "\\item 0.186082435825788\n",
       "\\item 0.188251656372039\n",
       "\\item 0.189956046558043\n",
       "\\item 0.191351541645704\n",
       "\\item 0.192802438919894\n",
       "\\item 0.193937326611596\n",
       "\\item 0.194756396280732\n",
       "\\item 0.196016945051222\n",
       "\\item 0.196743021020001\n",
       "\\item 0.197447901893948\n",
       "\\item 0.198058597690466\n",
       "\\item 0.198512009149257\n",
       "\\item 0.19895259742809\n",
       "\\item 0.199383433445994\n",
       "\\item 0.19974558736162\n",
       "\\item 0.200074209467791\n",
       "\\item 0.200369992777289\n",
       "\\item 0.200636931314862\n",
       "\\item 0.200891755102382\n",
       "\\item 0.201095084842261\n",
       "\\item 0.20128227920161\n",
       "\\item 0.201470041880834\n",
       "\\item 0.201646752808603\n",
       "\\item 0.201783941352175\n",
       "\\item 0.201904747786594\n",
       "\\item 0.202023825437356\n",
       "\\item 0.202236834698849\n",
       "\\item 0.202350015757821\n",
       "\\item 0.202470089830095\n",
       "\\item 0.202586298422802\n",
       "\\item 0.202695462603849\n",
       "\\item 0.202867329182326\n",
       "\\item 0.202990035552475\n",
       "\\item 0.203089491145564\n",
       "\\item 0.20318327446015\n",
       "\\item 0.203252928751895\n",
       "\\item 0.203308290958924\n",
       "\\item 0.203392119665056\n",
       "\\item 0.203445039417417\n",
       "\\item 0.203491664418012\n",
       "\\item 0.203536350022124\n",
       "\\item 0.203578679783836\n",
       "\\item 0.203618498267349\n",
       "\\item 0.203655514059615\n",
       "\\item 0.203698178489043\n",
       "\\item 0.203733459229645\n",
       "\\item 0.203759768363261\n",
       "\\item 0.203784625151242\n",
       "\\item 0.204142209249049\n",
       "\\item 0.204165634988899\n",
       "\\item 0.204184213395369\n",
       "\\item 0.204197943936739\n",
       "\\item 0.204211308754824\n",
       "\\item 0.204230481131759\n",
       "\\item 0.204239990778219\n",
       "\\item 0.204248969069241\n",
       "\\item 0.204257704447577\n",
       "\\item 0.204272491096111\n",
       "\\item 0.2042812582841\n",
       "\\item 0.204289152637829\n",
       "\\item 0.204295551047042\n",
       "\\item 0.204306229955394\n",
       "\\item 0.204310917368971\n",
       "\\item 0.204315522573118\n",
       "\\item 0.204320040151233\n",
       "\\item 0.204396992558893\n",
       "\\item 0.204401190333571\n",
       "\\item 0.204403651291559\n",
       "\\item 0.204405697890422\n",
       "\\item 0.204407661119633\n",
       "\\item 0.204408876791908\n",
       "\\item 0.204409489502455\n",
       "\\item 0.204409515478457\n",
       "\\item 0.204409515710704\n",
       "\\end{enumerate*}\n"
      ],
      "text/markdown": [
       "1. 0.118954749313308\n",
       "2. 0.148061706575132\n",
       "3. 0.15973917348773\n",
       "4. 0.169199797872819\n",
       "5. 0.177581410598464\n",
       "6. 0.181763825319811\n",
       "7. 0.186082435825788\n",
       "8. 0.188251656372039\n",
       "9. 0.189956046558043\n",
       "10. 0.191351541645704\n",
       "11. 0.192802438919894\n",
       "12. 0.193937326611596\n",
       "13. 0.194756396280732\n",
       "14. 0.196016945051222\n",
       "15. 0.196743021020001\n",
       "16. 0.197447901893948\n",
       "17. 0.198058597690466\n",
       "18. 0.198512009149257\n",
       "19. 0.19895259742809\n",
       "20. 0.199383433445994\n",
       "21. 0.19974558736162\n",
       "22. 0.200074209467791\n",
       "23. 0.200369992777289\n",
       "24. 0.200636931314862\n",
       "25. 0.200891755102382\n",
       "26. 0.201095084842261\n",
       "27. 0.20128227920161\n",
       "28. 0.201470041880834\n",
       "29. 0.201646752808603\n",
       "30. 0.201783941352175\n",
       "31. 0.201904747786594\n",
       "32. 0.202023825437356\n",
       "33. 0.202236834698849\n",
       "34. 0.202350015757821\n",
       "35. 0.202470089830095\n",
       "36. 0.202586298422802\n",
       "37. 0.202695462603849\n",
       "38. 0.202867329182326\n",
       "39. 0.202990035552475\n",
       "40. 0.203089491145564\n",
       "41. 0.20318327446015\n",
       "42. 0.203252928751895\n",
       "43. 0.203308290958924\n",
       "44. 0.203392119665056\n",
       "45. 0.203445039417417\n",
       "46. 0.203491664418012\n",
       "47. 0.203536350022124\n",
       "48. 0.203578679783836\n",
       "49. 0.203618498267349\n",
       "50. 0.203655514059615\n",
       "51. 0.203698178489043\n",
       "52. 0.203733459229645\n",
       "53. 0.203759768363261\n",
       "54. 0.203784625151242\n",
       "55. 0.204142209249049\n",
       "56. 0.204165634988899\n",
       "57. 0.204184213395369\n",
       "58. 0.204197943936739\n",
       "59. 0.204211308754824\n",
       "60. 0.204230481131759\n",
       "61. 0.204239990778219\n",
       "62. 0.204248969069241\n",
       "63. 0.204257704447577\n",
       "64. 0.204272491096111\n",
       "65. 0.2042812582841\n",
       "66. 0.204289152637829\n",
       "67. 0.204295551047042\n",
       "68. 0.204306229955394\n",
       "69. 0.204310917368971\n",
       "70. 0.204315522573118\n",
       "71. 0.204320040151233\n",
       "72. 0.204396992558893\n",
       "73. 0.204401190333571\n",
       "74. 0.204403651291559\n",
       "75. 0.204405697890422\n",
       "76. 0.204407661119633\n",
       "77. 0.204408876791908\n",
       "78. 0.204409489502455\n",
       "79. 0.204409515478457\n",
       "80. 0.204409515710704\n",
       "\n",
       "\n"
      ],
      "text/plain": [
       " [1] 0.1189547 0.1480617 0.1597392 0.1691998 0.1775814 0.1817638 0.1860824\n",
       " [8] 0.1882517 0.1899560 0.1913515 0.1928024 0.1939373 0.1947564 0.1960169\n",
       "[15] 0.1967430 0.1974479 0.1980586 0.1985120 0.1989526 0.1993834 0.1997456\n",
       "[22] 0.2000742 0.2003700 0.2006369 0.2008918 0.2010951 0.2012823 0.2014700\n",
       "[29] 0.2016468 0.2017839 0.2019047 0.2020238 0.2022368 0.2023500 0.2024701\n",
       "[36] 0.2025863 0.2026955 0.2028673 0.2029900 0.2030895 0.2031833 0.2032529\n",
       "[43] 0.2033083 0.2033921 0.2034450 0.2034917 0.2035364 0.2035787 0.2036185\n",
       "[50] 0.2036555 0.2036982 0.2037335 0.2037598 0.2037846 0.2041422 0.2041656\n",
       "[57] 0.2041842 0.2041979 0.2042113 0.2042305 0.2042400 0.2042490 0.2042577\n",
       "[64] 0.2042725 0.2042813 0.2042892 0.2042956 0.2043062 0.2043109 0.2043155\n",
       "[71] 0.2043200 0.2043970 0.2044012 0.2044037 0.2044057 0.2044077 0.2044089\n",
       "[78] 0.2044095 0.2044095 0.2044095"
      ]
     },
     "metadata": {},
     "output_type": "display_data"
    }
   ],
   "source": [
    "#summary of RSQ for forward feature selection\n",
    "reg.summary.fwd$rsq"
   ]
  },
  {
   "cell_type": "code",
   "execution_count": 15,
   "id": "8e1f8650",
   "metadata": {},
   "outputs": [
    {
     "data": {
      "image/png": "[encoded data removed]",
      "text/plain": [
       "plot without title"
      ]
     },
     "metadata": {
      "image/png": {
       "height": 420,
       "width": 420
      }
     },
     "output_type": "display_data"
    }
   ],
   "source": [
    "#plot 4 diferent coeficient to show the best number of the features in diferent coeficients\n",
    "#paring axies to 4 cells\n",
    "par(mfrow=c(2,2))\n",
    "#plot the RSS\n",
    "plot(reg.summary.fwd$rss,xlab='Number of Variables',ylab='RSS',type='l')\n",
    "# Plot the adjusted rate 2 \n",
    "plot(reg.summary.fwd$adjr2,xlab='Number of Variables',ylab='Adjusted R square',type='l')\n",
    "# define the optimum point of adjusted rate 2\n",
    "points(which.max(reg.summary.fwd$adjr2),reg.summary.fwd$adjr2[which.max(reg.summary.fwd$adjr2)],col='red',cex=2,pch=20)\n",
    "#plot the cp\n",
    "plot(reg.summary.fwd$cp,xlab=\"Number of Variables\",ylab=\"Cp\",type='l')\n",
    "# define the optimum point of cp\n",
    "points(which.min(reg.summary.fwd$cp),reg.summary.fwd$cp[which.min(reg.summary.fwd$cp)],col=\"red\",cex=2,pch=20)\n",
    "# plot the Bic \n",
    "plot(reg.summary.fwd$bic,xlab=\"Number of Variables\",ylab=\"BIC\",type='l')\n",
    "# define the optimum point of bic\n",
    "points(which.min(reg.summary.fwd$bic),reg.summary.fwd$bic[which.min(reg.summary.fwd$bic)],col=\"red\",cex=2,pch=20)"
   ]
  },
  {
   "cell_type": "code",
   "execution_count": 16,
   "id": "5b93882a",
   "metadata": {},
   "outputs": [
    {
     "data": {
      "image/png": "[encoded data removed]",
      "text/plain": [
       "plot without title"
      ]
     },
     "metadata": {
      "image/png": {
       "height": 420,
       "width": 420
      }
     },
     "output_type": "display_data"
    }
   ],
   "source": [
    "# ploting the R square of forward model\n",
    "plot(regfit.fwd,scale=\"r2\")"
   ]
  },
  {
   "cell_type": "code",
   "execution_count": 17,
   "id": "cebfd12f",
   "metadata": {},
   "outputs": [
    {
     "data": {
      "image/png": "[encoded data removed]",
      "text/plain": [
       "plot without title"
      ]
     },
     "metadata": {
      "image/png": {
       "height": 420,
       "width": 420
      }
     },
     "output_type": "display_data"
    }
   ],
   "source": [
    "# ploting the adjusted rate 2 of forward model\n",
    "plot(regfit.fwd,scale=\"adjr2\")"
   ]
  },
  {
   "cell_type": "code",
   "execution_count": 18,
   "id": "0aba22f7",
   "metadata": {},
   "outputs": [
    {
     "data": {
      "image/png": "[encoded data removed]",
      "text/plain": [
       "plot without title"
      ]
     },
     "metadata": {
      "image/png": {
       "height": 420,
       "width": 420
      }
     },
     "output_type": "display_data"
    }
   ],
   "source": [
    "# ploting the CP of forward model\n",
    "plot(regfit.fwd,scale=\"Cp\")"
   ]
  },
  {
   "cell_type": "code",
   "execution_count": 19,
   "id": "0cf703be",
   "metadata": {},
   "outputs": [
    {
     "data": {
      "image/png": "[encoded data removed]",
      "text/plain": [
       "plot without title"
      ]
     },
     "metadata": {
      "image/png": {
       "height": 420,
       "width": 420
      }
     },
     "output_type": "display_data"
    }
   ],
   "source": [
    "# ploting the bicof forward model\n",
    "plot(regfit.fwd,scale=\"bic\")"
   ]
  },
  {
   "cell_type": "code",
   "execution_count": 20,
   "id": "7edfa9be",
   "metadata": {},
   "outputs": [
    {
     "data": {
      "text/html": [
       "<style>\n",
       ".dl-inline {width: auto; margin:0; padding: 0}\n",
       ".dl-inline>dt, .dl-inline>dd {float: none; width: auto; display: inline-block}\n",
       ".dl-inline>dt::after {content: \":\\0020\"; padding-right: .5ex}\n",
       ".dl-inline>dt:not(:first-of-type) {padding-left: .5ex}\n",
       "</style><dl class=dl-inline><dt>(Intercept)</dt><dd>0.221934774949942</dd><dt>LIMIT_BAL</dt><dd>-1.97788632960254e-07</dd><dt>SEX</dt><dd>-0.0156908922290475</dd><dt>BILL_AMT2</dt><dd>1.90324690843583e-07</dd><dt>PAY_AMT1</dt><dd>-7.14705057561121e-07</dd><dt>PAY_AMT2</dt><dd>-2.39434089577358e-07</dd><dt>PAY_AMT4</dt><dd>-6.50805079035484e-07</dd><dt>PAY_AMT5</dt><dd>-3.12260134169709e-07</dd><dt>PAY_AMT6</dt><dd>-2.90480738675758e-07</dd><dt>EDUCATION_4</dt><dd>-0.116548981067571</dd><dt>EDUCATION_5</dt><dd>-0.114761813041668</dd><dt>MARRIAGE_2</dt><dd>-0.0183322197254724</dd><dt>PAY_0_.1</dt><dd>0.0855417108686892</dd><dt>PAY_0_1</dt><dd>0.150847144108792</dd><dt>PAY_0_2</dt><dd>0.439291791040375</dd><dt>PAY_0_3</dt><dd>0.480921909007052</dd><dt>PAY_0_4</dt><dd>0.342792590678812</dd><dt>PAY_0_5</dt><dd>0.280932323368839</dd><dt>PAY_0_8</dt><dd>0.59147637599485</dd><dt>PAY_2_.1</dt><dd>-0.0328279920587809</dd><dt>PAY_2_1</dt><dd>-0.0988494657095136</dd><dt>PAY_2_2</dt><dd>0.0454071457117996</dd><dt>PAY_2_4</dt><dd>-0.141857942842317</dd><dt>PAY_2_5</dt><dd>0.27721277937958</dd><dt>PAY_3_3</dt><dd>0.0906726049588245</dd><dt>PAY_3_4</dt><dd>-0.0297997811513205</dd><dt>PAY_3_5</dt><dd>0.0773373604858706</dd><dt>PAY_3_7</dt><dd>-0.0329600175538401</dd><dt>PAY_4_.1</dt><dd>-0.0203301690328014</dd><dt>PAY_4_2</dt><dd>0.0903282542748883</dd><dt>PAY_4_3</dt><dd>0.0172070767383288</dd><dt>PAY_4_5</dt><dd>-0.318889688748388</dd><dt>PAY_4_6</dt><dd>-0.198233785263317</dd><dt>PAY_4_7</dt><dd>0.162009638224769</dd><dt>PAY_5_0</dt><dd>-0.0361317853256327</dd><dt>PAY_5_3</dt><dd>-0.0120975265266614</dd><dt>PAY_6_.1</dt><dd>-0.0123550068301204</dd><dt>PAY_6_2</dt><dd>0.0839988731100399</dd><dt>PAY_6_3</dt><dd>0.149858936035256</dd><dt>PAY_6_5</dt><dd>-0.00519880009097016</dd><dt>PAY_6_8</dt><dd>0.91579904909214</dd><dt>PAY_5_8</dt><dd>-0.600829267726414</dd></dl>\n"
      ],
      "text/latex": [
       "\\begin{description*}\n",
       "\\item[(Intercept)] 0.221934774949942\n",
       "\\item[LIMIT\\textbackslash{}\\_BAL] -1.97788632960254e-07\n",
       "\\item[SEX] -0.0156908922290475\n",
       "\\item[BILL\\textbackslash{}\\_AMT2] 1.90324690843583e-07\n",
       "\\item[PAY\\textbackslash{}\\_AMT1] -7.14705057561121e-07\n",
       "\\item[PAY\\textbackslash{}\\_AMT2] -2.39434089577358e-07\n",
       "\\item[PAY\\textbackslash{}\\_AMT4] -6.50805079035484e-07\n",
       "\\item[PAY\\textbackslash{}\\_AMT5] -3.12260134169709e-07\n",
       "\\item[PAY\\textbackslash{}\\_AMT6] -2.90480738675758e-07\n",
       "\\item[EDUCATION\\textbackslash{}\\_4] -0.116548981067571\n",
       "\\item[EDUCATION\\textbackslash{}\\_5] -0.114761813041668\n",
       "\\item[MARRIAGE\\textbackslash{}\\_2] -0.0183322197254724\n",
       "\\item[PAY\\textbackslash{}\\_0\\textbackslash{}\\_.1] 0.0855417108686892\n",
       "\\item[PAY\\textbackslash{}\\_0\\textbackslash{}\\_1] 0.150847144108792\n",
       "\\item[PAY\\textbackslash{}\\_0\\textbackslash{}\\_2] 0.439291791040375\n",
       "\\item[PAY\\textbackslash{}\\_0\\textbackslash{}\\_3] 0.480921909007052\n",
       "\\item[PAY\\textbackslash{}\\_0\\textbackslash{}\\_4] 0.342792590678812\n",
       "\\item[PAY\\textbackslash{}\\_0\\textbackslash{}\\_5] 0.280932323368839\n",
       "\\item[PAY\\textbackslash{}\\_0\\textbackslash{}\\_8] 0.59147637599485\n",
       "\\item[PAY\\textbackslash{}\\_2\\textbackslash{}\\_.1] -0.0328279920587809\n",
       "\\item[PAY\\textbackslash{}\\_2\\textbackslash{}\\_1] -0.0988494657095136\n",
       "\\item[PAY\\textbackslash{}\\_2\\textbackslash{}\\_2] 0.0454071457117996\n",
       "\\item[PAY\\textbackslash{}\\_2\\textbackslash{}\\_4] -0.141857942842317\n",
       "\\item[PAY\\textbackslash{}\\_2\\textbackslash{}\\_5] 0.27721277937958\n",
       "\\item[PAY\\textbackslash{}\\_3\\textbackslash{}\\_3] 0.0906726049588245\n",
       "\\item[PAY\\textbackslash{}\\_3\\textbackslash{}\\_4] -0.0297997811513205\n",
       "\\item[PAY\\textbackslash{}\\_3\\textbackslash{}\\_5] 0.0773373604858706\n",
       "\\item[PAY\\textbackslash{}\\_3\\textbackslash{}\\_7] -0.0329600175538401\n",
       "\\item[PAY\\textbackslash{}\\_4\\textbackslash{}\\_.1] -0.0203301690328014\n",
       "\\item[PAY\\textbackslash{}\\_4\\textbackslash{}\\_2] 0.0903282542748883\n",
       "\\item[PAY\\textbackslash{}\\_4\\textbackslash{}\\_3] 0.0172070767383288\n",
       "\\item[PAY\\textbackslash{}\\_4\\textbackslash{}\\_5] -0.318889688748388\n",
       "\\item[PAY\\textbackslash{}\\_4\\textbackslash{}\\_6] -0.198233785263317\n",
       "\\item[PAY\\textbackslash{}\\_4\\textbackslash{}\\_7] 0.162009638224769\n",
       "\\item[PAY\\textbackslash{}\\_5\\textbackslash{}\\_0] -0.0361317853256327\n",
       "\\item[PAY\\textbackslash{}\\_5\\textbackslash{}\\_3] -0.0120975265266614\n",
       "\\item[PAY\\textbackslash{}\\_6\\textbackslash{}\\_.1] -0.0123550068301204\n",
       "\\item[PAY\\textbackslash{}\\_6\\textbackslash{}\\_2] 0.0839988731100399\n",
       "\\item[PAY\\textbackslash{}\\_6\\textbackslash{}\\_3] 0.149858936035256\n",
       "\\item[PAY\\textbackslash{}\\_6\\textbackslash{}\\_5] -0.00519880009097016\n",
       "\\item[PAY\\textbackslash{}\\_6\\textbackslash{}\\_8] 0.91579904909214\n",
       "\\item[PAY\\textbackslash{}\\_5\\textbackslash{}\\_8] -0.600829267726414\n",
       "\\end{description*}\n"
      ],
      "text/markdown": [
       "(Intercept)\n",
       ":   0.221934774949942LIMIT_BAL\n",
       ":   -1.97788632960254e-07SEX\n",
       ":   -0.0156908922290475BILL_AMT2\n",
       ":   1.90324690843583e-07PAY_AMT1\n",
       ":   -7.14705057561121e-07PAY_AMT2\n",
       ":   -2.39434089577358e-07PAY_AMT4\n",
       ":   -6.50805079035484e-07PAY_AMT5\n",
       ":   -3.12260134169709e-07PAY_AMT6\n",
       ":   -2.90480738675758e-07EDUCATION_4\n",
       ":   -0.116548981067571EDUCATION_5\n",
       ":   -0.114761813041668MARRIAGE_2\n",
       ":   -0.0183322197254724PAY_0_.1\n",
       ":   0.0855417108686892PAY_0_1\n",
       ":   0.150847144108792PAY_0_2\n",
       ":   0.439291791040375PAY_0_3\n",
       ":   0.480921909007052PAY_0_4\n",
       ":   0.342792590678812PAY_0_5\n",
       ":   0.280932323368839PAY_0_8\n",
       ":   0.59147637599485PAY_2_.1\n",
       ":   -0.0328279920587809PAY_2_1\n",
       ":   -0.0988494657095136PAY_2_2\n",
       ":   0.0454071457117996PAY_2_4\n",
       ":   -0.141857942842317PAY_2_5\n",
       ":   0.27721277937958PAY_3_3\n",
       ":   0.0906726049588245PAY_3_4\n",
       ":   -0.0297997811513205PAY_3_5\n",
       ":   0.0773373604858706PAY_3_7\n",
       ":   -0.0329600175538401PAY_4_.1\n",
       ":   -0.0203301690328014PAY_4_2\n",
       ":   0.0903282542748883PAY_4_3\n",
       ":   0.0172070767383288PAY_4_5\n",
       ":   -0.318889688748388PAY_4_6\n",
       ":   -0.198233785263317PAY_4_7\n",
       ":   0.162009638224769PAY_5_0\n",
       ":   -0.0361317853256327PAY_5_3\n",
       ":   -0.0120975265266614PAY_6_.1\n",
       ":   -0.0123550068301204PAY_6_2\n",
       ":   0.0839988731100399PAY_6_3\n",
       ":   0.149858936035256PAY_6_5\n",
       ":   -0.00519880009097016PAY_6_8\n",
       ":   0.91579904909214PAY_5_8\n",
       ":   -0.600829267726414\n",
       "\n"
      ],
      "text/plain": [
       "  (Intercept)     LIMIT_BAL           SEX     BILL_AMT2      PAY_AMT1 \n",
       " 2.219348e-01 -1.977886e-07 -1.569089e-02  1.903247e-07 -7.147051e-07 \n",
       "     PAY_AMT2      PAY_AMT4      PAY_AMT5      PAY_AMT6   EDUCATION_4 \n",
       "-2.394341e-07 -6.508051e-07 -3.122601e-07 -2.904807e-07 -1.165490e-01 \n",
       "  EDUCATION_5    MARRIAGE_2      PAY_0_.1       PAY_0_1       PAY_0_2 \n",
       "-1.147618e-01 -1.833222e-02  8.554171e-02  1.508471e-01  4.392918e-01 \n",
       "      PAY_0_3       PAY_0_4       PAY_0_5       PAY_0_8      PAY_2_.1 \n",
       " 4.809219e-01  3.427926e-01  2.809323e-01  5.914764e-01 -3.282799e-02 \n",
       "      PAY_2_1       PAY_2_2       PAY_2_4       PAY_2_5       PAY_3_3 \n",
       "-9.884947e-02  4.540715e-02 -1.418579e-01  2.772128e-01  9.067260e-02 \n",
       "      PAY_3_4       PAY_3_5       PAY_3_7      PAY_4_.1       PAY_4_2 \n",
       "-2.979978e-02  7.733736e-02 -3.296002e-02 -2.033017e-02  9.032825e-02 \n",
       "      PAY_4_3       PAY_4_5       PAY_4_6       PAY_4_7       PAY_5_0 \n",
       " 1.720708e-02 -3.188897e-01 -1.982338e-01  1.620096e-01 -3.613179e-02 \n",
       "      PAY_5_3      PAY_6_.1       PAY_6_2       PAY_6_3       PAY_6_5 \n",
       "-1.209753e-02 -1.235501e-02  8.399887e-02  1.498589e-01 -5.198800e-03 \n",
       "      PAY_6_8       PAY_5_8 \n",
       " 9.157990e-01 -6.008293e-01 "
      ]
     },
     "metadata": {},
     "output_type": "display_data"
    }
   ],
   "source": [
    "#storing the feature selected based on the forward model by cp coeficient\n",
    "selection.fwd.cp=names(coef(regfit.fwd,which.min(reg.summary.fwd$cp)))[-1]\n",
    "#displaying the coeficient and variables name for forward feature selection for CP\n",
    "coef(regfit.fwd,which.min(reg.summary.fwd$cp))"
   ]
  },
  {
   "cell_type": "code",
   "execution_count": 21,
   "id": "aed6c9d9",
   "metadata": {},
   "outputs": [
    {
     "data": {
      "text/html": [
       "<style>\n",
       ".dl-inline {width: auto; margin:0; padding: 0}\n",
       ".dl-inline>dt, .dl-inline>dd {float: none; width: auto; display: inline-block}\n",
       ".dl-inline>dt::after {content: \":\\0020\"; padding-right: .5ex}\n",
       ".dl-inline>dt:not(:first-of-type) {padding-left: .5ex}\n",
       "</style><dl class=dl-inline><dt>(Intercept)</dt><dd>0.174307093877866</dd><dt>LIMIT_BAL</dt><dd>-2.21155268389702e-07</dd><dt>BILL_AMT2</dt><dd>9.9718990023427e-08</dd><dt>PAY_AMT1</dt><dd>-8.86327122388231e-07</dd><dt>EDUCATION_5</dt><dd>-0.121878979412822</dd><dt>MARRIAGE_2</dt><dd>-0.0193784705713775</dd><dt>PAY_0_.1</dt><dd>0.0805387706170036</dd><dt>PAY_0_1</dt><dd>0.157571856538025</dd><dt>PAY_0_2</dt><dd>0.455628246651762</dd><dt>PAY_0_3</dt><dd>0.50896486157791</dd><dt>PAY_0_4</dt><dd>0.340233901493872</dd><dt>PAY_0_8</dt><dd>0.599531901591918</dd><dt>PAY_2_.1</dt><dd>-0.0384108117773707</dd><dt>PAY_2_2</dt><dd>0.0629122993527173</dd><dt>PAY_3_3</dt><dd>0.126475214400883</dd><dt>PAY_3_4</dt><dd>0.0285138626595296</dd><dt>PAY_4_3</dt><dd>0.00135016616209958</dd><dt>PAY_4_5</dt><dd>-0.320966373560028</dd><dt>PAY_5_3</dt><dd>-0.0040843154926291</dd><dt>PAY_6_2</dt><dd>0.127382493159161</dd><dt>PAY_6_3</dt><dd>0.182666235894364</dd></dl>\n"
      ],
      "text/latex": [
       "\\begin{description*}\n",
       "\\item[(Intercept)] 0.174307093877866\n",
       "\\item[LIMIT\\textbackslash{}\\_BAL] -2.21155268389702e-07\n",
       "\\item[BILL\\textbackslash{}\\_AMT2] 9.9718990023427e-08\n",
       "\\item[PAY\\textbackslash{}\\_AMT1] -8.86327122388231e-07\n",
       "\\item[EDUCATION\\textbackslash{}\\_5] -0.121878979412822\n",
       "\\item[MARRIAGE\\textbackslash{}\\_2] -0.0193784705713775\n",
       "\\item[PAY\\textbackslash{}\\_0\\textbackslash{}\\_.1] 0.0805387706170036\n",
       "\\item[PAY\\textbackslash{}\\_0\\textbackslash{}\\_1] 0.157571856538025\n",
       "\\item[PAY\\textbackslash{}\\_0\\textbackslash{}\\_2] 0.455628246651762\n",
       "\\item[PAY\\textbackslash{}\\_0\\textbackslash{}\\_3] 0.50896486157791\n",
       "\\item[PAY\\textbackslash{}\\_0\\textbackslash{}\\_4] 0.340233901493872\n",
       "\\item[PAY\\textbackslash{}\\_0\\textbackslash{}\\_8] 0.599531901591918\n",
       "\\item[PAY\\textbackslash{}\\_2\\textbackslash{}\\_.1] -0.0384108117773707\n",
       "\\item[PAY\\textbackslash{}\\_2\\textbackslash{}\\_2] 0.0629122993527173\n",
       "\\item[PAY\\textbackslash{}\\_3\\textbackslash{}\\_3] 0.126475214400883\n",
       "\\item[PAY\\textbackslash{}\\_3\\textbackslash{}\\_4] 0.0285138626595296\n",
       "\\item[PAY\\textbackslash{}\\_4\\textbackslash{}\\_3] 0.00135016616209958\n",
       "\\item[PAY\\textbackslash{}\\_4\\textbackslash{}\\_5] -0.320966373560028\n",
       "\\item[PAY\\textbackslash{}\\_5\\textbackslash{}\\_3] -0.0040843154926291\n",
       "\\item[PAY\\textbackslash{}\\_6\\textbackslash{}\\_2] 0.127382493159161\n",
       "\\item[PAY\\textbackslash{}\\_6\\textbackslash{}\\_3] 0.182666235894364\n",
       "\\end{description*}\n"
      ],
      "text/markdown": [
       "(Intercept)\n",
       ":   0.174307093877866LIMIT_BAL\n",
       ":   -2.21155268389702e-07BILL_AMT2\n",
       ":   9.9718990023427e-08PAY_AMT1\n",
       ":   -8.86327122388231e-07EDUCATION_5\n",
       ":   -0.121878979412822MARRIAGE_2\n",
       ":   -0.0193784705713775PAY_0_.1\n",
       ":   0.0805387706170036PAY_0_1\n",
       ":   0.157571856538025PAY_0_2\n",
       ":   0.455628246651762PAY_0_3\n",
       ":   0.50896486157791PAY_0_4\n",
       ":   0.340233901493872PAY_0_8\n",
       ":   0.599531901591918PAY_2_.1\n",
       ":   -0.0384108117773707PAY_2_2\n",
       ":   0.0629122993527173PAY_3_3\n",
       ":   0.126475214400883PAY_3_4\n",
       ":   0.0285138626595296PAY_4_3\n",
       ":   0.00135016616209958PAY_4_5\n",
       ":   -0.320966373560028PAY_5_3\n",
       ":   -0.0040843154926291PAY_6_2\n",
       ":   0.127382493159161PAY_6_3\n",
       ":   0.182666235894364\n",
       "\n"
      ],
      "text/plain": [
       "  (Intercept)     LIMIT_BAL     BILL_AMT2      PAY_AMT1   EDUCATION_5 \n",
       " 1.743071e-01 -2.211553e-07  9.971899e-08 -8.863271e-07 -1.218790e-01 \n",
       "   MARRIAGE_2      PAY_0_.1       PAY_0_1       PAY_0_2       PAY_0_3 \n",
       "-1.937847e-02  8.053877e-02  1.575719e-01  4.556282e-01  5.089649e-01 \n",
       "      PAY_0_4       PAY_0_8      PAY_2_.1       PAY_2_2       PAY_3_3 \n",
       " 3.402339e-01  5.995319e-01 -3.841081e-02  6.291230e-02  1.264752e-01 \n",
       "      PAY_3_4       PAY_4_3       PAY_4_5       PAY_5_3       PAY_6_2 \n",
       " 2.851386e-02  1.350166e-03 -3.209664e-01 -4.084315e-03  1.273825e-01 \n",
       "      PAY_6_3 \n",
       " 1.826662e-01 "
      ]
     },
     "metadata": {},
     "output_type": "display_data"
    }
   ],
   "source": [
    "#storing the feature selected based on the forward model by bic coeficient\n",
    "selection.fwd.bic=names(coef(regfit.fwd,which.min(reg.summary.fwd$bic)))[-1]\n",
    "#displaying the coeficient and variables name for forward feature selection for bic\n",
    "coef(regfit.fwd,which.min(reg.summary.fwd$bic))"
   ]
  },
  {
   "cell_type": "markdown",
   "id": "aa63e795",
   "metadata": {},
   "source": [
    "#### 1.2 backward feature selection"
   ]
  },
  {
   "cell_type": "code",
   "execution_count": 22,
   "id": "838d413f",
   "metadata": {},
   "outputs": [
    {
     "name": "stderr",
     "output_type": "stream",
     "text": [
      "Warning message in leaps.setup(x, y, wt = wt, nbest = nbest, nvmax = nvmax, force.in = force.in, :\n",
      "\"2  linear dependencies found\"\n"
     ]
    },
    {
     "name": "stdout",
     "output_type": "stream",
     "text": [
      "Reordering variables and trying again:\n"
     ]
    }
   ],
   "source": [
    "# applying the backward feature selection to data\n",
    "regfit.bwd=regsubsets(default~.,data=DF,method='backward')\n",
    "# summary of backward featur selection\n",
    "reg.summary.bwd=summary(regfit.bwd)"
   ]
  },
  {
   "cell_type": "code",
   "execution_count": 23,
   "id": "5894eeec",
   "metadata": {},
   "outputs": [
    {
     "data": {
      "text/html": [
       "<style>\n",
       ".list-inline {list-style: none; margin:0; padding: 0}\n",
       ".list-inline>li {display: inline-block}\n",
       ".list-inline>li:not(:last-child)::after {content: \"\\00b7\"; padding: 0 .5ex}\n",
       "</style>\n",
       "<ol class=list-inline><li>'which'</li><li>'rsq'</li><li>'rss'</li><li>'adjr2'</li><li>'cp'</li><li>'bic'</li><li>'outmat'</li><li>'obj'</li></ol>\n"
      ],
      "text/latex": [
       "\\begin{enumerate*}\n",
       "\\item 'which'\n",
       "\\item 'rsq'\n",
       "\\item 'rss'\n",
       "\\item 'adjr2'\n",
       "\\item 'cp'\n",
       "\\item 'bic'\n",
       "\\item 'outmat'\n",
       "\\item 'obj'\n",
       "\\end{enumerate*}\n"
      ],
      "text/markdown": [
       "1. 'which'\n",
       "2. 'rsq'\n",
       "3. 'rss'\n",
       "4. 'adjr2'\n",
       "5. 'cp'\n",
       "6. 'bic'\n",
       "7. 'outmat'\n",
       "8. 'obj'\n",
       "\n",
       "\n"
      ],
      "text/plain": [
       "[1] \"which\"  \"rsq\"    \"rss\"    \"adjr2\"  \"cp\"     \"bic\"    \"outmat\" \"obj\"   "
      ]
     },
     "metadata": {},
     "output_type": "display_data"
    }
   ],
   "source": [
    "# coeficient names for backward feature selection\n",
    "names(reg.summary.bwd)"
   ]
  },
  {
   "cell_type": "code",
   "execution_count": 24,
   "id": "52cca546",
   "metadata": {},
   "outputs": [
    {
     "data": {
      "text/html": [
       "<style>\n",
       ".list-inline {list-style: none; margin:0; padding: 0}\n",
       ".list-inline>li {display: inline-block}\n",
       ".list-inline>li:not(:last-child)::after {content: \"\\00b7\"; padding: 0 .5ex}\n",
       "</style>\n",
       "<ol class=list-inline><li>0.118954749313308</li><li>0.139996065542334</li><li>0.161963175187764</li><li>0.174832244445943</li><li>0.179490115190677</li><li>0.183571525334941</li><li>0.187179481073252</li><li>0.18891434354132</li><li>0.190628957244699</li></ol>\n"
      ],
      "text/latex": [
       "\\begin{enumerate*}\n",
       "\\item 0.118954749313308\n",
       "\\item 0.139996065542334\n",
       "\\item 0.161963175187764\n",
       "\\item 0.174832244445943\n",
       "\\item 0.179490115190677\n",
       "\\item 0.183571525334941\n",
       "\\item 0.187179481073252\n",
       "\\item 0.18891434354132\n",
       "\\item 0.190628957244699\n",
       "\\end{enumerate*}\n"
      ],
      "text/markdown": [
       "1. 0.118954749313308\n",
       "2. 0.139996065542334\n",
       "3. 0.161963175187764\n",
       "4. 0.174832244445943\n",
       "5. 0.179490115190677\n",
       "6. 0.183571525334941\n",
       "7. 0.187179481073252\n",
       "8. 0.18891434354132\n",
       "9. 0.190628957244699\n",
       "\n",
       "\n"
      ],
      "text/plain": [
       "[1] 0.1189547 0.1399961 0.1619632 0.1748322 0.1794901 0.1835715 0.1871795\n",
       "[8] 0.1889143 0.1906290"
      ]
     },
     "metadata": {},
     "output_type": "display_data"
    }
   ],
   "source": [
    "#summary of RSQ for backward feature selection\n",
    "reg.summary.bwd$rsq"
   ]
  },
  {
   "cell_type": "code",
   "execution_count": 25,
   "id": "da772fec",
   "metadata": {},
   "outputs": [
    {
     "data": {
      "image/png": "[encoded data removed]",
      "text/plain": [
       "plot without title"
      ]
     },
     "metadata": {
      "image/png": {
       "height": 420,
       "width": 420
      }
     },
     "output_type": "display_data"
    }
   ],
   "source": [
    "#plot 4 diferent coeficient to show the best number of the features in diferent coeficients\n",
    "#paring axies to 4 cells\n",
    "par(mfrow=c(2,2))\n",
    "#plot the RSS\n",
    "plot(reg.summary.bwd$rss,xlab='Number of Variables',ylab='RSS',type='l')\n",
    "# Plot the adjusted rate 2 \n",
    "plot(reg.summary.bwd$adjr2,xlab='Number of Variables',ylab='Adjusted R square',type='l')\n",
    "# define the optimum point of adjusted rate 2\n",
    "points(which.max(reg.summary.bwd$adjr2),reg.summary.bwd$adjr2[which.max(reg.summary.bwd$adjr2)],col='red',cex=2,pch=20)\n",
    "#plot the cp\n",
    "plot(reg.summary.bwd$cp,xlab=\"Number of Variables\",ylab=\"Cp\",type='l')\n",
    "# define the optimum point of cp\n",
    "points(which.min(reg.summary.bwd$cp),reg.summary.bwd$cp[which.min(reg.summary.bwd$cp)],col=\"red\",cex=2,pch=20)\n",
    "# plot the Bic \n",
    "plot(reg.summary.bwd$bic,xlab=\"Number of Variables\",ylab=\"BIC\",type='l')\n",
    "# define the optimum point of bic\n",
    "points(which.min(reg.summary.bwd$bic),reg.summary.bwd$bic[which.min(reg.summary.bwd$bic)],col=\"red\",cex=2,pch=20)"
   ]
  },
  {
   "cell_type": "code",
   "execution_count": 26,
   "id": "df58b0c4",
   "metadata": {},
   "outputs": [
    {
     "data": {
      "image/png": "[encoded data removed]",
      "text/plain": [
       "plot without title"
      ]
     },
     "metadata": {
      "image/png": {
       "height": 420,
       "width": 420
      }
     },
     "output_type": "display_data"
    }
   ],
   "source": [
    "# ploting the R square of backward model\n",
    "plot(regfit.bwd,scale=\"r2\")"
   ]
  },
  {
   "cell_type": "code",
   "execution_count": 27,
   "id": "f4fb7c20",
   "metadata": {},
   "outputs": [
    {
     "data": {
      "image/png": "[encoded data removed]",
      "text/plain": [
       "plot without title"
      ]
     },
     "metadata": {
      "image/png": {
       "height": 420,
       "width": 420
      }
     },
     "output_type": "display_data"
    }
   ],
   "source": [
    "# ploting the adjusted rate 2 of backward model\n",
    "plot(regfit.bwd,scale=\"adjr2\")"
   ]
  },
  {
   "cell_type": "code",
   "execution_count": 28,
   "id": "54ec54b8",
   "metadata": {},
   "outputs": [
    {
     "data": {
      "image/png": "[encoded data removed]",
      "text/plain": [
       "plot without title"
      ]
     },
     "metadata": {
      "image/png": {
       "height": 420,
       "width": 420
      }
     },
     "output_type": "display_data"
    }
   ],
   "source": [
    "# ploting the CP of backward model\n",
    "plot(regfit.bwd,scale=\"Cp\")"
   ]
  },
  {
   "cell_type": "code",
   "execution_count": 29,
   "id": "bb5631f5",
   "metadata": {},
   "outputs": [
    {
     "data": {
      "image/png": "[encoded data removed]",
      "text/plain": [
       "plot without title"
      ]
     },
     "metadata": {
      "image/png": {
       "height": 420,
       "width": 420
      }
     },
     "output_type": "display_data"
    }
   ],
   "source": [
    "# ploting the bicof backward model\n",
    "plot(regfit.bwd,scale=\"bic\")"
   ]
  },
  {
   "cell_type": "code",
   "execution_count": 30,
   "id": "d42800bf",
   "metadata": {},
   "outputs": [
    {
     "data": {
      "text/html": [
       "<style>\n",
       ".dl-inline {width: auto; margin:0; padding: 0}\n",
       ".dl-inline>dt, .dl-inline>dd {float: none; width: auto; display: inline-block}\n",
       ".dl-inline>dt::after {content: \":\\0020\"; padding-right: .5ex}\n",
       ".dl-inline>dt:not(:first-of-type) {padding-left: .5ex}\n",
       "</style><dl class=dl-inline><dt>(Intercept)</dt><dd>0.16472880294918</dd><dt>LIMIT_BAL</dt><dd>-2.36308667941583e-07</dd><dt>PAY_0_.1</dt><dd>0.049875492573482</dd><dt>PAY_0_1</dt><dd>0.177183598851237</dd><dt>PAY_0_2</dt><dd>0.488150528800842</dd><dt>PAY_0_3</dt><dd>0.55061968462889</dd><dt>PAY_3_3</dt><dd>0.137355990102126</dd><dt>PAY_4_3</dt><dd>0.0215996867564708</dd><dt>PAY_6_2</dt><dd>0.145412485583174</dd><dt>PAY_6_3</dt><dd>0.221262652386599</dd></dl>\n"
      ],
      "text/latex": [
       "\\begin{description*}\n",
       "\\item[(Intercept)] 0.16472880294918\n",
       "\\item[LIMIT\\textbackslash{}\\_BAL] -2.36308667941583e-07\n",
       "\\item[PAY\\textbackslash{}\\_0\\textbackslash{}\\_.1] 0.049875492573482\n",
       "\\item[PAY\\textbackslash{}\\_0\\textbackslash{}\\_1] 0.177183598851237\n",
       "\\item[PAY\\textbackslash{}\\_0\\textbackslash{}\\_2] 0.488150528800842\n",
       "\\item[PAY\\textbackslash{}\\_0\\textbackslash{}\\_3] 0.55061968462889\n",
       "\\item[PAY\\textbackslash{}\\_3\\textbackslash{}\\_3] 0.137355990102126\n",
       "\\item[PAY\\textbackslash{}\\_4\\textbackslash{}\\_3] 0.0215996867564708\n",
       "\\item[PAY\\textbackslash{}\\_6\\textbackslash{}\\_2] 0.145412485583174\n",
       "\\item[PAY\\textbackslash{}\\_6\\textbackslash{}\\_3] 0.221262652386599\n",
       "\\end{description*}\n"
      ],
      "text/markdown": [
       "(Intercept)\n",
       ":   0.16472880294918LIMIT_BAL\n",
       ":   -2.36308667941583e-07PAY_0_.1\n",
       ":   0.049875492573482PAY_0_1\n",
       ":   0.177183598851237PAY_0_2\n",
       ":   0.488150528800842PAY_0_3\n",
       ":   0.55061968462889PAY_3_3\n",
       ":   0.137355990102126PAY_4_3\n",
       ":   0.0215996867564708PAY_6_2\n",
       ":   0.145412485583174PAY_6_3\n",
       ":   0.221262652386599\n",
       "\n"
      ],
      "text/plain": [
       "  (Intercept)     LIMIT_BAL      PAY_0_.1       PAY_0_1       PAY_0_2 \n",
       " 1.647288e-01 -2.363087e-07  4.987549e-02  1.771836e-01  4.881505e-01 \n",
       "      PAY_0_3       PAY_3_3       PAY_4_3       PAY_6_2       PAY_6_3 \n",
       " 5.506197e-01  1.373560e-01  2.159969e-02  1.454125e-01  2.212627e-01 "
      ]
     },
     "metadata": {},
     "output_type": "display_data"
    }
   ],
   "source": [
    "#storing the feature selected based on the backward model by cp coeficient\n",
    "selection.bwd.cp=names(coef(regfit.bwd,which.min(reg.summary.bwd$cp)))[-1]\n",
    "#displaying the coeficient and variables name for backward feature selection for CP\n",
    "coef(regfit.bwd,which.min(reg.summary.bwd$cp))"
   ]
  },
  {
   "cell_type": "code",
   "execution_count": 31,
   "id": "17c8e6fb",
   "metadata": {},
   "outputs": [
    {
     "data": {
      "text/html": [
       "<style>\n",
       ".dl-inline {width: auto; margin:0; padding: 0}\n",
       ".dl-inline>dt, .dl-inline>dd {float: none; width: auto; display: inline-block}\n",
       ".dl-inline>dt::after {content: \":\\0020\"; padding-right: .5ex}\n",
       ".dl-inline>dt:not(:first-of-type) {padding-left: .5ex}\n",
       "</style><dl class=dl-inline><dt>(Intercept)</dt><dd>0.16472880294918</dd><dt>LIMIT_BAL</dt><dd>-2.36308667941583e-07</dd><dt>PAY_0_.1</dt><dd>0.049875492573482</dd><dt>PAY_0_1</dt><dd>0.177183598851237</dd><dt>PAY_0_2</dt><dd>0.488150528800842</dd><dt>PAY_0_3</dt><dd>0.55061968462889</dd><dt>PAY_3_3</dt><dd>0.137355990102126</dd><dt>PAY_4_3</dt><dd>0.0215996867564708</dd><dt>PAY_6_2</dt><dd>0.145412485583174</dd><dt>PAY_6_3</dt><dd>0.221262652386599</dd></dl>\n"
      ],
      "text/latex": [
       "\\begin{description*}\n",
       "\\item[(Intercept)] 0.16472880294918\n",
       "\\item[LIMIT\\textbackslash{}\\_BAL] -2.36308667941583e-07\n",
       "\\item[PAY\\textbackslash{}\\_0\\textbackslash{}\\_.1] 0.049875492573482\n",
       "\\item[PAY\\textbackslash{}\\_0\\textbackslash{}\\_1] 0.177183598851237\n",
       "\\item[PAY\\textbackslash{}\\_0\\textbackslash{}\\_2] 0.488150528800842\n",
       "\\item[PAY\\textbackslash{}\\_0\\textbackslash{}\\_3] 0.55061968462889\n",
       "\\item[PAY\\textbackslash{}\\_3\\textbackslash{}\\_3] 0.137355990102126\n",
       "\\item[PAY\\textbackslash{}\\_4\\textbackslash{}\\_3] 0.0215996867564708\n",
       "\\item[PAY\\textbackslash{}\\_6\\textbackslash{}\\_2] 0.145412485583174\n",
       "\\item[PAY\\textbackslash{}\\_6\\textbackslash{}\\_3] 0.221262652386599\n",
       "\\end{description*}\n"
      ],
      "text/markdown": [
       "(Intercept)\n",
       ":   0.16472880294918LIMIT_BAL\n",
       ":   -2.36308667941583e-07PAY_0_.1\n",
       ":   0.049875492573482PAY_0_1\n",
       ":   0.177183598851237PAY_0_2\n",
       ":   0.488150528800842PAY_0_3\n",
       ":   0.55061968462889PAY_3_3\n",
       ":   0.137355990102126PAY_4_3\n",
       ":   0.0215996867564708PAY_6_2\n",
       ":   0.145412485583174PAY_6_3\n",
       ":   0.221262652386599\n",
       "\n"
      ],
      "text/plain": [
       "  (Intercept)     LIMIT_BAL      PAY_0_.1       PAY_0_1       PAY_0_2 \n",
       " 1.647288e-01 -2.363087e-07  4.987549e-02  1.771836e-01  4.881505e-01 \n",
       "      PAY_0_3       PAY_3_3       PAY_4_3       PAY_6_2       PAY_6_3 \n",
       " 5.506197e-01  1.373560e-01  2.159969e-02  1.454125e-01  2.212627e-01 "
      ]
     },
     "metadata": {},
     "output_type": "display_data"
    }
   ],
   "source": [
    "#storing the feature selected based on the backward model by bic coeficient\n",
    "selection.bwd.bic=names(coef(regfit.bwd,which.min(reg.summary.bwd$bic)))[-1]\n",
    "#displaying the coeficient and variables name for backward feature selection for bic\n",
    "coef(regfit.bwd,which.min(reg.summary.bwd$bic))"
   ]
  },
  {
   "cell_type": "markdown",
   "id": "ef9e0e3c",
   "metadata": {},
   "source": [
    "#### 1.3. Ridge Regression"
   ]
  },
  {
   "cell_type": "code",
   "execution_count": 32,
   "id": "67a013a8",
   "metadata": {},
   "outputs": [],
   "source": [
    "#define independant variables and dependant variable\n",
    "# independants\n",
    "x=model.matrix(default~.,DF)[,-1]\n",
    "# dependant\n",
    "y=DF$default"
   ]
  },
  {
   "cell_type": "code",
   "execution_count": 33,
   "id": "0ff6eef6",
   "metadata": {},
   "outputs": [],
   "source": [
    "#fdefining range for the lambda\n",
    "grid=10^seq(10,-2,length=100)\n",
    "#applying ridge regression\n",
    "ridge.mod=glmnet(x,y,alpha=0,lambda=grid)"
   ]
  },
  {
   "cell_type": "code",
   "execution_count": 34,
   "id": "309e4c70",
   "metadata": {},
   "outputs": [
    {
     "data": {
      "text/html": [
       "<style>\n",
       ".list-inline {list-style: none; margin:0; padding: 0}\n",
       ".list-inline>li {display: inline-block}\n",
       ".list-inline>li:not(:last-child)::after {content: \"\\00b7\"; padding: 0 .5ex}\n",
       "</style>\n",
       "<ol class=list-inline><li>83</li><li>100</li></ol>\n"
      ],
      "text/latex": [
       "\\begin{enumerate*}\n",
       "\\item 83\n",
       "\\item 100\n",
       "\\end{enumerate*}\n"
      ],
      "text/markdown": [
       "1. 83\n",
       "2. 100\n",
       "\n",
       "\n"
      ],
      "text/plain": [
       "[1]  83 100"
      ]
     },
     "metadata": {},
     "output_type": "display_data"
    }
   ],
   "source": [
    "#dimention of model\n",
    "dim(coef(ridge.mod))"
   ]
  },
  {
   "cell_type": "code",
   "execution_count": 35,
   "id": "5ce57aad",
   "metadata": {},
   "outputs": [
    {
     "data": {
      "text/html": [
       "305.385550883341"
      ],
      "text/latex": [
       "305.385550883341"
      ],
      "text/markdown": [
       "305.385550883341"
      ],
      "text/plain": [
       "[1] 305.3856"
      ]
     },
     "metadata": {},
     "output_type": "display_data"
    },
    {
     "data": {
      "text/html": [
       "<style>\n",
       ".dl-inline {width: auto; margin:0; padding: 0}\n",
       ".dl-inline>dt, .dl-inline>dd {float: none; width: auto; display: inline-block}\n",
       ".dl-inline>dt::after {content: \":\\0020\"; padding-right: .5ex}\n",
       ".dl-inline>dt:not(:first-of-type) {padding-left: .5ex}\n",
       "</style><dl class=dl-inline><dt>(Intercept)</dt><dd>0.22113736863686</dd><dt>LIMIT_BAL</dt><dd>-6.30971107774688e-10</dd><dt>SEX</dt><dd>-4.07055610702895e-05</dd><dt>AGE</dt><dd>4.54230316923113e-07</dd><dt>BILL_AMT1</dt><dd>-1.49334903663039e-10</dd><dt>BILL_AMT2</dt><dd>-1.01436643070085e-10</dd><dt>BILL_AMT3</dt><dd>-1.09212740768492e-10</dd><dt>BILL_AMT4</dt><dd>-8.76909409300907e-11</dd><dt>BILL_AMT5</dt><dd>-6.94268787293918e-11</dd><dt>BILL_AMT6</dt><dd>-6.10726804743298e-11</dd><dt>PAY_AMT1</dt><dd>-2.76799768518488e-09</dd><dt>PAY_AMT2</dt><dd>-1.51807814927024e-09</dd><dt>PAY_AMT3</dt><dd>-1.72696636086113e-09</dd><dt>PAY_AMT4</dt><dd>-2.34633174269654e-09</dd><dt>PAY_AMT5</dt><dd>-2.19578679515703e-09</dd><dt>PAY_AMT6</dt><dd>-1.68643417334655e-09</dd><dt>EDUCATION_1</dt><dd>-5.26039703496939e-05</dd><dt>EDUCATION_2</dt><dd>3.65510866434684e-05</dd><dt>EDUCATION_3</dt><dd>4.45735542537939e-05</dd><dt>EDUCATION_4</dt><dd>-0.000247073820507802</dd><dt>EDUCATION_5</dt><dd>-0.000212431435356108</dd><dt>EDUCATION_6</dt><dd>-0.000105300328763802</dd><dt>MARRIAGE_1</dt><dd>2.57123379202631e-05</dd><dt>MARRIAGE_2</dt><dd>-2.66814849817014e-05</dd><dt>MARRIAGE_3</dt><dd>5.77637953108908e-05</dd><dt>PAY_0_.1</dt><dd>-8.22413602287489e-05</dd><dt>PAY_0_0</dt><dd>-0.000241025824273258</dd><dt>PAY_0_1</dt><dd>0.000177817388442309</dd><dt>PAY_0_2</dt><dd>0.000683755705260574</dd><dt>PAY_0_3</dt><dd>0.000741976117062352</dd><dt>PAY_0_4</dt><dd>0.000490867146707848</dd><dt>PAY_0_5</dt><dd>0.000412697070865461</dd><dt>PAY_0_6</dt><dd>0.000376496802626274</dd><dt>PAY_0_7</dt><dd>0.000602144851390944</dd><dt>PAY_0_8</dt><dd>0.000532638381850668</dd><dt>PAY_2_.1</dt><dd>-9.82978116358867e-05</dd><dt>PAY_2_0</dt><dd>-0.000174587528410367</dd><dt>PAY_2_1</dt><dd>-1.44378259894663e-05</dd><dt>PAY_2_2</dt><dd>0.000507291994131855</dd><dt>PAY_2_3</dt><dd>0.000482531205800746</dd><dt>PAY_2_4</dt><dd>0.000387463969486089</dd><dt>PAY_2_5</dt><dd>0.00051245789496045</dd><dt>PAY_2_6</dt><dd>0.000602127891694559</dd><dt>PAY_2_7</dt><dd>0.0005324504537397</dd><dt>PAY_2_8</dt><dd>-0.000302053059811994</dd><dt>PAY_3_.1</dt><dd>-0.000104930164675151</dd><dt>PAY_3_0</dt><dd>-0.000135239885659729</dd><dt>PAY_3_1</dt><dd>0.000377907892502872</dd><dt>PAY_3_2</dt><dd>0.000447918626215764</dd><dt>PAY_3_3</dt><dd>0.000507730580639437</dd><dt>PAY_3_4</dt><dd>0.000455201157069591</dd><dt>PAY_3_5</dt><dd>0.000375826542274963</dd><dt>PAY_3_6</dt><dd>0.000545387594666355</dd><dt>PAY_3_7</dt><dd>0.00073043715751613</dd><dt>PAY_3_8</dt><dd>0.000374253590119793</dd><dt>PAY_4_.1</dt><dd>-9.59426790896108e-05</dd><dt>PAY_4_0</dt><dd>-0.000116370430511912</dd><dt>PAY_4_1</dt><dd>0.00105590845523258</dd><dt>PAY_4_2</dt><dd>0.000452086380678782</dd><dt>PAY_4_3</dt><dd>0.000463480660033268</dd><dt>PAY_4_4</dt><dd>0.000620368010344244</dd><dt>PAY_4_5</dt><dd>0.000375610346793429</dd><dt>PAY_4_6</dt><dd>0.000239960698474686</dd><dt>PAY_4_7</dt><dd>0.000797274364216931</dd><dt>PAY_4_8</dt><dd>0.00105215291130662</dd><dt>PAY_5_.1</dt><dd>-9.96255799013573e-05</dd><dt>PAY_5_0</dt><dd>-9.90271340969879e-05</dd><dt>PAY_5_2</dt><dd>0.000468989169500363</dd><dt>PAY_5_3</dt><dd>0.0005005959091611</dd><dt>PAY_5_4</dt><dd>0.000527389118991856</dd><dt>PAY_5_5</dt><dd>0.000375455262543528</dd><dt>PAY_5_6</dt><dd>0.00105256410920524</dd><dt>PAY_5_7</dt><dd>0.000803946319050146</dd><dt>PAY_5_8</dt><dd>0.00105179773731335</dd><dt>PAY_6_.1</dt><dd>-8.59218298415205e-05</dd><dt>PAY_6_0</dt><dd>-9.97785988350413e-05</dd><dt>PAY_6_2</dt><dd>0.000423100739103832</dd><dt>PAY_6_3</dt><dd>0.000548619695775662</dd><dt>PAY_6_4</dt><dd>0.000586349058588398</dd><dt>PAY_6_5</dt><dd>0.00051084307798079</dd><dt>PAY_6_6</dt><dd>0.000799535729810381</dd><dt>PAY_6_7</dt><dd>0.000762272378119068</dd><dt>PAY_6_8</dt><dd>0.00105244151072735</dd></dl>\n"
      ],
      "text/latex": [
       "\\begin{description*}\n",
       "\\item[(Intercept)] 0.22113736863686\n",
       "\\item[LIMIT\\textbackslash{}\\_BAL] -6.30971107774688e-10\n",
       "\\item[SEX] -4.07055610702895e-05\n",
       "\\item[AGE] 4.54230316923113e-07\n",
       "\\item[BILL\\textbackslash{}\\_AMT1] -1.49334903663039e-10\n",
       "\\item[BILL\\textbackslash{}\\_AMT2] -1.01436643070085e-10\n",
       "\\item[BILL\\textbackslash{}\\_AMT3] -1.09212740768492e-10\n",
       "\\item[BILL\\textbackslash{}\\_AMT4] -8.76909409300907e-11\n",
       "\\item[BILL\\textbackslash{}\\_AMT5] -6.94268787293918e-11\n",
       "\\item[BILL\\textbackslash{}\\_AMT6] -6.10726804743298e-11\n",
       "\\item[PAY\\textbackslash{}\\_AMT1] -2.76799768518488e-09\n",
       "\\item[PAY\\textbackslash{}\\_AMT2] -1.51807814927024e-09\n",
       "\\item[PAY\\textbackslash{}\\_AMT3] -1.72696636086113e-09\n",
       "\\item[PAY\\textbackslash{}\\_AMT4] -2.34633174269654e-09\n",
       "\\item[PAY\\textbackslash{}\\_AMT5] -2.19578679515703e-09\n",
       "\\item[PAY\\textbackslash{}\\_AMT6] -1.68643417334655e-09\n",
       "\\item[EDUCATION\\textbackslash{}\\_1] -5.26039703496939e-05\n",
       "\\item[EDUCATION\\textbackslash{}\\_2] 3.65510866434684e-05\n",
       "\\item[EDUCATION\\textbackslash{}\\_3] 4.45735542537939e-05\n",
       "\\item[EDUCATION\\textbackslash{}\\_4] -0.000247073820507802\n",
       "\\item[EDUCATION\\textbackslash{}\\_5] -0.000212431435356108\n",
       "\\item[EDUCATION\\textbackslash{}\\_6] -0.000105300328763802\n",
       "\\item[MARRIAGE\\textbackslash{}\\_1] 2.57123379202631e-05\n",
       "\\item[MARRIAGE\\textbackslash{}\\_2] -2.66814849817014e-05\n",
       "\\item[MARRIAGE\\textbackslash{}\\_3] 5.77637953108908e-05\n",
       "\\item[PAY\\textbackslash{}\\_0\\textbackslash{}\\_.1] -8.22413602287489e-05\n",
       "\\item[PAY\\textbackslash{}\\_0\\textbackslash{}\\_0] -0.000241025824273258\n",
       "\\item[PAY\\textbackslash{}\\_0\\textbackslash{}\\_1] 0.000177817388442309\n",
       "\\item[PAY\\textbackslash{}\\_0\\textbackslash{}\\_2] 0.000683755705260574\n",
       "\\item[PAY\\textbackslash{}\\_0\\textbackslash{}\\_3] 0.000741976117062352\n",
       "\\item[PAY\\textbackslash{}\\_0\\textbackslash{}\\_4] 0.000490867146707848\n",
       "\\item[PAY\\textbackslash{}\\_0\\textbackslash{}\\_5] 0.000412697070865461\n",
       "\\item[PAY\\textbackslash{}\\_0\\textbackslash{}\\_6] 0.000376496802626274\n",
       "\\item[PAY\\textbackslash{}\\_0\\textbackslash{}\\_7] 0.000602144851390944\n",
       "\\item[PAY\\textbackslash{}\\_0\\textbackslash{}\\_8] 0.000532638381850668\n",
       "\\item[PAY\\textbackslash{}\\_2\\textbackslash{}\\_.1] -9.82978116358867e-05\n",
       "\\item[PAY\\textbackslash{}\\_2\\textbackslash{}\\_0] -0.000174587528410367\n",
       "\\item[PAY\\textbackslash{}\\_2\\textbackslash{}\\_1] -1.44378259894663e-05\n",
       "\\item[PAY\\textbackslash{}\\_2\\textbackslash{}\\_2] 0.000507291994131855\n",
       "\\item[PAY\\textbackslash{}\\_2\\textbackslash{}\\_3] 0.000482531205800746\n",
       "\\item[PAY\\textbackslash{}\\_2\\textbackslash{}\\_4] 0.000387463969486089\n",
       "\\item[PAY\\textbackslash{}\\_2\\textbackslash{}\\_5] 0.00051245789496045\n",
       "\\item[PAY\\textbackslash{}\\_2\\textbackslash{}\\_6] 0.000602127891694559\n",
       "\\item[PAY\\textbackslash{}\\_2\\textbackslash{}\\_7] 0.0005324504537397\n",
       "\\item[PAY\\textbackslash{}\\_2\\textbackslash{}\\_8] -0.000302053059811994\n",
       "\\item[PAY\\textbackslash{}\\_3\\textbackslash{}\\_.1] -0.000104930164675151\n",
       "\\item[PAY\\textbackslash{}\\_3\\textbackslash{}\\_0] -0.000135239885659729\n",
       "\\item[PAY\\textbackslash{}\\_3\\textbackslash{}\\_1] 0.000377907892502872\n",
       "\\item[PAY\\textbackslash{}\\_3\\textbackslash{}\\_2] 0.000447918626215764\n",
       "\\item[PAY\\textbackslash{}\\_3\\textbackslash{}\\_3] 0.000507730580639437\n",
       "\\item[PAY\\textbackslash{}\\_3\\textbackslash{}\\_4] 0.000455201157069591\n",
       "\\item[PAY\\textbackslash{}\\_3\\textbackslash{}\\_5] 0.000375826542274963\n",
       "\\item[PAY\\textbackslash{}\\_3\\textbackslash{}\\_6] 0.000545387594666355\n",
       "\\item[PAY\\textbackslash{}\\_3\\textbackslash{}\\_7] 0.00073043715751613\n",
       "\\item[PAY\\textbackslash{}\\_3\\textbackslash{}\\_8] 0.000374253590119793\n",
       "\\item[PAY\\textbackslash{}\\_4\\textbackslash{}\\_.1] -9.59426790896108e-05\n",
       "\\item[PAY\\textbackslash{}\\_4\\textbackslash{}\\_0] -0.000116370430511912\n",
       "\\item[PAY\\textbackslash{}\\_4\\textbackslash{}\\_1] 0.00105590845523258\n",
       "\\item[PAY\\textbackslash{}\\_4\\textbackslash{}\\_2] 0.000452086380678782\n",
       "\\item[PAY\\textbackslash{}\\_4\\textbackslash{}\\_3] 0.000463480660033268\n",
       "\\item[PAY\\textbackslash{}\\_4\\textbackslash{}\\_4] 0.000620368010344244\n",
       "\\item[PAY\\textbackslash{}\\_4\\textbackslash{}\\_5] 0.000375610346793429\n",
       "\\item[PAY\\textbackslash{}\\_4\\textbackslash{}\\_6] 0.000239960698474686\n",
       "\\item[PAY\\textbackslash{}\\_4\\textbackslash{}\\_7] 0.000797274364216931\n",
       "\\item[PAY\\textbackslash{}\\_4\\textbackslash{}\\_8] 0.00105215291130662\n",
       "\\item[PAY\\textbackslash{}\\_5\\textbackslash{}\\_.1] -9.96255799013573e-05\n",
       "\\item[PAY\\textbackslash{}\\_5\\textbackslash{}\\_0] -9.90271340969879e-05\n",
       "\\item[PAY\\textbackslash{}\\_5\\textbackslash{}\\_2] 0.000468989169500363\n",
       "\\item[PAY\\textbackslash{}\\_5\\textbackslash{}\\_3] 0.0005005959091611\n",
       "\\item[PAY\\textbackslash{}\\_5\\textbackslash{}\\_4] 0.000527389118991856\n",
       "\\item[PAY\\textbackslash{}\\_5\\textbackslash{}\\_5] 0.000375455262543528\n",
       "\\item[PAY\\textbackslash{}\\_5\\textbackslash{}\\_6] 0.00105256410920524\n",
       "\\item[PAY\\textbackslash{}\\_5\\textbackslash{}\\_7] 0.000803946319050146\n",
       "\\item[PAY\\textbackslash{}\\_5\\textbackslash{}\\_8] 0.00105179773731335\n",
       "\\item[PAY\\textbackslash{}\\_6\\textbackslash{}\\_.1] -8.59218298415205e-05\n",
       "\\item[PAY\\textbackslash{}\\_6\\textbackslash{}\\_0] -9.97785988350413e-05\n",
       "\\item[PAY\\textbackslash{}\\_6\\textbackslash{}\\_2] 0.000423100739103832\n",
       "\\item[PAY\\textbackslash{}\\_6\\textbackslash{}\\_3] 0.000548619695775662\n",
       "\\item[PAY\\textbackslash{}\\_6\\textbackslash{}\\_4] 0.000586349058588398\n",
       "\\item[PAY\\textbackslash{}\\_6\\textbackslash{}\\_5] 0.00051084307798079\n",
       "\\item[PAY\\textbackslash{}\\_6\\textbackslash{}\\_6] 0.000799535729810381\n",
       "\\item[PAY\\textbackslash{}\\_6\\textbackslash{}\\_7] 0.000762272378119068\n",
       "\\item[PAY\\textbackslash{}\\_6\\textbackslash{}\\_8] 0.00105244151072735\n",
       "\\end{description*}\n"
      ],
      "text/markdown": [
       "(Intercept)\n",
       ":   0.22113736863686LIMIT_BAL\n",
       ":   -6.30971107774688e-10SEX\n",
       ":   -4.07055610702895e-05AGE\n",
       ":   4.54230316923113e-07BILL_AMT1\n",
       ":   -1.49334903663039e-10BILL_AMT2\n",
       ":   -1.01436643070085e-10BILL_AMT3\n",
       ":   -1.09212740768492e-10BILL_AMT4\n",
       ":   -8.76909409300907e-11BILL_AMT5\n",
       ":   -6.94268787293918e-11BILL_AMT6\n",
       ":   -6.10726804743298e-11PAY_AMT1\n",
       ":   -2.76799768518488e-09PAY_AMT2\n",
       ":   -1.51807814927024e-09PAY_AMT3\n",
       ":   -1.72696636086113e-09PAY_AMT4\n",
       ":   -2.34633174269654e-09PAY_AMT5\n",
       ":   -2.19578679515703e-09PAY_AMT6\n",
       ":   -1.68643417334655e-09EDUCATION_1\n",
       ":   -5.26039703496939e-05EDUCATION_2\n",
       ":   3.65510866434684e-05EDUCATION_3\n",
       ":   4.45735542537939e-05EDUCATION_4\n",
       ":   -0.000247073820507802EDUCATION_5\n",
       ":   -0.000212431435356108EDUCATION_6\n",
       ":   -0.000105300328763802MARRIAGE_1\n",
       ":   2.57123379202631e-05MARRIAGE_2\n",
       ":   -2.66814849817014e-05MARRIAGE_3\n",
       ":   5.77637953108908e-05PAY_0_.1\n",
       ":   -8.22413602287489e-05PAY_0_0\n",
       ":   -0.000241025824273258PAY_0_1\n",
       ":   0.000177817388442309PAY_0_2\n",
       ":   0.000683755705260574PAY_0_3\n",
       ":   0.000741976117062352PAY_0_4\n",
       ":   0.000490867146707848PAY_0_5\n",
       ":   0.000412697070865461PAY_0_6\n",
       ":   0.000376496802626274PAY_0_7\n",
       ":   0.000602144851390944PAY_0_8\n",
       ":   0.000532638381850668PAY_2_.1\n",
       ":   -9.82978116358867e-05PAY_2_0\n",
       ":   -0.000174587528410367PAY_2_1\n",
       ":   -1.44378259894663e-05PAY_2_2\n",
       ":   0.000507291994131855PAY_2_3\n",
       ":   0.000482531205800746PAY_2_4\n",
       ":   0.000387463969486089PAY_2_5\n",
       ":   0.00051245789496045PAY_2_6\n",
       ":   0.000602127891694559PAY_2_7\n",
       ":   0.0005324504537397PAY_2_8\n",
       ":   -0.000302053059811994PAY_3_.1\n",
       ":   -0.000104930164675151PAY_3_0\n",
       ":   -0.000135239885659729PAY_3_1\n",
       ":   0.000377907892502872PAY_3_2\n",
       ":   0.000447918626215764PAY_3_3\n",
       ":   0.000507730580639437PAY_3_4\n",
       ":   0.000455201157069591PAY_3_5\n",
       ":   0.000375826542274963PAY_3_6\n",
       ":   0.000545387594666355PAY_3_7\n",
       ":   0.00073043715751613PAY_3_8\n",
       ":   0.000374253590119793PAY_4_.1\n",
       ":   -9.59426790896108e-05PAY_4_0\n",
       ":   -0.000116370430511912PAY_4_1\n",
       ":   0.00105590845523258PAY_4_2\n",
       ":   0.000452086380678782PAY_4_3\n",
       ":   0.000463480660033268PAY_4_4\n",
       ":   0.000620368010344244PAY_4_5\n",
       ":   0.000375610346793429PAY_4_6\n",
       ":   0.000239960698474686PAY_4_7\n",
       ":   0.000797274364216931PAY_4_8\n",
       ":   0.00105215291130662PAY_5_.1\n",
       ":   -9.96255799013573e-05PAY_5_0\n",
       ":   -9.90271340969879e-05PAY_5_2\n",
       ":   0.000468989169500363PAY_5_3\n",
       ":   0.0005005959091611PAY_5_4\n",
       ":   0.000527389118991856PAY_5_5\n",
       ":   0.000375455262543528PAY_5_6\n",
       ":   0.00105256410920524PAY_5_7\n",
       ":   0.000803946319050146PAY_5_8\n",
       ":   0.00105179773731335PAY_6_.1\n",
       ":   -8.59218298415205e-05PAY_6_0\n",
       ":   -9.97785988350413e-05PAY_6_2\n",
       ":   0.000423100739103832PAY_6_3\n",
       ":   0.000548619695775662PAY_6_4\n",
       ":   0.000586349058588398PAY_6_5\n",
       ":   0.00051084307798079PAY_6_6\n",
       ":   0.000799535729810381PAY_6_7\n",
       ":   0.000762272378119068PAY_6_8\n",
       ":   0.00105244151072735\n",
       "\n"
      ],
      "text/plain": [
       "  (Intercept)     LIMIT_BAL           SEX           AGE     BILL_AMT1 \n",
       " 2.211374e-01 -6.309711e-10 -4.070556e-05  4.542303e-07 -1.493349e-10 \n",
       "    BILL_AMT2     BILL_AMT3     BILL_AMT4     BILL_AMT5     BILL_AMT6 \n",
       "-1.014366e-10 -1.092127e-10 -8.769094e-11 -6.942688e-11 -6.107268e-11 \n",
       "     PAY_AMT1      PAY_AMT2      PAY_AMT3      PAY_AMT4      PAY_AMT5 \n",
       "-2.767998e-09 -1.518078e-09 -1.726966e-09 -2.346332e-09 -2.195787e-09 \n",
       "     PAY_AMT6   EDUCATION_1   EDUCATION_2   EDUCATION_3   EDUCATION_4 \n",
       "-1.686434e-09 -5.260397e-05  3.655109e-05  4.457355e-05 -2.470738e-04 \n",
       "  EDUCATION_5   EDUCATION_6    MARRIAGE_1    MARRIAGE_2    MARRIAGE_3 \n",
       "-2.124314e-04 -1.053003e-04  2.571234e-05 -2.668148e-05  5.776380e-05 \n",
       "     PAY_0_.1       PAY_0_0       PAY_0_1       PAY_0_2       PAY_0_3 \n",
       "-8.224136e-05 -2.410258e-04  1.778174e-04  6.837557e-04  7.419761e-04 \n",
       "      PAY_0_4       PAY_0_5       PAY_0_6       PAY_0_7       PAY_0_8 \n",
       " 4.908671e-04  4.126971e-04  3.764968e-04  6.021449e-04  5.326384e-04 \n",
       "     PAY_2_.1       PAY_2_0       PAY_2_1       PAY_2_2       PAY_2_3 \n",
       "-9.829781e-05 -1.745875e-04 -1.443783e-05  5.072920e-04  4.825312e-04 \n",
       "      PAY_2_4       PAY_2_5       PAY_2_6       PAY_2_7       PAY_2_8 \n",
       " 3.874640e-04  5.124579e-04  6.021279e-04  5.324505e-04 -3.020531e-04 \n",
       "     PAY_3_.1       PAY_3_0       PAY_3_1       PAY_3_2       PAY_3_3 \n",
       "-1.049302e-04 -1.352399e-04  3.779079e-04  4.479186e-04  5.077306e-04 \n",
       "      PAY_3_4       PAY_3_5       PAY_3_6       PAY_3_7       PAY_3_8 \n",
       " 4.552012e-04  3.758265e-04  5.453876e-04  7.304372e-04  3.742536e-04 \n",
       "     PAY_4_.1       PAY_4_0       PAY_4_1       PAY_4_2       PAY_4_3 \n",
       "-9.594268e-05 -1.163704e-04  1.055908e-03  4.520864e-04  4.634807e-04 \n",
       "      PAY_4_4       PAY_4_5       PAY_4_6       PAY_4_7       PAY_4_8 \n",
       " 6.203680e-04  3.756103e-04  2.399607e-04  7.972744e-04  1.052153e-03 \n",
       "     PAY_5_.1       PAY_5_0       PAY_5_2       PAY_5_3       PAY_5_4 \n",
       "-9.962558e-05 -9.902713e-05  4.689892e-04  5.005959e-04  5.273891e-04 \n",
       "      PAY_5_5       PAY_5_6       PAY_5_7       PAY_5_8      PAY_6_.1 \n",
       " 3.754553e-04  1.052564e-03  8.039463e-04  1.051798e-03 -8.592183e-05 \n",
       "      PAY_6_0       PAY_6_2       PAY_6_3       PAY_6_4       PAY_6_5 \n",
       "-9.977860e-05  4.231007e-04  5.486197e-04  5.863491e-04  5.108431e-04 \n",
       "      PAY_6_6       PAY_6_7       PAY_6_8 \n",
       " 7.995357e-04  7.622724e-04  1.052442e-03 "
      ]
     },
     "metadata": {},
     "output_type": "display_data"
    },
    {
     "data": {
      "text/html": [
       "0.00414212190736393"
      ],
      "text/latex": [
       "0.00414212190736393"
      ],
      "text/markdown": [
       "0.00414212190736393"
      ],
      "text/plain": [
       "[1] 0.004142122"
      ]
     },
     "metadata": {},
     "output_type": "display_data"
    }
   ],
   "source": [
    "# labmbda for row number 63\n",
    "ridge.mod$lambda[63]\n",
    "# coeficients of lambda\n",
    "coef(ridge.mod)[,63]\n",
    "#sum square of lambda\n",
    "sqrt(sum(coef(ridge.mod)[-1,63]^2))"
   ]
  },
  {
   "cell_type": "code",
   "execution_count": 36,
   "id": "bc92122f",
   "metadata": {},
   "outputs": [
    {
     "data": {
      "text/html": [
       "0.0305385550883341"
      ],
      "text/latex": [
       "0.0305385550883341"
      ],
      "text/markdown": [
       "0.0305385550883341"
      ],
      "text/plain": [
       "[1] 0.03053856"
      ]
     },
     "metadata": {},
     "output_type": "display_data"
    },
    {
     "data": {
      "text/html": [
       "<style>\n",
       ".dl-inline {width: auto; margin:0; padding: 0}\n",
       ".dl-inline>dt, .dl-inline>dd {float: none; width: auto; display: inline-block}\n",
       ".dl-inline>dt::after {content: \":\\0020\"; padding-right: .5ex}\n",
       ".dl-inline>dt:not(:first-of-type) {padding-left: .5ex}\n",
       "</style><dl class=dl-inline><dt>(Intercept)</dt><dd>0.232690778060056</dd><dt>LIMIT_BAL</dt><dd>-2.01258227132126e-07</dd><dt>SEX</dt><dd>-0.0147750861842721</dd><dt>AGE</dt><dd>0.000303217913809818</dd><dt>BILL_AMT1</dt><dd>2.23686803460115e-08</dd><dt>BILL_AMT2</dt><dd>1.64136663929424e-07</dd><dt>BILL_AMT3</dt><dd>1.1063668126035e-07</dd><dt>BILL_AMT4</dt><dd>-3.99137576563e-08</dd><dt>BILL_AMT5</dt><dd>-5.70354548968706e-08</dd><dt>BILL_AMT6</dt><dd>1.46715712853817e-08</dd><dt>PAY_AMT1</dt><dd>-7.62664484715339e-07</dd><dt>PAY_AMT2</dt><dd>-2.78236850934776e-07</dd><dt>PAY_AMT3</dt><dd>-6.09475219196194e-08</dd><dt>PAY_AMT4</dt><dd>-3.86694878321116e-07</dd><dt>PAY_AMT5</dt><dd>-3.84201407975622e-07</dd><dt>PAY_AMT6</dt><dd>-3.36914204189954e-07</dd><dt>EDUCATION_1</dt><dd>0.00266332810359164</dd><dt>EDUCATION_2</dt><dd>0.00635164828594931</dd><dt>EDUCATION_3</dt><dd>0.00123626108983777</dd><dt>EDUCATION_4</dt><dd>-0.106866026000484</dd><dt>EDUCATION_5</dt><dd>-0.104537640390706</dd><dt>EDUCATION_6</dt><dd>-0.025749074818484</dd><dt>MARRIAGE_1</dt><dd>0.014536439662576</dd><dt>MARRIAGE_2</dt><dd>-0.000368659620824322</dd><dt>MARRIAGE_3</dt><dd>0.0333038731322301</dd><dt>PAY_0_.1</dt><dd>0.0242566066279077</dd><dt>PAY_0_0</dt><dd>-0.0558647463647762</dd><dt>PAY_0_1</dt><dd>0.0824523744115385</dd><dt>PAY_0_2</dt><dd>0.339790198973453</dd><dt>PAY_0_3</dt><dd>0.349586703057681</dd><dt>PAY_0_4</dt><dd>0.192420403933676</dd><dt>PAY_0_5</dt><dd>0.153839083972767</dd><dt>PAY_0_6</dt><dd>0.0149213984324477</dd><dt>PAY_0_7</dt><dd>0.138046099676733</dd><dt>PAY_0_8</dt><dd>0.128045073717417</dd><dt>PAY_2_.1</dt><dd>-0.00770208923133072</dd><dt>PAY_2_0</dt><dd>0.00994381907052107</dd><dt>PAY_2_1</dt><dd>-0.0930616917732311</dd><dt>PAY_2_2</dt><dd>0.0526488822881402</dd><dt>PAY_2_3</dt><dd>0.0500363152255098</dd><dt>PAY_2_4</dt><dd>-0.0824876442545654</dd><dt>PAY_2_5</dt><dd>0.298369898104216</dd><dt>PAY_2_6</dt><dd>0.265529143449572</dd><dt>PAY_2_7</dt><dd>0.131955897059531</dd><dt>PAY_2_8</dt><dd>0.111075690929868</dd><dt>PAY_3_.1</dt><dd>-0.0121489614448897</dd><dt>PAY_3_0</dt><dd>-0.00370509061361217</dd><dt>PAY_3_1</dt><dd>-0.100718122443153</dd><dt>PAY_3_2</dt><dd>0.0648221028474373</dd><dt>PAY_3_3</dt><dd>0.115071066293625</dd><dt>PAY_3_4</dt><dd>-0.0883169974284363</dd><dt>PAY_3_5</dt><dd>-0.184385274081786</dd><dt>PAY_3_6</dt><dd>0.198762373557712</dd><dt>PAY_3_7</dt><dd>-0.0396519518316079</dd><dt>PAY_3_8</dt><dd>-0.640899699573371</dd><dt>PAY_4_.1</dt><dd>-0.00418559338933893</dd><dt>PAY_4_0</dt><dd>-0.00585886172256873</dd><dt>PAY_4_1</dt><dd>0.785105035818819</dd><dt>PAY_4_2</dt><dd>0.0549146036650611</dd><dt>PAY_4_3</dt><dd>0.00598066738927041</dd><dt>PAY_4_4</dt><dd>0.162171081216623</dd><dt>PAY_4_5</dt><dd>-0.174348412508205</dd><dt>PAY_4_6</dt><dd>-0.398142553992838</dd><dt>PAY_4_7</dt><dd>-0.00363769806078605</dd><dt>PAY_4_8</dt><dd>0.0798814029670851</dd><dt>PAY_5_.1</dt><dd>-0.0188765894864011</dd><dt>PAY_5_0</dt><dd>0.00244094062307547</dd><dt>PAY_5_2</dt><dd>0.055420988828595</dd><dt>PAY_5_3</dt><dd>0.000336947609683629</dd><dt>PAY_5_4</dt><dd>-0.0379465906797715</dd><dt>PAY_5_5</dt><dd>-0.0618205490645747</dd><dt>PAY_5_6</dt><dd>0.365265749943055</dd><dt>PAY_5_7</dt><dd>0.160937775740185</dd><dt>PAY_5_8</dt><dd>0.0991118058397994</dd><dt>PAY_6_.1</dt><dd>-0.0128115438298359</dd><dt>PAY_6_0</dt><dd>-0.033611498852725</dd><dt>PAY_6_2</dt><dd>0.0440054574605302</dd><dt>PAY_6_3</dt><dd>0.120860372270031</dd><dt>PAY_6_4</dt><dd>0.0734377594680061</dd><dt>PAY_6_5</dt><dd>-0.010583758976078</dd><dt>PAY_6_6</dt><dd>0.231283241201226</dd><dt>PAY_6_7</dt><dd>0.00450209157349889</dd><dt>PAY_6_8</dt><dd>0.819354177895067</dd></dl>\n"
      ],
      "text/latex": [
       "\\begin{description*}\n",
       "\\item[(Intercept)] 0.232690778060056\n",
       "\\item[LIMIT\\textbackslash{}\\_BAL] -2.01258227132126e-07\n",
       "\\item[SEX] -0.0147750861842721\n",
       "\\item[AGE] 0.000303217913809818\n",
       "\\item[BILL\\textbackslash{}\\_AMT1] 2.23686803460115e-08\n",
       "\\item[BILL\\textbackslash{}\\_AMT2] 1.64136663929424e-07\n",
       "\\item[BILL\\textbackslash{}\\_AMT3] 1.1063668126035e-07\n",
       "\\item[BILL\\textbackslash{}\\_AMT4] -3.99137576563e-08\n",
       "\\item[BILL\\textbackslash{}\\_AMT5] -5.70354548968706e-08\n",
       "\\item[BILL\\textbackslash{}\\_AMT6] 1.46715712853817e-08\n",
       "\\item[PAY\\textbackslash{}\\_AMT1] -7.62664484715339e-07\n",
       "\\item[PAY\\textbackslash{}\\_AMT2] -2.78236850934776e-07\n",
       "\\item[PAY\\textbackslash{}\\_AMT3] -6.09475219196194e-08\n",
       "\\item[PAY\\textbackslash{}\\_AMT4] -3.86694878321116e-07\n",
       "\\item[PAY\\textbackslash{}\\_AMT5] -3.84201407975622e-07\n",
       "\\item[PAY\\textbackslash{}\\_AMT6] -3.36914204189954e-07\n",
       "\\item[EDUCATION\\textbackslash{}\\_1] 0.00266332810359164\n",
       "\\item[EDUCATION\\textbackslash{}\\_2] 0.00635164828594931\n",
       "\\item[EDUCATION\\textbackslash{}\\_3] 0.00123626108983777\n",
       "\\item[EDUCATION\\textbackslash{}\\_4] -0.106866026000484\n",
       "\\item[EDUCATION\\textbackslash{}\\_5] -0.104537640390706\n",
       "\\item[EDUCATION\\textbackslash{}\\_6] -0.025749074818484\n",
       "\\item[MARRIAGE\\textbackslash{}\\_1] 0.014536439662576\n",
       "\\item[MARRIAGE\\textbackslash{}\\_2] -0.000368659620824322\n",
       "\\item[MARRIAGE\\textbackslash{}\\_3] 0.0333038731322301\n",
       "\\item[PAY\\textbackslash{}\\_0\\textbackslash{}\\_.1] 0.0242566066279077\n",
       "\\item[PAY\\textbackslash{}\\_0\\textbackslash{}\\_0] -0.0558647463647762\n",
       "\\item[PAY\\textbackslash{}\\_0\\textbackslash{}\\_1] 0.0824523744115385\n",
       "\\item[PAY\\textbackslash{}\\_0\\textbackslash{}\\_2] 0.339790198973453\n",
       "\\item[PAY\\textbackslash{}\\_0\\textbackslash{}\\_3] 0.349586703057681\n",
       "\\item[PAY\\textbackslash{}\\_0\\textbackslash{}\\_4] 0.192420403933676\n",
       "\\item[PAY\\textbackslash{}\\_0\\textbackslash{}\\_5] 0.153839083972767\n",
       "\\item[PAY\\textbackslash{}\\_0\\textbackslash{}\\_6] 0.0149213984324477\n",
       "\\item[PAY\\textbackslash{}\\_0\\textbackslash{}\\_7] 0.138046099676733\n",
       "\\item[PAY\\textbackslash{}\\_0\\textbackslash{}\\_8] 0.128045073717417\n",
       "\\item[PAY\\textbackslash{}\\_2\\textbackslash{}\\_.1] -0.00770208923133072\n",
       "\\item[PAY\\textbackslash{}\\_2\\textbackslash{}\\_0] 0.00994381907052107\n",
       "\\item[PAY\\textbackslash{}\\_2\\textbackslash{}\\_1] -0.0930616917732311\n",
       "\\item[PAY\\textbackslash{}\\_2\\textbackslash{}\\_2] 0.0526488822881402\n",
       "\\item[PAY\\textbackslash{}\\_2\\textbackslash{}\\_3] 0.0500363152255098\n",
       "\\item[PAY\\textbackslash{}\\_2\\textbackslash{}\\_4] -0.0824876442545654\n",
       "\\item[PAY\\textbackslash{}\\_2\\textbackslash{}\\_5] 0.298369898104216\n",
       "\\item[PAY\\textbackslash{}\\_2\\textbackslash{}\\_6] 0.265529143449572\n",
       "\\item[PAY\\textbackslash{}\\_2\\textbackslash{}\\_7] 0.131955897059531\n",
       "\\item[PAY\\textbackslash{}\\_2\\textbackslash{}\\_8] 0.111075690929868\n",
       "\\item[PAY\\textbackslash{}\\_3\\textbackslash{}\\_.1] -0.0121489614448897\n",
       "\\item[PAY\\textbackslash{}\\_3\\textbackslash{}\\_0] -0.00370509061361217\n",
       "\\item[PAY\\textbackslash{}\\_3\\textbackslash{}\\_1] -0.100718122443153\n",
       "\\item[PAY\\textbackslash{}\\_3\\textbackslash{}\\_2] 0.0648221028474373\n",
       "\\item[PAY\\textbackslash{}\\_3\\textbackslash{}\\_3] 0.115071066293625\n",
       "\\item[PAY\\textbackslash{}\\_3\\textbackslash{}\\_4] -0.0883169974284363\n",
       "\\item[PAY\\textbackslash{}\\_3\\textbackslash{}\\_5] -0.184385274081786\n",
       "\\item[PAY\\textbackslash{}\\_3\\textbackslash{}\\_6] 0.198762373557712\n",
       "\\item[PAY\\textbackslash{}\\_3\\textbackslash{}\\_7] -0.0396519518316079\n",
       "\\item[PAY\\textbackslash{}\\_3\\textbackslash{}\\_8] -0.640899699573371\n",
       "\\item[PAY\\textbackslash{}\\_4\\textbackslash{}\\_.1] -0.00418559338933893\n",
       "\\item[PAY\\textbackslash{}\\_4\\textbackslash{}\\_0] -0.00585886172256873\n",
       "\\item[PAY\\textbackslash{}\\_4\\textbackslash{}\\_1] 0.785105035818819\n",
       "\\item[PAY\\textbackslash{}\\_4\\textbackslash{}\\_2] 0.0549146036650611\n",
       "\\item[PAY\\textbackslash{}\\_4\\textbackslash{}\\_3] 0.00598066738927041\n",
       "\\item[PAY\\textbackslash{}\\_4\\textbackslash{}\\_4] 0.162171081216623\n",
       "\\item[PAY\\textbackslash{}\\_4\\textbackslash{}\\_5] -0.174348412508205\n",
       "\\item[PAY\\textbackslash{}\\_4\\textbackslash{}\\_6] -0.398142553992838\n",
       "\\item[PAY\\textbackslash{}\\_4\\textbackslash{}\\_7] -0.00363769806078605\n",
       "\\item[PAY\\textbackslash{}\\_4\\textbackslash{}\\_8] 0.0798814029670851\n",
       "\\item[PAY\\textbackslash{}\\_5\\textbackslash{}\\_.1] -0.0188765894864011\n",
       "\\item[PAY\\textbackslash{}\\_5\\textbackslash{}\\_0] 0.00244094062307547\n",
       "\\item[PAY\\textbackslash{}\\_5\\textbackslash{}\\_2] 0.055420988828595\n",
       "\\item[PAY\\textbackslash{}\\_5\\textbackslash{}\\_3] 0.000336947609683629\n",
       "\\item[PAY\\textbackslash{}\\_5\\textbackslash{}\\_4] -0.0379465906797715\n",
       "\\item[PAY\\textbackslash{}\\_5\\textbackslash{}\\_5] -0.0618205490645747\n",
       "\\item[PAY\\textbackslash{}\\_5\\textbackslash{}\\_6] 0.365265749943055\n",
       "\\item[PAY\\textbackslash{}\\_5\\textbackslash{}\\_7] 0.160937775740185\n",
       "\\item[PAY\\textbackslash{}\\_5\\textbackslash{}\\_8] 0.0991118058397994\n",
       "\\item[PAY\\textbackslash{}\\_6\\textbackslash{}\\_.1] -0.0128115438298359\n",
       "\\item[PAY\\textbackslash{}\\_6\\textbackslash{}\\_0] -0.033611498852725\n",
       "\\item[PAY\\textbackslash{}\\_6\\textbackslash{}\\_2] 0.0440054574605302\n",
       "\\item[PAY\\textbackslash{}\\_6\\textbackslash{}\\_3] 0.120860372270031\n",
       "\\item[PAY\\textbackslash{}\\_6\\textbackslash{}\\_4] 0.0734377594680061\n",
       "\\item[PAY\\textbackslash{}\\_6\\textbackslash{}\\_5] -0.010583758976078\n",
       "\\item[PAY\\textbackslash{}\\_6\\textbackslash{}\\_6] 0.231283241201226\n",
       "\\item[PAY\\textbackslash{}\\_6\\textbackslash{}\\_7] 0.00450209157349889\n",
       "\\item[PAY\\textbackslash{}\\_6\\textbackslash{}\\_8] 0.819354177895067\n",
       "\\end{description*}\n"
      ],
      "text/markdown": [
       "(Intercept)\n",
       ":   0.232690778060056LIMIT_BAL\n",
       ":   -2.01258227132126e-07SEX\n",
       ":   -0.0147750861842721AGE\n",
       ":   0.000303217913809818BILL_AMT1\n",
       ":   2.23686803460115e-08BILL_AMT2\n",
       ":   1.64136663929424e-07BILL_AMT3\n",
       ":   1.1063668126035e-07BILL_AMT4\n",
       ":   -3.99137576563e-08BILL_AMT5\n",
       ":   -5.70354548968706e-08BILL_AMT6\n",
       ":   1.46715712853817e-08PAY_AMT1\n",
       ":   -7.62664484715339e-07PAY_AMT2\n",
       ":   -2.78236850934776e-07PAY_AMT3\n",
       ":   -6.09475219196194e-08PAY_AMT4\n",
       ":   -3.86694878321116e-07PAY_AMT5\n",
       ":   -3.84201407975622e-07PAY_AMT6\n",
       ":   -3.36914204189954e-07EDUCATION_1\n",
       ":   0.00266332810359164EDUCATION_2\n",
       ":   0.00635164828594931EDUCATION_3\n",
       ":   0.00123626108983777EDUCATION_4\n",
       ":   -0.106866026000484EDUCATION_5\n",
       ":   -0.104537640390706EDUCATION_6\n",
       ":   -0.025749074818484MARRIAGE_1\n",
       ":   0.014536439662576MARRIAGE_2\n",
       ":   -0.000368659620824322MARRIAGE_3\n",
       ":   0.0333038731322301PAY_0_.1\n",
       ":   0.0242566066279077PAY_0_0\n",
       ":   -0.0558647463647762PAY_0_1\n",
       ":   0.0824523744115385PAY_0_2\n",
       ":   0.339790198973453PAY_0_3\n",
       ":   0.349586703057681PAY_0_4\n",
       ":   0.192420403933676PAY_0_5\n",
       ":   0.153839083972767PAY_0_6\n",
       ":   0.0149213984324477PAY_0_7\n",
       ":   0.138046099676733PAY_0_8\n",
       ":   0.128045073717417PAY_2_.1\n",
       ":   -0.00770208923133072PAY_2_0\n",
       ":   0.00994381907052107PAY_2_1\n",
       ":   -0.0930616917732311PAY_2_2\n",
       ":   0.0526488822881402PAY_2_3\n",
       ":   0.0500363152255098PAY_2_4\n",
       ":   -0.0824876442545654PAY_2_5\n",
       ":   0.298369898104216PAY_2_6\n",
       ":   0.265529143449572PAY_2_7\n",
       ":   0.131955897059531PAY_2_8\n",
       ":   0.111075690929868PAY_3_.1\n",
       ":   -0.0121489614448897PAY_3_0\n",
       ":   -0.00370509061361217PAY_3_1\n",
       ":   -0.100718122443153PAY_3_2\n",
       ":   0.0648221028474373PAY_3_3\n",
       ":   0.115071066293625PAY_3_4\n",
       ":   -0.0883169974284363PAY_3_5\n",
       ":   -0.184385274081786PAY_3_6\n",
       ":   0.198762373557712PAY_3_7\n",
       ":   -0.0396519518316079PAY_3_8\n",
       ":   -0.640899699573371PAY_4_.1\n",
       ":   -0.00418559338933893PAY_4_0\n",
       ":   -0.00585886172256873PAY_4_1\n",
       ":   0.785105035818819PAY_4_2\n",
       ":   0.0549146036650611PAY_4_3\n",
       ":   0.00598066738927041PAY_4_4\n",
       ":   0.162171081216623PAY_4_5\n",
       ":   -0.174348412508205PAY_4_6\n",
       ":   -0.398142553992838PAY_4_7\n",
       ":   -0.00363769806078605PAY_4_8\n",
       ":   0.0798814029670851PAY_5_.1\n",
       ":   -0.0188765894864011PAY_5_0\n",
       ":   0.00244094062307547PAY_5_2\n",
       ":   0.055420988828595PAY_5_3\n",
       ":   0.000336947609683629PAY_5_4\n",
       ":   -0.0379465906797715PAY_5_5\n",
       ":   -0.0618205490645747PAY_5_6\n",
       ":   0.365265749943055PAY_5_7\n",
       ":   0.160937775740185PAY_5_8\n",
       ":   0.0991118058397994PAY_6_.1\n",
       ":   -0.0128115438298359PAY_6_0\n",
       ":   -0.033611498852725PAY_6_2\n",
       ":   0.0440054574605302PAY_6_3\n",
       ":   0.120860372270031PAY_6_4\n",
       ":   0.0734377594680061PAY_6_5\n",
       ":   -0.010583758976078PAY_6_6\n",
       ":   0.231283241201226PAY_6_7\n",
       ":   0.00450209157349889PAY_6_8\n",
       ":   0.819354177895067\n",
       "\n"
      ],
      "text/plain": [
       "  (Intercept)     LIMIT_BAL           SEX           AGE     BILL_AMT1 \n",
       " 2.326908e-01 -2.012582e-07 -1.477509e-02  3.032179e-04  2.236868e-08 \n",
       "    BILL_AMT2     BILL_AMT3     BILL_AMT4     BILL_AMT5     BILL_AMT6 \n",
       " 1.641367e-07  1.106367e-07 -3.991376e-08 -5.703545e-08  1.467157e-08 \n",
       "     PAY_AMT1      PAY_AMT2      PAY_AMT3      PAY_AMT4      PAY_AMT5 \n",
       "-7.626645e-07 -2.782369e-07 -6.094752e-08 -3.866949e-07 -3.842014e-07 \n",
       "     PAY_AMT6   EDUCATION_1   EDUCATION_2   EDUCATION_3   EDUCATION_4 \n",
       "-3.369142e-07  2.663328e-03  6.351648e-03  1.236261e-03 -1.068660e-01 \n",
       "  EDUCATION_5   EDUCATION_6    MARRIAGE_1    MARRIAGE_2    MARRIAGE_3 \n",
       "-1.045376e-01 -2.574907e-02  1.453644e-02 -3.686596e-04  3.330387e-02 \n",
       "     PAY_0_.1       PAY_0_0       PAY_0_1       PAY_0_2       PAY_0_3 \n",
       " 2.425661e-02 -5.586475e-02  8.245237e-02  3.397902e-01  3.495867e-01 \n",
       "      PAY_0_4       PAY_0_5       PAY_0_6       PAY_0_7       PAY_0_8 \n",
       " 1.924204e-01  1.538391e-01  1.492140e-02  1.380461e-01  1.280451e-01 \n",
       "     PAY_2_.1       PAY_2_0       PAY_2_1       PAY_2_2       PAY_2_3 \n",
       "-7.702089e-03  9.943819e-03 -9.306169e-02  5.264888e-02  5.003632e-02 \n",
       "      PAY_2_4       PAY_2_5       PAY_2_6       PAY_2_7       PAY_2_8 \n",
       "-8.248764e-02  2.983699e-01  2.655291e-01  1.319559e-01  1.110757e-01 \n",
       "     PAY_3_.1       PAY_3_0       PAY_3_1       PAY_3_2       PAY_3_3 \n",
       "-1.214896e-02 -3.705091e-03 -1.007181e-01  6.482210e-02  1.150711e-01 \n",
       "      PAY_3_4       PAY_3_5       PAY_3_6       PAY_3_7       PAY_3_8 \n",
       "-8.831700e-02 -1.843853e-01  1.987624e-01 -3.965195e-02 -6.408997e-01 \n",
       "     PAY_4_.1       PAY_4_0       PAY_4_1       PAY_4_2       PAY_4_3 \n",
       "-4.185593e-03 -5.858862e-03  7.851050e-01  5.491460e-02  5.980667e-03 \n",
       "      PAY_4_4       PAY_4_5       PAY_4_6       PAY_4_7       PAY_4_8 \n",
       " 1.621711e-01 -1.743484e-01 -3.981426e-01 -3.637698e-03  7.988140e-02 \n",
       "     PAY_5_.1       PAY_5_0       PAY_5_2       PAY_5_3       PAY_5_4 \n",
       "-1.887659e-02  2.440941e-03  5.542099e-02  3.369476e-04 -3.794659e-02 \n",
       "      PAY_5_5       PAY_5_6       PAY_5_7       PAY_5_8      PAY_6_.1 \n",
       "-6.182055e-02  3.652657e-01  1.609378e-01  9.911181e-02 -1.281154e-02 \n",
       "      PAY_6_0       PAY_6_2       PAY_6_3       PAY_6_4       PAY_6_5 \n",
       "-3.361150e-02  4.400546e-02  1.208604e-01  7.343776e-02 -1.058376e-02 \n",
       "      PAY_6_6       PAY_6_7       PAY_6_8 \n",
       " 2.312832e-01  4.502092e-03  8.193542e-01 "
      ]
     },
     "metadata": {},
     "output_type": "display_data"
    },
    {
     "data": {
      "text/html": [
       "1.69346852998307"
      ],
      "text/latex": [
       "1.69346852998307"
      ],
      "text/markdown": [
       "1.69346852998307"
      ],
      "text/plain": [
       "[1] 1.693469"
      ]
     },
     "metadata": {},
     "output_type": "display_data"
    }
   ],
   "source": [
    "# labmbda for row number 96\n",
    "ridge.mod$lambda[96]\n",
    "# coeficients of lambda\n",
    "coef(ridge.mod)[,96]\n",
    "#sum square of lambda\n",
    "sqrt(sum(coef(ridge.mod)[-1,96]^2))"
   ]
  },
  {
   "cell_type": "code",
   "execution_count": 37,
   "id": "57d73f23",
   "metadata": {},
   "outputs": [
    {
     "data": {
      "text/html": [
       "<style>\n",
       ".dl-inline {width: auto; margin:0; padding: 0}\n",
       ".dl-inline>dt, .dl-inline>dd {float: none; width: auto; display: inline-block}\n",
       ".dl-inline>dt::after {content: \":\\0020\"; padding-right: .5ex}\n",
       ".dl-inline>dt:not(:first-of-type) {padding-left: .5ex}\n",
       "</style><dl class=dl-inline><dt>(Intercept)</dt><dd>0.222776919221575</dd><dt>LIMIT_BAL</dt><dd>-3.0459722428471e-09</dd><dt>SEX</dt><dd>-0.000197834800088121</dd><dt>AGE</dt><dd>2.21479118953338e-06</dd><dt>BILL_AMT1</dt><dd>-6.66403741585854e-10</dd><dt>BILL_AMT2</dt><dd>-4.3098326529041e-10</dd><dt>BILL_AMT3</dt><dd>-4.70350533155074e-10</dd><dt>BILL_AMT4</dt><dd>-3.67096666168294e-10</dd><dt>BILL_AMT5</dt><dd>-2.80687137933066e-10</dd><dt>BILL_AMT6</dt><dd>-2.40540006973756e-10</dd><dt>PAY_AMT1</dt><dd>-1.33193183642847e-08</dd><dt>PAY_AMT2</dt><dd>-7.29785626521918e-09</dd><dt>PAY_AMT3</dt><dd>-8.26978545592308e-09</dd><dt>PAY_AMT4</dt><dd>-1.12971281083563e-08</dd><dt>PAY_AMT5</dt><dd>-1.0545568524491e-08</dd><dt>PAY_AMT6</dt><dd>-8.1084244050325e-09</dd><dt>EDUCATION_1</dt><dd>-0.000252956756835833</dd><dt>EDUCATION_2</dt><dd>0.000176358891720878</dd><dt>EDUCATION_3</dt><dd>0.00021449869298047</dd><dt>EDUCATION_4</dt><dd>-0.00120248519924455</dd><dt>EDUCATION_5</dt><dd>-0.00103146759565567</dd><dt>EDUCATION_6</dt><dd>-0.000504535559514335</dd><dt>MARRIAGE_1</dt><dd>0.000124505941238427</dd><dt>MARRIAGE_2</dt><dd>-0.000129117603392826</dd><dt>MARRIAGE_3</dt><dd>0.000281527694624628</dd><dt>PAY_0_.1</dt><dd>-0.000397034549416969</dd><dt>PAY_0_0</dt><dd>-0.00116064080038117</dd><dt>PAY_0_1</dt><dd>0.000851227036451123</dd><dt>PAY_0_2</dt><dd>0.00331860228027912</dd><dt>PAY_0_3</dt><dd>0.00358640438972062</dd></dl>\n"
      ],
      "text/latex": [
       "\\begin{description*}\n",
       "\\item[(Intercept)] 0.222776919221575\n",
       "\\item[LIMIT\\textbackslash{}\\_BAL] -3.0459722428471e-09\n",
       "\\item[SEX] -0.000197834800088121\n",
       "\\item[AGE] 2.21479118953338e-06\n",
       "\\item[BILL\\textbackslash{}\\_AMT1] -6.66403741585854e-10\n",
       "\\item[BILL\\textbackslash{}\\_AMT2] -4.3098326529041e-10\n",
       "\\item[BILL\\textbackslash{}\\_AMT3] -4.70350533155074e-10\n",
       "\\item[BILL\\textbackslash{}\\_AMT4] -3.67096666168294e-10\n",
       "\\item[BILL\\textbackslash{}\\_AMT5] -2.80687137933066e-10\n",
       "\\item[BILL\\textbackslash{}\\_AMT6] -2.40540006973756e-10\n",
       "\\item[PAY\\textbackslash{}\\_AMT1] -1.33193183642847e-08\n",
       "\\item[PAY\\textbackslash{}\\_AMT2] -7.29785626521918e-09\n",
       "\\item[PAY\\textbackslash{}\\_AMT3] -8.26978545592308e-09\n",
       "\\item[PAY\\textbackslash{}\\_AMT4] -1.12971281083563e-08\n",
       "\\item[PAY\\textbackslash{}\\_AMT5] -1.0545568524491e-08\n",
       "\\item[PAY\\textbackslash{}\\_AMT6] -8.1084244050325e-09\n",
       "\\item[EDUCATION\\textbackslash{}\\_1] -0.000252956756835833\n",
       "\\item[EDUCATION\\textbackslash{}\\_2] 0.000176358891720878\n",
       "\\item[EDUCATION\\textbackslash{}\\_3] 0.00021449869298047\n",
       "\\item[EDUCATION\\textbackslash{}\\_4] -0.00120248519924455\n",
       "\\item[EDUCATION\\textbackslash{}\\_5] -0.00103146759565567\n",
       "\\item[EDUCATION\\textbackslash{}\\_6] -0.000504535559514335\n",
       "\\item[MARRIAGE\\textbackslash{}\\_1] 0.000124505941238427\n",
       "\\item[MARRIAGE\\textbackslash{}\\_2] -0.000129117603392826\n",
       "\\item[MARRIAGE\\textbackslash{}\\_3] 0.000281527694624628\n",
       "\\item[PAY\\textbackslash{}\\_0\\textbackslash{}\\_.1] -0.000397034549416969\n",
       "\\item[PAY\\textbackslash{}\\_0\\textbackslash{}\\_0] -0.00116064080038117\n",
       "\\item[PAY\\textbackslash{}\\_0\\textbackslash{}\\_1] 0.000851227036451123\n",
       "\\item[PAY\\textbackslash{}\\_0\\textbackslash{}\\_2] 0.00331860228027912\n",
       "\\item[PAY\\textbackslash{}\\_0\\textbackslash{}\\_3] 0.00358640438972062\n",
       "\\end{description*}\n"
      ],
      "text/markdown": [
       "(Intercept)\n",
       ":   0.222776919221575LIMIT_BAL\n",
       ":   -3.0459722428471e-09SEX\n",
       ":   -0.000197834800088121AGE\n",
       ":   2.21479118953338e-06BILL_AMT1\n",
       ":   -6.66403741585854e-10BILL_AMT2\n",
       ":   -4.3098326529041e-10BILL_AMT3\n",
       ":   -4.70350533155074e-10BILL_AMT4\n",
       ":   -3.67096666168294e-10BILL_AMT5\n",
       ":   -2.80687137933066e-10BILL_AMT6\n",
       ":   -2.40540006973756e-10PAY_AMT1\n",
       ":   -1.33193183642847e-08PAY_AMT2\n",
       ":   -7.29785626521918e-09PAY_AMT3\n",
       ":   -8.26978545592308e-09PAY_AMT4\n",
       ":   -1.12971281083563e-08PAY_AMT5\n",
       ":   -1.0545568524491e-08PAY_AMT6\n",
       ":   -8.1084244050325e-09EDUCATION_1\n",
       ":   -0.000252956756835833EDUCATION_2\n",
       ":   0.000176358891720878EDUCATION_3\n",
       ":   0.00021449869298047EDUCATION_4\n",
       ":   -0.00120248519924455EDUCATION_5\n",
       ":   -0.00103146759565567EDUCATION_6\n",
       ":   -0.000504535559514335MARRIAGE_1\n",
       ":   0.000124505941238427MARRIAGE_2\n",
       ":   -0.000129117603392826MARRIAGE_3\n",
       ":   0.000281527694624628PAY_0_.1\n",
       ":   -0.000397034549416969PAY_0_0\n",
       ":   -0.00116064080038117PAY_0_1\n",
       ":   0.000851227036451123PAY_0_2\n",
       ":   0.00331860228027912PAY_0_3\n",
       ":   0.00358640438972062\n",
       "\n"
      ],
      "text/plain": [
       "  (Intercept)     LIMIT_BAL           SEX           AGE     BILL_AMT1 \n",
       " 2.227769e-01 -3.045972e-09 -1.978348e-04  2.214791e-06 -6.664037e-10 \n",
       "    BILL_AMT2     BILL_AMT3     BILL_AMT4     BILL_AMT5     BILL_AMT6 \n",
       "-4.309833e-10 -4.703505e-10 -3.670967e-10 -2.806871e-10 -2.405400e-10 \n",
       "     PAY_AMT1      PAY_AMT2      PAY_AMT3      PAY_AMT4      PAY_AMT5 \n",
       "-1.331932e-08 -7.297856e-09 -8.269785e-09 -1.129713e-08 -1.054557e-08 \n",
       "     PAY_AMT6   EDUCATION_1   EDUCATION_2   EDUCATION_3   EDUCATION_4 \n",
       "-8.108424e-09 -2.529568e-04  1.763589e-04  2.144987e-04 -1.202485e-03 \n",
       "  EDUCATION_5   EDUCATION_6    MARRIAGE_1    MARRIAGE_2    MARRIAGE_3 \n",
       "-1.031468e-03 -5.045356e-04  1.245059e-04 -1.291176e-04  2.815277e-04 \n",
       "     PAY_0_.1       PAY_0_0       PAY_0_1       PAY_0_2       PAY_0_3 \n",
       "-3.970345e-04 -1.160641e-03  8.512270e-04  3.318602e-03  3.586404e-03 "
      ]
     },
     "metadata": {},
     "output_type": "display_data"
    }
   ],
   "source": [
    "#predict for l = 63\n",
    "predict(ridge.mod,s=63,type=\"coefficients\")[1:30,]"
   ]
  },
  {
   "cell_type": "code",
   "execution_count": 38,
   "id": "45314004",
   "metadata": {},
   "outputs": [],
   "source": [
    "#spliting data to train and test\n",
    "set.seed(613)\n",
    "train=sample(1:nrow(x), nrow(x)/3)\n",
    "test=(-train)\n",
    "y.test=y[test]"
   ]
  },
  {
   "cell_type": "code",
   "execution_count": 39,
   "id": "8033553f",
   "metadata": {},
   "outputs": [
    {
     "data": {
      "text/html": [
       "0.1563074326259"
      ],
      "text/latex": [
       "0.1563074326259"
      ],
      "text/markdown": [
       "0.1563074326259"
      ],
      "text/plain": [
       "[1] 0.1563074"
      ]
     },
     "metadata": {},
     "output_type": "display_data"
    }
   ],
   "source": [
    "#fiting and evaluating the MSE\n",
    "ridge.mod=glmnet(x[train,],y[train],alpha=0,lambda=grid, thresh=1e-12)\n",
    "ridge.pred=predict(ridge.mod,s=4,newx=x[test,])\n",
    "# MSE of test\n",
    "mean((ridge.pred-y.test)^2)"
   ]
  },
  {
   "cell_type": "code",
   "execution_count": 40,
   "id": "bb68e650",
   "metadata": {},
   "outputs": [
    {
     "data": {
      "text/html": [
       "0.17170814963686"
      ],
      "text/latex": [
       "0.17170814963686"
      ],
      "text/markdown": [
       "0.17170814963686"
      ],
      "text/plain": [
       "[1] 0.1717081"
      ]
     },
     "metadata": {},
     "output_type": "display_data"
    }
   ],
   "source": [
    "# MSE of test set\n",
    "mean((mean(y[train])-y.test)^2)"
   ]
  },
  {
   "cell_type": "code",
   "execution_count": 41,
   "id": "273a10c4",
   "metadata": {},
   "outputs": [
    {
     "data": {
      "text/html": [
       "0.171708149626399"
      ],
      "text/latex": [
       "0.171708149626399"
      ],
      "text/markdown": [
       "0.171708149626399"
      ],
      "text/plain": [
       "[1] 0.1717081"
      ]
     },
     "metadata": {},
     "output_type": "display_data"
    }
   ],
   "source": [
    "#fitting ridge by large number of lambda\n",
    "ridge.pred=predict(ridge.mod,s=1e10,newx=x[test,])\n",
    "# MSE result\n",
    "mean((ridge.pred-y.test)^2)"
   ]
  },
  {
   "cell_type": "code",
   "execution_count": 42,
   "id": "e92fea42",
   "metadata": {},
   "outputs": [
    {
     "data": {
      "text/html": [
       "0.138531569030224"
      ],
      "text/latex": [
       "0.138531569030224"
      ],
      "text/markdown": [
       "0.138531569030224"
      ],
      "text/plain": [
       "[1] 0.1385316"
      ]
     },
     "metadata": {},
     "output_type": "display_data"
    }
   ],
   "source": [
    "#predictng by new mdel\n",
    "ridge.pred=predict(ridge.mod,s=0,newx=x[test,])\n",
    "mean((ridge.pred-y.test)^2)"
   ]
  },
  {
   "cell_type": "code",
   "execution_count": 43,
   "id": "90ea063f",
   "metadata": {},
   "outputs": [
    {
     "data": {
      "text/plain": [
       "\n",
       "Call:  glm(formula = y ~ x, family = \"binomial\", subset = train)\n",
       "\n",
       "Coefficients:\n",
       " (Intercept)    xLIMIT_BAL          xSEX          xAGE    xBILL_AMT1  \n",
       "  -2.842e+00    -1.730e-06    -1.659e-01     3.869e-03    -8.213e-07  \n",
       "  xBILL_AMT2    xBILL_AMT3    xBILL_AMT4    xBILL_AMT5    xBILL_AMT6  \n",
       "   3.758e-06     4.147e-07     2.426e-06    -3.364e-06    -1.001e-07  \n",
       "   xPAY_AMT1     xPAY_AMT2     xPAY_AMT3     xPAY_AMT4     xPAY_AMT5  \n",
       "  -1.468e-05    -8.029e-06    -4.058e-06    -2.349e-06    -1.754e-06  \n",
       "   xPAY_AMT6  xEDUCATION_1  xEDUCATION_2  xEDUCATION_3  xEDUCATION_4  \n",
       "  -5.717e-06    -2.227e-01    -2.727e-01    -3.740e-01    -1.822e+00  \n",
       "xEDUCATION_5  xEDUCATION_6   xMARRIAGE_1   xMARRIAGE_2   xMARRIAGE_3  \n",
       "  -1.198e+00            NA     2.259e+00     2.095e+00     2.528e+00  \n",
       "   xPAY_0_.1      xPAY_0_0      xPAY_0_1      xPAY_0_2      xPAY_0_3  \n",
       "   7.864e-01     4.610e-02     8.157e-01     2.115e+00     2.082e+00  \n",
       "    xPAY_0_4      xPAY_0_5      xPAY_0_6      xPAY_0_7      xPAY_0_8  \n",
       "   8.770e-01     5.736e-01    -1.444e+01     3.016e+01     3.141e+01  \n",
       "   xPAY_2_.1      xPAY_2_0      xPAY_2_1      xPAY_2_2      xPAY_2_3  \n",
       "  -6.075e-01    -4.232e-01    -8.279e-01    -2.133e-01    -4.867e-01  \n",
       "    xPAY_2_4      xPAY_2_5      xPAY_2_6      xPAY_2_7      xPAY_2_8  \n",
       "  -8.654e-01     4.020e-01    -1.624e+01            NA            NA  \n",
       "   xPAY_3_.1      xPAY_3_0      xPAY_3_1      xPAY_3_2      xPAY_3_3  \n",
       "   1.846e-01     2.630e-01    -1.273e+01     5.223e-01     1.149e+00  \n",
       "    xPAY_3_4      xPAY_3_5      xPAY_3_6      xPAY_3_7      xPAY_3_8  \n",
       "   1.242e-01     2.765e-01    -2.965e+01    -5.832e-01            NA  \n",
       "   xPAY_4_.1      xPAY_4_0      xPAY_4_1      xPAY_4_2      xPAY_4_3  \n",
       "  -1.948e-02    -2.602e-01     2.911e+01     2.102e-01     3.166e-01  \n",
       "    xPAY_4_4      xPAY_4_5      xPAY_4_6      xPAY_4_7      xPAY_4_8  \n",
       "   1.047e+00    -9.914e-01     1.463e+00    -1.126e+00            NA  \n",
       "   xPAY_5_.1      xPAY_5_0      xPAY_5_2      xPAY_5_3      xPAY_5_4  \n",
       "  -9.261e-02     2.703e-01     4.103e-01     3.864e-01     8.945e-02  \n",
       "    xPAY_5_5      xPAY_5_6      xPAY_5_7      xPAY_5_8     xPAY_6_.1  \n",
       "   1.460e+01            NA     1.477e+01            NA    -5.176e-01  \n",
       "    xPAY_6_0      xPAY_6_2      xPAY_6_3      xPAY_6_4      xPAY_6_5  \n",
       "  -5.874e-01    -6.934e-02     5.165e-01    -1.621e+00    -6.023e-01  \n",
       "    xPAY_6_6      xPAY_6_7      xPAY_6_8  \n",
       "   7.952e-01    -1.368e+01            NA  \n",
       "\n",
       "Degrees of Freedom: 6665 Total (i.e. Null);  6591 Residual\n",
       "Null Deviance:\t    7054 \n",
       "Residual Deviance: 5793 \tAIC: 5943"
      ]
     },
     "metadata": {},
     "output_type": "display_data"
    },
    {
     "data": {
      "text/html": [
       "<style>\n",
       ".dl-inline {width: auto; margin:0; padding: 0}\n",
       ".dl-inline>dt, .dl-inline>dd {float: none; width: auto; display: inline-block}\n",
       ".dl-inline>dt::after {content: \":\\0020\"; padding-right: .5ex}\n",
       ".dl-inline>dt:not(:first-of-type) {padding-left: .5ex}\n",
       "</style><dl class=dl-inline><dt>(Intercept)</dt><dd>0.228856242082182</dd><dt>LIMIT_BAL</dt><dd>-2.09085871484121e-07</dd><dt>SEX</dt><dd>-0.0229594305916225</dd><dt>AGE</dt><dd>0.000583316090087853</dd><dt>BILL_AMT1</dt><dd>2.76243938867807e-08</dd><dt>BILL_AMT2</dt><dd>2.56827496206437e-07</dd><dt>BILL_AMT3</dt><dd>5.4258340147146e-08</dd><dt>BILL_AMT4</dt><dd>2.23166048554813e-07</dd><dt>BILL_AMT5</dt><dd>-2.67568489501653e-07</dd><dt>BILL_AMT6</dt><dd>-8.48847123568812e-08</dd><dt>PAY_AMT1</dt><dd>-8.92853051743565e-07</dd><dt>PAY_AMT2</dt><dd>-3.82465089076187e-07</dd><dt>PAY_AMT3</dt><dd>-3.98763534893536e-07</dd><dt>PAY_AMT4</dt><dd>-7.55144039534963e-08</dd><dt>PAY_AMT5</dt><dd>-1.27437955913412e-07</dd><dt>PAY_AMT6</dt><dd>-3.9346719148881e-07</dd><dt>EDUCATION_1</dt><dd>0.00875644693383296</dd><dt>EDUCATION_2</dt><dd>0.00344329607917495</dd><dt>EDUCATION_3</dt><dd>-0.0123229228121351</dd><dt>EDUCATION_4</dt><dd>-0.108848624505901</dd><dt>EDUCATION_5</dt><dd>-0.0811661896236275</dd><dt>EDUCATION_6</dt><dd>0.0365273705427986</dd><dt>MARRIAGE_1</dt><dd>0.0386794949150175</dd><dt>MARRIAGE_2</dt><dd>0.0172118919237312</dd><dt>MARRIAGE_3</dt><dd>0.0783823117879238</dd><dt>PAY_0_.1</dt><dd>0.0670075099018917</dd><dt>PAY_0_0</dt><dd>-0.0259325151540268</dd><dt>PAY_0_1</dt><dd>0.102187732433619</dd><dt>PAY_0_2</dt><dd>0.372379072000869</dd><dt>PAY_0_3</dt><dd>0.367182339897819</dd></dl>\n"
      ],
      "text/latex": [
       "\\begin{description*}\n",
       "\\item[(Intercept)] 0.228856242082182\n",
       "\\item[LIMIT\\textbackslash{}\\_BAL] -2.09085871484121e-07\n",
       "\\item[SEX] -0.0229594305916225\n",
       "\\item[AGE] 0.000583316090087853\n",
       "\\item[BILL\\textbackslash{}\\_AMT1] 2.76243938867807e-08\n",
       "\\item[BILL\\textbackslash{}\\_AMT2] 2.56827496206437e-07\n",
       "\\item[BILL\\textbackslash{}\\_AMT3] 5.4258340147146e-08\n",
       "\\item[BILL\\textbackslash{}\\_AMT4] 2.23166048554813e-07\n",
       "\\item[BILL\\textbackslash{}\\_AMT5] -2.67568489501653e-07\n",
       "\\item[BILL\\textbackslash{}\\_AMT6] -8.48847123568812e-08\n",
       "\\item[PAY\\textbackslash{}\\_AMT1] -8.92853051743565e-07\n",
       "\\item[PAY\\textbackslash{}\\_AMT2] -3.82465089076187e-07\n",
       "\\item[PAY\\textbackslash{}\\_AMT3] -3.98763534893536e-07\n",
       "\\item[PAY\\textbackslash{}\\_AMT4] -7.55144039534963e-08\n",
       "\\item[PAY\\textbackslash{}\\_AMT5] -1.27437955913412e-07\n",
       "\\item[PAY\\textbackslash{}\\_AMT6] -3.9346719148881e-07\n",
       "\\item[EDUCATION\\textbackslash{}\\_1] 0.00875644693383296\n",
       "\\item[EDUCATION\\textbackslash{}\\_2] 0.00344329607917495\n",
       "\\item[EDUCATION\\textbackslash{}\\_3] -0.0123229228121351\n",
       "\\item[EDUCATION\\textbackslash{}\\_4] -0.108848624505901\n",
       "\\item[EDUCATION\\textbackslash{}\\_5] -0.0811661896236275\n",
       "\\item[EDUCATION\\textbackslash{}\\_6] 0.0365273705427986\n",
       "\\item[MARRIAGE\\textbackslash{}\\_1] 0.0386794949150175\n",
       "\\item[MARRIAGE\\textbackslash{}\\_2] 0.0172118919237312\n",
       "\\item[MARRIAGE\\textbackslash{}\\_3] 0.0783823117879238\n",
       "\\item[PAY\\textbackslash{}\\_0\\textbackslash{}\\_.1] 0.0670075099018917\n",
       "\\item[PAY\\textbackslash{}\\_0\\textbackslash{}\\_0] -0.0259325151540268\n",
       "\\item[PAY\\textbackslash{}\\_0\\textbackslash{}\\_1] 0.102187732433619\n",
       "\\item[PAY\\textbackslash{}\\_0\\textbackslash{}\\_2] 0.372379072000869\n",
       "\\item[PAY\\textbackslash{}\\_0\\textbackslash{}\\_3] 0.367182339897819\n",
       "\\end{description*}\n"
      ],
      "text/markdown": [
       "(Intercept)\n",
       ":   0.228856242082182LIMIT_BAL\n",
       ":   -2.09085871484121e-07SEX\n",
       ":   -0.0229594305916225AGE\n",
       ":   0.000583316090087853BILL_AMT1\n",
       ":   2.76243938867807e-08BILL_AMT2\n",
       ":   2.56827496206437e-07BILL_AMT3\n",
       ":   5.4258340147146e-08BILL_AMT4\n",
       ":   2.23166048554813e-07BILL_AMT5\n",
       ":   -2.67568489501653e-07BILL_AMT6\n",
       ":   -8.48847123568812e-08PAY_AMT1\n",
       ":   -8.92853051743565e-07PAY_AMT2\n",
       ":   -3.82465089076187e-07PAY_AMT3\n",
       ":   -3.98763534893536e-07PAY_AMT4\n",
       ":   -7.55144039534963e-08PAY_AMT5\n",
       ":   -1.27437955913412e-07PAY_AMT6\n",
       ":   -3.9346719148881e-07EDUCATION_1\n",
       ":   0.00875644693383296EDUCATION_2\n",
       ":   0.00344329607917495EDUCATION_3\n",
       ":   -0.0123229228121351EDUCATION_4\n",
       ":   -0.108848624505901EDUCATION_5\n",
       ":   -0.0811661896236275EDUCATION_6\n",
       ":   0.0365273705427986MARRIAGE_1\n",
       ":   0.0386794949150175MARRIAGE_2\n",
       ":   0.0172118919237312MARRIAGE_3\n",
       ":   0.0783823117879238PAY_0_.1\n",
       ":   0.0670075099018917PAY_0_0\n",
       ":   -0.0259325151540268PAY_0_1\n",
       ":   0.102187732433619PAY_0_2\n",
       ":   0.372379072000869PAY_0_3\n",
       ":   0.367182339897819\n",
       "\n"
      ],
      "text/plain": [
       "  (Intercept)     LIMIT_BAL           SEX           AGE     BILL_AMT1 \n",
       " 2.288562e-01 -2.090859e-07 -2.295943e-02  5.833161e-04  2.762439e-08 \n",
       "    BILL_AMT2     BILL_AMT3     BILL_AMT4     BILL_AMT5     BILL_AMT6 \n",
       " 2.568275e-07  5.425834e-08  2.231660e-07 -2.675685e-07 -8.488471e-08 \n",
       "     PAY_AMT1      PAY_AMT2      PAY_AMT3      PAY_AMT4      PAY_AMT5 \n",
       "-8.928531e-07 -3.824651e-07 -3.987635e-07 -7.551440e-08 -1.274380e-07 \n",
       "     PAY_AMT6   EDUCATION_1   EDUCATION_2   EDUCATION_3   EDUCATION_4 \n",
       "-3.934672e-07  8.756447e-03  3.443296e-03 -1.232292e-02 -1.088486e-01 \n",
       "  EDUCATION_5   EDUCATION_6    MARRIAGE_1    MARRIAGE_2    MARRIAGE_3 \n",
       "-8.116619e-02  3.652737e-02  3.867949e-02  1.721189e-02  7.838231e-02 \n",
       "     PAY_0_.1       PAY_0_0       PAY_0_1       PAY_0_2       PAY_0_3 \n",
       " 6.700751e-02 -2.593252e-02  1.021877e-01  3.723791e-01  3.671823e-01 "
      ]
     },
     "metadata": {},
     "output_type": "display_data"
    }
   ],
   "source": [
    "# fitting logistic regression\n",
    "glm(y~x, subset=train,family='binomial')\n",
    "#prediction base on the regid\n",
    "predict(ridge.mod,s=0,type=\"coefficients\")[1:30,]\n",
    "# selected variables\n",
    "selection.ridge=names(predict(ridge.mod,s=0,type=\"coefficients\")[1:30,])[-1]"
   ]
  },
  {
   "cell_type": "code",
   "execution_count": 44,
   "id": "377fa942",
   "metadata": {},
   "outputs": [
    {
     "data": {
      "text/html": [
       "0.0626553676599807"
      ],
      "text/latex": [
       "0.0626553676599807"
      ],
      "text/markdown": [
       "0.0626553676599807"
      ],
      "text/plain": [
       "[1] 0.06265537"
      ]
     },
     "metadata": {},
     "output_type": "display_data"
    },
    {
     "data": {
      "image/png": "[encoded data removed]",
      "text/plain": [
       "plot without title"
      ]
     },
     "metadata": {
      "image/png": {
       "height": 420,
       "width": 420
      }
     },
     "output_type": "display_data"
    }
   ],
   "source": [
    "# cross validation for ridge Model\n",
    "set.seed(613)\n",
    "cv.out=cv.glmnet(x[train,],y[train],alpha=0)\n",
    "plot(cv.out)\n",
    "bestlam=cv.out$lambda.min\n",
    "bestlam"
   ]
  },
  {
   "cell_type": "code",
   "execution_count": 45,
   "id": "518c6d84",
   "metadata": {},
   "outputs": [
    {
     "data": {
      "text/html": [
       "0.138667556342933"
      ],
      "text/latex": [
       "0.138667556342933"
      ],
      "text/markdown": [
       "0.138667556342933"
      ],
      "text/plain": [
       "[1] 0.1386676"
      ]
     },
     "metadata": {},
     "output_type": "display_data"
    }
   ],
   "source": [
    "# making prediction based on the best lambda\n",
    "ridge.pred=predict(ridge.mod,s=bestlam,newx=x[test,])\n",
    "mean((ridge.pred-y.test)^2)"
   ]
  },
  {
   "cell_type": "code",
   "execution_count": 46,
   "id": "96b408ba",
   "metadata": {},
   "outputs": [
    {
     "data": {
      "text/html": [
       "<style>\n",
       ".dl-inline {width: auto; margin:0; padding: 0}\n",
       ".dl-inline>dt, .dl-inline>dd {float: none; width: auto; display: inline-block}\n",
       ".dl-inline>dt::after {content: \":\\0020\"; padding-right: .5ex}\n",
       ".dl-inline>dt:not(:first-of-type) {padding-left: .5ex}\n",
       "</style><dl class=dl-inline><dt>(Intercept)</dt><dd>0.245460906752604</dd><dt>LIMIT_BAL</dt><dd>-1.91188157379379e-07</dd><dt>SEX</dt><dd>-0.0144232729704596</dd><dt>AGE</dt><dd>0.000258248579414075</dd><dt>BILL_AMT1</dt><dd>3.93843053576938e-08</dd><dt>BILL_AMT2</dt><dd>1.23573913792387e-07</dd><dt>BILL_AMT3</dt><dd>8.45976371480024e-08</dd><dt>BILL_AMT4</dt><dd>-1.39210061623302e-08</dd><dt>BILL_AMT5</dt><dd>-3.04812234788649e-08</dd><dt>BILL_AMT6</dt><dd>8.18522465814678e-09</dd><dt>PAY_AMT1</dt><dd>-7.0822639567294e-07</dd><dt>PAY_AMT2</dt><dd>-2.76312368188596e-07</dd><dt>PAY_AMT3</dt><dd>-1.08508425041023e-07</dd><dt>PAY_AMT4</dt><dd>-4.1571029959377e-07</dd><dt>PAY_AMT5</dt><dd>-3.75825116242863e-07</dd><dt>PAY_AMT6</dt><dd>-3.32228481961432e-07</dd><dt>EDUCATION_1</dt><dd>0.000909241403603667</dd><dt>EDUCATION_2</dt><dd>0.00560540503731278</dd><dt>EDUCATION_3</dt><dd>0.00156417722632821</dd><dt>EDUCATION_4</dt><dd>-0.101772810780102</dd><dt>EDUCATION_5</dt><dd>-0.0979159540042482</dd><dt>EDUCATION_6</dt><dd>-0.024413310224289</dd><dt>MARRIAGE_1</dt><dd>0.0106453375695</dd><dt>MARRIAGE_2</dt><dd>-0.00380855509751742</dd><dt>MARRIAGE_3</dt><dd>0.0285211246395816</dd><dt>PAY_0_.1</dt><dd>0.0102815618500528</dd><dt>PAY_0_0</dt><dd>-0.060886998547901</dd><dt>PAY_0_1</dt><dd>0.0618978151330665</dd><dt>PAY_0_2</dt><dd>0.302476540131143</dd><dt>PAY_0_3</dt><dd>0.306440175853879</dd></dl>\n"
      ],
      "text/latex": [
       "\\begin{description*}\n",
       "\\item[(Intercept)] 0.245460906752604\n",
       "\\item[LIMIT\\textbackslash{}\\_BAL] -1.91188157379379e-07\n",
       "\\item[SEX] -0.0144232729704596\n",
       "\\item[AGE] 0.000258248579414075\n",
       "\\item[BILL\\textbackslash{}\\_AMT1] 3.93843053576938e-08\n",
       "\\item[BILL\\textbackslash{}\\_AMT2] 1.23573913792387e-07\n",
       "\\item[BILL\\textbackslash{}\\_AMT3] 8.45976371480024e-08\n",
       "\\item[BILL\\textbackslash{}\\_AMT4] -1.39210061623302e-08\n",
       "\\item[BILL\\textbackslash{}\\_AMT5] -3.04812234788649e-08\n",
       "\\item[BILL\\textbackslash{}\\_AMT6] 8.18522465814678e-09\n",
       "\\item[PAY\\textbackslash{}\\_AMT1] -7.0822639567294e-07\n",
       "\\item[PAY\\textbackslash{}\\_AMT2] -2.76312368188596e-07\n",
       "\\item[PAY\\textbackslash{}\\_AMT3] -1.08508425041023e-07\n",
       "\\item[PAY\\textbackslash{}\\_AMT4] -4.1571029959377e-07\n",
       "\\item[PAY\\textbackslash{}\\_AMT5] -3.75825116242863e-07\n",
       "\\item[PAY\\textbackslash{}\\_AMT6] -3.32228481961432e-07\n",
       "\\item[EDUCATION\\textbackslash{}\\_1] 0.000909241403603667\n",
       "\\item[EDUCATION\\textbackslash{}\\_2] 0.00560540503731278\n",
       "\\item[EDUCATION\\textbackslash{}\\_3] 0.00156417722632821\n",
       "\\item[EDUCATION\\textbackslash{}\\_4] -0.101772810780102\n",
       "\\item[EDUCATION\\textbackslash{}\\_5] -0.0979159540042482\n",
       "\\item[EDUCATION\\textbackslash{}\\_6] -0.024413310224289\n",
       "\\item[MARRIAGE\\textbackslash{}\\_1] 0.0106453375695\n",
       "\\item[MARRIAGE\\textbackslash{}\\_2] -0.00380855509751742\n",
       "\\item[MARRIAGE\\textbackslash{}\\_3] 0.0285211246395816\n",
       "\\item[PAY\\textbackslash{}\\_0\\textbackslash{}\\_.1] 0.0102815618500528\n",
       "\\item[PAY\\textbackslash{}\\_0\\textbackslash{}\\_0] -0.060886998547901\n",
       "\\item[PAY\\textbackslash{}\\_0\\textbackslash{}\\_1] 0.0618978151330665\n",
       "\\item[PAY\\textbackslash{}\\_0\\textbackslash{}\\_2] 0.302476540131143\n",
       "\\item[PAY\\textbackslash{}\\_0\\textbackslash{}\\_3] 0.306440175853879\n",
       "\\end{description*}\n"
      ],
      "text/markdown": [
       "(Intercept)\n",
       ":   0.245460906752604LIMIT_BAL\n",
       ":   -1.91188157379379e-07SEX\n",
       ":   -0.0144232729704596AGE\n",
       ":   0.000258248579414075BILL_AMT1\n",
       ":   3.93843053576938e-08BILL_AMT2\n",
       ":   1.23573913792387e-07BILL_AMT3\n",
       ":   8.45976371480024e-08BILL_AMT4\n",
       ":   -1.39210061623302e-08BILL_AMT5\n",
       ":   -3.04812234788649e-08BILL_AMT6\n",
       ":   8.18522465814678e-09PAY_AMT1\n",
       ":   -7.0822639567294e-07PAY_AMT2\n",
       ":   -2.76312368188596e-07PAY_AMT3\n",
       ":   -1.08508425041023e-07PAY_AMT4\n",
       ":   -4.1571029959377e-07PAY_AMT5\n",
       ":   -3.75825116242863e-07PAY_AMT6\n",
       ":   -3.32228481961432e-07EDUCATION_1\n",
       ":   0.000909241403603667EDUCATION_2\n",
       ":   0.00560540503731278EDUCATION_3\n",
       ":   0.00156417722632821EDUCATION_4\n",
       ":   -0.101772810780102EDUCATION_5\n",
       ":   -0.0979159540042482EDUCATION_6\n",
       ":   -0.024413310224289MARRIAGE_1\n",
       ":   0.0106453375695MARRIAGE_2\n",
       ":   -0.00380855509751742MARRIAGE_3\n",
       ":   0.0285211246395816PAY_0_.1\n",
       ":   0.0102815618500528PAY_0_0\n",
       ":   -0.060886998547901PAY_0_1\n",
       ":   0.0618978151330665PAY_0_2\n",
       ":   0.302476540131143PAY_0_3\n",
       ":   0.306440175853879\n",
       "\n"
      ],
      "text/plain": [
       "  (Intercept)     LIMIT_BAL           SEX           AGE     BILL_AMT1 \n",
       " 2.454609e-01 -1.911882e-07 -1.442327e-02  2.582486e-04  3.938431e-08 \n",
       "    BILL_AMT2     BILL_AMT3     BILL_AMT4     BILL_AMT5     BILL_AMT6 \n",
       " 1.235739e-07  8.459764e-08 -1.392101e-08 -3.048122e-08  8.185225e-09 \n",
       "     PAY_AMT1      PAY_AMT2      PAY_AMT3      PAY_AMT4      PAY_AMT5 \n",
       "-7.082264e-07 -2.763124e-07 -1.085084e-07 -4.157103e-07 -3.758251e-07 \n",
       "     PAY_AMT6   EDUCATION_1   EDUCATION_2   EDUCATION_3   EDUCATION_4 \n",
       "-3.322285e-07  9.092414e-04  5.605405e-03  1.564177e-03 -1.017728e-01 \n",
       "  EDUCATION_5   EDUCATION_6    MARRIAGE_1    MARRIAGE_2    MARRIAGE_3 \n",
       "-9.791595e-02 -2.441331e-02  1.064534e-02 -3.808555e-03  2.852112e-02 \n",
       "     PAY_0_.1       PAY_0_0       PAY_0_1       PAY_0_2       PAY_0_3 \n",
       " 1.028156e-02 -6.088700e-02  6.189782e-02  3.024765e-01  3.064402e-01 "
      ]
     },
     "metadata": {},
     "output_type": "display_data"
    }
   ],
   "source": [
    "# using the best lambda we fit and predict model for all variables\n",
    "out=glmnet(x,y,alpha=0)\n",
    "predict(out,type=\"coefficients\",s=bestlam)[1:30,]"
   ]
  },
  {
   "cell_type": "markdown",
   "id": "c27ba9bf",
   "metadata": {},
   "source": [
    "#### 1.4. Lasso Regression"
   ]
  },
  {
   "cell_type": "code",
   "execution_count": 47,
   "id": "0e248014",
   "metadata": {},
   "outputs": [
    {
     "name": "stderr",
     "output_type": "stream",
     "text": [
      "Warning message in regularize.values(x, y, ties, missing(ties), na.rm = na.rm):\n",
      "\"collapsing to unique 'x' values\"\n"
     ]
    },
    {
     "data": {
      "image/png": "[encoded data removed]",
      "text/plain": [
       "plot without title"
      ]
     },
     "metadata": {
      "image/png": {
       "height": 420,
       "width": 420
      }
     },
     "output_type": "display_data"
    }
   ],
   "source": [
    "#fitting the model to train\n",
    "lasso.mod=glmnet(x[train,],y[train],alpha=1,lambda=grid)\n",
    "#ploting the results of lasso\n",
    "plot(lasso.mod)"
   ]
  },
  {
   "cell_type": "code",
   "execution_count": 48,
   "id": "5011691e",
   "metadata": {},
   "outputs": [
    {
     "data": {
      "text/html": [
       "0.138811470310922"
      ],
      "text/latex": [
       "0.138811470310922"
      ],
      "text/markdown": [
       "0.138811470310922"
      ],
      "text/plain": [
       "[1] 0.1388115"
      ]
     },
     "metadata": {},
     "output_type": "display_data"
    },
    {
     "data": {
      "image/png": "[encoded data removed]",
      "text/plain": [
       "plot without title"
      ]
     },
     "metadata": {
      "image/png": {
       "height": 420,
       "width": 420
      }
     },
     "output_type": "display_data"
    }
   ],
   "source": [
    "#cross validating\n",
    "set.seed(613)\n",
    "cv.out=cv.glmnet(x[train,],y[train],alpha=1)\n",
    "#plot of cross validation\n",
    "plot(cv.out)\n",
    "# geting the best lambda\n",
    "bestlam=cv.out$lambda.min\n",
    "#prediction based on the best lambda\n",
    "lasso.pred=predict(lasso.mod,s=bestlam,newx=x[test,])\n",
    "# MSE of model for the best lambda\n",
    "mean((lasso.pred-y.test)^2)"
   ]
  },
  {
   "cell_type": "code",
   "execution_count": 49,
   "id": "fef44f07",
   "metadata": {},
   "outputs": [
    {
     "data": {
      "text/html": [
       "<style>\n",
       ".dl-inline {width: auto; margin:0; padding: 0}\n",
       ".dl-inline>dt, .dl-inline>dd {float: none; width: auto; display: inline-block}\n",
       ".dl-inline>dt::after {content: \":\\0020\"; padding-right: .5ex}\n",
       ".dl-inline>dt:not(:first-of-type) {padding-left: .5ex}\n",
       "</style><dl class=dl-inline><dt>(Intercept)</dt><dd>0.19938778828177</dd><dt>LIMIT_BAL</dt><dd>-1.55029815139415e-07</dd><dt>SEX</dt><dd>0</dd><dt>AGE</dt><dd>0</dd><dt>BILL_AMT1</dt><dd>0</dd><dt>BILL_AMT2</dt><dd>0</dd><dt>BILL_AMT3</dt><dd>0</dd><dt>BILL_AMT4</dt><dd>0</dd><dt>BILL_AMT5</dt><dd>0</dd><dt>BILL_AMT6</dt><dd>0</dd><dt>PAY_AMT1</dt><dd>-3.40583773137636e-07</dd><dt>PAY_AMT2</dt><dd>-2.39852041232177e-08</dd><dt>PAY_AMT3</dt><dd>0</dd><dt>PAY_AMT4</dt><dd>-1.2266864698417e-07</dd><dt>PAY_AMT5</dt><dd>0</dd><dt>PAY_AMT6</dt><dd>0</dd><dt>EDUCATION_1</dt><dd>0</dd><dt>EDUCATION_2</dt><dd>0</dd><dt>EDUCATION_3</dt><dd>0</dd><dt>EDUCATION_4</dt><dd>0</dd><dt>EDUCATION_5</dt><dd>-0.0122585317134905</dd><dt>EDUCATION_6</dt><dd>0</dd><dt>MARRIAGE_1</dt><dd>0</dd><dt>MARRIAGE_2</dt><dd>0</dd><dt>MARRIAGE_3</dt><dd>0</dd><dt>PAY_0_.1</dt><dd>0</dd><dt>PAY_0_0</dt><dd>-0.04320411560471</dd><dt>PAY_0_1</dt><dd>0.0632403361699424</dd><dt>PAY_0_2</dt><dd>0.347646755834657</dd><dt>PAY_0_3</dt><dd>0.318074971409276</dd></dl>\n"
      ],
      "text/latex": [
       "\\begin{description*}\n",
       "\\item[(Intercept)] 0.19938778828177\n",
       "\\item[LIMIT\\textbackslash{}\\_BAL] -1.55029815139415e-07\n",
       "\\item[SEX] 0\n",
       "\\item[AGE] 0\n",
       "\\item[BILL\\textbackslash{}\\_AMT1] 0\n",
       "\\item[BILL\\textbackslash{}\\_AMT2] 0\n",
       "\\item[BILL\\textbackslash{}\\_AMT3] 0\n",
       "\\item[BILL\\textbackslash{}\\_AMT4] 0\n",
       "\\item[BILL\\textbackslash{}\\_AMT5] 0\n",
       "\\item[BILL\\textbackslash{}\\_AMT6] 0\n",
       "\\item[PAY\\textbackslash{}\\_AMT1] -3.40583773137636e-07\n",
       "\\item[PAY\\textbackslash{}\\_AMT2] -2.39852041232177e-08\n",
       "\\item[PAY\\textbackslash{}\\_AMT3] 0\n",
       "\\item[PAY\\textbackslash{}\\_AMT4] -1.2266864698417e-07\n",
       "\\item[PAY\\textbackslash{}\\_AMT5] 0\n",
       "\\item[PAY\\textbackslash{}\\_AMT6] 0\n",
       "\\item[EDUCATION\\textbackslash{}\\_1] 0\n",
       "\\item[EDUCATION\\textbackslash{}\\_2] 0\n",
       "\\item[EDUCATION\\textbackslash{}\\_3] 0\n",
       "\\item[EDUCATION\\textbackslash{}\\_4] 0\n",
       "\\item[EDUCATION\\textbackslash{}\\_5] -0.0122585317134905\n",
       "\\item[EDUCATION\\textbackslash{}\\_6] 0\n",
       "\\item[MARRIAGE\\textbackslash{}\\_1] 0\n",
       "\\item[MARRIAGE\\textbackslash{}\\_2] 0\n",
       "\\item[MARRIAGE\\textbackslash{}\\_3] 0\n",
       "\\item[PAY\\textbackslash{}\\_0\\textbackslash{}\\_.1] 0\n",
       "\\item[PAY\\textbackslash{}\\_0\\textbackslash{}\\_0] -0.04320411560471\n",
       "\\item[PAY\\textbackslash{}\\_0\\textbackslash{}\\_1] 0.0632403361699424\n",
       "\\item[PAY\\textbackslash{}\\_0\\textbackslash{}\\_2] 0.347646755834657\n",
       "\\item[PAY\\textbackslash{}\\_0\\textbackslash{}\\_3] 0.318074971409276\n",
       "\\end{description*}\n"
      ],
      "text/markdown": [
       "(Intercept)\n",
       ":   0.19938778828177LIMIT_BAL\n",
       ":   -1.55029815139415e-07SEX\n",
       ":   0AGE\n",
       ":   0BILL_AMT1\n",
       ":   0BILL_AMT2\n",
       ":   0BILL_AMT3\n",
       ":   0BILL_AMT4\n",
       ":   0BILL_AMT5\n",
       ":   0BILL_AMT6\n",
       ":   0PAY_AMT1\n",
       ":   -3.40583773137636e-07PAY_AMT2\n",
       ":   -2.39852041232177e-08PAY_AMT3\n",
       ":   0PAY_AMT4\n",
       ":   -1.2266864698417e-07PAY_AMT5\n",
       ":   0PAY_AMT6\n",
       ":   0EDUCATION_1\n",
       ":   0EDUCATION_2\n",
       ":   0EDUCATION_3\n",
       ":   0EDUCATION_4\n",
       ":   0EDUCATION_5\n",
       ":   -0.0122585317134905EDUCATION_6\n",
       ":   0MARRIAGE_1\n",
       ":   0MARRIAGE_2\n",
       ":   0MARRIAGE_3\n",
       ":   0PAY_0_.1\n",
       ":   0PAY_0_0\n",
       ":   -0.04320411560471PAY_0_1\n",
       ":   0.0632403361699424PAY_0_2\n",
       ":   0.347646755834657PAY_0_3\n",
       ":   0.318074971409276\n",
       "\n"
      ],
      "text/plain": [
       "  (Intercept)     LIMIT_BAL           SEX           AGE     BILL_AMT1 \n",
       " 1.993878e-01 -1.550298e-07  0.000000e+00  0.000000e+00  0.000000e+00 \n",
       "    BILL_AMT2     BILL_AMT3     BILL_AMT4     BILL_AMT5     BILL_AMT6 \n",
       " 0.000000e+00  0.000000e+00  0.000000e+00  0.000000e+00  0.000000e+00 \n",
       "     PAY_AMT1      PAY_AMT2      PAY_AMT3      PAY_AMT4      PAY_AMT5 \n",
       "-3.405838e-07 -2.398520e-08  0.000000e+00 -1.226686e-07  0.000000e+00 \n",
       "     PAY_AMT6   EDUCATION_1   EDUCATION_2   EDUCATION_3   EDUCATION_4 \n",
       " 0.000000e+00  0.000000e+00  0.000000e+00  0.000000e+00  0.000000e+00 \n",
       "  EDUCATION_5   EDUCATION_6    MARRIAGE_1    MARRIAGE_2    MARRIAGE_3 \n",
       "-1.225853e-02  0.000000e+00  0.000000e+00  0.000000e+00  0.000000e+00 \n",
       "     PAY_0_.1       PAY_0_0       PAY_0_1       PAY_0_2       PAY_0_3 \n",
       " 0.000000e+00 -4.320412e-02  6.324034e-02  3.476468e-01  3.180750e-01 "
      ]
     },
     "metadata": {},
     "output_type": "display_data"
    },
    {
     "data": {
      "text/html": [
       "<style>\n",
       ".dl-inline {width: auto; margin:0; padding: 0}\n",
       ".dl-inline>dt, .dl-inline>dd {float: none; width: auto; display: inline-block}\n",
       ".dl-inline>dt::after {content: \":\\0020\"; padding-right: .5ex}\n",
       ".dl-inline>dt:not(:first-of-type) {padding-left: .5ex}\n",
       "</style><dl class=dl-inline><dt>(Intercept)</dt><dd>0.19938778828177</dd><dt>LIMIT_BAL</dt><dd>-1.55029815139415e-07</dd><dt>PAY_AMT1</dt><dd>-3.40583773137636e-07</dd><dt>PAY_AMT2</dt><dd>-2.39852041232177e-08</dd><dt>PAY_AMT4</dt><dd>-1.2266864698417e-07</dd><dt>EDUCATION_5</dt><dd>-0.0122585317134905</dd><dt>PAY_0_0</dt><dd>-0.04320411560471</dd><dt>PAY_0_1</dt><dd>0.0632403361699424</dd><dt>PAY_0_2</dt><dd>0.347646755834657</dd><dt>PAY_0_3</dt><dd>0.318074971409276</dd></dl>\n"
      ],
      "text/latex": [
       "\\begin{description*}\n",
       "\\item[(Intercept)] 0.19938778828177\n",
       "\\item[LIMIT\\textbackslash{}\\_BAL] -1.55029815139415e-07\n",
       "\\item[PAY\\textbackslash{}\\_AMT1] -3.40583773137636e-07\n",
       "\\item[PAY\\textbackslash{}\\_AMT2] -2.39852041232177e-08\n",
       "\\item[PAY\\textbackslash{}\\_AMT4] -1.2266864698417e-07\n",
       "\\item[EDUCATION\\textbackslash{}\\_5] -0.0122585317134905\n",
       "\\item[PAY\\textbackslash{}\\_0\\textbackslash{}\\_0] -0.04320411560471\n",
       "\\item[PAY\\textbackslash{}\\_0\\textbackslash{}\\_1] 0.0632403361699424\n",
       "\\item[PAY\\textbackslash{}\\_0\\textbackslash{}\\_2] 0.347646755834657\n",
       "\\item[PAY\\textbackslash{}\\_0\\textbackslash{}\\_3] 0.318074971409276\n",
       "\\end{description*}\n"
      ],
      "text/markdown": [
       "(Intercept)\n",
       ":   0.19938778828177LIMIT_BAL\n",
       ":   -1.55029815139415e-07PAY_AMT1\n",
       ":   -3.40583773137636e-07PAY_AMT2\n",
       ":   -2.39852041232177e-08PAY_AMT4\n",
       ":   -1.2266864698417e-07EDUCATION_5\n",
       ":   -0.0122585317134905PAY_0_0\n",
       ":   -0.04320411560471PAY_0_1\n",
       ":   0.0632403361699424PAY_0_2\n",
       ":   0.347646755834657PAY_0_3\n",
       ":   0.318074971409276\n",
       "\n"
      ],
      "text/plain": [
       "  (Intercept)     LIMIT_BAL      PAY_AMT1      PAY_AMT2      PAY_AMT4 \n",
       " 1.993878e-01 -1.550298e-07 -3.405838e-07 -2.398520e-08 -1.226686e-07 \n",
       "  EDUCATION_5       PAY_0_0       PAY_0_1       PAY_0_2       PAY_0_3 \n",
       "-1.225853e-02 -4.320412e-02  6.324034e-02  3.476468e-01  3.180750e-01 "
      ]
     },
     "metadata": {},
     "output_type": "display_data"
    }
   ],
   "source": [
    "#fitting the lasso to all dafa frame\n",
    "out=glmnet(x,y,alpha=1,lambda=grid)\n",
    "#Geting the coeficents\n",
    "lasso.coef=predict(out,type=\"coefficients\",s=bestlam)[1:30,]\n",
    "lasso.coef\n",
    "# variables with coeficient\n",
    "lasso.coef[lasso.coef!=0]\n",
    "# Get the name of selected variables by lasso\n",
    "selection.lasso=names(lasso.coef[lasso.coef!=0])[-1]"
   ]
  },
  {
   "cell_type": "markdown",
   "id": "90eaaca7",
   "metadata": {},
   "source": [
    "#### 1.5. PCR regression"
   ]
  },
  {
   "cell_type": "code",
   "execution_count": 50,
   "id": "0c603081",
   "metadata": {},
   "outputs": [
    {
     "name": "stderr",
     "output_type": "stream",
     "text": [
      "Warning message in FUN(X[[i]], ...):\n",
      "\"Scaling with (near) zero standard deviation\"\n"
     ]
    },
    {
     "ename": "ERROR",
     "evalue": "Error in La.svd(X): infinite or missing values in 'x'\n",
     "output_type": "error",
     "traceback": [
      "Error in La.svd(X): infinite or missing values in 'x'\nTraceback:\n",
      "1. pcr(default ~ ., data = DF, scale = TRUE, validation = \"CV\")",
      "2. eval(cl, parent.frame())",
      "3. eval(cl, parent.frame())",
      "4. pls::mvr(default ~ ., data = DF, scale = TRUE, validation = \"CV\", \n .     method = \"svdpc\")",
      "5. mvrCv(X, Y, ncomp, Y.add = Y.add, method = method, scale = sdscale, \n .     center = center, ...)",
      "6. lapplyFunc(pls.options()$parallel, seq_along(segments), mvrCvSeg)",
      "7. lapply(X, FUN)",
      "8. FUN(X[[i]], ...)",
      "9. fitFunc(Xtrain, Y[-seg, , drop = FALSE], ncomp, Y.add = Y.add[-seg, \n .     , drop = FALSE], stripped = TRUE, weights = weights[-seg], \n .     ...)",
      "10. La.svd(X)",
      "11. stop(\"infinite or missing values in 'x'\")"
     ]
    }
   ],
   "source": [
    "# fiting model with cross validation\n",
    "set.seed(2)\n",
    "pcr.fit=pcr(default~., data=DF,scale=TRUE,validation=\"CV\")\n",
    "summary(pcr.fit)"
   ]
  },
  {
   "cell_type": "code",
   "execution_count": null,
   "id": "478c152a",
   "metadata": {},
   "outputs": [],
   "source": [
    "#plot of PCR\n",
    "validationplot(pcr.fit,val.type=\"MSEP\")"
   ]
  },
  {
   "cell_type": "code",
   "execution_count": null,
   "id": "0ace0537",
   "metadata": {},
   "outputs": [],
   "source": [
    "# Cross validation for PCR for train set\n",
    "set.seed(613)\n",
    "pcr.fit=pcr(default~., data=DF,subset=train,scale=TRUE, validation=\"CV\")"
   ]
  },
  {
   "cell_type": "code",
   "execution_count": null,
   "id": "bd82764e",
   "metadata": {},
   "outputs": [],
   "source": [
    "#ploting the results\n",
    "validationplot(pcr.fit,val.type=\"MSEP\")"
   ]
  },
  {
   "cell_type": "code",
   "execution_count": null,
   "id": "ab186589",
   "metadata": {},
   "outputs": [],
   "source": [
    "#making prediction\n",
    "pcr.pred=predict(pcr.fit,x[test,],ncomp=18)\n",
    "#MSE calculation\n",
    "mean((pcr.pred-y.test)^2)"
   ]
  },
  {
   "cell_type": "code",
   "execution_count": null,
   "id": "9eea14e0",
   "metadata": {},
   "outputs": [],
   "source": [
    "#pcr fiting to whole data\n",
    "pcr.fit=pcr(y~x,scale=TRUE,ncomp=18)\n",
    "#summary of PCR\n",
    "summary(pcr.fit)"
   ]
  },
  {
   "cell_type": "code",
   "execution_count": null,
   "id": "09cf1835",
   "metadata": {},
   "outputs": [],
   "source": [
    "#paring axies to 2 cells\n",
    "par(mfrow=c(1,2))\n",
    "coefplot(pcr.fit)\n",
    "predplot(pcr.fit)"
   ]
  },
  {
   "cell_type": "markdown",
   "id": "3b2011c6",
   "metadata": {},
   "source": [
    "#### 1.6. PCL"
   ]
  },
  {
   "cell_type": "code",
   "execution_count": 51,
   "id": "63346559",
   "metadata": {},
   "outputs": [
    {
     "name": "stderr",
     "output_type": "stream",
     "text": [
      "Warning message in FUN(X[[i]], ...):\n",
      "\"Scaling with (near) zero standard deviation\"\n",
      "Warning message in FUN(X[[i]], ...):\n",
      "\"Scaling with (near) zero standard deviation\"\n",
      "Warning message in FUN(X[[i]], ...):\n",
      "\"Scaling with (near) zero standard deviation\"\n",
      "Warning message in FUN(X[[i]], ...):\n",
      "\"Scaling with (near) zero standard deviation\"\n",
      "Warning message in FUN(X[[i]], ...):\n",
      "\"Scaling with (near) zero standard deviation\"\n",
      "Warning message in FUN(X[[i]], ...):\n",
      "\"Scaling with (near) zero standard deviation\"\n",
      "Warning message in FUN(X[[i]], ...):\n",
      "\"Scaling with (near) zero standard deviation\"\n",
      "Warning message in FUN(X[[i]], ...):\n",
      "\"Scaling with (near) zero standard deviation\"\n",
      "Warning message in FUN(X[[i]], ...):\n",
      "\"Scaling with (near) zero standard deviation\"\n",
      "Warning message in FUN(X[[i]], ...):\n",
      "\"Scaling with (near) zero standard deviation\"\n",
      "Warning message in pls::mvr(default ~ ., data = DF, subset = train, scale = TRUE, :\n",
      "\"Scaling with (near) zero standard deviation\"\n"
     ]
    },
    {
     "name": "stdout",
     "output_type": "stream",
     "text": [
      "Data: \tX dimension: 6666 82 \n",
      "\tY dimension: 6666 1\n",
      "Fit method: kernelpls\n",
      "Number of components considered: 82\n",
      "\n",
      "VALIDATION: RMSEP\n",
      "Cross-validated using 10 random segments.\n",
      "       (Intercept)  1 comps  2 comps  3 comps  4 comps  5 comps  6 comps\n",
      "CV          0.4155      NaN      NaN      NaN      NaN      NaN      NaN\n",
      "adjCV       0.4155      NaN      NaN      NaN      NaN      NaN      NaN\n",
      "       7 comps  8 comps  9 comps  10 comps  11 comps  12 comps  13 comps\n",
      "CV         NaN      NaN      NaN       NaN       NaN       NaN       NaN\n",
      "adjCV      NaN      NaN      NaN       NaN       NaN       NaN       NaN\n",
      "       14 comps  15 comps  16 comps  17 comps  18 comps  19 comps  20 comps\n",
      "CV          NaN       NaN       NaN       NaN       NaN       NaN       NaN\n",
      "adjCV       NaN       NaN       NaN       NaN       NaN       NaN       NaN\n",
      "       21 comps  22 comps  23 comps  24 comps  25 comps  26 comps  27 comps\n",
      "CV          NaN       NaN       NaN       NaN       NaN       NaN       NaN\n",
      "adjCV       NaN       NaN       NaN       NaN       NaN       NaN       NaN\n",
      "       28 comps  29 comps  30 comps  31 comps  32 comps  33 comps  34 comps\n",
      "CV          NaN       NaN       NaN       NaN       NaN       NaN       NaN\n",
      "adjCV       NaN       NaN       NaN       NaN       NaN       NaN       NaN\n",
      "       35 comps  36 comps  37 comps  38 comps  39 comps  40 comps  41 comps\n",
      "CV          NaN       NaN       NaN       NaN       NaN       NaN       NaN\n",
      "adjCV       NaN       NaN       NaN       NaN       NaN       NaN       NaN\n",
      "       42 comps  43 comps  44 comps  45 comps  46 comps  47 comps  48 comps\n",
      "CV          NaN       NaN       NaN       NaN       NaN       NaN       NaN\n",
      "adjCV       NaN       NaN       NaN       NaN       NaN       NaN       NaN\n",
      "       49 comps  50 comps  51 comps  52 comps  53 comps  54 comps  55 comps\n",
      "CV          NaN       NaN       NaN       NaN       NaN       NaN       NaN\n",
      "adjCV       NaN       NaN       NaN       NaN       NaN       NaN       NaN\n",
      "       56 comps  57 comps  58 comps  59 comps  60 comps  61 comps  62 comps\n",
      "CV          NaN       NaN       NaN       NaN       NaN       NaN       NaN\n",
      "adjCV       NaN       NaN       NaN       NaN       NaN       NaN       NaN\n",
      "       63 comps  64 comps  65 comps  66 comps  67 comps  68 comps  69 comps\n",
      "CV          NaN       NaN       NaN       NaN       NaN       NaN       NaN\n",
      "adjCV       NaN       NaN       NaN       NaN       NaN       NaN       NaN\n",
      "       70 comps  71 comps  72 comps  73 comps  74 comps  75 comps  76 comps\n",
      "CV          NaN       NaN       NaN       NaN       NaN       NaN       NaN\n",
      "adjCV       NaN       NaN       NaN       NaN       NaN       NaN       NaN\n",
      "       77 comps  78 comps  79 comps  80 comps  81 comps  82 comps\n",
      "CV          NaN       NaN       NaN       NaN       NaN       NaN\n",
      "adjCV       NaN       NaN       NaN       NaN       NaN       NaN\n",
      "\n",
      "TRAINING: % variance explained\n",
      "         1 comps  2 comps  3 comps  4 comps  5 comps  6 comps  7 comps  8 comps\n",
      "X            NaN      NaN      NaN      NaN      NaN      NaN      NaN      NaN\n",
      "default      100      100      100      100      100      100      100      100\n",
      "         9 comps  10 comps  11 comps  12 comps  13 comps  14 comps  15 comps\n",
      "X            NaN       NaN       NaN       NaN       NaN       NaN       NaN\n",
      "default      100       100       100       100       100       100       100\n",
      "         16 comps  17 comps  18 comps  19 comps  20 comps  21 comps  22 comps\n",
      "X             NaN       NaN       NaN       NaN       NaN       NaN       NaN\n",
      "default       100       100       100       100       100       100       100\n",
      "         23 comps  24 comps  25 comps  26 comps  27 comps  28 comps  29 comps\n",
      "X             NaN       NaN       NaN       NaN       NaN       NaN       NaN\n",
      "default       100       100       100       100       100       100       100\n",
      "         30 comps  31 comps  32 comps  33 comps  34 comps  35 comps  36 comps\n",
      "X             NaN       NaN       NaN       NaN       NaN       NaN       NaN\n",
      "default       100       100       100       100       100       100       100\n",
      "         37 comps  38 comps  39 comps  40 comps  41 comps  42 comps  43 comps\n",
      "X             NaN       NaN       NaN       NaN       NaN       NaN       NaN\n",
      "default       100       100       100       100       100       100       100\n",
      "         44 comps  45 comps  46 comps  47 comps  48 comps  49 comps  50 comps\n",
      "X             NaN       NaN       NaN       NaN       NaN       NaN       NaN\n",
      "default       100       100       100       100       100       100       100\n",
      "         51 comps  52 comps  53 comps  54 comps  55 comps  56 comps  57 comps\n",
      "X             NaN       NaN       NaN       NaN       NaN       NaN       NaN\n",
      "default       100       100       100       100       100       100       100\n",
      "         58 comps  59 comps  60 comps  61 comps  62 comps  63 comps  64 comps\n",
      "X             NaN       NaN       NaN       NaN       NaN       NaN       NaN\n",
      "default       100       100       100       100       100       100       100\n",
      "         65 comps  66 comps  67 comps  68 comps  69 comps  70 comps  71 comps\n",
      "X             NaN       NaN       NaN       NaN       NaN       NaN       NaN\n",
      "default       100       100       100       100       100       100       100\n",
      "         72 comps  73 comps  74 comps  75 comps  76 comps  77 comps  78 comps\n",
      "X             NaN       NaN       NaN       NaN       NaN       NaN       NaN\n",
      "default       100       100       100       100       100       100       100\n",
      "         79 comps  80 comps  81 comps  82 comps\n",
      "X             NaN       NaN       NaN       NaN\n",
      "default       100       100       100       100\n"
     ]
    }
   ],
   "source": [
    "##fitting the model with cross validation to train data\n",
    "set.seed(613)\n",
    "pls.fit=plsr(default~., data=DF,subset=train,scale=TRUE, validation=\"CV\")\n",
    "# summary\n",
    "summary(pls.fit)"
   ]
  },
  {
   "cell_type": "code",
   "execution_count": 52,
   "id": "dbdf7c9c",
   "metadata": {},
   "outputs": [
    {
     "data": {
      "image/png": "[encoded data removed]",
      "text/plain": [
       "Plot with title \"default\""
      ]
     },
     "metadata": {
      "image/png": {
       "height": 420,
       "width": 420
      }
     },
     "output_type": "display_data"
    }
   ],
   "source": [
    "#ploting the result for train\n",
    "validationplot(pls.fit,val.type=\"MSEP\")"
   ]
  },
  {
   "cell_type": "code",
   "execution_count": 53,
   "id": "2361fa0e",
   "metadata": {},
   "outputs": [
    {
     "data": {
      "text/html": [
       "NaN"
      ],
      "text/latex": [
       "NaN"
      ],
      "text/markdown": [
       "NaN"
      ],
      "text/plain": [
       "[1] NaN"
      ]
     },
     "metadata": {},
     "output_type": "display_data"
    }
   ],
   "source": [
    "# making prediction\n",
    "pls.pred=predict(pls.fit,x[test,],ncomp=4)\n",
    "#calculating the MSE\n",
    "mean((pls.pred-y.test)^2)"
   ]
  },
  {
   "cell_type": "code",
   "execution_count": 54,
   "id": "56269b1f",
   "metadata": {},
   "outputs": [
    {
     "name": "stdout",
     "output_type": "stream",
     "text": [
      "Data: \tX dimension: 20000 82 \n",
      "\tY dimension: 20000 1\n",
      "Fit method: kernelpls\n",
      "Number of components considered: 4\n",
      "TRAINING: % variance explained\n",
      "         1 comps  2 comps  3 comps  4 comps\n",
      "X          5.724    14.50    17.83    21.56\n",
      "default   16.758    18.02    19.45    19.83\n"
     ]
    }
   ],
   "source": [
    "#fitting the model to whole data based on the number of component\n",
    "pls.fit=plsr(default~., data=DF,scale=TRUE,ncomp=4)\n",
    "#summary of model\n",
    "summary(pls.fit)"
   ]
  },
  {
   "cell_type": "code",
   "execution_count": 55,
   "id": "61abcdf9",
   "metadata": {},
   "outputs": [
    {
     "data": {
      "image/png": "[encoded data removed]",
      "text/plain": [
       "Plot with title \"default, 4 comps, train\""
      ]
     },
     "metadata": {
      "image/png": {
       "height": 420,
       "width": 420
      }
     },
     "output_type": "display_data"
    }
   ],
   "source": [
    "#paring axies to 2 cells\n",
    "par(mfrow=c(1,2))\n",
    "coefplot(pls.fit)\n",
    "predplot(pls.fit)"
   ]
  },
  {
   "cell_type": "code",
   "execution_count": 57,
   "id": "3cd68d25",
   "metadata": {},
   "outputs": [
    {
     "name": "stdout",
     "output_type": "stream",
     "text": [
      "[1] \"best variables by forward cp\"\n"
     ]
    },
    {
     "data": {
      "text/html": [
       "<style>\n",
       ".list-inline {list-style: none; margin:0; padding: 0}\n",
       ".list-inline>li {display: inline-block}\n",
       ".list-inline>li:not(:last-child)::after {content: \"\\00b7\"; padding: 0 .5ex}\n",
       "</style>\n",
       "<ol class=list-inline><li>'LIMIT_BAL'</li><li>'SEX'</li><li>'BILL_AMT2'</li><li>'PAY_AMT1'</li><li>'PAY_AMT2'</li><li>'PAY_AMT4'</li><li>'PAY_AMT5'</li><li>'PAY_AMT6'</li><li>'EDUCATION_4'</li><li>'EDUCATION_5'</li><li>'MARRIAGE_2'</li><li>'PAY_0_.1'</li><li>'PAY_0_1'</li><li>'PAY_0_2'</li><li>'PAY_0_3'</li><li>'PAY_0_4'</li><li>'PAY_0_5'</li><li>'PAY_0_8'</li><li>'PAY_2_.1'</li><li>'PAY_2_1'</li><li>'PAY_2_2'</li><li>'PAY_2_4'</li><li>'PAY_2_5'</li><li>'PAY_3_3'</li><li>'PAY_3_4'</li><li>'PAY_3_5'</li><li>'PAY_3_7'</li><li>'PAY_4_.1'</li><li>'PAY_4_2'</li><li>'PAY_4_3'</li><li>'PAY_4_5'</li><li>'PAY_4_6'</li><li>'PAY_4_7'</li><li>'PAY_5_0'</li><li>'PAY_5_3'</li><li>'PAY_6_.1'</li><li>'PAY_6_2'</li><li>'PAY_6_3'</li><li>'PAY_6_5'</li><li>'PAY_6_8'</li><li>'PAY_5_8'</li></ol>\n"
      ],
      "text/latex": [
       "\\begin{enumerate*}\n",
       "\\item 'LIMIT\\_BAL'\n",
       "\\item 'SEX'\n",
       "\\item 'BILL\\_AMT2'\n",
       "\\item 'PAY\\_AMT1'\n",
       "\\item 'PAY\\_AMT2'\n",
       "\\item 'PAY\\_AMT4'\n",
       "\\item 'PAY\\_AMT5'\n",
       "\\item 'PAY\\_AMT6'\n",
       "\\item 'EDUCATION\\_4'\n",
       "\\item 'EDUCATION\\_5'\n",
       "\\item 'MARRIAGE\\_2'\n",
       "\\item 'PAY\\_0\\_.1'\n",
       "\\item 'PAY\\_0\\_1'\n",
       "\\item 'PAY\\_0\\_2'\n",
       "\\item 'PAY\\_0\\_3'\n",
       "\\item 'PAY\\_0\\_4'\n",
       "\\item 'PAY\\_0\\_5'\n",
       "\\item 'PAY\\_0\\_8'\n",
       "\\item 'PAY\\_2\\_.1'\n",
       "\\item 'PAY\\_2\\_1'\n",
       "\\item 'PAY\\_2\\_2'\n",
       "\\item 'PAY\\_2\\_4'\n",
       "\\item 'PAY\\_2\\_5'\n",
       "\\item 'PAY\\_3\\_3'\n",
       "\\item 'PAY\\_3\\_4'\n",
       "\\item 'PAY\\_3\\_5'\n",
       "\\item 'PAY\\_3\\_7'\n",
       "\\item 'PAY\\_4\\_.1'\n",
       "\\item 'PAY\\_4\\_2'\n",
       "\\item 'PAY\\_4\\_3'\n",
       "\\item 'PAY\\_4\\_5'\n",
       "\\item 'PAY\\_4\\_6'\n",
       "\\item 'PAY\\_4\\_7'\n",
       "\\item 'PAY\\_5\\_0'\n",
       "\\item 'PAY\\_5\\_3'\n",
       "\\item 'PAY\\_6\\_.1'\n",
       "\\item 'PAY\\_6\\_2'\n",
       "\\item 'PAY\\_6\\_3'\n",
       "\\item 'PAY\\_6\\_5'\n",
       "\\item 'PAY\\_6\\_8'\n",
       "\\item 'PAY\\_5\\_8'\n",
       "\\end{enumerate*}\n"
      ],
      "text/markdown": [
       "1. 'LIMIT_BAL'\n",
       "2. 'SEX'\n",
       "3. 'BILL_AMT2'\n",
       "4. 'PAY_AMT1'\n",
       "5. 'PAY_AMT2'\n",
       "6. 'PAY_AMT4'\n",
       "7. 'PAY_AMT5'\n",
       "8. 'PAY_AMT6'\n",
       "9. 'EDUCATION_4'\n",
       "10. 'EDUCATION_5'\n",
       "11. 'MARRIAGE_2'\n",
       "12. 'PAY_0_.1'\n",
       "13. 'PAY_0_1'\n",
       "14. 'PAY_0_2'\n",
       "15. 'PAY_0_3'\n",
       "16. 'PAY_0_4'\n",
       "17. 'PAY_0_5'\n",
       "18. 'PAY_0_8'\n",
       "19. 'PAY_2_.1'\n",
       "20. 'PAY_2_1'\n",
       "21. 'PAY_2_2'\n",
       "22. 'PAY_2_4'\n",
       "23. 'PAY_2_5'\n",
       "24. 'PAY_3_3'\n",
       "25. 'PAY_3_4'\n",
       "26. 'PAY_3_5'\n",
       "27. 'PAY_3_7'\n",
       "28. 'PAY_4_.1'\n",
       "29. 'PAY_4_2'\n",
       "30. 'PAY_4_3'\n",
       "31. 'PAY_4_5'\n",
       "32. 'PAY_4_6'\n",
       "33. 'PAY_4_7'\n",
       "34. 'PAY_5_0'\n",
       "35. 'PAY_5_3'\n",
       "36. 'PAY_6_.1'\n",
       "37. 'PAY_6_2'\n",
       "38. 'PAY_6_3'\n",
       "39. 'PAY_6_5'\n",
       "40. 'PAY_6_8'\n",
       "41. 'PAY_5_8'\n",
       "\n",
       "\n"
      ],
      "text/plain": [
       " [1] \"LIMIT_BAL\"   \"SEX\"         \"BILL_AMT2\"   \"PAY_AMT1\"    \"PAY_AMT2\"   \n",
       " [6] \"PAY_AMT4\"    \"PAY_AMT5\"    \"PAY_AMT6\"    \"EDUCATION_4\" \"EDUCATION_5\"\n",
       "[11] \"MARRIAGE_2\"  \"PAY_0_.1\"    \"PAY_0_1\"     \"PAY_0_2\"     \"PAY_0_3\"    \n",
       "[16] \"PAY_0_4\"     \"PAY_0_5\"     \"PAY_0_8\"     \"PAY_2_.1\"    \"PAY_2_1\"    \n",
       "[21] \"PAY_2_2\"     \"PAY_2_4\"     \"PAY_2_5\"     \"PAY_3_3\"     \"PAY_3_4\"    \n",
       "[26] \"PAY_3_5\"     \"PAY_3_7\"     \"PAY_4_.1\"    \"PAY_4_2\"     \"PAY_4_3\"    \n",
       "[31] \"PAY_4_5\"     \"PAY_4_6\"     \"PAY_4_7\"     \"PAY_5_0\"     \"PAY_5_3\"    \n",
       "[36] \"PAY_6_.1\"    \"PAY_6_2\"     \"PAY_6_3\"     \"PAY_6_5\"     \"PAY_6_8\"    \n",
       "[41] \"PAY_5_8\"    "
      ]
     },
     "metadata": {},
     "output_type": "display_data"
    },
    {
     "name": "stdout",
     "output_type": "stream",
     "text": [
      "[1] \"best variables by forward bic\"\n"
     ]
    },
    {
     "data": {
      "text/html": [
       "<style>\n",
       ".list-inline {list-style: none; margin:0; padding: 0}\n",
       ".list-inline>li {display: inline-block}\n",
       ".list-inline>li:not(:last-child)::after {content: \"\\00b7\"; padding: 0 .5ex}\n",
       "</style>\n",
       "<ol class=list-inline><li>'LIMIT_BAL'</li><li>'BILL_AMT2'</li><li>'PAY_AMT1'</li><li>'EDUCATION_5'</li><li>'MARRIAGE_2'</li><li>'PAY_0_.1'</li><li>'PAY_0_1'</li><li>'PAY_0_2'</li><li>'PAY_0_3'</li><li>'PAY_0_4'</li><li>'PAY_0_8'</li><li>'PAY_2_.1'</li><li>'PAY_2_2'</li><li>'PAY_3_3'</li><li>'PAY_3_4'</li><li>'PAY_4_3'</li><li>'PAY_4_5'</li><li>'PAY_5_3'</li><li>'PAY_6_2'</li><li>'PAY_6_3'</li></ol>\n"
      ],
      "text/latex": [
       "\\begin{enumerate*}\n",
       "\\item 'LIMIT\\_BAL'\n",
       "\\item 'BILL\\_AMT2'\n",
       "\\item 'PAY\\_AMT1'\n",
       "\\item 'EDUCATION\\_5'\n",
       "\\item 'MARRIAGE\\_2'\n",
       "\\item 'PAY\\_0\\_.1'\n",
       "\\item 'PAY\\_0\\_1'\n",
       "\\item 'PAY\\_0\\_2'\n",
       "\\item 'PAY\\_0\\_3'\n",
       "\\item 'PAY\\_0\\_4'\n",
       "\\item 'PAY\\_0\\_8'\n",
       "\\item 'PAY\\_2\\_.1'\n",
       "\\item 'PAY\\_2\\_2'\n",
       "\\item 'PAY\\_3\\_3'\n",
       "\\item 'PAY\\_3\\_4'\n",
       "\\item 'PAY\\_4\\_3'\n",
       "\\item 'PAY\\_4\\_5'\n",
       "\\item 'PAY\\_5\\_3'\n",
       "\\item 'PAY\\_6\\_2'\n",
       "\\item 'PAY\\_6\\_3'\n",
       "\\end{enumerate*}\n"
      ],
      "text/markdown": [
       "1. 'LIMIT_BAL'\n",
       "2. 'BILL_AMT2'\n",
       "3. 'PAY_AMT1'\n",
       "4. 'EDUCATION_5'\n",
       "5. 'MARRIAGE_2'\n",
       "6. 'PAY_0_.1'\n",
       "7. 'PAY_0_1'\n",
       "8. 'PAY_0_2'\n",
       "9. 'PAY_0_3'\n",
       "10. 'PAY_0_4'\n",
       "11. 'PAY_0_8'\n",
       "12. 'PAY_2_.1'\n",
       "13. 'PAY_2_2'\n",
       "14. 'PAY_3_3'\n",
       "15. 'PAY_3_4'\n",
       "16. 'PAY_4_3'\n",
       "17. 'PAY_4_5'\n",
       "18. 'PAY_5_3'\n",
       "19. 'PAY_6_2'\n",
       "20. 'PAY_6_3'\n",
       "\n",
       "\n"
      ],
      "text/plain": [
       " [1] \"LIMIT_BAL\"   \"BILL_AMT2\"   \"PAY_AMT1\"    \"EDUCATION_5\" \"MARRIAGE_2\" \n",
       " [6] \"PAY_0_.1\"    \"PAY_0_1\"     \"PAY_0_2\"     \"PAY_0_3\"     \"PAY_0_4\"    \n",
       "[11] \"PAY_0_8\"     \"PAY_2_.1\"    \"PAY_2_2\"     \"PAY_3_3\"     \"PAY_3_4\"    \n",
       "[16] \"PAY_4_3\"     \"PAY_4_5\"     \"PAY_5_3\"     \"PAY_6_2\"     \"PAY_6_3\"    "
      ]
     },
     "metadata": {},
     "output_type": "display_data"
    },
    {
     "name": "stdout",
     "output_type": "stream",
     "text": [
      "[1] \"best variables by backward cp\"\n"
     ]
    },
    {
     "data": {
      "text/html": [
       "<style>\n",
       ".list-inline {list-style: none; margin:0; padding: 0}\n",
       ".list-inline>li {display: inline-block}\n",
       ".list-inline>li:not(:last-child)::after {content: \"\\00b7\"; padding: 0 .5ex}\n",
       "</style>\n",
       "<ol class=list-inline><li>'LIMIT_BAL'</li><li>'PAY_0_.1'</li><li>'PAY_0_1'</li><li>'PAY_0_2'</li><li>'PAY_0_3'</li><li>'PAY_3_3'</li><li>'PAY_4_3'</li><li>'PAY_6_2'</li><li>'PAY_6_3'</li></ol>\n"
      ],
      "text/latex": [
       "\\begin{enumerate*}\n",
       "\\item 'LIMIT\\_BAL'\n",
       "\\item 'PAY\\_0\\_.1'\n",
       "\\item 'PAY\\_0\\_1'\n",
       "\\item 'PAY\\_0\\_2'\n",
       "\\item 'PAY\\_0\\_3'\n",
       "\\item 'PAY\\_3\\_3'\n",
       "\\item 'PAY\\_4\\_3'\n",
       "\\item 'PAY\\_6\\_2'\n",
       "\\item 'PAY\\_6\\_3'\n",
       "\\end{enumerate*}\n"
      ],
      "text/markdown": [
       "1. 'LIMIT_BAL'\n",
       "2. 'PAY_0_.1'\n",
       "3. 'PAY_0_1'\n",
       "4. 'PAY_0_2'\n",
       "5. 'PAY_0_3'\n",
       "6. 'PAY_3_3'\n",
       "7. 'PAY_4_3'\n",
       "8. 'PAY_6_2'\n",
       "9. 'PAY_6_3'\n",
       "\n",
       "\n"
      ],
      "text/plain": [
       "[1] \"LIMIT_BAL\" \"PAY_0_.1\"  \"PAY_0_1\"   \"PAY_0_2\"   \"PAY_0_3\"   \"PAY_3_3\"  \n",
       "[7] \"PAY_4_3\"   \"PAY_6_2\"   \"PAY_6_3\"  "
      ]
     },
     "metadata": {},
     "output_type": "display_data"
    },
    {
     "name": "stdout",
     "output_type": "stream",
     "text": [
      "[1] \"best variables by backward bic\"\n"
     ]
    },
    {
     "data": {
      "text/html": [
       "<style>\n",
       ".list-inline {list-style: none; margin:0; padding: 0}\n",
       ".list-inline>li {display: inline-block}\n",
       ".list-inline>li:not(:last-child)::after {content: \"\\00b7\"; padding: 0 .5ex}\n",
       "</style>\n",
       "<ol class=list-inline><li>'LIMIT_BAL'</li><li>'PAY_0_.1'</li><li>'PAY_0_1'</li><li>'PAY_0_2'</li><li>'PAY_0_3'</li><li>'PAY_3_3'</li><li>'PAY_4_3'</li><li>'PAY_6_2'</li><li>'PAY_6_3'</li></ol>\n"
      ],
      "text/latex": [
       "\\begin{enumerate*}\n",
       "\\item 'LIMIT\\_BAL'\n",
       "\\item 'PAY\\_0\\_.1'\n",
       "\\item 'PAY\\_0\\_1'\n",
       "\\item 'PAY\\_0\\_2'\n",
       "\\item 'PAY\\_0\\_3'\n",
       "\\item 'PAY\\_3\\_3'\n",
       "\\item 'PAY\\_4\\_3'\n",
       "\\item 'PAY\\_6\\_2'\n",
       "\\item 'PAY\\_6\\_3'\n",
       "\\end{enumerate*}\n"
      ],
      "text/markdown": [
       "1. 'LIMIT_BAL'\n",
       "2. 'PAY_0_.1'\n",
       "3. 'PAY_0_1'\n",
       "4. 'PAY_0_2'\n",
       "5. 'PAY_0_3'\n",
       "6. 'PAY_3_3'\n",
       "7. 'PAY_4_3'\n",
       "8. 'PAY_6_2'\n",
       "9. 'PAY_6_3'\n",
       "\n",
       "\n"
      ],
      "text/plain": [
       "[1] \"LIMIT_BAL\" \"PAY_0_.1\"  \"PAY_0_1\"   \"PAY_0_2\"   \"PAY_0_3\"   \"PAY_3_3\"  \n",
       "[7] \"PAY_4_3\"   \"PAY_6_2\"   \"PAY_6_3\"  "
      ]
     },
     "metadata": {},
     "output_type": "display_data"
    },
    {
     "name": "stdout",
     "output_type": "stream",
     "text": [
      "[1] \"best variables by Ridge Regression\"\n"
     ]
    },
    {
     "data": {
      "text/html": [
       "<style>\n",
       ".list-inline {list-style: none; margin:0; padding: 0}\n",
       ".list-inline>li {display: inline-block}\n",
       ".list-inline>li:not(:last-child)::after {content: \"\\00b7\"; padding: 0 .5ex}\n",
       "</style>\n",
       "<ol class=list-inline><li>'LIMIT_BAL'</li><li>'SEX'</li><li>'AGE'</li><li>'BILL_AMT1'</li><li>'BILL_AMT2'</li><li>'BILL_AMT3'</li><li>'BILL_AMT4'</li><li>'BILL_AMT5'</li><li>'BILL_AMT6'</li><li>'PAY_AMT1'</li><li>'PAY_AMT2'</li><li>'PAY_AMT3'</li><li>'PAY_AMT4'</li><li>'PAY_AMT5'</li><li>'PAY_AMT6'</li><li>'EDUCATION_1'</li><li>'EDUCATION_2'</li><li>'EDUCATION_3'</li><li>'EDUCATION_4'</li><li>'EDUCATION_5'</li><li>'EDUCATION_6'</li><li>'MARRIAGE_1'</li><li>'MARRIAGE_2'</li><li>'MARRIAGE_3'</li><li>'PAY_0_.1'</li><li>'PAY_0_0'</li><li>'PAY_0_1'</li><li>'PAY_0_2'</li><li>'PAY_0_3'</li></ol>\n"
      ],
      "text/latex": [
       "\\begin{enumerate*}\n",
       "\\item 'LIMIT\\_BAL'\n",
       "\\item 'SEX'\n",
       "\\item 'AGE'\n",
       "\\item 'BILL\\_AMT1'\n",
       "\\item 'BILL\\_AMT2'\n",
       "\\item 'BILL\\_AMT3'\n",
       "\\item 'BILL\\_AMT4'\n",
       "\\item 'BILL\\_AMT5'\n",
       "\\item 'BILL\\_AMT6'\n",
       "\\item 'PAY\\_AMT1'\n",
       "\\item 'PAY\\_AMT2'\n",
       "\\item 'PAY\\_AMT3'\n",
       "\\item 'PAY\\_AMT4'\n",
       "\\item 'PAY\\_AMT5'\n",
       "\\item 'PAY\\_AMT6'\n",
       "\\item 'EDUCATION\\_1'\n",
       "\\item 'EDUCATION\\_2'\n",
       "\\item 'EDUCATION\\_3'\n",
       "\\item 'EDUCATION\\_4'\n",
       "\\item 'EDUCATION\\_5'\n",
       "\\item 'EDUCATION\\_6'\n",
       "\\item 'MARRIAGE\\_1'\n",
       "\\item 'MARRIAGE\\_2'\n",
       "\\item 'MARRIAGE\\_3'\n",
       "\\item 'PAY\\_0\\_.1'\n",
       "\\item 'PAY\\_0\\_0'\n",
       "\\item 'PAY\\_0\\_1'\n",
       "\\item 'PAY\\_0\\_2'\n",
       "\\item 'PAY\\_0\\_3'\n",
       "\\end{enumerate*}\n"
      ],
      "text/markdown": [
       "1. 'LIMIT_BAL'\n",
       "2. 'SEX'\n",
       "3. 'AGE'\n",
       "4. 'BILL_AMT1'\n",
       "5. 'BILL_AMT2'\n",
       "6. 'BILL_AMT3'\n",
       "7. 'BILL_AMT4'\n",
       "8. 'BILL_AMT5'\n",
       "9. 'BILL_AMT6'\n",
       "10. 'PAY_AMT1'\n",
       "11. 'PAY_AMT2'\n",
       "12. 'PAY_AMT3'\n",
       "13. 'PAY_AMT4'\n",
       "14. 'PAY_AMT5'\n",
       "15. 'PAY_AMT6'\n",
       "16. 'EDUCATION_1'\n",
       "17. 'EDUCATION_2'\n",
       "18. 'EDUCATION_3'\n",
       "19. 'EDUCATION_4'\n",
       "20. 'EDUCATION_5'\n",
       "21. 'EDUCATION_6'\n",
       "22. 'MARRIAGE_1'\n",
       "23. 'MARRIAGE_2'\n",
       "24. 'MARRIAGE_3'\n",
       "25. 'PAY_0_.1'\n",
       "26. 'PAY_0_0'\n",
       "27. 'PAY_0_1'\n",
       "28. 'PAY_0_2'\n",
       "29. 'PAY_0_3'\n",
       "\n",
       "\n"
      ],
      "text/plain": [
       " [1] \"LIMIT_BAL\"   \"SEX\"         \"AGE\"         \"BILL_AMT1\"   \"BILL_AMT2\"  \n",
       " [6] \"BILL_AMT3\"   \"BILL_AMT4\"   \"BILL_AMT5\"   \"BILL_AMT6\"   \"PAY_AMT1\"   \n",
       "[11] \"PAY_AMT2\"    \"PAY_AMT3\"    \"PAY_AMT4\"    \"PAY_AMT5\"    \"PAY_AMT6\"   \n",
       "[16] \"EDUCATION_1\" \"EDUCATION_2\" \"EDUCATION_3\" \"EDUCATION_4\" \"EDUCATION_5\"\n",
       "[21] \"EDUCATION_6\" \"MARRIAGE_1\"  \"MARRIAGE_2\"  \"MARRIAGE_3\"  \"PAY_0_.1\"   \n",
       "[26] \"PAY_0_0\"     \"PAY_0_1\"     \"PAY_0_2\"     \"PAY_0_3\"    "
      ]
     },
     "metadata": {},
     "output_type": "display_data"
    },
    {
     "name": "stdout",
     "output_type": "stream",
     "text": [
      "[1] \"best variables by Lasso Regression\"\n"
     ]
    },
    {
     "data": {
      "text/html": [
       "<style>\n",
       ".list-inline {list-style: none; margin:0; padding: 0}\n",
       ".list-inline>li {display: inline-block}\n",
       ".list-inline>li:not(:last-child)::after {content: \"\\00b7\"; padding: 0 .5ex}\n",
       "</style>\n",
       "<ol class=list-inline><li>'LIMIT_BAL'</li><li>'PAY_AMT1'</li><li>'PAY_AMT2'</li><li>'PAY_AMT4'</li><li>'EDUCATION_5'</li><li>'PAY_0_0'</li><li>'PAY_0_1'</li><li>'PAY_0_2'</li><li>'PAY_0_3'</li></ol>\n"
      ],
      "text/latex": [
       "\\begin{enumerate*}\n",
       "\\item 'LIMIT\\_BAL'\n",
       "\\item 'PAY\\_AMT1'\n",
       "\\item 'PAY\\_AMT2'\n",
       "\\item 'PAY\\_AMT4'\n",
       "\\item 'EDUCATION\\_5'\n",
       "\\item 'PAY\\_0\\_0'\n",
       "\\item 'PAY\\_0\\_1'\n",
       "\\item 'PAY\\_0\\_2'\n",
       "\\item 'PAY\\_0\\_3'\n",
       "\\end{enumerate*}\n"
      ],
      "text/markdown": [
       "1. 'LIMIT_BAL'\n",
       "2. 'PAY_AMT1'\n",
       "3. 'PAY_AMT2'\n",
       "4. 'PAY_AMT4'\n",
       "5. 'EDUCATION_5'\n",
       "6. 'PAY_0_0'\n",
       "7. 'PAY_0_1'\n",
       "8. 'PAY_0_2'\n",
       "9. 'PAY_0_3'\n",
       "\n",
       "\n"
      ],
      "text/plain": [
       "[1] \"LIMIT_BAL\"   \"PAY_AMT1\"    \"PAY_AMT2\"    \"PAY_AMT4\"    \"EDUCATION_5\"\n",
       "[6] \"PAY_0_0\"     \"PAY_0_1\"     \"PAY_0_2\"     \"PAY_0_3\"    "
      ]
     },
     "metadata": {},
     "output_type": "display_data"
    }
   ],
   "source": [
    "# selection of forward model based on cp\n",
    "print('best variables by forward cp')\n",
    "selection.fwd.cp\n",
    "# selection of forward model based on bic\n",
    "print('best variables by forward bic')\n",
    "selection.fwd.bic\n",
    "# selection of backward model based on cp\n",
    "print('best variables by backward cp')\n",
    "selection.bwd.cp\n",
    "# selection of backward model based on bic\n",
    "print('best variables by backward bic')\n",
    "selection.bwd.bic\n",
    "# selection of best model by Ridge Regression\n",
    "print('best variables by Ridge Regression')\n",
    "selection.ridge\n",
    "# selection of best model by Lasso Regression\n",
    "print('best variables by Lasso Regression')\n",
    "selection.lasso"
   ]
  },
  {
   "cell_type": "code",
   "execution_count": 81,
   "id": "68be8369",
   "metadata": {},
   "outputs": [
    {
     "data": {
      "text/html": [
       "<style>\n",
       ".list-inline {list-style: none; margin:0; padding: 0}\n",
       ".list-inline>li {display: inline-block}\n",
       ".list-inline>li:not(:last-child)::after {content: \"\\00b7\"; padding: 0 .5ex}\n",
       "</style>\n",
       "<ol class=list-inline><li>'LIMIT_BAL'</li><li>'PAY_0_1'</li><li>'PAY_0_2'</li><li>'PAY_0_3'</li></ol>\n"
      ],
      "text/latex": [
       "\\begin{enumerate*}\n",
       "\\item 'LIMIT\\_BAL'\n",
       "\\item 'PAY\\_0\\_1'\n",
       "\\item 'PAY\\_0\\_2'\n",
       "\\item 'PAY\\_0\\_3'\n",
       "\\end{enumerate*}\n"
      ],
      "text/markdown": [
       "1. 'LIMIT_BAL'\n",
       "2. 'PAY_0_1'\n",
       "3. 'PAY_0_2'\n",
       "4. 'PAY_0_3'\n",
       "\n",
       "\n"
      ],
      "text/plain": [
       "[1] \"LIMIT_BAL\" \"PAY_0_1\"   \"PAY_0_2\"   \"PAY_0_3\"  "
      ]
     },
     "metadata": {},
     "output_type": "display_data"
    }
   ],
   "source": [
    "intersect=intersect(\n",
    "    intersect(\n",
    "    intersect(\n",
    "    intersect(\n",
    "    intersect(selection.fwd.cp,selection.fwd.bic),\n",
    "    selection.bwd.cp),\n",
    "    selection.bwd.bic),\n",
    "    selection.ridge),\n",
    "    selection.lasso)\n",
    "intersect"
   ]
  },
  {
   "cell_type": "code",
   "execution_count": 89,
   "id": "4c5174b9",
   "metadata": {},
   "outputs": [
    {
     "data": {
      "text/html": [
       "<style>\n",
       ".list-inline {list-style: none; margin:0; padding: 0}\n",
       ".list-inline>li {display: inline-block}\n",
       ".list-inline>li:not(:last-child)::after {content: \"\\00b7\"; padding: 0 .5ex}\n",
       "</style>\n",
       "<ol class=list-inline><li>'LIMIT_BAL'</li><li>'BILL_AMT2'</li><li>'PAY_AMT4'</li><li>'PAY_0_2'</li><li>'PAY_AMT6'</li><li>'PAY_3_3'</li><li>'PAY_AMT1'</li><li>'PAY_6_2'</li><li>'PAY_6_3'</li></ol>\n"
      ],
      "text/latex": [
       "\\begin{enumerate*}\n",
       "\\item 'LIMIT\\_BAL'\n",
       "\\item 'BILL\\_AMT2'\n",
       "\\item 'PAY\\_AMT4'\n",
       "\\item 'PAY\\_0\\_2'\n",
       "\\item 'PAY\\_AMT6'\n",
       "\\item 'PAY\\_3\\_3'\n",
       "\\item 'PAY\\_AMT1'\n",
       "\\item 'PAY\\_6\\_2'\n",
       "\\item 'PAY\\_6\\_3'\n",
       "\\end{enumerate*}\n"
      ],
      "text/markdown": [
       "1. 'LIMIT_BAL'\n",
       "2. 'BILL_AMT2'\n",
       "3. 'PAY_AMT4'\n",
       "4. 'PAY_0_2'\n",
       "5. 'PAY_AMT6'\n",
       "6. 'PAY_3_3'\n",
       "7. 'PAY_AMT1'\n",
       "8. 'PAY_6_2'\n",
       "9. 'PAY_6_3'\n",
       "\n",
       "\n"
      ],
      "text/plain": [
       "[1] \"LIMIT_BAL\" \"BILL_AMT2\" \"PAY_AMT4\"  \"PAY_0_2\"   \"PAY_AMT6\"  \"PAY_3_3\"  \n",
       "[7] \"PAY_AMT1\"  \"PAY_6_2\"   \"PAY_6_3\"  "
      ]
     },
     "metadata": {},
     "output_type": "display_data"
    }
   ],
   "source": [
    "common.variables=c('LIMIT_BAL','BILL_AMT2','PAY_AMT4','PAY_0_2','PAY_AMT6','PAY_3_3','PAY_AMT1','PAY_6_2','PAY_6_3')\n",
    "common.variables"
   ]
  },
  {
   "cell_type": "markdown",
   "id": "f6e564c2",
   "metadata": {},
   "source": [
    "### 2. ML Models"
   ]
  },
  {
   "cell_type": "markdown",
   "id": "175c003d",
   "metadata": {},
   "source": [
    "#### 2.1. Logistic Regression"
   ]
  },
  {
   "cell_type": "code",
   "execution_count": 90,
   "id": "1569cf27",
   "metadata": {},
   "outputs": [],
   "source": [
    "#create selection for cross validation\n",
    "DF_Selected<-DF[,c(common.variables,'default')]"
   ]
  },
  {
   "cell_type": "code",
   "execution_count": 91,
   "id": "ccbcf1e6",
   "metadata": {},
   "outputs": [],
   "source": [
    "set.seed(613)\n",
    "#seting the row indexes\n",
    "index <- sample(1:nrow(DF_Selected), round(0.7 * nrow(DF), 0))\n",
    "#spliting data based on the index\n",
    "train <- DF_Selected[index, ]\n",
    "test <- DF_Selected[-index, ]"
   ]
  },
  {
   "cell_type": "code",
   "execution_count": 92,
   "id": "04ac8e8b",
   "metadata": {},
   "outputs": [
    {
     "data": {
      "text/plain": [
       "\n",
       "Call:\n",
       "glm(formula = I(default) ~ ., family = binomial, data = train)\n",
       "\n",
       "Deviance Residuals: \n",
       "    Min       1Q   Median       3Q      Max  \n",
       "-2.1711  -0.6475  -0.5870  -0.3438   3.2935  \n",
       "\n",
       "Coefficients:\n",
       "              Estimate Std. Error z value Pr(>|z|)    \n",
       "(Intercept) -1.307e+00  3.952e-02 -33.074  < 2e-16 ***\n",
       "LIMIT_BAL   -1.266e-06  2.067e-07  -6.127 8.97e-10 ***\n",
       "BILL_AMT2    1.237e-06  3.734e-07   3.313 0.000925 ***\n",
       "PAY_AMT4    -1.424e-05  3.243e-06  -4.390 1.13e-05 ***\n",
       "PAY_0_2      2.022e+00  6.924e-02  29.199  < 2e-16 ***\n",
       "PAY_AMT6    -4.964e-06  1.963e-06  -2.529 0.011428 *  \n",
       "PAY_3_3      8.824e-01  2.174e-01   4.059 4.93e-05 ***\n",
       "PAY_AMT1    -2.536e-05  4.088e-06  -6.203 5.53e-10 ***\n",
       "PAY_6_2      9.750e-01  6.773e-02  14.395  < 2e-16 ***\n",
       "PAY_6_3      1.594e+00  2.504e-01   6.366 1.94e-10 ***\n",
       "---\n",
       "Signif. codes:  0 '***' 0.001 '**' 0.01 '*' 0.05 '.' 0.1 ' ' 1\n",
       "\n",
       "(Dispersion parameter for binomial family taken to be 1)\n",
       "\n",
       "    Null deviance: 14876  on 13999  degrees of freedom\n",
       "Residual deviance: 12950  on 13990  degrees of freedom\n",
       "AIC: 12970\n",
       "\n",
       "Number of Fisher Scoring iterations: 6\n"
      ]
     },
     "metadata": {},
     "output_type": "display_data"
    }
   ],
   "source": [
    "#first Logistic to whol data\n",
    "glm.fits=glm(I(default)~ .,data=train,family=binomial)\n",
    "summary(glm.fits)"
   ]
  },
  {
   "cell_type": "code",
   "execution_count": 93,
   "id": "36e996aa",
   "metadata": {},
   "outputs": [
    {
     "data": {
      "text/html": [
       "<table class=\"dataframe\">\n",
       "<caption>A matrix: 10 × 4 of type dbl</caption>\n",
       "<thead>\n",
       "\t<tr><th></th><th scope=col>Estimate</th><th scope=col>Std. Error</th><th scope=col>z value</th><th scope=col>Pr(&gt;|z|)</th></tr>\n",
       "</thead>\n",
       "<tbody>\n",
       "\t<tr><th scope=row>(Intercept)</th><td>-1.307262e+00</td><td>3.952487e-02</td><td>-33.074425</td><td>6.932005e-240</td></tr>\n",
       "\t<tr><th scope=row>LIMIT_BAL</th><td>-1.266229e-06</td><td>2.066724e-07</td><td> -6.126747</td><td> 8.969408e-10</td></tr>\n",
       "\t<tr><th scope=row>BILL_AMT2</th><td> 1.236791e-06</td><td>3.733702e-07</td><td>  3.312506</td><td> 9.246399e-04</td></tr>\n",
       "\t<tr><th scope=row>PAY_AMT4</th><td>-1.423703e-05</td><td>3.243182e-06</td><td> -4.389834</td><td> 1.134371e-05</td></tr>\n",
       "\t<tr><th scope=row>PAY_0_2</th><td> 2.021607e+00</td><td>6.923571e-02</td><td> 29.198911</td><td>2.001928e-187</td></tr>\n",
       "\t<tr><th scope=row>PAY_AMT6</th><td>-4.964242e-06</td><td>1.962658e-06</td><td> -2.529347</td><td> 1.142751e-02</td></tr>\n",
       "\t<tr><th scope=row>PAY_3_3</th><td> 8.823935e-01</td><td>2.173844e-01</td><td>  4.059138</td><td> 4.925419e-05</td></tr>\n",
       "\t<tr><th scope=row>PAY_AMT1</th><td>-2.535866e-05</td><td>4.087922e-06</td><td> -6.203314</td><td> 5.528631e-10</td></tr>\n",
       "\t<tr><th scope=row>PAY_6_2</th><td> 9.750039e-01</td><td>6.773217e-02</td><td> 14.394989</td><td> 5.563403e-47</td></tr>\n",
       "\t<tr><th scope=row>PAY_6_3</th><td> 1.593956e+00</td><td>2.503745e-01</td><td>  6.366286</td><td> 1.936608e-10</td></tr>\n",
       "</tbody>\n",
       "</table>\n"
      ],
      "text/latex": [
       "A matrix: 10 × 4 of type dbl\n",
       "\\begin{tabular}{r|llll}\n",
       "  & Estimate & Std. Error & z value & Pr(>\\textbar{}z\\textbar{})\\\\\n",
       "\\hline\n",
       "\t(Intercept) & -1.307262e+00 & 3.952487e-02 & -33.074425 & 6.932005e-240\\\\\n",
       "\tLIMIT\\_BAL & -1.266229e-06 & 2.066724e-07 &  -6.126747 &  8.969408e-10\\\\\n",
       "\tBILL\\_AMT2 &  1.236791e-06 & 3.733702e-07 &   3.312506 &  9.246399e-04\\\\\n",
       "\tPAY\\_AMT4 & -1.423703e-05 & 3.243182e-06 &  -4.389834 &  1.134371e-05\\\\\n",
       "\tPAY\\_0\\_2 &  2.021607e+00 & 6.923571e-02 &  29.198911 & 2.001928e-187\\\\\n",
       "\tPAY\\_AMT6 & -4.964242e-06 & 1.962658e-06 &  -2.529347 &  1.142751e-02\\\\\n",
       "\tPAY\\_3\\_3 &  8.823935e-01 & 2.173844e-01 &   4.059138 &  4.925419e-05\\\\\n",
       "\tPAY\\_AMT1 & -2.535866e-05 & 4.087922e-06 &  -6.203314 &  5.528631e-10\\\\\n",
       "\tPAY\\_6\\_2 &  9.750039e-01 & 6.773217e-02 &  14.394989 &  5.563403e-47\\\\\n",
       "\tPAY\\_6\\_3 &  1.593956e+00 & 2.503745e-01 &   6.366286 &  1.936608e-10\\\\\n",
       "\\end{tabular}\n"
      ],
      "text/markdown": [
       "\n",
       "A matrix: 10 × 4 of type dbl\n",
       "\n",
       "| <!--/--> | Estimate | Std. Error | z value | Pr(&gt;|z|) |\n",
       "|---|---|---|---|---|\n",
       "| (Intercept) | -1.307262e+00 | 3.952487e-02 | -33.074425 | 6.932005e-240 |\n",
       "| LIMIT_BAL | -1.266229e-06 | 2.066724e-07 |  -6.126747 |  8.969408e-10 |\n",
       "| BILL_AMT2 |  1.236791e-06 | 3.733702e-07 |   3.312506 |  9.246399e-04 |\n",
       "| PAY_AMT4 | -1.423703e-05 | 3.243182e-06 |  -4.389834 |  1.134371e-05 |\n",
       "| PAY_0_2 |  2.021607e+00 | 6.923571e-02 |  29.198911 | 2.001928e-187 |\n",
       "| PAY_AMT6 | -4.964242e-06 | 1.962658e-06 |  -2.529347 |  1.142751e-02 |\n",
       "| PAY_3_3 |  8.823935e-01 | 2.173844e-01 |   4.059138 |  4.925419e-05 |\n",
       "| PAY_AMT1 | -2.535866e-05 | 4.087922e-06 |  -6.203314 |  5.528631e-10 |\n",
       "| PAY_6_2 |  9.750039e-01 | 6.773217e-02 |  14.394989 |  5.563403e-47 |\n",
       "| PAY_6_3 |  1.593956e+00 | 2.503745e-01 |   6.366286 |  1.936608e-10 |\n",
       "\n"
      ],
      "text/plain": [
       "            Estimate      Std. Error   z value    Pr(>|z|)     \n",
       "(Intercept) -1.307262e+00 3.952487e-02 -33.074425 6.932005e-240\n",
       "LIMIT_BAL   -1.266229e-06 2.066724e-07  -6.126747  8.969408e-10\n",
       "BILL_AMT2    1.236791e-06 3.733702e-07   3.312506  9.246399e-04\n",
       "PAY_AMT4    -1.423703e-05 3.243182e-06  -4.389834  1.134371e-05\n",
       "PAY_0_2      2.021607e+00 6.923571e-02  29.198911 2.001928e-187\n",
       "PAY_AMT6    -4.964242e-06 1.962658e-06  -2.529347  1.142751e-02\n",
       "PAY_3_3      8.823935e-01 2.173844e-01   4.059138  4.925419e-05\n",
       "PAY_AMT1    -2.535866e-05 4.087922e-06  -6.203314  5.528631e-10\n",
       "PAY_6_2      9.750039e-01 6.773217e-02  14.394989  5.563403e-47\n",
       "PAY_6_3      1.593956e+00 2.503745e-01   6.366286  1.936608e-10"
      ]
     },
     "metadata": {},
     "output_type": "display_data"
    },
    {
     "data": {
      "text/html": [
       "<style>\n",
       ".dl-inline {width: auto; margin:0; padding: 0}\n",
       ".dl-inline>dt, .dl-inline>dd {float: none; width: auto; display: inline-block}\n",
       ".dl-inline>dt::after {content: \":\\0020\"; padding-right: .5ex}\n",
       ".dl-inline>dt:not(:first-of-type) {padding-left: .5ex}\n",
       "</style><dl class=dl-inline><dt>(Intercept)</dt><dd>6.932005006846e-240</dd><dt>LIMIT_BAL</dt><dd>8.96940833589253e-10</dd><dt>BILL_AMT2</dt><dd>0.00092463987155663</dd><dt>PAY_AMT4</dt><dd>1.13437090309095e-05</dd><dt>PAY_0_2</dt><dd>2.00192818223075e-187</dd><dt>PAY_AMT6</dt><dd>0.0114275061026595</dd><dt>PAY_3_3</dt><dd>4.92541853977842e-05</dd><dt>PAY_AMT1</dt><dd>5.52863072161038e-10</dd><dt>PAY_6_2</dt><dd>5.56340318351733e-47</dd><dt>PAY_6_3</dt><dd>1.93660804487558e-10</dd></dl>\n"
      ],
      "text/latex": [
       "\\begin{description*}\n",
       "\\item[(Intercept)] 6.932005006846e-240\n",
       "\\item[LIMIT\\textbackslash{}\\_BAL] 8.96940833589253e-10\n",
       "\\item[BILL\\textbackslash{}\\_AMT2] 0.00092463987155663\n",
       "\\item[PAY\\textbackslash{}\\_AMT4] 1.13437090309095e-05\n",
       "\\item[PAY\\textbackslash{}\\_0\\textbackslash{}\\_2] 2.00192818223075e-187\n",
       "\\item[PAY\\textbackslash{}\\_AMT6] 0.0114275061026595\n",
       "\\item[PAY\\textbackslash{}\\_3\\textbackslash{}\\_3] 4.92541853977842e-05\n",
       "\\item[PAY\\textbackslash{}\\_AMT1] 5.52863072161038e-10\n",
       "\\item[PAY\\textbackslash{}\\_6\\textbackslash{}\\_2] 5.56340318351733e-47\n",
       "\\item[PAY\\textbackslash{}\\_6\\textbackslash{}\\_3] 1.93660804487558e-10\n",
       "\\end{description*}\n"
      ],
      "text/markdown": [
       "(Intercept)\n",
       ":   6.932005006846e-240LIMIT_BAL\n",
       ":   8.96940833589253e-10BILL_AMT2\n",
       ":   0.00092463987155663PAY_AMT4\n",
       ":   1.13437090309095e-05PAY_0_2\n",
       ":   2.00192818223075e-187PAY_AMT6\n",
       ":   0.0114275061026595PAY_3_3\n",
       ":   4.92541853977842e-05PAY_AMT1\n",
       ":   5.52863072161038e-10PAY_6_2\n",
       ":   5.56340318351733e-47PAY_6_3\n",
       ":   1.93660804487558e-10\n",
       "\n"
      ],
      "text/plain": [
       "  (Intercept)     LIMIT_BAL     BILL_AMT2      PAY_AMT4       PAY_0_2 \n",
       "6.932005e-240  8.969408e-10  9.246399e-04  1.134371e-05 2.001928e-187 \n",
       "     PAY_AMT6       PAY_3_3      PAY_AMT1       PAY_6_2       PAY_6_3 \n",
       " 1.142751e-02  4.925419e-05  5.528631e-10  5.563403e-47  1.936608e-10 "
      ]
     },
     "metadata": {},
     "output_type": "display_data"
    }
   ],
   "source": [
    "summary(glm.fits)$coef\n",
    "summary(glm.fits)$coef[,4]"
   ]
  },
  {
   "cell_type": "code",
   "execution_count": 94,
   "id": "9d2997d5",
   "metadata": {},
   "outputs": [
    {
     "data": {
      "text/html": [
       "<style>\n",
       ".dl-inline {width: auto; margin:0; padding: 0}\n",
       ".dl-inline>dt, .dl-inline>dd {float: none; width: auto; display: inline-block}\n",
       ".dl-inline>dt::after {content: \":\\0020\"; padding-right: .5ex}\n",
       ".dl-inline>dt:not(:first-of-type) {padding-left: .5ex}\n",
       "</style><dl class=dl-inline><dt>6794</dt><dd>0.116232935757524</dd><dt>4065</dt><dd>0.119771739163227</dd><dt>11976</dt><dd>0.136682256106391</dd><dt>7623</dt><dd>0.653648917941011</dd><dt>15322</dt><dd>0.171583011217294</dd><dt>6396</dt><dd>0.197061208111686</dd><dt>13642</dt><dd>0.205046547741485</dd><dt>15071</dt><dd>0.194001739618427</dd><dt>18252</dt><dd>0.203867961517753</dd><dt>2308</dt><dd>0.553284721534398</dd></dl>\n"
      ],
      "text/latex": [
       "\\begin{description*}\n",
       "\\item[6794] 0.116232935757524\n",
       "\\item[4065] 0.119771739163227\n",
       "\\item[11976] 0.136682256106391\n",
       "\\item[7623] 0.653648917941011\n",
       "\\item[15322] 0.171583011217294\n",
       "\\item[6396] 0.197061208111686\n",
       "\\item[13642] 0.205046547741485\n",
       "\\item[15071] 0.194001739618427\n",
       "\\item[18252] 0.203867961517753\n",
       "\\item[2308] 0.553284721534398\n",
       "\\end{description*}\n"
      ],
      "text/markdown": [
       "6794\n",
       ":   0.1162329357575244065\n",
       ":   0.11977173916322711976\n",
       ":   0.1366822561063917623\n",
       ":   0.65364891794101115322\n",
       ":   0.1715830112172946396\n",
       ":   0.19706120811168613642\n",
       ":   0.20504654774148515071\n",
       ":   0.19400173961842718252\n",
       ":   0.2038679615177532308\n",
       ":   0.553284721534398\n",
       "\n"
      ],
      "text/plain": [
       "     6794      4065     11976      7623     15322      6396     13642     15071 \n",
       "0.1162329 0.1197717 0.1366823 0.6536489 0.1715830 0.1970612 0.2050465 0.1940017 \n",
       "    18252      2308 \n",
       "0.2038680 0.5532847 "
      ]
     },
     "metadata": {},
     "output_type": "display_data"
    }
   ],
   "source": [
    "glm.probs=predict(glm.fits,newdata=train,type=\"response\")\n",
    "glm.probs[1:10]"
   ]
  },
  {
   "cell_type": "code",
   "execution_count": 95,
   "id": "124660b1",
   "metadata": {},
   "outputs": [],
   "source": [
    "GLMDF<-train\n",
    "GLMDF$predict<- ifelse(glm.probs > 0.5, 1, 0)"
   ]
  },
  {
   "cell_type": "code",
   "execution_count": 96,
   "id": "56412348",
   "metadata": {},
   "outputs": [
    {
     "name": "stdout",
     "output_type": "stream",
     "text": [
      "\n",
      " \n",
      "   Cell Contents\n",
      "|-------------------------|\n",
      "|                       N |\n",
      "| Chi-square contribution |\n",
      "|           N / Row Total |\n",
      "|           N / Col Total |\n",
      "|         N / Table Total |\n",
      "|-------------------------|\n",
      "\n",
      " \n",
      "Total Observations in Table:  14000 \n",
      "\n",
      " \n",
      "              | GLMDF$default \n",
      "GLMDF$predict |         0 |         1 | Row Total | \n",
      "--------------|-----------|-----------|-----------|\n",
      "            0 |     10473 |      2243 |     12716 | \n",
      "              |    36.341 |   126.259 |           | \n",
      "              |     0.824 |     0.176 |     0.908 | \n",
      "              |     0.963 |     0.717 |           | \n",
      "              |     0.748 |     0.160 |           | \n",
      "--------------|-----------|-----------|-----------|\n",
      "            1 |       398 |       886 |      1284 | \n",
      "              |   359.902 |  1250.400 |           | \n",
      "              |     0.310 |     0.690 |     0.092 | \n",
      "              |     0.037 |     0.283 |           | \n",
      "              |     0.028 |     0.063 |           | \n",
      "--------------|-----------|-----------|-----------|\n",
      " Column Total |     10871 |      3129 |     14000 | \n",
      "              |     0.776 |     0.224 |           | \n",
      "--------------|-----------|-----------|-----------|\n",
      "\n",
      " \n"
     ]
    },
    {
     "data": {
      "text/plain": [
       "$t\n",
       "   y\n",
       "x       0     1\n",
       "  0 10473  2243\n",
       "  1   398   886\n",
       "\n",
       "$prop.row\n",
       "   y\n",
       "x           0         1\n",
       "  0 0.8236081 0.1763919\n",
       "  1 0.3099688 0.6900312\n",
       "\n",
       "$prop.col\n",
       "   y\n",
       "x            0          1\n",
       "  0 0.96338883 0.71684244\n",
       "  1 0.03661117 0.28315756\n",
       "\n",
       "$prop.tbl\n",
       "   y\n",
       "x            0          1\n",
       "  0 0.74807143 0.16021429\n",
       "  1 0.02842857 0.06328571\n"
      ]
     },
     "metadata": {},
     "output_type": "display_data"
    }
   ],
   "source": [
    "confusion_matrix<-gmodels::CrossTable(GLMDF$predict,GLMDF$default)\n",
    "confusion_matrix"
   ]
  },
  {
   "cell_type": "code",
   "execution_count": 97,
   "id": "9fce34be",
   "metadata": {},
   "outputs": [
    {
     "name": "stdout",
     "output_type": "stream",
     "text": [
      "[1] \"Accuracy is eual to = 0.811357142857143\"\n",
      "[1] \"error Type One is eual to = 0.036611167325913\"\n",
      "[1] \"error Type Two is eual to = 0.716842441674656\"\n"
     ]
    }
   ],
   "source": [
    "# Make prediction\n",
    "pred_logreg <- predict(glm.fits, newdata=test, type='response')\n",
    "#head(pred_logreg)\n",
    "\n",
    "TP<-confusion_matrix$t[2,2]\n",
    "FP<-confusion_matrix$t[2,1]\n",
    "TN<-confusion_matrix$t[1,1]\n",
    "FN<-confusion_matrix$t[1,2]\n",
    "\n",
    "#accuracy\n",
    "accuracy<-(TP + TN) / (TP + FP + TN + FN)\n",
    "#Errors\n",
    "\n",
    "err_1<-confusion_matrix$prop.col[2,1]\n",
    "err_2<-confusion_matrix$prop.col[1,2]\n",
    "\n",
    "\n",
    "print(paste('Accuracy is eual to =', accuracy))\n",
    "print(paste('error Type One is eual to =', err_1))\n",
    "print(paste('error Type Two is eual to =', err_2))\n"
   ]
  },
  {
   "cell_type": "code",
   "execution_count": 98,
   "id": "11ea29a1",
   "metadata": {},
   "outputs": [
    {
     "data": {
      "text/plain": [
       "    \n",
       "pred    0    1\n",
       "   0 4525  930\n",
       "   1  190  355"
      ]
     },
     "metadata": {},
     "output_type": "display_data"
    },
    {
     "name": "stdout",
     "output_type": "stream",
     "text": [
      "[1] \"Accuracy = 0.81\"\n",
      "[1] \"Precision = 0.65\"\n",
      "[1] \"Sensitivity (TPR) = 0.28\"\n",
      "[1] \"Specificity (TNR) = 0.96\"\n"
     ]
    },
    {
     "name": "stderr",
     "output_type": "stream",
     "text": [
      "Setting levels: control = 0, case = 1\n",
      "\n",
      "Setting direction: controls < cases\n",
      "\n"
     ]
    },
    {
     "name": "stdout",
     "output_type": "stream",
     "text": [
      "[1] \"AUC = 0.740445176969198\"\n"
     ]
    }
   ],
   "source": [
    "\n",
    "\n",
    "# Decision threshold = 0.5\n",
    "threshold <- 0.5\n",
    "pred <- rep(0, nrow(test))\n",
    "pred[pred_logreg > threshold] <- 1\n",
    "\n",
    "# Evaluation\n",
    "table(pred, test$default)\n",
    "acc <- mean(pred == test$default)\n",
    "TP <- table(pred, test$default)[2, 2]\n",
    "TN <- table(pred, test$default)[1, 1]\n",
    "FP <- table(pred, test$default)[2, 1]\n",
    "FN <- table(pred, test$default)[1, 2]\n",
    "\n",
    "print(paste('Accuracy =', round(acc, 2)))\n",
    "print(paste('Precision =', round(TP / (TP + FP), 2)))\n",
    "print(paste('Sensitivity (TPR) =', round(TP / (TP + FN), 2)))\n",
    "print(paste('Specificity (TNR) =', round(TN / (TN + FP), 2)))\n",
    "\n",
    "# AUC\n",
    "pred_roc <- pROC::roc(pred, test$default)\n",
    "pred_auc <- pROC::auc(pred_roc)\n",
    "print(paste('AUC =', pred_auc))"
   ]
  },
  {
   "cell_type": "code",
   "execution_count": 99,
   "id": "91680785",
   "metadata": {},
   "outputs": [
    {
     "data": {
      "image/png": "[encoded data removed]",
      "text/plain": [
       "plot without title"
      ]
     },
     "metadata": {
      "image/png": {
       "height": 420,
       "width": 420
      }
     },
     "output_type": "display_data"
    }
   ],
   "source": [
    "plot(pred_roc)"
   ]
  },
  {
   "cell_type": "code",
   "execution_count": 100,
   "id": "becaba66",
   "metadata": {},
   "outputs": [
    {
     "data": {
      "text/plain": [
       "    \n",
       "pred    0    1\n",
       "   0 4295  781\n",
       "   1  420  504"
      ]
     },
     "metadata": {},
     "output_type": "display_data"
    },
    {
     "name": "stdout",
     "output_type": "stream",
     "text": [
      "[1] \"Accuracy = 0.8\"\n",
      "[1] \"Precision = 0.55\"\n",
      "[1] \"Sensitivity (TPR) = 0.39\"\n",
      "[1] \"Specificity (TNR) = 0.91\"\n"
     ]
    },
    {
     "name": "stderr",
     "output_type": "stream",
     "text": [
      "Setting levels: control = 0, case = 1\n",
      "\n",
      "Setting direction: controls < cases\n",
      "\n"
     ]
    },
    {
     "name": "stdout",
     "output_type": "stream",
     "text": [
      "[1] \"AUC = 0.695796618668959\"\n"
     ]
    }
   ],
   "source": [
    "# Decision threshold = 0.25\n",
    "threshold <- 0.25\n",
    "pred <- rep(0, nrow(test))\n",
    "pred[pred_logreg > threshold] <- 1\n",
    "\n",
    "# Evaluation\n",
    "table(pred, test$default)\n",
    "acc <- mean(pred == test$default)\n",
    "TP <- table(pred, test$default)[2, 2]\n",
    "TN <- table(pred, test$default)[1, 1]\n",
    "FP <- table(pred, test$default)[2, 1]\n",
    "FN <- table(pred, test$default)[1, 2]\n",
    "\n",
    "print(paste('Accuracy =', round(acc, 2)))\n",
    "print(paste('Precision =', round(TP / (TP + FP), 2)))\n",
    "print(paste('Sensitivity (TPR) =', round(TP / (TP + FN), 2)))\n",
    "print(paste('Specificity (TNR) =', round(TN / (TN + FP), 2)))\n",
    "\n",
    "# AUC\n",
    "pred_roc <- pROC::roc(pred, test$default)\n",
    "pred_auc <- pROC::auc(pred_roc)\n",
    "print(paste('AUC =', pred_auc))"
   ]
  },
  {
   "cell_type": "code",
   "execution_count": 101,
   "id": "cee7c813",
   "metadata": {},
   "outputs": [
    {
     "data": {
      "image/png": "[encoded data removed]",
      "text/plain": [
       "plot without title"
      ]
     },
     "metadata": {
      "image/png": {
       "height": 420,
       "width": 420
      }
     },
     "output_type": "display_data"
    }
   ],
   "source": [
    "plot(pred_roc)"
   ]
  },
  {
   "cell_type": "code",
   "execution_count": 102,
   "id": "d33e687d",
   "metadata": {},
   "outputs": [
    {
     "data": {
      "text/plain": [
       "    \n",
       "pred    0    1\n",
       "   0 4669 1162\n",
       "   1   46  123"
      ]
     },
     "metadata": {},
     "output_type": "display_data"
    },
    {
     "name": "stdout",
     "output_type": "stream",
     "text": [
      "[1] \"Accuracy = 0.8\"\n",
      "[1] \"Precision = 0.73\"\n",
      "[1] \"Sensitivity (TPR) = 0.1\"\n",
      "[1] \"Specificity (TNR) = 0.99\"\n"
     ]
    },
    {
     "name": "stderr",
     "output_type": "stream",
     "text": [
      "Setting levels: control = 0, case = 1\n",
      "\n",
      "Setting direction: controls < cases\n",
      "\n"
     ]
    },
    {
     "name": "stdout",
     "output_type": "stream",
     "text": [
      "[1] \"AUC = 0.76426546950141\"\n"
     ]
    }
   ],
   "source": [
    "# Decision threshold = 0.75\n",
    "threshold <- 0.75\n",
    "pred <- rep(0, nrow(test))\n",
    "pred[pred_logreg > threshold] <- 1\n",
    "\n",
    "# Evaluation\n",
    "table(pred, test$default)\n",
    "acc <- mean(pred == test$default)\n",
    "TP <- table(pred, test$default)[2, 2]\n",
    "TN <- table(pred, test$default)[1, 1]\n",
    "FP <- table(pred, test$default)[2, 1]\n",
    "FN <- table(pred, test$default)[1, 2]\n",
    "\n",
    "print(paste('Accuracy =', round(acc, 2)))\n",
    "print(paste('Precision =', round(TP / (TP + FP), 2)))\n",
    "print(paste('Sensitivity (TPR) =', round(TP / (TP + FN), 2)))\n",
    "print(paste('Specificity (TNR) =', round(TN / (TN + FP), 2)))\n",
    "\n",
    "# AUC\n",
    "pred_roc <- pROC::roc(pred, test$default)\n",
    "pred_auc <- pROC::auc(pred_roc)\n",
    "print(paste('AUC =', pred_auc))"
   ]
  },
  {
   "cell_type": "code",
   "execution_count": 103,
   "id": "6f99b90a",
   "metadata": {},
   "outputs": [
    {
     "data": {
      "image/png": "[encoded data removed]",
      "text/plain": [
       "plot without title"
      ]
     },
     "metadata": {
      "image/png": {
       "height": 420,
       "width": 420
      }
     },
     "output_type": "display_data"
    }
   ],
   "source": [
    "plot(pred_roc)"
   ]
  },
  {
   "cell_type": "code",
   "execution_count": 104,
   "id": "6ae9062b",
   "metadata": {},
   "outputs": [
    {
     "name": "stderr",
     "output_type": "stream",
     "text": [
      "Resampling: cross-validation\n",
      "\n",
      "Measures:             auc       \n",
      "\n",
      "[Resample] iter 1:    0.6908993 \n",
      "\n",
      "[Resample] iter 2:    0.7013070 \n",
      "\n",
      "[Resample] iter 3:    0.7276269 \n",
      "\n",
      "[Resample] iter 4:    0.7464150 \n",
      "\n",
      "[Resample] iter 5:    0.7105598 \n",
      "\n",
      "[Resample] iter 6:    0.7268023 \n",
      "\n",
      "[Resample] iter 7:    0.7295216 \n",
      "\n",
      "[Resample] iter 8:    0.7311297 \n",
      "\n",
      "[Resample] iter 9:    0.7141214 \n",
      "\n",
      "[Resample] iter 10:   0.7282610 \n",
      "\n",
      "\n",
      "\n",
      "\n",
      "Aggregated Result: auc.test.mean=0.7206644\n",
      "\n",
      "\n",
      "\n",
      "\n"
     ]
    },
    {
     "data": {
      "text/plain": [
       "Resample Result\n",
       "Task: train\n",
       "Learner: classif.logreg\n",
       "Aggr perf: auc.test.mean=0.7206644\n",
       "Runtime: 0.938135"
      ]
     },
     "metadata": {},
     "output_type": "display_data"
    }
   ],
   "source": [
    "# Set up cross-validation\n",
    "rdesc = makeResampleDesc(\"CV\", iters=10)\n",
    "\n",
    "# Define the model\n",
    "lnr_logreg <- makeLearner(\"classif.logreg\", predict.type=\"prob\", fix.factors.prediction=T)\n",
    "\n",
    "# Define the model\n",
    "task_logreg <- makeClassifTask( data=train, target='default')\n",
    "\n",
    "# Run the k-fold CV\n",
    "resample(lnr_logreg, task_logreg, rdesc, measures=list(mlr::auc))"
   ]
  },
  {
   "cell_type": "markdown",
   "id": "26dda396",
   "metadata": {},
   "source": [
    "#### 2.2. KNN"
   ]
  },
  {
   "cell_type": "code",
   "execution_count": 105,
   "id": "74b7b0ef",
   "metadata": {},
   "outputs": [
    {
     "data": {
      "text/plain": [
       "         \n",
       "knn1_pred     0     1\n",
       "        0 10529  2609\n",
       "        1   342   520"
      ]
     },
     "metadata": {},
     "output_type": "display_data"
    },
    {
     "name": "stdout",
     "output_type": "stream",
     "text": [
      "[1] \"Accuracy = 0.79\"\n",
      "[1] \"Precision = 0.6\"\n",
      "[1] \"Sensitivity (TPR) = 0.17\"\n",
      "[1] \"Specificity (TNR) = 0.97\"\n"
     ]
    },
    {
     "name": "stderr",
     "output_type": "stream",
     "text": [
      "Setting levels: control = 0, case = 1\n",
      "\n",
      "Setting direction: controls < cases\n",
      "\n"
     ]
    },
    {
     "name": "stdout",
     "output_type": "stream",
     "text": [
      "[1] \"AUC = 0.702332000230288\"\n"
     ]
    }
   ],
   "source": [
    "# k = 100\n",
    "set.seed(123)\n",
    "knn1_pred <- knn(train=train[, common.variables],\n",
    "                 test=train[,common.variables],\n",
    "                 cl=train$default,\n",
    "                 k=10)\n",
    "\n",
    "\n",
    "# Evaluation\n",
    "table(knn1_pred, train$default)\n",
    "acc <- mean(knn1_pred == train$default)\n",
    "TP <- table(knn1_pred, train$default)[2, 2]\n",
    "TN <- table(knn1_pred, train$default)[1, 1]\n",
    "FP <- table(knn1_pred, train$default)[2, 1]\n",
    "FN <- table(knn1_pred, train$default)[1, 2]\n",
    "\n",
    "print(paste('Accuracy =', round(acc, 2)))\n",
    "print(paste('Precision =', round(TP / (TP + FP), 2)))\n",
    "print(paste('Sensitivity (TPR) =', round(TP / (TP + FN), 2)))\n",
    "print(paste('Specificity (TNR) =', round(TN / (TN + FP), 2)))\n",
    "\n",
    "# AUC\n",
    "pred_roc <- pROC::roc(knn1_pred, train$default)\n",
    "pred_auc <- pROC::auc(pred_roc)\n",
    "print(paste('AUC =', pred_auc))"
   ]
  },
  {
   "cell_type": "code",
   "execution_count": null,
   "id": "dece9c45",
   "metadata": {},
   "outputs": [],
   "source": [
    "plot(pred_roc)"
   ]
  },
  {
   "cell_type": "code",
   "execution_count": 106,
   "id": "b70aa338",
   "metadata": {},
   "outputs": [
    {
     "data": {
      "text/plain": [
       "         \n",
       "knn1_pred    0    1\n",
       "        0 4692 1266\n",
       "        1   23   19"
      ]
     },
     "metadata": {},
     "output_type": "display_data"
    },
    {
     "name": "stdout",
     "output_type": "stream",
     "text": [
      "[1] \"Accuracy = 0.79\"\n",
      "[1] \"Precision = 0.45\"\n",
      "[1] \"Sensitivity (TPR) = 0.01\"\n",
      "[1] \"Specificity (TNR) = 1\"\n"
     ]
    },
    {
     "name": "stderr",
     "output_type": "stream",
     "text": [
      "Setting levels: control = 0, case = 1\n",
      "\n",
      "Setting direction: controls < cases\n",
      "\n"
     ]
    },
    {
     "name": "stdout",
     "output_type": "stream",
     "text": [
      "[1] \"AUC = 0.619946770248885\"\n"
     ]
    }
   ],
   "source": [
    "# k = 100\n",
    "set.seed(123)\n",
    "knn1_pred <- knn(train=train[, common.variables],\n",
    "                 test=test[,common.variables],\n",
    "                 cl=train$default,\n",
    "                 k=100)\n",
    "\n",
    "\n",
    "# Evaluation\n",
    "table(knn1_pred, test$default)\n",
    "acc <- mean(knn1_pred == test$default)\n",
    "TP <- table(knn1_pred, test$default)[2, 2]\n",
    "TN <- table(knn1_pred, test$default)[1, 1]\n",
    "FP <- table(knn1_pred, test$default)[2, 1]\n",
    "FN <- table(knn1_pred, test$default)[1, 2]\n",
    "\n",
    "print(paste('Accuracy =', round(acc, 2)))\n",
    "print(paste('Precision =', round(TP / (TP + FP), 2)))\n",
    "print(paste('Sensitivity (TPR) =', round(TP / (TP + FN), 2)))\n",
    "print(paste('Specificity (TNR) =', round(TN / (TN + FP), 2)))\n",
    "\n",
    "# AUC\n",
    "pred_roc <- pROC::roc(knn1_pred, test$default)\n",
    "pred_auc <- pROC::auc(pred_roc)\n",
    "print(paste('AUC =', pred_auc))"
   ]
  },
  {
   "cell_type": "code",
   "execution_count": null,
   "id": "d4edc99e",
   "metadata": {},
   "outputs": [],
   "source": [
    "plot(pred_roc)"
   ]
  },
  {
   "cell_type": "code",
   "execution_count": 107,
   "id": "1d09e875",
   "metadata": {},
   "outputs": [
    {
     "name": "stderr",
     "output_type": "stream",
     "text": [
      "Resampling: cross-validation\n",
      "\n",
      "Measures:             auc       \n",
      "\n",
      "[Resample] iter 1:    0.7429919 \n",
      "\n",
      "[Resample] iter 2:    0.7299942 \n",
      "\n",
      "[Resample] iter 3:    0.7197051 \n",
      "\n",
      "[Resample] iter 4:    0.7259514 \n",
      "\n",
      "[Resample] iter 5:    0.7559006 \n",
      "\n",
      "[Resample] iter 6:    0.7177159 \n",
      "\n",
      "[Resample] iter 7:    0.7631937 \n",
      "\n",
      "[Resample] iter 8:    0.7465379 \n",
      "\n",
      "[Resample] iter 9:    0.7288255 \n",
      "\n",
      "[Resample] iter 10:   0.7398906 \n",
      "\n",
      "\n",
      "\n",
      "\n",
      "Aggregated Result: auc.test.mean=0.7370707\n",
      "\n",
      "\n",
      "\n",
      "\n"
     ]
    },
    {
     "data": {
      "text/plain": [
       "Resample Result\n",
       "Task: train\n",
       "Learner: classif.kknn\n",
       "Aggr perf: auc.test.mean=0.7370707\n",
       "Runtime: 4.61752"
      ]
     },
     "metadata": {},
     "output_type": "display_data"
    }
   ],
   "source": [
    "# Set up cross-validation\n",
    "rdesc = makeResampleDesc(\"CV\", iters=10)\n",
    "\n",
    "# Define the model\n",
    "lnr_knn <- makeLearner(\"classif.kknn\", predict.type=\"prob\", fix.factors.prediction=T, k=100)\n",
    "\n",
    "# Define the model\n",
    "task_knn <- makeClassifTask( data=train, target='default')\n",
    "\n",
    "# Run the k-fold CV\n",
    "resample(lnr_knn, task_knn, rdesc, measures=list(mlr::auc))"
   ]
  },
  {
   "cell_type": "markdown",
   "id": "1bfd7cbc",
   "metadata": {},
   "source": [
    "#### Decision Trees"
   ]
  },
  {
   "cell_type": "code",
   "execution_count": 108,
   "id": "b67eaa1d",
   "metadata": {},
   "outputs": [
    {
     "data": {
      "text/plain": [
       "\n",
       "Regression tree:\n",
       "tree(formula = default ~ ., data = train)\n",
       "Variables actually used in tree construction:\n",
       "[1] \"PAY_0_2\"   \"PAY_AMT1\"  \"BILL_AMT2\" \"PAY_6_2\"  \n",
       "Number of terminal nodes:  5 \n",
       "Residual mean deviance:  0.1452 = 2032 / 14000 \n",
       "Distribution of residuals:\n",
       "   Min. 1st Qu.  Median    Mean 3rd Qu.    Max. \n",
       "-0.6917 -0.1366 -0.1366  0.0000 -0.1366  0.8634 "
      ]
     },
     "metadata": {},
     "output_type": "display_data"
    }
   ],
   "source": [
    "\n",
    "\n",
    "tree_Mod=tree(default~.,train)\n",
    "summary(tree_Mod)\n"
   ]
  },
  {
   "cell_type": "code",
   "execution_count": 109,
   "id": "d1d76185",
   "metadata": {},
   "outputs": [
    {
     "data": {
      "image/png": "[encoded data removed]",
      "text/plain": [
       "plot without title"
      ]
     },
     "metadata": {
      "image/png": {
       "height": 420,
       "width": 420
      }
     },
     "output_type": "display_data"
    }
   ],
   "source": [
    "plot(tree_Mod)\n",
    "text(tree_Mod,pretty=0)"
   ]
  },
  {
   "cell_type": "code",
   "execution_count": 110,
   "id": "af278047",
   "metadata": {},
   "outputs": [
    {
     "data": {
      "text/plain": [
       "    \n",
       "pred     0     1\n",
       "   0 10489  2272\n",
       "   1   382   857"
      ]
     },
     "metadata": {},
     "output_type": "display_data"
    },
    {
     "name": "stdout",
     "output_type": "stream",
     "text": [
      "[1] \"Accuracy = 0.81\"\n",
      "[1] \"Precision = 0.69\"\n",
      "[1] \"Sensitivity (TPR) = 0.27\"\n",
      "[1] \"Specificity (TNR) = 0.96\"\n"
     ]
    },
    {
     "name": "stderr",
     "output_type": "stream",
     "text": [
      "Setting levels: control = 0, case = 1\n",
      "\n",
      "Setting direction: controls < cases\n",
      "\n"
     ]
    },
    {
     "name": "stdout",
     "output_type": "stream",
     "text": [
      "[1] \"AUC = 0.756822185534403\"\n"
     ]
    }
   ],
   "source": [
    "tree.pred=predict(tree_Mod,train)\n",
    "# Decision threshold = 0.50\n",
    "threshold <- 0.50\n",
    "pred <- rep(0, nrow(train))\n",
    "pred[tree.pred > threshold] <- 1\n",
    "\n",
    "# Evaluation\n",
    "table(pred, train$default)\n",
    "acc <- mean(pred == train$default)\n",
    "TP <- table(pred, train$default)[2, 2]\n",
    "TN <- table(pred, train$default)[1, 1]\n",
    "FP <- table(pred, train$default)[2, 1]\n",
    "FN <- table(pred, train$default)[1, 2]\n",
    "\n",
    "print(paste('Accuracy =', round(acc, 2)))\n",
    "print(paste('Precision =', round(TP / (TP + FP), 2)))\n",
    "print(paste('Sensitivity (TPR) =', round(TP / (TP + FN), 2)))\n",
    "print(paste('Specificity (TNR) =', round(TN / (TN + FP), 2)))\n",
    "\n",
    "# AUC\n",
    "pred_roc <- pROC::roc(pred, train$default)\n",
    "pred_auc <- pROC::auc(pred_roc)\n",
    "print(paste('AUC =', pred_auc))"
   ]
  },
  {
   "cell_type": "code",
   "execution_count": null,
   "id": "da3077c7",
   "metadata": {},
   "outputs": [],
   "source": [
    "plot(pred_roc)"
   ]
  },
  {
   "cell_type": "code",
   "execution_count": 111,
   "id": "136fd9e4",
   "metadata": {},
   "outputs": [
    {
     "data": {
      "text/plain": [
       "    \n",
       "pred    0    1\n",
       "   0 4537  944\n",
       "   1  178  341"
      ]
     },
     "metadata": {},
     "output_type": "display_data"
    },
    {
     "name": "stdout",
     "output_type": "stream",
     "text": [
      "[1] \"Accuracy = 0.81\"\n",
      "[1] \"Precision = 0.66\"\n",
      "[1] \"Sensitivity (TPR) = 0.27\"\n",
      "[1] \"Specificity (TNR) = 0.96\"\n"
     ]
    },
    {
     "name": "stderr",
     "output_type": "stream",
     "text": [
      "Setting levels: control = 0, case = 1\n",
      "\n",
      "Setting direction: controls < cases\n",
      "\n"
     ]
    },
    {
     "name": "stdout",
     "output_type": "stream",
     "text": [
      "[1] \"AUC = 0.742400705326757\"\n"
     ]
    }
   ],
   "source": [
    "tree.pred=predict(tree_Mod,test)\n",
    "# Decision threshold = 0.50\n",
    "threshold <- 0.50\n",
    "pred <- rep(0, nrow(test))\n",
    "pred[tree.pred > threshold] <- 1\n",
    "\n",
    "# Evaluation\n",
    "table(pred, test$default)\n",
    "acc <- mean(pred == test$default)\n",
    "TP <- table(pred, test$default)[2, 2]\n",
    "TN <- table(pred, test$default)[1, 1]\n",
    "FP <- table(pred, test$default)[2, 1]\n",
    "FN <- table(pred, test$default)[1, 2]\n",
    "\n",
    "print(paste('Accuracy =', round(acc, 2)))\n",
    "print(paste('Precision =', round(TP / (TP + FP), 2)))\n",
    "print(paste('Sensitivity (TPR) =', round(TP / (TP + FN), 2)))\n",
    "print(paste('Specificity (TNR) =', round(TN / (TN + FP), 2)))\n",
    "\n",
    "# AUC\n",
    "pred_roc <- pROC::roc(pred, test$default)\n",
    "pred_auc <- pROC::auc(pred_roc)\n",
    "print(paste('AUC =', pred_auc))"
   ]
  },
  {
   "cell_type": "code",
   "execution_count": null,
   "id": "bb6310eb",
   "metadata": {},
   "outputs": [],
   "source": [
    "plot(pred_roc)"
   ]
  },
  {
   "cell_type": "code",
   "execution_count": 112,
   "id": "1781574e",
   "metadata": {},
   "outputs": [
    {
     "name": "stderr",
     "output_type": "stream",
     "text": [
      "Resampling: cross-validation\n",
      "\n",
      "Measures:             auc       \n",
      "\n",
      "[Resample] iter 1:    0.5995152 \n",
      "\n",
      "[Resample] iter 2:    0.6208050 \n",
      "\n",
      "[Resample] iter 3:    0.6158792 \n",
      "\n",
      "[Resample] iter 4:    0.6240132 \n",
      "\n",
      "[Resample] iter 5:    0.6139374 \n",
      "\n",
      "[Resample] iter 6:    0.6184516 \n",
      "\n",
      "[Resample] iter 7:    0.6379273 \n",
      "\n",
      "[Resample] iter 8:    0.6229977 \n",
      "\n",
      "[Resample] iter 9:    0.6205497 \n",
      "\n",
      "[Resample] iter 10:   0.6188110 \n",
      "\n",
      "\n",
      "\n",
      "\n",
      "Aggregated Result: auc.test.mean=0.6192887\n",
      "\n",
      "\n",
      "\n",
      "\n"
     ]
    },
    {
     "data": {
      "text/plain": [
       "Resample Result\n",
       "Task: train\n",
       "Learner: classif.rpart\n",
       "Aggr perf: auc.test.mean=0.6192887\n",
       "Runtime: 0.881731"
      ]
     },
     "metadata": {},
     "output_type": "display_data"
    }
   ],
   "source": [
    "# Set up cross-validation\n",
    "rdesc = makeResampleDesc(\"CV\", iters=10)\n",
    "\n",
    "# Define the model\n",
    "lnr_tree <- makeLearner(\"classif.rpart\", predict.type=\"prob\", fix.factors.prediction=T)\n",
    "\n",
    "# Define the model\n",
    "task_tree <- makeClassifTask( data=train, target='default')\n",
    "\n",
    "# Run the k-fold CV\n",
    "resample(lnr_tree, task_tree, rdesc, measures=list(mlr::auc))"
   ]
  },
  {
   "cell_type": "markdown",
   "id": "1e2a07bb",
   "metadata": {},
   "source": [
    "#### 2.4 Random Forest"
   ]
  },
  {
   "cell_type": "code",
   "execution_count": 113,
   "id": "57fa7d37",
   "metadata": {},
   "outputs": [
    {
     "name": "stdout",
     "output_type": "stream",
     "text": [
      "'data.frame':\t14000 obs. of  10 variables:\n",
      " $ LIMIT_BAL: num  360000 90000 260000 110000 180000 50000 10000 70000 50000 40000 ...\n",
      " $ BILL_AMT2: int  6571 23153 7516 126322 -698 44413 7718 0 47703 28182 ...\n",
      " $ PAY_AMT4 : int  6487 736 1780 1840 2000 2000 1000 0 0 4000 ...\n",
      " $ PAY_0_2  : int  0 0 0 1 0 0 0 0 0 0 ...\n",
      " $ PAY_AMT6 : num  0 886 0 1648 2000 ...\n",
      " $ PAY_3_3  : int  0 0 0 0 0 0 0 0 0 0 ...\n",
      " $ PAY_AMT1 : num  7148 23153 7516 2437 0 ...\n",
      " $ PAY_6_2  : int  0 0 0 0 0 0 0 0 0 0 ...\n",
      " $ PAY_6_3  : int  0 0 0 0 0 0 0 0 0 1 ...\n",
      " $ default  : int  0 0 0 0 1 1 0 0 0 1 ...\n"
     ]
    }
   ],
   "source": [
    "str(train)"
   ]
  },
  {
   "cell_type": "code",
   "execution_count": 114,
   "id": "d30d026a",
   "metadata": {},
   "outputs": [
    {
     "name": "stdout",
     "output_type": "stream",
     "text": [
      "'data.frame':\t14000 obs. of  10 variables:\n",
      " $ LIMIT_BAL: num  360000 90000 260000 110000 180000 50000 10000 70000 50000 40000 ...\n",
      " $ BILL_AMT2: int  6571 23153 7516 126322 -698 44413 7718 0 47703 28182 ...\n",
      " $ PAY_AMT4 : int  6487 736 1780 1840 2000 2000 1000 0 0 4000 ...\n",
      " $ PAY_0_2  : int  0 0 0 1 0 0 0 0 0 0 ...\n",
      " $ PAY_AMT6 : num  0 886 0 1648 2000 ...\n",
      " $ PAY_3_3  : int  0 0 0 0 0 0 0 0 0 0 ...\n",
      " $ PAY_AMT1 : num  7148 23153 7516 2437 0 ...\n",
      " $ PAY_6_2  : int  0 0 0 0 0 0 0 0 0 0 ...\n",
      " $ PAY_6_3  : int  0 0 0 0 0 0 0 0 0 1 ...\n",
      " $ default  : Factor w/ 2 levels \"0\",\"1\": 1 1 1 1 2 2 1 1 1 2 ...\n"
     ]
    }
   ],
   "source": [
    "train_RF<-train\n",
    "train_RF$default<- as.factor(train_RF$default)\n",
    "str(train_RF)"
   ]
  },
  {
   "cell_type": "code",
   "execution_count": 115,
   "id": "ad76f7ca",
   "metadata": {},
   "outputs": [
    {
     "name": "stdout",
     "output_type": "stream",
     "text": [
      "'data.frame':\t6000 obs. of  10 variables:\n",
      " $ LIMIT_BAL: num  70000 250000 100000 330000 30000 200000 80000 200000 60000 150000 ...\n",
      " $ BILL_AMT2: int  23149 6729 75377 23240 18225 0 43709 30928 42381 137472 ...\n",
      " $ PAY_AMT4 : int  1000 0 2805 560 0 0 1610 15002 1800 2000 ...\n",
      " $ PAY_0_2  : int  0 0 0 0 0 0 0 0 0 0 ...\n",
      " $ PAY_AMT6 : num  2000 0 2680 201134 0 ...\n",
      " $ PAY_3_3  : int  0 0 0 0 0 0 0 0 0 0 ...\n",
      " $ PAY_AMT1 : num  1700 2000 0 25487 0 ...\n",
      " $ PAY_6_2  : int  0 0 0 0 0 0 0 1 1 0 ...\n",
      " $ PAY_6_3  : int  0 0 0 0 1 0 0 0 0 0 ...\n",
      " $ default  : Factor w/ 2 levels \"0\",\"1\": 1 1 1 1 1 2 1 1 2 1 ...\n"
     ]
    }
   ],
   "source": [
    "test_RF<-test\n",
    "test_RF$default<- as.factor(test_RF$default)\n",
    "str(test_RF)"
   ]
  },
  {
   "cell_type": "code",
   "execution_count": 116,
   "id": "47c8b997",
   "metadata": {},
   "outputs": [
    {
     "name": "stderr",
     "output_type": "stream",
     "text": [
      "Warning message in randomForest.default(m, y, ...):\n",
      "\"invalid mtry: reset to within valid range\"\n"
     ]
    },
    {
     "data": {
      "text/plain": [
       "                Length Class  Mode     \n",
       "call                4  -none- call     \n",
       "type                1  -none- character\n",
       "predicted       14000  factor numeric  \n",
       "err.rate         1500  -none- numeric  \n",
       "confusion           6  -none- numeric  \n",
       "votes           28000  matrix numeric  \n",
       "oob.times       14000  -none- numeric  \n",
       "classes             2  -none- character\n",
       "importance          9  -none- numeric  \n",
       "importanceSD        0  -none- NULL     \n",
       "localImportance     0  -none- NULL     \n",
       "proximity           0  -none- NULL     \n",
       "ntree               1  -none- numeric  \n",
       "mtry                1  -none- numeric  \n",
       "forest             14  -none- list     \n",
       "y               14000  factor numeric  \n",
       "test                0  -none- NULL     \n",
       "inbag               0  -none- NULL     \n",
       "terms               3  terms  call     "
      ]
     },
     "metadata": {},
     "output_type": "display_data"
    }
   ],
   "source": [
    "bag_Mod<-randomForest(default~.,data=train_RF,mtry=100)\n",
    "summary(bag_Mod)\n"
   ]
  },
  {
   "cell_type": "code",
   "execution_count": 117,
   "id": "c2511373",
   "metadata": {},
   "outputs": [
    {
     "data": {
      "text/html": [
       "<table class=\"dataframe\">\n",
       "<caption>A matrix: 9 × 1 of type dbl</caption>\n",
       "<thead>\n",
       "\t<tr><th></th><th scope=col>MeanDecreaseGini</th></tr>\n",
       "</thead>\n",
       "<tbody>\n",
       "\t<tr><th scope=row>LIMIT_BAL</th><td> 554.82332</td></tr>\n",
       "\t<tr><th scope=row>BILL_AMT2</th><td>1138.99436</td></tr>\n",
       "\t<tr><th scope=row>PAY_AMT4</th><td> 707.60855</td></tr>\n",
       "\t<tr><th scope=row>PAY_0_2</th><td> 596.99588</td></tr>\n",
       "\t<tr><th scope=row>PAY_AMT6</th><td> 709.90110</td></tr>\n",
       "\t<tr><th scope=row>PAY_3_3</th><td>  21.51062</td></tr>\n",
       "\t<tr><th scope=row>PAY_AMT1</th><td> 782.27037</td></tr>\n",
       "\t<tr><th scope=row>PAY_6_2</th><td>  87.18764</td></tr>\n",
       "\t<tr><th scope=row>PAY_6_3</th><td>  19.05113</td></tr>\n",
       "</tbody>\n",
       "</table>\n"
      ],
      "text/latex": [
       "A matrix: 9 × 1 of type dbl\n",
       "\\begin{tabular}{r|l}\n",
       "  & MeanDecreaseGini\\\\\n",
       "\\hline\n",
       "\tLIMIT\\_BAL &  554.82332\\\\\n",
       "\tBILL\\_AMT2 & 1138.99436\\\\\n",
       "\tPAY\\_AMT4 &  707.60855\\\\\n",
       "\tPAY\\_0\\_2 &  596.99588\\\\\n",
       "\tPAY\\_AMT6 &  709.90110\\\\\n",
       "\tPAY\\_3\\_3 &   21.51062\\\\\n",
       "\tPAY\\_AMT1 &  782.27037\\\\\n",
       "\tPAY\\_6\\_2 &   87.18764\\\\\n",
       "\tPAY\\_6\\_3 &   19.05113\\\\\n",
       "\\end{tabular}\n"
      ],
      "text/markdown": [
       "\n",
       "A matrix: 9 × 1 of type dbl\n",
       "\n",
       "| <!--/--> | MeanDecreaseGini |\n",
       "|---|---|\n",
       "| LIMIT_BAL |  554.82332 |\n",
       "| BILL_AMT2 | 1138.99436 |\n",
       "| PAY_AMT4 |  707.60855 |\n",
       "| PAY_0_2 |  596.99588 |\n",
       "| PAY_AMT6 |  709.90110 |\n",
       "| PAY_3_3 |   21.51062 |\n",
       "| PAY_AMT1 |  782.27037 |\n",
       "| PAY_6_2 |   87.18764 |\n",
       "| PAY_6_3 |   19.05113 |\n",
       "\n"
      ],
      "text/plain": [
       "          MeanDecreaseGini\n",
       "LIMIT_BAL  554.82332      \n",
       "BILL_AMT2 1138.99436      \n",
       "PAY_AMT4   707.60855      \n",
       "PAY_0_2    596.99588      \n",
       "PAY_AMT6   709.90110      \n",
       "PAY_3_3     21.51062      \n",
       "PAY_AMT1   782.27037      \n",
       "PAY_6_2     87.18764      \n",
       "PAY_6_3     19.05113      "
      ]
     },
     "metadata": {},
     "output_type": "display_data"
    },
    {
     "data": {
      "image/png": "[encoded data removed]",
      "text/plain": [
       "Plot with title \"bag_Mod\""
      ]
     },
     "metadata": {
      "image/png": {
       "height": 420,
       "width": 420
      }
     },
     "output_type": "display_data"
    }
   ],
   "source": [
    "importance(bag_Mod)\n",
    "varImpPlot(bag_Mod)"
   ]
  },
  {
   "cell_type": "code",
   "execution_count": 118,
   "id": "d7cf679d",
   "metadata": {},
   "outputs": [
    {
     "data": {
      "text/plain": [
       "        \n",
       "bag.pred     0     1\n",
       "       0 10855   185\n",
       "       1    16  2944"
      ]
     },
     "metadata": {},
     "output_type": "display_data"
    },
    {
     "name": "stdout",
     "output_type": "stream",
     "text": [
      "[1] \"Accuracy = 0.99\"\n",
      "[1] \"Precision = 0.99\"\n",
      "[1] \"Sensitivity (TPR) = 0.94\"\n",
      "[1] \"Specificity (TNR) = 1\"\n"
     ]
    },
    {
     "name": "stderr",
     "output_type": "stream",
     "text": [
      "Setting levels: control = 0, case = 1\n",
      "\n",
      "Setting direction: controls < cases\n",
      "\n"
     ]
    },
    {
     "name": "stdout",
     "output_type": "stream",
     "text": [
      "[1] \"AUC = 0.988918674108891\"\n"
     ]
    }
   ],
   "source": [
    "bag.pred = predict(bag_Mod,newdata=train_RF)\n",
    "# Evaluation\n",
    "table(bag.pred, train$default)\n",
    "acc <- mean(bag.pred == train$default)\n",
    "TP <- table(bag.pred, train$default)[2, 2]\n",
    "TN <- table(bag.pred, train$default)[1, 1]\n",
    "FP <- table(bag.pred, train$default)[2, 1]\n",
    "FN <- table(bag.pred, train$default)[1, 2]\n",
    "\n",
    "print(paste('Accuracy =', round(acc, 2)))\n",
    "print(paste('Precision =', round(TP / (TP + FP), 2)))\n",
    "print(paste('Sensitivity (TPR) =', round(TP / (TP + FN), 2)))\n",
    "print(paste('Specificity (TNR) =', round(TN / (TN + FP), 2)))\n",
    "\n",
    "# AUC\n",
    "pred_roc <- pROC::roc(bag.pred, train$default)\n",
    "pred_auc <- pROC::auc(pred_roc)\n",
    "print(paste('AUC =', pred_auc))"
   ]
  },
  {
   "cell_type": "code",
   "execution_count": null,
   "id": "0c2ef7dd",
   "metadata": {},
   "outputs": [],
   "source": [
    "plot(pred_roc)"
   ]
  },
  {
   "cell_type": "code",
   "execution_count": 119,
   "id": "0f4d5307",
   "metadata": {},
   "outputs": [
    {
     "data": {
      "text/plain": [
       "        \n",
       "bag.pred    0    1\n",
       "       0 4402  866\n",
       "       1  313  419"
      ]
     },
     "metadata": {},
     "output_type": "display_data"
    },
    {
     "name": "stdout",
     "output_type": "stream",
     "text": [
      "[1] \"Accuracy = 0.8\"\n",
      "[1] \"Precision = 0.57\"\n",
      "[1] \"Sensitivity (TPR) = 0.33\"\n",
      "[1] \"Specificity (TNR) = 0.93\"\n"
     ]
    },
    {
     "name": "stderr",
     "output_type": "stream",
     "text": [
      "Setting levels: control = 0, case = 1\n",
      "\n",
      "Setting direction: controls < cases\n",
      "\n"
     ]
    },
    {
     "name": "stdout",
     "output_type": "stream",
     "text": [
      "[1] \"AUC = 0.704007804623026\"\n"
     ]
    }
   ],
   "source": [
    "bag.pred = predict(bag_Mod,newdata=test_RF)\n",
    "# Evaluation\n",
    "table(bag.pred, test$default)\n",
    "acc <- mean(bag.pred == test$default)\n",
    "TP <- table(bag.pred, test$default)[2, 2]\n",
    "TN <- table(bag.pred, test$default)[1, 1]\n",
    "FP <- table(bag.pred, test$default)[2, 1]\n",
    "FN <- table(bag.pred, test$default)[1, 2]\n",
    "\n",
    "print(paste('Accuracy =', round(acc, 2)))\n",
    "print(paste('Precision =', round(TP / (TP + FP), 2)))\n",
    "print(paste('Sensitivity (TPR) =', round(TP / (TP + FN), 2)))\n",
    "print(paste('Specificity (TNR) =', round(TN / (TN + FP), 2)))\n",
    "\n",
    "# AUC\n",
    "pred_roc <- pROC::roc(bag.pred, test$default)\n",
    "pred_auc <- pROC::auc(pred_roc)\n",
    "print(paste('AUC =', pred_auc))"
   ]
  },
  {
   "cell_type": "code",
   "execution_count": null,
   "id": "a30e6087",
   "metadata": {},
   "outputs": [],
   "source": [
    "plot(pred_roc)"
   ]
  },
  {
   "cell_type": "code",
   "execution_count": 120,
   "id": "65e6f518",
   "metadata": {},
   "outputs": [
    {
     "name": "stderr",
     "output_type": "stream",
     "text": [
      "Resampling: cross-validation\n",
      "\n",
      "Measures:             auc       \n",
      "\n",
      "[Resample] iter 1:    0.7347823 \n",
      "\n",
      "[Resample] iter 2:    0.7137018 \n",
      "\n",
      "[Resample] iter 3:    0.6940614 \n",
      "\n",
      "[Resample] iter 4:    0.7045782 \n",
      "\n",
      "[Resample] iter 5:    0.7194642 \n",
      "\n",
      "[Resample] iter 6:    0.7173322 \n",
      "\n",
      "[Resample] iter 7:    0.6914246 \n",
      "\n",
      "[Resample] iter 8:    0.7131931 \n",
      "\n",
      "[Resample] iter 9:    0.6973668 \n",
      "\n",
      "[Resample] iter 10:   0.7391987 \n",
      "\n",
      "\n",
      "\n",
      "\n",
      "Aggregated Result: auc.test.mean=0.7125103\n",
      "\n",
      "\n",
      "\n",
      "\n"
     ]
    },
    {
     "data": {
      "text/plain": [
       "Resample Result\n",
       "Task: train_RF\n",
       "Learner: classif.randomForest\n",
       "Aggr perf: auc.test.mean=0.7125103\n",
       "Runtime: 100.584"
      ]
     },
     "metadata": {},
     "output_type": "display_data"
    }
   ],
   "source": [
    "# Set up cross-validation\n",
    "rdesc = makeResampleDesc(\"CV\", iters=10)\n",
    "\n",
    "# Define the model\n",
    "lnr_logreg <- makeLearner(\"classif.randomForest\", predict.type=\"prob\", fix.factors.prediction=T)\n",
    "\n",
    "# Define the model\n",
    "task_logreg <- makeClassifTask( data=train_RF, target='default')\n",
    "\n",
    "# Run the k-fold CV\n",
    "resample(lnr_logreg, task_logreg, rdesc, measures=list(mlr::auc))"
   ]
  },
  {
   "cell_type": "markdown",
   "id": "2329908c",
   "metadata": {},
   "source": [
    "#### 2.5 SVM"
   ]
  },
  {
   "cell_type": "code",
   "execution_count": 121,
   "id": "826453d6",
   "metadata": {},
   "outputs": [
    {
     "data": {
      "text/plain": [
       "\n",
       "Call:\n",
       "svm(formula = default ~ ., data = train_RF, type = \"C-classification\", \n",
       "    kernel = \"linear\")\n",
       "\n",
       "\n",
       "Parameters:\n",
       "   SVM-Type:  C-classification \n",
       " SVM-Kernel:  linear \n",
       "       cost:  1 \n",
       "\n",
       "Number of Support Vectors:  5420\n",
       "\n",
       " ( 2728 2692 )\n",
       "\n",
       "\n",
       "Number of Classes:  2 \n",
       "\n",
       "Levels: \n",
       " 0 1\n",
       "\n",
       "\n"
      ]
     },
     "metadata": {},
     "output_type": "display_data"
    }
   ],
   "source": [
    "svm_Mod<-svm(default~., data=train_RF, type = 'C-classification', kernel = 'linear')\n",
    "summary(svm_Mod)\n"
   ]
  },
  {
   "cell_type": "code",
   "execution_count": 122,
   "id": "ec78a98f",
   "metadata": {},
   "outputs": [
    {
     "data": {
      "text/plain": [
       "        \n",
       "svm.pred     0     1\n",
       "       0 10465  2237\n",
       "       1   406   892"
      ]
     },
     "metadata": {},
     "output_type": "display_data"
    },
    {
     "name": "stdout",
     "output_type": "stream",
     "text": [
      "[1] \"Accuracy = 0.81\"\n",
      "[1] \"Precision = 0.69\"\n",
      "[1] \"Sensitivity (TPR) = 0.29\"\n",
      "[1] \"Specificity (TNR) = 0.96\"\n"
     ]
    },
    {
     "name": "stderr",
     "output_type": "stream",
     "text": [
      "Setting levels: control = 0, case = 1\n",
      "\n",
      "Setting direction: controls < cases\n",
      "\n"
     ]
    },
    {
     "name": "stdout",
     "output_type": "stream",
     "text": [
      "[1] \"AUC = 0.755548548097566\"\n"
     ]
    }
   ],
   "source": [
    "svm.pred=predict(svm_Mod,train_RF)\n",
    "# Evaluation\n",
    "table(svm.pred, train$default)\n",
    "acc <- mean(svm.pred == train$default)\n",
    "TP <- table(svm.pred, train$default)[2, 2]\n",
    "TN <- table(svm.pred, train$default)[1, 1]\n",
    "FP <- table(svm.pred, train$default)[2, 1]\n",
    "FN <- table(svm.pred, train$default)[1, 2]\n",
    "\n",
    "print(paste('Accuracy =', round(acc, 2)))\n",
    "print(paste('Precision =', round(TP / (TP + FP), 2)))\n",
    "print(paste('Sensitivity (TPR) =', round(TP / (TP + FN), 2)))\n",
    "print(paste('Specificity (TNR) =', round(TN / (TN + FP), 2)))\n",
    "\n",
    "# AUC\n",
    "pred_roc <- pROC::roc(svm.pred, train$default)\n",
    "pred_auc <- pROC::auc(pred_roc)\n",
    "print(paste('AUC =', pred_auc))"
   ]
  },
  {
   "cell_type": "code",
   "execution_count": 123,
   "id": "0d23bb07",
   "metadata": {},
   "outputs": [
    {
     "data": {
      "image/png": "[encoded data removed]",
      "text/plain": [
       "plot without title"
      ]
     },
     "metadata": {
      "image/png": {
       "height": 420,
       "width": 420
      }
     },
     "output_type": "display_data"
    }
   ],
   "source": [
    "plot(pred_roc)"
   ]
  },
  {
   "cell_type": "code",
   "execution_count": 124,
   "id": "5f21e5b5",
   "metadata": {},
   "outputs": [
    {
     "data": {
      "text/plain": [
       "        \n",
       "svm.pred    0    1\n",
       "       0 4527  932\n",
       "       1  188  353"
      ]
     },
     "metadata": {},
     "output_type": "display_data"
    },
    {
     "name": "stdout",
     "output_type": "stream",
     "text": [
      "[1] \"Accuracy = 0.81\"\n",
      "[1] \"Precision = 0.65\"\n",
      "[1] \"Sensitivity (TPR) = 0.27\"\n",
      "[1] \"Specificity (TNR) = 0.96\"\n"
     ]
    },
    {
     "name": "stderr",
     "output_type": "stream",
     "text": [
      "Setting levels: control = 0, case = 1\n",
      "\n",
      "Setting direction: controls < cases\n",
      "\n"
     ]
    },
    {
     "name": "stdout",
     "output_type": "stream",
     "text": [
      "[1] \"AUC = 0.740884069753386\"\n"
     ]
    }
   ],
   "source": [
    "svm.pred=predict(svm_Mod,test_RF)\n",
    "# Evaluation\n",
    "table(svm.pred, test$default)\n",
    "acc <- mean(svm.pred == test$default)\n",
    "TP <- table(svm.pred, test$default)[2, 2]\n",
    "TN <- table(svm.pred, test$default)[1, 1]\n",
    "FP <- table(svm.pred, test$default)[2, 1]\n",
    "FN <- table(svm.pred, test$default)[1, 2]\n",
    "\n",
    "print(paste('Accuracy =', round(acc, 2)))\n",
    "print(paste('Precision =', round(TP / (TP + FP), 2)))\n",
    "print(paste('Sensitivity (TPR) =', round(TP / (TP + FN), 2)))\n",
    "print(paste('Specificity (TNR) =', round(TN / (TN + FP), 2)))\n",
    "\n",
    "# AUC\n",
    "pred_roc <- pROC::roc(svm.pred, test$default)\n",
    "pred_auc <- pROC::auc(pred_roc)\n",
    "print(paste('AUC =', pred_auc))"
   ]
  },
  {
   "cell_type": "code",
   "execution_count": 125,
   "id": "30cfe5fa",
   "metadata": {},
   "outputs": [
    {
     "data": {
      "image/png": "[encoded data removed]",
      "text/plain": [
       "plot without title"
      ]
     },
     "metadata": {
      "image/png": {
       "height": 420,
       "width": 420
      }
     },
     "output_type": "display_data"
    }
   ],
   "source": [
    "plot(pred_roc)"
   ]
  },
  {
   "cell_type": "code",
   "execution_count": 126,
   "id": "6696d97e",
   "metadata": {},
   "outputs": [
    {
     "name": "stderr",
     "output_type": "stream",
     "text": [
      "Resampling: cross-validation\n",
      "\n",
      "Measures:             auc       \n",
      "\n",
      "[Resample] iter 1:    0.7091860 \n",
      "\n",
      "[Resample] iter 2:    0.6896742 \n",
      "\n",
      "[Resample] iter 3:    0.6859896 \n",
      "\n",
      "[Resample] iter 4:    0.6780298 \n",
      "\n",
      "[Resample] iter 5:    0.6702311 \n",
      "\n",
      "[Resample] iter 6:    0.7105226 \n",
      "\n",
      "[Resample] iter 7:    0.7115479 \n",
      "\n",
      "[Resample] iter 8:    0.6628339 \n",
      "\n",
      "[Resample] iter 9:    0.6844920 \n",
      "\n",
      "[Resample] iter 10:   0.6421174 \n",
      "\n",
      "\n",
      "\n",
      "\n",
      "Aggregated Result: auc.test.mean=0.6844625\n",
      "\n",
      "\n",
      "\n",
      "\n"
     ]
    },
    {
     "data": {
      "text/plain": [
       "Resample Result\n",
       "Task: train_RF\n",
       "Learner: classif.svm\n",
       "Aggr perf: auc.test.mean=0.6844625\n",
       "Runtime: 815.873"
      ]
     },
     "metadata": {},
     "output_type": "display_data"
    }
   ],
   "source": [
    "# Set up cross-validation\n",
    "rdesc = makeResampleDesc(\"CV\", iters=10)\n",
    "\n",
    "# Define the model\n",
    "lnr_logreg <- makeLearner(\"classif.svm\", predict.type=\"prob\", fix.factors.prediction=T)\n",
    "\n",
    "# Define the model\n",
    "task_logreg <- makeClassifTask( data=train_RF, target='default')\n",
    "\n",
    "# Run the k-fold CV\n",
    "resample(lnr_logreg, task_logreg, rdesc, measures=list(mlr::auc))"
   ]
  },
  {
   "cell_type": "code",
   "execution_count": null,
   "id": "6d1118d9",
   "metadata": {},
   "outputs": [],
   "source": []
  }
 ],
 "metadata": {
  "kernelspec": {
   "display_name": "R",
   "language": "R",
   "name": "ir"
  },
  "language_info": {
   "codemirror_mode": "r",
   "file_extension": ".r",
   "mimetype": "text/x-r-source",
   "name": "R",
   "pygments_lexer": "r",
   "version": "4.0.5"
  }
 },
 "nbformat": 4,
 "nbformat_minor": 5
}
