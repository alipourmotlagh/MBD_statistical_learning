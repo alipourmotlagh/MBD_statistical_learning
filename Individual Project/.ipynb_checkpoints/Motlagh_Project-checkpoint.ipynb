{
 "cells": [
  {
   "cell_type": "markdown",
   "id": "6016ae22",
   "metadata": {},
   "source": [
    "<h1 style=\"text-align:center;color:#131313\"> Individual Assignment</h1>\n",
    "<h2>Description</h2>\n",
    "<p>here I</p>\n",
    "<author>Mohammad Hadi adlipour Motlagh</author>"
   ]
  },
  {
   "cell_type": "markdown",
   "id": "5ddae1fd",
   "metadata": {},
   "source": [
    "<h2>Data Exploration</h2>"
   ]
  },
  {
   "cell_type": "code",
   "execution_count": null,
   "id": "7a870002",
   "metadata": {},
   "outputs": [],
   "source": []
  }
 ],
 "metadata": {
  "kernelspec": {
   "display_name": "R",
   "language": "R",
   "name": "ir"
  },
  "language_info": {
   "codemirror_mode": "r",
   "file_extension": ".r",
   "mimetype": "text/x-r-source",
   "name": "R",
   "pygments_lexer": "r",
   "version": "4.0.5"
  }
 },
 "nbformat": 4,
 "nbformat_minor": 5
}
