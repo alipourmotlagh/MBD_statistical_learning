{
 "cells": [
  {
   "cell_type": "code",
   "execution_count": 31,
   "id": "e74e560e",
   "metadata": {},
   "outputs": [],
   "source": [
    "library(ggplot2)\n",
    "library(ISLR)\n",
    "library(tree)\n",
    "library(gbm)\n",
    "library(glmnet)"
   ]
  },
  {
   "cell_type": "code",
   "execution_count": 32,
   "id": "fbb89b3e",
   "metadata": {},
   "outputs": [],
   "source": [
    "#install.packages('gbm')"
   ]
  },
  {
   "cell_type": "markdown",
   "id": "87f38a94",
   "metadata": {},
   "source": [
    "## Q3"
   ]
  },
  {
   "cell_type": "code",
   "execution_count": 22,
   "id": "68c036d4",
   "metadata": {},
   "outputs": [
    {
     "name": "stderr",
     "output_type": "stream",
     "text": [
      "Warning message:\n",
      "\"Ignoring unknown aesthetics: lable\"\n",
      "Warning message:\n",
      "\"Removed 2 rows containing missing values (geom_point).\"\n"
     ]
    },
    {
     "data": {
      "image/png": "[encoded data removed]",
      "text/plain": [
       "plot without title"
      ]
     },
     "metadata": {
      "image/png": {
       "height": 420,
       "width": 420
      }
     },
     "output_type": "display_data"
    }
   ],
   "source": [
    "scale <- seq(0, 1, 0.001)\n",
    "g_index <- 2 * scale * (1 - scale)\n",
    "error <- 1 - pmax(scale, 1 - scale)\n",
    "entropy <- - (scale * log(scale) + (1 - scale) * log(1 - scale))\n",
    "\n",
    "\n",
    "data<-data.frame(scale,g_index,error,entropy)\n",
    "ggplot(data,aes(x=scale))+\n",
    "geom_point(aes(y=g_index,color = \"darkred\"))+\n",
    "geom_point(aes(y=error,color='green',lable='Error'))+\n",
    "geom_point(aes(y=entropy,color='blue'))"
   ]
  },
  {
   "cell_type": "markdown",
   "id": "35013e9f",
   "metadata": {},
   "source": [
    "## Q5"
   ]
  },
  {
   "cell_type": "code",
   "execution_count": 26,
   "id": "6eb9753b",
   "metadata": {},
   "outputs": [
    {
     "name": "stdout",
     "output_type": "stream",
     "text": [
      "[1] \"majority is Red\"\n"
     ]
    }
   ],
   "source": [
    "p_red=c(0.1,0.15,0.2,0.2,0.55,0.6,0.6,0.65,0.7,0.75)\n",
    "red_pop<-0\n",
    "green_pop<-0\n",
    "for (i in p_red){\n",
    "    if (i>=0.5){\n",
    "        red_pop=red_pop+1\n",
    "    }else{\n",
    "        green_pop=green_pop+1\n",
    "    }\n",
    "}\n",
    "if(red_pop>green_pop){\n",
    "    print('majority is Red')\n",
    "}else{\n",
    "    print('majority is green')\n",
    "}"
   ]
  },
  {
   "cell_type": "code",
   "execution_count": 27,
   "id": "1e38caa6",
   "metadata": {},
   "outputs": [
    {
     "name": "stdout",
     "output_type": "stream",
     "text": [
      "[1] \"majority is green\"\n"
     ]
    }
   ],
   "source": [
    "avg=mean(p_red)\n",
    "if(avg>=0.5){\n",
    "    print('majority is Red')\n",
    "}else{\n",
    "    print('majority is green')\n",
    "}"
   ]
  },
  {
   "cell_type": "markdown",
   "id": "e7deea1a",
   "metadata": {},
   "source": [
    "## Q8 "
   ]
  },
  {
   "cell_type": "code",
   "execution_count": 33,
   "id": "4033e32a",
   "metadata": {},
   "outputs": [],
   "source": [
    "set.seed(613)\n",
    "index <- sample(1:nrow(Carseats), nrow(Carseats)*2 / 3)\n",
    "train <- Carseats[index, ]\n",
    "test <- Carseats[-index, ]"
   ]
  },
  {
   "cell_type": "code",
   "execution_count": null,
   "id": "b0383227",
   "metadata": {},
   "outputs": [],
   "source": []
  },
  {
   "cell_type": "code",
   "execution_count": null,
   "id": "3d2d0811",
   "metadata": {},
   "outputs": [],
   "source": []
  },
  {
   "cell_type": "code",
   "execution_count": null,
   "id": "9e5a0ff3",
   "metadata": {},
   "outputs": [],
   "source": []
  },
  {
   "cell_type": "code",
   "execution_count": null,
   "id": "64ace5d6",
   "metadata": {},
   "outputs": [],
   "source": []
  },
  {
   "cell_type": "code",
   "execution_count": null,
   "id": "a8085c6f",
   "metadata": {},
   "outputs": [],
   "source": []
  },
  {
   "cell_type": "code",
   "execution_count": null,
   "id": "d6d8050c",
   "metadata": {},
   "outputs": [],
   "source": []
  },
  {
   "cell_type": "code",
   "execution_count": null,
   "id": "fc9b1360",
   "metadata": {},
   "outputs": [],
   "source": []
  },
  {
   "cell_type": "markdown",
   "id": "8aa91c08",
   "metadata": {},
   "source": [
    "##  Q9"
   ]
  },
  {
   "cell_type": "code",
   "execution_count": null,
   "id": "ba276ce4",
   "metadata": {},
   "outputs": [],
   "source": []
  },
  {
   "cell_type": "code",
   "execution_count": null,
   "id": "3ebb48ca",
   "metadata": {},
   "outputs": [],
   "source": []
  },
  {
   "cell_type": "code",
   "execution_count": null,
   "id": "7ada51f1",
   "metadata": {},
   "outputs": [],
   "source": []
  },
  {
   "cell_type": "code",
   "execution_count": null,
   "id": "97dc9efc",
   "metadata": {},
   "outputs": [],
   "source": []
  },
  {
   "cell_type": "code",
   "execution_count": null,
   "id": "e2ab9bde",
   "metadata": {},
   "outputs": [],
   "source": []
  },
  {
   "cell_type": "code",
   "execution_count": null,
   "id": "993a8509",
   "metadata": {},
   "outputs": [],
   "source": []
  },
  {
   "cell_type": "code",
   "execution_count": null,
   "id": "6d628118",
   "metadata": {},
   "outputs": [],
   "source": []
  },
  {
   "cell_type": "markdown",
   "id": "33114cbd",
   "metadata": {},
   "source": [
    "## Q10"
   ]
  },
  {
   "cell_type": "code",
   "execution_count": null,
   "id": "f413a50d",
   "metadata": {},
   "outputs": [],
   "source": []
  },
  {
   "cell_type": "code",
   "execution_count": null,
   "id": "58d9d087",
   "metadata": {},
   "outputs": [],
   "source": []
  },
  {
   "cell_type": "code",
   "execution_count": null,
   "id": "3071b19a",
   "metadata": {},
   "outputs": [],
   "source": []
  },
  {
   "cell_type": "code",
   "execution_count": null,
   "id": "9ff982e4",
   "metadata": {},
   "outputs": [],
   "source": []
  },
  {
   "cell_type": "code",
   "execution_count": null,
   "id": "8684bfa5",
   "metadata": {},
   "outputs": [],
   "source": []
  },
  {
   "cell_type": "code",
   "execution_count": null,
   "id": "3c7b79b5",
   "metadata": {},
   "outputs": [],
   "source": []
  },
  {
   "cell_type": "code",
   "execution_count": null,
   "id": "8dc93088",
   "metadata": {},
   "outputs": [],
   "source": []
  },
  {
   "cell_type": "code",
   "execution_count": null,
   "id": "39627ac7",
   "metadata": {},
   "outputs": [],
   "source": []
  }
 ],
 "metadata": {
  "kernelspec": {
   "display_name": "R",
   "language": "R",
   "name": "ir"
  },
  "language_info": {
   "codemirror_mode": "r",
   "file_extension": ".r",
   "mimetype": "text/x-r-source",
   "name": "R",
   "pygments_lexer": "r",
   "version": "4.0.5"
  }
 },
 "nbformat": 4,
 "nbformat_minor": 5
}
